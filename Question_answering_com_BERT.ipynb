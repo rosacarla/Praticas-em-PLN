{
  "nbformat": 4,
  "nbformat_minor": 0,
  "metadata": {
    "colab": {
      "provenance": [],
      "include_colab_link": true
    },
    "kernelspec": {
      "name": "python3",
      "display_name": "Python 3"
    },
    "language_info": {
      "name": "python"
    }
  },
  "cells": [
    {
      "cell_type": "markdown",
      "metadata": {
        "id": "view-in-github",
        "colab_type": "text"
      },
      "source": [
        "<a href=\"https://colab.research.google.com/github/rosacarla/Praticas-em-PLN/blob/main/Question_answering_com_BERT.ipynb\" target=\"_parent\"><img src=\"https://colab.research.google.com/assets/colab-badge.svg\" alt=\"Open In Colab\"/></a>"
      ]
    },
    {
      "cell_type": "markdown",
      "metadata": {
        "id": "vgBIf5iVvwOT"
      },
      "source": [
        "# Question-answering com o BERT\n",
        "## Tecnólogo em Inteligência Artificial Aplicada - Agentes Conversacionais\n",
        "Neste notebook iremos construir um agente de diálogo apoiado por modelos de linguagem avançados, baseados na arquitetura Transformers."
      ]
    },
    {
      "cell_type": "markdown",
      "metadata": {
        "id": "teSWS7PKxLgt"
      },
      "source": [
        "### Qual o contexto de nosso agente?\n",
        "\n",
        "Iremos desenvolver um agente de diálogo que responda perguntas do usuário sobre determinado tema, utilizando-se de uma API de acesso aos dados da Wikipedia e o um modelo de linguagem baseado em BERT."
      ]
    },
    {
      "cell_type": "markdown",
      "metadata": {
        "id": "ub_yjcgG0OaN"
      },
      "source": [
        "### Construindo o agente de diálogo\n",
        "Nosso agente vai operar da seguinte maneira:\n",
        "\n",
        "1.   Recebe entrada do usuário\n",
        "2.   Busca temas associados à paginas na Wikipedia\n",
        "3.   Obtém conteúdo associado ao tema\n",
        "4.   Recebe pergunta sobre o tema\n",
        "5.   Utiliza modelo BERT para procurar por resposta no texto da Wikipedia"
      ]
    },
    {
      "cell_type": "markdown",
      "metadata": {
        "id": "N7i3WYodNdug"
      },
      "source": [
        "#### Instalando dependências"
      ]
    },
    {
      "cell_type": "code",
      "metadata": {
        "id": "UmezZ6GawkpM"
      },
      "source": [
        "# É preciso instalar a biblioteca da arquitetura Transformers no Google Colab - e em seu ambiente também caso você execute localmente\n",
        "!pip install transformers"
      ],
      "execution_count": null,
      "outputs": []
    },
    {
      "cell_type": "code",
      "metadata": {
        "id": "PEsQAMvM4j7c",
        "colab": {
          "base_uri": "https://localhost:8080/"
        },
        "outputId": "408d0728-714b-4ad8-ba8f-8b36112aa998"
      },
      "source": [
        "# É preciso instalar a API de acesso à Wikipedia para facilitar nossas buscas\n",
        "!pip install wikipedia"
      ],
      "execution_count": 2,
      "outputs": [
        {
          "output_type": "stream",
          "name": "stdout",
          "text": [
            "Collecting wikipedia\n",
            "  Downloading wikipedia-1.4.0.tar.gz (27 kB)\n",
            "  Preparing metadata (setup.py) ... \u001b[?25l\u001b[?25hdone\n",
            "Requirement already satisfied: beautifulsoup4 in /usr/local/lib/python3.11/dist-packages (from wikipedia) (4.13.4)\n",
            "Requirement already satisfied: requests<3.0.0,>=2.0.0 in /usr/local/lib/python3.11/dist-packages (from wikipedia) (2.32.3)\n",
            "Requirement already satisfied: charset-normalizer<4,>=2 in /usr/local/lib/python3.11/dist-packages (from requests<3.0.0,>=2.0.0->wikipedia) (3.4.2)\n",
            "Requirement already satisfied: idna<4,>=2.5 in /usr/local/lib/python3.11/dist-packages (from requests<3.0.0,>=2.0.0->wikipedia) (3.10)\n",
            "Requirement already satisfied: urllib3<3,>=1.21.1 in /usr/local/lib/python3.11/dist-packages (from requests<3.0.0,>=2.0.0->wikipedia) (2.4.0)\n",
            "Requirement already satisfied: certifi>=2017.4.17 in /usr/local/lib/python3.11/dist-packages (from requests<3.0.0,>=2.0.0->wikipedia) (2025.4.26)\n",
            "Requirement already satisfied: soupsieve>1.2 in /usr/local/lib/python3.11/dist-packages (from beautifulsoup4->wikipedia) (2.7)\n",
            "Requirement already satisfied: typing-extensions>=4.0.0 in /usr/local/lib/python3.11/dist-packages (from beautifulsoup4->wikipedia) (4.13.2)\n",
            "Building wheels for collected packages: wikipedia\n",
            "  Building wheel for wikipedia (setup.py) ... \u001b[?25l\u001b[?25hdone\n",
            "  Created wheel for wikipedia: filename=wikipedia-1.4.0-py3-none-any.whl size=11678 sha256=5f9a151df6459d27859b16c04542c03145d73a90c9391da403e451b6de6e6f3d\n",
            "  Stored in directory: /root/.cache/pip/wheels/8f/ab/cb/45ccc40522d3a1c41e1d2ad53b8f33a62f394011ec38cd71c6\n",
            "Successfully built wikipedia\n",
            "Installing collected packages: wikipedia\n",
            "Successfully installed wikipedia-1.4.0\n"
          ]
        }
      ]
    },
    {
      "cell_type": "markdown",
      "metadata": {
        "id": "sBCT5xER0QwL"
      },
      "source": [
        "#### Importando as bibliotecas"
      ]
    },
    {
      "cell_type": "code",
      "metadata": {
        "id": "74SM-3Mdvm2v"
      },
      "source": [
        "import transformers\n",
        "from transformers import pipeline\n",
        "import wikipedia\n",
        "# Define idioma padrão\n",
        "wikipedia.set_lang(\"pt\")"
      ],
      "execution_count": 3,
      "outputs": []
    },
    {
      "cell_type": "markdown",
      "metadata": {
        "id": "0GfbFnuq0fLT"
      },
      "source": [
        "#### Carrega modelo de question-answering do BERT para Português\n",
        "O modelo está disponível no [site da HuggingFace](https://huggingface.co/pierreguillou/bert-base-cased-squad-v1.1-portuguese), empresa mantenedora da biblioteca Transformers.\n",
        "\n",
        "Informações sobre como este modelo foi desenvolvido estão disponíveis [neste artigo](https://medium.com/@pierre_guillou/nlp-modelo-de-question-answering-em-qualquer-idioma-baseado-no-bert-base-estudo-de-caso-em-12093d385e78)."
      ]
    },
    {
      "cell_type": "code",
      "metadata": {
        "id": "MkCh2AOH00zp"
      },
      "source": [
        "# Define o TIPO e NOME do modelo que deseja-se carregar - o nome é definido no próprio site da Hugging Face\n",
        "nlp = pipeline(\"question-answering\", model='pierreguillou/bert-base-cased-squad-v1.1-portuguese')"
      ],
      "execution_count": null,
      "outputs": []
    },
    {
      "cell_type": "markdown",
      "metadata": {
        "id": "fBCJmU-q4Ezq"
      },
      "source": [
        "#### Função que obtém dados sobre o tema e responde às perguntas"
      ]
    },
    {
      "cell_type": "code",
      "metadata": {
        "id": "j9cKfA3a4E-s"
      },
      "source": [
        "def getResposta(entrada):\n",
        "\n",
        "  # Busca página relacionada ao tema informado pelo usuário - obtém apenas a primeira ocorrência\n",
        "  tema = wikipedia.search(entrada)[0]\n",
        "\n",
        "  # Obtém todo conteúdo da página\n",
        "  contexto = wikipedia.page(tema).content\n",
        "\n",
        "  while True:\n",
        "\n",
        "    # Pede que usuário faça pergunta sobre o tema\n",
        "    print(\"Agente Transformers: Faça-me uma pergunta sobre o tema {} ou digite 'voltar' para alterar o tema.\".format(tema))\n",
        "    pergunta = input().lower()\n",
        "\n",
        "    # Se usuário pedir para sair\n",
        "    if pergunta == 'voltar':\n",
        "      print(\"Agente Transformers: Sobre qual assunto você deseja falar?\")\n",
        "      return None\n",
        "\n",
        "    # Chama o pipeline dos Transformers - que já está com o modelo de question-answering carregado\n",
        "    resultado = nlp(question=pergunta, context=contexto)\n",
        "\n",
        "    print(f\"Agente Transformers: '{resultado['answer']}'\")\n",
        "    # Imprime score e dados adicionais\n",
        "    #print(f\"Score: {round(resultado['score'], 4)}, start: {resultado['start']}, end: {resultado['end']}\")\n",
        "\n"
      ],
      "execution_count": 5,
      "outputs": []
    },
    {
      "cell_type": "markdown",
      "metadata": {
        "id": "58OgAEm51igh"
      },
      "source": [
        "#### Interagindo com o agente de diálogo\n",
        "O modelo pode demorar para responder, de acordo com o tamanho do contexto (i.e., página da Wikipedia).\n",
        "\n",
        "Exemplos de perguntas sobre \"**Pandemia de COVID-19**\":\n",
        "* O que é a pandemia de Covid-19?\n",
        "* A Covid-19 tem algo a ver com animais?\n",
        "* Onde foi descoberta a Covid-19?\n",
        "* Quantas mortes?\n",
        "\n",
        "Exemplos de perguntas sobre \"**Pelé**\":\n",
        "* Quantos gols Pelé fez?\n",
        "* Onde ele nasceu?\n",
        "* Por quais times ele jogou?\n",
        "\n",
        "Exemplos de perguntas sobre \"**Python**\":\n",
        "* Quem foi o criador do Python?\n",
        "* Qual a filosofia da linguagem\n",
        "* Qual a origem do nome?\n"
      ]
    },
    {
      "cell_type": "code",
      "metadata": {
        "id": "ysUQDNPw1ioS"
      },
      "source": [
        "continue_dialogue = True\n",
        "saudacao = \"Olá, eu sou o Agente Transformers. Sobre qual assunto você deseja falar?\"\n",
        "print(saudacao)\n",
        "while (continue_dialogue == True):\n",
        "  # Obtém entrada do usuário\n",
        "  entrada = input().lower()\n",
        "\n",
        "  if entrada not in ['tchau','adeus','até mais', 'até a próxima']:\n",
        "    if entrada in ['obrigado','muito obrigado','agradecido']:\n",
        "      continue_dialogue = False\n",
        "      print(\"Agente Transformers: Disponha\")\n",
        "    else:\n",
        "      if entrada in ['oi','oie','olá','e aí','bom dia','boa tarde', 'boa noite']:\n",
        "        print(\"Agente Transformers: \" + saudacao)\n",
        "      else:\n",
        "        # Caso não acione intenções de SAUDAÇÃO, AGRADECIMENTO ou DESPEDIDA\n",
        "        # Entra em intenção principal - Tema e respostas\n",
        "        getResposta(entrada)\n",
        "  else:\n",
        "    continue_dialogue = False\n",
        "    print(\"Agente Transformers: Até a próxima.\")\n",
        "\n",
        "# SAÍDAS da conversa de teste\n",
        "# Olá, eu sou o Agente Transformers. Sobre qual assunto você deseja falar?\n",
        "# Python\n",
        "# Agente Transformers: Faça-me uma pergunta sobre o tema Python ou digite 'voltar' para alterar o tema.\n",
        "# como criar uma interface de sistem com Python?\n",
        "# Agente Transformers: 'substituindo blocos if-else'\n",
        "# Agente Transformers: Faça-me uma pergunta sobre o tema Python ou digite 'voltar' para alterar o tema.\n",
        "# Como usa o comando sum?\n",
        "# Agente Transformers: 'Interface de linha de comandos'\n",
        "# Agente Transformers: Faça-me uma pergunta sobre o tema Python ou digite 'voltar' para alterar o tema.\n",
        "# voce demora para responder, vou voltar\n",
        "# Agente Transformers: 'Programa Olá Mundo'\n",
        "# Agente Transformers: Faça-me uma pergunta sobre o tema Python ou digite 'voltar' para alterar o tema.\n",
        "# voltar\n",
        "# Agente Transformers: Sobre qual assunto você deseja falar?"
      ],
      "execution_count": null,
      "outputs": []
    },
    {
      "cell_type": "markdown",
      "metadata": {
        "id": "E8udMlsd2JqX"
      },
      "source": [
        "### O que pode ser feito agora?\n",
        "\n",
        "* Poderíamos utilizar o RASA ou o DialogFlow para implementar de maneira mais fácil o gerenciamento de diálogo e NLU de nosso agente, e customizar o acesso aos Tranformers utilizando actions customizadas (RASA) ou fullfilments (DialogFlow).\n",
        "* Fazer desambiguação de temas sugeridos pelo usuário - a função search() retorna uma lista de páginas de wikipedia possíveis\n",
        "* Tentar utilizar outros modelos baseados em Transformers ou Machine Learning em geral, como [este](https://huggingface.co/mrm8488/bert-base-portuguese-cased-finetuned-squad-v1-pt).\n"
      ]
    },
    {
      "cell_type": "markdown",
      "metadata": {
        "id": "cLr9oSW6wI7O"
      },
      "source": [
        "## Referências e Material complementar\n",
        "\n",
        "* [NLP | Modelo de Question Answering em qualquer idioma baseado no BERT base (estudo de caso em português)](https://medium.com/@pierre_guillou/nlp-modelo-de-question-answering-em-qualquer-idioma-baseado-no-bert-base-estudo-de-caso-em-12093d385e78)\n",
        "* [Hugging Face - Portuguese BERT base cased QA (Question Answering), finetuned on SQUAD v1.1](https://huggingface.co/pierreguillou/bert-base-cased-squad-v1.1-portuguese)\n",
        "* [The Illustrated BERT, ELMo, and co. (How NLP Cracked Transfer Learning)](http://jalammar.github.io/illustrated-bert/)"
      ]
    },
    {
      "cell_type": "markdown",
      "metadata": {
        "id": "aw4G0zq_wJCR"
      },
      "source": [
        "Este notebook foi produzido por Prof. [Lucas Oliveira](http://lattes.cnpq.br/3611246009892500)."
      ]
    }
  ]
}