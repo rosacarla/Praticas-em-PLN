{
  "nbformat": 4,
  "nbformat_minor": 0,
  "metadata": {
    "colab": {
      "provenance": []
    },
    "kernelspec": {
      "name": "python3",
      "display_name": "Python 3"
    },
    "language_info": {
      "name": "python"
    }
  },
  "cells": [
    {
      "cell_type": "markdown",
      "source": [
        "> # TESTE DE ALGORITMO COM GENSIM  \n",
        "> Disciplina: Processamento de Linguagem Natural  \n",
        "> Curso: Tecnologia em Inteligência Artificial Aplicada  \n",
        "> Professor: Lucas Emanuel de Oliveira  \n",
        "> Autora: Carla Silveira  \n",
        "> Data: 08/05/2024  \n",
        "---\n",
        "</br>\n",
        "<p align='justify'>EXERCÍCIO: Modelos pré-treinados permitem que boas representações vetoriais sejam aproveitadas por outros usuários que não teriam acesso a quantidades tão grandes de informação ou não teriam computador rápido o suficiente para executá-las.</p>\n",
        "\n",
        "<p align='justify'>A partir do modelo pré-treinado em anexo (o arquivo deve ser aberto por um algoritmo usando a função word2vec da biblioteca Gensim), determine qual é a palavra mais próxima da palavra <i>\"past\"</i> e assinale a opção correta:</p>\n",
        "</br>  \n",
        "\n",
        "SOLUÇÃO: O algoritmo para utilizar o modelo deve conter as linhas de comando a seguir."
      ],
      "metadata": {
        "id": "SXRR4fEcIc1I"
      }
    },
    {
      "cell_type": "code",
      "execution_count": null,
      "metadata": {
        "id": "boStW1CvIWIl"
      },
      "outputs": [],
      "source": [
        "# Importa bibliotecas necessarias\n",
        "from gensim.models import Word2Vec\n",
        "from nltk.corpus import brown"
      ]
    },
    {
      "cell_type": "code",
      "source": [
        "# Carrega modelo Word2Vec previamente treinado\n",
        "mb = Word2Vec.load('/content/mb.txt')\n",
        "\n",
        "# Verifica se o modelo foi carregado corretamente\n",
        "if not isinstance(mb, Word2Vec):\n",
        "    print(\"Erro: O arquivo não contém um modelo Word2Vec válido.\")\n",
        "else:\n",
        "  # Verifica palavras mais similares à palavra 'past'\n",
        "  similar_words = mb.wv.most_similar('past')\n",
        "  print(\"Palavras mais similares a 'past':\")\n",
        "  for word, similarity in similar_words:\n",
        "    print(f\"{word}: {similarity}\")"
      ],
      "metadata": {
        "colab": {
          "base_uri": "https://localhost:8080/"
        },
        "id": "LXWPrhk_J569",
        "outputId": "5cfe051f-ffa0-45e2-a87f-34c3220edc97"
      },
      "execution_count": null,
      "outputs": [
        {
          "output_type": "stream",
          "name": "stdout",
          "text": [
            "Palavras mais similares a 'past':\n",
            "1958: 0.32377704977989197\n",
            "personnel: 0.2736075520515442\n",
            "Washington: 0.2718629240989685\n",
            "top: 0.27102354168891907\n",
            "term-end: 0.2546588182449341\n",
            "him: 0.2500006854534149\n",
            "starts: 0.248548686504364\n",
            "distribution: 0.21855251491069794\n",
            "burden: 0.21500426530838013\n",
            "validity: 0.21440258622169495\n"
          ]
        }
      ]
    }
  ]
}