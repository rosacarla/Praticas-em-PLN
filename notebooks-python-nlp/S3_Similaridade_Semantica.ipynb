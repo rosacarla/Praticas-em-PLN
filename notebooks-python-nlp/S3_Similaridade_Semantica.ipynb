{
  "nbformat": 4,
  "nbformat_minor": 0,
  "metadata": {
    "colab": {
      "provenance": []
    },
    "kernelspec": {
      "name": "python3",
      "display_name": "Python 3"
    }
  },
  "cells": [
    {
      "cell_type": "markdown",
      "metadata": {
        "id": "ZxuZhoBCjK5N"
      },
      "source": [
        "># <b>Similaridade Semântica</b>  \n",
        ">Instituição: PUCPR  \n",
        ">Curso: Tecnologia em Inteligência Artifical Aplicada  \n",
        ">Disciplina: Processamento de Linguagem Natural  \n",
        ">Professor: Lucas Oliveira   \n",
        ">Estudante: Carla Edila Silveira  \n",
        "> Data: 14/04/2024  \n",
        "\n",
        "> <img src='https://i.postimg.cc/cH67xS70/similaridade-semantica-pln.jpg'>  \n",
        "> Crédito da imagem: gerada com IA Copilot</i>  \n",
        "</br>\n",
        "\n",
        "---  \n",
        "</br>  \n",
        "\n",
        "## Processamento de Linguagem Natural\n",
        "A Similaridade semântica é medida através da semelhança de  <b>significado</b> ou <b>conteúdo semântico</b> entre palavras/sentenças/documentos.\n",
        "\n",
        "<p align='justify'>Nesta aula você realizará atividades práticas relacionadas a <b>Similaridade semântica</b>, visando entender qual o seu papel nas mais diversas aplicações de PLN, além de utilizar a interface WordNet do NLTK para língua inglesa.</p>\n",
        "\n",
        "<p align='justify'><b>WordNet</b> é a rede semântica mais popular na área de medir a similaridade <i>knowledge-based</i>. O WordNet é um grande banco de dados léxico, disponível em diversos idiomas. Substantivos, verbos, adjetivos e advérbios são agrupados em conjuntos de sinônimos cognitivos (<i>synsets</i>), one cada um expressa um conceito distinto. Os <i>synsets</i> são interligados por meio de relações conceitual-semânticas e léxicas.</b>"
      ]
    },
    {
      "cell_type": "markdown",
      "metadata": {
        "id": "8OJ3lTYY8ooS"
      },
      "source": [
        "### Acessando o WordNet utilizando o NLTK\n",
        "<p align='justify'>O NLTK ainda não dá suporte ao acesso direto a busca em algum grande WordNet em português (e.g., openWordnet-PT, WordNet.PT). Trabalharemos nossos exemplos em inglês e com uso da versão em português contida no <a href='http://compling.hss.ntu.edu.sg/omw/'>Open Multilingual Wordnet</a> que o NLTK dá suporte.</p>"
      ]
    },
    {
      "cell_type": "code",
      "metadata": {
        "id": "XsX9EbzQ-10R",
        "colab": {
          "base_uri": "https://localhost:8080/"
        },
        "outputId": "867a3d8e-8235-4b62-e024-471182d7e7bc"
      },
      "source": [
        "# Você deve importar o corpus do WordNet\n",
        "import nltk\n",
        "from nltk.corpus import wordnet\n",
        "# Precisa efetuar o download do wordnet\n",
        "nltk.download('wordnet')\n",
        "# Caso use o Open Multilingual Wordnet\n",
        "nltk.download('omw-1.4')"
      ],
      "execution_count": 5,
      "outputs": [
        {
          "output_type": "stream",
          "name": "stderr",
          "text": [
            "[nltk_data] Downloading package wordnet to /root/nltk_data...\n",
            "[nltk_data]   Package wordnet is already up-to-date!\n",
            "[nltk_data] Downloading package omw-1.4 to /root/nltk_data...\n"
          ]
        },
        {
          "output_type": "execute_result",
          "data": {
            "text/plain": [
              "True"
            ]
          },
          "metadata": {},
          "execution_count": 5
        }
      ]
    },
    {
      "cell_type": "code",
      "metadata": {
        "id": "8H5n6Cbi_PxD",
        "colab": {
          "base_uri": "https://localhost:8080/"
        },
        "outputId": "4c0b427e-0a6e-49f3-baa5-62c0334be8fa"
      },
      "source": [
        "# Obtém o(s) synset(s) para a palavra \"pain\" (dor)\n",
        "syn = wordnet.synsets(\"pain\")\n",
        "# Imprime a definição\n",
        "print(syn[0].definition())\n",
        "# Imprime exemplos de aplicação em uma frase\n",
        "print(syn[0].examples())"
      ],
      "execution_count": 6,
      "outputs": [
        {
          "output_type": "stream",
          "name": "stdout",
          "text": [
            "a symptom of some physical hurt or disorder\n",
            "['the patient developed severe pain and distension']\n"
          ]
        }
      ]
    },
    {
      "cell_type": "markdown",
      "metadata": {
        "id": "7wRbw0gMRAI4"
      },
      "source": [
        "\n",
        "\n",
        "> **O que é um `synset`?** É um conjunto de sinônimos que compartilham um mesmo significado.\n",
        "\n"
      ]
    },
    {
      "cell_type": "code",
      "metadata": {
        "id": "RYKpMj6n_zZi",
        "colab": {
          "base_uri": "https://localhost:8080/"
        },
        "outputId": "11720564-76bf-4235-b8fe-576b740da366"
      },
      "source": [
        "# Temos uma lista de synset possíveis para a palavra pesquisada\n",
        "syn"
      ],
      "execution_count": 7,
      "outputs": [
        {
          "output_type": "execute_result",
          "data": {
            "text/plain": [
              "[Synset('pain.n.01'),\n",
              " Synset('pain.n.02'),\n",
              " Synset('pain.n.03'),\n",
              " Synset('pain.n.04'),\n",
              " Synset('annoyance.n.04'),\n",
              " Synset('trouble.v.05'),\n",
              " Synset('pain.v.02')]"
            ]
          },
          "metadata": {},
          "execution_count": 7
        }
      ]
    },
    {
      "cell_type": "markdown",
      "metadata": {
        "id": "GJMFEAdsRXva"
      },
      "source": [
        "\n",
        "\n",
        "> Cada `synset` possui um ou mais `lemmas`, que representam um significado particular de uma palavra específica.\n",
        "\n"
      ]
    },
    {
      "cell_type": "markdown",
      "metadata": {
        "id": "EPKwn0fUQlLj"
      },
      "source": [
        "#### Utilizando `synsets` e `lemmas` em português através do Open Multilingual Wordnet"
      ]
    },
    {
      "cell_type": "code",
      "metadata": {
        "id": "fEgCz3i8EZHX",
        "colab": {
          "base_uri": "https://localhost:8080/"
        },
        "outputId": "59f84ee2-b793-4a5c-f2b0-a3e63600fdad"
      },
      "source": [
        "# Busca synsets em português\n",
        "wordnet.synsets(\"cão\", lang=\"por\")"
      ],
      "execution_count": 8,
      "outputs": [
        {
          "output_type": "execute_result",
          "data": {
            "text/plain": [
              "[Synset('canine.n.02'),\n",
              " Synset('bitch.n.04'),\n",
              " Synset('dog.n.01'),\n",
              " Synset('devil.n.02')]"
            ]
          },
          "metadata": {},
          "execution_count": 8
        }
      ]
    },
    {
      "cell_type": "code",
      "metadata": {
        "id": "Z-OosBEvSojr",
        "colab": {
          "base_uri": "https://localhost:8080/"
        },
        "outputId": "a6f01d97-72ad-4fda-9adb-90224fa60655"
      },
      "source": [
        "# Busca lemmas em português\n",
        "wordnet.lemmas(\"cão\", lang=\"por\")"
      ],
      "execution_count": 9,
      "outputs": [
        {
          "output_type": "execute_result",
          "data": {
            "text/plain": [
              "[Lemma('canine.n.02.cão'),\n",
              " Lemma('bitch.n.04.cão'),\n",
              " Lemma('dog.n.01.cão'),\n",
              " Lemma('devil.n.02.cão')]"
            ]
          },
          "metadata": {},
          "execution_count": 9
        }
      ]
    },
    {
      "cell_type": "markdown",
      "metadata": {
        "id": "uCIs8xwMBM4D"
      },
      "source": [
        "#### Atividade prática - Construindo uma função de **sugestão de sinônimos**\n",
        "Você já deve ter visto em aplicativos, como o Microsoft Word, a funcionalidade de sugerir sinônimos de uma palavra. Com o auxílio do WordNet conseguimos facilmente obter sinônimos de uma dada palavra.\n",
        "\n",
        "\n",
        "---\n",
        "\n",
        "\n",
        "![String-based similarity measures](https://docs.google.com/uc?export=download&id=1-VKDiXbIdSgwJzBvXjgdP47R-dPe--XG)"
      ]
    },
    {
      "cell_type": "code",
      "metadata": {
        "id": "bQ796E3uCEqk"
      },
      "source": [
        "# Define função para busca de sinonimos\n",
        "def buscarSinonimos(palavra):\n",
        "    # Obter os synsets (conjuntos de sinônimos) para a palavra\n",
        "    synsets = wordnet.synsets(palavra)\n",
        "\n",
        "    # Inicializar uma lista para armazenar os sinônimos encontrados\n",
        "    sinonimos = []\n",
        "\n",
        "    # Iterar sobre os synsets e adicionar os sinônimos à lista\n",
        "    for synset in synsets:\n",
        "        for lemma in synset.lemmas():\n",
        "            sinonimos.append(lemma.name())\n",
        "\n",
        "    # Remover duplicatas e imprimir os sinônimos encontrados\n",
        "    sinonimos = list(set(sinonimos))\n",
        "    print(\"Sinônimos de\", palavra + \":\")\n",
        "    for sinonimo in sinonimos:\n",
        "        print(\"-\", sinonimo)"
      ],
      "execution_count": 13,
      "outputs": []
    },
    {
      "cell_type": "code",
      "metadata": {
        "id": "JmovaEpnCAW_",
        "colab": {
          "base_uri": "https://localhost:8080/"
        },
        "outputId": "80a5557f-d046-42cc-9ca3-60e7aa78d7aa"
      },
      "source": [
        "# A seguir pediremos que o usuário digite uma palavra\n",
        "palavra = input(\"Digite uma palavra: \")\n",
        "\n",
        "# Busca sinonimos da palavra\n",
        "buscarSinonimos(palavra)"
      ],
      "execution_count": 18,
      "outputs": [
        {
          "output_type": "stream",
          "name": "stdout",
          "text": [
            "Digite uma palavra: simples\n",
            "Sinônimos de simples:\n",
            "- simpleton\n",
            "- simple\n"
          ]
        }
      ]
    },
    {
      "cell_type": "markdown",
      "metadata": {
        "id": "gaSDpkfTC6ac"
      },
      "source": [
        "\n",
        "\n",
        "> **ATIVIDADE EXTRA**: Agora faça uma função de busca por palavras opostas (antônimos).\n",
        "DICA: além da função `name()` o objeto `lemma` tem também a função `.antonyms()`.\n",
        "\n"
      ]
    },
    {
      "cell_type": "code",
      "metadata": {
        "id": "MzIufYKEDKVj"
      },
      "source": [
        "# Define função para busca de antônimos\n",
        "def buscarAntonimos(palavra):\n",
        "    # Obter os synsets (conjuntos de sinônimos) para a palavra\n",
        "    synsets = wordnet.synsets(palavra)\n",
        "\n",
        "    # Inicializar uma lista para armazenar os antônimos encontrados\n",
        "    antonimos = []\n",
        "\n",
        "    # Iterar sobre os synsets e adicionar os antônimos à lista\n",
        "    for synset in synsets:\n",
        "        for lemma in synset.lemmas():\n",
        "            for antonym in lemma.antonyms():\n",
        "                antonimos.append(antonym.name())\n",
        "\n",
        "    # Remover duplicatas e imprimir os antônimos encontrados\n",
        "    antonimos = list(set(antonimos))\n",
        "    print(\"Antônimos de\", palavra + \":\")\n",
        "    if antonimos:\n",
        "        for antonimo in antonimos:\n",
        "            print(\"-\", antonimo)\n",
        "    else:\n",
        "        print(\"Nenhum antônimo encontrado.\")"
      ],
      "execution_count": 35,
      "outputs": []
    },
    {
      "cell_type": "code",
      "source": [
        "# Pedir ao usuário para digitar uma palavra\n",
        "palavra = input(\"Digite uma palavra: \")\n",
        "\n",
        "# Buscar antônimos da palavra\n",
        "buscarAntonimos(palavra)"
      ],
      "metadata": {
        "colab": {
          "base_uri": "https://localhost:8080/"
        },
        "id": "dWKcq2X5OeUS",
        "outputId": "e36e983d-8281-4d11-dc52-7d63a67ae273"
      },
      "execution_count": 38,
      "outputs": [
        {
          "output_type": "stream",
          "name": "stdout",
          "text": [
            "Digite uma palavra: bad\n",
            "Antônimos de bad:\n",
            "- unregretful\n",
            "- good\n",
            "- goodness\n"
          ]
        }
      ]
    },
    {
      "cell_type": "markdown",
      "metadata": {
        "id": "_mW-HLayieqE"
      },
      "source": [
        "### Acessando diferentes níveis hierárquicos\n",
        "Além dos sinônimos e antônimos podemos acessar termos com diferentes relações hierarquicas entre si."
      ]
    },
    {
      "cell_type": "markdown",
      "metadata": {
        "id": "TnXnApMYkaB2"
      },
      "source": [
        "#### Hiponímias\n",
        "Hiponímia é uma relação semântica entre palavras em que uma palavra é um tipo ou uma subclasse de outra palavra mais geral. Em outras palavras, um termo é considerado um hipônimo de outro se seu significado estiver contido no significado do outro termo, e se ambos os termos pertencerem à mesma categoria semântica, mas com diferentes níveis de especificidade.\n",
        "\n",
        "Por exemplo, em uma relação hiponímica, \"cachorro\" é um hipônimo de \"animal\", pois um cachorro é um tipo específico de animal. Da mesma forma, \"rosa\" é um hipônimo de \"flor\", \"cadeira\" é um hipônimo de \"móvel\", e assim por diante.\n",
        "\n",
        "A hiponímia é útil para entender a hierarquia de conceitos em um domínio específico e como os termos podem ser organizados em uma estrutura de árvore, com termos mais específicos (hipônimos) situados abaixo de termos mais gerais (hiperônimos). Essa relação é fundamental em campos como a linguística, a semântica computacional e a ontologia."
      ]
    },
    {
      "cell_type": "code",
      "metadata": {
        "id": "2HfrYBsPio1p",
        "colab": {
          "base_uri": "https://localhost:8080/"
        },
        "outputId": "e4066524-94d7-413f-8ffc-b9036547a374"
      },
      "source": [
        "fruta = wordnet.synsets(\"fruta\", lang=\"por\")[0]\n",
        "fruta.hyponyms()"
      ],
      "execution_count": 39,
      "outputs": [
        {
          "output_type": "execute_result",
          "data": {
            "text/plain": [
              "[Synset('ackee.n.01'),\n",
              " Synset('anchovy_pear.n.02'),\n",
              " Synset('apple.n.01'),\n",
              " Synset('apricot.n.02'),\n",
              " Synset('avocado.n.01'),\n",
              " Synset('banana.n.02'),\n",
              " Synset('barbados_gooseberry.n.02'),\n",
              " Synset('berry.n.01'),\n",
              " Synset('breadfruit.n.02'),\n",
              " Synset('canistel.n.02'),\n",
              " Synset('carambola.n.02'),\n",
              " Synset('carissa_plum.n.01'),\n",
              " Synset('ceriman.n.02'),\n",
              " Synset('cherry.n.03'),\n",
              " Synset('citrus.n.01'),\n",
              " Synset('cling.n.01'),\n",
              " Synset('cocoa_plum.n.02'),\n",
              " Synset('custard_apple.n.02'),\n",
              " Synset('date.n.08'),\n",
              " Synset('dried_fruit.n.01'),\n",
              " Synset('durian.n.02'),\n",
              " Synset('elderberry.n.02'),\n",
              " Synset('feijoa.n.02'),\n",
              " Synset('fig.n.04'),\n",
              " Synset('freestone.n.01'),\n",
              " Synset('garambulla.n.02'),\n",
              " Synset('genip.n.02'),\n",
              " Synset('genipap.n.01'),\n",
              " Synset('grape.n.01'),\n",
              " Synset('guava.n.03'),\n",
              " Synset('hog_plum.n.03'),\n",
              " Synset('hog_plum.n.04'),\n",
              " Synset('jaboticaba.n.02'),\n",
              " Synset('jackfruit.n.02'),\n",
              " Synset('jujube.n.02'),\n",
              " Synset('kai_apple.n.01'),\n",
              " Synset('ketembilla.n.02'),\n",
              " Synset('kiwi.n.03'),\n",
              " Synset('lanseh.n.01'),\n",
              " Synset('litchi.n.02'),\n",
              " Synset('longanberry.n.02'),\n",
              " Synset('loquat.n.02'),\n",
              " Synset('mamey.n.02'),\n",
              " Synset('mango.n.02'),\n",
              " Synset('mangosteen.n.02'),\n",
              " Synset('marang.n.02'),\n",
              " Synset('medlar.n.03'),\n",
              " Synset('medlar.n.04'),\n",
              " Synset('melon.n.01'),\n",
              " Synset('mombin.n.02'),\n",
              " Synset('nectarine.n.02'),\n",
              " Synset('papaw.n.02'),\n",
              " Synset('papaya.n.02'),\n",
              " Synset('passion_fruit.n.01'),\n",
              " Synset('peach.n.03'),\n",
              " Synset('pear.n.01'),\n",
              " Synset('pineapple.n.02'),\n",
              " Synset('pitahaya.n.02'),\n",
              " Synset('plum.n.02'),\n",
              " Synset('plumcot.n.02'),\n",
              " Synset('pomegranate.n.02'),\n",
              " Synset('prickly_pear.n.02'),\n",
              " Synset('pulasan.n.02'),\n",
              " Synset('quandong.n.04'),\n",
              " Synset('quince.n.02'),\n",
              " Synset('rambutan.n.02'),\n",
              " Synset('rose_apple.n.02'),\n",
              " Synset('sapodilla.n.02'),\n",
              " Synset('sapote.n.02'),\n",
              " Synset('sorb.n.01'),\n",
              " Synset('sour_gourd.n.02'),\n",
              " Synset('sour_gourd.n.03'),\n",
              " Synset('tamarind.n.02'),\n",
              " Synset('tangelo.n.02'),\n",
              " Synset('windfall.n.01')]"
            ]
          },
          "metadata": {},
          "execution_count": 39
        }
      ]
    },
    {
      "cell_type": "markdown",
      "metadata": {
        "id": "vUbKu969klHV"
      },
      "source": [
        "#### Hiperonímias\n",
        "Hiperonímia é a relação semântica oposta à hiponímia. Enquanto a hiponímia descreve a relação entre termos mais específicos e seus termos mais gerais correspondentes, a hiperonímia descreve a relação entre termos mais gerais e seus termos mais específicos correspondentes.\n",
        "\n",
        "Em outras palavras, um termo é considerado um hiperônimo de outro se seu significado for mais abrangente e englobar o significado do outro termo. Hiperônimos são termos que representam categorias mais amplas ou conjuntos maiores que incluem os termos específicos.\n",
        "\n",
        "Por exemplo, em uma relação hiperonímica, \"animal\" é um hiperônimo de \"cachorro\", \"gato\" e \"pássaro\", pois \"animal\" é uma categoria mais ampla que engloba esses termos mais específicos. Da mesma forma, \"móvel\" é um hiperônimo de \"cadeira\", \"mesa\" e \"sofá\".\n",
        "\n",
        "Assim como a hiponímia, a hiperonímia é importante para entender a organização hierárquica de conceitos em um domínio específico e é fundamental em áreas como a linguística, a semântica computacional e a ontologia."
      ]
    },
    {
      "cell_type": "code",
      "metadata": {
        "id": "vCgbOWWPklQi",
        "colab": {
          "base_uri": "https://localhost:8080/"
        },
        "outputId": "7980e86d-2864-4e3f-c25a-2de1140e5067"
      },
      "source": [
        "cidade = wordnet.synsets(\"cidade\", lang=\"por\")[0]\n",
        "cidade.hypernyms()"
      ],
      "execution_count": 40,
      "outputs": [
        {
          "output_type": "execute_result",
          "data": {
            "text/plain": [
              "[Synset('state.n.04')]"
            ]
          },
          "metadata": {},
          "execution_count": 40
        }
      ]
    },
    {
      "cell_type": "markdown",
      "metadata": {
        "id": "e2N9y8obn3d_"
      },
      "source": [
        "É possível encontrar o hiperônimo mais próximo entre dois termos."
      ]
    },
    {
      "cell_type": "code",
      "metadata": {
        "id": "nZOGN7v3n3nZ",
        "colab": {
          "base_uri": "https://localhost:8080/"
        },
        "outputId": "37aebebd-0df9-44b2-efa3-a4a86f981c89"
      },
      "source": [
        "bulldog = wordnet.synsets(\"bulldog\")[0]\n",
        "pug = wordnet.synsets(\"pug\")[0]\n",
        "bulldog.lowest_common_hypernyms(pug)"
      ],
      "execution_count": 41,
      "outputs": [
        {
          "output_type": "execute_result",
          "data": {
            "text/plain": [
              "[Synset('dog.n.01')]"
            ]
          },
          "metadata": {},
          "execution_count": 41
        }
      ]
    },
    {
      "cell_type": "markdown",
      "metadata": {
        "id": "O4JEvwWKlUpa"
      },
      "source": [
        "#### Meronímias\n",
        "Meronímia é uma relação semântica que descreve a relação entre um termo que representa uma parte e um termo que representa o todo. Em outras palavras, um termo é considerado um merônimo de outro se ele denota uma parte, um componente ou um membro do outro termo.\n",
        "\n",
        "Por exemplo, em uma relação meronímica, \"roda\" é um merônimo de \"carro\", pois \"roda\" é uma parte ou componente de um \"carro\". Da mesma forma, \"dedo\" é um merônimo de \"mão\", \"pétala\" é um merônimo de \"flor\" e \"janela\" é um merônimo de \"casa\".\n",
        "\n",
        "Essa relação é frequentemente utilizada para descrever a estrutura hierárquica de objetos e conceitos, onde termos mais específicos (merônimos) estão relacionados a termos mais gerais (holônimos) por meio de uma relação de parte-todo. A meronímia é uma das formas de organização de conhecimento que é explorada em áreas como a linguística, a semântica computacional e a ontologia."
      ]
    },
    {
      "cell_type": "code",
      "metadata": {
        "id": "G_oX-M25lUwy",
        "colab": {
          "base_uri": "https://localhost:8080/"
        },
        "outputId": "50e99fdf-b5de-4838-9a08-557f7a28aea5"
      },
      "source": [
        "mao = wordnet.synsets(\"mão\", lang=\"por\")[0]\n",
        "mao.part_meronyms()"
      ],
      "execution_count": 42,
      "outputs": [
        {
          "output_type": "execute_result",
          "data": {
            "text/plain": [
              "[Synset('ball.n.10'),\n",
              " Synset('digital_arteries.n.01'),\n",
              " Synset('finger.n.01'),\n",
              " Synset('intercapitular_vein.n.01'),\n",
              " Synset('metacarpal_artery.n.01'),\n",
              " Synset('metacarpal_vein.n.01'),\n",
              " Synset('metacarpus.n.01'),\n",
              " Synset('palm.n.01')]"
            ]
          },
          "metadata": {},
          "execution_count": 42
        }
      ]
    },
    {
      "cell_type": "code",
      "metadata": {
        "id": "YeVEPpLMlq7K",
        "colab": {
          "base_uri": "https://localhost:8080/"
        },
        "outputId": "a4a9d9f3-7378-413f-ce42-55e3f8ffff39"
      },
      "source": [
        "saliva = wordnet.synsets(\"saliva\", lang=\"por\")[0]\n",
        "saliva.substance_meronyms()"
      ],
      "execution_count": 43,
      "outputs": [
        {
          "output_type": "execute_result",
          "data": {
            "text/plain": [
              "[Synset('ptyalin.n.01')]"
            ]
          },
          "metadata": {},
          "execution_count": 43
        }
      ]
    },
    {
      "cell_type": "markdown",
      "metadata": {
        "id": "_Yf0YSKHlU41"
      },
      "source": [
        "#### Holonímias\n",
        "Holonímia é a relação semântica oposta à meronímia. Enquanto a meronímia descreve a relação entre partes e o todo, a holonímia descreve a relação entre o todo e suas partes ou componentes.\n",
        "\n",
        "Em outras palavras, um termo é considerado um holônimo de outro se ele denota um todo ou uma entidade que contém ou é composta das entidades denotadas pelo outro termo.\n",
        "\n",
        "Por exemplo, em uma relação holonímica, \"carro\" é um holônimo de \"roda\", \"motor\" e \"porta\", pois um \"carro\" é composto de várias partes ou componentes. Da mesma forma, \"flor\" é um holônimo de \"pétala\", \"caule\" e \"folha\", pois uma \"flor\" consiste em várias partes.\n",
        "\n",
        "Assim como a meronímia, a holonímia é importante para descrever a estrutura hierárquica de objetos e conceitos, e é explorada em áreas como a linguística, a semântica computacional e a ontologia."
      ]
    },
    {
      "cell_type": "code",
      "metadata": {
        "id": "3mUFYxHUlU_E",
        "colab": {
          "base_uri": "https://localhost:8080/"
        },
        "outputId": "9bbc83a2-8dde-4c80-e241-6cf41004fe14"
      },
      "source": [
        "arvore = wordnet.synsets(\"árvore\", lang=\"por\")[0]\n",
        "arvore.member_holonyms()"
      ],
      "execution_count": 44,
      "outputs": [
        {
          "output_type": "execute_result",
          "data": {
            "text/plain": [
              "[Synset('forest.n.01')]"
            ]
          },
          "metadata": {},
          "execution_count": 44
        }
      ]
    },
    {
      "cell_type": "markdown",
      "metadata": {
        "id": "0iZCs6hmq6nQ"
      },
      "source": [
        "#### Polissemias"
      ]
    },
    {
      "cell_type": "markdown",
      "metadata": {
        "id": "_JA0-WyerBBr"
      },
      "source": [
        "##### **Atividade prática** - Buscando polissemias\n",
        "A polissemia é a quantidade de sentidos/significados de uma palavra.\n",
        "\n",
        "Utilizando a interface do WordNet podemos determinar que o substantivo \"cachorro\" tem 7 diferentes significados ao utilizar o código: `len(wordnet.synsets('dog', 'n'))`\n",
        "\n",
        "Calcule a média de polissemias entre os substantivos (n), verbos (v) e adjetivos (a).\n",
        "\n",
        "> **DICA**: Você pode obter todos `synsets` substantivos usando `wordnet.all_synsets('n')`\n",
        "\n",
        "\n",
        "\n"
      ]
    },
    {
      "cell_type": "code",
      "metadata": {
        "id": "SFBH18rfq6xj",
        "colab": {
          "base_uri": "https://localhost:8080/"
        },
        "outputId": "813cc7c9-be45-49a1-b367-f37192bc186b"
      },
      "source": [
        "# Contagem de significados para substantivo \"cachorro\"\n",
        "len(wordnet.synsets('dog', 'n'))"
      ],
      "execution_count": 45,
      "outputs": [
        {
          "output_type": "execute_result",
          "data": {
            "text/plain": [
              "7"
            ]
          },
          "metadata": {},
          "execution_count": 45
        }
      ]
    },
    {
      "cell_type": "code",
      "source": [
        "# Define função para calcular a media de polissemias entre substantivos, verbos e adjetivos\n",
        "def calcular_media_poli():\n",
        "    # Converter geradores em listas\n",
        "    synsets_n = list(wordnet.all_synsets('n'))\n",
        "    synsets_v = list(wordnet.all_synsets('v'))\n",
        "    synsets_a = list(wordnet.all_synsets('a'))\n",
        "\n",
        "    # Contagem total de significados para substantivos (n)\n",
        "    total_n = len(synsets_n)\n",
        "\n",
        "    # Contagem total de significados para verbos (v)\n",
        "    total_v = len(synsets_v)\n",
        "\n",
        "    # Contagem total de significados para adjetivos (a)\n",
        "    total_a = len(synsets_a)\n",
        "\n",
        "    # Calcular a média de polissemias para cada categoria\n",
        "    media_n = total_n / len(synsets_n)\n",
        "    media_v = total_v / len(synsets_v)\n",
        "    media_a = total_a / len(synsets_a)\n",
        "\n",
        "    return media_n, media_v, media_a\n",
        "\n",
        "# Calcular a média de polissemia\n",
        "media_n, media_v, media_a = calcular_media_poli()"
      ],
      "metadata": {
        "id": "rq-HJTSqQsRj"
      },
      "execution_count": 48,
      "outputs": []
    },
    {
      "cell_type": "code",
      "source": [
        "# Imprimir os resultados\n",
        "print(\"Média de polissemia para substantivos (n):\", media_n)\n",
        "print(\"Média de polissemia para verbos (v):\", media_v)\n",
        "print(\"Média de polissemia para adjetivos (a):\", media_a)"
      ],
      "metadata": {
        "colab": {
          "base_uri": "https://localhost:8080/"
        },
        "id": "MQ_hO7DRRK7l",
        "outputId": "a46335ec-6d6d-4e3f-c2cb-63936b54b284"
      },
      "execution_count": 49,
      "outputs": [
        {
          "output_type": "stream",
          "name": "stdout",
          "text": [
            "Média de polissemia para substantivos (n): 1.0\n",
            "Média de polissemia para verbos (v): 1.0\n",
            "Média de polissemia para adjetivos (a): 1.0\n"
          ]
        }
      ]
    },
    {
      "cell_type": "markdown",
      "metadata": {
        "id": "6x0pHTX1X1AO"
      },
      "source": [
        "### Calculando Similaridade semântica entre palavras\n",
        "Algumas funções de similaridade *knowledge-based* já são implementadas pela interface do WordNet no NLTK.\n",
        "\n",
        "![Knowledge-based similarity measures](https://docs.google.com/uc?export=download&id=1g-3cWh9BF6Ex8oWDv77L1mdagUq0yc0v)"
      ]
    },
    {
      "cell_type": "code",
      "metadata": {
        "id": "HTR95Ekvch42"
      },
      "source": [
        "gato = wordnet.synsets(\"gato\", lang=\"por\")[0]\n",
        "cachorro = wordnet.synsets(\"dog\")[0]\n",
        "\n",
        "chocar = wordnet.synsets(\"chocar\", lang=\"por\")[0]\n",
        "colidir = wordnet.synsets(\"colidir\", lang=\"por\")[0]\n",
        "\n",
        "caneta = wordnet.synsets(\"caneta\", lang=\"por\")[0]"
      ],
      "execution_count": 50,
      "outputs": []
    },
    {
      "cell_type": "code",
      "metadata": {
        "id": "FLI-lBBIdDnY",
        "colab": {
          "base_uri": "https://localhost:8080/"
        },
        "outputId": "326dd5b6-8362-4a3c-e9e9-09e9626488e9"
      },
      "source": [
        "gato"
      ],
      "execution_count": 51,
      "outputs": [
        {
          "output_type": "execute_result",
          "data": {
            "text/plain": [
              "Synset('cat.n.01')"
            ]
          },
          "metadata": {},
          "execution_count": 51
        }
      ]
    },
    {
      "cell_type": "code",
      "metadata": {
        "id": "IoU5bEw7dDuj",
        "colab": {
          "base_uri": "https://localhost:8080/"
        },
        "outputId": "c93b9b53-2ee0-42ac-ad59-6d7b5d4f1a69"
      },
      "source": [
        "cachorro"
      ],
      "execution_count": 52,
      "outputs": [
        {
          "output_type": "execute_result",
          "data": {
            "text/plain": [
              "Synset('dog.n.01')"
            ]
          },
          "metadata": {},
          "execution_count": 52
        }
      ]
    },
    {
      "cell_type": "markdown",
      "metadata": {
        "id": "ZLGja1jWc4Gp"
      },
      "source": [
        "\n",
        "\n",
        "> **IMPORTANTE**: Não importa o idioma que você busque, a referência será sempre aos mesmos `synsets`\n",
        "\n"
      ]
    },
    {
      "cell_type": "markdown",
      "metadata": {
        "id": "fadmA2UqZnHj"
      },
      "source": [
        "#### **Path Similarity** (path)\n",
        "Retorna uma pontuação indicando o quão semelhantes os sentidos de duas palavras são, com base no caminho mais curto que conecta os sentidos na taxonomia *is-a* (é-um) (Hiperonímia / Hiponímia). A pontuação está no intervalo de 0 a 1."
      ]
    },
    {
      "cell_type": "code",
      "metadata": {
        "id": "exSZ-A0eX7On",
        "colab": {
          "base_uri": "https://localhost:8080/"
        },
        "outputId": "fbbedcfa-5c59-49a7-d6a7-b8cc4127ec07"
      },
      "source": [
        "cachorro.path_similarity(gato)"
      ],
      "execution_count": 53,
      "outputs": [
        {
          "output_type": "execute_result",
          "data": {
            "text/plain": [
              "0.2"
            ]
          },
          "metadata": {},
          "execution_count": 53
        }
      ]
    },
    {
      "cell_type": "code",
      "metadata": {
        "id": "XwoBGMaHeMGi",
        "colab": {
          "base_uri": "https://localhost:8080/"
        },
        "outputId": "830e21c4-d247-4bd1-dbe4-9220378f7457"
      },
      "source": [
        "chocar.path_similarity(colidir)"
      ],
      "execution_count": 54,
      "outputs": [
        {
          "output_type": "execute_result",
          "data": {
            "text/plain": [
              "0.5"
            ]
          },
          "metadata": {},
          "execution_count": 54
        }
      ]
    },
    {
      "cell_type": "code",
      "metadata": {
        "id": "8ha2c4rCeMO8",
        "colab": {
          "base_uri": "https://localhost:8080/"
        },
        "outputId": "9aac5f6e-2221-4b9c-f16f-bc5a7c798938"
      },
      "source": [
        "gato.path_similarity(caneta)"
      ],
      "execution_count": 55,
      "outputs": [
        {
          "output_type": "execute_result",
          "data": {
            "text/plain": [
              "0.058823529411764705"
            ]
          },
          "metadata": {},
          "execution_count": 55
        }
      ]
    },
    {
      "cell_type": "markdown",
      "metadata": {
        "id": "-io-45yxZwck"
      },
      "source": [
        "#### **Leacock-Chodorow Similarity** (lch)\n",
        "Similar ao anterior, porém utiliza também a profundidade máxima da taxonomia em que os sentidos ocorrem no cálculo."
      ]
    },
    {
      "cell_type": "code",
      "metadata": {
        "id": "o6c2W1a2ZwkW",
        "colab": {
          "base_uri": "https://localhost:8080/"
        },
        "outputId": "23001f91-addd-4968-f0d1-687cbb2dfa90"
      },
      "source": [
        "cachorro.lch_similarity(gato)"
      ],
      "execution_count": 56,
      "outputs": [
        {
          "output_type": "execute_result",
          "data": {
            "text/plain": [
              "2.0281482472922856"
            ]
          },
          "metadata": {},
          "execution_count": 56
        }
      ]
    },
    {
      "cell_type": "code",
      "metadata": {
        "id": "EiwqW-raesdE",
        "colab": {
          "base_uri": "https://localhost:8080/"
        },
        "outputId": "8dee9567-0e42-44eb-82a7-0f78af590803"
      },
      "source": [
        "chocar.lch_similarity(colidir)"
      ],
      "execution_count": 57,
      "outputs": [
        {
          "output_type": "execute_result",
          "data": {
            "text/plain": [
              "2.5649493574615367"
            ]
          },
          "metadata": {},
          "execution_count": 57
        }
      ]
    },
    {
      "cell_type": "code",
      "metadata": {
        "id": "xuDGU4_Pesh9",
        "colab": {
          "base_uri": "https://localhost:8080/"
        },
        "outputId": "a36b14a7-b32d-4116-f65f-c8fff1fee2c9"
      },
      "source": [
        "gato.lch_similarity(caneta)"
      ],
      "execution_count": 58,
      "outputs": [
        {
          "output_type": "execute_result",
          "data": {
            "text/plain": [
              "0.8043728156701697"
            ]
          },
          "metadata": {},
          "execution_count": 58
        }
      ]
    },
    {
      "cell_type": "markdown",
      "metadata": {
        "id": "UIK1-1B1Zwr6"
      },
      "source": [
        "#### **Wu-Palmer Similarity** (wup)\n",
        "Retorna uma pontuação indicando o quão  semelhantes os sentidos de duas palavras são, com base na profundidade dos dois sentidos na taxonomia e no seu nó ancestral mais específico."
      ]
    },
    {
      "cell_type": "code",
      "metadata": {
        "id": "11ghhQ5VZw1h",
        "colab": {
          "base_uri": "https://localhost:8080/"
        },
        "outputId": "22297ec7-7020-423f-b4e6-cd59eef16f49"
      },
      "source": [
        "cachorro.wup_similarity(gato)"
      ],
      "execution_count": 59,
      "outputs": [
        {
          "output_type": "execute_result",
          "data": {
            "text/plain": [
              "0.8571428571428571"
            ]
          },
          "metadata": {},
          "execution_count": 59
        }
      ]
    },
    {
      "cell_type": "code",
      "metadata": {
        "id": "AOAWtr4kgnno",
        "colab": {
          "base_uri": "https://localhost:8080/"
        },
        "outputId": "c4ac8bc1-5807-4a59-cc11-f401a77f4681"
      },
      "source": [
        "chocar.wup_similarity(colidir)"
      ],
      "execution_count": 60,
      "outputs": [
        {
          "output_type": "execute_result",
          "data": {
            "text/plain": [
              "0.8"
            ]
          },
          "metadata": {},
          "execution_count": 60
        }
      ]
    },
    {
      "cell_type": "code",
      "metadata": {
        "id": "Pm_yFtRwgnu-",
        "colab": {
          "base_uri": "https://localhost:8080/"
        },
        "outputId": "f0df91f3-9f0f-4f49-b6c5-c0a87bee66d3"
      },
      "source": [
        "gato.wup_similarity(caneta)"
      ],
      "execution_count": 61,
      "outputs": [
        {
          "output_type": "execute_result",
          "data": {
            "text/plain": [
              "0.3333333333333333"
            ]
          },
          "metadata": {},
          "execution_count": 61
        }
      ]
    },
    {
      "cell_type": "markdown",
      "metadata": {
        "id": "9OiN-gkc7X_k"
      },
      "source": [
        "## Referências e Material complementar\n",
        "\n",
        "*   [NLTK WordNet Interface](http://www.nltk.org/howto/wordnet.html)\n",
        "*   [openWordnet-PT](https://github.com/own-pt/openWordnet-PT)\n",
        "*   [WordNet.PT](http://wordnet.pt/)\n"
      ]
    },
    {
      "cell_type": "markdown",
      "metadata": {
        "id": "Thb-vTSMrney"
      },
      "source": [
        "Este notebook foi produzido por Prof. [Lucas Oliveira](http://lattes.cnpq.br/3611246009892500) e revisado por Carla Silveira."
      ]
    }
  ]
}