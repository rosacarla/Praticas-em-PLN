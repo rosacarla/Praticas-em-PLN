{
  "nbformat": 4,
  "nbformat_minor": 0,
  "metadata": {
    "colab": {
      "provenance": []
    },
    "kernelspec": {
      "name": "python3",
      "display_name": "Python 3"
    }
  },
  "cells": [
    {
      "cell_type": "markdown",
      "metadata": {
        "id": "Soy8N4KYlAub"
      },
      "source": [
        "# Sumarização de textos\n",
        "## Processamento de Linguagem Natural\n",
        "Nesta aula trabalharemos com uma tarefa de PLN muito popular, a Sumarização de textos. O objetivo é que ao final desta aula você entenda as [principais etapas](https://drive.google.com/file/d/10nLM6wmsXcsSmqj_dskNU7pDHBXAuSyu/view?usp=sharing) de um algoritmo de sumarização e saiba aplicar um método simples.\n",
        "\n",
        "Existem diversas bibliotecas que fornecem implementações de diversos algoritmos de sumarização prontos, como o Gensim e Sumy. Porém para entender melhor cada etapa, iremos implementar um algoritmo simples."
      ]
    },
    {
      "cell_type": "markdown",
      "metadata": {
        "id": "Asc9fsPhU9yB"
      },
      "source": [
        "## Exemplo de sumarização baseada em frequência\n",
        "*   Adaptação por Lucas Oliveira\n",
        "*   Algoritmo original por Akash Panchal e disponível em https://becominghuman.ai/text-summarization-in-5-steps-using-nltk-65b21e352b65"
      ]
    },
    {
      "cell_type": "markdown",
      "metadata": {
        "id": "cfKYFGE9VJET"
      },
      "source": [
        "### Importa os módulos de NLP do NLTK"
      ]
    },
    {
      "cell_type": "code",
      "metadata": {
        "id": "x0MpnQOgVJVs",
        "colab": {
          "base_uri": "https://localhost:8080/"
        },
        "outputId": "c35261ed-50c3-49ab-ce9a-4649fb23fba5"
      },
      "source": [
        "import nltk\n",
        "from nltk.corpus import stopwords\n",
        "from nltk.stem import PorterStemmer\n",
        "from nltk.tokenize import word_tokenize, sent_tokenize\n",
        "from string import punctuation\n",
        "nltk.download('stopwords')\n",
        "nltk.download('punkt')\n",
        "nltk.download('rslp')\n",
        "import operator"
      ],
      "execution_count": null,
      "outputs": [
        {
          "output_type": "stream",
          "name": "stderr",
          "text": [
            "[nltk_data] Downloading package stopwords to /root/nltk_data...\n",
            "[nltk_data]   Package stopwords is already up-to-date!\n",
            "[nltk_data] Downloading package punkt to /root/nltk_data...\n",
            "[nltk_data]   Package punkt is already up-to-date!\n",
            "[nltk_data] Downloading package rslp to /root/nltk_data...\n",
            "[nltk_data]   Package rslp is already up-to-date!\n"
          ]
        }
      ]
    },
    {
      "cell_type": "markdown",
      "metadata": {
        "id": "BoB796JsVPs8"
      },
      "source": [
        "### Função que cria a tabela de frequência das palavras\n",
        "Todas palavras passam pelo algoritmo de Stemming e as stopwords são retiradas.\n",
        "Então as frequências das palavras são calculadas."
      ]
    },
    {
      "cell_type": "code",
      "metadata": {
        "id": "0AvF7OIVVJZN"
      },
      "source": [
        "def tabela_de_frequencia(text_string) -> dict:\n",
        "\n",
        "    # Assim como em toda tarefa de PLN, é muito importante o pré-processamento\n",
        "    # Retiramos aqui apenas as stopwords e pontuação, mas dependendo do contexto\n",
        "    # da sumarização, talvez fosse necessária a retirada de outros itens\n",
        "    # Ex.: Nomes de pessoas em uma descrição de chat, nomes de seções em documentos, etc\n",
        "    stopWords = set(stopwords.words(\"portuguese\") + list(punctuation))\n",
        "    words = word_tokenize(text_string)\n",
        "    stemmer = nltk.stem.RSLPStemmer()\n",
        "\n",
        "    freqTable = dict()\n",
        "    for word in words:\n",
        "      #word = stemmer.stem(word)\n",
        "      #if word in stopWords:\n",
        "        #continue\n",
        "        # Se palavra já está na tabela\n",
        "        if word in freqTable:\n",
        "            # Incrementa sua frequencia\n",
        "            freqTable[word] += 1\n",
        "        else:\n",
        "            # Cria posição da palavra na tabela\n",
        "            freqTable[word] = 1\n",
        "\n",
        "    return freqTable"
      ],
      "execution_count": null,
      "outputs": []
    },
    {
      "cell_type": "markdown",
      "metadata": {
        "id": "oex3oMx9VVT0"
      },
      "source": [
        "### Função que define a pontuação das sentenças\n",
        "Para cada sentença calcula-se a pontuação baseado nas palavras da sentença que estão presentes na tabela de frequências.\n",
        "Exemplo:\n",
        "```\n",
        "freqTable = {'teste':5, 'sumarização':2}\n",
        "sentence = \"Este é um teste de sumarização\"\n",
        "```\n",
        "Para a sentença acima a pontuação será 7, pois a palavra teste tem valor 5 e a palavra sumarização 2.\n",
        "\n",
        "---\n",
        "\n",
        "Ao final a pontuação da sentença é divida pela quantidade de palavras da sentença, para evitar que sentenças longas levem vantagem sobre sentenças curtas.\n",
        "\n"
      ]
    },
    {
      "cell_type": "code",
      "metadata": {
        "id": "Xec-IZXdVJnf"
      },
      "source": [
        "def pontuar_sentencas(sentences, freqTable) -> dict:\n",
        "\n",
        "    sentenceValue = dict()\n",
        "\n",
        "    # Percorre as sentenças\n",
        "    for sentence in sentences:\n",
        "        word_count_in_sentence = (len(word_tokenize(sentence)))\n",
        "        word_count_in_sentence_except_stop_words = 0\n",
        "        # Percorre as palavras na tabela de frequência\n",
        "        for wordValue in freqTable:\n",
        "            # Caso encontre a palavra na sentença atual\n",
        "            if wordValue in sentence.lower():\n",
        "                # Incrementa contador\n",
        "                word_count_in_sentence_except_stop_words += 1\n",
        "                # Se a sentença atual já tem pontuação atribuida\n",
        "                if sentence[:10] in sentenceValue:\n",
        "                    # Soma nova pontuação\n",
        "                    sentenceValue[sentence[:10]] += freqTable[wordValue]\n",
        "                else:\n",
        "                    # Atribui valor da palavra atual para a sentença\n",
        "                    sentenceValue[sentence[:10]] = freqTable[wordValue]\n",
        "\n",
        "        # Se a sentença atual teve pontuação atribuida\n",
        "        if sentence[:10] in sentenceValue:\n",
        "            # Dividimos sua pontuação pela quantidade de palavras da sentença - para evitar que sentenças longas levem vantagem sobre sentenças curtas.\n",
        "            sentenceValue[sentence[:10]] = sentenceValue[sentence[:10]] / word_count_in_sentence_except_stop_words\n",
        "\n",
        "    return sentenceValue"
      ],
      "execution_count": null,
      "outputs": []
    },
    {
      "cell_type": "markdown",
      "metadata": {
        "id": "19pmRvISVdsA"
      },
      "source": [
        "### Função que calcula a pontuação média de todas as sentenças\n",
        "Calcula a pontuação média de todas as sentenças"
      ]
    },
    {
      "cell_type": "code",
      "metadata": {
        "id": "XgZYE9cSVJqq"
      },
      "source": [
        "def calcula_pontuacao_media(pontuacao_sentencas) -> int:\n",
        "\n",
        "    sumValues = 0\n",
        "    for entry in pontuacao_sentencas:\n",
        "        sumValues += pontuacao_sentencas[entry]\n",
        "\n",
        "    average = (sumValues / len(pontuacao_sentencas))\n",
        "\n",
        "    return average"
      ],
      "execution_count": null,
      "outputs": []
    },
    {
      "cell_type": "markdown",
      "metadata": {
        "id": "IeU6sgz8Vf_l"
      },
      "source": [
        "### Funções que geram o sumário de acordo com pontuação com número de sentenças ou taxa de compressão"
      ]
    },
    {
      "cell_type": "code",
      "metadata": {
        "id": "p-RO5oV7VJmj"
      },
      "source": [
        "def gerar_sumario(sentencasOriginais, pontuacao_sentencas, threshold):\n",
        "    contador_sentencas = 0\n",
        "    sumario = ''\n",
        "\n",
        "    for sentencaOriginal in sentencasOriginais:\n",
        "        #Threshold de pontuação\n",
        "        if sentencaOriginal[:10] in pontuacao_sentencas and pontuacao_sentencas[sentencaOriginal[:10]] >= (threshold):\n",
        "\n",
        "            sumario += \" \" + sentencaOriginal\n",
        "            contador_sentencas += 1\n",
        "\n",
        "    return sumario\n",
        "\n",
        "\n",
        "def gerar_sumario_fixo(sentencasOriginais, pontuacao_sentencas, threshold):\n",
        "    contador_sentencas = 0\n",
        "    sumario = ''\n",
        "\n",
        "    # Desenvolva a lógica aqui\n",
        "\n",
        "    return sumario\n",
        "\n",
        "def gerar_sumario_compressao(sentencasOriginais, pontuacao_sentencas, threshold):\n",
        "    contador_sentencas = 0\n",
        "    sumario = ''\n",
        "\n",
        "    # Desenvolva a lógica aqui\n",
        "\n",
        "    return sumario"
      ],
      "execution_count": null,
      "outputs": []
    },
    {
      "cell_type": "markdown",
      "metadata": {
        "id": "OxurKz_WVupG"
      },
      "source": [
        "### Exemplo de textos de entrada"
      ]
    },
    {
      "cell_type": "code",
      "metadata": {
        "id": "N6osdcL1WfL2"
      },
      "source": [
        "# Texto 1\n",
        "text = \"\"\"Dezenas de veículos foram incendiados em frente a sede do governo da região de Guerrero, no México, em um protesto pelo desaparecimento e morte de 43 estudantes da escola normal rural de Ayotzinapa.\n",
        "\n",
        "Mais de 300 jovens, a maioria com o rosto coberto, atacaram a fachada do edifício em Chipancingo, capital de Guerrero.\n",
        "\n",
        "O protesto ocorreu após o procurador-geral da República do país, Jesús Murillo Karam, informar que três homens suspeitos de ser integrantes do cartel Guerreros Unidos confessaram ter matado os estudantes e queimado seus corpos. O presidente Enrique Peña Nieto prometeu na sexta (7) punir todos os responsáveis pelos “crimes abomináveis”.\n",
        "\n",
        "Os jovens sumiram em 26 de setembro, depois de arrecadar fundos para a escola em Iguala (a 192 km da Cidade do México).\n",
        "\n",
        "Na saída da cidade, dois ônibus que voltavam à instituição com os alunos foram alvejados por policiais e traficantes do Guerreros Unidos. O ataque deixou seis mortos.\n",
        "\n",
        "Os confessores, identificados como Particio Reyes, Jonathan Osorio e Agustín García Reyes, dizem que receberam os 43 estudantes no lixão de Cocula, a 22 km de Iguala. Segundo os pistoleiros, 15 deles chegaram ao local mortos com sinais de asfixia.\n",
        "\n",
        "Segundo a Procuradoria-Geral do México, os detidos não disseram quem levou os estudantes e quem era o mandante da emboscada.\n",
        "\n",
        "O órgão, porém, acredita que o mandante foi o prefeito de Iguala, Jose Luis Abarca, preso na quarta (5).\n",
        "\n",
        "A intenção seria evitar que os alunos atrapalhassem um evento em que sua mulher, María de los Ángeles Pineda, seria lançada como candidata a sucedê-lo. A mulher de Abarca é irmã de três chefes do Guerreros Unidos.\n",
        "\n",
        "FAMILIARES\n",
        "\n",
        "Em entrevista, os parentes disseram não acreditar na versão do procurador-geral e pediram que o material recolhido seja analisado por peritos independentes.\n",
        "\n",
        "Para eles, o governo quer fazer com que eles acreditem que seus filhos estão mortos. “Sequer mostraram fotos dos nossos filhos. Enquanto não houver provas, nossos filhos estão vivos”, disse Felipe de la Cruz, pai de um dos alunos.\n",
        "\n",
        "Os pais pediram ao governo que prossiga com as buscas e permita a assistência técnica da Comissão Interamericana de Direitos Humanos.\"\"\"\n",
        "\n"
      ],
      "execution_count": null,
      "outputs": []
    },
    {
      "cell_type": "code",
      "metadata": {
        "id": "oW47THdNVJh5"
      },
      "source": [
        "# Texto 2\n",
        "text = '''O ministro Alexandre de Moraes, do Supremo Tribunal Federal (STF), validou nesta terça-feira (17) o acordo para utilização do fundo bilionário da Petrobras – de cerca de R$ 2,6 bilhões.\n",
        "\n",
        "O acordo foi assinado pelo governo federal, representantes de Câmara e Senado e da Procuradoria Geral da República (PGR) e enviado para homologação pelo ministro. Moraes validou a seguinte divisão para uso do fundo:\n",
        "\n",
        "1) R$ 1,601 bilhão para educação, sendo:\n",
        "\n",
        "R$ 1 bilhão para ações relacionadas à educação infantil;\n",
        "R$ 250 milhões para o Ministério da Cidadania, para ações relacionadas ao Programa Criança Feliz (desenvolvimento integral da Primeira Infância);\n",
        "R$ 250 milhões para o Ministério da Ciência, Tecnologia, Inovações e Comunicações, para ações de empreendedorismo e bolsas do Conselho Nacional de Desenvolvimento Científico e Tecnológico (CNPq);\n",
        "R$ 100 milhões para ações socioeducativas em cooperação com os Estados, preferencialmente por intermédio do Ministério da Mulher, da Família e dos Direitos Humanos.\n",
        "2) R$ 1,060 bilhão para Amazônia (prevenção, fiscalização e combate a desmatamentos e incêndios), sendo:\n",
        "\n",
        "R$ 630 milhões para administração pela União de ações de operações de Garantia da Lei e da Ordem (GLO) e outros institutos;\n",
        "R$ 430 milhões para execução pelos estados da região amazônica.\n",
        "Na decisão, o ministro determinou a imediata transferência dos recursos financeiros depositados, devidamente corrigidos, para uma conta única do Tesouro Nacional para que o acordo seja cumprido integralmente.\n",
        "\n",
        "Com relação ao uso R$ 430 milhões na Amazônia legal, Moraes afirmou que a utilização dos recursos deve observar:\n",
        "\n",
        "área territorial do Estado;\n",
        "população estimada na data da homologação do acordo;\n",
        "o inverso do PIB per capita dos Estados, o número de focos de queimadas;\n",
        "a área desmatada total por Estado.\n",
        "O ministro também concedeu pedido da Caixa para que a instituição desconte a remuneração relativa ao tempo em que permaneceu com a guarda dos valores.\n",
        "\n",
        "\n",
        "Alexandre de Moraes declarou ainda a nulidade do acordo firmado entre a força-tarefa da Lava Jato e a Petrobras. O ministro já havia suspenso a eficácia do acordo em março.\n",
        "\n",
        "\"A eventual apropriação, por determinados membros do Ministério Público, da administração e destinação de proveito econômico resultante da atuação do órgão, além de desrespeitar os princípios da legalidade, da impessoalidade e da moralidade administrativa, implicou séria agressão ao perfil constitucional fortalecido da Instituição\", afirmou o ministro.\n",
        "\n",
        "O ministro do Supremo validou as regras para uso dos recursos do fundo definidas no acordo. São elas:\n",
        "\n",
        "o saldo corrigido será transferido para a conta única do Tesouro Nacional;\n",
        "os recursos devem ser convertidos em receita da União, que se comprometerá a fazer com que passem a compor fonte de recursos específica, passível de acompanhamento pelos órgãos de controle;\n",
        "foi publicada a portaria “Recursos Oriundos de Leis ou Acordos Anticorrupção” para assegurar transparência e controle quando os valores forem utilizados para financiar as despesas públicas do acordo;\n",
        "a União, por meio do Ministério da Economia, se compromete a garantir as condições necessárias para execução total das despesas neste exercício financeiro e nos seguintes, até o completo exaurimento dos valores;\n",
        "a realização das despesas será concretizada especialmente por meio da concessão de limite de empenho e de movimentação financeira (“descontingenciamento”) e da abertura de créditos adicionais;\n",
        "os valores destinados aos Estados da região amazônica serão divididos mediante critérios a serem definidos pelos ministérios.\n",
        "\n",
        "Acordo da Petrobras\n",
        "Para encerrar investigações sobre a empresa nos Estados Unidos, a Petrobras acordou com autoridades norte-americanas o pagamento de US$ 853,2 milhões. Desse valor, US$ 682 milhões devem ser aplicados no Brasil - cerca de R$ 2,6 bilhões.\n",
        "\n",
        "O valor é fruto de reparação de danos admitidos pela Petrobras, e não da devolução de valores com delações premiadas.\n",
        "\n",
        "O montante foi depositado em uma conta judicial, mas está bloqueado.\n",
        "\n",
        "Inicialmente, a força-tarefa da Lava Jato havia feito um acordo com a Petrobras para criar um fundo privado com parte dinheiro. Mas o ministro do STF, Alexandre de Moraes, suspendeu o ato.'''"
      ],
      "execution_count": null,
      "outputs": []
    },
    {
      "cell_type": "markdown",
      "metadata": {
        "id": "AEWEl7AAV4LJ"
      },
      "source": [
        "### Pipeline de execução principal"
      ]
    },
    {
      "cell_type": "markdown",
      "metadata": {
        "id": "5o972AxQV7cS"
      },
      "source": [
        "###1) Cria tabela de frequência"
      ]
    },
    {
      "cell_type": "code",
      "metadata": {
        "id": "Ik7OAzWaV8Tt",
        "colab": {
          "base_uri": "https://localhost:8080/"
        },
        "outputId": "2294a47d-e035-4132-dcd5-5a36ba89d879"
      },
      "source": [
        "tabela_freq = tabela_de_frequencia(text)\n",
        "print(tabela_freq)"
      ],
      "execution_count": null,
      "outputs": [
        {
          "output_type": "stream",
          "name": "stdout",
          "text": [
            "{'O': 7, 'ministro': 8, 'Alexandre': 3, 'de': 28, 'Moraes': 5, ',': 35, 'do': 19, 'Supremo': 2, 'Tribunal': 1, 'Federal': 1, '(': 8, 'STF': 2, ')': 10, 'validou': 3, 'nesta': 1, 'terça-feira': 1, '17': 1, 'o': 13, 'acordo': 9, 'para': 22, 'utilização': 2, 'fundo': 4, 'bilionário': 1, 'da': 28, 'Petrobras': 6, '–': 1, 'cerca': 2, 'R': 11, '$': 13, '2,6': 2, 'bilhões': 2, '.': 18, 'foi': 3, 'assinado': 1, 'pelo': 2, 'governo': 1, 'federal': 1, 'representantes': 1, 'Câmara': 1, 'e': 19, 'Senado': 1, 'Procuradoria': 1, 'Geral': 1, 'República': 1, 'PGR': 1, 'enviado': 1, 'homologação': 2, 'a': 24, 'seguinte': 1, 'divisão': 1, 'uso': 3, ':': 5, '1': 2, '1,601': 1, 'bilhão': 3, 'educação': 2, 'sendo': 2, 'ações': 5, 'relacionadas': 2, 'à': 1, 'infantil': 1, ';': 12, '250': 2, 'milhões': 8, 'Ministério': 5, 'Cidadania': 1, 'ao': 4, 'Programa': 1, 'Criança': 1, 'Feliz': 1, 'desenvolvimento': 1, 'integral': 1, 'Primeira': 1, 'Infância': 1, 'Ciência': 1, 'Tecnologia': 1, 'Inovações': 1, 'Comunicações': 1, 'empreendedorismo': 1, 'bolsas': 1, 'Conselho': 1, 'Nacional': 3, 'Desenvolvimento': 1, 'Científico': 1, 'Tecnológico': 1, 'CNPq': 1, '100': 1, 'socioeducativas': 1, 'em': 5, 'cooperação': 1, 'com': 7, 'os': 5, 'Estados': 4, 'preferencialmente': 1, 'por': 5, 'intermédio': 1, 'Mulher': 1, 'Família': 1, 'dos': 7, 'Direitos': 1, 'Humanos': 1, '2': 1, '1,060': 1, 'Amazônia': 2, 'prevenção': 1, 'fiscalização': 1, 'combate': 1, 'desmatamentos': 1, 'incêndios': 1, '630': 1, 'administração': 2, 'pela': 2, 'União': 3, 'operações': 1, 'Garantia': 1, 'Lei': 1, 'Ordem': 1, 'GLO': 1, 'outros': 1, 'institutos': 1, '430': 2, 'execução': 2, 'pelos': 3, 'estados': 1, 'região': 2, 'amazônica': 2, 'Na': 1, 'decisão': 1, 'determinou': 1, 'imediata': 1, 'transferência': 1, 'recursos': 5, 'financeiros': 1, 'depositados': 1, 'devidamente': 1, 'corrigidos': 1, 'uma': 2, 'conta': 3, 'única': 2, 'Tesouro': 2, 'que': 6, 'seja': 1, 'cumprido': 1, 'integralmente': 1, 'Com': 1, 'relação': 1, 'na': 2, 'legal': 1, 'afirmou': 2, 'deve': 1, 'observar': 1, 'área': 2, 'territorial': 1, 'Estado': 2, 'população': 1, 'estimada': 1, 'data': 1, 'inverso': 1, 'PIB': 1, 'per': 1, 'capita': 1, 'número': 1, 'focos': 1, 'queimadas': 1, 'desmatada': 1, 'total': 2, 'também': 1, 'concedeu': 1, 'pedido': 1, 'Caixa': 1, 'instituição': 1, 'desconte': 1, 'remuneração': 1, 'relativa': 1, 'tempo': 1, 'permaneceu': 1, 'guarda': 1, 'valores': 5, 'declarou': 1, 'ainda': 1, 'nulidade': 1, 'firmado': 1, 'entre': 1, 'força-tarefa': 2, 'Lava': 2, 'Jato': 2, 'já': 1, 'havia': 2, 'suspenso': 1, 'eficácia': 1, 'março': 1, '``': 1, 'A': 1, 'eventual': 1, 'apropriação': 1, 'determinados': 1, 'membros': 1, 'Público': 1, 'destinação': 1, 'proveito': 1, 'econômico': 1, 'resultante': 1, 'atuação': 1, 'órgão': 1, 'além': 1, 'desrespeitar': 1, 'princípios': 1, 'legalidade': 1, 'impessoalidade': 1, 'moralidade': 1, 'administrativa': 1, 'implicou': 1, 'séria': 1, 'agressão': 1, 'perfil': 1, 'constitucional': 1, 'fortalecido': 1, 'Instituição': 1, \"''\": 1, 'as': 3, 'regras': 1, 'definidas': 1, 'no': 2, 'São': 1, 'elas': 1, 'saldo': 1, 'corrigido': 1, 'será': 2, 'transferido': 1, 'devem': 2, 'ser': 2, 'convertidos': 1, 'receita': 1, 'se': 2, 'comprometerá': 1, 'fazer': 1, 'passem': 1, 'compor': 1, 'fonte': 1, 'específica': 1, 'passível': 1, 'acompanhamento': 1, 'órgãos': 1, 'controle': 2, 'publicada': 1, 'portaria': 1, '“': 2, 'Recursos': 1, 'Oriundos': 1, 'Leis': 1, 'ou': 1, 'Acordos': 1, 'Anticorrupção': 1, '”': 2, 'assegurar': 1, 'transparência': 1, 'quando': 1, 'forem': 1, 'utilizados': 1, 'financiar': 1, 'despesas': 3, 'públicas': 1, 'meio': 2, 'Economia': 1, 'compromete': 1, 'garantir': 1, 'condições': 1, 'necessárias': 1, 'das': 2, 'neste': 1, 'exercício': 1, 'financeiro': 1, 'nos': 2, 'seguintes': 1, 'até': 1, 'completo': 1, 'exaurimento': 1, 'realização': 1, 'concretizada': 1, 'especialmente': 1, 'concessão': 1, 'limite': 1, 'empenho': 1, 'movimentação': 1, 'financeira': 1, 'descontingenciamento': 1, 'abertura': 1, 'créditos': 1, 'adicionais': 1, 'destinados': 1, 'aos': 1, 'serão': 1, 'divididos': 1, 'mediante': 1, 'critérios': 1, 'serem': 1, 'definidos': 1, 'ministérios': 1, 'Acordo': 1, 'Para': 1, 'encerrar': 1, 'investigações': 1, 'sobre': 1, 'empresa': 1, 'Unidos': 1, 'acordou': 1, 'autoridades': 1, 'norte-americanas': 1, 'pagamento': 1, 'US': 2, '853,2': 1, 'Desse': 1, 'valor': 2, '682': 1, 'aplicados': 1, 'Brasil': 1, '-': 1, 'é': 1, 'fruto': 1, 'reparação': 1, 'danos': 1, 'admitidos': 1, 'não': 1, 'devolução': 1, 'delações': 1, 'premiadas': 1, 'montante': 1, 'depositado': 1, 'judicial': 1, 'mas': 1, 'está': 1, 'bloqueado': 1, 'Inicialmente': 1, 'feito': 1, 'um': 2, 'criar': 1, 'privado': 1, 'parte': 1, 'dinheiro': 1, 'Mas': 1, 'suspendeu': 1, 'ato': 1}\n"
          ]
        }
      ]
    },
    {
      "cell_type": "markdown",
      "metadata": {
        "id": "kzD-gCbwV8cb"
      },
      "source": [
        "###2) Segmenta as sentenças"
      ]
    },
    {
      "cell_type": "code",
      "metadata": {
        "id": "Heg-HxLbV8lo",
        "colab": {
          "base_uri": "https://localhost:8080/"
        },
        "outputId": "cb22ac22-88b1-4bc2-cb77-0c2ba2a45e14"
      },
      "source": [
        "sentencas = sent_tokenize(text)\n",
        "print(sentencas)"
      ],
      "execution_count": null,
      "outputs": [
        {
          "output_type": "stream",
          "name": "stdout",
          "text": [
            "['O ministro Alexandre de Moraes, do Supremo Tribunal Federal (STF), validou nesta terça-feira (17) o acordo para utilização do fundo bilionário da Petrobras – de cerca de R$ 2,6 bilhões.', 'O acordo foi assinado pelo governo federal, representantes de Câmara e Senado e da Procuradoria Geral da República (PGR) e enviado para homologação pelo ministro.', 'Moraes validou a seguinte divisão para uso do fundo:\\n\\n1) R$ 1,601 bilhão para educação, sendo:\\n\\nR$ 1 bilhão para ações relacionadas à educação infantil;\\nR$ 250 milhões para o Ministério da Cidadania, para ações relacionadas ao Programa Criança Feliz (desenvolvimento integral da Primeira Infância);\\nR$ 250 milhões para o Ministério da Ciência, Tecnologia, Inovações e Comunicações, para ações de empreendedorismo e bolsas do Conselho Nacional de Desenvolvimento Científico e Tecnológico (CNPq);\\nR$ 100 milhões para ações socioeducativas em cooperação com os Estados, preferencialmente por intermédio do Ministério da Mulher, da Família e dos Direitos Humanos.', '2) R$ 1,060 bilhão para Amazônia (prevenção, fiscalização e combate a desmatamentos e incêndios), sendo:\\n\\nR$ 630 milhões para administração pela União de ações de operações de Garantia da Lei e da Ordem (GLO) e outros institutos;\\nR$ 430 milhões para execução pelos estados da região amazônica.', 'Na decisão, o ministro determinou a imediata transferência dos recursos financeiros depositados, devidamente corrigidos, para uma conta única do Tesouro Nacional para que o acordo seja cumprido integralmente.', 'Com relação ao uso R$ 430 milhões na Amazônia legal, Moraes afirmou que a utilização dos recursos deve observar:\\n\\nárea territorial do Estado;\\npopulação estimada na data da homologação do acordo;\\no inverso do PIB per capita dos Estados, o número de focos de queimadas;\\na área desmatada total por Estado.', 'O ministro também concedeu pedido da Caixa para que a instituição desconte a remuneração relativa ao tempo em que permaneceu com a guarda dos valores.', 'Alexandre de Moraes declarou ainda a nulidade do acordo firmado entre a força-tarefa da Lava Jato e a Petrobras.', 'O ministro já havia suspenso a eficácia do acordo em março.', '\"A eventual apropriação, por determinados membros do Ministério Público, da administração e destinação de proveito econômico resultante da atuação do órgão, além de desrespeitar os princípios da legalidade, da impessoalidade e da moralidade administrativa, implicou séria agressão ao perfil constitucional fortalecido da Instituição\", afirmou o ministro.', 'O ministro do Supremo validou as regras para uso dos recursos do fundo definidas no acordo.', 'São elas:\\n\\no saldo corrigido será transferido para a conta única do Tesouro Nacional;\\nos recursos devem ser convertidos em receita da União, que se comprometerá a fazer com que passem a compor fonte de recursos específica, passível de acompanhamento pelos órgãos de controle;\\nfoi publicada a portaria “Recursos Oriundos de Leis ou Acordos Anticorrupção” para assegurar transparência e controle quando os valores forem utilizados para financiar as despesas públicas do acordo;\\na União, por meio do Ministério da Economia, se compromete a garantir as condições necessárias para execução total das despesas neste exercício financeiro e nos seguintes, até o completo exaurimento dos valores;\\na realização das despesas será concretizada especialmente por meio da concessão de limite de empenho e de movimentação financeira (“descontingenciamento”) e da abertura de créditos adicionais;\\nos valores destinados aos Estados da região amazônica serão divididos mediante critérios a serem definidos pelos ministérios.', 'Acordo da Petrobras\\nPara encerrar investigações sobre a empresa nos Estados Unidos, a Petrobras acordou com autoridades norte-americanas o pagamento de US$ 853,2 milhões.', 'Desse valor, US$ 682 milhões devem ser aplicados no Brasil - cerca de R$ 2,6 bilhões.', 'O valor é fruto de reparação de danos admitidos pela Petrobras, e não da devolução de valores com delações premiadas.', 'O montante foi depositado em uma conta judicial, mas está bloqueado.', 'Inicialmente, a força-tarefa da Lava Jato havia feito um acordo com a Petrobras para criar um fundo privado com parte dinheiro.', 'Mas o ministro do STF, Alexandre de Moraes, suspendeu o ato.']\n"
          ]
        }
      ]
    },
    {
      "cell_type": "markdown",
      "metadata": {
        "id": "qFVDfbEqV8uW"
      },
      "source": [
        "### 3) Pontuação das sentenças"
      ]
    },
    {
      "cell_type": "code",
      "metadata": {
        "id": "sZp5pyk3V83a",
        "colab": {
          "base_uri": "https://localhost:8080/"
        },
        "outputId": "75b47ce2-eb1f-41f8-c4b0-fb081dc564fa"
      },
      "source": [
        "pontuacao_sentencas = pontuar_sentencas(sentencas, tabela_freq)\n",
        "print(pontuacao_sentencas)"
      ],
      "execution_count": null,
      "outputs": [
        {
          "output_type": "stream",
          "name": "stdout",
          "text": [
            "{'O ministro': 10.43245160636465, 'O acordo f': 10.48, 'Moraes val': 6.189655172413793, '2) R$ 1,06': 7.195652173913044, 'Na decisão': 7.2894736842105265, 'Com relaçã': 6.387755102040816, 'Alexandre ': 9.5, '\"A eventua': 5.6, 'São elas:\\n': 3.7981651376146788, 'Acordo da ': 8.441176470588236, 'Desse valo': 8.384615384615385, 'O valor é ': 8.733333333333333, 'O montante': 9.095238095238095, 'Inicialmen': 9.727272727272727, 'Mas o mini': 14.166666666666666}\n"
          ]
        }
      ]
    },
    {
      "cell_type": "markdown",
      "metadata": {
        "id": "soEKJPdWV9AH"
      },
      "source": [
        "###4) Definição de threshold"
      ]
    },
    {
      "cell_type": "code",
      "metadata": {
        "id": "RyCyQjLvV9Iz"
      },
      "source": [
        "# Você pode mudar os valores de acordo com o método de sumarização que for utilizar/desenvolver\n",
        "\n",
        "#Threshold de pontuação\n",
        "threshold = calcula_pontuacao_media(pontuacao_sentencas)\n",
        "\n",
        "#Threshold de número de sentenças\n",
        "#threshold = 3\n",
        "\n",
        "#Threshold de taxa compressão\n",
        "#threshold = 0.3"
      ],
      "execution_count": null,
      "outputs": []
    },
    {
      "cell_type": "code",
      "source": [
        "threshold\n",
        "# Se uma sentença tiver pontuação acima do threshold, ela erá escolhida (extraída) para o texto final\n",
        "# Para abordagem de sumarizaçãio extrativa, não gera texto novo."
      ],
      "metadata": {
        "colab": {
          "base_uri": "https://localhost:8080/"
        },
        "id": "oa85I28fDlxf",
        "outputId": "bfeb1d08-6059-4602-ea61-56753b6e3d0b"
      },
      "execution_count": null,
      "outputs": [
        {
          "output_type": "execute_result",
          "data": {
            "text/plain": [
              "8.361430370284797"
            ]
          },
          "metadata": {},
          "execution_count": 72
        }
      ]
    },
    {
      "cell_type": "markdown",
      "metadata": {
        "id": "LSpEaSRkV9Qv"
      },
      "source": [
        "###5) Gera o sumário\n",
        "Alterne entre as 3 chamadas de função abaixo para modificar a método de sumarização.\n",
        "Desenvolva duas novas versões do algoritmo, uma para criar um sumário final com número fixo de sentenças e outra para criar baseado em uma taxa de compressão (e.g., sumário terá 30% do tamanho original do texto).\n",
        "\n",
        "O gabarito dos métodos pedidos pode ser encontrado [aqui](https://colab.research.google.com/drive/10nF0N18xeipjSJ-1PzPDdITTqIr1akPi)."
      ]
    },
    {
      "cell_type": "code",
      "metadata": {
        "id": "OQuECgjlV9Zu",
        "colab": {
          "base_uri": "https://localhost:8080/"
        },
        "outputId": "b6aa635e-dd3e-4998-9600-dca0711cc23a"
      },
      "source": [
        "#Threshold de pontuação\n",
        "sumario = gerar_sumario(sentencas, pontuacao_sentencas, threshold)\n",
        "\n",
        "#Threshold de número de sentenças\n",
        "#sumario = gerar_sumario_fixo(sentencas, pontuacao_sentencas, threshold)\n",
        "\n",
        "#Threshold de taxa compressão\n",
        "#sumario = gerar_sumario_compressao(sentencas, pontuacao_sentencas, threshold)\n",
        "print(sumario)"
      ],
      "execution_count": null,
      "outputs": [
        {
          "output_type": "stream",
          "name": "stdout",
          "text": [
            " O ministro Alexandre de Moraes, do Supremo Tribunal Federal (STF), validou nesta terça-feira (17) o acordo para utilização do fundo bilionário da Petrobras – de cerca de R$ 2,6 bilhões. O acordo foi assinado pelo governo federal, representantes de Câmara e Senado e da Procuradoria Geral da República (PGR) e enviado para homologação pelo ministro. O ministro também concedeu pedido da Caixa para que a instituição desconte a remuneração relativa ao tempo em que permaneceu com a guarda dos valores. Alexandre de Moraes declarou ainda a nulidade do acordo firmado entre a força-tarefa da Lava Jato e a Petrobras. O ministro já havia suspenso a eficácia do acordo em março. O ministro do Supremo validou as regras para uso dos recursos do fundo definidas no acordo. Acordo da Petrobras\n",
            "Para encerrar investigações sobre a empresa nos Estados Unidos, a Petrobras acordou com autoridades norte-americanas o pagamento de US$ 853,2 milhões. Desse valor, US$ 682 milhões devem ser aplicados no Brasil - cerca de R$ 2,6 bilhões. O valor é fruto de reparação de danos admitidos pela Petrobras, e não da devolução de valores com delações premiadas. O montante foi depositado em uma conta judicial, mas está bloqueado. Inicialmente, a força-tarefa da Lava Jato havia feito um acordo com a Petrobras para criar um fundo privado com parte dinheiro. Mas o ministro do STF, Alexandre de Moraes, suspendeu o ato.\n"
          ]
        }
      ]
    },
    {
      "cell_type": "markdown",
      "metadata": {
        "id": "Xb1cIIW3Wl6D"
      },
      "source": [
        "## Atividades\n",
        "\n",
        "<b>1. Execute a sumarização do texto 1 e analise a tabela de frequência. Você considera que os tokens com maior peso realmente são os mais importantes?</b>\n",
        "\n"
      ]
    },
    {
      "cell_type": "code",
      "source": [
        "# Texto 1\n",
        "text1 = \"\"\"Dezenas de veículos foram incendiados em frente a sede do governo da região de Guerrero, no México, em um protesto pelo desaparecimento e morte de 43 estudantes da escola normal rural de Ayotzinapa.\n",
        "\n",
        "Mais de 300 jovens, a maioria com o rosto coberto, atacaram a fachada do edifício em Chipancingo, capital de Guerrero.\n",
        "\n",
        "O protesto ocorreu após o procurador-geral da República do país, Jesús Murillo Karam, informar que três homens suspeitos de ser integrantes do cartel Guerreros Unidos confessaram ter matado os estudantes e queimado seus corpos. O presidente Enrique Peña Nieto prometeu na sexta (7) punir todos os responsáveis pelos “crimes abomináveis”.\n",
        "\n",
        "Os jovens sumiram em 26 de setembro, depois de arrecadar fundos para a escola em Iguala (a 192 km da Cidade do México).\n",
        "\n",
        "Na saída da cidade, dois ônibus que voltavam à instituição com os alunos foram alvejados por policiais e traficantes do Guerreros Unidos. O ataque deixou seis mortos.\n",
        "\n",
        "Os confessores, identificados como Particio Reyes, Jonathan Osorio e Agustín García Reyes, dizem que receberam os 43 estudantes no lixão de Cocula, a 22 km de Iguala. Segundo os pistoleiros, 15 deles chegaram ao local mortos com sinais de asfixia.\n",
        "\n",
        "Segundo a Procuradoria-Geral do México, os detidos não disseram quem levou os estudantes e quem era o mandante da emboscada.\n",
        "\n",
        "O órgão, porém, acredita que o mandante foi o prefeito de Iguala, Jose Luis Abarca, preso na quarta (5).\n",
        "\n",
        "A intenção seria evitar que os alunos atrapalhassem um evento em que sua mulher, María de los Ángeles Pineda, seria lançada como candidata a sucedê-lo. A mulher de Abarca é irmã de três chefes do Guerreros Unidos.\n",
        "\n",
        "FAMILIARES\n",
        "\n",
        "Em entrevista, os parentes disseram não acreditar na versão do procurador-geral e pediram que o material recolhido seja analisado por peritos independentes.\n",
        "\n",
        "Para eles, o governo quer fazer com que eles acreditem que seus filhos estão mortos. “Sequer mostraram fotos dos nossos filhos. Enquanto não houver provas, nossos filhos estão vivos”, disse Felipe de la Cruz, pai de um dos alunos.\n",
        "\n",
        "Os pais pediram ao governo que prossiga com as buscas e permita a assistência técnica da Comissão Interamericana de Direitos Humanos.\"\"\"\n"
      ],
      "metadata": {
        "id": "UtxZEng1HJ6Q"
      },
      "execution_count": null,
      "outputs": []
    },
    {
      "cell_type": "code",
      "source": [
        "# Cria tabela de frequencia do texto 1\n",
        "tabela_freq = tabela_de_frequencia(text1)\n",
        "print(tabela_freq)"
      ],
      "metadata": {
        "colab": {
          "base_uri": "https://localhost:8080/"
        },
        "id": "b7wTM34PGyNI",
        "outputId": "d839bd0f-701a-4135-b04d-ece5ecc9cbc5"
      },
      "execution_count": null,
      "outputs": [
        {
          "output_type": "stream",
          "name": "stdout",
          "text": [
            "{'Dezenas': 1, 'de': 19, 'veículos': 1, 'foram': 2, 'incendiados': 1, 'em': 6, 'frente': 1, 'a': 9, 'sede': 1, 'do': 9, 'governo': 3, 'da': 7, 'região': 1, 'Guerrero': 2, ',': 26, 'no': 2, 'México': 3, 'um': 3, 'protesto': 2, 'pelo': 1, 'desaparecimento': 1, 'e': 7, 'morte': 1, '43': 2, 'estudantes': 4, 'escola': 2, 'normal': 1, 'rural': 1, 'Ayotzinapa': 1, '.': 18, 'Mais': 1, '300': 1, 'jovens': 2, 'maioria': 1, 'com': 5, 'o': 7, 'rosto': 1, 'coberto': 1, 'atacaram': 1, 'fachada': 1, 'edifício': 1, 'Chipancingo': 1, 'capital': 1, 'O': 4, 'ocorreu': 1, 'após': 1, 'procurador-geral': 2, 'República': 1, 'país': 1, 'Jesús': 1, 'Murillo': 1, 'Karam': 1, 'informar': 1, 'que': 10, 'três': 2, 'homens': 1, 'suspeitos': 1, 'ser': 1, 'integrantes': 1, 'cartel': 1, 'Guerreros': 3, 'Unidos': 3, 'confessaram': 1, 'ter': 1, 'matado': 1, 'os': 9, 'queimado': 1, 'seus': 2, 'corpos': 1, 'presidente': 1, 'Enrique': 1, 'Peña': 1, 'Nieto': 1, 'prometeu': 1, 'na': 3, 'sexta': 1, '(': 3, '7': 1, ')': 3, 'punir': 1, 'todos': 1, 'responsáveis': 1, 'pelos': 1, '“': 2, 'crimes': 1, 'abomináveis': 1, '”': 2, 'Os': 3, 'sumiram': 1, '26': 1, 'setembro': 1, 'depois': 1, 'arrecadar': 1, 'fundos': 1, 'para': 1, 'Iguala': 3, '192': 1, 'km': 2, 'Cidade': 1, 'Na': 1, 'saída': 1, 'cidade': 1, 'dois': 1, 'ônibus': 1, 'voltavam': 1, 'à': 1, 'instituição': 1, 'alunos': 3, 'alvejados': 1, 'por': 2, 'policiais': 1, 'traficantes': 1, 'ataque': 1, 'deixou': 1, 'seis': 1, 'mortos': 3, 'confessores': 1, 'identificados': 1, 'como': 2, 'Particio': 1, 'Reyes': 2, 'Jonathan': 1, 'Osorio': 1, 'Agustín': 1, 'García': 1, 'dizem': 1, 'receberam': 1, 'lixão': 1, 'Cocula': 1, '22': 1, 'Segundo': 2, 'pistoleiros': 1, '15': 1, 'deles': 1, 'chegaram': 1, 'ao': 2, 'local': 1, 'sinais': 1, 'asfixia': 1, 'Procuradoria-Geral': 1, 'detidos': 1, 'não': 3, 'disseram': 2, 'quem': 2, 'levou': 1, 'era': 1, 'mandante': 2, 'emboscada': 1, 'órgão': 1, 'porém': 1, 'acredita': 1, 'foi': 1, 'prefeito': 1, 'Jose': 1, 'Luis': 1, 'Abarca': 2, 'preso': 1, 'quarta': 1, '5': 1, 'A': 2, 'intenção': 1, 'seria': 2, 'evitar': 1, 'atrapalhassem': 1, 'evento': 1, 'sua': 1, 'mulher': 2, 'María': 1, 'los': 1, 'Ángeles': 1, 'Pineda': 1, 'lançada': 1, 'candidata': 1, 'sucedê-lo': 1, 'é': 1, 'irmã': 1, 'chefes': 1, 'FAMILIARES': 1, 'Em': 1, 'entrevista': 1, 'parentes': 1, 'acreditar': 1, 'versão': 1, 'pediram': 2, 'material': 1, 'recolhido': 1, 'seja': 1, 'analisado': 1, 'peritos': 1, 'independentes': 1, 'Para': 1, 'eles': 2, 'quer': 1, 'fazer': 1, 'acreditem': 1, 'filhos': 3, 'estão': 2, 'Sequer': 1, 'mostraram': 1, 'fotos': 1, 'dos': 2, 'nossos': 2, 'Enquanto': 1, 'houver': 1, 'provas': 1, 'vivos': 1, 'disse': 1, 'Felipe': 1, 'la': 1, 'Cruz': 1, 'pai': 1, 'pais': 1, 'prossiga': 1, 'as': 1, 'buscas': 1, 'permita': 1, 'assistência': 1, 'técnica': 1, 'Comissão': 1, 'Interamericana': 1, 'Direitos': 1, 'Humanos': 1}\n"
          ]
        }
      ]
    },
    {
      "cell_type": "markdown",
      "source": [
        "RESPOSTA: os tokens com maior peso NÃO são os mais importantes, ref. a saída 1."
      ],
      "metadata": {
        "id": "YRr4Y8mLIQcp"
      }
    },
    {
      "cell_type": "code",
      "source": [
        "# Segmenta as sentenças\n",
        "sentencas = sent_tokenize(text1)\n",
        "print(sentencas)"
      ],
      "metadata": {
        "colab": {
          "base_uri": "https://localhost:8080/"
        },
        "id": "oybjS2o5GyHw",
        "outputId": "f79dc0c0-90e5-4f80-cce7-ac2db5951543"
      },
      "execution_count": null,
      "outputs": [
        {
          "output_type": "stream",
          "name": "stdout",
          "text": [
            "['Dezenas de veículos foram incendiados em frente a sede do governo da região de Guerrero, no México, em um protesto pelo desaparecimento e morte de 43 estudantes da escola normal rural de Ayotzinapa.', 'Mais de 300 jovens, a maioria com o rosto coberto, atacaram a fachada do edifício em Chipancingo, capital de Guerrero.', 'O protesto ocorreu após o procurador-geral da República do país, Jesús Murillo Karam, informar que três homens suspeitos de ser integrantes do cartel Guerreros Unidos confessaram ter matado os estudantes e queimado seus corpos.', 'O presidente Enrique Peña Nieto prometeu na sexta (7) punir todos os responsáveis pelos “crimes abomináveis”.', 'Os jovens sumiram em 26 de setembro, depois de arrecadar fundos para a escola em Iguala (a 192 km da Cidade do México).', 'Na saída da cidade, dois ônibus que voltavam à instituição com os alunos foram alvejados por policiais e traficantes do Guerreros Unidos.', 'O ataque deixou seis mortos.', 'Os confessores, identificados como Particio Reyes, Jonathan Osorio e Agustín García Reyes, dizem que receberam os 43 estudantes no lixão de Cocula, a 22 km de Iguala.', 'Segundo os pistoleiros, 15 deles chegaram ao local mortos com sinais de asfixia.', 'Segundo a Procuradoria-Geral do México, os detidos não disseram quem levou os estudantes e quem era o mandante da emboscada.', 'O órgão, porém, acredita que o mandante foi o prefeito de Iguala, Jose Luis Abarca, preso na quarta (5).', 'A intenção seria evitar que os alunos atrapalhassem um evento em que sua mulher, María de los Ángeles Pineda, seria lançada como candidata a sucedê-lo.', 'A mulher de Abarca é irmã de três chefes do Guerreros Unidos.', 'FAMILIARES\\n\\nEm entrevista, os parentes disseram não acreditar na versão do procurador-geral e pediram que o material recolhido seja analisado por peritos independentes.', 'Para eles, o governo quer fazer com que eles acreditem que seus filhos estão mortos.', '“Sequer mostraram fotos dos nossos filhos.', 'Enquanto não houver provas, nossos filhos estão vivos”, disse Felipe de la Cruz, pai de um dos alunos.', 'Os pais pediram ao governo que prossiga com as buscas e permita a assistência técnica da Comissão Interamericana de Direitos Humanos.']\n"
          ]
        }
      ]
    },
    {
      "cell_type": "code",
      "source": [
        "# Calcula a pontuação das sentenças\n",
        "pontuacao_sentencas = pontuar_sentencas(sentencas, tabela_freq)\n",
        "print(pontuacao_sentencas)"
      ],
      "metadata": {
        "colab": {
          "base_uri": "https://localhost:8080/"
        },
        "id": "vwAloybHGyCx",
        "outputId": "4f9a5b7a-2dc7-46c0-b1c6-7787c48712ba"
      },
      "execution_count": null,
      "outputs": [
        {
          "output_type": "stream",
          "name": "stdout",
          "text": [
            "{'Dezenas de': 4.588235294117647, 'Mais de 30': 6.6, 'O protesto': 4.838709677419355, 'O presiden': 4.423076923076923, 'Os jovens ': 5.178571428571429, 'Na saída d': 5.555555555555555, 'O ataque d': 7.7272727272727275, 'Os confess': 5.814814814814815, 'Segundo os': 5.818181818181818, 'Segundo a ': 6.208333333333333, 'O órgão, p': 5.625, 'A intenção': 5.033333333333333, 'A mulher d': 6.6923076923076925, 'FAMILIARES': 4.806451612903226, 'Para eles,': 5.9, '“Sequer mo': 5.533333333333333, 'Enquanto n': 5.541666666666667, 'Os pais pe': 4.5}\n"
          ]
        }
      ]
    },
    {
      "cell_type": "code",
      "source": [
        "# Define o threshold\n",
        "#Threshold de pontuação\n",
        "threshold = calcula_pontuacao_media(pontuacao_sentencas)\n",
        "\n",
        "#Threshold de número de sentenças\n",
        "#threshold = 3\n",
        "\n",
        "#Threshold de taxa compressão\n",
        "#threshold = 0.3\n",
        "\n",
        "# Ajuste do threshold\n",
        "# Aumentar em 50%\n",
        "threshold_aumentado = threshold * 1.5\n",
        "\n",
        "# Diminuir em 50%\n",
        "threshold_diminuido = threshold * 0.5\n",
        "\n",
        "# Aumentar em 75%\n",
        "threshold_aumentado_75 = threshold * 1.75\n",
        "\n",
        "# Diminuir em 75%\n",
        "threshold_diminuido_75 = threshold * 0.25\n",
        "\n",
        "# Aumentar em 100%\n",
        "threshold_aumentado_100 = threshold * 2.0\n",
        "\n",
        "# Diminuir em 100%\n",
        "threshold_diminuido_100 = threshold * 0.0\n",
        "\n",
        "#threshold # usado na 1a execucao pra mostrar o valor"
      ],
      "metadata": {
        "id": "hcd6CsJZGx7Y"
      },
      "execution_count": null,
      "outputs": []
    },
    {
      "cell_type": "code",
      "source": [
        "# Gera o sumário\n",
        "#Threshold de pontuação\n",
        "sumario = gerar_sumario(sentencas, pontuacao_sentencas, threshold)\n",
        "\n",
        "print(sumario)"
      ],
      "metadata": {
        "colab": {
          "base_uri": "https://localhost:8080/"
        },
        "id": "kVXQM6SiGxw5",
        "outputId": "feb764f0-2b93-4785-da14-034489c4175d"
      },
      "execution_count": null,
      "outputs": [
        {
          "output_type": "stream",
          "name": "stdout",
          "text": [
            " Mais de 300 jovens, a maioria com o rosto coberto, atacaram a fachada do edifício em Chipancingo, capital de Guerrero. O ataque deixou seis mortos. Os confessores, identificados como Particio Reyes, Jonathan Osorio e Agustín García Reyes, dizem que receberam os 43 estudantes no lixão de Cocula, a 22 km de Iguala. Segundo os pistoleiros, 15 deles chegaram ao local mortos com sinais de asfixia. Segundo a Procuradoria-Geral do México, os detidos não disseram quem levou os estudantes e quem era o mandante da emboscada. O órgão, porém, acredita que o mandante foi o prefeito de Iguala, Jose Luis Abarca, preso na quarta (5). A mulher de Abarca é irmã de três chefes do Guerreros Unidos. Para eles, o governo quer fazer com que eles acreditem que seus filhos estão mortos.\n"
          ]
        }
      ]
    },
    {
      "cell_type": "markdown",
      "source": [
        "<b>Após isso, descomente as linhas abaixo da função tabela_de_frequencia(), e re-execute.</b>\n",
        "\n",
        "```\n",
        "#word = stemmer.stem(word)\n",
        "#if word in stopWords:\n",
        "#    continue\n",
        "```\n",
        "\n",
        "<b>O que aconteceu?</b>\n",
        "\n",
        "\n",
        "\n"
      ],
      "metadata": {
        "id": "XN3qClPuGU2g"
      }
    },
    {
      "cell_type": "markdown",
      "source": [
        "RESPOSTA: Não criou a tabela de frequencia, não calculou a pontuação nem o threshold, não fez o sumário."
      ],
      "metadata": {
        "id": "wLnM81fELTvh"
      }
    },
    {
      "cell_type": "markdown",
      "source": [
        "<b>2. Verifique os resultados da sumarização ao alterarmos o valor do threshold (e.g., aumentar e diminuir em 50%, 75%, 100%). Após análise responda: o que você acha do uso de um threshold baseado em uma pontuação? Funcionaria bem para todos casos de sumarização?</b>\n"
      ],
      "metadata": {
        "id": "ts5ibVpmGUrZ"
      }
    },
    {
      "cell_type": "code",
      "source": [
        "# Gera os sumários com os thresholds ajustados\n",
        "sumario_threshold_aumentado = gerar_sumario(sentencas, pontuacao_sentencas, threshold_aumentado)\n",
        "sumario_threshold_diminuido = gerar_sumario(sentencas, pontuacao_sentencas, threshold_diminuido)\n",
        "sumario_threshold_aumentado_75 = gerar_sumario(sentencas, pontuacao_sentencas, threshold_aumentado_75)\n",
        "sumario_threshold_diminuido_75 = gerar_sumario(sentencas, pontuacao_sentencas, threshold_diminuido_75)\n",
        "sumario_threshold_aumentado_100 = gerar_sumario(sentencas, pontuacao_sentencas, threshold_aumentado_100)\n",
        "sumario_threshold_diminuido_100 = gerar_sumario(sentencas, pontuacao_sentencas, threshold_diminuido_100)"
      ],
      "metadata": {
        "id": "qMpu98q-Pnia"
      },
      "execution_count": null,
      "outputs": []
    },
    {
      "cell_type": "code",
      "source": [
        "# Imprime os sumários gerados\n",
        "print(\"1-Sumário com threshold aumentado em 50%:\")\n",
        "print(sumario_threshold_aumentado)\n",
        "\n",
        "print(\"\\n2-Sumário com threshold diminuído em 50%:\")\n",
        "print(sumario_threshold_diminuido)\n",
        "\n",
        "print(\"\\n3-Sumário com threshold aumentado em 75%:\")\n",
        "print(sumario_threshold_aumentado_75)\n",
        "\n",
        "print(\"\\n4-Sumário com threshold diminuído em 75%:\")\n",
        "print(sumario_threshold_diminuido_75)\n",
        "\n",
        "print(\"\\n5-Sumário com threshold aumentado em 100%:\")\n",
        "print(sumario_threshold_aumentado_100)\n",
        "\n",
        "print(\"\\n6-Sumário com threshold diminuído em 100%:\")\n",
        "print(sumario_threshold_diminuido_100)"
      ],
      "metadata": {
        "colab": {
          "base_uri": "https://localhost:8080/"
        },
        "id": "bckMHR9aP1-Z",
        "outputId": "96ead728-d064-41d2-9e55-d26ab365dd49"
      },
      "execution_count": null,
      "outputs": [
        {
          "output_type": "stream",
          "name": "stdout",
          "text": [
            "1-Sumário com threshold aumentado em 50%:\n",
            "\n",
            "\n",
            "2-Sumário com threshold diminuído em 50%:\n",
            " Dezenas de veículos foram incendiados em frente a sede do governo da região de Guerrero, no México, em um protesto pelo desaparecimento e morte de 43 estudantes da escola normal rural de Ayotzinapa. Mais de 300 jovens, a maioria com o rosto coberto, atacaram a fachada do edifício em Chipancingo, capital de Guerrero. O protesto ocorreu após o procurador-geral da República do país, Jesús Murillo Karam, informar que três homens suspeitos de ser integrantes do cartel Guerreros Unidos confessaram ter matado os estudantes e queimado seus corpos. O presidente Enrique Peña Nieto prometeu na sexta (7) punir todos os responsáveis pelos “crimes abomináveis”. Os jovens sumiram em 26 de setembro, depois de arrecadar fundos para a escola em Iguala (a 192 km da Cidade do México). Na saída da cidade, dois ônibus que voltavam à instituição com os alunos foram alvejados por policiais e traficantes do Guerreros Unidos. O ataque deixou seis mortos. Os confessores, identificados como Particio Reyes, Jonathan Osorio e Agustín García Reyes, dizem que receberam os 43 estudantes no lixão de Cocula, a 22 km de Iguala. Segundo os pistoleiros, 15 deles chegaram ao local mortos com sinais de asfixia. Segundo a Procuradoria-Geral do México, os detidos não disseram quem levou os estudantes e quem era o mandante da emboscada. O órgão, porém, acredita que o mandante foi o prefeito de Iguala, Jose Luis Abarca, preso na quarta (5). A intenção seria evitar que os alunos atrapalhassem um evento em que sua mulher, María de los Ángeles Pineda, seria lançada como candidata a sucedê-lo. A mulher de Abarca é irmã de três chefes do Guerreros Unidos. FAMILIARES\n",
            "\n",
            "Em entrevista, os parentes disseram não acreditar na versão do procurador-geral e pediram que o material recolhido seja analisado por peritos independentes. Para eles, o governo quer fazer com que eles acreditem que seus filhos estão mortos. “Sequer mostraram fotos dos nossos filhos. Enquanto não houver provas, nossos filhos estão vivos”, disse Felipe de la Cruz, pai de um dos alunos. Os pais pediram ao governo que prossiga com as buscas e permita a assistência técnica da Comissão Interamericana de Direitos Humanos.\n",
            "\n",
            "3-Sumário com threshold aumentado em 75%:\n",
            "\n",
            "\n",
            "4-Sumário com threshold diminuído em 75%:\n",
            " Dezenas de veículos foram incendiados em frente a sede do governo da região de Guerrero, no México, em um protesto pelo desaparecimento e morte de 43 estudantes da escola normal rural de Ayotzinapa. Mais de 300 jovens, a maioria com o rosto coberto, atacaram a fachada do edifício em Chipancingo, capital de Guerrero. O protesto ocorreu após o procurador-geral da República do país, Jesús Murillo Karam, informar que três homens suspeitos de ser integrantes do cartel Guerreros Unidos confessaram ter matado os estudantes e queimado seus corpos. O presidente Enrique Peña Nieto prometeu na sexta (7) punir todos os responsáveis pelos “crimes abomináveis”. Os jovens sumiram em 26 de setembro, depois de arrecadar fundos para a escola em Iguala (a 192 km da Cidade do México). Na saída da cidade, dois ônibus que voltavam à instituição com os alunos foram alvejados por policiais e traficantes do Guerreros Unidos. O ataque deixou seis mortos. Os confessores, identificados como Particio Reyes, Jonathan Osorio e Agustín García Reyes, dizem que receberam os 43 estudantes no lixão de Cocula, a 22 km de Iguala. Segundo os pistoleiros, 15 deles chegaram ao local mortos com sinais de asfixia. Segundo a Procuradoria-Geral do México, os detidos não disseram quem levou os estudantes e quem era o mandante da emboscada. O órgão, porém, acredita que o mandante foi o prefeito de Iguala, Jose Luis Abarca, preso na quarta (5). A intenção seria evitar que os alunos atrapalhassem um evento em que sua mulher, María de los Ángeles Pineda, seria lançada como candidata a sucedê-lo. A mulher de Abarca é irmã de três chefes do Guerreros Unidos. FAMILIARES\n",
            "\n",
            "Em entrevista, os parentes disseram não acreditar na versão do procurador-geral e pediram que o material recolhido seja analisado por peritos independentes. Para eles, o governo quer fazer com que eles acreditem que seus filhos estão mortos. “Sequer mostraram fotos dos nossos filhos. Enquanto não houver provas, nossos filhos estão vivos”, disse Felipe de la Cruz, pai de um dos alunos. Os pais pediram ao governo que prossiga com as buscas e permita a assistência técnica da Comissão Interamericana de Direitos Humanos.\n",
            "\n",
            "5-Sumário com threshold aumentado em 100%:\n",
            "\n",
            "\n",
            "6-Sumário com threshold diminuído em 100%:\n",
            " Dezenas de veículos foram incendiados em frente a sede do governo da região de Guerrero, no México, em um protesto pelo desaparecimento e morte de 43 estudantes da escola normal rural de Ayotzinapa. Mais de 300 jovens, a maioria com o rosto coberto, atacaram a fachada do edifício em Chipancingo, capital de Guerrero. O protesto ocorreu após o procurador-geral da República do país, Jesús Murillo Karam, informar que três homens suspeitos de ser integrantes do cartel Guerreros Unidos confessaram ter matado os estudantes e queimado seus corpos. O presidente Enrique Peña Nieto prometeu na sexta (7) punir todos os responsáveis pelos “crimes abomináveis”. Os jovens sumiram em 26 de setembro, depois de arrecadar fundos para a escola em Iguala (a 192 km da Cidade do México). Na saída da cidade, dois ônibus que voltavam à instituição com os alunos foram alvejados por policiais e traficantes do Guerreros Unidos. O ataque deixou seis mortos. Os confessores, identificados como Particio Reyes, Jonathan Osorio e Agustín García Reyes, dizem que receberam os 43 estudantes no lixão de Cocula, a 22 km de Iguala. Segundo os pistoleiros, 15 deles chegaram ao local mortos com sinais de asfixia. Segundo a Procuradoria-Geral do México, os detidos não disseram quem levou os estudantes e quem era o mandante da emboscada. O órgão, porém, acredita que o mandante foi o prefeito de Iguala, Jose Luis Abarca, preso na quarta (5). A intenção seria evitar que os alunos atrapalhassem um evento em que sua mulher, María de los Ángeles Pineda, seria lançada como candidata a sucedê-lo. A mulher de Abarca é irmã de três chefes do Guerreros Unidos. FAMILIARES\n",
            "\n",
            "Em entrevista, os parentes disseram não acreditar na versão do procurador-geral e pediram que o material recolhido seja analisado por peritos independentes. Para eles, o governo quer fazer com que eles acreditem que seus filhos estão mortos. “Sequer mostraram fotos dos nossos filhos. Enquanto não houver provas, nossos filhos estão vivos”, disse Felipe de la Cruz, pai de um dos alunos. Os pais pediram ao governo que prossiga com as buscas e permita a assistência técnica da Comissão Interamericana de Direitos Humanos.\n"
          ]
        }
      ]
    },
    {
      "cell_type": "markdown",
      "source": [
        "RESPOSTA: O threshold baseado em pontuação não produziu a sumarização quando foi aumentado, por isso, não funciona em todos os casos de sumarização."
      ],
      "metadata": {
        "id": "sS0rjdHdMh4B"
      }
    },
    {
      "cell_type": "markdown",
      "source": [
        "<b>3. Na implementação do algoritmo em que o tamanho do sumário final é definido por um threshold que estabeleçe um número fixo de sentenças. Quais benefícios e malefícios desta opção?</b>\n"
      ],
      "metadata": {
        "id": "HEHqPQf8Gh7o"
      }
    },
    {
      "cell_type": "code",
      "source": [
        "# Define o threshold\n",
        "#Threshold de pontuação\n",
        "threshold = calcula_pontuacao_media(pontuacao_sentencas)\n",
        "\n",
        "#Threshold de número de sentenças\n",
        "threshold = 3"
      ],
      "metadata": {
        "id": "gipsQgpwRT95"
      },
      "execution_count": null,
      "outputs": []
    },
    {
      "cell_type": "code",
      "source": [
        "# Gera o sumário\n",
        "#Threshold de pontuação\n",
        "sumario = gerar_sumario(sentencas, pontuacao_sentencas, threshold)\n",
        "\n",
        "print(sumario)"
      ],
      "metadata": {
        "colab": {
          "base_uri": "https://localhost:8080/"
        },
        "outputId": "e597cde1-c3df-4c0b-d80e-2859c6f1c6db",
        "id": "9qyiDF6GRgf3"
      },
      "execution_count": null,
      "outputs": [
        {
          "output_type": "stream",
          "name": "stdout",
          "text": [
            " Dezenas de veículos foram incendiados em frente a sede do governo da região de Guerrero, no México, em um protesto pelo desaparecimento e morte de 43 estudantes da escola normal rural de Ayotzinapa. Mais de 300 jovens, a maioria com o rosto coberto, atacaram a fachada do edifício em Chipancingo, capital de Guerrero. O protesto ocorreu após o procurador-geral da República do país, Jesús Murillo Karam, informar que três homens suspeitos de ser integrantes do cartel Guerreros Unidos confessaram ter matado os estudantes e queimado seus corpos. O presidente Enrique Peña Nieto prometeu na sexta (7) punir todos os responsáveis pelos “crimes abomináveis”. Os jovens sumiram em 26 de setembro, depois de arrecadar fundos para a escola em Iguala (a 192 km da Cidade do México). Na saída da cidade, dois ônibus que voltavam à instituição com os alunos foram alvejados por policiais e traficantes do Guerreros Unidos. O ataque deixou seis mortos. Os confessores, identificados como Particio Reyes, Jonathan Osorio e Agustín García Reyes, dizem que receberam os 43 estudantes no lixão de Cocula, a 22 km de Iguala. Segundo os pistoleiros, 15 deles chegaram ao local mortos com sinais de asfixia. Segundo a Procuradoria-Geral do México, os detidos não disseram quem levou os estudantes e quem era o mandante da emboscada. O órgão, porém, acredita que o mandante foi o prefeito de Iguala, Jose Luis Abarca, preso na quarta (5). A intenção seria evitar que os alunos atrapalhassem um evento em que sua mulher, María de los Ángeles Pineda, seria lançada como candidata a sucedê-lo. A mulher de Abarca é irmã de três chefes do Guerreros Unidos. FAMILIARES\n",
            "\n",
            "Em entrevista, os parentes disseram não acreditar na versão do procurador-geral e pediram que o material recolhido seja analisado por peritos independentes. Para eles, o governo quer fazer com que eles acreditem que seus filhos estão mortos. “Sequer mostraram fotos dos nossos filhos. Enquanto não houver provas, nossos filhos estão vivos”, disse Felipe de la Cruz, pai de um dos alunos. Os pais pediram ao governo que prossiga com as buscas e permita a assistência técnica da Comissão Interamericana de Direitos Humanos.\n"
          ]
        }
      ]
    },
    {
      "cell_type": "markdown",
      "source": [
        "<p align='justify'>RESPOSTA: <b>A saída com nro fixo de sentenças é maior do que a saída sem fixar</b> (Dezenas de veículos foram incendiados em frente a sede do governo da região de Guerrero, no México, em um protesto pelo desaparecimento e morte de 43 estudantes da escola normal rural de Ayotzinapa. Mais de 300 jovens, a maioria com o rosto coberto, atacaram a fachada do edifício em Chipancingo, capital de Guerrero. O protesto ocorreu após o procurador-geral da República do país, Jesús Murillo Karam, informar que três homens suspeitos de ser integrantes do cartel Guerreros Unidos confessaram ter matado os estudantes e queimado seus corpos. O presidente Enrique Peña Nieto prometeu na sexta (7) punir todos os responsáveis pelos “crimes abomináveis”. Os jovens sumiram em 26 de setembro, depois de arrecadar fundos para a escola em Iguala (a 192 km da Cidade do México). Na saída da cidade, dois ônibus que voltavam à instituição com os alunos foram alvejados por policiais e traficantes do Guerreros Unidos. O ataque deixou seis mortos. Os confessores, identificados como Particio Reyes, Jonathan Osorio e Agustín García Reyes, dizem que receberam os 43 estudantes no lixão de Cocula, a 22 km de Iguala. Segundo os pistoleiros, 15 deles chegaram ao local mortos com sinais de asfixia. Segundo a Procuradoria-Geral do México, os detidos não disseram quem levou os estudantes e quem era o mandante da emboscada. O órgão, porém, acredita que o mandante foi o prefeito de Iguala, Jose Luis Abarca, preso na quarta (5). A intenção seria evitar que os alunos atrapalhassem um evento em que sua mulher, María de los Ángeles Pineda, seria lançada como candidata a sucedê-lo. A mulher de Abarca é irmã de três chefes do Guerreros Unidos. FAMILIARES</p>\n",
        "\n",
        "<p align='justify'>Em entrevista, os parentes disseram não acreditar na versão do procurador-geral e pediram que o material recolhido seja analisado por peritos independentes. Para eles, o governo quer fazer com que eles acreditem que seus filhos estão mortos. “Sequer mostraram fotos dos nossos filhos. Enquanto não houver provas, nossos filhos estão vivos”, disse Felipe de la Cruz, pai de um dos alunos. Os pais pediram ao governo que prossiga com as buscas e permita a assistência técnica da Comissão Interamericana de Direitos Humanos.)</p>\n",
        "\n",
        "- A saída do sumário sem fixar nro de sentenças é esta: Mais de 300 jovens, a maioria com o rosto coberto, atacaram a fachada do edifício em Chipancingo, capital de Guerrero. O ataque deixou seis mortos. Os confessores, identificados como Particio Reyes, Jonathan Osorio e Agustín García Reyes, dizem que receberam os 43 estudantes no lixão de Cocula, a 22 km de Iguala. Segundo os pistoleiros, 15 deles chegaram ao local mortos com sinais de asfixia. Segundo a Procuradoria-Geral do México, os detidos não disseram quem levou os estudantes e quem era o mandante da emboscada. O órgão, porém, acredita que o mandante foi o prefeito de Iguala, Jose Luis Abarca, preso na quarta (5). A mulher de Abarca é irmã de três chefes do Guerreros Unidos. Para eles, o governo quer fazer com que eles acreditem que seus filhos estão mortos."
      ],
      "metadata": {
        "id": "Zy5J2LvhPSuh"
      }
    },
    {
      "cell_type": "markdown",
      "source": [
        "<b>4. Na implementação do algoritmo em que o tamanho do sumário final é definido por um threshold que estabeleçe que o sumário final deve ter no máximo 10% do original. Quais benefícios e malefícios desta opção?</b>\n",
        "\n"
      ],
      "metadata": {
        "id": "1gAvpeEIGhzA"
      }
    },
    {
      "cell_type": "code",
      "source": [
        "# Define o threshold\n",
        "#Threshold de pontuação\n",
        "threshold = calcula_pontuacao_media(pontuacao_sentencas)\n",
        "\n",
        "#Threshold de número de sentenças\n",
        "#threshold = 3\n",
        "\n",
        "#Threshold de taxa compressão\n",
        "#threshold = 0.3\n",
        "\n",
        "# Ajuste do threshold\n",
        "# Diminuir em 10%\n",
        "threshold_diminuido = threshold * 0.01"
      ],
      "metadata": {
        "id": "RhMVFcaxS4sR"
      },
      "execution_count": null,
      "outputs": []
    },
    {
      "cell_type": "code",
      "source": [
        "# Gera o sumário com threshold menor\n",
        "sumario_threshold_diminuido = gerar_sumario(sentencas, pontuacao_sentencas, threshold_diminuido)"
      ],
      "metadata": {
        "id": "7wvC80O9TBHa"
      },
      "execution_count": null,
      "outputs": []
    },
    {
      "cell_type": "code",
      "source": [
        "# Imprime o sumário gerado\n",
        "print(\"\\n2-Sumário com threshold diminuído em 10%:\")\n",
        "print(sumario_threshold_diminuido)"
      ],
      "metadata": {
        "colab": {
          "base_uri": "https://localhost:8080/"
        },
        "id": "AOXQV445TdXA",
        "outputId": "e9d8ef6d-c4c1-4181-a67d-ff5f1efa2680"
      },
      "execution_count": null,
      "outputs": [
        {
          "output_type": "stream",
          "name": "stdout",
          "text": [
            "\n",
            "2-Sumário com threshold diminuído em 10%:\n",
            " Dezenas de veículos foram incendiados em frente a sede do governo da região de Guerrero, no México, em um protesto pelo desaparecimento e morte de 43 estudantes da escola normal rural de Ayotzinapa. Mais de 300 jovens, a maioria com o rosto coberto, atacaram a fachada do edifício em Chipancingo, capital de Guerrero. O protesto ocorreu após o procurador-geral da República do país, Jesús Murillo Karam, informar que três homens suspeitos de ser integrantes do cartel Guerreros Unidos confessaram ter matado os estudantes e queimado seus corpos. O presidente Enrique Peña Nieto prometeu na sexta (7) punir todos os responsáveis pelos “crimes abomináveis”. Os jovens sumiram em 26 de setembro, depois de arrecadar fundos para a escola em Iguala (a 192 km da Cidade do México). Na saída da cidade, dois ônibus que voltavam à instituição com os alunos foram alvejados por policiais e traficantes do Guerreros Unidos. O ataque deixou seis mortos. Os confessores, identificados como Particio Reyes, Jonathan Osorio e Agustín García Reyes, dizem que receberam os 43 estudantes no lixão de Cocula, a 22 km de Iguala. Segundo os pistoleiros, 15 deles chegaram ao local mortos com sinais de asfixia. Segundo a Procuradoria-Geral do México, os detidos não disseram quem levou os estudantes e quem era o mandante da emboscada. O órgão, porém, acredita que o mandante foi o prefeito de Iguala, Jose Luis Abarca, preso na quarta (5). A intenção seria evitar que os alunos atrapalhassem um evento em que sua mulher, María de los Ángeles Pineda, seria lançada como candidata a sucedê-lo. A mulher de Abarca é irmã de três chefes do Guerreros Unidos. FAMILIARES\n",
            "\n",
            "Em entrevista, os parentes disseram não acreditar na versão do procurador-geral e pediram que o material recolhido seja analisado por peritos independentes. Para eles, o governo quer fazer com que eles acreditem que seus filhos estão mortos. “Sequer mostraram fotos dos nossos filhos. Enquanto não houver provas, nossos filhos estão vivos”, disse Felipe de la Cruz, pai de um dos alunos. Os pais pediram ao governo que prossiga com as buscas e permita a assistência técnica da Comissão Interamericana de Direitos Humanos.\n"
          ]
        }
      ]
    },
    {
      "cell_type": "markdown",
      "source": [
        "RESPOSTA: Não se percebe a diferença da diminuição.  \n",
        "Saída do sumário diminuído em 10%: (Dezenas de veículos foram incendiados em frente a sede do governo da região de Guerrero, no México, em um protesto pelo desaparecimento e morte de 43 estudantes da escola normal rural de Ayotzinapa. Mais de 300 jovens, a maioria com o rosto coberto, atacaram a fachada do edifício em Chipancingo, capital de Guerrero. O protesto ocorreu após o procurador-geral da República do país, Jesús Murillo Karam, informar que três homens suspeitos de ser integrantes do cartel Guerreros Unidos confessaram ter matado os estudantes e queimado seus corpos. O presidente Enrique Peña Nieto prometeu na sexta (7) punir todos os responsáveis pelos “crimes abomináveis”. Os jovens sumiram em 26 de setembro, depois de arrecadar fundos para a escola em Iguala (a 192 km da Cidade do México). Na saída da cidade, dois ônibus que voltavam à instituição com os alunos foram alvejados por policiais e traficantes do Guerreros Unidos. O ataque deixou seis mortos. Os confessores, identificados como Particio Reyes, Jonathan Osorio e Agustín García Reyes, dizem que receberam os 43 estudantes no lixão de Cocula, a 22 km de Iguala. Segundo os pistoleiros, 15 deles chegaram ao local mortos com sinais de asfixia. Segundo a Procuradoria-Geral do México, os detidos não disseram quem levou os estudantes e quem era o mandante da emboscada. O órgão, porém, acredita que o mandante foi o prefeito de Iguala, Jose Luis Abarca, preso na quarta (5). A intenção seria evitar que os alunos atrapalhassem um evento em que sua mulher, María de los Ángeles Pineda, seria lançada como candidata a sucedê-lo. A mulher de Abarca é irmã de três chefes do Guerreros Unidos. FAMILIARES\n",
        "\n",
        "Em entrevista, os parentes disseram não acreditar na versão do procurador-geral e pediram que o material recolhido seja analisado por peritos independentes. Para eles, o governo quer fazer com que eles acreditem que seus filhos estão mortos. “Sequer mostraram fotos dos nossos filhos. Enquanto não houver provas, nossos filhos estão vivos”, disse Felipe de la Cruz, pai de um dos alunos. Os pais pediram ao governo que prossiga com as buscas e permita a assistência técnica da Comissão Interamericana de Direitos Humanos.)"
      ],
      "metadata": {
        "id": "pjbsfSfMSu_Z"
      }
    },
    {
      "cell_type": "markdown",
      "source": [
        "## Desafios\n"
      ],
      "metadata": {
        "id": "I7fdnnz4Ghlp"
      }
    },
    {
      "cell_type": "markdown",
      "source": [
        "*   Implementar função de filtragem das sentenças, para retirar sentenças com alto grau de similaridade semântica (pode-se fazer uso de WordNets, Word Embeddings, etc.). Antes de inserir uma nova sentença na lista de selecionadas, verificar similaridade da mesma com as previamente selecionadas. Caso tenha alto grau de similaridade (defina um threshold), descartar.\n"
      ],
      "metadata": {
        "id": "Z9bTImCpGUhx"
      }
    },
    {
      "cell_type": "markdown",
      "source": [
        "*   Faça uma implementação que ao invés de usar apenas a frequência simples como fator de importância, que utilize o TF-IDF (https://github.com/akashp1712/nlp-akash/blob/master/text-summarization/TF_IDF_Summarization.py)"
      ],
      "metadata": {
        "id": "DjhPmwbUGUDB"
      }
    },
    {
      "cell_type": "markdown",
      "source": [
        "*   Faça um algoritmo que receba uma URL de algum site de notícias, faça o web-scrapping dos dados, e sumarize a notícia."
      ],
      "metadata": {
        "id": "lWcbougwGuQo"
      }
    },
    {
      "cell_type": "markdown",
      "metadata": {
        "id": "cSgqgSx8lA2H"
      },
      "source": [
        "## Referências e Material complementar\n",
        "\n",
        "*   [Seminário - Sumarização de Textos - Prof. Lucas Oliveira](https://drive.google.com/file/d/1RFaXe_TIdcfgp5N3b5aSQocuDKdy-uvi/view?usp=sharing)\n",
        "*   [Text summarization in 5 steps using NLTK: WordFrequency Algorithm](https://becominghuman.ai/text-summarization-in-5-steps-using-nltk-65b21e352b65)\n",
        "*   [Utilizando processamento de linguagem natural para criar um sumarização automática de textos](https://medium.com/@viniljf/utilizando-processamento-de-linguagem-natural-para-criar-um-sumariza%C3%A7%C3%A3o-autom%C3%A1tica-de-textos-775cb428c84e)"
      ]
    },
    {
      "cell_type": "markdown",
      "metadata": {
        "id": "VkAyoSunlOMU"
      },
      "source": [
        "Este notebook foi produzido por Prof. [Lucas Oliveira](http://lattes.cnpq.br/3611246009892500) e editado por Carla Silveira."
      ]
    }
  ]
}