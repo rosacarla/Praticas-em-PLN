{
  "nbformat": 4,
  "nbformat_minor": 0,
  "metadata": {
    "colab": {
      "provenance": []
    },
    "kernelspec": {
      "name": "python3",
      "display_name": "Python 3"
    },
    "language_info": {
      "name": "python"
    }
  },
  "cells": [
    {
      "cell_type": "markdown",
      "source": [
        "># <b>Desafio: análise de comentários negativos dos consumidores com TF-IDF</b>  \n",
        "> Instituição: PUCPR  \n",
        "> Curso: Tecnologia em Inteligência Artifical Aplicada  \n",
        "> Disciplina: Processamento de Linguagem Natural  \n",
        "> Professor: Lucas Oliveira  \n",
        "> Estudante: Carla Edila Silveira  \n",
        "> Data: 20/04/2024  \n"
      ],
      "metadata": {
        "id": "gmjh1NNQGU6N"
      }
    },
    {
      "cell_type": "code",
      "execution_count": 1,
      "metadata": {
        "id": "6VW5YHvOGM9U"
      },
      "outputs": [],
      "source": [
        "# Importa bibliotecas\n",
        "from sklearn.feature_extraction.text import CountVectorizer\n",
        "from sklearn.feature_extraction.text import TfidfTransformer\n",
        "import pandas as pd\n",
        "import numpy as np\n",
        "import scipy.sparse as sp\n",
        "from numpy.linalg import norm"
      ]
    },
    {
      "cell_type": "code",
      "source": [
        "# Define o corpus\n",
        "CORPUS = [\n",
        "'No dia 16/02 recebo um e-mail da Loja alegando divergência de dados e acusando pagamento não autorizado! Sem nenhum detalhe adicional! Simplesmente negam a compra, a fatura permanece, e não explicam nada!Liguei para o atendimento e tive a mesma informação. Fui bem atendido. Como trabalho muito com notebook, realizei novamente a compra e fui informado que o pagamento é estornado em até 48h. Quando entrei no Reclame Aqui, que arrependimento tive! Reclamações de pessoas que há mais de uma semana não recebem o estorno, e de problemas similares ao meu! Espero sinceramente que o valor seja estornado logo e que a segunda compra seja bem procedida, e o produto entregue em tempo. Não tenho nenhum apreço por ter que recorrer a medidas legais! Espero profissionalismo e transparência da empresa, como obrigação com o consumidor!',\n",
        "'Boa tarde, fiz um pedido de dois pneus dia 16/01/2020, quase na mesma hora recebi um e-mail de confirmação do pagamento, que a mercadoria já estava com a transportadora e que a previsão de retirada seria em até 7 dias úteis, achei ótimo, muito rápido, já que seria para colocar no carro para viajar no começo do mês, então fiquei muito satisfeito, ia dar tudo certo! Mais não foi isso q aconteceu, não recebi o e-mail de confirmação até a presente data, ai começou a dor de cabeça, mandei e-mail reclamando da demora do dito cujo e-mail de aprovação para retirada do produto no dia 31-01-2020 sendo q o prazo já tinha passado, a resposta foi a seguinte...Identificamos um problema operacional que atrasou a entrega do seu pedido 281425025, mas já estamos em contato com a transportadora para resolvermos o mais rápido possível.Não se preocupe, acionamos nossa equipe de suporte pelo protocolo 6803089. Já estamos acompanhando todo o processo e retornaremos o contato em 05 (cinco) dias úteis.Pedimos desculpas pelo transtorno e estamos à sua disposição.Protocolo: 6779662 Atenciosamente,Atendimento.com. Pois é a o prazo passou e ninguém entrou em contato, foi aí que mandei outro e-mail, e a resposta já foi outra de três dias.. Já acionamos a área responsável. Não se preocupe, em 03 (três) dias corridos o setor responsável entrará em contato.Pois bem ninguém entrou em contato, mas eu entrei em contato por telefone e quem me atendeu, falou em mais 5 dias para o contato comigo! Pow tá de brincadeira né , até quando isso?! Pior de tudo, é que eles tem o produto na loja, antes de comprar no site, passei na loja, mas estava bem mais caro, então optei por comprar no site e retirar na loja! Porém só libera a retirada do produto, com o e-mail de confirmação do site. Estou indignado com isso, pois já estou pagando o pneu no cartão, sendo que não tenho o produto em mãos.',\n",
        "'Realizei a compra de 4 pneus no dia 21 de janeiro, e escolhi a opção de retirar na loja física, o prazo era de 7 dias. Até hoje não recebi a mercadoria, já liguei incontáveis vezes para o numero do atendimento e não obtenho nenhum tipo de retorno, no começo me falavam que eu tinha que aguardar o e-mail de confirmação para retirada da mercadoria na loja, e agora, quase um mês depois, a única coisa que me falam é que irão verificar e me retornar, mas não me retornam. No dia 05 de fevereiro recebi do atendimento@atendimento.com.br um e-mail (ANEXO) falando que iriam analisar o que aconteceu com o meu pedido e entrariam em contato dentro de 5 dias úteis, pois bem, estou até hoje aguardando e nada. Ontem fui na loja física e me informaram que não podem fazer nada, e que estão aguardando a transportadora. Saindo de lá liguei novamente no telefone do atendimento e fui informada pela atendente que a mercadoria havia voltado para o centro de distribuição pois não havia sido retirada. Em momento algum eu recebi e-mail que a mercadoria estava disponível para retirada, muito pelo contrário, todas as vezes que liguei me falaram que eu tinha que aguardar o e-mail. Inclusive quando fui na loja física a atendente não me informou que a mercadoria já tinha ido pra loja e retornado para o centro de distribuição, ela me disse que estava aguardando a transportadora e que não podia fazer absolutamente nada. É UM TOTAL DESCASO E FALTA DE RESPEITO COM O CONSUMIDOR, FICAMOS SEM RETORNO E AINDA RECEBEMOS INFORMAÇÕES DESENCONTRADAS, NINGUÉM RESOLVE O PROBLEMA, FALAM QUE IRÃO VERIFICAR E RETORNAR MAS NÃO RETORNAM. É A PRIMEIRA E SERÁ A ÚLTIMA VEZ QUE COMPRO NO SITE da Loja, VOCÊS SÃO PÉSSIMOS. ATENDIMENTO HORRÍVEL. COMPREI COM VOCÊS POR CONTA DO PRAZO QUE ESTAVA NO SITE DE VOCÊS POIS TINHA VIAGEM MARCADA, E OLHA SÓ, NÃO CONSEGUI VIAJAR POIS OS PNEUS NÃO CHEGARAM A TEMPO. COMPRAR COM VOCÊS É SÓ PREJUÍZO, NÃO RECOMENDO PARA NINGUÉM.',\n",
        "'No dia 11/02/2020 realizei um pedido de compras on-line no site da Loja. Na tela principal aparece uma promoção do creme dental siga sorrindo, no banner está escrito: compre 3 produtos do creme dental e concorra a R$1000,00* + FRETE GRÁTIS NAS COMPRAS ACIMA DE 39,90. Clicando no banner não existe nenhum regulamento nem mais informações, desta forma inclui na minha compra 3 produtos do creme dental no carrinho e no mesmo momento o valor do frete passou para 0 reais. Conclui a compra no valor de R$391,78 e quando foi cobrado no cartão haviam incluído o frete de R$14,90. As compras chegaram certas e resolvi fazer outro pedido (n 308435373). Ainda constava o mesmo banner de promoção então inclui os 3 produtos do creme dental. Novamente ocorreu o mesmo erro e o frete foi cobrado. Liguei no SAC (protocolo 6918522) e o atendente  me falou que na verdade ao comprar os 3 produtos do creme dental estaria concorrendo aos R$1000,00 da promoção e também concorrendo a um frete grátis. Argumentei que isso era uma propaganda enganosa, pois não estava claro a nenhum momento e não teria lógica participar de um sorteio para ganhar frete grátis!?!Recebi estas segundas compras certas, porém não obedeceram o horário escolhido no site e entregaram 1h antes do combinado, por sorte tinha alguém para receber naquele momento.Entrando no site da promoção do creme dental, existe sim a inclusão dos 3 produtos para concorrer aos R$1000,00 porém não existe nada sobre frete grátis muito menos vinculado aoà Loja. Desta forma solicito a devolução do valor dos fretes.'\n",
        "]\n",
        "new_doc = ['fiz uma compra dia 17/01/2020 e solicitei o máximo de parcelas no caso 15x, ai fui conferir e vi que foi parcelado apenas em 8x, liguei logo depois de 2h pra verificar e solicitar que fosse alterado para 15x assim como eu tinha solicitada, me comunicaram que eu teria que cancelar e fazer novamente a compra, até ai tudo bem eu solicitei o cancelamento com eles para comprar novamente, porém já se passaram 27 dias apás a solicitação do estorno do cartão de crédito, já efetuei várias ligações com dois protocolos em mãos e nada de ser feito o estorno, tive que pagar a primeira parcela que foi lançada na fatura e nada deles estornarem meu cartão, a segunda parcela já esta por vir e nada de estornarem a compra ou liberarem o limite do meu cartão.']"
      ],
      "metadata": {
        "id": "Pfb_sF-CGbvt"
      },
      "execution_count": 2,
      "outputs": []
    },
    {
      "cell_type": "code",
      "source": [
        "# Define função bagOfWords\n",
        "def bagOfWords(corpus, ngram_range=(1,1)):\n",
        "    vectorizer = CountVectorizer(min_df=1, ngram_range=ngram_range)\n",
        "    caracteristicas = vectorizer.fit_transform(corpus)\n",
        "    return vectorizer, caracteristicas"
      ],
      "metadata": {
        "id": "2zbt6Vw5G6Vi"
      },
      "execution_count": 3,
      "outputs": []
    },
    {
      "cell_type": "code",
      "source": [
        "# Aplica a função no corpus\n",
        "bow_vectorizer, bow_caracteristicas = bagOfWords(CORPUS)\n",
        "caracteristicas = bow_caracteristicas.todense()\n",
        "\n",
        "print (caracteristicas)"
      ],
      "metadata": {
        "colab": {
          "base_uri": "https://localhost:8080/"
        },
        "id": "2S-_4j8THJvR",
        "outputId": "ffc624fe-005f-46b5-8687-db51f30353e3"
      },
      "execution_count": 4,
      "outputs": [
        {
          "output_type": "stream",
          "name": "stdout",
          "text": [
            "[[0 0 1 ... 0 0 0]\n",
            " [0 2 0 ... 0 0 2]\n",
            " [0 0 0 ... 1 1 1]\n",
            " [3 0 1 ... 0 0 0]]\n"
          ]
        }
      ]
    },
    {
      "cell_type": "code",
      "source": [
        "# Aplica a função em new_doc\n",
        "new_doc_caracteristicas = bow_vectorizer.transform(new_doc)\n",
        "new_doc_caracteristicas = new_doc_caracteristicas.todense()\n",
        "print (new_doc_caracteristicas)"
      ],
      "metadata": {
        "colab": {
          "base_uri": "https://localhost:8080/"
        },
        "id": "5kb2HD6-HTvp",
        "outputId": "b25fbf48-1685-4ac3-8508-d7ab93c2869e"
      },
      "execution_count": 5,
      "outputs": [
        {
          "output_type": "stream",
          "name": "stdout",
          "text": [
            "[[0 1 0 0 0 0 0 0 0 0 1 0 0 0 0 0 0 0 0 0 0 0 0 0 0 0 0 0 0 0 0 0 0 0 2 0\n",
            "  0 0 0 0 0 0 0 0 0 0 0 0 0 0 0 0 0 0 0 0 0 0 1 0 0 0 1 0 0 0 0 0 0 0 3 0\n",
            "  0 0 0 0 0 0 0 0 0 2 0 0 0 0 1 3 1 0 0 0 0 0 0 0 0 0 0 0 0 0 0 0 0 0 0 0\n",
            "  0 0 0 5 0 0 0 1 0 0 0 0 0 0 1 1 0 0 0 0 0 0 3 1 0 0 0 1 2 0 0 0 0 0 0 0\n",
            "  0 0 0 0 0 0 0 0 0 0 0 0 0 0 0 0 2 0 0 0 3 0 0 0 0 0 0 0 0 1 1 0 0 0 1 2\n",
            "  0 0 0 1 0 0 0 0 0 0 0 0 0 0 0 0 0 0 0 0 0 0 0 0 0 0 0 0 0 0 0 0 0 3 0 0\n",
            "  1 0 1 0 0 0 0 0 0 0 0 1 0 0 0 0 0 2 0 0 0 1 0 1 3 0 0 0 0 0 0 1 0 0 2 0\n",
            "  0 0 0 0 0 0 0 0 0 0 0 0 0 0 0 0 0 2 0 0 0 0 0 0 0 0 0 0 0 0 0 0 0 0 1 1\n",
            "  0 0 1 0 0 0 0 0 1 0 0 0 0 0 0 0 0 0 0 0 0 0 0 6 0 0 0 0 0 0 0 0 0 0 0 0\n",
            "  0 0 0 0 0 0 0 0 0 0 0 0 0 0 0 0 0 0 0 1 0 1 0 0 0 0 0 0 0 0 0 0 0 0 0 0\n",
            "  0 0 0 0 0 0 0 0 0 0 0 0 0 0 0 0 0 0 0 1 1 0 1 0 0 0 0 0 0 0 0 1 0 0 1 0\n",
            "  0 1 0 0 0 0 0 0 0 0 0 0 0 0]]\n"
          ]
        }
      ]
    },
    {
      "cell_type": "code",
      "source": [
        "# Retorna lista com nomes das features (palavras únicas) que...\n",
        "# foram extraídas dos documentos durante a vetorização do texto.\n",
        "feature_names = bow_vectorizer.get_feature_names_out()\n",
        "print (feature_names)"
      ],
      "metadata": {
        "colab": {
          "base_uri": "https://localhost:8080/"
        },
        "id": "5SUXgAfPHgNS",
        "outputId": "da099328-81f1-484d-9027-53aa0baf3049"
      },
      "execution_count": 6,
      "outputs": [
        {
          "output_type": "stream",
          "name": "stdout",
          "text": [
            "['00' '01' '02' '03' '05' '1000' '11' '14' '16' '1h' '2020' '21'\n",
            " '281425025' '308435373' '31' '39' '391' '48h' '6779662' '6803089'\n",
            " '6918522' '78' '90' 'absolutamente' 'achei' 'acima' 'acionamos'\n",
            " 'acompanhando' 'aconteceu' 'acusando' 'adicional' 'agora' 'aguardando'\n",
            " 'aguardar' 'ai' 'ainda' 'alegando' 'algum' 'alguém' 'analisar' 'anexo'\n",
            " 'antes' 'ao' 'aos' 'aoà' 'aparece' 'apreço' 'aprovação' 'aqui'\n",
            " 'argumentei' 'arrependimento' 'as' 'atenciosamente' 'atendente' 'atendeu'\n",
            " 'atendido' 'atendimento' 'atrasou' 'até' 'autorizado' 'aí' 'banner' 'bem'\n",
            " 'boa' 'br' 'brincadeira' 'cabeça' 'caro' 'carrinho' 'carro' 'cartão'\n",
            " 'centro' 'certas' 'certo' 'chegaram' 'cinco' 'claro' 'clicando' 'cobrado'\n",
            " 'coisa' 'colocar' 'com' 'combinado' 'começo' 'começou' 'comigo' 'como'\n",
            " 'compra' 'comprar' 'compras' 'compre' 'comprei' 'compro' 'conclui'\n",
            " 'concorra' 'concorrendo' 'concorrer' 'confirmação' 'consegui' 'constava'\n",
            " 'consumidor' 'conta' 'contato' 'contrário' 'corridos' 'creme' 'cujo' 'da'\n",
            " 'dados' 'dar' 'data' 'de' 'demora' 'dental' 'dentro' 'depois' 'descaso'\n",
            " 'desculpas' 'desencontradas' 'desta' 'detalhe' 'devolução' 'dia' 'dias'\n",
            " 'disponível' 'disposição' 'disse' 'distribuição' 'dito' 'divergência'\n",
            " 'do' 'dois' 'dor' 'dos' 'ela' 'eles' 'em' 'empresa' 'enganosa' 'entrando'\n",
            " 'entrariam' 'entrará' 'entrega' 'entregaram' 'entregue' 'entrei' 'entrou'\n",
            " 'então' 'equipe' 'era' 'erro' 'escolhi' 'escolhido' 'escrito' 'espero'\n",
            " 'estamos' 'estaria' 'estas' 'estava' 'estornado' 'estorno' 'estou' 'está'\n",
            " 'estão' 'eu' 'existe' 'explicam' 'falam' 'falando' 'falaram' 'falavam'\n",
            " 'falou' 'falta' 'fatura' 'fazer' 'fevereiro' 'ficamos' 'fiquei' 'fiz'\n",
            " 'foi' 'forma' 'frete' 'fretes' 'fui' 'física' 'ganhar' 'grátis' 'havia'\n",
            " 'haviam' 'hoje' 'hora' 'horrível' 'horário' 'há' 'ia' 'identificamos'\n",
            " 'ido' 'inclui' 'inclusive' 'inclusão' 'incluído' 'incontáveis'\n",
            " 'indignado' 'informada' 'informado' 'informaram' 'informação'\n",
            " 'informações' 'informou' 'iriam' 'irão' 'isso' 'janeiro' 'já' 'legais'\n",
            " 'libera' 'liguei' 'line' 'logo' 'loja' 'lá' 'lógica' 'mail' 'mais'\n",
            " 'mandei' 'marcada' 'mas' 'me' 'medidas' 'menos' 'mercadoria' 'mesma'\n",
            " 'mesmo' 'meu' 'minha' 'momento' 'muito' 'mãos' 'mês' 'na' 'nada'\n",
            " 'naquele' 'nas' 'negam' 'nem' 'nenhum' 'ninguém' 'no' 'nossa' 'notebook'\n",
            " 'novamente' 'numero' 'não' 'né' 'obedeceram' 'obrigação' 'obtenho'\n",
            " 'ocorreu' 'olha' 'on' 'ontem' 'operacional' 'optei' 'opção' 'os' 'outra'\n",
            " 'outro' 'pagamento' 'pagando' 'para' 'participar' 'passado' 'passei'\n",
            " 'passou' 'pedido' 'pedimos' 'pela' 'pelo' 'permanece' 'pessoas' 'pior'\n",
            " 'pneu' 'pneus' 'podem' 'podia' 'pois' 'por' 'porém' 'possível' 'pow'\n",
            " 'pra' 'prazo' 'prejuízo' 'preocupe' 'presente' 'previsão' 'primeira'\n",
            " 'principal' 'problema' 'problemas' 'procedida' 'processo' 'produto'\n",
            " 'produtos' 'profissionalismo' 'promoção' 'propaganda' 'protocolo'\n",
            " 'péssimos' 'quando' 'quase' 'que' 'quem' 'reais' 'realizei' 'recebem'\n",
            " 'recebemos' 'receber' 'recebi' 'recebo' 'reclamando' 'reclamações'\n",
            " 'reclame' 'recomendo' 'recorrer' 'regulamento' 'resolve' 'resolvermos'\n",
            " 'resolvi' 'respeito' 'responsável' 'resposta' 'retirada' 'retirar'\n",
            " 'retornado' 'retornam' 'retornar' 'retornaremos' 'retorno' 'rápido' 'sac'\n",
            " 'saindo' 'satisfeito' 'se' 'seguinte' 'segunda' 'segundas' 'seja' 'sem'\n",
            " 'semana' 'sendo' 'seria' 'será' 'setor' 'seu' 'sido' 'siga' 'sim'\n",
            " 'similares' 'simplesmente' 'sinceramente' 'site' 'sobre' 'solicito'\n",
            " 'sorrindo' 'sorte' 'sorteio' 'sua' 'suporte' 'são' 'só' 'também' 'tarde'\n",
            " 'tela' 'telefone' 'tem' 'tempo' 'tenho' 'ter' 'teria' 'tinha' 'tipo'\n",
            " 'tive' 'todas' 'todo' 'total' 'trabalho' 'transparência' 'transportadora'\n",
            " 'transtorno' 'três' 'tudo' 'tá' 'um' 'uma' 'valor' 'verdade' 'verificar'\n",
            " 'vez' 'vezes' 'viagem' 'viajar' 'vinculado' 'vocês' 'voltado' 'área'\n",
            " 'ótimo' 'última' 'única' 'úteis']\n"
          ]
        }
      ]
    },
    {
      "cell_type": "code",
      "source": [
        "#Para apresentar as caracteristicas do texto em forma de dataframe\n",
        "def display_caracteristicas(caracteristicas, feature_names):\n",
        "    df = pd.DataFrame(data=caracteristicas,\n",
        "                      columns=feature_names)\n",
        "    print (df)\n",
        "    df.to_csv(\"saida.csv\", encoding='utf-8')\n",
        "\n",
        "display_caracteristicas(caracteristicas, feature_names)"
      ],
      "metadata": {
        "colab": {
          "base_uri": "https://localhost:8080/"
        },
        "id": "PguWy9kaI7d8",
        "outputId": "0b94c9a8-cb35-42e9-9b53-c3e8b0dc38ff"
      },
      "execution_count": 7,
      "outputs": [
        {
          "output_type": "stream",
          "name": "stdout",
          "text": [
            "   00  01  02  03  05  1000  11  14  16  1h  ...  viagem  viajar  vinculado  \\\n",
            "0   0   0   1   0   0     0   0   0   1   0  ...       0       0          0   \n",
            "1   0   2   0   1   1     0   0   0   1   0  ...       0       1          0   \n",
            "2   0   0   0   0   1     0   0   0   0   0  ...       1       1          0   \n",
            "3   3   0   1   0   0     3   1   1   0   1  ...       0       0          1   \n",
            "\n",
            "   vocês  voltado  área  ótimo  última  única  úteis  \n",
            "0      0        0     0      0       0      0      0  \n",
            "1      0        0     1      1       0      0      2  \n",
            "2      4        1     0      0       1      1      1  \n",
            "3      0        0     0      0       0      0      0  \n",
            "\n",
            "[4 rows x 410 columns]\n"
          ]
        }
      ]
    },
    {
      "cell_type": "code",
      "source": [
        "# Define a função tfidf\n",
        "def tfidf_transformer(bow_matrix):\n",
        "    transformer = TfidfTransformer(norm='l2', smooth_idf=True, use_idf=True)\n",
        "    tfidf_matrix = transformer.fit_transform(bow_matrix)\n",
        "    return transformer, tfidf_matrix"
      ],
      "metadata": {
        "id": "OFi5-uXlJDka"
      },
      "execution_count": 8,
      "outputs": []
    },
    {
      "cell_type": "code",
      "source": [
        "# Converte a matriz numpy new_doc_caracteristicas em array\n",
        "# numpy antes de passá-lo para a função transform\n",
        "new_doc_array = np.asarray(new_doc_caracteristicas)\n",
        "\n",
        "# Obtém nomes das características\n",
        "feature_names = bow_vectorizer.get_feature_names_out()\n",
        "\n",
        "# Constroi transformador tfidf e mostra o corpus das características tfidf\n",
        "tfidf_trans, tdidf_caracteristicas = tfidf_transformer(bow_caracteristicas)\n",
        "caracteristicas = np.round(tdidf_caracteristicas.todense(), 2)\n",
        "display_caracteristicas(caracteristicas, feature_names)\n",
        "\n",
        "# Transforma os novos documentos em características tfidf\n",
        "nd_tfidf = tfidf_trans.transform(new_doc_array)\n",
        "nd_caracteristicas = np.round(nd_tfidf.todense(), 2)\n",
        "display_caracteristicas(nd_caracteristicas, feature_names)"
      ],
      "metadata": {
        "colab": {
          "base_uri": "https://localhost:8080/"
        },
        "id": "cdQOflHsSAMs",
        "outputId": "f2f7c84c-8186-43ae-8491-ac04e72b5fda"
      },
      "execution_count": 12,
      "outputs": [
        {
          "output_type": "stream",
          "name": "stdout",
          "text": [
            "     00    01    02    03    05  1000    11    14    16    1h  ...  viagem  \\\n",
            "0  0.00  0.00  0.07  0.00  0.00  0.00  0.00  0.00  0.07  0.00  ...    0.00   \n",
            "1  0.00  0.09  0.00  0.04  0.03  0.00  0.00  0.00  0.03  0.00  ...    0.00   \n",
            "2  0.00  0.00  0.00  0.00  0.03  0.00  0.00  0.00  0.00  0.00  ...    0.04   \n",
            "3  0.14  0.00  0.04  0.00  0.00  0.14  0.05  0.05  0.00  0.05  ...    0.00   \n",
            "\n",
            "   viajar  vinculado  vocês  voltado  área  ótimo  última  única  úteis  \n",
            "0    0.00       0.00   0.00     0.00  0.00   0.00    0.00   0.00   0.00  \n",
            "1    0.03       0.00   0.00     0.00  0.04   0.04    0.00   0.00   0.07  \n",
            "2    0.03       0.00   0.17     0.04  0.00   0.00    0.04   0.04   0.03  \n",
            "3    0.00       0.05   0.00     0.00  0.00   0.00    0.00   0.00   0.00  \n",
            "\n",
            "[4 rows x 410 columns]\n",
            "    00    01   02   03   05  1000   11   14   16   1h  ...  viagem  viajar  \\\n",
            "0  0.0  0.11  0.0  0.0  0.0   0.0  0.0  0.0  0.0  0.0  ...     0.0     0.0   \n",
            "\n",
            "   vinculado  vocês  voltado  área  ótimo  última  única  úteis  \n",
            "0        0.0    0.0      0.0   0.0    0.0     0.0    0.0    0.0  \n",
            "\n",
            "[1 rows x 410 columns]\n"
          ]
        }
      ]
    },
    {
      "cell_type": "code",
      "source": [
        "# Trecho de codigo original apresentou o erro abaixo e foi modificado\n",
        "# TypeError: np.matrix is not supported. Please convert to a numpy array with np.asarray.\n",
        "# For more information see: https://numpy.org/doc/stable/reference/generated/numpy.matrix.html\n",
        "\n",
        "# feature_names = bow_vectorizer.get_feature_names_out()\n",
        "#Para construir um tfidf\n",
        "# Para construir o transformador do tfidf e mostrar o corpus das caracteristicas tfidf\n",
        "#tfidf_trans, tdidf_caracteristicas = tfidf_transformer(bow_caracteristicas)\n",
        "#caracteristicas = np.round(tdidf_caracteristicas.todense(), 2)\n",
        "#display_caracteristicas(caracteristicas, feature_names)\n",
        "#nd_tfidf = tfidf_trans.transform(new_doc_caracteristicas)\n",
        "#nd_caracteristicas = np.round(nd_tfidf.todense(), 2)\n",
        "#display_caracteristicas(nd_caracteristicas, feature_names)\n",
        "#feature_names = bow_vectorizer.get_feature_names_out()"
      ],
      "metadata": {
        "id": "BwdYHEKlJNEd"
      },
      "execution_count": null,
      "outputs": []
    },
    {
      "cell_type": "code",
      "source": [
        "from sklearn.feature_extraction.text import TfidfVectorizer\n",
        "\n",
        "# Inicializa vetorizador TF-IDF\n",
        "tfidf_vectorizer = TfidfVectorizer()\n",
        "\n",
        "# Converte bow_caracteristicas em uma lista de strings\n",
        "documentos = [\" \".join(map(str, documento)) for documento in bow_caracteristicas]\n",
        "\n",
        "# Constroi um transformador TF-IDF\n",
        "tfidf_trans = tfidf_vectorizer.fit_transform(documentos)\n",
        "\n",
        "# Obtém nomes das características\n",
        "feature_names = tfidf_vectorizer.get_feature_names_out()\n",
        "\n",
        "# Extrai características TF-IDF como uma matriz densa\n",
        "caracteristicas = np.round(tfidf_trans.toarray(), 2)\n",
        "\n",
        "# Exibe características TF-IDF\n",
        "display_caracteristicas(caracteristicas, feature_names)\n",
        "\n",
        "# Converte novos documentos em uma lista de strings\n",
        "novos_documentos_str = [\" \".join(map(str, documento)) for documento in new_doc_caracteristicas]\n",
        "\n",
        "# Transforma novos documentos em características TF-IDF\n",
        "nd_tfidf = tfidf_vectorizer.transform(novos_documentos_str)\n",
        "\n",
        "# Extrai características TF-IDF dos novos documentos como uma matriz densa\n",
        "nd_caracteristicas = np.round(nd_tfidf.toarray(), 2)\n",
        "\n",
        "# Exibr características TF-IDF dos novos documentos\n",
        "display_caracteristicas(nd_caracteristicas, feature_names)"
      ],
      "metadata": {
        "colab": {
          "base_uri": "https://localhost:8080/"
        },
        "id": "FQUHdIqiUqYL",
        "outputId": "c87bd13b-e0c7-4d1b-93a4-6de8f687d470"
      },
      "execution_count": 26,
      "outputs": [
        {
          "output_type": "stream",
          "name": "stdout",
          "text": [
            "     10   100   101   107   108    11   111   118    12   120  ...    74  \\\n",
            "0  0.00  0.16  0.00  0.08  0.16  0.00  0.08  0.00  0.00  0.16  ...  0.00   \n",
            "1  0.13  0.00  0.00  0.08  0.00  0.00  0.08  0.00  0.16  0.00  ...  0.00   \n",
            "2  0.00  0.00  0.16  0.08  0.00  0.13  0.08  0.16  0.00  0.00  ...  0.16   \n",
            "3  0.13  0.00  0.00  0.09  0.00  0.13  0.09  0.00  0.00  0.00  ...  0.00   \n",
            "\n",
            "     81    82    85    87    88    91    92    96    98  \n",
            "0  0.00  0.00  0.00  0.10  0.00  0.00  0.00  0.00  0.00  \n",
            "1  0.13  0.00  0.16  0.00  0.16  0.00  0.00  0.00  0.00  \n",
            "2  0.13  0.00  0.00  0.10  0.00  0.16  0.16  0.00  0.16  \n",
            "3  0.00  0.17  0.00  0.11  0.00  0.00  0.00  0.17  0.00  \n",
            "\n",
            "[4 rows x 146 columns]\n",
            "    10  100  101  107  108   11  111  118   12  120  ...   74   81   82   85  \\\n",
            "0  0.0  0.0  0.0  0.0  0.0  0.0  0.0  0.0  0.0  0.0  ...  0.0  0.0  0.0  0.0   \n",
            "\n",
            "    87   88   91   92   96   98  \n",
            "0  0.0  0.0  0.0  0.0  0.0  0.0  \n",
            "\n",
            "[1 rows x 146 columns]\n"
          ]
        }
      ]
    }
  ]
}