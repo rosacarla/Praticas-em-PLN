{
  "nbformat": 4,
  "nbformat_minor": 0,
  "metadata": {
    "colab": {
      "provenance": []
    },
    "kernelspec": {
      "name": "python3",
      "display_name": "Python 3"
    },
    "language_info": {
      "name": "python"
    }
  },
  "cells": [
    {
      "cell_type": "markdown",
      "source": [
        "> # GERADOR DE RESUMOS DE TEXTOS COM PYTHON  \n",
        "> Autora: Carla Edila Silveira  \n",
        "> Descrição: programa desenvolvido com a biblioteca `sumy` de NLP do Python para gerar resumos de textos; este é um exemplo simples de como você pode ser feita a aplicação.  \n",
        "> Data: 07/05/2024\n",
        ">\n",
        "> <img src='https://i.postimg.cc/FHdXdLZC/ai-content-generators.png'>  \n",
        "> Crédito da imagem: [Hardware.com.br](https://www.hardware.com.br/artigos/5-ferramentas-de-ia-que-voce-pode-usar-para-resumir-textos/)"
      ],
      "metadata": {
        "id": "FNq11e86GKOR"
      }
    },
    {
      "cell_type": "code",
      "source": [
        "# Instala a biblioteca sumy\n",
        "# Fornece várias estratégias de sumarização e tem suporte para vários idiomas\n",
        "!pip install sumy"
      ],
      "metadata": {
        "id": "joglLfNCIYUX"
      },
      "execution_count": null,
      "outputs": []
    },
    {
      "cell_type": "code",
      "execution_count": null,
      "metadata": {
        "id": "i0kery58FtYr"
      },
      "outputs": [],
      "source": [
        "# Importa pacotes necessários da biblioteca sumy\n",
        "from sumy.parsers.plaintext import PlaintextParser\n",
        "from sumy.nlp.tokenizers import Tokenizer\n",
        "from sumy.summarizers.lsa import LsaSummarizer"
      ]
    },
    {
      "cell_type": "code",
      "source": [
        "import nltk\n",
        "nltk.download('punkt')"
      ],
      "metadata": {
        "colab": {
          "base_uri": "https://localhost:8080/"
        },
        "id": "8XsMScvxNHdK",
        "outputId": "5e17b456-0699-470c-a9d7-91173fabde8e"
      },
      "execution_count": null,
      "outputs": [
        {
          "output_type": "stream",
          "name": "stderr",
          "text": [
            "[nltk_data] Downloading package punkt to /root/nltk_data...\n",
            "[nltk_data]   Unzipping tokenizers/punkt.zip.\n"
          ]
        },
        {
          "output_type": "execute_result",
          "data": {
            "text/plain": [
              "True"
            ]
          },
          "metadata": {},
          "execution_count": 10
        }
      ]
    },
    {
      "cell_type": "code",
      "source": [
        "# Define funcao para gerar resumo\n",
        "def generate_summary(text, sentences_count=2):\n",
        "    parser = PlaintextParser.from_string(text, Tokenizer(\"english\"))\n",
        "    # parser = PlaintextParser.from_string(text, Tokenizer(\"portuguese\"))\n",
        "    summarizer = LsaSummarizer()\n",
        "    summary = summarizer(parser.document, sentences_count)\n",
        "    return \" \".join(str(sentence) for sentence in summary)"
      ],
      "metadata": {
        "id": "RvvYhlTkH7Sj"
      },
      "execution_count": null,
      "outputs": []
    },
    {
      "cell_type": "code",
      "source": [
        "# Exemplo de utilizacao da funcao\n",
        "# Será resumido um capítulo de artigo disponivel em: https://www.scielo.br/j/ea/a/c4sqqrthGMS3ngdBhGWtKhh/\n",
        "if __name__ == \"__main__\":\n",
        "    texto = \"\"\"\n",
        "    O que vem a ser IA?\n",
        "Sempre que ocorre um entusiasmo com os resultados de uma tecnologia, existe uma tendência da mídia em fornecer definições e explicações, por vezes não muito precisas, dos seus principais aspectos. Isso é, certamente, o que ocorre com a IA nos dias de hoje.\n",
        "\n",
        "Em primeiro lugar, cabe ressaltar que não existe uma definição acadêmica, propriamente dita, do que vem a ser IA. Trata-se certamente de um ramo da ciência/engenharia da computação, e portanto visa desenvolver sistemas computacionais que solucionam problemas. Para tal, utiliza um número diverso de técnicas e modelos, dependendo dos problemas abordados. Portanto, é inadequado utilizar-se expressões como “a IA da empresa X”; mais adequado (porém com menos apelo) seria dizer “um sistema da empresa X que utiliza técnicas de IA”.\n",
        "\n",
        "Ao invés de tentar fornecer uma definição de IA, mais adequado seria tentar caracterizar quais são os objetivos da área. Uma das primeiras tentativas desta abordagem, proposta em Rich e Knight (1991), é a seguinte: o objetivo da IA é desenvolver sistemas para realizar tarefas que, no momento: (i) são mais bem realizadas por seres humanos que por máquinas, ou (ii) não possuem solução algorítmica viável pela computação convencional.\n",
        "\n",
        "Para entender melhor essa definição, necessita-se esclarecer o que vem a ser um algoritmo, palavra que também é bastante citada na mídia, às vezes de modo não muito preciso. Um algoritmo nada mais é do que uma sequência finita de ações que resolve um certo problema. Uma receita culinária, como a de um risoto, é um algoritmo. Assim, um algoritmo pode resolver problemas de tipos bastante diferentes: cálculo estrutural (projeto de uma ponte), processamento de dados (geração de uma folha de pagamentos) ou planejamento (definição de um pacote de turismo).\n",
        "\n",
        "Qual a principal diferença entre esses problemas? Basicamente, certos problemas têm soluções exatas, como o projeto da ponte, o processamento da folha de pagamentos e a receita do risoto. Solução exata, nesse caso, significa que se os passos definidos no algoritmo forem executados exatamente na ordem definida, ter-se-á ao final uma ponte que resistirá às intempéries, uma folha de pagamentos sem futuros problemas com o fisco e um delicioso risoto à moda italiana.\n",
        "\n",
        "Por outro lado, problemas como a definição do pacote de turismo não têm uma solução exata, ou uma única solução. Outros exemplos similares são produção de diagnósticos (médicos, legais), geração automática de diálogos, reconhecimento de imagens etc. No caso do pacote de turismo, como garantir que é o melhor a ser adquirido? Deve-se escolher primeiro o voo ou o hotel? Quais datas teriam um custo menor? Existe disponibilidade nessas datas para todos os recursos desejados (hotéis, voos, passeios), e em caso positivo as férias podem ser marcadas nesse período?\n",
        "\n",
        "Uma possível abordagem para solucionar tais problemas seria tentar gerar as possíveis soluções até que se obtenha a primeira delas, ou até que se encontre a melhor delas, caso existam várias soluções. Tal abordagem, apesar de teoricamente plausível, quase sempre é inviável na prática: a quantidade de possíveis soluções geradas é muito grande, e mesmo com um computador muito potente levaria muito tempo para obtê-las. Por exemplo, um problema de definição de rotas entre cidades poderia levar centenas de dias de processamento!2\n",
        "\n",
        "Assim, tais problemas são usualmente mais bem solucionados por seres humanos, e na maioria dos casos de interesse não possuem solução algorítmica viável (em tempo de processamento) pela computação convencional.\n",
        "\n",
        "Uma pergunta que se coloca então é a seguinte: Como nós, humanos, solucionamos esses problemas? Uma possível resposta é que utilizamos, de modo inato, um mecanismo de busca e poda: (i) geramos soluções candidatas ... mas quase nunca todas elas! (ii) escolhemos a melhor solução... de acordo com certo critério! e (iii) eventualmente, analisamos a posteriori o efeito das escolhas feitas... e as alteramos para o futuro i.e., aprendemos!\n",
        "\n",
        "Assim, o domínio de IA se caracteriza por ser uma coleção de modelos, técnicas e tecnologias (busca, raciocínio e representação de conhecimento, mecanismos de decisão, percepção, planejamento, processamento de linguagem natural, tratamento de incertezas, aprendizado de máquina) que, isoladamente ou agrupadas, resolvem problemas de tal natureza. Para tal, podem utilizar paradigmas distintos, sendo os principais os paradigmas simbólico, conexionista, evolutivo e probabilístico.\n",
        "\n",
        "Segundo o paradigma simbólico, deve-se inicialmente identificar o conhecimento do domínio (modelo do problema), para então representá-lo utilizando uma linguagem formal de representação e implementar um mecanismo de inferência para utilizar esse conhecimento.\n",
        "\n",
        "Já no paradigma conexionista, a linguagem é uma rede de elementos simples, inspirada no funcionamento do cérebro, onde neurônios artificiais, conectados em rede, são capazes de aprender e de generalizar a partir de exemplos. O raciocínio consiste em aprender diretamente a função entrada-saída. Matematicamente, trata-se de uma técnica de aproximação de funções por regressão não linear.\n",
        "\n",
        "O paradigma evolutivo, por sua vez, utiliza um método probabilístico de busca de soluções de problemas (otimização), onde soluções são representadas como indivíduos, aos quais se aplicam técnicas “inspiradas” na teoria da evolução como hereditariedade, mutação, seleção natural e recombinação (ou crossing over), para selecionar para as gerações seguintes os indivíduos mais adaptados, i.e., os que maximizam uma função objetivo (ou fitness function).\n",
        "\n",
        "Finalmente, o paradigma probabilístico utiliza modelos para representar o conceito estatístico de independência condicional, a partir de relacionamentos causais no domínio. A inferência consiste em calcular a distribuição condicional de probabilidades dessa distribuição, e em alguns casos particulares de topologia, existem algoritmos bastante eficientes.\n",
        "\n",
        "    \"\"\"\n",
        "    resumo = generate_summary(texto)\n",
        "    print(resumo)"
      ],
      "metadata": {
        "colab": {
          "base_uri": "https://localhost:8080/"
        },
        "id": "7h_B0YfXIOKZ",
        "outputId": "a898f8ab-ea41-47ad-aa6b-afd0bf3e1744"
      },
      "execution_count": null,
      "outputs": [
        {
          "output_type": "stream",
          "name": "stdout",
          "text": [
            "Uma das primeiras tentativas desta abordagem, proposta em Rich e Knight (1991), é a seguinte: o objetivo da IA é desenvolver sistemas para realizar tarefas que, no momento: (i) são mais bem realizadas por seres humanos que por máquinas, ou (ii) não possuem solução algorítmica viável pela computação convencional. Existe disponibilidade nessas datas para todos os recursos desejados (hotéis, voos, passeios), e em caso positivo as férias podem ser marcadas nesse período?\n"
          ]
        }
      ]
    },
    {
      "cell_type": "markdown",
      "source": [
        "<p align='justify'>SAÍDA COM TOKENIZADOR EM INGLÊS - RESUMO1: Uma das primeiras tentativas desta abordagem, proposta em Rich e Knight (1991), é a seguinte: o objetivo da IA é desenvolver sistemas para realizar tarefas que, no momento: (i) são mais bem realizadas por seres humanos que por máquinas, ou (ii) não possuem solução algorítmica viável pela computação convencional. Existe disponibilidade nessas datas para todos os recursos desejados (hotéis, voos, passeios), e em caso positivo as férias podem ser marcadas nesse período?</p>"
      ],
      "metadata": {
        "id": "V98PowxfNfDi"
      }
    },
    {
      "cell_type": "code",
      "source": [
        "# Exemplo de utilizacao da funcao\n",
        "# Será resumido um capítulo de artigo disponivel em: https://www.scielo.br/j/ea/a/c4sqqrthGMS3ngdBhGWtKhh/\n",
        "if __name__ == \"__main__\":\n",
        "    texto = \"\"\"\n",
        "     Os apaixonados receberam hoje uma boa notícia dos cardiologistas: o amor faz bem\n",
        "ao coração.\n",
        "Enquanto os apaixonados enviavam cartas e rosas vermelhas em comemoração ao\n",
        "Dia dos Namorados (dia de São Valentim, comemorado em muitos países), a Federação\n",
        "Mundial do Coração (WHF, na sigla em inglês) divulgou um comunicado pedindo aos\n",
        "casais de todo o mundo que demonstrem suas emoções com liberdade. “Os namorados\n",
        "têm outra razão para comemorar porque estudos mostram que estar apaixonado e\n",
        "ser correspondido nos ajuda a manter a saúde e é particularmente bom para nossos\n",
        "corações”, afirma o comunicado do WHF, que tem sua sede em Genebra, na Suíça.\n",
        " A federação, cujo objetivo é combater doenças cardíacas e reúne 166 sociedades\n",
        "de cardiologia de 97 países, também acrescentou que o amor reduz o estresse, a\n",
        "depressão e a ansiedade — três fatores de risco associados às doenças do coração.\n",
        " “Uma em cada três mortes no mundo ocorrem devido a problemas no coração e\n",
        "derrame, seis vezes superior do que as mortes associadas à Aids”, afirmou o professor\n",
        "Philip Poole-Wilson, cardiologista do Imperial College, em Londres, e presidente da\n",
        "federação.\n",
        " “É por essa razão que estamos ressaltando a importância de adotar um estilo de\n",
        "vida saudável e o impacto positivo que o amor pode ter para a saúde.”\n",
        " De acordo com a WHF, muitos estudos publicados demonstraram que fatores psi\n",
        "cológicos, assim como os físicos, estão envolvidos com a doença cardíaca. Em uma\n",
        "pesquisa de cinco anos, 10 mil homens com risco elevado de desenvolver angina\n",
        "(dor no peito) foram questionados se a mulher com quem estavam demonstrava\n",
        "seu amor por eles.\n",
        " Aqueles que responderam “sim” tinham a metade do risco de apresentar a condição.\n",
        "    \"\"\"\n",
        "    resumo = generate_summary(texto)\n",
        "    print(resumo)"
      ],
      "metadata": {
        "colab": {
          "base_uri": "https://localhost:8080/"
        },
        "id": "F3A9tLwJbKLS",
        "outputId": "1ce3e99c-86ae-4106-80d3-ca8b68f0736f"
      },
      "execution_count": null,
      "outputs": [
        {
          "output_type": "stream",
          "name": "stdout",
          "text": [
            "“Os namorados têm outra razão para comemorar porque estudos mostram que estar apaixonado e ser correspondido nos ajuda a manter a saúde e é particularmente bom para nossos corações”, afirma o comunicado do WHF, que tem sua sede em Genebra, na Suíça. “Uma em cada três mortes no mundo ocorrem devido a problemas no coração e derrame, seis vezes superior do que as mortes associadas à Aids”, afirmou o professor Philip Poole-Wilson, cardiologista do Imperial College, em Londres, e presidente da federação.\n"
          ]
        }
      ]
    },
    {
      "cell_type": "markdown",
      "source": [
        "<p align='justify'>SAÍDA COM TOKENIZADOR EM INGLÊS - RESUMO2: Os namorados têm outra razão para comemorar porque estudos mostram que estar apaixonado e ser correspondido nos ajuda a manter a saúde e é particularmente bom para nossos corações”, afirma o comunicado do WHF, que tem sua sede em Genebra, na Suíça. “Uma em cada três mortes no mundo ocorrem devido a problemas no coração e derrame, seis vezes superior do que as mortes associadas à Aids”, afirmou o professor Philip Poole-Wilson, cardiologista do Imperial College, em Londres, e presidente da federação.</p>\n",
        "\n"
      ],
      "metadata": {
        "id": "B35bMJ5Yb6fK"
      }
    }
  ]
}