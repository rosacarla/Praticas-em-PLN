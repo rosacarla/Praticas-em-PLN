{
  "nbformat": 4,
  "nbformat_minor": 0,
  "metadata": {
    "colab": {
      "provenance": []
    },
    "kernelspec": {
      "name": "python3",
      "display_name": "Python 3"
    }
  },
  "cells": [
    {
      "cell_type": "markdown",
      "metadata": {
        "id": "W6rIQ54xy2Wc"
      },
      "source": [
        "># <b>Expressões Regulares em Python</b>\n",
        "> Instituição: PUCPR  \n",
        "> Curso: Tecnologia em Inteligência Artificial Aplicada  \n",
        "> Disciplina: Processamento de Linguagem Natural  \n",
        "> Professor: Lucas Emanuel Silva e Olveira  \n",
        "> Estudante: Carla Edila Silveira  \n",
        "\n",
        "> <p align='justify'> Objetivo: Nesta atividade, você entrará em contato com <b>Expressões Regulares (RegEx)</b>, talvez a mais importante ferramenta de PLN para descrever/encontrar/substituir padrões de texto. Após esta atividade você será capaz de ler uma expressão regular como essa <i>^[0-9]{1,3}(\\.[0-9]{1,3}){1,3}$</i>, como você lê um texto em português.</p>"
      ]
    },
    {
      "cell_type": "markdown",
      "metadata": {
        "id": "dIkkpGq7z-2c"
      },
      "source": [
        "##**Expressões Regulares - RegEx**  \n",
        "\n",
        "<p align='justify'> Você poderá fazer uso de expressões regulares nas mais diversas situações em que precise localizar ou extrair padrões em meio ao texto (e.g., <i>encontrar CEPs de endereço no texto, obter os preços de produtos de uma listagem</i>). Você pode usar expressões regulares em linguagens de programação e editores de texto por exemplo.</p>"
      ]
    },
    {
      "cell_type": "markdown",
      "metadata": {
        "id": "MRpEqCSf1KTi"
      },
      "source": [
        "### **Por onde começar?**\n"
      ]
    },
    {
      "cell_type": "markdown",
      "metadata": {
        "id": "4l5BpUkPR77O"
      },
      "source": [
        "#### 1) Importar a biblioteca de RegEx do Python"
      ]
    },
    {
      "cell_type": "code",
      "metadata": {
        "id": "CSa40sRb1b2_"
      },
      "source": [
        "import re"
      ],
      "execution_count": null,
      "outputs": []
    },
    {
      "cell_type": "markdown",
      "metadata": {
        "id": "G2Ldu14U1dhv"
      },
      "source": [
        "#### 2) Escrever uma expressão regular para capturar um padrão desejado\n"
      ]
    },
    {
      "cell_type": "code",
      "metadata": {
        "id": "zxR4-9Yj18Tg"
      },
      "source": [
        "# Você deve colocar a letra \"r\" antes do texto para estabelecer que a variável guarda uma RegEx\n",
        "padrao = r\"clássico\""
      ],
      "execution_count": null,
      "outputs": []
    },
    {
      "cell_type": "markdown",
      "metadata": {
        "id": "zcka9qMO2D3D"
      },
      "source": [
        "####3) Definir para qual funcionalidade o padrão RegEx será utilizado\n",
        "Você pode usar um padrão para:\n",
        "*   Buscar padrões/valores no texto (i.e., `search`, `match`, `findall`)\n",
        "*   Quebrar texto em sub-textos (i.e., `split`)\n",
        "*   Substituir dados no texto (i.e., `sub`)\n",
        "\n"
      ]
    },
    {
      "cell_type": "code",
      "metadata": {
        "id": "CYiAhstm2cX2",
        "colab": {
          "base_uri": "https://localhost:8080/"
        },
        "outputId": "39272a6a-d1a8-47a4-be28-c4ba39ee3934"
      },
      "source": [
        "# Texto de exemplo para verificar se o padrão definido acima é encontrado\n",
        "texto = \"clássico é clássico e vice-versa\"\n",
        "\n",
        "# A função search() retorna um objeto, caso encontre o padrão no texto\n",
        "if re.search(padrao, texto):\n",
        "  print(\"Encontrou\")\n",
        "else:\n",
        "  print(\"Não encontrou\")\n",
        "\n",
        "# Faça alterações no texto e no padrão. Reexecute o código."
      ],
      "execution_count": null,
      "outputs": [
        {
          "output_type": "stream",
          "name": "stdout",
          "text": [
            "Encontrou\n"
          ]
        }
      ]
    },
    {
      "cell_type": "markdown",
      "metadata": {
        "id": "F-cVUFhj4xJY"
      },
      "source": [
        "### **Quais funções da biblioteca `re` posso utilizar?**\n",
        "*   `re.match(padrao, texto)`\n",
        "*   `re.search(padrao, texto)`\n",
        "*   `re.findall(padrao, texto)`\n",
        "*   `re.split(padrao, texto)`\n",
        "*   `re.sub(padrao, texto)`\n",
        "\n"
      ]
    },
    {
      "cell_type": "markdown",
      "metadata": {
        "id": "qZ9UOSLnCc6g"
      },
      "source": [
        "#### **`re.match()`**\n",
        "Encontra o padrão desejado se ele ocorrer no **início do texto**"
      ]
    },
    {
      "cell_type": "code",
      "metadata": {
        "id": "p4BQzvCl7l6L",
        "colab": {
          "base_uri": "https://localhost:8080/"
        },
        "outputId": "1845762f-1d53-4d67-a697-98c5bc216e91"
      },
      "source": [
        "match = re.match(r\"clássico\", \"clássico é clássico e vice-versa\")\n",
        "# Mostra o objeto/match da busca, caso não encontre o padrão retorna None\n",
        "match\n",
        "\n",
        "# Caso queira mostrar o trecho de texto encontrado, usar a função group()\n",
        "# match.group()\n",
        "\n",
        "# Caso queira obter a posição de início e fim do texto encontrado\n",
        "# match.start()\n",
        "# match.end()"
      ],
      "execution_count": null,
      "outputs": [
        {
          "output_type": "execute_result",
          "data": {
            "text/plain": [
              "<re.Match object; span=(0, 8), match='clássico'>"
            ]
          },
          "metadata": {},
          "execution_count": 10
        }
      ]
    },
    {
      "cell_type": "markdown",
      "metadata": {
        "id": "mczb_FyECl48"
      },
      "source": [
        "#### **`re.search()`**\n",
        "Similar ao `match()`, porém busca pelo padrão em qualquer parte do texto, não se restringindo ao início do mesmo."
      ]
    },
    {
      "cell_type": "code",
      "metadata": {
        "id": "dNBxohovD-Gj",
        "colab": {
          "base_uri": "https://localhost:8080/"
        },
        "outputId": "13ca1820-32f3-4eb0-f9c0-a02143ecbb78"
      },
      "source": [
        "match = re.search(r\"clássico\", \"clássico é clássico e vice-versa\")\n",
        "# Mostra o objeto/match da busca, caso não encontre o padrão retorna None\n",
        "match"
      ],
      "execution_count": null,
      "outputs": [
        {
          "output_type": "execute_result",
          "data": {
            "text/plain": [
              "<re.Match object; span=(0, 8), match='clássico'>"
            ]
          },
          "metadata": {},
          "execution_count": 11
        }
      ]
    },
    {
      "cell_type": "markdown",
      "metadata": {
        "id": "JdKjyOuPEKFK"
      },
      "source": [
        "> *Mas porque a saída é igual ao código anterior?*\n",
        "\n",
        "<p align='justify'>Apesar da função <b>search( )</b> procurar o padrão em qualquer parte do texto, ela retorna apenas a primeira ocorrência. A seguir uma comparação de <b>match( )</b> e <b>search( )</b>.</p>"
      ]
    },
    {
      "cell_type": "code",
      "metadata": {
        "id": "C7yTQ1VREcOc",
        "colab": {
          "base_uri": "https://localhost:8080/"
        },
        "outputId": "ce518ea8-b512-414b-b291-e16e8a9100e7"
      },
      "source": [
        "m = re.match(r\"teste\", \"Este é um teste de regex.\")\n",
        "print(m)"
      ],
      "execution_count": null,
      "outputs": [
        {
          "output_type": "stream",
          "name": "stdout",
          "text": [
            "None\n"
          ]
        }
      ]
    },
    {
      "cell_type": "code",
      "metadata": {
        "id": "c9CiURmOE8kq",
        "colab": {
          "base_uri": "https://localhost:8080/"
        },
        "outputId": "c78a7b34-3485-4d29-b6d9-51929c13ef67"
      },
      "source": [
        "s = re.search(r\"teste\", \"Este é um teste de regex.\")\n",
        "print(s)"
      ],
      "execution_count": null,
      "outputs": [
        {
          "output_type": "stream",
          "name": "stdout",
          "text": [
            "<re.Match object; span=(10, 15), match='teste'>\n"
          ]
        }
      ]
    },
    {
      "cell_type": "markdown",
      "metadata": {
        "id": "pa5qfWS4CmDV"
      },
      "source": [
        "#### **`re.findall()`**\n",
        "Funcionamento similar ao `search()`, porém retorna TODAS as ocorrências encontradas."
      ]
    },
    {
      "cell_type": "code",
      "metadata": {
        "id": "GopIJtacbSW2",
        "colab": {
          "base_uri": "https://localhost:8080/"
        },
        "outputId": "a6a9439e-40d4-4374-e59f-b35463884625"
      },
      "source": [
        "match = re.findall(r\"clássico\", \"clássico é clássico e vice-versa\")\n",
        "match"
      ],
      "execution_count": null,
      "outputs": [
        {
          "output_type": "execute_result",
          "data": {
            "text/plain": [
              "['clássico', 'clássico']"
            ]
          },
          "metadata": {},
          "execution_count": 14
        }
      ]
    },
    {
      "cell_type": "code",
      "metadata": {
        "id": "2MZ1I1k-FVbF",
        "colab": {
          "base_uri": "https://localhost:8080/"
        },
        "outputId": "b503d4f4-d366-4a1d-8e9f-893c89f9503c"
      },
      "source": [
        "m = re.findall(r\"teste\", \"Este não é apenas mais um teste de regex. Este teste mostra como funciona o findall()\")\n",
        "m"
      ],
      "execution_count": null,
      "outputs": [
        {
          "output_type": "execute_result",
          "data": {
            "text/plain": [
              "['teste', 'teste']"
            ]
          },
          "metadata": {},
          "execution_count": 15
        }
      ]
    },
    {
      "cell_type": "markdown",
      "metadata": {
        "id": "U5guBiNhCmIs"
      },
      "source": [
        "#### **`re.split()`**\n",
        "Divide o texto toda vez que encontrar a ocorrência do padrão dado"
      ]
    },
    {
      "cell_type": "code",
      "metadata": {
        "id": "_aC2MG41GO-x",
        "colab": {
          "base_uri": "https://localhost:8080/"
        },
        "outputId": "fdaaf673-8d12-4814-abf0-746157567527"
      },
      "source": [
        "partes = re.split(r\"/\", \"10/05/1999\")\n",
        "partes"
      ],
      "execution_count": null,
      "outputs": [
        {
          "output_type": "execute_result",
          "data": {
            "text/plain": [
              "['10', '05', '1999']"
            ]
          },
          "metadata": {},
          "execution_count": 16
        }
      ]
    },
    {
      "cell_type": "code",
      "metadata": {
        "id": "-qSph0WlGmOe",
        "colab": {
          "base_uri": "https://localhost:8080/"
        },
        "outputId": "acc74500-bb1d-44a1-b96b-637716d81ec5"
      },
      "source": [
        "partes = re.split(r\"a\", \"a história das expressões regulares\")\n",
        "partes"
      ],
      "execution_count": null,
      "outputs": [
        {
          "output_type": "execute_result",
          "data": {
            "text/plain": [
              "['', ' históri', ' d', 's expressões regul', 'res']"
            ]
          },
          "metadata": {},
          "execution_count": 17
        }
      ]
    },
    {
      "cell_type": "markdown",
      "metadata": {
        "id": "ays16XP-CmMO"
      },
      "source": [
        "#### **`re.sub()`**\n",
        "Busca pelo padrão desejado e o substitui por um texto desejado"
      ]
    },
    {
      "cell_type": "code",
      "metadata": {
        "id": "4vp-GsbdHBob",
        "colab": {
          "base_uri": "https://localhost:8080/",
          "height": 35
        },
        "outputId": "16480773-5435-4bf6-a0e9-32eff493cffc"
      },
      "source": [
        "r = re.sub(r\"nossa universidade\", \"PUCPR\", \"A nossa universidade lhe dá as boas-vindas!\")\n",
        "r"
      ],
      "execution_count": null,
      "outputs": [
        {
          "output_type": "execute_result",
          "data": {
            "text/plain": [
              "'A PUCPR lhe dá as boas-vindas!'"
            ],
            "application/vnd.google.colaboratory.intrinsic+json": {
              "type": "string"
            }
          },
          "metadata": {},
          "execution_count": 18
        }
      ]
    },
    {
      "cell_type": "code",
      "metadata": {
        "id": "R4R6fDYUIP1y",
        "colab": {
          "base_uri": "https://localhost:8080/",
          "height": 35
        },
        "outputId": "be8968c3-32b3-488e-f3c2-8fa703f1008c"
      },
      "source": [
        "r = re.sub(r\"gato\", \"cachorro\", \"Este é meu gato Thomas. Eu adoro ter um gato em casa.\")\n",
        "r"
      ],
      "execution_count": null,
      "outputs": [
        {
          "output_type": "execute_result",
          "data": {
            "text/plain": [
              "'Este é meu cachorro Thomas. Eu adoro ter um cachorro em casa.'"
            ],
            "application/vnd.google.colaboratory.intrinsic+json": {
              "type": "string"
            }
          },
          "metadata": {},
          "execution_count": 19
        }
      ]
    },
    {
      "cell_type": "markdown",
      "metadata": {
        "id": "2oOXWzYY4nQP"
      },
      "source": [
        "###**Como escrever padrões mais complexos?**  \n",
        "\n",
        "<p align='justify'> Agora que você sabe utilizar as principais funções da biblioteca <b>re</b>, podemos criar padrões de busca mais complexos e poderosos. Existe uma série de caracteres especiais que podem lhe ajudar a construir os padrões de texto desejados. Não é preciso decorá-los, apenas saber como utilizá-los. A seguir uma tabela de referência com vários destes caracteres. </p>  \n",
        "</br>\n",
        "\n",
        "![Caracteres especiais das Expressões Regulares](https://docs.google.com/uc?export=download&id=1wK1aO8y_J7q79Mh4bQ_gzczDkEj4pLCQ)\n",
        "\n",
        "> <p align='justify'> <b>DICA IMPORTANTE</b>: Você também pode testar as expressões regulares a seguir no site [Pythex](https://pythex.org/), que tem uma interface bem interessante para visualizar e testar suas expressões regulares.</p>"
      ]
    },
    {
      "cell_type": "markdown",
      "metadata": {
        "id": "QYVrZLabJLCO"
      },
      "source": [
        "#### Groups & Ranges\n",
        "Os **colchetes** indicam um **RANGE** de caracteres que podem fazer parte do padrão.\n",
        "> Por exemplo, para encontrar todas vogais no texto: `[aeiou]`"
      ]
    },
    {
      "cell_type": "code",
      "metadata": {
        "id": "U4uGw1NqJLLt",
        "colab": {
          "base_uri": "https://localhost:8080/"
        },
        "outputId": "2b9c5b5f-f4b6-4b5a-eaaf-7951fdb89c9b"
      },
      "source": [
        "re.findall(r\"[aeiou]\", \"Sentença para obter vogais.\")"
      ],
      "execution_count": null,
      "outputs": [
        {
          "output_type": "execute_result",
          "data": {
            "text/plain": [
              "['e', 'e', 'a', 'a', 'a', 'o', 'e', 'o', 'a', 'i']"
            ]
          },
          "metadata": {},
          "execution_count": 20
        }
      ]
    },
    {
      "cell_type": "markdown",
      "metadata": {
        "id": "V2CDU2uuPVMr"
      },
      "source": [
        "**`[0-9]`** - Obtém todos números"
      ]
    },
    {
      "cell_type": "code",
      "metadata": {
        "id": "JiuwWBoLPiOB",
        "colab": {
          "base_uri": "https://localhost:8080/"
        },
        "outputId": "a779a0d5-2fdf-48c2-fe5e-7b5ef4beff08"
      },
      "source": [
        "re.findall(r\"[0-9]\", \"Hoje, dia 26/11/2019 o dólar alcançou o valor de R$ 4,20 perante o real.\")"
      ],
      "execution_count": null,
      "outputs": [
        {
          "output_type": "execute_result",
          "data": {
            "text/plain": [
              "['2', '6', '1', '1', '2', '0', '1', '9', '4', '2', '0']"
            ]
          },
          "metadata": {},
          "execution_count": 21
        }
      ]
    },
    {
      "cell_type": "markdown",
      "metadata": {
        "id": "t2C3jFlsPzEh"
      },
      "source": [
        "**`[a-z]`** - Obtém todos números\n"
      ]
    },
    {
      "cell_type": "code",
      "metadata": {
        "id": "pkV7CKPxPzMq",
        "colab": {
          "base_uri": "https://localhost:8080/"
        },
        "outputId": "a1829209-bc07-4b07-f182-e9bb358dc6a6"
      },
      "source": [
        "re.findall(r\"[A-Z]\", \"AFV-5631\")"
      ],
      "execution_count": null,
      "outputs": [
        {
          "output_type": "execute_result",
          "data": {
            "text/plain": [
              "['A', 'F', 'V']"
            ]
          },
          "metadata": {},
          "execution_count": 22
        }
      ]
    },
    {
      "cell_type": "markdown",
      "metadata": {
        "id": "qjYdhD_K6TCb"
      },
      "source": [
        "Os **parênteses** indicam um **GRUPO** de caracteres que podem fazer parte do padrão. Podemos juntar a eles outros caracteres especiais."
      ]
    },
    {
      "cell_type": "markdown",
      "metadata": {
        "id": "DuFk80SB7VlM"
      },
      "source": [
        "**`|`** - Indica o operador lógico OU"
      ]
    },
    {
      "cell_type": "code",
      "metadata": {
        "id": "OUZAK_TB6pGt",
        "colab": {
          "base_uri": "https://localhost:8080/"
        },
        "outputId": "d7d8172c-20fd-4a1d-88b9-146ce6c29444"
      },
      "source": [
        "# Busca Lucas OU Rodrigo\n",
        "re.findall(r\"(Lucas|Rodrigo)\", \"Lucas Oliveira\\nMurilo Silva\\nDiego Prudêncio\\nRodrigo Rezende\")"
      ],
      "execution_count": null,
      "outputs": [
        {
          "output_type": "execute_result",
          "data": {
            "text/plain": [
              "['Lucas', 'Rodrigo']"
            ]
          },
          "metadata": {},
          "execution_count": 23
        }
      ]
    },
    {
      "cell_type": "markdown",
      "metadata": {
        "id": "YjPFPTbt7a4E"
      },
      "source": [
        "**`^`** - Indica operador lógico NÃO"
      ]
    },
    {
      "cell_type": "code",
      "metadata": {
        "id": "kTbXmFST7mL1",
        "colab": {
          "base_uri": "https://localhost:8080/"
        },
        "outputId": "f638e39e-18c5-4db9-d5e7-bb06d2d55589"
      },
      "source": [
        "# Busca tudo, exceto letras minúsculas\n",
        "re.findall(r\"[^a-z]\", \"Lucas Oliveira\\nMurilo Silva\\nDiego Prudêncio\\nRodrigo Rezende\")"
      ],
      "execution_count": null,
      "outputs": [
        {
          "output_type": "execute_result",
          "data": {
            "text/plain": [
              "['L',\n",
              " ' ',\n",
              " 'O',\n",
              " '\\n',\n",
              " 'M',\n",
              " ' ',\n",
              " 'S',\n",
              " '\\n',\n",
              " 'D',\n",
              " ' ',\n",
              " 'P',\n",
              " 'ê',\n",
              " '\\n',\n",
              " 'R',\n",
              " ' ',\n",
              " 'R']"
            ]
          },
          "metadata": {},
          "execution_count": 24
        }
      ]
    },
    {
      "cell_type": "markdown",
      "metadata": {
        "id": "jB2TTt9-8P8m"
      },
      "source": [
        "**`.`** - Indica QUALQUER caracter, exceto quebra de linha (`\\n`)"
      ]
    },
    {
      "cell_type": "code",
      "metadata": {
        "id": "h3yuyC718QF9",
        "colab": {
          "base_uri": "https://localhost:8080/"
        },
        "outputId": "0e0a7ba7-06ab-4ac7-9a25-72179acb90ad"
      },
      "source": [
        "# Busca toda ocorrencia de \"ato\" e o caracter anterior\n",
        "re.findall(r\".ato\", \"O rato é amigo do pato que presenciou o ato no meio do mato.\")"
      ],
      "execution_count": null,
      "outputs": [
        {
          "output_type": "execute_result",
          "data": {
            "text/plain": [
              "['rato', 'pato', ' ato', 'mato']"
            ]
          },
          "metadata": {},
          "execution_count": 25
        }
      ]
    },
    {
      "cell_type": "markdown",
      "metadata": {
        "id": "mexfvAmbRaOd"
      },
      "source": [
        "#### Classes de caracteres"
      ]
    },
    {
      "cell_type": "markdown",
      "metadata": {
        "id": "XYhxSEGBZbff"
      },
      "source": [
        "**`\\s`** - Obtém todos espaços (white-space)\n",
        "\n",
        "**`\\S`** - Obtém todos NÃO espaços (white-space)"
      ]
    },
    {
      "cell_type": "code",
      "metadata": {
        "id": "d7cCN6FGWgRQ",
        "colab": {
          "base_uri": "https://localhost:8080/"
        },
        "outputId": "1921cff5-60b0-4234-f27c-f06934172c9d"
      },
      "source": [
        "re.findall(r\"\\s\", \"Conseguimos pegar o que não é espaço?\")"
      ],
      "execution_count": null,
      "outputs": [
        {
          "output_type": "execute_result",
          "data": {
            "text/plain": [
              "[' ', ' ', ' ', ' ', ' ', ' ']"
            ]
          },
          "metadata": {},
          "execution_count": 26
        }
      ]
    },
    {
      "cell_type": "code",
      "source": [
        "re.findall(r\"\\S\", \"Conseguimos pegar o que não é espaço?\")"
      ],
      "metadata": {
        "colab": {
          "base_uri": "https://localhost:8080/"
        },
        "id": "BIMiHbXUAFWk",
        "outputId": "29e77f83-dd19-4e8e-fd6f-68035b07dfcd"
      },
      "execution_count": null,
      "outputs": [
        {
          "output_type": "execute_result",
          "data": {
            "text/plain": [
              "['C',\n",
              " 'o',\n",
              " 'n',\n",
              " 's',\n",
              " 'e',\n",
              " 'g',\n",
              " 'u',\n",
              " 'i',\n",
              " 'm',\n",
              " 'o',\n",
              " 's',\n",
              " 'p',\n",
              " 'e',\n",
              " 'g',\n",
              " 'a',\n",
              " 'r',\n",
              " 'o',\n",
              " 'q',\n",
              " 'u',\n",
              " 'e',\n",
              " 'n',\n",
              " 'ã',\n",
              " 'o',\n",
              " 'é',\n",
              " 'e',\n",
              " 's',\n",
              " 'p',\n",
              " 'a',\n",
              " 'ç',\n",
              " 'o',\n",
              " '?']"
            ]
          },
          "metadata": {},
          "execution_count": 27
        }
      ]
    },
    {
      "cell_type": "markdown",
      "metadata": {
        "id": "BXBbK_MqRaZI"
      },
      "source": [
        "#### Âncoras"
      ]
    },
    {
      "cell_type": "markdown",
      "metadata": {
        "id": "zKt_6c24aKlJ"
      },
      "source": [
        "**`^`** - Indica início de texto"
      ]
    },
    {
      "cell_type": "code",
      "metadata": {
        "id": "VqLzdfH2aK8O",
        "colab": {
          "base_uri": "https://localhost:8080/"
        },
        "outputId": "875b55bd-93b9-49e5-a2f9-3b24a4790cf1"
      },
      "source": [
        "# Faz match apenas se a palavra clássico estiver no início do texto\n",
        "match = re.findall(r\"^clássico\", \"clássico é clássico e vice-versa\")\n",
        "match"
      ],
      "execution_count": null,
      "outputs": [
        {
          "output_type": "execute_result",
          "data": {
            "text/plain": [
              "['clássico']"
            ]
          },
          "metadata": {},
          "execution_count": 28
        }
      ]
    },
    {
      "cell_type": "code",
      "metadata": {
        "id": "sSCjYNRYxeAR",
        "colab": {
          "base_uri": "https://localhost:8080/"
        },
        "outputId": "69098d3d-8b61-4a7e-936a-9d897ce8bfbf"
      },
      "source": [
        "# Faz match apenas se a palavra clássico estiver no início do texto\n",
        "match = re.findall(r\"^clássico\", \"Este jogo é um clássico\")\n",
        "match"
      ],
      "execution_count": null,
      "outputs": [
        {
          "output_type": "execute_result",
          "data": {
            "text/plain": [
              "[]"
            ]
          },
          "metadata": {},
          "execution_count": 29
        }
      ]
    },
    {
      "cell_type": "markdown",
      "metadata": {
        "id": "F6ifsf4nbuB2"
      },
      "source": [
        "**`$`** - Indica fim de texto"
      ]
    },
    {
      "cell_type": "code",
      "metadata": {
        "id": "STl-nidAbuP4",
        "colab": {
          "base_uri": "https://localhost:8080/"
        },
        "outputId": "cefd8c8a-58c8-4125-f5d0-2d47356995da"
      },
      "source": [
        "# Faz match apenas se a palavra clássico estiver no fim do texto\n",
        "match = re.findall(r\"clássico$\", \"Este jogo é um clássico\")\n",
        "match"
      ],
      "execution_count": null,
      "outputs": [
        {
          "output_type": "execute_result",
          "data": {
            "text/plain": [
              "['clássico']"
            ]
          },
          "metadata": {},
          "execution_count": 30
        }
      ]
    },
    {
      "cell_type": "code",
      "metadata": {
        "id": "_tjHFps1x3Wn",
        "colab": {
          "base_uri": "https://localhost:8080/"
        },
        "outputId": "f4c740db-3c46-4fdd-840c-1d754faae866"
      },
      "source": [
        "# Faz match apenas se a palavra clássico estiver no fim do texto\n",
        "match = re.findall(r\"clássico$\", \"clássico é clássico e vice-versa\")\n",
        "match"
      ],
      "execution_count": null,
      "outputs": [
        {
          "output_type": "execute_result",
          "data": {
            "text/plain": [
              "[]"
            ]
          },
          "metadata": {},
          "execution_count": 31
        }
      ]
    },
    {
      "cell_type": "markdown",
      "metadata": {
        "id": "HQZIwv0TRadm"
      },
      "source": [
        "#### Quantificadores\n",
        "Em alguns momentos pode ser preciso quantificar a quantidade de vezes que um determinado padrão aparece."
      ]
    },
    {
      "cell_type": "code",
      "metadata": {
        "id": "i6c6ognjyGtT",
        "colab": {
          "base_uri": "https://localhost:8080/"
        },
        "outputId": "6f360f72-482f-422c-b719-e734604a1a17"
      },
      "source": [
        "# Padrão que encontra dois números em sequencia ou par de dígitos consecutivos\n",
        "match = re.findall(r\"[0-9]{2}\", \"João tem 5 laranjas, enquanto Maria tem 25.\")\n",
        "match"
      ],
      "execution_count": null,
      "outputs": [
        {
          "output_type": "execute_result",
          "data": {
            "text/plain": [
              "['25']"
            ]
          },
          "metadata": {},
          "execution_count": 32
        }
      ]
    },
    {
      "cell_type": "code",
      "metadata": {
        "id": "2L1P1k7J1VLG",
        "colab": {
          "base_uri": "https://localhost:8080/"
        },
        "outputId": "eff2bc92-5999-43fb-c0f8-1c84fd8a05e4"
      },
      "source": [
        "# Padrão que encontra de um a cinco números em sequencia\n",
        "match = re.findall(r\"[0-9]{1,5}\", \"João tem 5 laranjas, enquanto Maria tem 25. Já Henrique possui 10000.\")\n",
        "match"
      ],
      "execution_count": null,
      "outputs": [
        {
          "output_type": "execute_result",
          "data": {
            "text/plain": [
              "['5', '25', '10000']"
            ]
          },
          "metadata": {},
          "execution_count": 33
        }
      ]
    },
    {
      "cell_type": "code",
      "metadata": {
        "id": "8NDQ_4wr12r1",
        "colab": {
          "base_uri": "https://localhost:8080/"
        },
        "outputId": "894ed356-593d-4d40-8b59-df9a00e16a8f"
      },
      "source": [
        "# Padrão que encontra um ou mais numeros em sequencia\n",
        "match = re.findall(r\"[0-9]{1,}\", \"João tem 5 laranjas, enquanto Maria tem 25. Já Henrique possui 10000.\")\n",
        "match"
      ],
      "execution_count": null,
      "outputs": [
        {
          "output_type": "execute_result",
          "data": {
            "text/plain": [
              "['5', '25', '10000']"
            ]
          },
          "metadata": {},
          "execution_count": 34
        }
      ]
    },
    {
      "cell_type": "markdown",
      "metadata": {
        "id": "MUTbYjJl2O4t"
      },
      "source": [
        "**`*`** - Zero ou mais ocorrências"
      ]
    },
    {
      "cell_type": "code",
      "metadata": {
        "id": "cp21CTNv2IM-",
        "colab": {
          "base_uri": "https://localhost:8080/"
        },
        "outputId": "87563d13-098f-42d5-ba05-a9da1a13bc07"
      },
      "source": [
        "# Padrão que encontra sequência de letras, seguida por zero ou mais caracteres 'x', e então outra sequência de letras\n",
        "match = re.findall(r\"[a-zA-Z]{1,} x* [a-zA-Z]{1,}\", \"Vasco x Palmeiras - Corinthians x Santos - Portuguesa xxx Guarani\")\n",
        "match"
      ],
      "execution_count": null,
      "outputs": [
        {
          "output_type": "execute_result",
          "data": {
            "text/plain": [
              "['Vasco x Palmeiras', 'Corinthians x Santos', 'Portuguesa xxx Guarani']"
            ]
          },
          "metadata": {},
          "execution_count": 35
        }
      ]
    },
    {
      "cell_type": "markdown",
      "metadata": {
        "id": "sL7soLad2Ri-"
      },
      "source": [
        "**`+`** - Uma ou mais ocorrências"
      ]
    },
    {
      "cell_type": "code",
      "metadata": {
        "id": "ddn3lPjz2IUZ",
        "colab": {
          "base_uri": "https://localhost:8080/"
        },
        "outputId": "9b66d22a-ad51-485c-a2d2-c0a7c94bc877"
      },
      "source": [
        "# Padrão que encontra um ou mais numeros em sequencia\n",
        "match = re.findall(r\"[0-9]+\", \"João tem 5 laranjas, enquanto Maria tem 25. Já Henrique possui 10000.\")\n",
        "match"
      ],
      "execution_count": null,
      "outputs": [
        {
          "output_type": "execute_result",
          "data": {
            "text/plain": [
              "['5', '25', '10000']"
            ]
          },
          "metadata": {},
          "execution_count": 36
        }
      ]
    },
    {
      "cell_type": "markdown",
      "metadata": {
        "id": "eBZ0EwWd2TkH"
      },
      "source": [
        "**`?`** - Zero ou uma ocorrência"
      ]
    },
    {
      "cell_type": "code",
      "metadata": {
        "id": "pDtUXXw92IH4",
        "colab": {
          "base_uri": "https://localhost:8080/"
        },
        "outputId": "1bb744ba-ac16-4195-ac6a-3a644216fcfd"
      },
      "source": [
        "# Padrão que encontra 9 numeros, seguidos ou não por um hífen, seguidos de dois números\n",
        "match = re.findall(r\"[0-9]{9}-?[0-9]{2}\", \"RG: 8122691-8 CPF: 064555874-90 / RG: 81623338 CPF: 06454357320 \")\n",
        "match"
      ],
      "execution_count": null,
      "outputs": [
        {
          "output_type": "execute_result",
          "data": {
            "text/plain": [
              "['064555874-90', '06454357320']"
            ]
          },
          "metadata": {},
          "execution_count": 37
        }
      ]
    },
    {
      "cell_type": "markdown",
      "metadata": {
        "id": "nCAhRA_7Rpyd"
      },
      "source": [
        "### **Exemplo do e-mail**\n",
        "Vamos fazer uma expressão regular para obter endereços de e-mail no texto"
      ]
    },
    {
      "cell_type": "code",
      "metadata": {
        "id": "5o_X1ccaPDF3",
        "colab": {
          "base_uri": "https://localhost:8080/",
          "height": 35
        },
        "outputId": "724051f4-1547-42f1-b22c-79b50d656576"
      },
      "source": [
        "texto = \"Lucas Oliveira: lucas.oliveira@pucpr.br \\n maria-silva@gmail.com \\n jobs@apple.com \"\n",
        "texto"
      ],
      "execution_count": null,
      "outputs": [
        {
          "output_type": "execute_result",
          "data": {
            "text/plain": [
              "'Lucas Oliveira: lucas.oliveira@pucpr.br \\n maria-silva@gmail.com \\n jobs@apple.com '"
            ],
            "application/vnd.google.colaboratory.intrinsic+json": {
              "type": "string"
            }
          },
          "metadata": {},
          "execution_count": 39
        }
      ]
    },
    {
      "cell_type": "code",
      "metadata": {
        "id": "XY0lU_BVzePq",
        "colab": {
          "base_uri": "https://localhost:8080/"
        },
        "outputId": "f128ca0e-cc9a-42da-ef63-07c4a7532707"
      },
      "source": [
        "re.findall(r\"[a-z]+\", texto)"
      ],
      "execution_count": null,
      "outputs": [
        {
          "output_type": "execute_result",
          "data": {
            "text/plain": [
              "['ucas',\n",
              " 'liveira',\n",
              " 'lucas',\n",
              " 'oliveira',\n",
              " 'pucpr',\n",
              " 'br',\n",
              " 'maria',\n",
              " 'silva',\n",
              " 'gmail',\n",
              " 'com',\n",
              " 'jobs',\n",
              " 'apple',\n",
              " 'com']"
            ]
          },
          "metadata": {},
          "execution_count": 40
        }
      ]
    },
    {
      "cell_type": "code",
      "metadata": {
        "id": "oM8Z_p7WPGEh",
        "colab": {
          "base_uri": "https://localhost:8080/"
        },
        "outputId": "95d64da1-5151-4b56-f11d-641cdeab6a2d"
      },
      "source": [
        "re.findall(r\"[a-z]+@[a-z]+\", texto)"
      ],
      "execution_count": null,
      "outputs": [
        {
          "output_type": "execute_result",
          "data": {
            "text/plain": [
              "['oliveira@pucpr', 'silva@gmail', 'jobs@apple']"
            ]
          },
          "metadata": {},
          "execution_count": 41
        }
      ]
    },
    {
      "cell_type": "markdown",
      "metadata": {
        "id": "tIwZOcGnPgLC"
      },
      "source": [
        "O padrão acima obtém as letras, porém, ignora o hífen e o ponto final. Para resolver podemos criar um RANGE adicionando estes caracteres."
      ]
    },
    {
      "cell_type": "code",
      "metadata": {
        "id": "8Z_BgD5MPzMI",
        "colab": {
          "base_uri": "https://localhost:8080/"
        },
        "outputId": "4269a819-8cb3-4c0d-9054-0fe73c05bcd5"
      },
      "source": [
        "re.findall(r\"[a-z-]+@[a-z-]+\", texto)"
      ],
      "execution_count": null,
      "outputs": [
        {
          "output_type": "execute_result",
          "data": {
            "text/plain": [
              "['oliveira@pucpr', 'maria-silva@gmail', 'jobs@apple']"
            ]
          },
          "metadata": {},
          "execution_count": 42
        }
      ]
    },
    {
      "cell_type": "code",
      "metadata": {
        "id": "1aiH4mtVP9Uq",
        "colab": {
          "base_uri": "https://localhost:8080/"
        },
        "outputId": "eba0a0e9-3d2a-44e3-eba5-7d658aa58588"
      },
      "source": [
        "re.findall(r\"[a-z-.]+@[a-z-.]+\", texto)"
      ],
      "execution_count": null,
      "outputs": [
        {
          "output_type": "execute_result",
          "data": {
            "text/plain": [
              "['lucas.oliveira@pucpr.br', 'maria-silva@gmail.com', 'jobs@apple.com']"
            ]
          },
          "metadata": {},
          "execution_count": 43
        }
      ]
    },
    {
      "cell_type": "markdown",
      "metadata": {
        "id": "n8la6BpuQpVj"
      },
      "source": [
        "> <p align='justify'> <b>DICA</b>: Você pode realizar o que chamamos de <b>EXTRAÇÃO DE GRUPO</b> usando as expressões regulares. Basta agrupar os sub-padrões que deseja extrair separadamente com os parênteses.</p>"
      ]
    },
    {
      "cell_type": "code",
      "metadata": {
        "id": "cEbTiM_WQpge",
        "colab": {
          "base_uri": "https://localhost:8080/"
        },
        "outputId": "32e3924d-5d74-4000-a495-c61ea579cd48"
      },
      "source": [
        "re.findall(r\"([a-z-.]+)@([a-z-.]+)\", texto)"
      ],
      "execution_count": null,
      "outputs": [
        {
          "output_type": "execute_result",
          "data": {
            "text/plain": [
              "[('lucas.oliveira', 'pucpr.br'),\n",
              " ('maria-silva', 'gmail.com'),\n",
              " ('jobs', 'apple.com')]"
            ]
          },
          "metadata": {},
          "execution_count": 44
        }
      ]
    },
    {
      "cell_type": "markdown",
      "metadata": {
        "id": "WEYOslQNRtpi"
      },
      "source": [
        "Digamos que você queira remover todos os e-mails do texto por questões de privacidade."
      ]
    },
    {
      "cell_type": "code",
      "metadata": {
        "id": "mnmK7V17R2_H",
        "colab": {
          "base_uri": "https://localhost:8080/",
          "height": 35
        },
        "outputId": "93ad6b3a-e27f-45ff-90e6-4af6b6119644"
      },
      "source": [
        "re.sub(r\"[a-z-.]+@[a-z-.]+\", \"-CONFIDENCIAL-\", texto)"
      ],
      "execution_count": null,
      "outputs": [
        {
          "output_type": "execute_result",
          "data": {
            "text/plain": [
              "'Lucas Oliveira: -CONFIDENCIAL- \\n -CONFIDENCIAL- \\n -CONFIDENCIAL- '"
            ],
            "application/vnd.google.colaboratory.intrinsic+json": {
              "type": "string"
            }
          },
          "metadata": {},
          "execution_count": 45
        }
      ]
    },
    {
      "cell_type": "markdown",
      "metadata": {
        "id": "4jAIvSadSIYV"
      },
      "source": [
        "É possível ainda utilizar os agrupamentos para efetuar substituições mais complexas.\n",
        "\n",
        "Por exemplo, imagine que queiramos apenas substituir o servidor de e-mail, mas mantendo o nome de usuário."
      ]
    },
    {
      "cell_type": "code",
      "metadata": {
        "id": "SD6XKMuySdir",
        "colab": {
          "base_uri": "https://localhost:8080/",
          "height": 35
        },
        "outputId": "7fb5f176-a17e-4a18-edf5-aacc7269360c"
      },
      "source": [
        "# Nesse caso podemos usar os agrupamentos da expressão regular\n",
        "# \\1 indica a informação obtida no primeiro agrupamento - neste caso o nome do usuário\n",
        "# \\2 indica a informação obtida no segundo agrupamento - neste caso o servidor do e-mail\n",
        "re.sub(r\"([a-z-.]+)@([a-z-.]+)\", r\"\\1@regex.com\", texto)"
      ],
      "execution_count": null,
      "outputs": [
        {
          "output_type": "execute_result",
          "data": {
            "text/plain": [
              "'Lucas Oliveira: lucas.oliveira@regex.com \\n maria-silva@regex.com \\n jobs@regex.com '"
            ],
            "application/vnd.google.colaboratory.intrinsic+json": {
              "type": "string"
            }
          },
          "metadata": {},
          "execution_count": 46
        }
      ]
    },
    {
      "cell_type": "markdown",
      "metadata": {
        "id": "MeUgu9YORaWJ"
      },
      "source": [
        ">  <p align='justify'> <b>IMPORTANTE</b>: E quando eu quero procurar algum caractere que já representa algo em expressões regulares? (e.g., ponto final, interrogação)</b>\n",
        "\n",
        "Nesse caso, podemos usar o que chamamos de **CARACTER DE ESCAPE**, representado pelo caracter **`\\`**\n",
        "\n",
        "Exemplo: Quero obter todas perguntas presentes em um texto"
      ]
    },
    {
      "cell_type": "code",
      "metadata": {
        "id": "Yugg0diPaWOr"
      },
      "source": [
        "texto = \"\"\"Este é um texto de exemplo.\n",
        "Mas será que ele é confiável?\n",
        "Além dos questionamentos acima há outras questões a serem levantadas.\n",
        "Você está gostando de aprender expressões regulares?\n",
        "PLN é uma área de seu interesse?\"\"\""
      ],
      "execution_count": null,
      "outputs": []
    },
    {
      "cell_type": "code",
      "metadata": {
        "id": "m7mFdNP9zdut",
        "colab": {
          "base_uri": "https://localhost:8080/"
        },
        "outputId": "c5ab2912-29b8-4572-8e0c-218b42707350"
      },
      "source": [
        "# Obtém qualquer sequencia de caracteres (exceto quebra de linha)\n",
        "re.findall(r\".+\", texto)"
      ],
      "execution_count": null,
      "outputs": [
        {
          "output_type": "execute_result",
          "data": {
            "text/plain": [
              "['Este é um texto de exemplo.',\n",
              " 'Mas será que ele é confiável?',\n",
              " 'Além dos questionamentos acima há outras questões a serem levantadas.',\n",
              " 'Você está gostando de aprender expressões regulares?',\n",
              " 'PLN é uma área de seu interesse?']"
            ]
          },
          "metadata": {},
          "execution_count": 49
        }
      ]
    },
    {
      "cell_type": "code",
      "metadata": {
        "id": "8AYFlkV3cYXu",
        "colab": {
          "base_uri": "https://localhost:8080/"
        },
        "outputId": "f506189e-0634-4eb9-f95d-33077bd0ffc2"
      },
      "source": [
        "# Gostaríamos de pegar toda sequencia, seguida de uma ponto de interrogação\n",
        "re.findall(r\".+?\", texto)"
      ],
      "execution_count": null,
      "outputs": [
        {
          "output_type": "execute_result",
          "data": {
            "text/plain": [
              "['E',\n",
              " 's',\n",
              " 't',\n",
              " 'e',\n",
              " ' ',\n",
              " 'é',\n",
              " ' ',\n",
              " 'u',\n",
              " 'm',\n",
              " ' ',\n",
              " 't',\n",
              " 'e',\n",
              " 'x',\n",
              " 't',\n",
              " 'o',\n",
              " ' ',\n",
              " 'd',\n",
              " 'e',\n",
              " ' ',\n",
              " 'e',\n",
              " 'x',\n",
              " 'e',\n",
              " 'm',\n",
              " 'p',\n",
              " 'l',\n",
              " 'o',\n",
              " '.',\n",
              " 'M',\n",
              " 'a',\n",
              " 's',\n",
              " ' ',\n",
              " 's',\n",
              " 'e',\n",
              " 'r',\n",
              " 'á',\n",
              " ' ',\n",
              " 'q',\n",
              " 'u',\n",
              " 'e',\n",
              " ' ',\n",
              " 'e',\n",
              " 'l',\n",
              " 'e',\n",
              " ' ',\n",
              " 'é',\n",
              " ' ',\n",
              " 'c',\n",
              " 'o',\n",
              " 'n',\n",
              " 'f',\n",
              " 'i',\n",
              " 'á',\n",
              " 'v',\n",
              " 'e',\n",
              " 'l',\n",
              " '?',\n",
              " 'A',\n",
              " 'l',\n",
              " 'é',\n",
              " 'm',\n",
              " ' ',\n",
              " 'd',\n",
              " 'o',\n",
              " 's',\n",
              " ' ',\n",
              " 'q',\n",
              " 'u',\n",
              " 'e',\n",
              " 's',\n",
              " 't',\n",
              " 'i',\n",
              " 'o',\n",
              " 'n',\n",
              " 'a',\n",
              " 'm',\n",
              " 'e',\n",
              " 'n',\n",
              " 't',\n",
              " 'o',\n",
              " 's',\n",
              " ' ',\n",
              " 'a',\n",
              " 'c',\n",
              " 'i',\n",
              " 'm',\n",
              " 'a',\n",
              " ' ',\n",
              " 'h',\n",
              " 'á',\n",
              " ' ',\n",
              " 'o',\n",
              " 'u',\n",
              " 't',\n",
              " 'r',\n",
              " 'a',\n",
              " 's',\n",
              " ' ',\n",
              " 'q',\n",
              " 'u',\n",
              " 'e',\n",
              " 's',\n",
              " 't',\n",
              " 'õ',\n",
              " 'e',\n",
              " 's',\n",
              " ' ',\n",
              " 'a',\n",
              " ' ',\n",
              " 's',\n",
              " 'e',\n",
              " 'r',\n",
              " 'e',\n",
              " 'm',\n",
              " ' ',\n",
              " 'l',\n",
              " 'e',\n",
              " 'v',\n",
              " 'a',\n",
              " 'n',\n",
              " 't',\n",
              " 'a',\n",
              " 'd',\n",
              " 'a',\n",
              " 's',\n",
              " '.',\n",
              " 'V',\n",
              " 'o',\n",
              " 'c',\n",
              " 'ê',\n",
              " ' ',\n",
              " 'e',\n",
              " 's',\n",
              " 't',\n",
              " 'á',\n",
              " ' ',\n",
              " 'g',\n",
              " 'o',\n",
              " 's',\n",
              " 't',\n",
              " 'a',\n",
              " 'n',\n",
              " 'd',\n",
              " 'o',\n",
              " ' ',\n",
              " 'd',\n",
              " 'e',\n",
              " ' ',\n",
              " 'a',\n",
              " 'p',\n",
              " 'r',\n",
              " 'e',\n",
              " 'n',\n",
              " 'd',\n",
              " 'e',\n",
              " 'r',\n",
              " ' ',\n",
              " 'e',\n",
              " 'x',\n",
              " 'p',\n",
              " 'r',\n",
              " 'e',\n",
              " 's',\n",
              " 's',\n",
              " 'õ',\n",
              " 'e',\n",
              " 's',\n",
              " ' ',\n",
              " 'r',\n",
              " 'e',\n",
              " 'g',\n",
              " 'u',\n",
              " 'l',\n",
              " 'a',\n",
              " 'r',\n",
              " 'e',\n",
              " 's',\n",
              " '?',\n",
              " 'P',\n",
              " 'L',\n",
              " 'N',\n",
              " ' ',\n",
              " 'é',\n",
              " ' ',\n",
              " 'u',\n",
              " 'm',\n",
              " 'a',\n",
              " ' ',\n",
              " 'á',\n",
              " 'r',\n",
              " 'e',\n",
              " 'a',\n",
              " ' ',\n",
              " 'd',\n",
              " 'e',\n",
              " ' ',\n",
              " 's',\n",
              " 'e',\n",
              " 'u',\n",
              " ' ',\n",
              " 'i',\n",
              " 'n',\n",
              " 't',\n",
              " 'e',\n",
              " 'r',\n",
              " 'e',\n",
              " 's',\n",
              " 's',\n",
              " 'e',\n",
              " '?']"
            ]
          },
          "metadata": {},
          "execution_count": 50
        }
      ]
    },
    {
      "cell_type": "markdown",
      "metadata": {
        "id": "V175LEUscwas"
      },
      "source": [
        " <p align='justify'> Neste caso, o ponto de interrogação é considerado um quantificador de Expressão Regular, portanto, é interpretado como tal. Para fazermos com que ele seja interpretado como um caracter comum, usamos o escape `\\`</p>"
      ]
    },
    {
      "cell_type": "code",
      "metadata": {
        "id": "Hbcdt0OKc-tz",
        "colab": {
          "base_uri": "https://localhost:8080/"
        },
        "outputId": "16d28cd6-8ce8-42fe-c040-3854d02a5cb5"
      },
      "source": [
        "re.findall(r\".+\\?\", texto)"
      ],
      "execution_count": null,
      "outputs": [
        {
          "output_type": "execute_result",
          "data": {
            "text/plain": [
              "['Mas será que ele é confiável?',\n",
              " 'Você está gostando de aprender expressões regulares?',\n",
              " 'PLN é uma área de seu interesse?']"
            ]
          },
          "metadata": {},
          "execution_count": 51
        }
      ]
    },
    {
      "cell_type": "markdown",
      "metadata": {
        "id": "mnwfcSZjJLjf"
      },
      "source": [
        "##**ATIVIDADE PRÁTICA**\n",
        "Atividades de fixação no uso de Expressões Regulares"
      ]
    },
    {
      "cell_type": "markdown",
      "metadata": {
        "id": "_92QgvUnf2VB"
      },
      "source": [
        "### 1) Obtenha todas palavras do texto"
      ]
    },
    {
      "cell_type": "code",
      "metadata": {
        "id": "kV1Klajof2dw",
        "colab": {
          "base_uri": "https://localhost:8080/"
        },
        "outputId": "46c7aec1-b7a6-432f-b188-7a7ec32eb168"
      },
      "source": [
        "texto = \"Um texto qualquer sem qualquer valor semântico.\"\n",
        "palavras = re.findall(r'\\b\\w+\\b', texto)\n",
        "\n",
        "print(palavras)"
      ],
      "execution_count": null,
      "outputs": [
        {
          "output_type": "stream",
          "name": "stdout",
          "text": [
            "['Um', 'texto', 'qualquer', 'sem', 'qualquer', 'valor', 'semântico']\n"
          ]
        }
      ]
    },
    {
      "cell_type": "markdown",
      "metadata": {
        "id": "wvww9clJd-QO"
      },
      "source": [
        "### 2) Obtenha a primeira palavra do texto"
      ]
    },
    {
      "cell_type": "code",
      "metadata": {
        "id": "C7CLrIw6d-a9",
        "colab": {
          "base_uri": "https://localhost:8080/"
        },
        "outputId": "e676b6cb-338b-4030-cf3e-c325f8f09a83"
      },
      "source": [
        "texto = \"Um texto qualquer sem qualquer valor semântico.\"\n",
        "primeira_palavra = re.findall(r'\\b\\w+\\b', texto)[0]\n",
        "\n",
        "print(primeira_palavra)"
      ],
      "execution_count": null,
      "outputs": [
        {
          "output_type": "stream",
          "name": "stdout",
          "text": [
            "Um\n"
          ]
        }
      ]
    },
    {
      "cell_type": "markdown",
      "metadata": {
        "id": "rfeYO3h7Jf7_"
      },
      "source": [
        "### 3) Obtenha a posição de início do primeiro espaço (white-space) encontrado no texto a seguir"
      ]
    },
    {
      "cell_type": "code",
      "metadata": {
        "id": "ku7y_bfJJgGW",
        "colab": {
          "base_uri": "https://localhost:8080/"
        },
        "outputId": "02246252-7547-49d3-8be5-2fce699dba9f"
      },
      "source": [
        "texto = \"Um texto qualquer sem qualquer valor semântico.\"\n",
        "match = re.search(r'\\s', texto)\n",
        "\n",
        "if match:\n",
        "    posicao_primeiro_espaco = match.start()\n",
        "    print(posicao_primeiro_espaco)"
      ],
      "execution_count": null,
      "outputs": [
        {
          "output_type": "stream",
          "name": "stdout",
          "text": [
            "2\n"
          ]
        }
      ]
    },
    {
      "cell_type": "markdown",
      "metadata": {
        "id": "YE14-xVqgLd0"
      },
      "source": [
        "### 4) Obtenha os dois primeiros caracteres de cada palavra\n",
        "Dica: Pesquise sobre o caracter de word boundary `\\b`, que encontra as delimitações de cada palavra"
      ]
    },
    {
      "cell_type": "code",
      "metadata": {
        "id": "qUt5T65kgLxB",
        "colab": {
          "base_uri": "https://localhost:8080/"
        },
        "outputId": "2a7abca6-5885-4206-c21e-7523cf48088c"
      },
      "source": [
        "import re\n",
        "\n",
        "texto = \"Um texto qualquer sem qualquer valor semântico.\"\n",
        "dois_primeiros_caracteres = re.findall(r'\\b\\w{1,2}\\b', texto)\n",
        "\n",
        "print(dois_primeiros_caracteres)"
      ],
      "execution_count": null,
      "outputs": [
        {
          "output_type": "stream",
          "name": "stdout",
          "text": [
            "['Um']\n"
          ]
        }
      ]
    },
    {
      "cell_type": "markdown",
      "metadata": {
        "id": "QjOe3SddhK7k"
      },
      "source": [
        "### 5) Obtenha datas no formato brasileiro (dd/mm/aaaa) e americano (aaaa-mm-dd)"
      ]
    },
    {
      "cell_type": "code",
      "metadata": {
        "id": "mrjaQ06HhLIP",
        "colab": {
          "base_uri": "https://localhost:8080/"
        },
        "outputId": "f2608ed4-7b27-49af-f335-d5a317bdecbc"
      },
      "source": [
        "texto = \"Data: 27/02/1987. Date: 1987-02-27.\"\n",
        "\n",
        "# Busca datas no formato brasileiro (dd/mm/aaaa)\n",
        "datas_brasileiras = re.findall(r'\\b(\\d{2})/(\\d{2})/(\\d{4})\\b', texto)\n",
        "\n",
        "# Busca datas no formato americano (aaaa-mm-dd)\n",
        "datas_americanas = re.findall(r'\\b(\\d{4})-(\\d{2})-(\\d{2})\\b', texto)\n",
        "\n",
        "print(\"Datas no formato brasileiro:\", datas_brasileiras)\n",
        "print(\"Datas no formato americano:\", datas_americanas)"
      ],
      "execution_count": null,
      "outputs": [
        {
          "output_type": "stream",
          "name": "stdout",
          "text": [
            "Datas no formato brasileiro: [('27', '02', '1987')]\n",
            "Datas no formato americano: [('1987', '02', '27')]\n"
          ]
        }
      ]
    },
    {
      "cell_type": "code",
      "metadata": {
        "colab": {
          "base_uri": "https://localhost:8080/"
        },
        "outputId": "59990a62-ee2e-4443-bd9b-5bc5624e8311",
        "id": "m0VYKX1QG_fz"
      },
      "source": [
        "texto = \"Data: 27/02/1987. Date: 1987-02-27.\"\n",
        "re.findall(r\"([0-9]{2}/[0-9]{2}/[0-9]{4})|([0-9]{4}-[0-9]{2}-[0-9]{2})\", texto)"
      ],
      "execution_count": null,
      "outputs": [
        {
          "output_type": "execute_result",
          "data": {
            "text/plain": [
              "[('27/02/1987', ''), ('', '1987-02-27')]"
            ]
          },
          "metadata": {},
          "execution_count": 62
        }
      ]
    },
    {
      "cell_type": "markdown",
      "metadata": {
        "id": "-wn8AED7mfP1"
      },
      "source": [
        "### 6) Obtenha todas palavras que terminem com vogal"
      ]
    },
    {
      "cell_type": "code",
      "metadata": {
        "id": "UY8hVsNemlup",
        "colab": {
          "base_uri": "https://localhost:8080/"
        },
        "outputId": "a2181c38-0cf0-440c-b94f-65257acb2415"
      },
      "source": [
        "texto = \"Um texto qualquer sem qualquer valor semântico.\"\n",
        "palavras_terminadas_com_vogal = re.findall(r'\\b\\w*[aeiouAEIOU]\\b', texto)\n",
        "\n",
        "print(palavras_terminadas_com_vogal)"
      ],
      "execution_count": null,
      "outputs": [
        {
          "output_type": "stream",
          "name": "stdout",
          "text": [
            "['texto', 'semântico']\n"
          ]
        }
      ]
    },
    {
      "cell_type": "markdown",
      "metadata": {
        "id": "AVf7H86WoKbi"
      },
      "source": [
        "### 7) Substitua toda ocorrência da palavra \"Avenida\" por \"Av.\"\n"
      ]
    },
    {
      "cell_type": "code",
      "metadata": {
        "id": "Ok4VE3rpmfis",
        "colab": {
          "base_uri": "https://localhost:8080/"
        },
        "outputId": "80d75163-73a3-4a8b-fd96-8a0801c1aef1"
      },
      "source": [
        "texto = \"Endereço: Avenida Getúlio Vargas, 1811\\nEndereço: avenida visconde de guarapuava, 1533\"\n",
        "\n",
        "novo_texto = re.sub(r'\\bAvenida\\b', 'Av.', texto)\n",
        "\n",
        "print(novo_texto)"
      ],
      "execution_count": null,
      "outputs": [
        {
          "output_type": "stream",
          "name": "stdout",
          "text": [
            "Endereço: Av. Getúlio Vargas, 1811\n",
            "Endereço: avenida visconde de guarapuava, 1533\n"
          ]
        }
      ]
    },
    {
      "cell_type": "markdown",
      "metadata": {
        "id": "BzDEjywwo3Zk"
      },
      "source": [
        "###8) Obtenha os endereços sem a numeração"
      ]
    },
    {
      "cell_type": "code",
      "metadata": {
        "id": "NhDq6ES0o3rK",
        "colab": {
          "base_uri": "https://localhost:8080/"
        },
        "outputId": "6c03f56e-87a5-471f-d80b-78df95b08d58"
      },
      "source": [
        "texto = \"Endereço: Avenida Getúlio Vargas, 1811\\nEndereço: avenida visconde de guarapuava, 1533\"\n",
        "# Remover números e vírgula após a vírgula\n",
        "enderecos_sem_numeracao = re.sub(r',\\s*\\d+', '', texto)\n",
        "\n",
        "print(enderecos_sem_numeracao)"
      ],
      "execution_count": null,
      "outputs": [
        {
          "output_type": "stream",
          "name": "stdout",
          "text": [
            "Endereço: Avenida Getúlio Vargas\n",
            "Endereço: avenida visconde de guarapuava\n"
          ]
        }
      ]
    },
    {
      "cell_type": "markdown",
      "metadata": {
        "id": "bCyrLdDWpaIf"
      },
      "source": [
        "### 9) Substitua todas ocorrências de espaços, vírgulas e pontos pelo underline"
      ]
    },
    {
      "cell_type": "code",
      "metadata": {
        "id": "FzFgtNXupaWc",
        "colab": {
          "base_uri": "https://localhost:8080/"
        },
        "outputId": "4ef54adb-b3dc-4c07-a6e5-0327bf2e6255"
      },
      "source": [
        "text = 'Python Exercises, PHP exercises.'\n",
        "\n",
        "text_substituted = re.sub(r'[ ,.]', '_', text)\n",
        "\n",
        "print(text_substituted)"
      ],
      "execution_count": null,
      "outputs": [
        {
          "output_type": "stream",
          "name": "stdout",
          "text": [
            "Python_Exercises__PHP_exercises_\n"
          ]
        }
      ]
    },
    {
      "cell_type": "markdown",
      "source": [
        "O gabarito das atividades pode ser encontrado [aqui](https://colab.research.google.com/drive/1zsWPZyAPuXscBjbd2yu12zg4-tG0eHR8)."
      ],
      "metadata": {
        "id": "d8SAfDH9X1RB"
      }
    },
    {
      "cell_type": "markdown",
      "metadata": {
        "id": "mUx9tY455Dkw"
      },
      "source": [
        "## Referências e Material complementar\n",
        "\n",
        "\n",
        "*   [RegEx Cheat Sheet](https://www.rexegg.com/regex-quickstart.html)\n",
        "*   [Tutorial sobre expressões regulares para iniciantes em Python](https://www.vooo.pro/insights/tutorial-sobre-expressoes-regulares-para-iniciantes-em-python/)\n",
        "*   [Python Regular Expressions by Google](https://developers.google.com/edu/python/regular-expressions)\n",
        "*   [Python ReGex Exercises](https://www.w3resource.com/python-exercises/re/)\n",
        "\n"
      ]
    },
    {
      "cell_type": "markdown",
      "metadata": {
        "id": "OybZyUcPrGQr"
      },
      "source": [
        "Este notebook foi produzido por Prof. [Lucas Oliveira](http://lattes.cnpq.br/3611246009892500) e revisado por Carla Silveira."
      ]
    }
  ]
}