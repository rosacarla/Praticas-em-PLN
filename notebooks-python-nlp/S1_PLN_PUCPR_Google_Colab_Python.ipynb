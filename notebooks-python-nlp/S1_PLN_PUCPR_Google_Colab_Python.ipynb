{
  "nbformat": 4,
  "nbformat_minor": 0,
  "metadata": {
    "colab": {
      "provenance": []
    },
    "kernelspec": {
      "name": "python3",
      "display_name": "Python 3"
    }
  },
  "cells": [
    {
      "cell_type": "markdown",
      "metadata": {
        "id": "yX-7yPJ4UHDL"
      },
      "source": [
        "#Google Colab + Python - Primeiro contato\n",
        "## Processamento de Linguagem Natural\n",
        "Esta atividade visa uma ambientação com o **Google Colab** e com a linguagem de programação **Python**, que serão a base dos algoritmos desenvolvidos nesta disciplina.\n",
        "\n",
        "O foco da disciplina de PLN não é aprender a programar em Python, mas sim saber como utilizar as ferramentas que a linguagem oferece no desenvolvimento de algoritmos de PLN e como executá-los na plataform do Google Colab.\n",
        "\n",
        "Qualquer dúvida que venha a surgir sobre o Python pode ser esclarecida da [documentação oficial](https://docs.python.org/3/) e/ou fóruns online como o [stackoverflow](https://stackoverflow.com/).\n"
      ]
    },
    {
      "cell_type": "markdown",
      "metadata": {
        "id": "rpzFZgHMWZnU"
      },
      "source": [
        "---\n",
        "## **Google Colab**\n",
        "---\n",
        "### Benefícios\n",
        "*   Armazenamento na nuvem - possibilidade de compartilhamento\n",
        "*   Suporte as principais bibliotecas do Python\n",
        "*   Sem necessidade de instalação em máquina local\n",
        "*   Aceleração de GPU\n",
        "*   Ambiente de notebook torna mais fácil o entendimento\n",
        "*   **É GRATUITO!**\n",
        "\n",
        "### Como criar seu código?\n",
        "Basta clicar no botão \"+ Code\" abaixo do menu principal. Ao fazê-lo uma nova célula será adicionada ao seu notebook e você pode escrever seu código nela.\n",
        "\n",
        "### Como executar seu código?\n",
        "Ao passar o mouse sobre a célula, aparecerá um botão de execução no canto esquerdo, basta clicar que o código de sua célula será executado. Se preferir use o atalho \"SHIFT + ENTER\".\n",
        "\n",
        "### Como descrever seu código?\n",
        "Basta clicar no botão \"+ Text\" abaixo do menu principal. Ao fazê-lo uma nova célula de texto será adicionada ao seu notebook e você pode escrever o que quiser nela. Se preferir, pode também adicionar comentários nas celulas de código, para tal, basta colocar o sinal de \"#\" no início da linha que deseja colocar o comentário.\n",
        "\n",
        "\n",
        "\n",
        "\n"
      ]
    },
    {
      "cell_type": "markdown",
      "metadata": {
        "id": "cGC-I4yIZizv"
      },
      "source": [
        "---\n",
        "## **Python**\n",
        "---\n",
        "Como utilizaremos o Google Colab, não será necessária a instalação do Python ou qualquer outra ferramenta em sua máquina. (Caso prefira efetuar a instalação e executar seus códigos localmente, é aconselhada a instalação do software [Anaconda](https://www.anaconda.com/), que faz a instalação e configuração automática de um ambiente com Python e as principais ferramentas necessárias.)\n",
        "\n",
        "**PRÁTICA:** Execute as células de código a seguir - fique à vontade para fazer alterações no código antes de executar para verificar o que acontece.\n",
        "\n",
        "### Operadores matemáticos"
      ]
    },
    {
      "cell_type": "code",
      "metadata": {
        "id": "OKsAC9ghMwDr",
        "outputId": "8df8a8ad-452c-4371-f758-ef6f1f846ee2",
        "colab": {
          "base_uri": "https://localhost:8080/"
        }
      },
      "source": [
        "2 + 2"
      ],
      "execution_count": null,
      "outputs": [
        {
          "output_type": "execute_result",
          "data": {
            "text/plain": [
              "4"
            ]
          },
          "metadata": {},
          "execution_count": 1
        }
      ]
    },
    {
      "cell_type": "code",
      "metadata": {
        "id": "z5plSwkxM2gf",
        "outputId": "1f691c46-c930-41d7-8687-5ff5ffd787eb",
        "colab": {
          "base_uri": "https://localhost:8080/"
        }
      },
      "source": [
        "5 - 2"
      ],
      "execution_count": null,
      "outputs": [
        {
          "output_type": "execute_result",
          "data": {
            "text/plain": [
              "3"
            ]
          },
          "metadata": {},
          "execution_count": 2
        }
      ]
    },
    {
      "cell_type": "code",
      "metadata": {
        "id": "dW_Ky-2EM2jM",
        "colab": {
          "base_uri": "https://localhost:8080/"
        },
        "outputId": "fb05bb5a-8262-47ba-a1b5-aaacb456c4a0"
      },
      "source": [
        "3 * 4"
      ],
      "execution_count": null,
      "outputs": [
        {
          "output_type": "execute_result",
          "data": {
            "text/plain": [
              "12"
            ]
          },
          "metadata": {},
          "execution_count": 3
        }
      ]
    },
    {
      "cell_type": "code",
      "metadata": {
        "id": "qJPRi7ybM2o7",
        "colab": {
          "base_uri": "https://localhost:8080/"
        },
        "outputId": "bf988f52-4ec3-4add-c49c-1298b4bcc190"
      },
      "source": [
        "6 / 3"
      ],
      "execution_count": null,
      "outputs": [
        {
          "output_type": "execute_result",
          "data": {
            "text/plain": [
              "2.0"
            ]
          },
          "metadata": {},
          "execution_count": 4
        }
      ]
    },
    {
      "cell_type": "code",
      "metadata": {
        "id": "Pxz9fxLbM2tx",
        "colab": {
          "base_uri": "https://localhost:8080/"
        },
        "outputId": "38c592f8-dcf9-4f89-8916-7ae9255f54d3"
      },
      "source": [
        "(2 + 3) * 2"
      ],
      "execution_count": null,
      "outputs": [
        {
          "output_type": "execute_result",
          "data": {
            "text/plain": [
              "10"
            ]
          },
          "metadata": {},
          "execution_count": 5
        }
      ]
    },
    {
      "cell_type": "markdown",
      "metadata": {
        "id": "7XjmVPVqNT2W"
      },
      "source": [
        "### Variáveis"
      ]
    },
    {
      "cell_type": "code",
      "metadata": {
        "id": "IZ1zEjI1M2rt"
      },
      "source": [
        "caixa = 30"
      ],
      "execution_count": null,
      "outputs": []
    },
    {
      "cell_type": "code",
      "metadata": {
        "id": "G--Ttl3mM2nZ",
        "colab": {
          "base_uri": "https://localhost:8080/"
        },
        "outputId": "7c5ee619-9d58-4656-a7fb-02689695baee"
      },
      "source": [
        "caixa"
      ],
      "execution_count": null,
      "outputs": [
        {
          "output_type": "execute_result",
          "data": {
            "text/plain": [
              "30"
            ]
          },
          "metadata": {},
          "execution_count": 7
        }
      ]
    },
    {
      "cell_type": "code",
      "source": [
        "type(caixa)"
      ],
      "metadata": {
        "colab": {
          "base_uri": "https://localhost:8080/"
        },
        "id": "s52LtKif438j",
        "outputId": "69f30380-c07f-4d07-af5b-faefcb5d907d"
      },
      "execution_count": null,
      "outputs": [
        {
          "output_type": "execute_result",
          "data": {
            "text/plain": [
              "int"
            ]
          },
          "metadata": {},
          "execution_count": 8
        }
      ]
    },
    {
      "cell_type": "code",
      "metadata": {
        "id": "40wstjYcNish"
      },
      "source": [
        "gaveta = 20"
      ],
      "execution_count": null,
      "outputs": []
    },
    {
      "cell_type": "code",
      "metadata": {
        "id": "kZ477rfCNiyT",
        "colab": {
          "base_uri": "https://localhost:8080/"
        },
        "outputId": "f0b09c87-e6ec-4764-e99f-4fe544c163f0"
      },
      "source": [
        "gaveta"
      ],
      "execution_count": null,
      "outputs": [
        {
          "output_type": "execute_result",
          "data": {
            "text/plain": [
              "20"
            ]
          },
          "metadata": {},
          "execution_count": 10
        }
      ]
    },
    {
      "cell_type": "code",
      "metadata": {
        "id": "IAYzH5pNNlsd"
      },
      "source": [
        "armario = caixa + gaveta"
      ],
      "execution_count": null,
      "outputs": []
    },
    {
      "cell_type": "code",
      "metadata": {
        "id": "6qNV0ZtDNqe6",
        "colab": {
          "base_uri": "https://localhost:8080/"
        },
        "outputId": "dec98bd7-ee66-4a98-8e34-2293aae5018a"
      },
      "source": [
        "armario"
      ],
      "execution_count": null,
      "outputs": [
        {
          "output_type": "execute_result",
          "data": {
            "text/plain": [
              "50"
            ]
          },
          "metadata": {},
          "execution_count": 12
        }
      ]
    },
    {
      "cell_type": "code",
      "source": [
        "type(armario)"
      ],
      "metadata": {
        "colab": {
          "base_uri": "https://localhost:8080/"
        },
        "id": "c9im4BeH4__1",
        "outputId": "a043cb31-7809-420c-ec87-5386af82c727"
      },
      "execution_count": null,
      "outputs": [
        {
          "output_type": "execute_result",
          "data": {
            "text/plain": [
              "int"
            ]
          },
          "metadata": {},
          "execution_count": 13
        }
      ]
    },
    {
      "cell_type": "markdown",
      "metadata": {
        "id": "sg20_oceN33u"
      },
      "source": [
        "### Strings e Input"
      ]
    },
    {
      "cell_type": "code",
      "metadata": {
        "id": "rl7eJSEzN8Jd",
        "colab": {
          "base_uri": "https://localhost:8080/"
        },
        "outputId": "d0e1fe80-202f-4fc7-b4ff-7a620785493d"
      },
      "source": [
        "print(\"Textos sempre devem ficar entre aspas.\")"
      ],
      "execution_count": null,
      "outputs": [
        {
          "output_type": "stream",
          "name": "stdout",
          "text": [
            "Textos sempre devem ficar entre aspas.\n"
          ]
        }
      ]
    },
    {
      "cell_type": "code",
      "metadata": {
        "id": "7ldhi5qsN8Wf",
        "colab": {
          "base_uri": "https://localhost:8080/"
        },
        "outputId": "f3f0919c-2702-4db8-e730-682bb737c87e"
      },
      "source": [
        "print(\"Qual o seu nome? (digite e pressione enter)\")\n",
        "nome = input()"
      ],
      "execution_count": null,
      "outputs": [
        {
          "name": "stdout",
          "output_type": "stream",
          "text": [
            "Qual o seu nome? (digite e pressione enter)\n",
            "Carla\n"
          ]
        }
      ]
    },
    {
      "cell_type": "code",
      "metadata": {
        "id": "8JoJL-Y1OKba",
        "colab": {
          "base_uri": "https://localhost:8080/",
          "height": 36
        },
        "outputId": "870a0072-6de5-4cb4-cb3c-a7c88070615b"
      },
      "source": [
        "nome"
      ],
      "execution_count": null,
      "outputs": [
        {
          "output_type": "execute_result",
          "data": {
            "text/plain": [
              "'Carla'"
            ],
            "application/vnd.google.colaboratory.intrinsic+json": {
              "type": "string"
            }
          },
          "metadata": {},
          "execution_count": 16
        }
      ]
    },
    {
      "cell_type": "code",
      "source": [
        "type(nome)"
      ],
      "metadata": {
        "colab": {
          "base_uri": "https://localhost:8080/"
        },
        "id": "cn1l-Xdz5K4p",
        "outputId": "f86badc1-b53c-49bf-c72b-b4f92eb9b307"
      },
      "execution_count": null,
      "outputs": [
        {
          "output_type": "execute_result",
          "data": {
            "text/plain": [
              "str"
            ]
          },
          "metadata": {},
          "execution_count": 17
        }
      ]
    },
    {
      "cell_type": "markdown",
      "metadata": {
        "id": "ykEbNT66OkYW"
      },
      "source": [
        "### Estrutura condicional"
      ]
    },
    {
      "cell_type": "code",
      "metadata": {
        "id": "cmrsezaTOmoV",
        "colab": {
          "base_uri": "https://localhost:8080/"
        },
        "outputId": "47a620a0-d535-44be-d69d-9df97ab8cd31"
      },
      "source": [
        "print(\"Qual sua idade? (digite e pressione enter)\")\n",
        "idade = int(input())\n",
        "\n",
        "if idade >= 18:\n",
        "  print(\"Você é maior de idade.\")\n",
        "else:\n",
        "  print(\"Você é menor de idade.\")"
      ],
      "execution_count": null,
      "outputs": [
        {
          "output_type": "stream",
          "name": "stdout",
          "text": [
            "Qual sua idade? (digite e pressione enter)\n",
            "45\n",
            "Você é maior de idade.\n"
          ]
        }
      ]
    },
    {
      "cell_type": "code",
      "metadata": {
        "id": "IZR7edVMOm1L",
        "colab": {
          "base_uri": "https://localhost:8080/"
        },
        "outputId": "20b2a245-5dd5-47be-fbc6-407dc502b07d"
      },
      "source": [
        "print(\"Em qual cidade você mora? (digite e pressione enter)\")\n",
        "cidade = input()\n",
        "\n",
        "if cidade.lower() == 'curitiba':\n",
        "  print('Bem-vindo ao frio!')\n",
        "else:\n",
        "  print('Olá forasteiro.')"
      ],
      "execution_count": null,
      "outputs": [
        {
          "output_type": "stream",
          "name": "stdout",
          "text": [
            "Em qual cidade você mora? (digite e pressione enter)\n",
            "Curitiba\n",
            "Bem-vindo ao frio!\n"
          ]
        }
      ]
    },
    {
      "cell_type": "markdown",
      "metadata": {
        "id": "wHjbdlouPtuR"
      },
      "source": [
        "### Estrutura de repetição"
      ]
    },
    {
      "cell_type": "code",
      "metadata": {
        "id": "YnOVNSUQPwi_",
        "colab": {
          "base_uri": "https://localhost:8080/"
        },
        "outputId": "943c3bb0-92f9-4e6a-e690-21141d37e0db"
      },
      "source": [
        "contador = 1\n",
        "\n",
        "while (contador <= 20):\n",
        "  print(\"O valor atual do contador é: \" + str(contador))\n",
        "  contador = contador + 1\n",
        "\n",
        "print(\"Repetição finalizada!\")\n"
      ],
      "execution_count": null,
      "outputs": [
        {
          "output_type": "stream",
          "name": "stdout",
          "text": [
            "O valor atual do contador é: 1\n",
            "O valor atual do contador é: 2\n",
            "O valor atual do contador é: 3\n",
            "O valor atual do contador é: 4\n",
            "O valor atual do contador é: 5\n",
            "O valor atual do contador é: 6\n",
            "O valor atual do contador é: 7\n",
            "O valor atual do contador é: 8\n",
            "O valor atual do contador é: 9\n",
            "O valor atual do contador é: 10\n",
            "O valor atual do contador é: 11\n",
            "O valor atual do contador é: 12\n",
            "O valor atual do contador é: 13\n",
            "O valor atual do contador é: 14\n",
            "O valor atual do contador é: 15\n",
            "O valor atual do contador é: 16\n",
            "O valor atual do contador é: 17\n",
            "O valor atual do contador é: 18\n",
            "O valor atual do contador é: 19\n",
            "O valor atual do contador é: 20\n",
            "Repetição finalizada!\n"
          ]
        }
      ]
    },
    {
      "cell_type": "markdown",
      "metadata": {
        "id": "nt21flecQjyy"
      },
      "source": [
        "### Importando bibliotecas"
      ]
    },
    {
      "cell_type": "code",
      "metadata": {
        "id": "YHqHi652QgF5",
        "colab": {
          "base_uri": "https://localhost:8080/"
        },
        "outputId": "00b5e730-8d21-4b30-8206-83738cdfb128"
      },
      "source": [
        "# Importa biblioteca random\n",
        "import random\n",
        "\n",
        "# Mostra 10 números aleatórios entre 1 e 10\n",
        "for i in range(10):\n",
        "    print(random.randint(1, 10))\n",
        "\n",
        "print()\n",
        "\n",
        "# Mostra 10 números aleatórios entre 1 e 20\n",
        "for i in range(10):\n",
        "    print(random.randint(1, 20))"
      ],
      "execution_count": null,
      "outputs": [
        {
          "output_type": "stream",
          "name": "stdout",
          "text": [
            "1\n",
            "8\n",
            "8\n",
            "10\n",
            "1\n",
            "10\n",
            "8\n",
            "1\n",
            "1\n",
            "2\n",
            "\n",
            "16\n",
            "12\n",
            "18\n",
            "20\n",
            "16\n",
            "6\n",
            "8\n",
            "18\n",
            "18\n",
            "16\n"
          ]
        }
      ]
    },
    {
      "cell_type": "markdown",
      "metadata": {
        "id": "jliZTYYqQ9l5"
      },
      "source": [
        "### Listas"
      ]
    },
    {
      "cell_type": "code",
      "metadata": {
        "id": "WlEzL4pYQ9y0",
        "colab": {
          "base_uri": "https://localhost:8080/"
        },
        "outputId": "6aae5b7b-d5c5-44f3-d0c8-7c65c4b851ce"
      },
      "source": [
        "numeros = [1, 2, 3]\n",
        "numeros"
      ],
      "execution_count": null,
      "outputs": [
        {
          "output_type": "execute_result",
          "data": {
            "text/plain": [
              "[1, 2, 3]"
            ]
          },
          "metadata": {},
          "execution_count": 25
        }
      ]
    },
    {
      "cell_type": "code",
      "source": [
        "type(numeros)"
      ],
      "metadata": {
        "colab": {
          "base_uri": "https://localhost:8080/"
        },
        "id": "FrlGhmmp5-kG",
        "outputId": "0b4a4532-acbc-4954-849a-1a847dd0c86a"
      },
      "execution_count": null,
      "outputs": [
        {
          "output_type": "execute_result",
          "data": {
            "text/plain": [
              "list"
            ]
          },
          "metadata": {},
          "execution_count": 26
        }
      ]
    },
    {
      "cell_type": "code",
      "metadata": {
        "id": "gOKx4MVQREJo",
        "colab": {
          "base_uri": "https://localhost:8080/"
        },
        "outputId": "78d01f41-414b-4831-ea05-6e528910a300"
      },
      "source": [
        "animais = ['cachorro', 'gato', 'coelho', 'peixe']\n",
        "animais"
      ],
      "execution_count": null,
      "outputs": [
        {
          "output_type": "execute_result",
          "data": {
            "text/plain": [
              "['cachorro', 'gato', 'coelho', 'peixe']"
            ]
          },
          "metadata": {},
          "execution_count": 27
        }
      ]
    },
    {
      "cell_type": "code",
      "metadata": {
        "id": "S62ty3HHRMiR",
        "colab": {
          "base_uri": "https://localhost:8080/"
        },
        "outputId": "543370eb-98ec-4949-884a-fcbd05e4c246"
      },
      "source": [
        "# Mostra numero que está no indice 0\n",
        "numeros[0]"
      ],
      "execution_count": null,
      "outputs": [
        {
          "output_type": "execute_result",
          "data": {
            "text/plain": [
              "1"
            ]
          },
          "metadata": {},
          "execution_count": 28
        }
      ]
    },
    {
      "cell_type": "code",
      "metadata": {
        "id": "G-JqaenRRSaB",
        "colab": {
          "base_uri": "https://localhost:8080/"
        },
        "outputId": "dd75b5b4-9fb1-475b-c3d1-9932f92359e3"
      },
      "source": [
        "# Mostra numero que está no indice 2\n",
        "numeros[2]"
      ],
      "execution_count": null,
      "outputs": [
        {
          "output_type": "execute_result",
          "data": {
            "text/plain": [
              "3"
            ]
          },
          "metadata": {},
          "execution_count": 29
        }
      ]
    },
    {
      "cell_type": "code",
      "metadata": {
        "id": "R8p2h8W-RUcn",
        "colab": {
          "base_uri": "https://localhost:8080/",
          "height": 36
        },
        "outputId": "a1369944-1b97-4e91-ca3c-47926c71e93d"
      },
      "source": [
        "# Mostra string que está no indice 0\n",
        "animais[0]"
      ],
      "execution_count": null,
      "outputs": [
        {
          "output_type": "execute_result",
          "data": {
            "text/plain": [
              "'cachorro'"
            ],
            "application/vnd.google.colaboratory.intrinsic+json": {
              "type": "string"
            }
          },
          "metadata": {},
          "execution_count": 30
        }
      ]
    },
    {
      "cell_type": "code",
      "metadata": {
        "id": "mrFncteWRV49",
        "colab": {
          "base_uri": "https://localhost:8080/",
          "height": 36
        },
        "outputId": "a74304db-b61a-495b-90a1-cf25e186a962"
      },
      "source": [
        "# Mostra string que está no indice 3\n",
        "animais[3]"
      ],
      "execution_count": null,
      "outputs": [
        {
          "output_type": "execute_result",
          "data": {
            "text/plain": [
              "'peixe'"
            ],
            "application/vnd.google.colaboratory.intrinsic+json": {
              "type": "string"
            }
          },
          "metadata": {},
          "execution_count": 31
        }
      ]
    },
    {
      "cell_type": "code",
      "metadata": {
        "id": "3q33IZQJRgIz",
        "colab": {
          "base_uri": "https://localhost:8080/"
        },
        "outputId": "99c28242-3e9f-4cc2-ab16-7450f6c65254"
      },
      "source": [
        "# Acessando a lista usando repetição - Opção 1\n",
        "for i in range(len(animais)):\n",
        "  # Imprime todas as posições da lista com as respectivas informações\n",
        "  print('Posição ' + str(i) + ' na lista de animais corresponde a: ' + animais[i])"
      ],
      "execution_count": null,
      "outputs": [
        {
          "output_type": "stream",
          "name": "stdout",
          "text": [
            "Posição 0 na lista de animais corresponde a: cachorro\n",
            "Posição 1 na lista de animais corresponde a: gato\n",
            "Posição 2 na lista de animais corresponde a: coelho\n",
            "Posição 3 na lista de animais corresponde a: peixe\n"
          ]
        }
      ]
    },
    {
      "cell_type": "code",
      "metadata": {
        "id": "jKlKOQeNxOBk",
        "colab": {
          "base_uri": "https://localhost:8080/"
        },
        "outputId": "bedfee63-c85c-4d33-8909-f601cf111b7a"
      },
      "source": [
        "# Acessando a lista usando repetição - Opção 2\n",
        "for animal in animais:\n",
        "  print('Animal: ' + animal)"
      ],
      "execution_count": null,
      "outputs": [
        {
          "output_type": "stream",
          "name": "stdout",
          "text": [
            "Animal: cachorro\n",
            "Animal: gato\n",
            "Animal: coelho\n",
            "Animal: peixe\n"
          ]
        }
      ]
    },
    {
      "cell_type": "markdown",
      "metadata": {
        "id": "k9iiQb6EY_SM"
      },
      "source": [
        "## Material complementar\n",
        "Recomendo a leitura dos materiais complementares até você estar confortável com o uso do Google Colab, especialmente para quem tem pouco contato com programação.\n",
        "\n",
        "*   [MELHOR FORMA DE APRENDER PYTHON (Google Colab Notebook)](https://www.youtube.com/watch?v=Gojqw9BQ5qY)\n",
        "*   [Getting started with Google Colab - Official](https://colab.research.google.com/notebooks/welcome.ipynb)\n",
        "*   [Overview of Colab features](https://colab.research.google.com/notebooks/basic_features_overview.ipynb)\n",
        "*   [Getting started with Google Colab](https://towardsdatascience.com/getting-started-with-google-colab-f2fff97f594c)\n",
        "*    [Automate the Boring Stuff with Python - Practical programming for total beginners](https://automatetheboringstuff.com/)\n",
        "*    [Python Tutorial](https://www.devmedia.com.br/python-tutorial/33274)\n",
        "*    [Enough Python](https://gist.github.com/aparrish/50803e0ae51a2c6e775af36ea79be285)\n",
        "\n"
      ]
    },
    {
      "cell_type": "markdown",
      "metadata": {
        "id": "n2f9ar23qyoj"
      },
      "source": [
        "Este notebook foi produzido por Prof. [Lucas Oliveira](http://lattes.cnpq.br/3611246009892500) e revisado por Carla Silveira."
      ]
    }
  ]
}