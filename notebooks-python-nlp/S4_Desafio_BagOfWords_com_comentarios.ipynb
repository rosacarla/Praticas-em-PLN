{
  "nbformat": 4,
  "nbformat_minor": 0,
  "metadata": {
    "colab": {
      "provenance": []
    },
    "kernelspec": {
      "name": "python3",
      "display_name": "Python 3"
    },
    "language_info": {
      "name": "python"
    }
  },
  "cells": [
    {
      "cell_type": "markdown",
      "source": [
        "># <b>DESAFIO: EXTRAÇÃO DAS CARACTERÍSTICAS DE UM TEXTO COM BAG OF WORDS</b>  \n",
        ">Instituição: PUCPR  \n",
        ">Curso: Tecnologia em Inteligência Artifical Aplicada  \n",
        ">Disciplina: Processamento de Linguagem Natural  \n",
        ">Professor: Lucas Oliveira  \n",
        ">Estudante: Carla Edila Silveira  \n",
        ">Data: 15/04/2024  \n",
        "\n",
        "<p align='justify'>INTRODUÇÃO: Extrair conhecimento de um texto envolve várias etapas. Diversas empresas e organizações têm apostado em aplicar técnicas de inteligência artificial para otimizar seus processos. Nesse contexto, identificar o comportamento do consumidor é fundamental para definir estratégias de mercado. Nos sites de e-commerce, é comum os consumidores registrarem suas avaliações acerca dos produtos adquiridos. Identificar e analisar essas avaliações podem fornecer conhecimentos importantes para as empresas.</p>\n",
        "\n",
        "Imagine que você foi contratado por uma empresa que vende notebooks.   \n",
        "\n",
        "<img src='https://i.postimg.cc/fT9CZsNY/notebook-bagofwords.jpg' width=880 height=560>"
      ],
      "metadata": {
        "id": "UNotI9JHU1p4"
      }
    },
    {
      "cell_type": "markdown",
      "source": [
        "Veja os comentários:  \n",
        "<p align='justify'><i>Bom para quem quer realizar tarefas do dia a dia, trabalho, estudo...para isto é ideal. Bem fino, confortável de usar e é bem equipado na sua composição de memoria, armazenamento, processador...fiquei satisfeito. Foi um presente.produto bom, depois que troquei a ram por uma de 08gb e a hd de 1tb por um ssd de 500g ficou um avião, normalmente ligava em quase 02 minutos, agora liga em 08 segundos, o que facilita é a troca dos mesmos, muito simples, sem a necessidade de abri-lo por completo. todo notebook precisa de upgrade para satisfazer, roda\n",
        "até alguns jogos tranquilamente agora. A entrega foi realizada no prazo, e o produto surpreendeu minhas expectativas.Produto bom, preço acessível. Material com bom acabamento.Leve e bem prático para carregar. Bom. O produto vem atendendo minhas necessidades, como estudo e trabalho do cotinano. O design é lindo e o som, show de bola. Ele consegue ficar umas 3h30 sem tomada. Gostei muito, cumpre o que promete, entrega antes do esperado também. Notebook leve e sem reclamações.Eu adorei chegou bem antes do esperado comprei no dia 28 e\n",
        "chegou dia 31. Agora é testar!</i></p>  \n",
        "\n",
        "><p align='justify'><b>DESAFIO: Diante dessa situação, você deve aplicar o algoritmo <i>bag of words</i>, utilizando a linguagem Python para extrair características do texto. Essas características serão usadas futuramente como entrada para algoritmos de aprendizagem de máquina.</b></p>  \n",
        "\n",
        "​​​​​​​<p align='justify'> Para facilitar a compreensão da solução proposta para este desafio, ao implementar o método <i>bag of words</i> utilizando apenas a linguagem Python, é possível separar os passos em métodos no código. Dessa forma, cria-se um método para: criação do vocabulário, extração de tokens e geração do texto vetorizado, conforme o código que segue.</p>"
      ],
      "metadata": {
        "id": "IBahUYlRWs5f"
      }
    },
    {
      "cell_type": "code",
      "execution_count": null,
      "metadata": {
        "id": "N4LFTlPPUq8j"
      },
      "outputs": [],
      "source": [
        "# Importa bibliotecas necessárias\n",
        "import re\n",
        "import numpy"
      ]
    },
    {
      "cell_type": "code",
      "source": [
        "# Cria vocabulário\n",
        "def word_extraction(sentence):\n",
        "  ignore = ['a', \"do\", \"é\", \"e\", \"na\", \"um\", \"que\", \"de\", \"por\", \"em\", \"o\", \"no\", \"dos\", \"uma\", \"umas\", \"para\"]\n",
        "  palavras = re.sub(\"[^\\w]\", \" \",  sentence).split()\n",
        "  texto_limpo = [w.lower() for w in palavras if w not in ignore]\n",
        "  return texto_limpo"
      ],
      "metadata": {
        "id": "7q2BisrEU3Lw"
      },
      "execution_count": null,
      "outputs": []
    },
    {
      "cell_type": "code",
      "source": [
        "# Extrai os tokens\n",
        "def tokenize(sentences):\n",
        "  palavras = []\n",
        "  for sentence in sentences:\n",
        "    w = word_extraction(sentence)\n",
        "    palavras.extend(w)\n",
        "    palavras = sorted(list(set(palavras)))\n",
        "    return palavras"
      ],
      "metadata": {
        "id": "ZSMdUiW3U3JH"
      },
      "execution_count": null,
      "outputs": []
    },
    {
      "cell_type": "code",
      "source": [
        "# Gera a Bag of Words\n",
        "def generate_bag_of_words(allsentences):\n",
        "  vocab = tokenize(allsentences)\n",
        "if __name__ == \"__main__\":\n",
        "  texto = \"Bom para quem quer realizar tarefas do dia a dia, trabalho, estudo...para isto é ideal. Bem fino, confortável de usar e é bem equipado na sua composição de memoria, armazenamento, processador...fiquei satisfeito. Foi um presente.produto bom, depois que troquei a ram por uma de 08gb e a hd de 1tb por um ssd de 500g ficou um avião, normalmente ligava em quase 02 minutos, agora liga em 08 segundos, o que facilita é a troca dos mesmos, muito simples, sem a necessidade de abri-lo por completo. todo notebook precisa de upgrade para satisfazer, roda até alguns jogos tranquilamente agora. A entrega foi realizada no prazo, e o produto surpreendeu minhas expectativas.Produto bom, preço acessível. Material com bom acabamento.Leve e bem prático para carregar. Bom. O produto vem atendendo minhas necessidades, como estudo e trabalho do cotinano. O design é lindo e o som, show de bola. Ele consegue ficar umas 3h30 sem tomada. Gostei muito, cumpre o que promete, entrega antes do esperado também. Notebook leve e sem reclamações.Eu adorei chegou bem antes do esperado comprei no dia 28 e chegou dia 31. Agora é testar!\"\n",
        "\n",
        "  comentarios = [\n",
        "        \"Bom para quem quer realizar tarefas do dia a dia, trabalho, estudo...para isto é ideal. Bem fino, confortável de usar e é bem equipado na sua composição de memoria, armazenamento, processador...fiquei satisfeito. Foi um presente.\",\n",
        "        \"produto bom, depois que troquei a ram por uma de 08gb e a hd de 1tb por um ssd de 500g ficou um avião, normalmente ligava em quase 02 minutos, agora liga em 08 segundos, o que facilita é a troca dos mesmos, muito simples, sem a necessidade de abri-lo por completo. todo notebook precisa de upgrade para  satisfazer, roda até alguns jogos tranquilamente agora.\",\n",
        "        \"A entrega foi realizada no prazo, e o produto surpreendeu minhas expectativas.\",\n",
        "        \"Produto bom, preço acessível. Material com bom acabamento.Leve e bem prático para carregar. Bom.\",\n",
        "        \"O produto vem atendendo minhas necessidades, como estudo e trabalho do cotinano. O design é lindo e o som, show de bola. Ele consegue ficar umas 3h30 sem tomada.\",\n",
        "        \"Gostei muito, cumpre o que promete, entrega antes do esperado também. Notebook leve e sem reclamações.\",\n",
        "        \"Eu adorei chegou bem antes do esperado comprei no dia 28 e chegou dia 31. Agora é testar!\"\n",
        "  ]\n",
        "  vocabulario = word_extraction(texto) # resultado é uma lista de palavras únicas que formam o vocabulário do corpus\n",
        "  tokens = tokenize(vocabulario) #  tokeniza o texto conforme a necessidade\n",
        "  generate_bag_of_words(comentarios) # função gerar a representação Bag of Words para cada comentário\n",
        "\n",
        "  for comentario in comentarios:\n",
        "    palavras = word_extraction(comentario) # extrai palavras únicas do comentário atual\n",
        "    bag_vector = numpy.zeros(len(vocabulario)) # inicializa vetor de zeros com tamanho do vocabulário, será usado para representar a contagem de palavras no comentário\n",
        "    for palavra in palavras: # o loop itera sobre cada palavra no comentário atual\n",
        "      for i,tk in enumerate(vocabulario):\n",
        "        if tk == palavra:\n",
        "          bag_vector[i] += 1 # representação Bag of Words do comentário\n",
        "    print(\"{0}\\n{1}\\n\".format(comentario,numpy.array(bag_vector))) # imprime comentario e bag_vector"
      ],
      "metadata": {
        "colab": {
          "base_uri": "https://localhost:8080/"
        },
        "id": "XpMPInALU3GP",
        "outputId": "4fa85246-b743-4a31-a4e9-544c2d4e1fe7"
      },
      "execution_count": null,
      "outputs": [
        {
          "output_type": "stream",
          "name": "stdout",
          "text": [
            "Bom para quem quer realizar tarefas do dia a dia, trabalho, estudo...para isto é ideal. Bem fino, confortável de usar e é bem equipado na sua composição de memoria, armazenamento, processador...fiquei satisfeito. Foi um presente.\n",
            "[1. 1. 1. 1. 1. 2. 2. 1. 1. 1. 1. 2. 1. 1. 1. 2. 1. 1. 1. 1. 1. 1. 1. 1.\n",
            " 1. 1. 0. 1. 0. 0. 0. 0. 0. 0. 0. 0. 0. 0. 0. 0. 0. 0. 0. 0. 0. 0. 0. 0.\n",
            " 0. 0. 0. 0. 0. 0. 0. 0. 0. 0. 0. 0. 0. 0. 0. 0. 0. 0. 0. 0. 0. 0. 1. 0.\n",
            " 0. 0. 0. 0. 0. 0. 1. 0. 0. 0. 0. 1. 0. 0. 2. 0. 0. 1. 0. 0. 0. 0. 0. 0.\n",
            " 0. 1. 1. 0. 0. 0. 0. 0. 0. 0. 0. 0. 0. 0. 0. 0. 0. 0. 0. 0. 0. 0. 0. 0.\n",
            " 0. 0. 0. 0. 0. 0. 0. 2. 0. 0. 0. 2. 0. 0. 2. 0. 0. 0.]\n",
            "\n",
            "produto bom, depois que troquei a ram por uma de 08gb e a hd de 1tb por um ssd de 500g ficou um avião, normalmente ligava em quase 02 minutos, agora liga em 08 segundos, o que facilita é a troca dos mesmos, muito simples, sem a necessidade de abri-lo por completo. todo notebook precisa de upgrade para  satisfazer, roda até alguns jogos tranquilamente agora.\n",
            "[1. 0. 0. 0. 0. 0. 0. 0. 0. 0. 0. 0. 0. 0. 0. 0. 0. 0. 0. 0. 0. 0. 0. 0.\n",
            " 0. 0. 1. 1. 1. 1. 1. 1. 1. 1. 1. 1. 1. 1. 1. 1. 1. 1. 1. 2. 1. 1. 1. 1.\n",
            " 1. 1. 1. 1. 1. 1. 1. 1. 1. 1. 1. 1. 1. 1. 1. 1. 1. 1. 1. 2. 0. 0. 0. 0.\n",
            " 0. 1. 0. 0. 0. 1. 1. 0. 0. 0. 0. 1. 0. 0. 0. 0. 0. 1. 0. 1. 0. 0. 0. 0.\n",
            " 0. 0. 0. 0. 0. 0. 0. 0. 0. 0. 0. 0. 0. 0. 1. 0. 0. 1. 0. 0. 0. 0. 0. 0.\n",
            " 1. 0. 1. 0. 0. 0. 0. 0. 0. 0. 0. 0. 0. 0. 0. 0. 2. 0.]\n",
            "\n",
            "A entrega foi realizada no prazo, e o produto surpreendeu minhas expectativas.\n",
            "[0. 0. 0. 0. 0. 0. 0. 0. 0. 0. 0. 0. 0. 0. 0. 0. 0. 0. 0. 0. 0. 0. 0. 0.\n",
            " 1. 0. 1. 0. 0. 0. 0. 0. 0. 0. 0. 0. 0. 0. 0. 0. 0. 0. 0. 0. 0. 0. 0. 0.\n",
            " 0. 0. 0. 0. 0. 0. 0. 0. 0. 0. 0. 0. 0. 0. 0. 0. 0. 0. 0. 0. 1. 1. 1. 1.\n",
            " 1. 1. 1. 1. 1. 1. 0. 0. 0. 0. 0. 0. 0. 0. 0. 0. 0. 0. 0. 1. 0. 0. 1. 0.\n",
            " 0. 0. 0. 0. 0. 0. 0. 0. 0. 0. 0. 0. 0. 0. 0. 0. 0. 0. 0. 0. 1. 0. 0. 0.\n",
            " 0. 0. 0. 0. 0. 0. 0. 0. 0. 0. 0. 0. 0. 0. 0. 0. 0. 0.]\n",
            "\n",
            "Produto bom, preço acessível. Material com bom acabamento.Leve e bem prático para carregar. Bom.\n",
            "[3. 0. 0. 0. 0. 0. 0. 0. 0. 0. 0. 1. 0. 0. 0. 1. 0. 0. 0. 0. 0. 0. 0. 0.\n",
            " 0. 0. 1. 3. 0. 0. 0. 0. 0. 0. 0. 0. 0. 0. 0. 0. 0. 0. 0. 0. 0. 0. 0. 0.\n",
            " 0. 0. 0. 0. 0. 0. 0. 0. 0. 0. 0. 0. 0. 0. 0. 0. 0. 0. 0. 0. 0. 0. 0. 0.\n",
            " 0. 1. 0. 0. 0. 1. 3. 1. 1. 1. 1. 3. 1. 1. 1. 1. 1. 3. 0. 1. 0. 0. 0. 0.\n",
            " 0. 0. 0. 0. 0. 0. 0. 0. 0. 0. 0. 0. 0. 0. 0. 0. 0. 0. 0. 0. 0. 0. 0. 0.\n",
            " 0. 1. 0. 0. 0. 0. 0. 1. 0. 0. 0. 0. 0. 0. 0. 0. 0. 0.]\n",
            "\n",
            "O produto vem atendendo minhas necessidades, como estudo e trabalho do cotinano. O design é lindo e o som, show de bola. Ele consegue ficar umas 3h30 sem tomada.\n",
            "[0. 0. 0. 0. 0. 0. 0. 1. 1. 0. 0. 0. 0. 0. 0. 0. 0. 0. 0. 0. 0. 0. 0. 0.\n",
            " 0. 0. 1. 0. 0. 0. 0. 0. 0. 0. 0. 0. 0. 0. 0. 0. 0. 0. 0. 0. 0. 0. 0. 0.\n",
            " 0. 0. 0. 0. 1. 0. 0. 0. 0. 0. 0. 0. 0. 0. 0. 0. 0. 0. 0. 0. 0. 0. 0. 0.\n",
            " 0. 1. 0. 1. 0. 1. 0. 0. 0. 0. 0. 0. 0. 0. 0. 0. 0. 0. 2. 1. 1. 1. 1. 1.\n",
            " 1. 1. 1. 1. 2. 1. 1. 1. 1. 1. 1. 1. 1. 1. 1. 1. 0. 0. 0. 0. 0. 0. 0. 0.\n",
            " 0. 0. 1. 0. 0. 0. 0. 0. 0. 0. 0. 0. 0. 0. 0. 0. 0. 0.]\n",
            "\n",
            "Gostei muito, cumpre o que promete, entrega antes do esperado também. Notebook leve e sem reclamações.\n",
            "[0. 0. 0. 0. 0. 0. 0. 0. 0. 0. 0. 0. 0. 0. 0. 0. 0. 0. 0. 0. 0. 0. 0. 0.\n",
            " 0. 0. 0. 0. 0. 0. 0. 0. 0. 0. 0. 0. 0. 0. 0. 0. 0. 0. 0. 0. 0. 0. 0. 0.\n",
            " 0. 0. 1. 0. 1. 0. 0. 0. 0. 0. 1. 0. 0. 0. 0. 0. 0. 0. 0. 0. 0. 1. 0. 0.\n",
            " 0. 0. 0. 0. 0. 0. 0. 0. 0. 0. 0. 0. 0. 1. 0. 0. 0. 0. 0. 0. 0. 0. 0. 0.\n",
            " 0. 0. 0. 0. 0. 0. 0. 0. 0. 0. 0. 0. 0. 0. 1. 0. 1. 1. 1. 1. 1. 1. 1. 1.\n",
            " 1. 1. 1. 1. 0. 0. 0. 0. 1. 1. 0. 0. 0. 0. 0. 0. 0. 0.]\n",
            "\n",
            "Eu adorei chegou bem antes do esperado comprei no dia 28 e chegou dia 31. Agora é testar!\n",
            "[0. 0. 0. 0. 0. 2. 2. 0. 0. 0. 0. 1. 0. 0. 0. 1. 0. 0. 0. 0. 0. 0. 0. 0.\n",
            " 0. 0. 0. 0. 0. 0. 0. 0. 0. 0. 0. 0. 0. 0. 0. 0. 0. 0. 0. 1. 0. 0. 0. 0.\n",
            " 0. 0. 0. 0. 0. 0. 0. 0. 0. 0. 0. 0. 0. 0. 0. 0. 0. 0. 0. 1. 0. 0. 0. 0.\n",
            " 0. 0. 0. 0. 0. 0. 0. 0. 0. 0. 0. 0. 0. 0. 1. 0. 0. 0. 0. 0. 0. 0. 0. 0.\n",
            " 0. 0. 0. 0. 0. 0. 0. 0. 0. 0. 0. 0. 0. 0. 0. 0. 0. 0. 0. 0. 0. 1. 1. 0.\n",
            " 0. 0. 0. 0. 1. 1. 2. 1. 1. 1. 1. 2. 1. 2. 2. 1. 1. 1.]\n",
            "\n"
          ]
        }
      ]
    }
  ]
}