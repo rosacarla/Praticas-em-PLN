{
  "nbformat": 4,
  "nbformat_minor": 0,
  "metadata": {
    "colab": {
      "provenance": [],
      "collapsed_sections": [
        "jBJy29uqRBUz"
      ]
    },
    "kernelspec": {
      "name": "python3",
      "display_name": "Python 3"
    }
  },
  "cells": [
    {
      "cell_type": "markdown",
      "metadata": {
        "id": "W6rIQ54xy2Wc"
      },
      "source": [
        "># Processamento de textos usando o NLTK\n",
        ">Instituição: PUCPR  \n",
        ">Curso: Tecnologia em Inteligência Artifical Aplicada  \n",
        ">Disciplina: Processamento de Linguagem Natural  \n",
        ">Professor: Lucas Oliveira   \n",
        ">Estudante: Carla Edila Silveira  \n",
        "> Data: 10/04/2024  \n",
        "\n",
        "> <img src='https://i.postimg.cc/vBVbCxqG/nlp-header.jpg'>\n",
        "</br>\n",
        "\n",
        "---  \n",
        "</br>\n",
        "\n",
        "## Processamento de Linguagem Natural\n",
        "<p align='justify'> Nesta atividade você entrará em contato com a biblioteca <b>NLTK</b>, que fornece uma série de funcionalidades essenciais para o processamento de textos e, o mais importante, dá suporte a essas funcionalidades para a língua portuguesa.</p>\n",
        "<p align='justify'> Além de fazermos um apanhado geral sobre as funcionalidades do NLTK, tentaremos replicar algumas dessas funcionalidades e também utilizá-las na solução de alguns problemas.</p>  \n",
        "\n",
        "As **expressões regulares** também serão exploradas para complementar algumas funcionalidades."
      ]
    },
    {
      "cell_type": "markdown",
      "metadata": {
        "id": "dIkkpGq7z-2c"
      },
      "source": [
        "##**Natural Language Toolkit - NLTK**\n",
        "<p align='justify'> Como o nome já diz, o NLTK é um toolkit para processamento de linguagem natural. Ele fornece várias funcionalidades para criação de programas de PLN. O NLTK foi desenvolvido com 4 objetivos principais:</p>\n",
        "\n",
        "<p align='justify'> 1. SIMPLICIDADE: Fornecer um framework intuitivo junto a substanciais blocos de construção, dotando os usuários de um conhecimento prático de PLN sem se prender nas tediosas tarefas de \"arrumação da casa\", geralmente associadas com o processamento de dados linguísticos anotados.</p>\n",
        "<p align='justify'> 2. CONSISTÊNCIA: Fornecer um framework unificado com interfaces e estruturas de dados consistentes, e nomes de método facilmente conjecturáveis. </p>\n",
        "<p align='justify'>3. EXTENSIBILIDADE: Fornecer uma estrutura na qual novos módulos de software possam ser acomodados facilmente, incluindo implementações alternativas a abordagens diversas para uma mesma tarefa.</p>\n",
        "<p align='justify'> 4. MODULARIDADE: Fornecer componentes que possam ser utilizados independentemente, sem qualquer necessidade de compreender o restante do toolkit. </p>\n",
        "\n",
        "\n"
      ]
    },
    {
      "cell_type": "markdown",
      "metadata": {
        "id": "MRpEqCSf1KTi"
      },
      "source": [
        "### **Importa a biblioteca NLTK**\n"
      ]
    },
    {
      "cell_type": "code",
      "metadata": {
        "id": "CSa40sRb1b2_"
      },
      "source": [
        "import nltk"
      ],
      "execution_count": 1,
      "outputs": []
    },
    {
      "cell_type": "markdown",
      "metadata": {
        "id": "fHiWkLo887Zz"
      },
      "source": [
        "<p align='jusrify'> O NLTK já vem instalado no Google Colab por padrão, porém, alguns recursos como corpora textuais podem não estar disponíveis. Para tal, você deve explicitamente recomendar seu download usando o comando a seguir: </p>"
      ]
    },
    {
      "cell_type": "code",
      "metadata": {
        "id": "5MfxhxGi87ki",
        "colab": {
          "base_uri": "https://localhost:8080/"
        },
        "outputId": "f4ef5546-130e-40b5-e965-8e350f1ca282"
      },
      "source": [
        "nltk.download()"
      ],
      "execution_count": 4,
      "outputs": [
        {
          "name": "stdout",
          "output_type": "stream",
          "text": [
            "NLTK Downloader\n",
            "---------------------------------------------------------------------------\n",
            "    d) Download   l) List    u) Update   c) Config   h) Help   q) Quit\n",
            "---------------------------------------------------------------------------\n",
            "Downloader> d\n",
            "\n",
            "Download which package (l=list; x=cancel)?\n",
            "  Identifier> cess_esp\n"
          ]
        },
        {
          "output_type": "stream",
          "name": "stderr",
          "text": [
            "    Downloading package cess_esp to /root/nltk_data...\n",
            "      Unzipping corpora/cess_esp.zip.\n"
          ]
        },
        {
          "name": "stdout",
          "output_type": "stream",
          "text": [
            "\n",
            "---------------------------------------------------------------------------\n",
            "    d) Download   l) List    u) Update   c) Config   h) Help   q) Quit\n",
            "---------------------------------------------------------------------------\n",
            "Downloader> d\n",
            "\n",
            "Download which package (l=list; x=cancel)?\n",
            "  Identifier> harem\n"
          ]
        },
        {
          "output_type": "stream",
          "name": "stderr",
          "text": [
            "    Error loading harem: Package 'harem' not found in index\n"
          ]
        },
        {
          "name": "stdout",
          "output_type": "stream",
          "text": [
            "\n",
            "---------------------------------------------------------------------------\n",
            "    d) Download   l) List    u) Update   c) Config   h) Help   q) Quit\n",
            "---------------------------------------------------------------------------\n",
            "Downloader> d\n",
            "\n",
            "Download which package (l=list; x=cancel)?\n",
            "  Identifier> inforex\n"
          ]
        },
        {
          "output_type": "stream",
          "name": "stderr",
          "text": [
            "    Error loading inforex: Package 'inforex' not found in index\n"
          ]
        },
        {
          "name": "stdout",
          "output_type": "stream",
          "text": [
            "\n",
            "---------------------------------------------------------------------------\n",
            "    d) Download   l) List    u) Update   c) Config   h) Help   q) Quit\n",
            "---------------------------------------------------------------------------\n",
            "Downloader> d\n",
            "\n",
            "Download which package (l=list; x=cancel)?\n",
            "  Identifier> inforex\n"
          ]
        },
        {
          "output_type": "stream",
          "name": "stderr",
          "text": [
            "    Error loading inforex: Package 'inforex' not found in index\n"
          ]
        },
        {
          "name": "stdout",
          "output_type": "stream",
          "text": [
            "\n",
            "---------------------------------------------------------------------------\n",
            "    d) Download   l) List    u) Update   c) Config   h) Help   q) Quit\n",
            "---------------------------------------------------------------------------\n",
            "Downloader> d\n",
            "\n",
            "Download which package (l=list; x=cancel)?\n",
            "  Identifier> stopwords\n"
          ]
        },
        {
          "output_type": "stream",
          "name": "stderr",
          "text": [
            "    Downloading package stopwords to /root/nltk_data...\n",
            "      Unzipping corpora/stopwords.zip.\n"
          ]
        },
        {
          "name": "stdout",
          "output_type": "stream",
          "text": [
            "\n",
            "---------------------------------------------------------------------------\n",
            "    d) Download   l) List    u) Update   c) Config   h) Help   q) Quit\n",
            "---------------------------------------------------------------------------\n",
            "Downloader> d\n",
            "\n",
            "Download which package (l=list; x=cancel)?\n",
            "  Identifier> mac_morpho\n"
          ]
        },
        {
          "output_type": "stream",
          "name": "stderr",
          "text": [
            "    Downloading package mac_morpho to /root/nltk_data...\n",
            "      Package mac_morpho is already up-to-date!\n"
          ]
        },
        {
          "name": "stdout",
          "output_type": "stream",
          "text": [
            "\n",
            "---------------------------------------------------------------------------\n",
            "    d) Download   l) List    u) Update   c) Config   h) Help   q) Quit\n",
            "---------------------------------------------------------------------------\n",
            "Downloader> d\n",
            "\n",
            "Download which package (l=list; x=cancel)?\n",
            "  Identifier> floresta\n"
          ]
        },
        {
          "output_type": "stream",
          "name": "stderr",
          "text": [
            "    Downloading package floresta to /root/nltk_data...\n",
            "      Package floresta is already up-to-date!\n"
          ]
        },
        {
          "name": "stdout",
          "output_type": "stream",
          "text": [
            "\n",
            "---------------------------------------------------------------------------\n",
            "    d) Download   l) List    u) Update   c) Config   h) Help   q) Quit\n",
            "---------------------------------------------------------------------------\n",
            "Downloader> d\n",
            "\n",
            "Download which package (l=list; x=cancel)?\n",
            "  Identifier> stopwords\n"
          ]
        },
        {
          "output_type": "stream",
          "name": "stderr",
          "text": [
            "    Downloading package stopwords to /root/nltk_data...\n",
            "      Package stopwords is already up-to-date!\n"
          ]
        },
        {
          "name": "stdout",
          "output_type": "stream",
          "text": [
            "\n",
            "---------------------------------------------------------------------------\n",
            "    d) Download   l) List    u) Update   c) Config   h) Help   q) Quit\n",
            "---------------------------------------------------------------------------\n",
            "Downloader> q\n"
          ]
        },
        {
          "output_type": "execute_result",
          "data": {
            "text/plain": [
              "True"
            ]
          },
          "metadata": {},
          "execution_count": 4
        }
      ]
    },
    {
      "cell_type": "markdown",
      "source": [
        "> CONSULTA AO CHATGPT SOBRE CORPORA EM PT  \n",
        "\n",
        "RESPOSTA: Sim, o NLTK oferece alguns corpora em português que podem ser úteis para diversas tarefas de processamento de linguagem natural. Aqui estão alguns corpora em português que você pode recomendar o download:\n",
        "\n",
        "1. **Floresta Sintá(c)tica**: Um corpus de árvores de análise sintática para o português brasileiro.\n",
        "\n",
        "   ```python\n",
        "   nltk.download('floresta')\n",
        "   ```\n",
        "\n",
        "2. **Mac-Morpho**: Um corpus anotado morfossintaticamente, contendo textos em português brasileiro.\n",
        "\n",
        "   ```python\n",
        "   nltk.download('mac_morpho')\n",
        "   ```\n",
        "\n",
        "3. **Cess_esp**: Corpus de sentenças em espanhol, traduzido para o português, útil para testes de tokenização.\n",
        "\n",
        "   ```python\n",
        "   nltk.download('cess_esp')\n",
        "   ```\n",
        "\n",
        "4. **HAREM**: Um corpus anotado com entidades nomeadas, útil para reconhecimento de entidades em português.\n",
        "\n",
        "   ```python\n",
        "   nltk.download('harem')\n",
        "   ```\n",
        "\n",
        "5. **Inforex**: Um corpus de notícias em português.\n",
        "\n",
        "   ```python\n",
        "   nltk.download('inforex')\n",
        "   ```\n",
        "\n",
        "6. **Stopwords**: Lista de palavras comuns que geralmente são removidas durante a pré-processamento de texto.\n",
        "\n",
        "   ```python\n",
        "   nltk.download('stopwords')\n",
        "   ```\n",
        "\n",
        "Esses são apenas alguns exemplos de corpora em português disponíveis no NLTK. Dependendo da tarefa específica que você está realizando, pode ser necessário ou útil baixar outros corpora ou recursos."
      ],
      "metadata": {
        "id": "CnMhxb740Nkr"
      }
    },
    {
      "cell_type": "markdown",
      "metadata": {
        "id": "gloNhQ5MQBYR"
      },
      "source": [
        "### **Operações Básicas ou Pré-processamento**\n",
        "<p align='justify'> As operações a seguir geralmente fazem parte de uma etapa do PLN chamada de <b>Pré-processamento</b>, e já se tornaram triviais a todos programas de PLN, pois preparam o texto bruto para ser realmente processado e \"entendido\" pela máquina.</p>\n",
        "\n",
        "*   Tokenização\n",
        "*   Segmentação de sentenças\n",
        "*   Normalização\n",
        "*   Stemming\n",
        "*   Lematização\n",
        "\n"
      ]
    },
    {
      "cell_type": "markdown",
      "metadata": {
        "id": "ip22b9VIQ9Yh"
      },
      "source": [
        "#### Tokenização\n",
        "Serve para separar o texto em *tokens* - que são uma sequência de caracteres com algum significado semântico.\n",
        "\n",
        "**Principais dificuldades**:\n",
        "*   \"São Paulo\" - uma ou duas palavras?\n",
        "*   \"A seleção dos E.U.A. venceu.\" - Pontuação pode ser considerada quebra de sentença\n",
        "*   \"Tromba d'água\"\n",
        "*   \"São João da Boa Vista\"\n",
        "*   \"Interação humano-computador\"\n",
        "\n"
      ]
    },
    {
      "cell_type": "code",
      "metadata": {
        "id": "hNXJxvHmQBhO",
        "colab": {
          "base_uri": "https://localhost:8080/"
        },
        "outputId": "f750d735-aa3b-4405-9af5-bd25e24208a7"
      },
      "source": [
        "# Você deve importar o tokenizador da biblioteca NLTK\n",
        "import nltk\n",
        "from nltk import tokenize\n",
        "\n",
        "# Caso não tenha feito o download de todos recursos do NLTK, você pode fazê-lo de maneira individual\n",
        "nltk.download('punkt')\n",
        "\n",
        "texto = \"Um exemplo de texto para visualizarmos a técnica de tokenização.\"\n",
        "\n",
        "# Tokeniza o texto\n",
        "tokens = tokenize.word_tokenize(texto, language='portuguese')\n",
        "\n",
        "tokens"
      ],
      "execution_count": 5,
      "outputs": [
        {
          "output_type": "stream",
          "name": "stderr",
          "text": [
            "[nltk_data] Downloading package punkt to /root/nltk_data...\n",
            "[nltk_data]   Unzipping tokenizers/punkt.zip.\n"
          ]
        },
        {
          "output_type": "execute_result",
          "data": {
            "text/plain": [
              "['Um',\n",
              " 'exemplo',\n",
              " 'de',\n",
              " 'texto',\n",
              " 'para',\n",
              " 'visualizarmos',\n",
              " 'a',\n",
              " 'técnica',\n",
              " 'de',\n",
              " 'tokenização',\n",
              " '.']"
            ]
          },
          "metadata": {},
          "execution_count": 5
        }
      ]
    },
    {
      "cell_type": "markdown",
      "metadata": {
        "id": "6IlFKSg-7Bz0"
      },
      "source": [
        "Quantos caracteres temos?"
      ]
    },
    {
      "cell_type": "code",
      "metadata": {
        "id": "VhDgRFaj7B9E",
        "colab": {
          "base_uri": "https://localhost:8080/"
        },
        "outputId": "339ecd1a-b326-4732-95a6-989983f4bd03"
      },
      "source": [
        "len(texto)"
      ],
      "execution_count": 6,
      "outputs": [
        {
          "output_type": "execute_result",
          "data": {
            "text/plain": [
              "64"
            ]
          },
          "metadata": {},
          "execution_count": 6
        }
      ]
    },
    {
      "cell_type": "markdown",
      "metadata": {
        "id": "yHqL1onS2V7-"
      },
      "source": [
        "Quantos tokens temos?"
      ]
    },
    {
      "cell_type": "code",
      "metadata": {
        "id": "NGe7gPb92WDU",
        "colab": {
          "base_uri": "https://localhost:8080/"
        },
        "outputId": "5ba50a8e-a0d1-43b1-b5b8-5b605ce9eac8"
      },
      "source": [
        "len(tokens)\n",
        "# O ponto final é considerado um token"
      ],
      "execution_count": 7,
      "outputs": [
        {
          "output_type": "execute_result",
          "data": {
            "text/plain": [
              "11"
            ]
          },
          "metadata": {},
          "execution_count": 7
        }
      ]
    },
    {
      "cell_type": "markdown",
      "metadata": {
        "id": "OcGORzOy2cQE"
      },
      "source": [
        "Quantos tokens únicos nós temos?"
      ]
    },
    {
      "cell_type": "code",
      "metadata": {
        "id": "aL15Ou517OgQ",
        "colab": {
          "base_uri": "https://localhost:8080/"
        },
        "outputId": "c37183c1-5d26-480b-d5bb-ded0754f84a7"
      },
      "source": [
        "# Usando funcionalidades básicas do Python\n",
        "len(set(tokens))"
      ],
      "execution_count": 8,
      "outputs": [
        {
          "output_type": "execute_result",
          "data": {
            "text/plain": [
              "10"
            ]
          },
          "metadata": {},
          "execution_count": 8
        }
      ]
    },
    {
      "cell_type": "code",
      "metadata": {
        "id": "o37sw1eZ2cbs",
        "colab": {
          "base_uri": "https://localhost:8080/"
        },
        "outputId": "962bb6ee-db41-4911-f6d1-210015576941"
      },
      "source": [
        "# Usando a biblioteca collections\n",
        "from collections import Counter\n",
        "\n",
        "contador = Counter(tokens)\n",
        "\n",
        "for cont in contador.items():\n",
        "  print(cont)"
      ],
      "execution_count": 9,
      "outputs": [
        {
          "output_type": "stream",
          "name": "stdout",
          "text": [
            "('Um', 1)\n",
            "('exemplo', 1)\n",
            "('de', 2)\n",
            "('texto', 1)\n",
            "('para', 1)\n",
            "('visualizarmos', 1)\n",
            "('a', 1)\n",
            "('técnica', 1)\n",
            "('tokenização', 1)\n",
            "('.', 1)\n"
          ]
        }
      ]
    },
    {
      "cell_type": "markdown",
      "source": [
        ">CONSULTA AO CHATGPT SOBRE A CONTAGEM DE TOKENS ÚNICOS  \n",
        "\n",
        "RESPOSTA: (...) Vamos analisar os resultados que obtidos:\n",
        "\n",
        "1. <b>Tokenização</b>: A tokenização incluiu um token adicional, que é o ponto no final da sentença. Isso resultou em uma lista de tokens com 11 elementos.</p>\n",
        "\n",
        "2. <b>Contagem de tokens únicos com Python básico</b>: Ao usar a função `set(tokens)` para contar os tokens únicos, obteve-se 10. Isso significa que há um token repetido na lista de tokens.\n",
        "\n",
        "3. **Contagem de tokens únicos com collections**: Ao usar a biblioteca `collections` para contar os tokens únicos, obteve-se uma contagem onde \"de\" aparece 2 vezes. Cada token é exibido com sua contagem de ocorrência.</p>\n",
        "\n",
        "<p align='justify'> Pode haver diferença nas contagens de tokens únicos devido à presença do ponto no final da sentença. Se quisermos contar apenas os tokens de texto e ignorar pontuações, devemos remover o ponto antes de contar os tokens únicos. Isso é comumente feito filtrando os tokens para incluir apenas aqueles que são compostos de letras.</p>\n",
        "\n",
        "Aqui está como você pode fazer isso:\n",
        "\n",
        "```python\n",
        "import string\n",
        "\n",
        "# Remover pontuações\n",
        "tokens = [token for token in tokens if token not in string.punctuation]\n",
        "\n",
        "# Contagem de tokens únicos\n",
        "num_unique_tokens = len(set(tokens))\n",
        "print(\"Tokens únicos:\", num_unique_tokens)\n",
        "```\n",
        "\n",
        "Isso deve fornecer a contagem correta de tokens únicos, desconsiderando a pontuação."
      ],
      "metadata": {
        "id": "6ssMTz7Z5aQF"
      }
    },
    {
      "cell_type": "code",
      "metadata": {
        "id": "Qcdq5TYkzZZ7",
        "colab": {
          "base_uri": "https://localhost:8080/"
        },
        "outputId": "6d949ae3-391d-4338-dbc1-cdb4df18a3dd"
      },
      "source": [
        "# Mostra os termos mais frequentes\n",
        "contador.most_common(3)"
      ],
      "execution_count": 10,
      "outputs": [
        {
          "output_type": "execute_result",
          "data": {
            "text/plain": [
              "[('de', 2), ('Um', 1), ('exemplo', 1)]"
            ]
          },
          "metadata": {},
          "execution_count": 10
        }
      ]
    },
    {
      "cell_type": "markdown",
      "metadata": {
        "id": "KjLlZSjCRAms"
      },
      "source": [
        "#### Segmentação de sentenças\n",
        "As regras principais de segmentação de sentenças contam com a divisão a partir de pontuações encontradas no texto ou quebras de linha.\n",
        "\n",
        "![Exemplo de segmentação de sentença - Dan Jurafsky](https://docs.google.com/uc?export=download&id=15fLctvbOi8_STzO8AOzzW095yA2IvPmK)\n"
      ]
    },
    {
      "cell_type": "code",
      "metadata": {
        "id": "hPPXXOPORAvd",
        "colab": {
          "base_uri": "https://localhost:8080/"
        },
        "outputId": "1815218b-0aec-4b96-9dee-54e03f652024"
      },
      "source": [
        "from nltk import sent_tokenize\n",
        "\n",
        "texto = \"Definição da sentença 1. Mais uma sentença. Última sentença.\"\n",
        "\n",
        "sents = sent_tokenize(texto)\n",
        "sents"
      ],
      "execution_count": 11,
      "outputs": [
        {
          "output_type": "execute_result",
          "data": {
            "text/plain": [
              "['Definição da sentença 1.', 'Mais uma sentença.', 'Última sentença.']"
            ]
          },
          "metadata": {},
          "execution_count": 11
        }
      ]
    },
    {
      "cell_type": "markdown",
      "metadata": {
        "id": "nj8UlBt4RBF8"
      },
      "source": [
        "#### Stemming\n",
        "<p align='justify'> Reduz as palavras ao seu <i>stem</i>, retirando o sufixo. Faz com que palavras de mesmo significado semântico (ou similar) sejam escritas da mesma maneira (e.g., correr, correndo, correu). Geralmente o stem não é uma palavra válida.</p>\n"
      ]
    },
    {
      "cell_type": "code",
      "metadata": {
        "id": "TxMDA95kRBNX",
        "colab": {
          "base_uri": "https://localhost:8080/"
        },
        "outputId": "61dfc430-e378-4f4b-c34e-3eb3a0482151"
      },
      "source": [
        "# Caso não tenha feito o download de todos recursos do NLTK, você pode fazê-lo de maneira individual\n",
        "nltk.download('rslp')\n",
        "\n",
        "# Inicia o Stemmer\n",
        "stemmer = nltk.stem.RSLPStemmer()\n",
        "\n",
        "print(stemmer.stem(\"ferro\"))\n",
        "print(stemmer.stem(\"ferreiro\"))\n",
        "\n",
        "print(stemmer.stem(\"correr\"))\n",
        "print(stemmer.stem(\"correu\"))"
      ],
      "execution_count": 12,
      "outputs": [
        {
          "output_type": "stream",
          "name": "stdout",
          "text": [
            "ferr\n",
            "ferr\n",
            "corr\n",
            "corr\n"
          ]
        },
        {
          "output_type": "stream",
          "name": "stderr",
          "text": [
            "[nltk_data] Downloading package rslp to /root/nltk_data...\n",
            "[nltk_data]   Unzipping stemmers/rslp.zip.\n"
          ]
        }
      ]
    },
    {
      "cell_type": "code",
      "metadata": {
        "id": "Sf6rzqqRv0xd",
        "colab": {
          "base_uri": "https://localhost:8080/"
        },
        "outputId": "7bde60e6-a6eb-41dd-aadd-0ed5bd06c376"
      },
      "source": [
        "# Define uma função que faz Stemming em todo um texto\n",
        "def Stemming(texto):\n",
        "  stemmer = nltk.stem.RSLPStemmer()\n",
        "  novotexto = []\n",
        "  for token in texto:\n",
        "    novotexto.append(stemmer.stem(token.lower()))\n",
        "  return novotexto\n",
        "\n",
        "texto1 = \"Eu gostei de correr\"\n",
        "texto2 = \"Eu gosto de corrida\"\n",
        "\n",
        "# Tokeniza o texto\n",
        "tokens1 = tokenize.word_tokenize(texto1, language='portuguese')\n",
        "tokens2 = tokenize.word_tokenize(texto2, language='portuguese')\n",
        "\n",
        "novotexto1 = Stemming(tokens1)\n",
        "novotexto2 = Stemming(tokens2)\n",
        "\n",
        "print(novotexto1)\n",
        "print(novotexto2)"
      ],
      "execution_count": 13,
      "outputs": [
        {
          "output_type": "stream",
          "name": "stdout",
          "text": [
            "['eu', 'gost', 'de', 'corr']\n",
            "['eu', 'gost', 'de', 'corr']\n"
          ]
        }
      ]
    },
    {
      "cell_type": "markdown",
      "metadata": {
        "id": "jBJy29uqRBUz"
      },
      "source": [
        "#### Lematização\n",
        "<p align='justify'> Similar ao processo de Stemming, porém, faz uma análise morfológica completa para identificar e remover os sufixos. Geralmente leva os verbos ao infinitivo e substantivos/adjetivos ao masculino singular. Diferencia-se do Stemming, pois sempre gera uma palavra válida.</p>\n",
        "\n",
        "<p align='justify'> Esta funcionalidade não é suportada pelo NLTK. <a href='https://lars76.github.io/nlp/lemmatize-portuguese/'>Neste link</a> você pode encontrar alternativas para realizar a lematização em português.</p>\n",
        "\n",
        "<p align='justify'> Para nossa disciplina, utilizaremos o <i>stemmer</i> e, caso queira saber um pouco mais sobre o impacto dessa decisão, você pode ler <a href='https://nlp.stanford.edu/IR-book/html/htmledition/stemming-and-lemmatization-1.html'>este capítulo</a> do livro de <i>Information Retrieval</i> da Universidade de Stanford.</p>\n",
        "\n"
      ]
    },
    {
      "cell_type": "markdown",
      "metadata": {
        "id": "b9jpUKTE4UxC"
      },
      "source": [
        "#### Retirada de Stop Words\n",
        "<p align='justify'>As vezes, é necessário remover as palavras de maior ocorrência no conjunto de textos, pois geralmente elas não agregam grande valor semântico aos textos e não ajudam no processo de selecionar as informações relevantes ao sistema de PLN.</p>\n",
        "\n",
        "<p align='justify'>Este processo pode ser diferente, de acordo com a tarefa de PLN que você está executando, mas no geral temos duas abordagens: retirar as palavras de maior ocorrência, levando em conta <a href='http://terrierteam.dcs.gla.ac.uk/publications/rtlo_DIRpaper.pdf'>lei de Zipg</a>, ou utilizar uma lista de stop-words pronta para seu idioma. Realizaremos a segunda opção.</p>"
      ]
    },
    {
      "cell_type": "code",
      "metadata": {
        "id": "ws1V1bwG4U4C",
        "colab": {
          "base_uri": "https://localhost:8080/"
        },
        "outputId": "e3dd6c6a-a6bf-4287-f977-622bfb56fb79"
      },
      "source": [
        "# Caso não tenha feito o download de todos recursos do NLTK, você pode fazê-lo de maneira individual\n",
        "# nltk.download('stopwords')\n",
        "\n",
        "# O NLTK fornece uma lista de stop words para o idioma português\n",
        "stopwords = nltk.corpus.stopwords.words('portuguese')\n",
        "stopwords"
      ],
      "execution_count": 14,
      "outputs": [
        {
          "output_type": "execute_result",
          "data": {
            "text/plain": [
              "['a',\n",
              " 'à',\n",
              " 'ao',\n",
              " 'aos',\n",
              " 'aquela',\n",
              " 'aquelas',\n",
              " 'aquele',\n",
              " 'aqueles',\n",
              " 'aquilo',\n",
              " 'as',\n",
              " 'às',\n",
              " 'até',\n",
              " 'com',\n",
              " 'como',\n",
              " 'da',\n",
              " 'das',\n",
              " 'de',\n",
              " 'dela',\n",
              " 'delas',\n",
              " 'dele',\n",
              " 'deles',\n",
              " 'depois',\n",
              " 'do',\n",
              " 'dos',\n",
              " 'e',\n",
              " 'é',\n",
              " 'ela',\n",
              " 'elas',\n",
              " 'ele',\n",
              " 'eles',\n",
              " 'em',\n",
              " 'entre',\n",
              " 'era',\n",
              " 'eram',\n",
              " 'éramos',\n",
              " 'essa',\n",
              " 'essas',\n",
              " 'esse',\n",
              " 'esses',\n",
              " 'esta',\n",
              " 'está',\n",
              " 'estamos',\n",
              " 'estão',\n",
              " 'estar',\n",
              " 'estas',\n",
              " 'estava',\n",
              " 'estavam',\n",
              " 'estávamos',\n",
              " 'este',\n",
              " 'esteja',\n",
              " 'estejam',\n",
              " 'estejamos',\n",
              " 'estes',\n",
              " 'esteve',\n",
              " 'estive',\n",
              " 'estivemos',\n",
              " 'estiver',\n",
              " 'estivera',\n",
              " 'estiveram',\n",
              " 'estivéramos',\n",
              " 'estiverem',\n",
              " 'estivermos',\n",
              " 'estivesse',\n",
              " 'estivessem',\n",
              " 'estivéssemos',\n",
              " 'estou',\n",
              " 'eu',\n",
              " 'foi',\n",
              " 'fomos',\n",
              " 'for',\n",
              " 'fora',\n",
              " 'foram',\n",
              " 'fôramos',\n",
              " 'forem',\n",
              " 'formos',\n",
              " 'fosse',\n",
              " 'fossem',\n",
              " 'fôssemos',\n",
              " 'fui',\n",
              " 'há',\n",
              " 'haja',\n",
              " 'hajam',\n",
              " 'hajamos',\n",
              " 'hão',\n",
              " 'havemos',\n",
              " 'haver',\n",
              " 'hei',\n",
              " 'houve',\n",
              " 'houvemos',\n",
              " 'houver',\n",
              " 'houvera',\n",
              " 'houverá',\n",
              " 'houveram',\n",
              " 'houvéramos',\n",
              " 'houverão',\n",
              " 'houverei',\n",
              " 'houverem',\n",
              " 'houveremos',\n",
              " 'houveria',\n",
              " 'houveriam',\n",
              " 'houveríamos',\n",
              " 'houvermos',\n",
              " 'houvesse',\n",
              " 'houvessem',\n",
              " 'houvéssemos',\n",
              " 'isso',\n",
              " 'isto',\n",
              " 'já',\n",
              " 'lhe',\n",
              " 'lhes',\n",
              " 'mais',\n",
              " 'mas',\n",
              " 'me',\n",
              " 'mesmo',\n",
              " 'meu',\n",
              " 'meus',\n",
              " 'minha',\n",
              " 'minhas',\n",
              " 'muito',\n",
              " 'na',\n",
              " 'não',\n",
              " 'nas',\n",
              " 'nem',\n",
              " 'no',\n",
              " 'nos',\n",
              " 'nós',\n",
              " 'nossa',\n",
              " 'nossas',\n",
              " 'nosso',\n",
              " 'nossos',\n",
              " 'num',\n",
              " 'numa',\n",
              " 'o',\n",
              " 'os',\n",
              " 'ou',\n",
              " 'para',\n",
              " 'pela',\n",
              " 'pelas',\n",
              " 'pelo',\n",
              " 'pelos',\n",
              " 'por',\n",
              " 'qual',\n",
              " 'quando',\n",
              " 'que',\n",
              " 'quem',\n",
              " 'são',\n",
              " 'se',\n",
              " 'seja',\n",
              " 'sejam',\n",
              " 'sejamos',\n",
              " 'sem',\n",
              " 'ser',\n",
              " 'será',\n",
              " 'serão',\n",
              " 'serei',\n",
              " 'seremos',\n",
              " 'seria',\n",
              " 'seriam',\n",
              " 'seríamos',\n",
              " 'seu',\n",
              " 'seus',\n",
              " 'só',\n",
              " 'somos',\n",
              " 'sou',\n",
              " 'sua',\n",
              " 'suas',\n",
              " 'também',\n",
              " 'te',\n",
              " 'tem',\n",
              " 'tém',\n",
              " 'temos',\n",
              " 'tenha',\n",
              " 'tenham',\n",
              " 'tenhamos',\n",
              " 'tenho',\n",
              " 'terá',\n",
              " 'terão',\n",
              " 'terei',\n",
              " 'teremos',\n",
              " 'teria',\n",
              " 'teriam',\n",
              " 'teríamos',\n",
              " 'teu',\n",
              " 'teus',\n",
              " 'teve',\n",
              " 'tinha',\n",
              " 'tinham',\n",
              " 'tínhamos',\n",
              " 'tive',\n",
              " 'tivemos',\n",
              " 'tiver',\n",
              " 'tivera',\n",
              " 'tiveram',\n",
              " 'tivéramos',\n",
              " 'tiverem',\n",
              " 'tivermos',\n",
              " 'tivesse',\n",
              " 'tivessem',\n",
              " 'tivéssemos',\n",
              " 'tu',\n",
              " 'tua',\n",
              " 'tuas',\n",
              " 'um',\n",
              " 'uma',\n",
              " 'você',\n",
              " 'vocês',\n",
              " 'vos']"
            ]
          },
          "metadata": {},
          "execution_count": 14
        }
      ]
    },
    {
      "cell_type": "code",
      "metadata": {
        "id": "oKvj0n7mQNYi",
        "colab": {
          "base_uri": "https://localhost:8080/"
        },
        "outputId": "58129913-c7aa-4616-9399-7c911464b108"
      },
      "source": [
        "# Define uma função que remove as stop words de um texto\n",
        "def removeStopWords(texto):\n",
        "    stopwords = nltk.corpus.stopwords.words('portuguese')\n",
        "    novotexto = []\n",
        "    for token in texto:\n",
        "        if token.lower() not in stopwords:\n",
        "            novotexto.append(token)\n",
        "    return novotexto\n",
        "\n",
        "texto = \"Quais palavras serão retiradas deste texto? Eu não sei, mas este processo é necessário em alguns momentos.\"\n",
        "\n",
        "# Tokeniza o texto\n",
        "tokens = tokenize.word_tokenize(texto, language='portuguese')\n",
        "\n",
        "novotexto = removeStopWords(tokens)\n",
        "\n",
        "print(novotexto)"
      ],
      "execution_count": 15,
      "outputs": [
        {
          "output_type": "stream",
          "name": "stdout",
          "text": [
            "['Quais', 'palavras', 'retiradas', 'deste', 'texto', '?', 'sei', ',', 'processo', 'necessário', 'alguns', 'momentos', '.']\n"
          ]
        }
      ]
    },
    {
      "cell_type": "markdown",
      "metadata": {
        "id": "cY5uk8lixqXF"
      },
      "source": [
        "><p align='justify'><b>IMPORTANTE</b>: Em alguns casos, retirar as palavras referentes à negação (i.e., não) pode retirar um significado semântico muito importante do texto. Por exemplo, no texto \"<i>O paciente não apresenta sintomas da doença</i>\", a negação muda completamente o sentido da frase. Existem alguns outros casos (principalmente quando utilizamos <i>Deep Learning</i>) em que <b>a retirada das stop words pode ser prejudicial ao algoritmo</b>, portanto, sempre teste seus algoritmos com e sem esta opção!</p>  \n",
        "</br>\n",
        "\n",
        "![Pré-processamento nem sempre é benéfico](https://docs.google.com/uc?export=download&id=1kx5DedeB1X4AJTWD7Urdqz9HzZ62D5FW)\n",
        "\n"
      ]
    },
    {
      "cell_type": "markdown",
      "metadata": {
        "id": "X_uZqGJFRA2g"
      },
      "source": [
        "#### Normalização\n",
        "Além do Stemming, é possível realizar processos mais específicos de normalização do texto, de acordo com a tarefa.\n",
        "\n",
        "> <p align='justify'><b>Exemplo 1</b>: Para um algoritmo de Geração de fala, o texto bruto pode estar escrito como \"Com os preços de R$ 100,00 para a primeira versão e R$ 10,00 para a segunda\". Para o meu algoritmo é mais interessante que o texto seja normalizado para: \"Com os preços de cem reais para a primeira versão e dez reais para a segunda.\"\n",
        "\n",
        "> <p align='justify'><b>Exemplo 2</b>: Normalizar todas as datas para um padrão único. As formas \"18/mai\", \"dezoito de maio\", \"18-05\" seriam normalizadas para \"18/05\".</p>\n",
        "\n",
        "> **Pergunta rápida**: Nos casos acima, qual recurso nos ajudaria a fazer a normalização?\n",
        "\n",
        "><p align='justify'>Uma maneira simples de normalizar o texto é transformar todas as letras em minúsculas, assim ocorrências escritas de maneira diferente são normalizadas para uma única. \"Brasil\", \"BraSil\" e \"BRAsil\" seriam normalizadas para \"brasil\".</p>"
      ]
    },
    {
      "cell_type": "code",
      "metadata": {
        "id": "IylO9A9RDUK0",
        "colab": {
          "base_uri": "https://localhost:8080/"
        },
        "outputId": "f403c98f-67c6-4cf5-d35e-00489554f534"
      },
      "source": [
        "texto = \"Se escreve LOL, LoL ou Lol?\"\n",
        "\n",
        "# Efetua lowercase\n",
        "texto = texto.lower()\n",
        "\n",
        "# Tokeniza o texto\n",
        "tokenize.word_tokenize(texto, language='portuguese')"
      ],
      "execution_count": 16,
      "outputs": [
        {
          "output_type": "execute_result",
          "data": {
            "text/plain": [
              "['se', 'escreve', 'lol', ',', 'lol', 'ou', 'lol', '?']"
            ]
          },
          "metadata": {},
          "execution_count": 16
        }
      ]
    },
    {
      "cell_type": "markdown",
      "metadata": {
        "id": "G2Ldu14U1dhv"
      },
      "source": [
        "### **A coleção de corpora do NLTK**\n",
        "O NLTK contém diversos corpora disponíveis, inclusive para língua portuguesa.\n",
        "> **DEFINIÇÃO**: Um corpus é uma coleção de documentos.\n"
      ]
    },
    {
      "cell_type": "code",
      "metadata": {
        "id": "zxR4-9Yj18Tg",
        "colab": {
          "base_uri": "https://localhost:8080/"
        },
        "outputId": "119869c1-c5ff-4953-f13e-50ec9fbc14b6"
      },
      "source": [
        "# Importa o corpus dos livros de Machado de Assis\n",
        "from nltk.corpus import machado\n",
        "\n",
        "nltk.download('machado')"
      ],
      "execution_count": 17,
      "outputs": [
        {
          "output_type": "stream",
          "name": "stderr",
          "text": [
            "[nltk_data] Downloading package machado to /root/nltk_data...\n"
          ]
        },
        {
          "output_type": "execute_result",
          "data": {
            "text/plain": [
              "True"
            ]
          },
          "metadata": {},
          "execution_count": 17
        }
      ]
    },
    {
      "cell_type": "code",
      "metadata": {
        "id": "DXx4vQa1NJeA",
        "colab": {
          "base_uri": "https://localhost:8080/"
        },
        "outputId": "053ca333-75b4-4e74-e202-85bce06e1e1f"
      },
      "source": [
        "# Cada arquivo corresponde a um livro\n",
        "machado.fileids()"
      ],
      "execution_count": 18,
      "outputs": [
        {
          "output_type": "execute_result",
          "data": {
            "text/plain": [
              "['contos/macn001.txt',\n",
              " 'contos/macn002.txt',\n",
              " 'contos/macn003.txt',\n",
              " 'contos/macn004.txt',\n",
              " 'contos/macn005.txt',\n",
              " 'contos/macn006.txt',\n",
              " 'contos/macn007.txt',\n",
              " 'contos/macn008.txt',\n",
              " 'contos/macn009.txt',\n",
              " 'contos/macn010.txt',\n",
              " 'contos/macn011.txt',\n",
              " 'contos/macn012.txt',\n",
              " 'contos/macn013.txt',\n",
              " 'contos/macn014.txt',\n",
              " 'contos/macn015.txt',\n",
              " 'contos/macn016.txt',\n",
              " 'contos/macn017.txt',\n",
              " 'contos/macn018.txt',\n",
              " 'contos/macn019.txt',\n",
              " 'contos/macn020.txt',\n",
              " 'contos/macn021.txt',\n",
              " 'contos/macn022.txt',\n",
              " 'contos/macn023.txt',\n",
              " 'contos/macn024.txt',\n",
              " 'contos/macn025.txt',\n",
              " 'contos/macn026.txt',\n",
              " 'contos/macn027.txt',\n",
              " 'contos/macn028.txt',\n",
              " 'contos/macn029.txt',\n",
              " 'contos/macn030.txt',\n",
              " 'contos/macn031.txt',\n",
              " 'contos/macn032.txt',\n",
              " 'contos/macn033.txt',\n",
              " 'contos/macn034.txt',\n",
              " 'contos/macn035.txt',\n",
              " 'contos/macn036.txt',\n",
              " 'contos/macn037.txt',\n",
              " 'contos/macn038.txt',\n",
              " 'contos/macn039.txt',\n",
              " 'contos/macn040.txt',\n",
              " 'contos/macn041.txt',\n",
              " 'contos/macn042.txt',\n",
              " 'contos/macn043.txt',\n",
              " 'contos/macn044.txt',\n",
              " 'contos/macn045.txt',\n",
              " 'contos/macn046.txt',\n",
              " 'contos/macn047.txt',\n",
              " 'contos/macn048.txt',\n",
              " 'contos/macn049.txt',\n",
              " 'contos/macn050.txt',\n",
              " 'contos/macn051.txt',\n",
              " 'contos/macn052.txt',\n",
              " 'contos/macn053.txt',\n",
              " 'contos/macn054.txt',\n",
              " 'contos/macn055.txt',\n",
              " 'contos/macn056.txt',\n",
              " 'contos/macn057.txt',\n",
              " 'contos/macn058.txt',\n",
              " 'contos/macn059.txt',\n",
              " 'contos/macn060.txt',\n",
              " 'contos/macn061.txt',\n",
              " 'contos/macn062.txt',\n",
              " 'contos/macn063.txt',\n",
              " 'contos/macn064.txt',\n",
              " 'contos/macn065.txt',\n",
              " 'contos/macn066.txt',\n",
              " 'contos/macn067.txt',\n",
              " 'contos/macn068.txt',\n",
              " 'contos/macn069.txt',\n",
              " 'contos/macn070.txt',\n",
              " 'contos/macn071.txt',\n",
              " 'contos/macn072.txt',\n",
              " 'contos/macn073.txt',\n",
              " 'contos/macn074.txt',\n",
              " 'contos/macn075.txt',\n",
              " 'contos/macn076.txt',\n",
              " 'contos/macn077.txt',\n",
              " 'contos/macn078.txt',\n",
              " 'contos/macn079.txt',\n",
              " 'contos/macn080.txt',\n",
              " 'contos/macn081.txt',\n",
              " 'contos/macn082.txt',\n",
              " 'contos/macn083.txt',\n",
              " 'contos/macn084.txt',\n",
              " 'contos/macn085.txt',\n",
              " 'contos/macn086.txt',\n",
              " 'contos/macn087.txt',\n",
              " 'contos/macn088.txt',\n",
              " 'contos/macn089.txt',\n",
              " 'contos/macn090.txt',\n",
              " 'contos/macn091.txt',\n",
              " 'contos/macn092.txt',\n",
              " 'contos/macn093.txt',\n",
              " 'contos/macn094.txt',\n",
              " 'contos/macn095.txt',\n",
              " 'contos/macn096.txt',\n",
              " 'contos/macn097.txt',\n",
              " 'contos/macn098.txt',\n",
              " 'contos/macn099.txt',\n",
              " 'contos/macn100.txt',\n",
              " 'contos/macn101.txt',\n",
              " 'contos/macn102.txt',\n",
              " 'contos/macn103.txt',\n",
              " 'contos/macn104.txt',\n",
              " 'contos/macn105.txt',\n",
              " 'contos/macn106.txt',\n",
              " 'contos/macn107.txt',\n",
              " 'contos/macn108.txt',\n",
              " 'contos/macn109.txt',\n",
              " 'contos/macn110.txt',\n",
              " 'contos/macn111.txt',\n",
              " 'contos/macn112.txt',\n",
              " 'contos/macn113.txt',\n",
              " 'contos/macn114.txt',\n",
              " 'contos/macn115.txt',\n",
              " 'contos/macn116.txt',\n",
              " 'contos/macn117.txt',\n",
              " 'contos/macn118.txt',\n",
              " 'contos/macn119.txt',\n",
              " 'contos/macn120.txt',\n",
              " 'contos/macn121.txt',\n",
              " 'contos/macn122.txt',\n",
              " 'contos/macn123.txt',\n",
              " 'contos/macn124.txt',\n",
              " 'contos/macn125.txt',\n",
              " 'contos/macn126.txt',\n",
              " 'contos/macn127.txt',\n",
              " 'contos/macn128.txt',\n",
              " 'contos/macn129.txt',\n",
              " 'contos/macn130.txt',\n",
              " 'contos/macn131.txt',\n",
              " 'contos/macn132.txt',\n",
              " 'contos/macn133.txt',\n",
              " 'contos/macn134.txt',\n",
              " 'contos/macn135.txt',\n",
              " 'contos/macn136.txt',\n",
              " 'contos/macn137.txt',\n",
              " 'critica/mact01.txt',\n",
              " 'critica/mact02.txt',\n",
              " 'critica/mact03.txt',\n",
              " 'critica/mact04.txt',\n",
              " 'critica/mact05.txt',\n",
              " 'critica/mact06.txt',\n",
              " 'critica/mact07.txt',\n",
              " 'critica/mact08.txt',\n",
              " 'critica/mact09.txt',\n",
              " 'critica/mact10.txt',\n",
              " 'critica/mact11.txt',\n",
              " 'critica/mact12.txt',\n",
              " 'critica/mact13.txt',\n",
              " 'critica/mact14.txt',\n",
              " 'critica/mact15.txt',\n",
              " 'critica/mact16.txt',\n",
              " 'critica/mact17.txt',\n",
              " 'critica/mact18.txt',\n",
              " 'critica/mact19.txt',\n",
              " 'critica/mact20.txt',\n",
              " 'critica/mact21.txt',\n",
              " 'critica/mact22.txt',\n",
              " 'critica/mact23.txt',\n",
              " 'critica/mact24.txt',\n",
              " 'critica/mact25.txt',\n",
              " 'critica/mact26.txt',\n",
              " 'critica/mact27.txt',\n",
              " 'critica/mact28.txt',\n",
              " 'critica/mact29.txt',\n",
              " 'critica/mact30.txt',\n",
              " 'critica/mact31.txt',\n",
              " 'critica/mact32.txt',\n",
              " 'critica/mact33.txt',\n",
              " 'critica/mact34.txt',\n",
              " 'critica/mact35.txt',\n",
              " 'critica/mact36.txt',\n",
              " 'critica/mact37.txt',\n",
              " 'critica/mact38.txt',\n",
              " 'critica/mact39.txt',\n",
              " 'critica/mact40.txt',\n",
              " 'critica/mact41.txt',\n",
              " 'critica/mact42.txt',\n",
              " 'critica/mact43.txt',\n",
              " 'critica/mact44.txt',\n",
              " 'critica/mact45.txt',\n",
              " 'cronica/macr01.txt',\n",
              " 'cronica/macr02.txt',\n",
              " 'cronica/macr03.txt',\n",
              " 'cronica/macr04.txt',\n",
              " 'cronica/macr05.txt',\n",
              " 'cronica/macr06.txt',\n",
              " 'cronica/macr07.txt',\n",
              " 'cronica/macr08.txt',\n",
              " 'cronica/macr09.txt',\n",
              " 'cronica/macr10.txt',\n",
              " 'cronica/macr11.txt',\n",
              " 'cronica/macr12.txt',\n",
              " 'cronica/macr13.txt',\n",
              " 'cronica/macr14.txt',\n",
              " 'cronica/macr15.txt',\n",
              " 'cronica/macr16.txt',\n",
              " 'cronica/macr17.txt',\n",
              " 'cronica/macr18.txt',\n",
              " 'cronica/macr19.txt',\n",
              " 'cronica/macr20.txt',\n",
              " 'cronica/macr21.txt',\n",
              " 'cronica/macr22.txt',\n",
              " 'cronica/macr23.txt',\n",
              " 'cronica/macr24.txt',\n",
              " 'miscelanea/mams01.txt',\n",
              " 'miscelanea/mams02.txt',\n",
              " 'miscelanea/mams03.txt',\n",
              " 'miscelanea/mams04.txt',\n",
              " 'miscelanea/mams05.txt',\n",
              " 'miscelanea/mams06.txt',\n",
              " 'miscelanea/mams07.txt',\n",
              " 'miscelanea/mams08.txt',\n",
              " 'miscelanea/mams09.txt',\n",
              " 'miscelanea/mams10.txt',\n",
              " 'poesia/maps01.txt',\n",
              " 'poesia/maps02.txt',\n",
              " 'poesia/maps03.txt',\n",
              " 'poesia/maps04.txt',\n",
              " 'poesia/maps05.txt',\n",
              " 'poesia/maps06.txt',\n",
              " 'poesia/maps07.txt',\n",
              " 'romance/marm01.txt',\n",
              " 'romance/marm02.txt',\n",
              " 'romance/marm03.txt',\n",
              " 'romance/marm04.txt',\n",
              " 'romance/marm05.txt',\n",
              " 'romance/marm06.txt',\n",
              " 'romance/marm07.txt',\n",
              " 'romance/marm08.txt',\n",
              " 'romance/marm09.txt',\n",
              " 'romance/marm10.txt',\n",
              " 'teatro/matt01.txt',\n",
              " 'teatro/matt02.txt',\n",
              " 'teatro/matt03.txt',\n",
              " 'teatro/matt04.txt',\n",
              " 'teatro/matt05.txt',\n",
              " 'teatro/matt06.txt',\n",
              " 'teatro/matt07.txt',\n",
              " 'teatro/matt08.txt',\n",
              " 'teatro/matt09.txt',\n",
              " 'teatro/matt10.txt',\n",
              " 'traducao/matr01.txt',\n",
              " 'traducao/matr02.txt',\n",
              " 'traducao/matr03.txt']"
            ]
          },
          "metadata": {},
          "execution_count": 18
        }
      ]
    },
    {
      "cell_type": "code",
      "source": [
        "machado.readme()"
      ],
      "metadata": {
        "colab": {
          "base_uri": "https://localhost:8080/",
          "height": 139
        },
        "id": "mfgDJ5F8AGAA",
        "outputId": "1b25979b-feb0-4c17-b8ae-8ad686bb11d6"
      },
      "execution_count": 19,
      "outputs": [
        {
          "output_type": "execute_result",
          "data": {
            "text/plain": [
              "\"Machado de Assis -- Obra Completa\\n\\nhttp://machado.mec.gov.br/\\n\\nPublic Domain\\n\\nContents:\\n\\nRomance\\n\\nromance/marm01.txt: Ressurreição (1872)\\nromance/marm02.txt: A Mão e a Luva (1874)\\nromance/marm03.txt: Helena (1876)\\nromance/marm04.txt: Iaiá Garcia (1878)\\nromance/marm05.txt: Memórias Póstumas de Brás Cubas (1881)\\nromance/marm06.txt: Casa Velha (1885)\\nromance/marm07.txt: Quincas Borba (1891)\\nromance/marm08.txt: Dom Casmurro (1899)\\nromance/marm09.txt: Esaú e Jacó (1904)\\nromance/marm10.txt: Memorial de Aires (1908)\\n\\nPoesia\\n\\npoesia/maps01.txt: Crisálidas (1864)\\npoesia/maps02.txt: Falenas (1870)\\npoesia/maps03.txt: Americanas (1875)\\npoesia/maps04.txt: Gazeta de Holanda (1886-88)\\npoesia/maps05.txt: Ocidentais (1901)\\npoesia/maps06.txt: O Almada (1908)\\npoesia/maps07.txt: Dispersas (1854-1939)\\n\\nContos\\n\\ncontos/macn001.txt: Contos Fluminenses (1870); Miss Dollar; Luís Soares; A mulher de preto; O segredo de Augusta; Confissões de uma viúva moça; Linha reta e linha curva; Frei Sim\\ncontos/macn002.txt: Histórias da meia-noite (1873); A parasita azul; As bodas de Luís Duarte; Ernesto de Tal; Aurora sem dia; O relógio de ouro; Ponto de vista\\ncontos/macn003.txt: Papéis avulsos (1882); O alienista; Teoria do medalhão; A chinela turca; Na arca; D. Benedita; O segredo do bonzo; O anel de Polícrates; O empréstimo; A sereníssima república; O espelho; Uma visita de Alcibíades; Verba testamentária\\ncontos/macn004.txt: Histórias sem data (1884); A igreja do Diabo; O lapso; Último capítulo; Cantiga de esponsais; Singular ocorrência; Galeria póstuma; Capítulo dos chapéus; Conto alexandrino; Rimas de Sapucaia!; Uma senhora; Anedota pecuniária; Fulano; A segunda vida; Noite de almirante; Manuscrito de um sacristão; Ex cathedra; A senhora do Galvão; As academias de Sião\\ncontos/macn005.txt: Várias histórias (1896); A cartomante; Entre santos; Uns braços; Um homem célebre; A desejada das gentes; A causa secreta; Trio em lá menor; Adão e Eva; O enfermeiro; O diplomático; Mariana; Conto de escola; Um apólogo; D. Paula; Viver!; O cônego ou Metafísica do estilo\\ncontos/macn006.txt: Páginas recolhidas (1899); O caso da vara; O dicionário; Um erradio; Eterno!; Missa do galo; Idéias de canário; Lágrimas de Xerxes; Papéis velhos\\ncontos/macn007.txt: Relíquias de Casa Velha (1906); Pai contra mãe; Maria Cora; Marcha fúnebre; Um capitão de voluntários; Suje-se gordo!; Umas férias; Evolução; Pílades e Orestes; Anedota do cabriolet\\n\\nTraducao\\n\\ntraducao/matr01.txt: Suplício de uma mulher (1865)\\ntraducao/matr02.txt: Os trabalhadores do mar (1866)\\ntraducao/matr03.txt: Oliver Twist (1870)\\n\\nTeatro\\n\\nteatro/matt01.txt: As forcas caudinas (1956)\\nteatro/matt02.txt: Hoje avental, amanhã luva (1860)\\nteatro/matt03.txt: Desencantos (1861)\\nteatro/matt04.txt: O caminho da porta / O protocolo (1863)\\nteatro/matt05.txt: Quase ministro (1864)\\nteatro/matt06.txt: Os deuses de casaca (1866)\\nteatro/matt07.txt: O bote de rapé (1878)\\nteatro/matt08.txt: Tu, só tu, puro amor (1880)\\nteatro/matt09.txt: Não consultes médico (1899)\\nteatro/matt10.txt: Lição de botânica (1906)\\n\\nCronica\\n\\ncronica/macr01.txt: Comentários da semana (1861-1863)\\ncronica/macr02.txt: Crônicas do Dr. Semana (1861-1864)\\ncronica/macr03.txt: Crônicas - O futuro (1862-1863)\\ncronica/macr04.txt: Ao acaso (1864-1865)\\ncronica/macr05.txt: Cartas fluminenses (1867)\\ncronica/macr06.txt: Badaladas (1871-1873)\\ncronica/macr07.txt: História de quinze dias (1876-1877)\\ncronica/macr08.txt: História dos trinta dias (1878)\\ncronica/macr09.txt: Notas semanais (1878)\\ncronica/macr10.txt: Balas de estalo (1883-1886)\\ncronica/macr11.txt: Bons dias! (1888-1889)\\ncronica/macr12.txt: A semana (1892-1800)\\ncronica/macr13.txt: O jornal e o livro (1859)\\ncronica/macr14.txt: A reforma pelo jornal (1859)\\ncronica/macr15.txt: Aquarelas (1859)\\ncronica/macr16.txt: O Visconde de Castilho (1875)\\ncronica/macr17.txt: Cherchez la femme (1881)\\ncronica/macr18.txt: José de Alencar (1883)\\ncronica/macr19.txt: Joaquim Serra (1888)\\ncronica/macr20.txt: O futuro dos argentinos (1888)\\ncronica/macr21.txt: Entre 1892 e 1894 (1892-1894)\\ncronica/macr22.txt: Henrique Chaves (1893)\\ncronica/macr23.txt: Henrique Lombaerts (1897)\\ncronica/macr24.txt: O velho Senado (1898)\\ncritica/mact01.txt: O Passado, o presente e o futuro da literatura (1858)\\ncritica/mact02.txt: Idéias sobre o teatro (1859)\\ncritica/mact03.txt: Revista dos teatros (1859)\\ncritica/mact04.txt: Revista Dramática (1860)\\ncritica/mact05.txt: A Crítica teatral. José de Alencar: Mãe (1860)\\ncritica/mact06.txt: Crítica variada - Diário do RJ (1862)\\ncritica/mact07.txt: Flores e Frutos, de Bruno Seabra (1862)\\ncritica/mact08.txt: Pareceres - Conservatório Dramático (1862-1864)\\ncritica/mact09.txt: Homem de Mello e B. Pinheiro \\x96 A Constituinte perante a História e Sombras e Luz (1863)\\ncritica/mact10.txt: Peregrinação pela província de S. Paulo , por A. E. Zaluar (1863)\\ncritica/mact11.txt: Revelações , de A. E. Zaluar (1863)\\ncritica/mact12.txt: Dois folhetins. Suplício de uma mulher (1865)\\ncritica/mact13.txt: O Ideal do crítico (1865)\\ncritica/mact14.txt: Álvares de Azevedo: Lira dos vinte anos (1866)\\ncritica/mact15.txt: Crítica teatral (1866)\\ncritica/mact16.txt: Fagundes Varela \\x96 Cantos e fantasias (1866)\\ncritica/mact17.txt: J .M. de Macedo: O culto do dever (1866)\\ncritica/mact18.txt: José de Alencar: Iracema (1866)\\ncritica/mact19.txt: Junqueira Freire: Inspirações do claustro (1866)\\ncritica/mact20.txt: Porto Alegre: Colombo (1866)\\ncritica/mact21.txt: Propósito (1866)\\ncritica/mact22.txt: Castro Alves (1868)\\ncritica/mact23.txt: Lúcio de Mendonça: Névoas matutinas (1872)\\ncritica/mact24.txt: Un cuento endemoniado e La mujer misteriosa , de Guilherme Malta (1872)\\ncritica/mact25.txt: Notícia da atual literatura brasileira: Instinto de nacionalidade (1873)\\ncritica/mact26.txt: Fagundes Varela (1875)\\ncritica/mact27.txt: Eça de Queirós: O primo Basílio (1878)\\ncritica/mact28.txt: Francisco de Castro: Harmonias errantes (1878)\\ncritica/mact29.txt: A Nova geração (1879)\\ncritica/mact30.txt: Carlos Jansen: Contos seletos das mil e uma noites (1882)\\ncritica/mact31.txt: Raimundo Correia: Sinfonias (1882)\\ncritica/mact32.txt: Alberto de Oliveira: Meridionais (1884)\\ncritica/mact33.txt: Enéias Galvão: Miragens (1885)\\ncritica/mact34.txt: L. L. Fernandes Pinheiro Júnior: Tipos e quadros (1886)\\ncritica/mact35.txt: José de Alencar: O Guarani (1887)\\ncritica/mact36.txt: Henriqueta Renan (1896)\\ncritica/mact37.txt: Discursos na Academia Brasileira de Letras (1897)\\ncritica/mact38.txt: Magalhães de Azeredo: Procelárias (1898)\\ncritica/mact39.txt: Cenas da vida amazônica , de José Veríssimo (1899)\\ncritica/mact40.txt: Garrett (1899)\\ncritica/mact41.txt: Eça de Queirós (1900)\\ncritica/mact42.txt: Eduardo Prado (1901)\\ncritica/mact43.txt: Magalhães de Azeredo e Mário de Alencar: Horas sagradas e Versos (1902)\\ncritica/mact44.txt: Oliveira Lima: Secretário d'el-rei (1904)\\ncritica/mact45.txt: Joaquim Nabuco: Pensées détachées et souvenirs (1906)\\n\\nMiscelanea\\n\\nmiscelanea/mams01.txt: Os imortais (1859)\\nmiscelanea/mams02.txt: Queda que as mulheres têm para os tolos (1861)\\nmiscelanea/mams03.txt: Carta ao Sr. Bispo do RJ (1862)\\nmiscelanea/mams04.txt: Carta à redação da Imprensa Acadêmica (1864)\\nmiscelanea/mams05.txt: Pedro Luís (1884)\\nmiscelanea/mams06.txt: A morte de Francisco Otaviano (1889)\\nmiscelanea/mams07.txt: Secretaria de Agricultura (1890)\\nmiscelanea/mams08.txt: A Paixão de Jesus (1904)\\nmiscelanea/mams09.txt: Gonçalves Dias (1906)\\nmiscelanea/mams10.txt: A Estátua de José de Alencar (1906)\\n\""
            ],
            "application/vnd.google.colaboratory.intrinsic+json": {
              "type": "string"
            }
          },
          "metadata": {},
          "execution_count": 19
        }
      ]
    },
    {
      "cell_type": "code",
      "metadata": {
        "id": "S7EWP0tHNpNL",
        "colab": {
          "base_uri": "https://localhost:8080/",
          "height": 139
        },
        "outputId": "4c53e116-2c97-4f15-aa0f-08586c178e5c"
      },
      "source": [
        "# Obtém o texto de \"Memórias Póstumas de Brás Cubas\"\n",
        "texto = machado.raw('romance/marm05.txt')\n",
        "texto"
      ],
      "execution_count": 20,
      "outputs": [
        {
          "output_type": "execute_result",
          "data": {
            "text/plain": [
              "\"Romance, Memórias Póstumas de Brás Cubas, 1880\\n\\nMemórias Póstumas de\\nBrás Cubas\\n\\nTexto-fonte:\\nObra Completa, Machado de\\nAssis,\\nRio\\nde Janeiro: Editora Nova Aguilar, 1994.\\n\\nPublicado originalmente em\\nfolhetins, a partir de março de 1880, na Revista Brasileira.\\n\\nAo verme\\nque\\nprimeiro roeu as frias\\ncarnes\\ndo meu cadáver\\n\\ndedico\\ncomo saudosa lembrança\\n\\nestas\\nMemórias\\nPóstumas\\n\\nPrólogo da terceira\\nedição\\n\\nA primeira edição destas\\nMemórias Póstumas de Brás Cubas foi feita aos pedaços na Revista\\nBrasileira, pelos anos de 1880. Postas mais tarde em livro, corrigi o texto em\\nvários lugares. Agora que tive de o rever para a terceira edição, emendei ainda\\nalguma coisa e suprimi duas ou três dúzias de linhas. Assim composta, sai\\nnovamente à luz esta obra que alguma benevolência parece ter encontrado no\\npúblico.\\n\\nCapistrano de Abreu, noticiando a\\npublicação do livro, perguntava: \\x93As Memórias Póstumas de Brás Cubas são\\num romance?\\x94 Macedo Soares, em carta que me escreveu por esse tempo, recordava\\namigamente as Viagens na minha terra. Ao primeiro respondia já o defunto\\nBrás Cubas (como o leitor viu e verá no prólogo dele que vai adiante) que sim e\\nque não, que era romance para uns e não o era para outros. Quanto ao segundo,\\nassim se explicou o finado: \\x93Trata-se de uma obra difusa, na qual eu, Brás\\nCubas, se adotei a forma livre de um Sterne ou de um Xavier de Maistre, não sei\\nse lhe meti algumas rabugens de pessimismo.\\x94 Toda essa gente viajou: Xavier de\\nMaistre à roda do quarto, Garret na terra dele, Sterne na terra dos outros. De\\nBrás Cubas se pode dizer que viajou à roda da vida.\\n\\nO que faz do meu Brás Cubas um\\nautor particular é o que ele chama \\x93rabugens de pessimismo\\x94. Há na alma deste\\nlivro, por mais risonho que pareça, um sentimento amargo e áspero, que está\\nlonge de vir de seus modelos. É taça que pode ter lavores de igual escola, mas\\nleva outro vinho. Não digo mais para não entrar na crítica de um defunto, que se\\npintou a si e a outros, conforme lhe pareceu melhor e mais certo.\\n\\nMachado de Assis.\\n\\nAO LEITOR\\n\\nQue Stendhal confessasse haver\\nescrito um de seus livros para cem leitores, coisa é que admira e consterna. O\\nque não admira, nem provavelmente consternará é se este outro livro não tiver os\\ncem leitores de Stendhal, nem cinqüenta, nem vinte e, quando muito, dez. Dez?\\nTalvez cinco. Trata-se, na verdade, de uma obra difusa, na qual eu, Brás Cubas,\\nse adotei a forma livre de um Sterne, ou de um Xavier de Maistre, não sei se lhe\\nmeti algumas rabugens de pessimismo. Pode ser. Obra de finado. Escrevi-a com a\\npena da galhofa e a tinta da melancolia, e não é difícil antever o que poderá\\nsair desse conúbio. Acresce que a gente grave achará no livro umas aparências de\\npuro romance, ao passo que a gente frívola não achará nele o seu romance usual;\\nei-lo aí fica privado da estima dos graves e do amor dos frívolos, que são as\\nduas colunas máximas da opinião.\\n\\nMas eu ainda espero angariar as\\nsimpatias da opinião, e o primeiro remédio é fugir a um prólogo explícito e\\nlongo. O melhor prólogo é o que contém menos coisas, ou o que as diz de um jeito\\nobscuro e truncado. Conseguintemente, evito contar o processo extraordinário que\\nempreguei na composição destas Memórias, trabalhadas cá no outro mundo.\\nSeria curioso, mas nimiamente extenso, e aliás desnecessário ao entendimento da\\nobra. A obra em si mesma é tudo: se te agradar, fino leitor, pago-me da tarefa;\\nse te não agradar, pago-te com um piparote, e adeus.\\n\\nBrás Cubas.\\n\\nCAPÍTULO PRIMEIRO / ÓBITO DO\\nAUTOR\\n\\nAlgum tempo hesitei se devia abrir\\nestas memórias pelo princípio ou pelo fim, isto é, se poria em primeiro lugar o\\nmeu nascimento ou a minha morte. Suposto o uso vulgar seja começar pelo\\nnascimento, duas considerações me levaram a adotar diferente método: a primeira\\né que eu não sou propriamente um autor defunto, mas um defunto autor, para quem\\na campa foi outro berço; a segunda é que o escrito ficaria assim mais galante e\\nmais novo. Moisés, que também contou a sua morte, não a pôs no intróito, mas no\\ncabo: diferença radical entre este livro e o Pentateuco.\\n\\nDito isto, expirei às duas horas\\nda tarde de uma sexta-feira do mês de agosto de 1869, na minha bela chácara de\\nCatumbi. Tinha uns sessenta e quatro anos, rijos e prósperos, era solteiro,\\npossuía cerca de trezentos contos e fui acompanhado ao cemitério por onze\\namigos. Onze amigos! Verdade é que não houve cartas nem anúncios. Acresce que\\nchovia \\x97 peneirava uma chuvinha miúda, triste e constante, tão constante e tão\\ntriste, que levou um daqueles fiéis da última hora a intercalar esta engenhosa\\nidéia no discurso que proferiu à beira de minha cova: \\x97 \\x93Vós, que o conhecestes,\\nmeus senhores, vós podeis dizer comigo que a natureza parece estar chorando a\\nperda irreparável de um dos mais belos caracteres que têm honrado a humanidade.\\nEste ar sombrio, estas gotas do céu, aquelas nuvens escuras que cobrem o azul\\ncomo um crepe funéreo, tudo isso é a dor crua e má que lhe rói à Natureza as\\nmais íntimas entranhas; tudo isso é um sublime louvor ao nosso ilustre finado.\\x94\\n\\nBom e fiel amigo! Não, não me\\narrependo das vinte apólices que lhe deixei. E foi assim que cheguei à cláusula\\ndos meus dias; foi assim que me encaminhei para o undiscovered\\ncountry de Hamlet, sem as ânsias nem as dúvidas do moço príncipe, mas\\npausado e trôpego como quem se retira tarde do espetáculo. Tarde e aborrecido.\\nViram-me ir umas nove ou dez pessoas, entre elas três senhoras, minha irmã\\nSabina, casada com o Cotrim, a filha, \\x97 um lírio do vale, \\x97 e... Tenham\\npaciência! daqui a pouco lhes direi quem era a terceira senhora. Contentem-se de\\nsaber que essa anônima, ainda que não parenta, padeceu mais do que as parentas.\\nÉ verdade, padeceu mais. Não digo que se carpisse, não digo que se deixasse\\nrolar pelo chão, convulsa. Nem o meu óbito era coisa altamente dramática... Um\\nsolteirão que expira aos sessenta e quatro anos, não parece que reúna em si\\ntodos os elementos de uma tragédia. E dado que sim, o que menos convinha a essa\\nanônima era aparentá-lo. De pé, à cabeceira da cama, com os olhos estúpidos, a\\nboca entreaberta, a triste senhora mal podia crer na minha extinção.\\n\\n\\x97 \\x93Morto! morto!\\x94 dizia consigo.\\n\\nE a imaginação dela, como as\\ncegonhas que um ilustre viajante viu desferirem o vôo desde o Ilisso às ribas\\nafricanas, sem embargo das ruínas e dos tempos, \\x97 a imaginação dessa senhora\\ntambém voou por sobre os destroços presentes até às ribas de uma África\\njuvenil... Deixá-la ir; lá iremos mais tarde; lá iremos quando eu me restituir\\naos primeiros anos. Agora, quero morrer tranqüilamente, metodicamente, ouvindo\\nos soluços das damas, as falas baixas dos homens, a chuva que tamborila nas\\nfolhas de tinhorão da chácara, e o som estrídulo de uma navalha que um amolador\\nestá afiando lá fora, à porta de um correeiro. Juro-lhes que essa orquestra da\\nmorte foi muito menos triste do que podia parecer. De certo ponto em diante\\nchegou a ser deliciosa. A vida estrebuchava-me no peito, com uns ímpetos de vaga\\nmarinha, esvaía-se-me a consciência, eu descia à imobilidade física e moral, e o\\ncorpo fazia-se-me planta, e pedra e lodo, e coisa nenhuma.\\n\\nMorri de uma pneumonia; mas se lhe\\ndisser que foi menos a pneumonia, do que uma idéia grandiosa e útil, a causa da\\nminha morte, é possível que o leitor me não creia, e todavia é verdade. Vou\\nexpor-lhe sumariamente o caso. Julgue-o por si mesmo.\\n\\nCAPÍTULO II / O\\nEMPLASTO\\n\\nCom efeito, um dia de manhã,\\nestando a passear na chácara, pendurou-se-me uma idéia no trapézio que eu tinha\\nno cérebro. Uma vez pendurada, entrou a bracejar, a pernear, a fazer as mais\\narrojadas cabriolas de volatim, que é possível crer. Eu deixei-me estar a\\ncontemplá-la. Súbito, deu um grande salto, estendeu os braços e as pernas, até\\ntomar a forma de um X: decifra-me ou devoro-te.\\n\\nEssa idéia era nada menos que a\\ninvenção de um medicamento sublime, um emplastro anti-hipocondríaco, destinado a\\naliviar a nossa melancólica humanidade. Na petição de privilégio que então\\nredigi, chamei a atenção do governo para esse resultado, verdadeiramente\\ncristão. Todavia, não neguei aos amigos as vantagens pecuniárias que deviam\\nresultar da distribuição de um produto de tamanhos e tão profundos efeitos.\\nAgora, porém, que estou cá do outro lado da vida, posso confessar tudo: o que me\\ninfluiu principalmente foi o gosto de ver impressas nos jornais, mostradores,\\nfolhetos, esquinas, e enfim nas caixinhas do remédio, estas três palavras:\\nEmplasto Brás Cubas. Para que negá-lo? Eu tinha a paixão do arruído, do\\ncartaz, do foguete de lágrimas. Talvez os modestos me argúam esse defeito; fio,\\nporém, que esse talento me hão de reconhecer os hábeis. Assim, a minha idéia\\ntrazia duas faces, como as medalhas, uma virada para o público, outra para mim.\\nDe um lado, filantropia e lucro; de outro lado, sede de nomeada. Digamos: \\x97 amor\\nda glória.\\n\\nUm tio meu, cônego de prebenda\\ninteira, costumava dizer que o amor da glória temporal era a perdição das almas,\\nque só devem cobiçar a glória eterna. Ao que retorquia outro tio, oficial de um\\ndos antigos terços de infantaria, que o amor da glória era a coisa mais\\nverdadeiramente humana que há no homem, e, conseguintemente, a sua mais genuína\\nfeição.\\n\\nDecida o leitor entre o militar e\\no cônego; eu volto ao emplasto.\\n\\nCAPÍTULO III /\\nGENEALOGIA\\n\\n Mas, já que falei nos meus dois\\ntios, deixem-me fazer aqui um curto esboço genealógico.\\n\\nO fundador da minha família foi um\\ncerto Damião Cubas, que floresceu na primeira metade do século XVIII. Era\\ntanoeiro de ofício, natural do Rio de Janeiro, onde teria morrido na penúria e\\nna obscuridade, se somente exercesse a tanoaria. Mas não; fez-se lavrador,\\nplantou, colheu, permutou o seu produto por boas e honradas patacas, até que\\nmorreu, deixando grosso cabedal a um filho, licenciado Luís Cubas. Neste rapaz é\\nque verdadeiramente começa a série de meus avós \\x97 dos avós que a minha família\\nsempre confessou, \\x97 porque o Damião Cubas era afinal de contas um tanoeiro, e\\ntalvez mau tanoeiro, ao passo que o Luís Cubas estudou em Coimbra, primou no\\nEstado, e foi um dos amigos particulares do vice-rei Conde da Cunha.\\n\\nComo este apelido de Cubas lhe\\ncheirasse excessivamente a tanoaria, alegava meu pai, bisneto de Damião, que o\\ndito apelido fora dado a um cavaleiro, herói nas jornadas da África, em prêmio\\nda façanha que praticou, arrebatando trezentas cubas aos mouros. Meu pai era\\nhomem de imaginação; escapou à tanoaria nas asas de um calembour. Era um\\nbom caráter, meu pai, varão digno e leal como poucos. Tinha, é verdade, uns\\nfumos de pacholice; mas quem não é um pouco pachola nesse mundo? Releva notar\\nque ele não recorreu à inventiva senão depois de experimentar a falsificação;\\nprimeiramente, entroncou-se na família daquele meu famoso homônimo, o\\ncapitão-mor, Brás Cubas, que fundou a vila de São Vicente, onde morreu em 1592,\\ne por esse motivo é que me deu o nome de Brás. Opôs-se-lhe, porém, a família do\\ncapitão-mor, e foi então que ele imaginou as trezentas cubas mouriscas.\\n\\nVivem ainda alguns membros de\\nminha família, minha sobrinha Venância, por exemplo, o lírio do vale, que é a\\nflor das damas do seu tempo; vive o pai, o Cotrim, um sujeito que... Mas não\\nantecipemos os sucessos; acabemos de uma vez com o nosso emplasto.\\n\\nCAPÍTULO IV / A IDÉIA\\nFIXA\\n\\nA minha idéia, depois de tantas\\ncabriolas, constituíra-se idéia fixa. Deus te livre, leitor, de uma idéia fixa;\\nantes um argueiro, antes uma trave no olho. Vê o Cavour; foi a idéia fixa da\\nunidade italiana que o matou. Verdade é que Bismarck não morreu; mas cumpre\\nadvertir que a natureza é uma grande caprichosa e a história uma eterna\\nloureira. Por exemplo, Suetônio deu-nos um Cláudio, que era um simplório, \\x97 ou\\n\\x93uma abóbora\\x94 como lhe chamou Sêneca, e um Tito, que mereceu ser as delícias de\\nRoma. Veio modernamente um professor e achou meio de demonstrar que dos dois\\ncésares, o delicioso, o verdadeiro delicioso, foi o \\x93abóbora\\x94 de Sêneca. E tu,\\nmadama Lucrécia, flor dos Bórgias, se um poeta te pintou como a Messalina\\ncatólica, apareceu um Gregorovius incrédulo que te apagou muito essa qualidade,\\ne, se não vieste a lírio, também não ficaste pântano. Eu deixo-me estar entre o\\npoeta e o sábio.\\n\\nViva pois a história, a volúvel\\nhistória que dá para tudo; e, tornando à idéia fixa, direi que é ela a que faz\\nos varões fortes e os doidos; a idéia móbil, vaga ou furta-cor é a que faz os\\nCláudios, \\x97 fórmula Suetônio.\\n\\nEra fixa a minha idéia, fixa\\ncomo... Não me ocorre nada que seja assaz fixo nesse mundo: talvez a lua, talvez\\nas pirâmides do Egito, talvez a finada dieta germânica. Veja o leitor a\\ncomparação que melhor lhe quadrar, veja-a e não esteja daí a torcer-me o nariz,\\nsó porque ainda não chegamos à parte narrativa destas memórias. Lá iremos. Creio\\nque prefere a anedota à reflexão, como os outros leitores, seus confrades, e\\nacho que faz muito bem. Pois lá iremos. Todavia, importa dizer que este livro é\\nescrito com pachorra, com a pachorra de um homem já desafrontado da brevidade do\\nséculo, obra supinamente filosófica, de uma filosofia desigual, agora austera,\\nlogo brincalhona, coisa que não edifica nem destrói, não inflama nem regala, e é\\ntodavia mais do que passatempo e menos do que apostolado.\\n\\nVamos lá; retifique o seu nariz, e\\ntornemos ao emplasto. Deixemos a história com os seus caprichos de dama\\nelegante. Nenhum de nós pelejou a batalha de Salamina, nenhum escreveu a\\nconfissão de Augsburgo; pela minha parte, se alguma vez me lembro de Cromwell, é\\nsó pela idéia de que Sua Alteza, com a mesma mão que trancara o parlamento,\\nteria imposto aos ingleses o emplasto Brás Cubas. Não se riam dessa vitória\\ncomum da farmácia e do puritanismo. Quem não sabe que ao pé de cada bandeira\\ngrande, pública, ostensiva, há muitas vezes várias outras bandeiras modestamente\\nparticulares, que se hasteiam e flutuam à sombra daquela, e não poucas vezes lhe\\nsobrevivem? Mal comparando, é como a arraia-miúda, que se acolhia à sombra do\\ncastelo feudal; caiu este e a arraia ficou. Verdade é que se fez graúda e\\ncastelã... Não, a comparação não presta.\\n\\nCAPÍTULO V / EM QUE APARECE\\nA ORELHA DE UMA SENHORA\\n\\nSenão quando, estando eu ocupado\\nem preparar e apurar a minha invenção, recebi em cheio um golpe de ar; adoeci\\nlogo, e não me tratei. Tinha o emplasto no cérebro; trazia comigo a idéia fixa\\ndos doidos e dos fortes. Via-me, ao longe, ascender do chão das turbas, e\\nremontar ao Céu, como uma águia imortal, e não é diante de tão excelso\\nespetáculo que um homem pode sentir a dor que o punge. No outro dia estava pior;\\ntratei-me enfim, mas incompletamente, sem método, nem cuidado, nem persistência;\\ntal foi a origem do mal que me trouxe à eternidade. Sabem já que morri numa\\nsexta-feira, dia aziago, e creio haver provado que foi a minha invenção que me\\nmatou. Há demonstrações menos lúcidas e não menos triunfantes.\\n\\nNão era impossível, entretanto,\\nque eu chegasse a galgar o cimo de um século, e a figurar nas folhas públicas,\\nentre macróbios. Tinha saúde e robustez. Suponha-se que, em vez de estar\\nlançando os alicerces de uma invenção farmacêutica, tratava de coligir os\\nelementos de uma instituição política, ou de uma reforma religiosa. Vinha a\\ncorrente de ar, que vence em eficácia o cálculo humano, e lá se ia tudo. Assim\\ncorre a sorte dos homens.\\n\\nCom esta reflexão me despedi eu da\\nmulher, não direi mais discreta, mas com certeza mais formosa entre as\\ncontemporâneas suas, a anônima do primeiro capítulo, a tal, cuja imaginação à\\nsemelhança das cegonhas do Ilisso... Tinha então 54 anos, era uma ruína, uma\\nimponente ruína. Imagine o leitor que nos amamos, ela e eu, muitos anos antes, e\\nque um dia, já enfermo, vejo-a assomar à porta da alcova...\\n\\nCAPÍTULO VI / CHIMÈNE, QUI\\nL'EÛT DIT? RODRIGUE, QUI L'EÛT CRU?\\n\\nVejo-a assomar à porta da alcova,\\npálida, comovida, trajada de preto, e ali ficar durante um minuto, sem ânimo de\\nentrar, ou detida pela presença de um homem que estava comigo. Da cama, onde\\njazia, contemplei-a durante esse tempo, esquecido de lhe dizer nada ou de fazer\\nnenhum gesto. Havia já dois anos que nos não víamos, e eu via-a agora não qual\\nera, mas qual fora, quais fôramos ambos, porque um Ezequias misterioso fizera\\nrecuar o sol até os dias juvenis. Recuou o sol, sacudi todas as misérias, e este\\npunhado de pó, que a morte ia espalhar na eternidade do nada, pôde mais do que o\\ntempo, que é o ministro da morte. Nenhuma água de Juventa igualaria ali a\\nsimples saudade.\\n\\nCreiam-me, o menos mau é recordar;\\nninguém se fie da felicidade presente; há nela uma gota da baba de Caim. Corrido\\no tempo e cessado o espasmo, então sim, então talvez se pode gozar deveras,\\nporque entre uma e outra dessas duas ilusões, melhor é a que se gosta sem doer.\\n\\nNão durou muito a evocação; a\\nrealidade dominou logo; o presente expeliu o passado. Talvez eu exponha ao\\nleitor, em algum canto deste livro, a minha teoria das edições humanas. O que\\npor agora importa saber é que Virgília \\x97 chamava-se Virgília \\x97 entrou na alcova,\\nfirme, com a gravidade que lhe davam as roupas e os anos, e veio até o meu\\nleito. O estranho levantou-se e saiu. Era um sujeito, que me visitava todos os\\ndias para falar do câmbio, da colonização e da necessidade de desenvolver a\\nviação férrea; nada mais interessante para um moribundo. Saiu; Virgília\\ndeixou-se estar de pé; durante algum tempo ficamos a olhar um para o outro, sem\\narticular palavra. Quem diria? De dois grandes namorados, de duas paixões sem\\nfreio, nada mais havia ali, vinte anos depois; havia apenas dois corações\\nmurchos, devastados pela vida e saciados dela, não sei se em igual dose, mas\\nenfim saciados. Virgília tinha agora a beleza da velhice, um ar austero e\\nmaternal; estava menos magra do que quando a vi, pela última vez, numa festa de\\nSão João, na Tijuca; e porque era das que resistem muito, só agora começavam os\\ncabelos escuros a intercalar-se com alguns fios de prata.\\n\\n\\x97 Anda visitando os defuntos?\\ndisse-lhe eu. \\x97 Ora, defuntos! respondeu Virgília com um muxoxo. E depois de me\\napertar as mãos: \\x97 Ando a ver se ponho os vadios para a rua.\\n\\nNão tinha a carícia lacrimosa de\\noutro tempo; mas a voz era amiga e doce. Sentou-se. Eu estava só, em casa, com\\num simples enfermeiro; podíamos falar um ao outro, sem perigo. Virgília deu-me\\nlongas notícias de fora, narrando-as com graça, com um certo travo de má língua,\\nque era o sal da palestra; eu, prestes a deixar o mundo, sentia um prazer\\nsatânico em mofar dele, em persuadir-me que não deixava nada.\\n\\n\\x97 Que idéias essas! interrompeu-me\\nVirgília um tanto zangada. Olhe que não volto mais. Morrer! Todos nós havemos de\\nmorrer; basta estarmos vivos.\\n\\nE vendo o relógio:\\n\\n\\x97 Jesus! são três horas. Vou-me\\nembora.\\n\\n\\x97 Já?\\n\\n\\x97 Já; virei amanhã ou depois.\\n\\n\\x97 Não sei se faz bem, retorqui; o\\ndoente é um solteirão e a casa não tem senhoras...\\n\\n\\x97 Sua mana?\\n\\n\\x97 Há de vir cá passar uns dias,\\nmas não pode ser antes de sábado.\\n\\nVirgília refletiu um instante,\\nlevantou os ombros e disse com gravidade:\\n\\n\\x97 Estou velha! Ninguém mais repara\\nem mim. Mas, para cortar dúvidas, virei com o Nhonhô.\\n\\nNhonhô era um bacharel, único\\nfilho de seu casamento, que, na idade de cinco anos, fora cúmplice inconsciente\\nde nossos amores. Vieram juntos, dois dias depois, e confesso que, ao vê-los\\nali, na minha alcova, fui tomado de um acanhamento que nem me permitiu\\ncorresponder logo às palavras afáveis do rapaz. Virgília adivinhou-me e disse ao\\nfilho:\\n\\n\\x97 Nhonhô, não repares nesse grande\\nmanhoso que aí está; não quer falar para fazer crer que está à morte.\\n\\nSorriu o filho, eu creio que\\ntambém sorri, e tudo acabou em pura galhofa. Virgília estava serena e risonha,\\ntinha o aspecto das vidas imaculadas. Nenhum olhar suspeito, nenhum gesto que\\npudesse denunciar nada; uma igualdade de palavra e de espírito, uma dominação\\nsobre si mesma, que pareciam e talvez fossem raras. Como tocássemos,\\ncasualmente, nuns amores ilegítimos, meio secretos, meio divulgados, vi-a falar\\ncom desdém e um pouco de indignação da mulher de que se tratava, aliás sua\\namiga. O filho sentia-se satisfeito, ouvindo aquela palavra digna e forte, e eu\\nperguntava a mim mesmo o que diriam de nós os gaviões, se Buffon tivesse nascido\\ngavião...\\n\\nEra o meu delírio que começava.\\n\\nCAPÍTULO VII / O\\nDELÍRIO\\n\\nQue me conste, ainda ninguém\\nrelatou o seu próprio delírio; faço-o eu, e a ciência mo agradecerá. Se o leitor\\nnão é dado à contemplação destes fenômenos mentais, pode saltar o capítulo; vá\\ndireito à narração. Mas, por menos curioso que seja, sempre lhe digo que é\\ninteressante saber o que se passou na minha cabeça durante uns vinte a trinta\\nminutos.\\n\\nPrimeiramente, tomei a figura de\\num barbeiro chinês, bojudo, destro, escanhoando um mandarim, que me pagava o\\ntrabalho com beliscões e confeitos: caprichos de mandarim.\\n\\nLogo depois, senti-me transformado\\nna Suma Teológica de São Tomás, impressa num volume, e encadernada em\\nmarroquim, com fechos de prata e estampas; idéia esta que me deu ao corpo a mais\\ncompleta imobilidade; e ainda agora me lembra que, sendo as minhas mãos os\\nfechos do livro, e cruzando-as eu sobre o ventre, alguém as descruzava (Virgília\\ndecerto), porque a atitude lhe dava a imagem de um defunto.\\n\\nUltimamente, restituído à forma\\nhumana, vi chegar um hipopótamo, que me arrebatou. Deixei-me ir, calado, não sei\\nse por medo ou confiança; mas, dentro em pouco, a carreira de tal modo se tornou\\nvertiginosa, que me atrevi a interrogá-lo, e com alguma arte lhe disse que a\\nviagem me parecia sem destino.\\n\\n\\x97 Engana-se, replicou o animal,\\nnós vamos à origem dos séculos.\\n\\nInsinuei que deveria ser\\nmuitíssimo longe; mas o hipopótamo não me entendeu ou não me ouviu, se é que não\\nfingiu uma dessas coisas; e, perguntando-lhe, visto que ele falava, se era\\ndescendente do cavalo de Aquiles ou da asna de Balaão, retorquiu-me com um gesto\\npeculiar a estes dois quadrúpedes: abanou as orelhas. Pela minha parte fechei os\\nolhos e deixei-me ir à ventura. Já agora não se me dá de confessar que sentia\\numas tais ou quais cócegas de curiosidade, por saber onde ficava a origem dos\\nséculos, se era tão misteriosa como a origem do Nilo, e sobretudo se valia\\nalguma coisa mais ou menos do que a consumação dos mesmos séculos: reflexões de\\ncérebro enfermo. Como ia de olhos fechados, não via o caminho; lembra-me só que\\na sensação de frio aumentava com a jornada, e que chegou uma ocasião em que me\\npareceu entrar na região dos gelos eternos. Com efeito, abri os olhos e vi que o\\nmeu animal galopava numa planície branca de neve, e vários animais grandes e de\\nneve. Tudo neve; chegava a gelar-nos um sol de neve. Tentei falar, mas apenas\\npude grunhir esta pergunta ansiosa:\\n\\n\\x97 Onde estamos?\\n\\n\\x97 Já passamos o Éden.\\n\\n\\x97 Bem; paremos na tenda de Abraão.\\n\\n\\x97 Mas se nós caminhamos para trás!\\nredargüiu motejando a minha cavalgadura.\\n\\nFiquei vexado e aturdido. A\\njornada entrou e parecer-me enfadonha e extravagante, o frio incômodo, a\\ncondução violenta, e o resultado impalpável. E depois \\x97 cogitações do enfermo \\x97\\ndado que chegássemos ao fim indicado, não era impossível que os séculos,\\nirritados com lhes devassarem a origem, me esmagassem entre as unhas, que deviam\\nser tão seculares como eles. Enquanto assim pensava, íamos devorando caminho, e\\na planície voava debaixo dos nossos pés, até que o animal estacou, e pude olhar\\nmais tranqüilamente em torno de mim. Olhar somente; nada vi, além da imensa\\nbrancura da neve, que desta vez invadira o próprio céu, até ali azul. Talvez, a\\nespaços, me parecia uma ou outra planta, enorme, brutesca, meneando ao vento as\\nsuas largas folhas. O silêncio daquela região era igual ao do sepulcro:\\ndissera-se que a vida das coisas ficara estúpida diante do homem.\\n\\nCaiu do ar? destacou-se da terra?\\nnão sei; sei que um vulto imenso, uma figura de mulher me apareceu então,\\nfitando-me uns olhos rutilantes como o sol. Tudo nessa figura tinha a vastidão\\ndas formas selváticas, e tudo escapava à compreensão do olhar humano, porque os\\ncontornos perdiam-se no ambiente, e o que parecia espesso era muita vez diáfano.\\nEstupefato, não disse nada, não cheguei sequer a soltar um grito; mas, ao cabo\\nde algum tempo, que foi breve, perguntei quem era e como se chamava: curiosidade\\nde delírio.\\n\\n\\x97 Chama-me Natureza ou Pandora;\\nsou tua mãe e tua inimiga.\\n\\nAo ouvir esta última palavra,\\nrecuei um pouco, tomado de susto. A figura soltou uma gargalhada, que produziu\\nem torno de nós o efeito de um tufão; as plantas torceram-se e um longo gemido\\nquebrou a mudez das coisas externas.\\n\\n\\x97 Não te assustes, disse ela,\\nminha inimizade não mata; é sobretudo pela vida que se afirma. Vives; não quero\\noutro flagelo.\\n\\n\\x97 Vivo? perguntei eu, enterrando\\nas unhas nas mãos, como para certificar-me da existência.\\n\\n\\x97 Sim, verme, tu vives. Não\\nreceies perder esse andrajo que é teu orgulho; provarás ainda, por algumas\\nhoras, o pão da dor e o vinho da miséria. Vives: agora mesmo que ensandeceste,\\nvives; e se a tua consciência reouver um instante de sagacidade, tu dirás que\\nqueres viver.\\n\\nDizendo isto, a visão estendeu o\\nbraço, segurou-me pelos cabelos e levantou-me ao ar, como se fora uma pluma. Só\\nentão pude ver-lhe de perto o rosto, que era enorme. Nada mais quieto; nenhuma\\ncontorção violenta, nenhuma expressão de ódio ou ferocidade; a feição única,\\ngeral, completa, era a da impassibilidade egoísta, a da eterna surdez, a da\\nvontade imóvel. Raivas, se as tinha, ficavam encerradas no coração. Ao mesmo\\ntempo, nesse rosto de expressão glacial, havia um ar de juventude, mescla de\\nforça e viço, diante do qual me sentia eu o mais débil e decrépito dos seres.\\n\\n\\x97 Entendeste-me? disse ela, no fim\\nde algum tempo de mútua contemplação.\\n\\n\\x97 Não, respondi; nem quero\\nentender-te; tu és absurda, tu és uma fábula. Estou sonhando, decerto, ou, se é\\nverdade, que enlouqueci, tu não passas de uma concepção de alienado, isto é, uma\\ncoisa vã, que a razão ausente não pode reger nem palpar. Natureza, tu? a\\nNatureza que eu conheço é só mãe e não inimiga; não faz da vida um flagelo, nem,\\ncomo tu, traz esse rosto indiferente, como o sepulcro. E por que Pandora?\\n\\n\\x97 Porque levo na minha bolsa os\\nbens e os males, e o maior de todos, a esperança, consolação dos homens. Tremes?\\n\\n\\x97 Sim; o teu olhar fascina-me.\\n\\n\\x97 Creio; eu não sou somente a\\nvida; sou também a morte, e tu estás prestes a devolver-me o que te emprestei.\\nGrande lascivo, espera-te a voluptuosidade do nada.\\n\\nQuando esta palavra ecoou, como um\\ntrovão, naquele imenso vale, afigurou-se-me que era o último som que chegava a\\nmeus ouvidos; pareceu-me sentir a decomposição súbita de mim mesmo. Então,\\nencarei-a com olhos súplices, e pedi mais alguns anos.\\n\\n\\x97 Pobre minuto! exclamou. Para que\\nqueres tu mais alguns instantes de vida? Para devorar e seres devorado depois?\\nNão estás farto do espetáculo e da luta? Conheces de sobejo tudo o que eu te\\ndeparei menos torpe ou menos aflitivo: o alvor do dia, a melancolia da tarde, a\\nquietação da noite, os aspectos da Terra, o sono, enfim, o maior benefício das\\nminhas mãos. Que mais queres tu, sublime idiota?\\n\\n\\x97 Viver somente, não te peço mais\\nnada. Quem me pôs no coração este amor da vida, senão tu? e, se eu amo a vida,\\npor que te hás de golpear a ti mesma, matando-me?\\n\\n\\x97 Porque já não preciso de ti. Não\\nimporta ao tempo o minuto que passa, mas o minuto que vem. O minuto que vem é\\nforte, jucundo, supõe trazer em si a eternidade, e traz a morte, e perece como o\\noutro, mas o tempo subsiste. Egoísmo, dizes tu? Sim, egoísmo, não tenho outra\\nlei. Egoísmo, conservação. A onça mata o novilho porque o raciocínio da onça é\\nque ela deve viver, e se o novilho é tenro tanto melhor: eis o estatuto\\nuniversal. Sobe e olha.\\n\\nIsto dizendo, arrebatou-me ao alto\\nde uma montanha. Inclinei os olhos a uma das vertentes, e contemplei, durante um\\ntempo largo, ao longe, através de um nevoeiro, uma coisa única. Imagina tu,\\nleitor, uma redução dos séculos, e um desfilar de todos eles, as raças todas,\\ntodas as paixões, o tumulto dos Impérios, a guerra dos apetites e dos ódios, a\\ndestruição recíproca dos seres e das coisas. Tal era o espetáculo, acerbo e\\ncurioso espetáculo. A história do homem e da Terra tinha assim uma intensidade\\nque lhe não podiam dar nem a imaginação nem a ciência, porque a ciência é mais\\nlenta e a imaginação mais vaga, enquanto que o que eu ali via era a condensação\\nviva de todos os tempos. Para descrevê-la seria preciso fixar o relâmpago. Os\\nséculos desfilavam num turbilhão, e, não obstante, porque os olhos do delírio\\nsão outros, eu via tudo o que passava diante de mim,\\x97 flagelos e delícias, \\x97\\ndesde essa coisa que se chama glória até essa outra que se chama miséria, e via\\no amor multiplicando a miséria, e via a miséria agravando a debilidade. Aí\\nvinham a cobiça que devora, a cólera que inflama, a inveja que baba, e a enxada\\ne a pena, úmidas de suor, e a ambição, a fome, a vaidade, a melancolia, a\\nriqueza, o amor, e todos agitavam o homem, como um chocalho, até destruí-lo,\\ncomo um farrapo. Eram as formas várias de um mal, que ora mordia a víscera, ora\\nmordia o pensamento, e passeava eternamente as suas vestes de arlequim, em\\nderredor da espécie humana. A dor cedia alguma vez, mas cedia à indiferença, que\\nera um sono sem sonhos, ou ao prazer, que era uma dor bastarda. Então o homem,\\nflagelado e rebelde, corria diante da fatalidade das coisas, atrás de uma figura\\nnebulosa e esquiva, feita de retalhos, um retalho de impalpável, outro de\\nimprovável, outro de invisível, cosidos todos a ponto precário, com a agulha da\\nimaginação; e essa figura, \\x97 nada menos que a quimera da felicidade, \\x97 ou lhe\\nfugia perpetuamente, ou deixava-se apanhar pela fralda, e o homem a cingia ao\\npeito, e então ela ria, como um escárnio, e sumia-se, como uma ilusão.\\n\\nAo contemplar tanta calamidade,\\nnão pude reter um grito de angústia, que Natureza ou Pandora escutou sem\\nprotestar nem rir; e não sei por que lei de transtorno cerebral, fui eu que me\\npus a rir, \\x97 de um riso descompassado e idiota.\\n\\n\\x97 Tens razão, disse eu, a coisa é\\ndivertida e vale a pena, \\x97 talvez monótona \\x97 mas vale a pena. Quando Jó\\namaldiçoava o dia em que fora concebido, é porque lhe davam ganas de ver cá de\\ncima o espetáculo. Vamos lá, Pandora, abre o ventre, e digere-me; a coisa é\\ndivertida, mas digere-me.\\n\\nA resposta foi compelir-me\\nfortemente a olhar para baixo, e a ver os séculos que continuavam a passar,\\nvelozes e turbulentos, as gerações que se superpunham às gerações, umas tristes,\\ncomo os Hebreus do cativeiro, outras alegres, como os devassos de Cômodo, e\\ntodas elas pontuais na sepultura. Quis fugir, mas uma força misteriosa me\\nretinha os pés; então disse comigo: \\x97 \\x93Bem, os séculos vão passando, chegará o\\nmeu, e passará também, até o último, que me dará a decifração da eternidade.\\x94 E\\nfixei os olhos, e continuei a ver as idades, que vinham chegando e passando, já\\nentão tranqüilo e resoluto, não sei até se alegre. Talvez alegre. Cada século\\ntrazia a sua porção de sombra e de luz, de apatia e de combate, de verdade e de\\nerro, e o seu cortejo de sistemas, de idéias novas, de novas ilusões; cada um\\ndeles rebentavam as verduras de uma primavera, e amareleciam depois, para\\nremoçar mais tarde. Ao passo que a vida tinha assim uma regularidade de\\ncalendário, fazia-se a história e a civilização, e o homem, nu e desarmado,\\narmava-se e vestia-se, construía o tugúrio e o palácio, a rude aldeia e Tebas de\\ncem portas, criava a ciência, que perscruta, e a arte que enleva, fazia-se\\norador, mecânico, filósofo, corria a face do globo, descia ao ventre da Terra,\\nsubia à esfera das nuvens, colaborando assim na obra misteriosa, com que\\nentretinha a necessidade da vida e a melancolia do desamparo. Meu olhar,\\nenfarado e distraído, viu enfim chegar o século presente, e atrás deles os\\nfuturos. Aquele vinha ágil, destro, vibrante, cheio de si, um pouco difuso,\\naudaz, sabedor, mas ao cabo tão miserável como os primeiros, e assim passou e\\nassim passaram os outros, com a mesma rapidez e igual monotonia. Redobrei de\\natenção; fitei a vista; ia enfim ver o último, \\x97 o último!; mas então já a\\nrapidez da marcha era tal, que escapava a toda a compreensão; ao pé dela o\\nrelâmpago seria um século. Talvez por isso entraram os objetos a trocarem-se;\\nuns cresceram, outros minguaram, outros perderam-se no ambiente; um nevoeiro\\ncobriu tudo, \\x97 menos o hipopótamo que ali me trouxera, e que aliás começou a\\ndiminuir, a diminuir, a diminuir, até ficar do tamanho de um gato. Era\\nefetivamente um gato. Encarei-o bem; era o meu gato Sultão, que brincava\\nà porta da alcova, com uma bola de papel...\\n\\nCAPÍTULO VIII / RAZÃO CONTRA\\nSANDICE\\n\\nJá o leitor compreendeu que era a\\nRazão que voltava à casa, e convidava a Sandice a sair, clamando, e com melhor\\njus, as palavras de Tartufo:\\n\\nLa maison est à moi, c'est à vous\\nd'en sortir.\\n\\nMas é sestro antigo da Sandice\\ncriar amor às casas alheias, de modo que, apenas senhora de uma, dificilmente\\nlha farão despejar. É sestro; não se tira daí; há muito que lhe calejou a\\nvergonha. Agora, se advertirmos no imenso número de casas que ocupa, umas de\\nvez, outras durante as suas estações calmosas, concluiremos que esta amável\\nperegrina é o terror dos proprietários. No nosso caso, houve quase um distúrbio\\nà porta do meu cérebro, porque a adventícia não queria entregar a casa, e a dona\\nnão cedia da intenção de tomar o que era seu. Afinal, já a Sandice se contentava\\ncom um cantinho no sótão.\\n\\n\\x97 Não, senhora, replicou a Razão,\\nestou cansada de lhe ceder sótãos, cansada e experimentada, o que você quer é\\npassar mansamente do sótão à sala de jantar, daí à de visitas e ao resto.\\n\\n\\x97 Está bem, deixe-me ficar algum\\ntempo mais, estou na pista de um mistério...\\n\\n\\x97 Que mistério?\\n\\n\\x97 De dois, emendou a Sandice; o da\\nvida e o da morte; peço-lhe só uns dez minutos.\\n\\nA Razão pôs-se a rir.\\n\\n\\x97 Hás de ser sempre a mesma\\ncoisa... sempre a mesma coisa... sempre a mesma coisa...\\n\\nE dizendo isto, travou-lhe dos\\npulsos e arrastou-a para fora; depois entrou e fechou-se. A Sandice ainda gemeu\\nalgumas súplicas, grunhiu algumas zangas; mas desenganou-se depressa, deitou a\\nlíngua de fora, em ar de surriada, e foi andando...\\n\\nCAPÍTULO IX /\\nTRANSIÇÃO\\n\\nE vejam agora com que destreza;\\ncom que arte faço eu a maior transição deste livro. Vejam: o meu delírio começou\\nem presença de Virgília; Virgília foi o meu grão pecado da juventude; não há\\njuventude sem meninice; meninice supõe nascimento; e eis aqui como chegamos nós,\\nsem esforço, ao dia 20 de outubro de 1805, em que nasci. Viram? Nenhuma juntura\\naparente, nada que divirta a atenção pausada do leitor: nada. De modo que o\\nlivro fica assim com todas as vantagens do método, sem a rigidez do método. Na\\nverdade, era tempo. Que isto de método, sendo, como é, uma coisa indispensável,\\ntodavia é melhor tê-lo sem gravata nem suspensórios, mas um pouco à fresca e à\\nsolta, como quem não se lhe dá da vizinha fronteira, nem do inspetor de\\nquarteirão. É como a eloqüência, que há uma genuína e vibrante, de uma arte\\nnatural e feiticeira, e outra tesa, engomada e chocha. Vamos ao dia 20 de\\noutubro.\\n\\nCAPÍTULO X / NAQUELE\\nDIA\\n\\nNaquele dia, a árvore dos Cubas\\nbrotou uma graciosa flor. Nasci; recebeu-me nos braços a Pascoela, insigne\\nparteira minhota, que se gabava de ter aberto a porta do mundo a uma geração\\ninteira de fidalgos. Não é impossível que meu pai lhe ouvisse tal declaração;\\ncreio, todavia, que o sentimento paterno é que o induziu a gratificá-la com duas\\nmeias dobras. Lavado e enfaixado, fui desde logo o herói da nossa casa. Cada\\nqual prognosticava a meu respeito o que mais lhe quadrava ao sabor. Meu tio\\nJoão, o antigo oficial de infantaria, achava-me um certo olhar de Bonaparte,\\ncoisa que meu pai não pôde ouvir sem náuseas; meu tio Ildefonso, então simples\\npadre, farejava-me cônego.\\n\\n\\x97 Cônego é o que ele há de ser, e\\nnão digo mais por não parecer orgulho; mas não me admiraria nada se Deus o\\ndestinasse a um bispado... É verdade, um bispado; não é coisa impossível. Que\\ndiz você, mano Bento?\\n\\nMeu pai respondia a todos que eu\\nseria o que Deus quisesse; e alçava-me ao ar, como se intentasse mostrar-me à\\ncidade e ao mundo; perguntava a todos se eu me parecia com ele, se era\\ninteligente, bonito...\\n\\nDigo essas coisas por alto,\\nsegundo as ouvi narrar anos depois; ignoro a mor parte dos pormenores daquele\\nfamoso dia. Sei que a vizinhança veio ou mandou cumprimentar o recém-nascido, e\\nque durante as primeiras semanas muitas foram as visitas em nossa casa. Não\\nhouve cadeirinha que não trabalhasse; aventou-se muita casaca e muito calção. Se\\nnão conto os mimos, os beijos, as admirações, as bênçãos, é porque, se os\\ncontasse, não acabaria mais o capítulo, e é preciso acabá-lo.\\n\\nItem, não posso dizer nada do meu\\nbatizado, porque nada me referiram a tal respeito, a não ser que foi uma das\\nmais galhardas festas do ano seguinte, 1806; batizei-me na igreja de São\\nDomingos, uma terça-feira de março, dia claro, luminoso e puro, sendo padrinhos\\no Coronel Rodrigues de Matos e sua senhora. Um e outro descendiam de velhas\\nfamílias do Norte e honravam deveras o sangue que lhes corria nas veias, outrora\\nderramado na guerra contra Holanda. Cuido que os nomes de ambos foram das\\nprimeiras coisas que aprendi; e certamente os dizia com muita graça, ou revelava\\nalgum talento precoce, porque não havia pessoa estranha diante de quem me não\\nobrigassem a recitá-los.\\n\\n\\x97 Nhonhô, diga a estes senhores\\ncomo é que se chama seu padrinho.\\n\\n\\x97 Meu padrinho? é o Excelentíssimo\\nSenhor Coronel Paulo Vaz Lobo César de Andrade e Sousa Rodrigues de Matos; minha\\nmadrinha é a Excelentíssima Senhora D. Maria Luísa de Macedo Resende e Sousa\\nRodrigues de Matos.\\n\\n\\x97 É muito esperto o seu menino!\\nexclamavam os ouvintes.\\n\\n\\x97 Muito esperto, concordava meu\\npai; e os olhos babavam-se-lhe de orgulho, e ele espalmava a mão sobre a minha\\ncabeça, fitava-me longo tempo, namorado, cheio de si.\\n\\nItem, comecei a andar, não sei bem\\nquando, mas antes do tempo. Talvez por apressar a natureza, obrigavam-me cedo a\\nagarrar às cadeiras, pegavam-me da fralda, davam-me carrinhos de pau. \\x97 Só só,\\nnhonhô, só só, dizia-me a mucama. E eu, atraído pelo chocalho de lata, que minha\\nmãe agitava diante de mim, lá ia para a frente, cai aqui, cai acolá; e andava,\\nprovavelmente mal, mas andava, e fiquei andando.\\n\\nCAPÍTULO XI / O MENINO É PAI DO\\nHOMEM\\n\\nCresci; e nisso é que a família\\nnão interveio; cresci naturalmente, como crescem as magnólias e os gatos. Talvez\\nos gatos são menos matreiros, e com certeza, as magnólias são menos inquietas do\\nque eu era na minha infância. Um poeta dizia que o menino é pai do homem. Se\\nisto é verdade, vejamos alguns lineamentos do menino.\\n\\nDesde os cinco anos merecera eu a\\nalcunha de \\x93menino diabo\\x94; e verdadeiramente não era outra coisa; fui dos mais\\nmalignos do meu tempo, arguto, indiscreto, traquinas e voluntarioso. Por\\nexemplo, um dia quebrei a cabeça de uma escrava, porque me negara uma colher do\\ndoce de coco que estava fazendo, e, não contente com o malefício, deitei um\\npunhado de cinza ao tacho, e, não satisfeito da travessura, fui dizer à minha\\nmãe que a escrava é que estragara o doce \\x93por pirraça\\x94; e eu tinha apenas seis\\nanos. Prudêncio, um moleque de casa, era o meu cavalo de todos os dias; punha as\\nmãos no chão, recebia um cordel nos queixos, à guisa de freio, eu trepava-lhe ao\\ndorso, com uma varinha na mão, fustigava-o, dava mil voltas a um e outro lado, e\\nele obedecia, \\x97 algumas vezes gemendo, \\x97 mas obedecia sem dizer palavra, ou,\\nquando muito, um \\x97 \\x93ai, nhonhô!\\x94 \\x97 ao que eu retorquia: \\x97 \\x93Cala a boca, besta!\\x94\\n\\x97 Esconder os chapéus das visitas, deitar rabos de papel a pessoas graves, puxar\\npelo rabicho das cabeleiras, dar beliscões nos braços das matronas, e outras\\nmuitas façanhas deste jaez, eram mostras de um gênio indócil, mas devo crer que\\neram também expressões de um espírito robusto, porque meu pai tinha-me em grande\\nadmiração; e se às vezes me repreendia, à vista de gente, fazia-o por simples\\nformalidade: em particular dava-me beijos.\\n\\nNão se conclua daqui que eu\\nlevasse todo o resto da minha vida a quebrar a cabeça dos outros nem a\\nesconder-lhes os chapéus; mas opiniático, egoísta e algo contemptor dos homens,\\nisso fui; se não passei o tempo a esconder-lhes os chapéus, alguma vez lhes\\npuxei pelo rabicho das cabeleiras.\\n\\nOutrossim, afeiçoei-me à\\ncontemplação da injustiça humana, inclinei-me a atenuá-la, a explicá-la, a\\nclassifiquei-a por partes, a entendê-la, não segundo um padrão rígido, mas ao\\nsabor das circunstâncias e lugares. Minha mãe doutrinava-me a seu modo, fazia-me\\ndecorar alguns preceitos e orações; mas eu sentia que, mais do que as orações,\\nme governavam os nervos e o sangue, e a boa regra perdia o espírito, que a faz\\nviver, para se tornar uma vã fórmula. De manhã, antes do mingau, e de noite,\\nantes da cama, pedia a Deus que me perdoasse, assim como eu perdoava aos meus\\ndevedores; mas entre a manhã e a noite fazia uma grande maldade, e meu pai,\\npassado o alvoroço, dava-me pancadinhas na cara, e exclamava a rir: Ah!\\nbrejeiro! ah! brejeiro!\\n\\nSim, meu pai adorava-me. Minha mãe\\nera uma senhora fraca, de pouco cérebro e muito coração, assaz crédula,\\nsinceramente piedosa, \\x97 caseira, apesar de bonita, e modesta, apesar de\\nabastada; temente às trovoadas e ao marido. O marido era na Terra o seu deus. Da\\ncolaboração dessas duas criaturas nasceu a minha educação, que, se tinha alguma\\ncoisa boa, era no geral viciosa, incompleta, e, em partes, negativa. Meu tio\\ncônego fazia às vezes alguns reparos ao irmão; dizia-lhe que ele me dava mais\\nliberdade do que ensino, e mais afeição do que emenda; mas meu pai respondia que\\naplicava na minha educação um sistema inteiramente superior ao sistema usado; e\\npor este modo, sem confundir o irmão, iludia-se a si próprio.\\n\\nDe envolta com a transmissão e a\\neducação, houve ainda o exemplo estranho, o meio doméstico. Vimos os pais;\\nvejamos os tios. Um deles, o João, era um homem de língua solta, vida galante,\\nconversa picaresca. Desde os onze anos entrou a admitir-me às anedotas reais ou\\nnão, eivadas todas de obscenidade ou imundície. Não me respeitava a\\nadolescência, como não respeitava a batina do irmão; com a diferença que este\\nfugia logo que ele enveredava por assunto escabroso. Eu não; deixava-me estar,\\nsem entender nada, a princípio, depois entendendo, e enfim achando-lhe graça. No\\nfim de certo tempo, quem o procurava era eu; e ele gostava muito de mim, dava-me\\ndoces, levava-me a passeio. Em casa, quando lá ia passar alguns dias, não poucas\\nvezes me aconteceu achá-lo, no fundo da chácara, no lavadouro, a palestrar com\\nas escravas que batiam roupa; aí é que era um desfiar de anedotas, de ditos, de\\nperguntas, e um estalar de risadas, que ninguém podia ouvir, porque o lavadouro\\nficava muito longe de casa. As pretas, com uma tanga no ventre, a arregaçar-lhes\\num palmo dos vestidos, umas dentro do tanque, outras fora, inclinadas sobre as\\npeças de roupa, a batê-las, a ensaboá-las, a torcê-las, iam ouvindo e\\nredargüindo às pilhérias do tio João, e a comentá-las de quando em quando com\\nesta palavra:\\n\\n\\x97 Cruz, diabo!... Este sinhô João\\né o diabo!\\n\\nBem diferente era o tio cônego.\\nEsse tinha muita austeridade e pureza; tais dotes, contudo, não realçavam um\\nespírito superior, apenas compensavam um espírito medíocre. Não era homem que\\nvisse a parte substancial da igreja; via o lado externo, a hierarquia, as\\npreeminências, as sobrepelizes, as circunflexões. Vinha antes da sacristia que\\ndo altar. Uma lacuna no ritual excitava-o mais do que uma infração dos\\nmandamentos. Agora, a tantos anos de distância, não estou certo se ele poderia\\natinar facilmente com um trecho de Tertuliano, ou expor, sem titubear, a\\nhistória do símbolo de Nicéia; mas ninguém, nas festas cantadas, sabia melhor o\\nnúmero e casos das cortesias que se deviam ao oficiante. Cônego foi a única\\nambição de sua vida; e dizia de coração que era a maior dignidade a que podia\\naspirar. Piedoso, severo nos costumes, minucioso na observância das regras,\\nfrouxo, acanhado, subalterno, possuía algumas virtudes, em que era exemplar, mas\\ncarecia absolutamente da força de as incutir, de as impor aos outros.\\n\\nNão digo nada de minha tia\\nmaterna, D. Emerenciana, e aliás era a pessoa que mais autoridade tinha sobre\\nmim; essa diferençava-se grandemente dos outros; mas viveu pouco tempo em nossa\\ncompanhia, uns dois anos. Outros parentes e alguns íntimos não merecem a pena de\\nser citados; não tivemos uma vida comum, mas intermitente, com grandes claros de\\nseparação. O que importa é a expressão geral do meio doméstico, e essa aí fica\\nindicada, \\x97 vulgaridade de caracteres, amor das aparências rutilantes, do\\narruído, frouxidão da vontade, domínio do capricho, e o mais. Dessa terra e\\ndesse estrume é que nasceu esta flor.\\n\\nCAPÍTULO XII / UM EPISÓDIO DE\\n1814\\n\\nMas eu não quero passar adiante,\\nsem contar sumariamente um galante episódio de 1814; tinha nove anos.\\n\\nNapoleão, quando eu nasci, estava\\njá em todo o esplendor da glória e do poder; era imperador e granjeara\\ninteiramente a admiração dos homens. Meu pai, que à força de persuadir os outros\\nda nossa nobreza, acabara persuadindo-se a si próprio, nutria contra ele um ódio\\npuramente mental. Era isso motivo de renhidas contendas em nossa casa, porque\\nmeu tio João, não sei se por espírito de classe e simpatia de ofício, perdoava\\nno déspota o que admirava no general, meu tio padre era inflexível contra o\\ncorso; os outros parentes dividiam-se: daí as controvérsias e as rusgas.\\n\\nChegando ao Rio de Janeiro a\\nnotícia da primeira queda de Napoleão, houve naturalmente grande abalo em nossa\\ncasa, mas nenhum chasco ou remoque. Os vencidos, testemunhas do regozijo\\npúblico, julgaram mais decoroso o silêncio; alguns foram além e bateram palmas.\\nA população, cordialmente alegre, não regateou demonstrações de afeto à real\\nfamília; houve iluminações, salvas, Te-Deum, cortejo e aclamações.\\nFigurei nesses dias com um espadim novo, que meu padrinho me dera no dia de\\nSanto Antônio; e, francamente, interessava-me mais o espadim do que a queda de\\nBonaparte. Nunca me esqueceu esse fenômeno. Nunca mais deixei de pensar comigo\\nque o nosso espadim é sempre maior do que a espada de Napoleão. E notem que eu\\nouvi muito discurso, quando era vivo, li muita página rumorosa de grandes idéias\\ne maiores palavras, mas não sei por que, no fundo dos aplausos que me arrancavam\\nda boca, lá ecoava alguma vez este conceito de experimentado:\\n\\n\\x97 Vai-te embora, tu só cuidas do\\nespadim.\\n\\nNão se contentou a minha família\\nem ter um quinhão anônimo no regozijo público; entendeu oportuno e indispensável\\ncelebrar a destituição do imperador com um jantar, e tal jantar que o ruído das\\naclamações chegasse aos ouvidos de Sua Alteza, ou quando menos, de seus\\nministros. Dito e feito. Veio abaixo toda a velha prataria, herdada do meu avô\\nLuís Cubas; vieram as toalhas de Flandres, as grandes jarras da Índia; matou-se\\num capado; encomendaram-se às madres da Ajuda as compotas e as marmeladas;\\nlavaram-se, arearam-se, poliram-se as salas, escadas, castiçais, arandelas, as\\nvastas mangas de vidro, todos os aparelhos do luxo clássico.\\n\\nDada a hora, achou-se reunida uma\\nsociedade seleta: o juiz-de-fora, três ou quatro oficiais militares, alguns\\ncomerciantes e letrados, vários funcionários da administração, uns com suas\\nmulheres e filhas, outros sem elas, mas todos comungando no desejo de atolar a\\nmemória de Bonaparte no papo de um peru. Não era um jantar, mas um\\nTe-Deum; foi o que pouco mais ou menos disse um dos letrados presentes, o\\nDr. Vilaça, glosador insigne, que acrescentou aos pratos de casa o acepipe das\\nmusas. Lembra-me, como se fosse ontem, lembra-me de o ver erguer-se, com a sua\\nlonga cabeleira de rabicho, casaca de seda, uma esmeralda no dedo, pedir a meu\\ntio padre que lhe repetisse o mote, e, repetido o mote, cravar os olhos na testa\\nde uma senhora, depois tossir, alçar a mão direita, toda fechada, menos o dedo\\níndice, que apontava para o teto; e, assim posto e composto, devolver o mote\\nglosado. Não fez uma glosa, mas três; depois jurou aos seus deuses não acabar\\nmais. Pedia um mote, davam-lho, ele glosava-o prontamente, e logo pedia outro e\\nmais outro; a tal ponto que uma das senhoras presentes não pôde calar a sua\\ngrande admiração.\\n\\n\\x97 A senhora diz isso, retorquia\\nmodestamente o Vilaça, porque nunca ouviu o Bocage, como eu ouvi, no fim do\\nséculo, em Lisboa. Aquilo sim! que facilidade! e que versos! Tivemos lutas de\\numa e duas horas, no botequim do Nicola, a glosarmos, no meio de palmas e\\nbravos. Imenso talento o do Bocage! Era o que me dizia, há dias, a senhora\\nDuquesa de Cadaval...\\n\\nE estas três palavras últimas,\\nexpressas com muita ênfase, produziram em toda a assembléia um frêmito de\\nadmiração e pasmo. Pois esse homem tão dado, tão simples, além de pleitear com\\npoetas, discreteava com duquesas! Um Bocage e uma Cadaval! Ao contato de tal\\nhomem, as damas sentiam-se superfinas; os varões olhavam-no com respeito, alguns\\ncom inveja, não raros com incredulidade. Ele, entretanto, ia caminho, a acumular\\nadjetivo sobre adjetivo, advérbio sobre advérbio, a desfiar todas as rimas de\\ntirano e de usurpador. Era à sobremesa; ninguém já pensava em\\ncomer. No intervalo das glosas, corria um burburinho alegre, um palavrear de\\nestômagos satisfeitos; os olhos moles e úmidos, ou vivos e cálidos,\\nespreguiçavam-se ou saltitavam de uma ponta à outra da mesa, atulhada de doces e\\nfrutas, aqui o ananás em fatias, ali o melão em talhadas, as compoteiras de\\ncristal deixando ver o doce de coco, finamente ralado, amarelo como uma gema, \\x97\\nou então o melado escuro e grosso, não longe do queijo e do cará. De quando em\\nquando um riso jovial, amplo, desabotoado, um riso de família, vinha quebrar a\\ngravidade política do banquete. No meio do interesse grande e comum, agitavam-se\\ntambém os pequenos e particulares. As moças falavam das modinhas que haviam de\\ncantar ao cravo, e do minuete e do solo inglês; nem faltava matrona que\\nprometesse bailar um oitavado de compasso, só para mostrar como folgara nos seus\\nbons tempos de criança. Um sujeito, ao pé de mim, dava a outro notícia recente\\ndos negros novos, que estavam a vir, segundo cartas que recebera de Loanda, uma\\ncarta em que o sobrinho lhe dizia ter já negociado cerca de quarenta cabeças, e\\noutra carta em que... Trazia-as justamente na algibeira, mas não as podia ler\\nnaquela ocasião. O que afiançava é que podíamos contar, só nessa viagem, uns\\ncento e vinte negros, pelo menos.\\n\\n\\x97 Trás... trás... trás... fazia o\\nVilaça batendo com as mãos uma na outra. O rumor cessava de súbito, como um\\nestacado de orquestra, e todos os olhos se voltavam para o glosador. Quem ficava\\nlonge aconcheava a mão atrás da orelha para não perder palavra; a mor parte,\\nantes mesmo da glosa, tinha já um meio riso de aplauso, trivial e cândido.\\n\\nQuanto a mim, lá estava, solitário\\ne deslembrado, a namorar certa compota da minha paixão. No fim de cada glosa\\nficava muito contente, esperando que fosse a última, mas não era, e a sobremesa\\ncontinuava intata. Ninguém se lembrava de dar a primeira voz. Meu pai, à\\ncabeceira, saboreava a goles extensos a alegria dos convivas, mirava-se todo nos\\ncarões alegres, nos pratos, nas flores, deliciava-se com a familiaridade travada\\nentre os mais distantes espíritos, influxo de um bom jantar. Eu via isso, porque\\narrastava os olhos da compota para ele e dele para a compota, como a pedir-lhe\\nque ma servisse; mas fazia-o em vão. Ele não via nada; via-se a si mesmo. E as\\nglosas sucediam-se, como bátegas d'água, obrigando-me a recolher o desejo e o\\npedido. Pacientei quanto pude; e não pude muito. Pedi em voz baixa o doce;\\nenfim, bradei, berrei, bati com os pés. Meu pai, que seria capaz de me dar o\\nsol, se eu lho exigisse, chamou um escravo para me servir o doce; mas era tarde.\\nA tia Emerenciana arrancara-me da cadeira e entregara-me a uma escrava, não\\nobstante os meus gritos e repelões.\\n\\nNão foi outro o delito do\\nglosador: retardara a compota e dera causa à minha exclusão. Tanto bastou para\\nque eu cogitasse uma vingança, qualquer que fosse, mas grande e exemplar, coisa\\nque de alguma maneira o tornasse ridículo. Que ele era um homem grave o Dr.\\nVilaça, medido e lento, quarenta e sete anos, casado e pai. Não me contentava o\\nrabo de papel nem o rabicho da cabeleira; havia de ser coisa pior. Entrei a\\nespreitá-lo, durante o resto da tarde, a segui-lo, na chácara, aonde todos\\ndesceram a passear. Vi-o conversar com D. Eusébia, irmã do sargento-mor\\nDomingues, uma robusta donzelona, que se não era bonita, também não era feia.\\n\\n\\x97 Estou muito zangada com o\\nsenhor, dizia ela.\\n\\n\\x97 Por quê?\\n\\n\\x97 Porque... não sei por quê...\\nporque é a minha sina... creio às vezes que é melhor morrer.\\n\\nTinham penetrado numa pequena\\nmoita; era lusco-fusco; eu segui-os. O Vilaça levava nos olhos umas chispas de\\nvinho e de volúpia.\\n\\n\\x97 Deixe-me! disse ela.\\n\\n\\x97 Ninguém nos vê. Morrer, meu\\nanjo? Que idéias são essas! Você sabe que eu morrerei também... que digo?...\\nmorro todos os dias, de paixão, de saudades...\\n\\nD. Eusébia levou o lenço aos\\nolhos. O glosador vasculhava na memória algum pedaço literário e achou este, que\\nmais tarde verifiquei ser de uma das óperas do Judeu:\\n\\n\\x97 Não chores, meu bem; não queiras\\nque o dia amanheça com duas auroras.\\n\\nDisse isto; puxou-a para si; ela\\nresistiu um pouco, mas deixou-se ir; uniram os rostos, e eu ouvi estalar, muito\\nao de leve, um beijo, o mais medroso dos beijos.\\n\\n\\x97 O Dr. Vilaça deu um beijo em D.\\nEusébia! bradei eu correndo pela chácara.\\n\\nFoi um estouro esta minha palavra;\\na estupefação imobilizou a todos; os olhos espraiavam-se a uma e outra banda;\\ntrocavam-se sorrisos, segredos, à socapa, as mães arrastavam as filhas,\\npretextando o sereno. Meu pai puxou-me as orelhas, disfarçadamente, irritado\\ndeveras com a indiscrição; mas no dia seguinte, ao almoço, lembrando o caso,\\nsacudiu-me o nariz a rir: Ah! brejeiro! ah! brejeiro!\\n\\nCAPÍTULO XIII / UM\\nSALTO\\n\\nUnamos agora os pés e demos um\\nsalto por cima da escola, a enfadonha escola, onde aprendi a ler, escrever,\\ncontar, dar cacholetas, apanhá-las, e ir fazer diabruras, ora nos morros, ora\\nnas praias, onde quer que fosse propício a ociosos.\\n\\nTinha amarguras esse tempo; tinha\\nos ralhos, os castigos, as lições árduas e longas, e pouco mais, muito pouco e\\nmuito leve. Só era pesada, a palmatória, e ainda assim... Ó palmatória, terror\\ndos meus dias pueris, tu que foste o compelle intrare com que um velho\\nmestre, ossudo e calvo, me incutiu no cérebro o alfabeto, a prosódia, a sintaxe,\\ne o mais que ele sabia, benta palmatória, tão praguejada dos modernos, quem me\\ndera ter ficado sob o teu jugo, com a minha alma imberbe, as minhas ignorâncias,\\ne o meu espadim, aquele espadim de 1814, tão superior à espada de Napoleão! Que\\nquerias tu, afinal, meu velho mestre de primeiras letras? Lição de cor e\\ncompostura na aula; nada mais, nada menos do que quer a vida, que é das últimas\\nletras; com a diferença que tu, se me metias medo, nunca me meteste zanga.\\nVejo-te ainda agora entrar na sala, com as tuas chinelas de couro branco,\\ncapote, lenço na mão, calva à mostra, barba rapada; vejo-te sentar, bufar,\\ngrunhir, absorver uma pitada inicial, e chamar-nos depois à lição. E fizeste\\nisto durante vinte e três anos, calado, obscuro, pontual, metido numa casinha da\\nRua do Piolho, sem enfadar o mundo com a tua mediocridade, até que um dia deste\\no grande mergulho nas trevas, e ninguém te chorou, salvo um preto velho, \\x97\\nninguém, nem eu, que te devo os rudimentos da escrita.\\n\\nChamava-se Ludgero o mestre; quero\\nescrever-lhe o nome todo nesta página: Ludgero Barata, \\x97 um nome funesto, que\\nservia aos meninos de eterno mote a chufas. Um de nós, o Quincas Borba, esse\\nentão era cruel com o pobre homem. Duas, três vezes por semana, havia de lhe\\ndeixar na algibeira das calças, \\x97 umas largas calças de enfiar \\x97, ou na gaveta\\nda mesa, ou ao pé do tinteiro, uma barata morta. Se ele a encontrava ainda nas\\nhoras da aula, dava um pulo, circulava os olhos chamejantes, dizia-nos os\\núltimos nomes: éramos sevandijas, capadócios, malcriados, moleques. \\x97 Uns\\ntremiam, outros rosnavam; o Quincas Borba, porém, deixava-se estar quieto, com\\nos olhos espetados no ar.\\n\\nUma flor, o Quincas Borba. Nunca\\nem minha infância, nunca em toda a minha vida, achei um menino mais gracioso,\\ninventivo e travesso. Era a flor, e não já da escola, senão de toda a cidade. A\\nmãe, viúva, com alguma coisa de seu, adorava o filho e trazia-o amimado,\\nasseado, enfeitado, com um vistoso pajem atrás, um pajem que nos deixava gazear\\na escola, ir caçar ninhos de pássaros, ou perseguir lagartixas nos morros do\\nLivramento e da Conceição, ou simplesmente arruar, à toa, como dois peraltas sem\\nemprego. E de imperador! Era um gosto ver o Quincas Borba fazer de imperador nas\\nfestas do Espírito Santo. De resto, nos nossos jogos pueris, ele escolhia sempre\\num papel de rei, ministro, general, uma supremacia, qualquer que fosse. Tinha\\ngarbo o traquinas, e gravidade, certa magnificência nas atitudes, nos meneios.\\nQuem diria que... Suspendamos a pena; não adiantemos os sucessos. Vamos de um\\nsalto a 1822, data da nossa independência política, e do meu primeiro cativeiro\\npessoal.\\n\\nCAPÍTULO XIV / O PRIMEIRO\\nBEIJO\\n\\nTinha dezessete anos; pungia-me um\\nbuçozinho que eu forcejava por trazer a bigode. Os olhos, vivos e resolutos,\\neram a minha feição verdadeiramente máscula. Como ostentasse certa arrogância,\\nnão se distinguia bem se era uma criança, com fumos de homem, se um homem com\\nares de menino. Ao cabo, era um lindo garção, lindo e audaz, que entrava na vida\\nde botas e esporas, chicote na mão e sangue nas veias, cavalgando um corcel\\nnervoso, rijo, veloz, como o corcel das antigas baladas, que o romantismo foi\\nbuscar ao castelo medieval, para dar com ele nas ruas do nosso século. O pior é\\nque o estafaram a tal ponto, que foi preciso deitá-lo à margem, onde o realismo\\no veio achar, comido de lazeira e vermes, e, por compaixão, o transportou para\\nos seus livros.\\n\\nSim, eu era esse garção bonito,\\nairoso, abastado; e facilmente se imagina que mais de uma dama inclinou diante\\nde mim a fronte pensativa, ou levantou para mim os olhos cobiçosos. De todas\\nporém a que me cativou logo foi uma... uma... não sei se diga; este livro é\\ncasto, ao menos na intenção; na intenção é castíssimo. Mas vá lá; ou se há de\\ndizer tudo ou nada. A que me cativou foi uma dama espanhola, Marcela, a \\x93linda\\nMarcela\\x94, como lhe chamavam os rapazes do tempo. E tinham razão os rapazes. Era\\nfilha de um hortelão das Astúrias; disse-mo ela mesma, num dia de sinceridade,\\nporque a opinião aceita é que nascera de um letrado de Madri, vítima da invasão\\nfrancesa, ferido, encarcerado, espingardeado, quando ela tinha apenas doze anos.\\n\\nCosas de España. Quem quer que fosse,\\nporém, o pai, letrado ou hortelão, a verdade é que Marcela não possuía a\\ninocência rústica, e mal chegava a entender a moral do código. Era boa moça,\\nlépida, sem escrúpulos, um pouco tolhida pela austeridade do tempo, que lhe não\\npermitia arrastar pelas ruas os seus estouvamentos e berlindas; luxuosa,\\nimpaciente, amiga de dinheiro e de rapazes. Naquele ano, morria de amores por um\\ncerto Xavier, sujeito abastado e tísico, \\x97 uma pérola.\\n\\nVi-a pela primeira vez, no Rocio\\nGrande, na noite das luminárias, logo que constou a declaração da independência,\\numa festa de primavera, um amanhecer da alma pública. Éramos dois rapazes, o\\npovo e eu; vínhamos da infância, com todos os arrebatamentos da juventude. Vi-a\\nsair de uma cadeirinha, airosa e vistosa, um corpo esbelto, ondulante, um\\ndesgarre, alguma coisa que nunca achara nas mulheres puras. \\x97 Segue-me, disse\\nela ao pajem. E eu segui-a, tão pajem como o outro, como se a ordem me fosse\\ndada, deixei-me ir namorado, vibrante, cheio das primeiras auroras. A meio\\ncaminho, chamaram-lhe \\x93linda Marcela\\x94, lembrou-me que ouvira tal nome a meu tio\\nJoão, e fiquei, confesso que fiquei tonto.\\n\\nTrês dias depois perguntou-me meu\\ntio, em segredo, se queria ir a uma ceia de moças, nos Cajueiros. Fomos; era em\\ncasa de Marcela. O Xavier, com todos os seus tubérculos, presidia ao banquete\\nnoturno, em que eu pouco ou nada comi, porque só tinha olhos para a dona da\\ncasa. Que gentil que estava a espanhola! Havia mais uma meia dúzia de mulheres,\\n\\x97 todas de partido \\x97, e bonitas, cheias de graça, mas a espanhola... O\\nentusiasmo, alguns goles de vinho, o gênio imperioso, estouvado, tudo isso me\\nlevou a fazer uma coisa única; à saída, à porta da rua, disse a meu tio que\\nesperasse um instante, e tornei a subir as escadas.\\n\\n\\x97 Esqueceu alguma coisa? perguntou\\nMarcela de pé, no patamar.\\n\\n\\x97 O lenço.\\n\\nEla ia abrir-me caminho para\\ntornar à sala; eu segurei-lhe nas mãos, puxei-a para mim, e dei-lhe um beijo.\\nNão sei se ela disse alguma coisa, se gritou, se chamou alguém; não sei nada;\\nsei que desci outra vez as escadas, veloz como um tufão, e incerto como um\\nébrio.\\n\\nCAPÍTULO XV /\\nMARCELA\\n\\nGastei trinta dias para ir do\\nRocio Grande ao coração de Marcela, não já cavalgando o corcel do cego desejo,\\nmas o asno da paciência, a um tempo manhoso e teimoso. Que, em verdade, há dois\\nmeios de granjear a vontade das mulheres: o violento, como o touro de Europa, e\\no insinuativo, como o cisne de Leda e a chuva de ouro de Danae, três inventos do\\nPadre Zeus, que, por estarem fora da moda, aí ficam trocados no cavalo e no\\nasno. Não direi as traças que urdi, nem as peitas, nem as alternativas de\\nconfiança e temor, nem as esperas baldadas, nem nenhuma outra dessas coisas\\npreliminares. Afirmo-lhes que o asno foi digno do corcel, \\x97 um asno de Sancho,\\ndeveras filósofo, que me levou à casa dela, no fim do citado período; apeei-me,\\nbati-lhe na anca e mandei-o pastar.\\n\\nPrimeira comoção da minha\\njuventude, que doce que me foste! Tal devia ser, na criação bíblica, o efeito do primeiro sol.\\nImagina tu esse efeito do primeiro sol, a bater de chapa na face de um mundo em\\nflor. Pois foi a mesma coisa, leitor amigo, e se alguma vez contaste dezoito\\nanos, deves lembrar-te que foi assim mesmo.\\n\\nTeve duas fases a nossa paixão, ou\\nligação, ou qualquer outro nome, que eu de nomes não curo, teve a fase consular\\ne a fase imperial. Na primeira, que foi curta, regemos o Xavier e eu, sem que\\nele jamais acreditasse dividir comigo o governo de Roma; mas, quando a\\ncredulidade não pôde resistir à evidência, o Xavier depôs as insígnias, e eu\\nconcentrei todos os poderes na minha mão; foi a fase cesariana. Era meu o\\nuniverso; mas, ai triste! não o era de graça. Foi-me preciso coligir dinheiro,\\nmultiplicá-lo, inventá-lo. Primeiro explorei as larguezas de meu pai; ele\\ndava-me tudo o que eu lhe pedia, sem repreensão, sem demora, sem frieza; dizia a\\ntodos que eu era rapaz e que ele o fora também. Mas a tal extremo chegou o\\nabuso, que ele restringiu um pouco as franquezas, depois mais, depois mais.\\nEntão recorri a minha mãe, e induzi-a a desviar alguma coisa, que me dava às\\nescondidas. Era pouco; lancei mão de um recurso último: entrei a sacar sobre a\\nherança de meu pai, a assinar obrigações, que devia resgatar um dia com usura.\\n\\n\\x97 Em verdade, dizia-me Marcela,\\nquando eu lhe levava alguma seda, alguma jóia: em verdade, você quer brigar\\ncomigo... Pois isto é coisa que se faça... um presente tão caro...\\n\\nE, se era jóia, dizia isto a\\ncontemplá-la entre os dedos, a procurar melhor luz, a ensaiá-la em si, e a rir,\\ne a beijar-me com uma reincidência impetuosa e sincera; mas, protestando,\\nderramava-se-lhe a felicidade dos olhos, e eu sentia-me feliz com vê-la assim.\\nGostava muito das nossas antigas dobras de ouro, e eu levava-lhe quantas podia\\nobter; Marcela juntava-as todas dentro de uma caixinha de ferro, cuja chave\\nninguém nunca jamais soube onde ficava; escondia-a por medo dos escravos. A casa\\nem que morava, nos Cajueiros, era própria. Eram sólidos e bons os móveis, de\\njacarandá lavrado, e todas as demais alfaias, espelhos, jarras, baixela, \\x97 uma\\nlinda baixela da Índia, que lhe doara um desembargador. Baixela do diabo,\\ndeste-me grandes repelões aos nervos. Disse-o muita vez à própria dona; não lhe\\ndissimulava o tédio que me faziam esses e outros despojos dos seus amores de\\nantanho. Ela ouvia-me e ria, com uma expressão cândida, \\x97 cândida e outra coisa,\\nque eu nesse tempo não entendia bem; mas agora, relembrando o caso, penso que\\nera um riso misto, como devia ter a criatura que nascesse, por exemplo, de uma\\nbruxa de Shakespeare com um serafim de Klopstock. Não sei se me explico. E\\nporque tinha notícia dos meus zelos tardios, parece que gostava de os açular\\nmais. Assim foi que um dia, como eu lhe não pudesse dar certo colar, que ela\\nvira num joalheiro, retorquiu-me que era um simples gracejo, que o nosso amor\\nnão precisava de tão vulgar estímulo.\\n\\n\\x97 Não lhe perdôo, se você fizer de\\nmim essa triste idéia, concluiu ameaçando-me com o dedo.\\n\\nE logo, súbita como um passarinho,\\nespalmou as mãos, cingiu-me com elas o rosto, puxou-me a si e fez um trejeito\\ngracioso, um momo de criança. Depois, reclinada na marquesa, continuou a falar\\ndaquilo, com simplicidade e franqueza. Jamais consentiria que lhe comprassem os\\nafetos. Vendera muita vez as aparências, mas a realidade, guardava-a para\\npoucos. Duarte, por exemplo, o alferes Duarte, que ela amara deveras, dois anos\\nantes, só a custo conseguia dar-lhe alguma coisa de valor, como me acontecia a\\nmim; ela só lhe aceitava sem relutância os mimos de escasso preço, como a cruz\\nde ouro, que lhe deu, uma vez, de festas.\\n\\n\\x97 Esta cruz...\\n\\nDizia isto, metendo a mão no seio\\ne tirando uma cruz fina, de ouro, presa a uma fita azul e pendurada ao colo.\\n\\n\\x97 Mas essa cruz, observei eu, não\\nme disseste que era teu pai que...\\n\\nMarcela abanou a cabeça com um ar\\nde lástima:\\n\\n\\x97 Não percebeste que era mentira,\\nque eu dizia isso para te não molestar? Vem cá, chiquito, não sejas assim\\ndesconfiado comigo... Amei a outro; que importa, se acabou? Um dia, quando nos\\nsepararmos...\\n\\n\\x97 Não digas isso! bradei eu.\\n\\n\\x97 Tudo cessa! Um dia...\\n\\nNão pôde acabar; um soluço\\nestrangulou-lhe a voz; estendeu as mãos, tomou das minhas, conchegou-me ao seio,\\ne sussurrou-me baixo ao ouvido: \\x97 Nunca, nunca, meu amor! Eu agradeci-lho com os\\nolhos úmidos. No dia seguinte levei-lhe o colar que havia recusado.\\n\\n\\x97 Para te lembrares de mim, quando\\nnos separarmos, disse eu.\\n\\nMarcela teve primeiro um silêncio\\nindignado; depois fez um gesto magnífico: tentou atirar o colar à rua. Eu\\nretive-lhe o braço; pedi-lhe muito que não me fizesse tal desfeita, que ficasse\\ncom a jóia. Sorriu e ficou.\\n\\nEntretanto, pagava-me à farta os\\nsacrifícios; espreitava os meus mais recônditos pensamentos; não havia desejo a\\nque não acudisse com alma, sem esforço, por uma espécie de lei da consciência e\\nnecessidade do coração. Nunca o desejo era razoável, mas um capricho puro, uma\\ncriancice, vê-la trajar de certo modo, com tais e tais enfeites, este vestido e\\nnão aquele, ir a passeio ou outra coisa assim, e ela cedia a tudo, risonha e\\npalreira.\\n\\n\\x97 Você é das Arábias, dizia-me.\\n\\nE ia a pôr o vestido, a renda, os\\nbrincos, com uma obediência de encantar.\\n\\nCAPÍTULO XVI / UMA REFLEXÃO\\nIMORAL\\n\\nOcorre-me uma reflexão imoral, que\\né ao mesmo tempo uma correção de estilo. Cuido haver dito, no capítulo XIV, que\\nMarcela morria de amores pelo Xavier. Não morria, vivia. Viver não é a mesma\\ncoisa que morrer; assim o afirmam todos os joalheiros deste mundo, gente muito\\nvista na gramática. Bons joalheiros, que seria do amor se não fossem os vossos\\ndixes e fiados? Um terço ou um quinto do universal comércio dos corações. Esta é\\na reflexão imoral que eu pretendia fazer, a qual é ainda mais obscura do que\\nimoral, porque não se entende bem o que eu quero dizer. O que eu quero dizer é\\nque a mais bela testa do mundo não fica menos bela, se a cingir um diadema de\\npedras finas; nem menos bela, nem menos amada. Marcela, por exemplo, que era bem\\nbonita, Marcela amou-me...\\n\\nCAPÍTULO XVII / DO TRAPÉZIO E\\nOUTRAS COISAS\\n\\n...Marcela amou-me durante quinze\\nmeses e onze contos de réis; nada menos. Meu pai, logo que teve aragem dos onze\\ncontos, sobressaltou-se deveras; achou que o caso excedia as raias de um\\ncapricho juvenil.\\n\\n\\x97 Desta vez, disse ele, vais para\\na Europa; vais cursar uma Universidade, provavelmente Coimbra; quero-te para\\nhomem sério e não para arruador e gatuno. E como eu fizesse um gesto de espanto:\\n\\x97 Gatuno, sim senhor; não é outra coisa um filho que me faz isto...\\n\\nSacou da algibeira os meus títulos\\nde dívida, já resgatados por ele, e sacudiu-mos na cara. \\x97 Vês, peralta? é assim\\nque um moço deve zelar o nome dos seus? Pensas que eu e meus avós ganhamos o\\ndinheiro em casas de jogo ou a vadiar pelas ruas? Pelintra! Desta vez ou tomas\\njuízo, ou ficas sem coisa nenhuma.\\n\\nEstava furioso, mas de um furor\\ntemperado e curto. Eu ouvi-o calado, e nada opus à ordem da viagem, como de\\noutras vezes fizera; ruminava a idéia de levar Marcela comigo. Fui ter com ela;\\nexpus-lhe a crise e fiz-lhe a proposta. Marcela ouviu-me com os olhos no ar, sem\\nresponder logo; como insistisse, disse-me que ficava, que não podia ir para a\\nEuropa.\\n\\n\\x97 Por que não?\\n\\n\\x97 Não posso, disse ela com ar\\ndolente; não posso ir respirar aqueles ares, enquanto me lembrar de meu pobre\\npai, morto por Napoleão...\\n\\n\\x97 Qual deles: o hortelão ou o\\nadvogado?\\n\\nMarcela franziu a testa,\\ncantarolou uma seguidilha, entre dentes; depois queixou-se do calor, e mandou\\nvir um copo de aluá. Trouxe-lho a mucama, numa salva de prata, que fazia parte\\ndos meus onze contos. Marcela ofereceu-me polidamente o refresco; minha resposta\\nfoi dar com a mão no copo e na salva; entornou-se-lhe o líquido no regaço, a\\npreta deu um grito, eu bradei-lhe que se fosse embora. Ficando a sós, derramei\\ntodo o desespero de meu coração; disse-lhe que ela era um monstro, que jamais me\\ntivera amor, que me deixara descer a tudo, sem ter ao menos a desculpa da\\nsinceridade; chamei-lhe muitos nomes feios, fazendo muitos gestos descompostos.\\nMarcela deixara-se estar sentada, a estalar as unhas nos dentes, fria como um\\npedaço de mármore. Tive ímpetos de a estrangular, de a humilhar ao menos,\\nsubjugando-a a meus pés. Ia talvez fazê-lo; mas a ação trocou-se noutra; fui eu\\nque me atirei aos pés dela, contrito e súplice; beijei-lhos, recordei aqueles\\nmeses da nossa felicidade solitária, repeti-lhe os nomes queridos de outro\\ntempo, sentado no chão, com a cabeça entre os joelhos dela, apertando-lhe muito\\nas mãos; ofegante, desvairado, pedi-lhe com lágrimas que me não desamparasse...\\nMarcela esteve alguns instantes a olhar para mim, calados ambos, até que\\nbrandamente me desviou e, com um ar enfastiado:\\n\\n\\x97 Não me aborreça, disse.\\n\\nLevantou-se, sacudiu o vestido,\\nainda molhado, e caminhou para a alcova. \\x97 Não! bradei eu; não hás de entrar...\\nnão quero... Ia a lançar-lhe as mãos: era tarde; ela entrara e fechara-se.\\n\\nSaí desatinado; gastei duas\\nmortais horas em vaguear pelos bairros mais excêntricos e desertos, onde fosse\\ndifícil dar comigo. Ia mastigando o meu desespero, com uma espécie de gula\\nmórbida; evocava os dias, as horas, os instantes de delírio, e ora me comprazia\\nem crer que eles eram eternos, que tudo aquilo era um pesadelo, ora,\\nenganando-me a mim mesmo, tentava rejeitá-los de mim, como um fardo inútil.\\nEntão resolvia embarcar imediatamente para cortar a minha vida em duas metades,\\ne deleitava-me com a idéia de que Marcela, sabendo da partida, ficaria ralada de\\nsaudades e remorsos. Que ela amara-me a tonta, devia de sentir alguma coisa, uma\\nlembrança qualquer, como do alferes Duarte... Nisto, o dente do ciúme\\nenterrava-se-me no coração; toda a natureza bradava que era preciso levar\\nMarcela comigo.\\n\\n\\x97 Por força... por força... dizia\\neu ferindo o ar com uma punhada.\\n\\nEnfim, tive uma idéia salvadora...\\nAh! trapézio dos meus pecados, trapézio das concepções abstrusas! A idéia\\nsalvadora trabalhou nele, como a do emplasto (capítulo II). Era nada menos que\\nfasciná-la, fasciná-la muito, deslumbrá-la, arrastá-la; lembrou-me pedir-lhe por\\num meio mais concreto do que a súplica. Não medi as conseqüências; recorri a um\\nderradeiro empréstimo; fui à Rua dos Ourives, comprei a melhor jóia da cidade,\\ntrês diamantes grandes encastoados num pente de marfim; corri à casa de Marcela.\\n\\nMarcela estava reclinada numa\\nrede, o gesto mole e cansado, uma das pernas pendentes, a ver-se-lhe o pezinho\\ncalçado de meia de seda, os cabelos soltos, derramados, o olhar quieto e\\nsonolento.\\n\\n\\x97 Vem comigo, disse eu, arranjei\\nrecursos... temos muito dinheiro, terás tudo o que quiseres... Olha, toma.\\n\\nE mostrei-lhe o pente com os\\ndiamantes... Marcela teve um leve sobressalto, ergueu metade do corpo, e,\\napoiada num cotovelo, olhou para o pente durante alguns instantes curtos; depois\\nretirou os olhos; tinha-se dominado. Então, eu lancei-lhe as mãos aos cabelos,\\ncoligi-os, enlacei-os à pressa, improvisei um toucado, sem nenhum alinho, e\\nrematei-o com o pente de diamantes; recuei, tornei a aproximar-me, corrigi-lhe\\nas madeixas, abaixei-as de um lado, busquei alguma simetria naquela desordem,\\ntudo com uma minuciosidade e um carinho de mãe.\\n\\n\\x97 Pronto, disse eu.\\n\\n\\x97 Doudo! foi a sua primeira\\nresposta.\\n\\nA segunda foi puxar-me para si, e\\npagar-me o sacrifício com um beijo, o mais ardente de todos. Depois tirou o\\npente, admirou muito a matéria e o lavor, olhando a espaços para mim, e abanando\\na cabeça, com um ar de repreensão:\\n\\n\\x97 Ora você! dizia.\\n\\n\\x97 Vens comigo?\\n\\nMarcela refletiu um instante. Não\\ngostei da expressão com que passeava os olhos de mim para a parede, e da parede\\npara a jóia; mas toda a má impressão se desvaneceu, quando ela me respondeu\\nresolutamente:\\n\\n\\x97 Vou. Quando embarcas?\\n\\n\\x97 Daqui a dois ou três dias.\\n\\n\\x97 Vou.\\n\\nAgradeci-lho de joelhos. Tinha\\nachado a minha Marcela dos primeiros dias, e disse-lho; ela sorriu, e foi\\nguardar a jóia, enquanto eu descia a escada.\\n\\nCAPÍTULO XVIII / VISÃO DO\\nCORREDOR\\n\\nNo fim da escada, ao fundo do\\ncorredor escuro, parei alguns instantes para respirar, apalpar-me, convocar as\\nidéias dispersas, reaver-me enfim no meio de tantas sensações profundas e\\ncontrárias. Achava-me feliz. Certo é que os diamantes corrompiam-me um pouco a\\nfelicidade; mas não é menos certo que uma dama bonita pode muito bem amar os\\ngregos e os seus presentes. E depois eu confiava na minha boa Marcela; podia ter\\ndefeitos, mas amava-me...\\n\\n\\x97 Um anjo! murmurei olhando para o\\nteto do corredor.\\n\\nE aí, como um escárnio, vi o olhar\\nde Marcela, aquele olhar que pouco antes me dera uma sombra de desconfiança, o\\nqual chispava de cima de um nariz, que era ao mesmo tempo o nariz de Bakbarah e\\no meu. Pobre namorado das Mil e Uma Noites! Vi-te ali mesmo correr atrás\\nda mulher do vizir, ao longo da galeria, ela a acenar-te com a posse, e tu a\\ncorrer, a correr, a correr, até a alameda comprida, donde saíste à rua, onde\\ntodos os correeiros te apuparam e desancaram. Então pareceu-me que o corredor de\\nMarcela era a alameda, e que a rua era a de Bagdá. Com efeito, olhando para a\\nporta, vi na calçada três dos correeiros, um de batina, outro de libré, outro à\\npaisana, os quais todos três entraram no corredor, tomaram-me pelos braços,\\nmeteram-me numa sege, meu pai à direita, meu tio cônego à esquerda, o da libré\\nna boléia, e lá me levaram à casa do intendente de polícia, donde fui\\ntransportado a uma galera que devia seguir para Lisboa. Imaginem se resisti; mas\\ntoda a resistência era inútil.\\n\\nTrês dias depois segui barra fora,\\nabatido e mudo. Não chorava sequer; tinha uma idéia fixa... Malditas idéias\\nfixas! A dessa ocasião era dar um mergulho no oceano, repetindo o nome de\\nMarcela.\\n\\nCAPÍTULO XIX / A\\nBORDO\\n\\nÉramos onze passageiros, um homem\\ndoido, acompanhado pela mulher, dois rapazes que iam a passeio, quatro\\ncomerciantes e dois criados. Meu pai recomendou-me a todos, começando pelo\\ncapitão do navio, que aliás tinha muito que cuidar de si, porque, além do mais,\\nlevava a mulher tísica em último grau.\\n\\nNão sei se o capitão suspeitou\\nalguma coisa do meu fúnebre projeto, ou se meu pai o pôs de sobreaviso; sei que\\nnão me tirava os olhos de cima; chamava-me para toda a parte. Quando não podia\\nestar comigo, levava-me para a mulher. A mulher ia quase sempre numa camilha\\nrasa, a tossir muito, e a afiançar que me havia de mostrar os arredores de\\nLisboa. Não estava magra, estava transparente; era impossível que não morresse\\nde uma hora para outra. O capitão fingia não crer na morte próxima, talvez por\\nenganar-se a si mesmo. Eu não sabia nem pensava nada. Que me importava a mim o\\ndestino de uma mulher tísica, no meio do oceano? O mundo para mim era Marcela.\\n\\nUma noite, logo no fim de uma\\nsemana, achei ensejo propício para morrer. Subi cauteloso, mas encontrei o\\ncapitão, que junto à amurada, tinha os olhos fitos no horizonte.\\n\\n\\x97 Algum temporal? disse eu.\\n\\n\\x97 Não, respondeu ele estremecendo;\\nnão; admiro o esplendor da noite. Veja; está celestial!\\n\\nO estilo desmentia da pessoa,\\nassaz rude e aparentemente alheia a locuções rebuscadas. Fitei-o; ele pareceu\\nsaborear o meu espanto. No fim de alguns segundos, pegou-me na mão e apontou\\npara a lua, perguntando-me por que não fazia uma ode à noite; respondi-lhe que\\nnão era poeta. O capitão rosnou alguma coisa, deu dois passos, meteu a mão no\\nbolso, sacou um pedaço de papel, muito amarrotado; depois, à luz de uma\\nlanterna, leu uma ode horaciana sobre a liberdade da vida marítima. Eram versos\\ndele.\\n\\n\\x97 Que tal?\\n\\nNão me lembra o que lhe disse;\\nlembra-me que ele me apertou a mão com muita força e muitos agradecimentos; logo\\ndepois recitou-me dois sonetos; ia recitar-me outro, quando o vieram chamar da\\nparte da mulher. \\x97 Lá vou, disse ele; e recitou-me o terceiro soneto, com pausa,\\ncom amor.\\n\\nFiquei só; mas a musa do capitão\\nvarrera-me do espírito os pensamentos maus; preferi dormir, que é um modo\\ninterino de morrer. No dia seguinte, acordamos debaixo de um temporal, que meteu\\nmedo a toda a gente, menos ao doido; esse entrou a dar pulos, a dizer que a\\nfilha o mandava buscar, numa berlinda; a morte de uma filha fora a causa da\\nloucura. Não, nunca me há de esquecer a figura hedionda do pobre homem, no meio\\ndo tumulto das gentes e dos uivos do furacão, a cantarolar e a bailar, com os\\nolhos a saltarem-lhe da cara, pálido, cabelo arrepiado e longo. Às vezes parava,\\nerguia ao ar as mãos ossudas, fazia umas cruzes com os dedos, depois um xadrez,\\ndepois umas argolas, e ria muito, desesperadamente. A mulher não podia já cuidar\\ndele; entregue ao terror da morte, rezava por si mesma a todos os santos do Céu.\\nEnfim, a tempestade amainou. Confesso que foi uma diversão excelente à\\ntempestade do meu coração. Eu, que meditava ir ter com a morte, não ousei\\nfitá-la quando ela veio ter comigo.\\n\\nO capitão perguntou-me se tivera\\nmedo, se estivera em risco, se não achara sublime o espetáculo: tudo isso com um\\ninteresse de amigo. Naturalmente a conversa versou sobre a vida do mar; o\\ncapitão perguntou-me se não gostava de idílios piscatórios; eu respondi-lhe\\ningenuamente que não sabia o que era.\\n\\n\\x97 Vai ver, respondeu.\\n\\nE recitou-me um poemazinho, depois\\noutro, \\x97 uma égloga, \\x97 e enfim cinco sonetos, com os quais rematou nesse dia a\\nconfidência literária. No dia seguinte, antes de me recitar nada, explicou-me o\\ncapitão que só por motivos graves abraçara a profissão marítima, porque a avó\\nqueria que ele fosse padre, e com efeito possuía algumas letras latinas; não\\nchegou a ser padre, mas não deixou de ser poeta, que era a sua vocação natural.\\nPara prová-lo, recitou-me logo, de corpo presente, uma centena de versos. Notei\\num fenômeno: os ademanes que ele usava eram tais, que uma vez me fizeram rir;\\nmas o capitão, quando recitava, de tal sorte olhava para dentro de si mesmo, que\\nnão viu nem ouviu nada.\\n\\nOs dias passavam, e as águas, e os\\nversos, e com eles ia também passando a vida da mulher. Estava por pouco. Um\\ndia, logo depois do almoço, disse-me o capitão que a enferma talvez não chegasse\\nao fim da semana.\\n\\n\\x97 Já! exclamei.\\n\\n\\x97 Passou muito mal a noite.\\n\\nFui vê-la; achei-a, na verdade,\\nquase moribunda, mas falando ainda de descansar em Lisboa alguns dias, antes de\\nir comigo a Coimbra, porque era seu propósito levar-me à Universidade. Deixei-a\\nconsternado; fui achar o marido a olhar para as vagas, que vinham morrer no\\ncostado do navio, e tratei de o consolar; ele agradeceu-me, relatou-me a\\nhistória dos seus amores, elogiou a fidelidade e a dedicação da mulher,\\nrelembrou os versos que lhe fez, e recitou-mos. Neste ponto vieram buscá-lo da\\nparte dela; corremos ambos; era uma crise. Esse e o dia seguinte foram cruéis; o\\nterceiro foi o da morte; eu fugi ao espetáculo, tinha-lhe repugnância. Meia hora\\ndepois encontrei o capitão, sentado num molho de cabos, com a cabeça nas mãos,\\ndisse-lhe alguma coisa de conforto.\\n\\n\\x97 Morreu como uma santa, respondeu\\nele; e, para que estas palavras não pudessem ser levadas à conta de fraqueza,\\nergueu-se logo, sacudiu a cabeça, e fitou o horizonte, com um gesto longo e\\nprofundo. \\x97 Vamos, continuou, entreguemo-la à cova que nunca mais se abre.\\n\\nEfetivamente, poucas horas depois,\\nera o cadáver lançado ao mar, com as cerimônias do costume. A tristeza murchara\\ntodos os rostos; o do viúvo trazia a expressão de um cabeço rijamente lascado\\npelo raio. Grande silêncio. A vaga abriu o ventre, acolheu o despojo, fechou-se,\\n\\x97 uma leve ruga, \\x97 e a galera foi andando. Eu deixei-me estar alguns minutos à\\npopa, com os olhos naquele ponto incerto do mar em que ficava um de nós... Fui\\ndali ter com o capitão, para distraí-lo.\\n\\n\\x97 Obrigado, disse-me ele\\ncompreendendo a intenção; creia que nunca me esquecerei dos seus bons serviços.\\nDeus é que lhos há de pagar. Pobre Leocádia! tu te lembrarás de nós no Céu.\\n\\nEnxugou com a manga uma lágrima\\nimportuna; eu busquei um derivativo na poesia, que era a paixão dele. Falei-lhe\\ndos versos, que me lera, e ofereci-me para imprimi-los. Os olhos do capitão\\nanimaram-se um pouco. \\x97 Talvez aceite, disse ele; mas não sei... são bem frouxos\\nversos. Jurei-lhe que não; pedi que os reunisse e mos desse antes do\\ndesembarque.\\n\\n\\x97 Pobre Leocádia! murmurou sem\\nresponder ao pedido. Um cadáver... o mar... o céu... o navio...\\n\\nNo dia seguinte veio ler-me um\\nepicédio composto de fresco, em que estavam memoradas as circunstâncias da morte\\ne da sepultura da mulher; leu-mo com a voz comovida deveras, e a mão trêmula; no\\nfim perguntou-me se os versos eram dignos do tesouro que perdera.\\n\\n\\x97 São, disse eu.\\n\\n\\x97 Não haverá estro, ponderou ele,\\nno fim de um instante, mas ninguém me negará sentimento, se não é que o próprio\\nsentimento prejudicou a perfeição...\\n\\n\\x97 Não me parece; acho os versos\\nperfeitos.\\n\\n\\x97 Sim, eu creio que... Versos de\\nmarujo.\\n\\n\\x97 De marujo poeta.\\n\\nEle levantou os ombros, olhou para\\no papel, e tornou a recitar a composição, mas já então sem tremuras, acentuando\\nas intenções literárias, dando relevo às imagens e melodia aos versos. No fim,\\nconfessou-me que era a sua obra mais acabada; eu disse-lhe que sim; ele\\napertou-me muito a mão e predisse-me um grande futuro.\\n\\nCAPÍTULO XX /\\nBACHARELO-ME\\n\\nUm grande futuro! Enquanto esta\\npalavra me batia no ouvido, devolvia eu os olhos, ao longe, no horizonte\\nmisterioso e vago. Uma idéia expelia outra, a ambição desmontava Marcela. Grande\\nfuturo? Talvez naturalista, literato, arqueólogo, banqueiro, político, ou até\\nbispo, \\x97 bispo que fosse, \\x97 uma vez que fosse um cargo, uma preeminência, uma\\ngrande reputação, uma posição superior. A ambição, dado que fosse águia, quebrou\\nnessa ocasião o ovo, e desvendou a pupila fulva e penetrante. Adeus, amores!\\nadeus, Marcela! dias de delírio, jóias sem preço, vida sem regímen, adeus! Cá me\\nvou às fadigas e à glória; deixo-vos com as calcinhas da primeira idade.\\n\\nE foi assim que desembarquei em\\nLisboa e segui para Coimbra. A Universidade esperava-me com as suas matérias\\nárduas; estudei-as muito mediocremente, e nem por isso perdi o grau de bacharel;\\nderam-mo com a solenidade do estilo, após os anos da lei; uma bela festa que me\\nencheu de orgulho e de saudades, \\x97 principalmente de saudades. Tinha eu\\nconquistado em Coimbra uma grande nomeada de folião; era um acadêmico estróina,\\nsuperficial, tumultuário e petulante, dado às aventuras, fazendo romantismo\\nprático e liberalismo teórico, vivendo na pura fé dos olhos pretos e das\\nconstituições escritas. No dia em que a Universidade me atestou, em pergaminho,\\numa ciência que eu estava longe de trazer arraigada no cérebro, confesso que me\\nachei de algum modo logrado, ainda que orgulhoso. Explico-me: o diploma era uma\\ncarta de alforria; se me dava a liberdade, dava-me a responsabilidade.\\nGuardei-o, deixei as margens do Mondego, e vim por ali fora assaz desconsolado,\\nmas sentindo já uns ímpetos, uma curiosidade, um desejo de acotovelar os outros,\\nde influir, de gozar, de viver, \\x97 de prolongar a Universidade pela vida\\nadiante...\\n\\nCAPÍTULO XXI / O\\nALMOCREVE\\n\\nVai então, empacou o jumento em\\nque eu vinha montado; fustiguei-o, ele deu dois corcovos, depois mais três,\\nenfim mais um, que me sacudiu fora da sela, com tal desastre, que o pé esquerdo\\nme ficou preso no estribo; tento agarrar-me ao ventre do animal, mas já então,\\nespantado, disparou pela estrada fora. Digo mal: tentou disparar, e efetivamente\\ndeu dois saltos, mas um almocreve, que ali estava, acudiu a tempo de lhe pegar\\nna rédea e detê-lo, não sem esforço nem perigo. Dominado o bruto,\\ndesvencilhei-me do estribo e pus-me de pé.\\n\\n\\x97 Olhe do que vosmecê escapou,\\ndisse o almocreve.\\n\\nE era verdade; se o jumento corre\\npor ali fora, contundia-me deveras, e não sei se a morte não estaria no fim do\\ndesastre; cabeça partida, uma congestão, qualquer transtorno cá dentro, lá se me\\nia a ciência em flor. O almocreve salvara-me talvez a vida; era positivo; eu\\nsentia-no no sangue que me agitava o coração. Bom almocreve! enquanto eu tornava\\nà consciência de mim mesmo, ele cuidava de consertar os arreios do jumento, com\\nmuito zelo e arte. Resolvi dar-lhe três moedas de ouro das cinco que trazia\\ncomigo; não porque tal fosse o preço da minha vida, \\x97 essa era inestimável; mas\\nporque era uma recompensa digna da dedicação com que ele me salvou. Está dito,\\ndou-lhe as três moedas.\\n\\n\\x97 Pronto, disse ele,\\napresentando-me a rédea da cavalgadura.\\n\\n\\x97 Daqui a nada, respondi;\\ndeixa-me, que ainda não estou em mim...\\n\\n\\x97 Ora qual!\\n\\n\\x97 Pois não é certo que ia\\nmorrendo?\\n\\n\\x97 Se o jumento corre por aí fora,\\né possível; mas, com a ajuda do Senhor, viu vosmecê que não aconteceu nada.\\n\\nFui aos alforjes, tirei um colete\\nvelho, em cujo bolso trazia as cinco moedas de ouro, e durante esse tempo\\ncogitei se não era excessiva a gratificação, se não bastavam duas moedas. Talvez\\numa. Com efeito, uma moeda era bastante para lhe dar estremeções de alegria.\\nExaminei-lhe a roupa; era um pobre-diabo, que nunca jamais vira uma moeda de\\nouro. Portanto, uma moeda. Tirei-a, vi-a reluzir à luz do sol; não a viu o\\nalmocreve, porque eu tinha-lhe voltado as costas; mas suspeitou-o talvez, entrou\\na falar ao jumento de um modo significativo; dava-lhe conselhos, dizia-lhe que\\ntomasse juízo, que o \\x93senhor doutor\\x94 podia castigá-lo; um monólogo paternal.\\nValha-me Deus! até ouvi estalar um beijo: era o almocreve que lhe beijava a\\ntesta.\\n\\n\\x97 Olé! exclamei.\\n\\n\\x97 Queira vosmecê perdoar, mas o\\ndiabo do bicho está a olhar para a gente com tanta graça...\\n\\nRi-me, hesitei, meti-lhe na mão um\\ncruzado em prata, cavalguei o jumento, e segui a trote largo, um pouco vexado,\\nmelhor direi um pouco incerto do efeito da pratinha. Mas a algumas braças de\\ndistância, olhei para trás, o almocreve fazia-me grandes cortesias, com\\nevidentes mostras de contentamento. Adverti que devia ser assim mesmo; eu\\npagara-lhe bem, pagara-lhe talvez demais. Meti os dedos no bolso do colete que\\ntrazia no corpo e senti umas moedas de cobre; eram os vinténs que eu devera ter\\ndado ao almocreve, em lugar do cruzado em prata. Porque, enfim, ele não levou em\\nmira nenhuma recompensa ou virtude, cedeu a um impulso natural, ao temperamento,\\naos hábitos do ofício; acresce que a circunstância de estar, não mais adiante\\nnem mais atrás, mas justamente no ponto do desastre, parecia constituí-lo\\nsimples instrumento da Providência; e de um ou de outro modo, o mérito do ato\\nera positivamente nenhum. Fiquei desconsolado com esta reflexão, chamei-me\\npródigo, lancei o cruzado à conta das minhas dissipações antigas; tive (por que\\nnão direi tudo?) tive remorsos.\\n\\nCAPÍTULO XXII / VOLTA AO\\nRIO\\n\\nJumento de uma figa, cortaste-me o\\nfio às reflexões. Já agora não digo o que pensei dali até Lisboa, nem o que fiz\\nem Lisboa, na península e em outros lugares da Europa, da velha Europa, que\\nnesse tempo parecia remoçar. Não, não direi que assisti às alvoradas do\\nromantismo, que também eu fui fazer poesia efetiva no regaço da Itália; não\\ndirei coisa nenhuma. Teria de escrever um diário de viagem e não umas memórias,\\ncomo estas são, nas quais só entra a substância da vida.\\n\\nAo cabo de alguns anos de\\nperegrinação, atendi às súplicas de meu pai: \\x97 \\x93Vem, dizia ele na última carta;\\nse não vieres depressa, acharás tua mãe morta!\\x94 Esta última palavra foi para mim\\num golpe. Eu amava minha mãe; tinha ainda diante dos olhos as circunstâncias da\\núltima bênção que ela me dera, a bordo do navio. \\x93Meu triste filho, nunca mais\\nte verei\\x94, soluçava a pobre senhora apertando-me ao peito. E essas palavras\\nressoavam-me agora, como uma profecia realizada.\\n\\nNote-se que eu estava em Veneza,\\nainda recendente aos versos de lord Byron; lá estava, mergulhado em pleno\\nsonho, revivendo o pretérito, crendo-me na Sereníssima República. É verdade; uma\\nvez aconteceu-me perguntar ao locandeiro se o doge ia a passeio nesse dia. \\x97 Que\\ndoge, signor mio? Caí em mim, mas não confessei a ilusão; disse-lhe que a\\nminha pergunta era um gênero de charada americana; ele mostrou compreender, e\\nacrescentou que gostava muito das charadas americanas. Era um locandeiro. Pois\\ndeixei tudo isso, o locandeiro, o doge, a Ponte dos Suspiros, a gôndola, os\\nversos do lorde, as damas do Rialto, deixei tudo e disparei como uma bala na\\ndireção do Rio de Janeiro.\\n\\nVim... Mas não; não alonguemos\\neste capítulo. Às vezes, esqueço-me a escrever, e a pena vai comendo papel, com\\ngrave prejuízo meu, que sou autor. Capítulos compridos quadram melhor a leitores\\npesadões; e nós não somos um público in-folio, mas in-12, pouco\\ntexto, larga margem, tipo elegante, corte dourado e vinhetas... Não, não\\nalonguemos o capítulo.\\n\\nCAPÍTULO XXIII / TRISTE, MAS\\nCURTO\\n\\nVim. Não nego que, ao avistar a\\ncidade natal, tive uma sensação nova. Não era efeito da minha pátria política;\\nera-o do lugar da infância, a rua, a torre, o chafariz da esquina, a mulher de\\nmantilha, o preto do ganho, as coisas e cenas da meninice, buriladas na memória.\\nNada menos que uma renascença. O espírito, como um pássaro, não se lhe deu da\\ncorrente dos anos, arrepiou o vôo na direção da fonte original, e foi beber da\\nágua fresca e pura, ainda não mesclada do enxurro da vida.\\n\\nReparando bem, há aí um\\nlugar-comum. Outro lugar-comum, tristemente comum, foi a consternação da\\nfamília. Meu pai abraçou-me com lágrimas. \\x97 Tua mãe não pode viver, disse-me.\\nCom efeito, não era já o reumatismo que a matava, era um cancro no estômago. A\\ninfeliz padecia de um modo cru, porque o cancro é indiferente às virtudes do\\nsujeito; quando rói, rói; roer é o seu ofício. Minha irmã Sabina, já então\\ncasada com o Cotrim, andava a cair de fadiga. Pobre moça! dormia três horas por\\nnoite, nada mais. O próprio tio João estava abatido e triste. D. Eusébia e\\nalgumas outras senhoras lá estavam também, não menos tristes e não menos\\ndedicadas.\\n\\n\\x97 Meu filho!\\n\\nA dor suspendeu por um pouco as\\ntenazes; um sorriso alumiou o rosto da enferma, sobre o qual a morte batia a asa\\neterna. Era menos um rosto do que uma caveira: a beleza passara, como um dia\\nbrilhante; restavam os ossos, que não emagrecem nunca. Mal poderia conhecê-la;\\nhavia oito ou nove anos que nos não víamos. Ajoelhado, ao pé da cama, com as\\nmãos dela entre as minhas, fiquei mudo e quieto, sem ousar falar, porque cada\\npalavra seria um soluço, e nós temíamos avisá-la do fim. Vão temor! Ela sabia\\nque estava prestes a acabar; disse-mo; verificamo-lo na seguinte manhã.\\n\\nLonga foi a agonia, longa e cruel,\\nde uma crueldade minuciosa, fria, repisada, que me encheu de dor e estupefação.\\nEra a primeira vez que eu via morrer alguém. Conhecia a morte de outiva; quando\\nmuito, tinha-a visto já petrificada no rosto de algum cadáver, que acompanhei ao\\ncemitério, ou trazia-lhe a idéia embrulhada nas amplificações de retórica dos\\nprofessores de coisas antigas, \\x97 a morte aleivosa de César, a austera de\\nSócrates, a orgulhosa de Catão. Mas esse duelo do ser e do não ser, a morte em\\nação, dolorida, contraída, convulsa, sem aparelho político ou filosófico, a\\nmorte de uma pessoa amada, essa foi a primeira vez que a pude encarar. Não\\nchorei; lembra-me que não chorei durante o espetáculo: tinha os olhos estúpidos,\\na garganta presa, a consciência boquiaberta. Quê? uma criatura tão dócil, tão\\nmeiga, tão santa, que nunca jamais fizera verter uma lágrima de desgosto, mãe\\ncarinhosa, esposa imaculada, era força que morresse assim, trateada, mordida\\npelo dente tenaz de uma doença sem misericórdia? Confesso que tudo aquilo me\\npareceu obscuro, incongruente, insano...\\n\\nTriste capítulo; passemos a outro\\nmais alegre.\\n\\nCAPÍTULO XXIV / CURTO, MAS\\nALEGRE\\n\\nFiquei prostrado. E contudo era\\neu, nesse tempo, um fiel compêndio de trivialidade e presunção. Jamais o\\nproblema da vida e da morte me oprimira o cérebro; nunca até esse dia me\\ndebruçara sobre o abismo do Inexplicável; faltava-me o essencial, que é o\\nestímulo, a vertigem...\\n\\nPara lhes dizer a verdade toda, eu\\nrefletia as opiniões de um cabeleireiro, que achei em Módena, e que se\\ndistinguia por não as ter absolutamente. Era a flor dos cabeleireiros; por mais\\ndemorada que fosse a operação do toucado, não enfadava nunca; ele intercalava as\\npenteadelas com muitos motes e pulhas, cheios de um pico, de um sabor... Não\\ntinha outra filosofia. Nem eu. Não digo que a Universidade me não tivesse\\nensinado alguma; mas eu decorei-lhe só as fórmulas, o vocabulário, o esqueleto.\\nTratei-a como tratei o latim; embolsei três versos de Virgílio, dois de Horácio,\\numa dúzia de locuções morais e políticas, para as despesas da conversação.\\nTratei-os como tratei a história e a jurisprudência. Colhi de todas as coisas a\\nfraseologia, a casca, a ornamentação...\\n\\nTalvez espante ao leitor a\\nfranqueza com que lhe exponho e realço a minha mediocridade; advirta que a\\nfranqueza é a primeira virtude de um defunto. Na vida, o olhar da opinião, o\\ncontraste dos interesses, a luta das cobiças obrigam a gente a calar os trapos\\nvelhos, a disfarçar os rasgões e os remendos, a não estender ao mundo as\\nrevelações que faz à consciência; e o melhor da obrigação é quando, à força de\\nembaçar os outros, embaça-se um homem a si mesmo, porque em tal caso poupa-se o\\nvexame, que é uma sensação penosa, e a hipocrisia, que é um vício hediondo. Mas,\\nna morte, que diferença! que desabafo! que liberdade! Como a gente pode sacudir\\nfora a capa, deitar ao fosso as lantejoulas, despregar-se, despintar-se,\\ndesafeitar-se, confessar lisamente o que foi e o que deixou de ser! Porque, em\\nsuma, já não há vizinhos, nem amigos, nem inimigos, nem conhecidos, nem\\nestranhos; não há platéia. O olhar da opinião, esse olhar agudo e judicial,\\nperde a virtude, logo que pisamos o território da morte; não digo que ele se não\\nestenda para cá, e nos não examine e julgue; mas a nós é que não se nos dá do\\nexame nem do julgamento. Senhores vivos, não há nada tão incomensurável como o\\ndesdém dos finados.\\n\\nCAPÍTULO XXV/ NA\\nTIJUCA\\n\\nUi! Lá me ia a pena a escorregar\\npara o enfático. Sejamos simples, como era simples a vida que levei na Tijuca,\\ndurante as primeiras semanas depois da morte de minha mãe.\\n\\nNo sétimo dia, acabada a missa\\nfúnebre, travei de uma espingarda, alguns livros, roupa, charutos, um moleque, \\x97\\no Prudêncio do capítulo XI, \\x97 e fui meter-me numa velha casa de nossa\\npropriedade. Meu pai forcejou por me torcer a resolução, mas eu é que não podia\\nnem queria obedecer-lhe. Sabina desejava que eu fosse morar com ela algum tempo,\\n\\x97 duas semanas, ao menos; meu cunhado esteve a ponto de me levar à fina força.\\nEra um bom rapaz este Cotrim; passara de estróina a circunspecto. Agora\\ncomerciava em gêneros de estiva, labutava de manhã até à noite, com ardor, com\\nperseverança. De noite, sentado à janela, a encaracolar as suíças, não pensava\\nem outra coisa. Amava a mulher e um filho, que então tinha, e que lhe morreu\\nalguns anos depois. Diziam que era avaro.\\n\\nRenunciei tudo; tinha o espírito\\natônito. Creio que por então é que começou a desabotoar em mim a hipocondria,\\nessa flor amarela, solitária e mórbida, de um cheiro inebriante e sutil. \\x97 \\x93Que\\nbom que é estar triste e não dizer coisa nenhuma!\\x94 \\x97 Quando esta palavra de\\nShakespeare me chamou a atenção, confesso que senti em mim um eco, um eco\\ndelicioso. Lembra-me que estava sentado, debaixo de um tamarineiro, com o livro\\ndo poeta aberto nas mãos, e o espírito ainda mais cabisbaixo do que a figura, \\x97\\nou jururu, como dizemos das galinhas tristes. Apertava ao peito a minha dor\\ntaciturna, com uma sensação única, uma coisa a que poderia chamar volúpia do\\naborrecimento. Volúpia do aborrecimento: decora esta expressão, leitor;\\nguarda-a, examina-a, e se não chegares a entendê-la, podes concluir que ignoras\\numa das sensações mais sutis desse mundo e daquele tempo.\\n\\nÀs vezes, caçava, outras dormia,\\noutras lia, \\x97 lia muito, \\x97 outras enfim não fazia nada; deixava-me atoar de\\nidéia em idéia, de imaginação em imaginação, como uma borboleta vadia ou\\nfaminta. As horas iam pingando uma a uma, o sol caía, as sombras da noite\\nvelavam a montanha e a cidade. Ninguém me visitava; recomendei expressamente que\\nme deixassem só. Um dia, dois dias, três dias, uma semana inteira passada assim,\\nsem dizer palavra, era bastante para sacudir-me da Tijuca fora e restituir-me ao\\nbulício. Com efeito, ao cabo de sete dias, estava farto da solidão; a dor\\naplacara; o espírito já se não contentava com o uso da espingarda e dos livros,\\nnem com a vista do arvoredo e do céu. Reagia a mocidade, era preciso viver. Meti\\nno baú o problema da vida e da morte, os hipocondríacos do poeta, as camisas, as\\nmeditações, as gravatas, e ia fechá-lo, quando o moleque Prudêncio me disse que\\numa pessoa do meu conhecimento se mudara na véspera para uma casa roxa, situada\\na duzentos passos da nossa.\\n\\n\\x97 Quem?\\n\\n\\x97 Nhonhô talvez não se lembre mais\\nde D. Eusébia...\\n\\n\\x97 Lembra-me... É ela?\\n\\n\\x97 Ela e a filha. Vieram ontem de\\nmanhã.\\n\\nOcorreu-me logo o episódio de\\n1814, e senti-me vexado; mas adverti que os acontecimentos tinham-me dado razão.\\nNa verdade, fora impossível evitar as relações íntimas do Vilaça com a irmã do\\nsargento-mor; antes mesmo do meu embarque, já se boquejava misteriosamente no\\nnascimento de uma menina. Meu tio João mandou-me dizer depois que o Vilaça, ao\\nmorrer, deixara um bom legado a D. Eusébia, coisa que deu muito que falar em\\ntodo o bairro. O próprio tio João, guloso de escândalos, não tratou de outro\\nassunto na carta, aliás de muitas folhas. Tinham-me dado razão os\\nacontecimentos. Ainda porém que ma não dessem, 1814 lá ia longe, e, com ele, a\\ntravessura, e o Vilaça, e o beijo da moita; finalmente, nenhumas relações\\nestreitas existiam entre mim e ela. Fiz comigo essa reflexão e acabei de fechar\\no baú.\\n\\n\\x97 Nhonhô não vai visitar sinhá D.\\nEusébia? perguntou-me o Prudêncio. Foi ela quem vestiu o corpo da minha defunta\\nsenhora.\\n\\nLembrei-me que a vira, entre\\noutras senhoras, por ocasião da morte e do enterro; ignorava porém que ela\\nhouvesse prestado a minha mãe esse derradeiro obséquio. A ponderação do moleque\\nera razoável; eu devia-lhe uma visita; determinei fazê-la imediatamente, e\\ndescer.\\n\\nCAPÍTULO XXVI / O AUTOR\\nHESITA\\n\\nSúbito ouço uma voz: \\x97 Olá, meu\\nrapaz, isto não é vida! Era meu pai, que chegava com duas propostas na\\nalgibeira. Sentei-me no baú e recebi-o sem alvoroço. Ele esteve alguns instantes\\nde pé, a olhar para mim; depois estendeu-me a mão com um gesto comovido:\\n\\n\\x97 Meu filho, conforma-te com a\\nvontade de Deus.\\n\\n\\x97 Já me conformei, foi a minha\\nresposta, e beijei-lhe a mão.\\n\\nNão tinha almoçado; almoçamos\\njuntos. Nenhum de nós aludiu ao triste motivo da minha reclusão. Uma só vez\\nfalamos nisso, de passagem, quando meu pai fez recair a conversa na Regência:\\nfoi então que aludiu à carta de pêsames que um dos Regentes lhe mandara. Trazia\\na carta consigo, já bastante amarrotada, talvez por havê-la lido a muitas outras\\npessoas. Creio haver dito que era de um dos Regentes. Leu-ma duas vezes.\\n\\n\\x97 Já lhe fui agradecer este sinal\\nde consideração, concluiu meu pai, e acho que deves ir também...\\n\\n\\x97 Eu?\\n\\n\\x97 Tu; é um homem notável, faz hoje\\nas vezes de imperador. Demais trago comigo uma idéia, um projeto, ou... sim,\\ndigo-te tudo; trago dois projetos, um lugar de deputado e um casamento.\\n\\nMeu pai disse isto com pausa, e\\nnão no mesmo tom, mas dando às palavras um jeito e disposição, cujo fim era\\ncavá-las mais profundamente no meu espírito. A proposta, porém, desdizia tanto\\ndas minhas sensações últimas, que eu cheguei a não entendê-la bem. Meu pai não\\nfraqueou e repetiu-a; encareceu o lugar e a noiva.\\n\\n\\x97 Aceitas?\\n\\n\\x97 Não entendo de política, disse\\neu depois de um instante; quanto à noiva... deixe-me viver como um urso, que\\nsou.\\n\\n\\x97 Mas os ursos casam-se, replicou\\nele.\\n\\n\\x97 Pois traga-me uma ursa. Olhe, a\\nUrsa-Maior...\\n\\nRiu-se meu pai, e depois de rir,\\ntornou a falar sério. Era-me necessária a carreira política, dizia ele, por\\nvinte e tantas razões, que deduziu com singular volubilidade, ilustrando-as com\\nexemplos de pessoas do nosso conhecimento. Quanto à noiva, bastava que eu a\\nvisse; se a visse, iria logo pedi-la ao pai, logo, sem demora de um dia.\\nExperimentou assim a fascinação, depois a persuasão, depois a intimação; eu não\\ndava resposta, afiava a ponta de um palito ou fazia bolas de miolo de pão, a\\nsorrir ou a refletir; e, para tudo dizer, nem dócil nem rebelde à proposta.\\nSentia-me aturdido. Uma parte de mim mesmo dizia que sim, que uma esposa formosa\\ne uma posição política eram bens dignos de apreço; outra dizia que não; e a\\nmorte de minha mãe me aparecia como um exemplo da fragilidade das coisas, das\\nafeições, da família...\\n\\n\\x97 Não vou daqui sem uma resposta\\ndefinitiva, disse meu pai. De-fi-ni-ti-va! repetiu, batendo as sílabas com o\\ndedo.\\n\\nBebeu o último gole de café;\\nrepoltreou-se, e entrou a falar de tudo, do Senado, da Câmara, da Regência, da\\nrestauração, do Evaristo, de um coche que pretendia comprar, da nossa casa de\\nMata-cavalos... Eu deixava-me estar ao canto da mesa, a escrever desvairadamente\\nnum pedaço de papel, com uma ponta de lápis; traçava uma palavra, uma frase, um\\nverso, um nariz, um triângulo, e repetia-os muitas vezes, sem ordem, ao acaso,\\nassim:\\n\\narma virumque\\ncano\\nA\\nArma virumque cano\\n\\narma virumque cano\\n\\narma virumque\\n\\narma virumque cano\\n\\nvirumque\\n\\nMaquinalmente tudo isto; e, não\\nobstante, havia certa lógica, certa dedução; por exemplo, foi o virumque\\nque me fez chegar ao nome do próprio poeta, por causa da primeira sílaba; ia a\\nescrever virumque \\x97 e sai-me Virgílio, então continuei:\\n\\nVir\\nVirgílio\\n\\nVirgílio\\nVirgílio\\n\\nVirgílio\\nVirgílio\\n\\nMeu pai, um pouco despeitado com\\naquela indiferença, ergueu-se, veio a mim, lançou os olhos ao papel...\\n\\n\\x97 Virgílio! exclamou. És tu, meu\\nrapaz; a tua noiva chama-se justamente Virgília.\\n\\nCAPÍTULO XXVII /\\nVIRGÍLIA?\\n\\nVirgília? Mas então era a mesma\\nsenhora que alguns anos depois?... A mesma; era justamente a senhora, que em\\n1869 devia assistir aos meus últimos dias, e que antes, muito antes, teve larga\\nparte nas minhas mais íntimas sensações. Naquele tempo contava apenas uns quinze\\nou dezesseis anos; era talvez a mais atrevida criatura da nossa raça, e, com\\ncerteza, a mais voluntariosa. Não digo que ia lhe coubesse a primazia da beleza,\\nentre as mocinhas do tempo, porque isto não é romance, em que o autor sobredoura\\na realidade e fecha os olhos às sardas e espinhas; mas também não digo que lhe\\nmaculasse o rosto nenhuma sarda ou espinha, não. Era bonita, fresca, saía das\\nmãos da natureza, cheia daquele feitiço, precário e eterno, que o indivíduo\\npassa a outro indivíduo, para os fins secretos da criação. Era isto Virgília, e\\nera clara, muito clara, faceira, ignorante, pueril, cheia de uns ímpetos\\nmisteriosos; muita preguiça e alguma devoção, \\x97 devoção, ou talvez medo; creio\\nque medo.\\n\\nAí tem o leitor, em poucas linhas,\\no retrato físico e moral da pessoa que devia influir mais tarde na minha vida;\\nera aquilo com dezesseis anos. Tu que me lês, se ainda fores viva, quando estas\\npáginas vierem à luz, \\x97 tu que me lês, Virgília amada, não reparas na diferença\\nentre a linguagem de hoje e a que primeiro empreguei quando te vi? Crê que era\\ntão sincero então como agora; a morte não me tornou rabugento, nem injusto.\\n\\n\\x97 Mas, dirás tu, como é que podes\\nassim discernir a verdade daquele tempo, e exprimi-la depois de tantos anos?\\n\\nAh! indiscreta! ah! ignorantona!\\nMas é isso mesmo que nos faz senhores da Terra, é esse poder de restaurar o\\npassado, para tocar a instabilidade das nossas impressões e a vaidade dos nossos\\nafetos. Deixa lá dizer Pascal que o homem é um caniço pensante. Não; é uma\\nerrata pensante, isso sim. Cada estação da vida é uma edição, que corrige a\\nanterior, e que será corrigida também, até a edição definitiva, que o editor dá\\nde graça aos vermes.\\n\\nCAPÍTULO XXVIII / CONTANTO\\nQUE...\\n\\n\\x97 Virgília? interrompi eu.\\n\\n\\x97 Sim, senhor; é o nome da noiva.\\nUm anjo, meu pateta, um anjo sem asas. Imagina uma moça assim, desta altura,\\nviva como um azougue, e uns olhos... filha do Dutra...\\n\\n\\x97 Que Dutra?\\n\\n\\x97 O Conselheiro Dutra, não\\nconheces; uma influência política. Vamos lá, aceitas?\\n\\nNão respondi logo; fitei por\\nalguns segundos a ponta do botim; declarei depois que estava disposto a examinar\\nas duas coisas, a candidatura e o casamento, contanto que...\\n\\n\\x97 Contanto quê?\\n\\n\\x97 Contanto que não fique obrigado\\na aceitar as duas; creio que posso ser separadamente homem casado ou homem\\npúblico...\\n\\n\\x97 Todo o homem público deve ser\\ncasado, interrompeu sentenciosamente meu pai. Mas seja como queres; estou por\\ntudo, fico certo de que a vista fará fé! Demais, a noiva e o Parlamento são a\\nmesma coisa... isto é, não... saberás depois... Vá; aceito a dilação, contanto\\nque...\\n\\n\\x97 Contanto quê?... interrompi eu,\\nimitando-lhe a voz.\\n\\n\\x97 Ah! brejeiro! Contanto que não\\nte deixes ficar aí inútil, obscuro, e triste; não gastei dinheiro, cuidados,\\nempenhos, para te não ver brilhar, como deves, e te convém, e a todos nós; é\\npreciso continuar o nosso nome, continuá-lo e ilustrá-lo ainda mais. Olha, estou\\ncom sessenta anos, mas se fosse necessário começar vida nova, começava, sem\\nhesitar um só minuto. Teme a obscuridade, Brás; foge do que é ínfimo. Olha que\\nos homens valem por diferentes modos, e que o mais seguro de todos é valer pela\\nopinião dos outros homens. Não estragues as vantagens da tua posição, os teus\\nmeios...\\n\\nE foi por diante o mágico, a\\nagitar diante de mim um chocalho, como me faziam, em pequeno, para eu andar\\ndepressa, e a flor da hipocondria recolheu-se ao botão para deixar a outra flor\\nmenos amarela, e nada mórbida, \\x97 o amor da nomeada, o emplasto Brás Cubas.\\n\\nCAPÍTULO XXIX / A\\nVISITA\\n\\nVencera meu pai; dispus-me a\\naceitar o diploma e o casamento, Virgília e a Câmara dos Deputados. \\x97 As duas\\nVirgílias, disse ele num assomo de ternura política. Aceitei-os; meu pai deu-me\\ndois fortes abraços. Era o seu próprio sangue que ele, enfim, reconhecia.\\n\\n\\x97 Desces comigo?\\n\\n\\x97 Desço amanhã. Vou fazer\\nprimeiramente uma visita a D. Eusébia...\\n\\nMeu pai torceu o nariz, mas não\\ndisse nada; despediu-se e desceu. Eu, na tarde desse mesmo dia, fui visitar D.\\nEusébia. Achei-a a repreender um preto jardineiro, mas deixou tudo para vir\\nfalar-me, com um alvoroço, um prazer tão sincero, que me desacanhou logo. Creio\\nque chegou a cingir-me com o seu par de braços robustos. Fez-me sentar ao pé de\\nsi, na varanda, entre muitas exclamações de contentamento:\\n\\n\\x97 Ora, o Brasinho! Um homem! Quem\\ndiria, há anos... Um homenzarrão! E bonito! Qual! Você não se lembra de\\nmim...\\n\\nDisse-lhe que sim, que não era\\npossível esquecer uma amiga tão familiar de nossa casa. D. Eusébia começou a\\nfalar de minha mãe, com muitas saudades, com tantas saudades, que me cativou\\nlogo, posto me entristecesse. Ela percebeu-o nos meus olhos, e torceu a rédea à\\nconversação; pediu-me que lhe contasse a viagem, os estudos, os namoros... Sim,\\nos namoros também; confessou-me que era uma velha patusca. Nisto recordei-me do\\nepisódio de 1814, ela, o Vilaça, a moita, o beijo, o meu grito; e estando a\\nrecordá-lo, ouço um ranger de porta, um farfalhar de saias e esta palavra:\\n\\n\\x97 Mamãe... mamãe...\\n\\nCAPÍTULO XXX / A FLOR DA\\nMOITA\\n\\nA voz a as saias pertenciam a uma\\nmocinha morena, que se deteve à porta, alguns instantes, ao ver gente estranha.\\nSilêncio curto e constrangido. D. Eusébia quebrou-o, enfim, com resolução e\\nfranqueza:\\n\\n\\x97 Vem cá, Eugênia, disse ela,\\ncumprimenta o Dr. Brás Cubas, filho do Sr. Cubas; veio da Europa.\\n\\nE voltando-se para mim:\\n\\n\\x97 Minha filha Eugênia.\\n\\nEugênia, a flor da moita, mal\\nrespondeu ao gesto de cortesia que lhe fiz; olhou-me admirada e acanhada, e\\nlentamente se aproximou da cadeira da mãe. A mãe arranjou-lhe uma das tranças do\\ncabelo, cuja ponta se desmanchara. \\x97 Ah! travessa! dizia. Não imagina, doutor, o\\nque isto é... E beijou-a com tão expansiva ternura que me comoveu um pouco;\\nlembrou-me minha mãe, e, \\x97 direi tudo, \\x97 tive umas cócegas de ser pai.\\n\\n\\x97 Travessa? disse eu. Pois já não\\nestá em idade própria, ao que parece.\\n\\n\\x97 Quantos lhe dá?\\n\\n\\x97 Dezessete.\\n\\n\\x97 Menos um.\\n\\n\\x97 Dezesseis. Pois então! é uma\\nmoça.\\n\\nNão pôde Eugênia encobrir a\\nsatisfação que sentia com esta minha palavra, mas emendou-se logo, e ficou como\\ndantes, ereta, fria e muda. Em verdade, parecia ainda mais mulher do que era;\\nseria criança nos seus folgares de moça; mas assim quieta, impassível, tinha a\\ncompostura da mulher casada. Talvez essa circunstância lhe diminuía um pouco da\\ngraça virginal. Depressa nos familiarizamos; a mãe fazia-lhe grandes elogios, eu\\nescutava-os de boa sombra, e ela sorria com os olhos fúlgidos, como se lá dentro\\ndo cérebro lhe estivesse a voar uma borboletinha de asas de ouro e olhos de\\ndiamante...\\n\\nDigo lá dentro, porque cá fora o\\nque esvoaçou foi uma borboleta preta, que subitamente penetrou na varanda, e\\ncomeçou a bater as asas em derredor de D. Eusébia. D. Eusébia deu um grito,\\nlevantou-se, praguejou umas palavras soltas: \\x97 T'esconjuro!... Sai, diabo!...\\nVirgem Nossa Senhora!...\\n\\n\\x97 Não tenha medo, disse eu; e,\\ntirando o lenço, expeli a borboleta. D. Eusébia sentou-se outra vez, ofegante,\\num pouco envergonhada; a filha, pode ser que pálida de medo, dissimulava a\\nimpressão com muita força de vontade. Apertei-lhes a mão e saí, a rir comigo da\\nsuperstição das duas mulheres, um rir filosófico, desinteressado, superior. De\\ntarde, vi passar a cavalo a filha de D. Eusébia, seguida de um pajem; fez-me um\\ncumprimento com a ponta do chicote. Confesso que me lisonjeei com a idéia de\\nque, alguns passos adiante, ela voltaria a cabeça para trás; mas não voltou.\\n\\nCAPÍTULO XXXI / A BORBOLETA\\nPRETA\\n\\nNa dia seguinte, como eu estivesse\\na preparar-me para descer, entrou no meu quarto uma borboleta, tão negra como a\\noutra, e muito maior do que ela. Lembrou-me o caso da véspera, e ri-me; entrei\\nlogo a pensar na filha de D. Eusébia, no susto que tivera, e na dignidade que,\\napesar dele, soube conservar. A borboleta, depois de esvoaçar muito em torno de\\nmim, pousou-me na testa. Sacudi-a, ela foi pousar na vidraça; e, porque eu a\\nsacudisse de novo, saiu dali e veio parar em cima de um velho retrato de meu\\npai. Era negra como a noite. O gesto brando com que, uma vez posta, começou a\\nmover as asas, tinha um certo ar escarninho, que me aborreceu muito. Dei de\\nombros, saí do quarto; mas tornando lá, minutos depois, e achando-a ainda no\\nmesmo lugar, senti um repelão dos nervos, lancei mão de uma toalha, bati-lhe e\\nela caiu.\\n\\nNão caiu morta; ainda torcia o\\ncorpo e movia as farpinhas da cabeça. Apiedei-me; tomei-a na palma da mão e fui\\ndepô-la no peitoril da janela. Era tarde; a infeliz expirou dentro de alguns\\nsegundos. Fiquei um pouco aborrecido, incomodado.\\n\\n\\x97 Também por que diabo não era ela\\nazul? disse comigo.\\n\\nE esta reflexão, \\x97 uma das mais\\nprofundas que se tem feito, desde a invenção das borboletas, \\x97 me consolou do\\nmalefício, e me reconciliou comigo mesmo. Deixei-me estar a contemplar o\\ncadáver, com alguma simpatia, confesso. Imaginei que ela saíra do mato, almoçada\\ne feliz. A manhã era linda. Veio por ali fora, modesta e negra, espairecendo as\\nsuas borboletices, sob a vasta cúpula de um céu azul, que é sempre azul, para\\ntodas as asas. Passa pela minha janela, entra e dá comigo. Suponho que nunca\\nteria visto um homem; não sabia, portanto, o que era o homem; descreveu\\ninfinitas voltas em torno do meu corpo, e viu que me movia, que tinha olhos,\\nbraços, pernas, um ar divino, uma estatura colossal. Então disse consigo: \\x93Este\\né provavelmente o inventor das borboletas.\\x94 A idéia subjugou-a, aterrou-a; mas o\\nmedo, que é também sugestivo, insinuou-lhe que o melhor modo de agradar ao seu\\ncriador era beijá-lo na testa, e beijou-me na testa. Quando enxotada por mim,\\nfoi pousar na vidraça, viu dali o retrato de meu pai, e não é impossível que\\ndescobrisse meia verdade, a saber, que estava ali o pai do inventor das\\nborboletas, e voou a pedir-lhe misericórdia.\\n\\nPois um golpe de toalha rematou a\\naventura. Não lhe valeu a imensidade azul, nem a alegria das flores, nem a pompa\\ndas folhas verdes, contra uma toalha de rosto, dois palmos de linho cru. Vejam\\ncomo é bom ser superior às borboletas! Porque, é justo dizê-lo, se ela fosse\\nazul, ou cor de laranja, não teria mais segura a vida; não era impossível que eu\\na atravessasse com um alfinete, para recreio dos olhos. Não era. Esta última\\nidéia restituiu-me a consolação; uni o dedo grande ao polegar, despedi um\\npiparote e o cadáver caiu no jardim. Era tempo; aí vinham já as próvidas\\nformigas... Não, volto à primeira idéia; creio que para ela era melhor ter\\nnascido azul.\\n\\nCAPÍTULO XXXII / COXA DE\\nNASCENÇA\\n\\nFui dali acabar os preparativos da\\nviagem. Já agora não me demoro mais. Desço imediatamente; desço, ainda que algum\\nleitor circunspecto me detenha para perguntar se o capítulo passado é apenas uma\\nsensaboria ou se chega a empulhação... Ai, não contava com D. Eusébia. Estava\\npronto, quando me entrou por casa. Vinha convidar-me para transferir a descida,\\ne ir lá jantar nesse dia. Cheguei a recusar; mas instou tanto, tanto, tanto, que\\nnão pude deixar de aceitar; demais, era-lhe devida aquela compensação; fui.\\n\\nEugênia desataviou-se nesse dia\\npor minha causa. Creio que foi por minha causa, \\x97 se é que não andava muita vez\\nassim. Sem as bichas de ouro, que trazia na véspera, lhe pendiam agora das\\norelhas, duas orelhas finamente recortadas numa cabeça de ninfa. Um simples\\nvestido branco, de cassa, sem enfeites, tendo ao colo, em vez de broche, um\\nbotão de madrepérola, e outro botão nos punhos, fechando as mangas, e nem sombra\\nde pulseira.\\n\\nEra isso no corpo; não era outra\\ncoisa no espírito. Idéias claras, maneiras chãs, certa graça natural, um ar de\\nsenhora, e não sei se alguma outra coisa; sim, a boca, exatamente a boca da mãe,\\na qual me lembrava o episódio de 1814, e então dava-me ímpetos de glosar o mesmo\\nmote à filha...\\n\\n\\x97 Agora vou mostrar-lhe a chácara,\\ndisse a mãe, logo que esgotamos o último gole de café.\\n\\nSaímos à varanda, dali à chácara,\\ne foi então que notei uma circunstância. Eugênia coxeava um pouco, tão pouco,\\nque eu cheguei a perguntar-lhe se machucara o pé. A mãe calou-se; a filha\\nrespondeu sem titubear:\\n\\n\\x97 Não, senhor, sou coxa de\\nnascença.\\n\\nMandei-me a todos os diabos;\\nchamei-me desastrado, grosseirão. Com efeito, a simples possibilidade de ser\\ncoxa era bastante para lhe não perguntar nada. Então lembrou-me que da primeira\\nvez que a vi \\x97 na véspera \\x97 a moça chegara-se lentamente à cadeira da mãe, e que\\nnaquele dia já a achei à mesa de jantar. Talvez fosse para encobrir o defeito;\\nmas por que razão o confessava agora? Olhei para ela e reparei que ia triste.\\n\\nTratei de apagar os vestígios de\\nmeu desazo; \\x97 não me foi difícil, porque a mãe era, segundo confessara, uma\\nvelha patusca, e prontamente travou de conversa comigo. Vimos toda a chácara,\\nárvores, flores, tanque de patos, tanque de lavar, uma infinidade de coisas, que\\nela me ia mostrando, e comentando, ao passo que eu, de soslaio, perscrutava os\\nolhos de Eugênia...\\n\\nPalavra que o olhar de Eugênia não\\nera coxo, mas direito, perfeitamente são; vinha de uns olhos pretos e\\ntranqüilos. Creio que duas ou três vezes baixaram estes, um pouco turvados; mas\\nduas ou três vezes somente; em geral, fitavam-me com franqueza, sem temeridade,\\nnem biocos.\\n\\nCAPÍTULO XXXIII /\\nBEM-AVENTURADOS OS QUE NÃO DESCEM\\n\\nO pior é que era coxa. Uns olhos\\ntão lúcidos, uma boca tão fresca, uma compostura tão senhoril; e coxa! Esse\\ncontraste faria suspeitar que a natureza é às vezes um imenso escárnio. Por que\\nbonita, se coxa? por que coxa, se bonita? Tal era a pergunta que eu vinha\\nfazendo a mim mesmo ao voltar para casa, de noite, sem atinar com a solução do\\nenigma. O melhor que há, quando se não resolve um enigma, é sacudi-lo pela\\njanela fora; foi o que eu fiz; lancei mão de uma toalha e enxotei essa outra\\nborboleta preta, que me adejava no cérebro. Fiquei aliviado e fui dormir. Mas o\\nsonho, que é uma fresta do espírito, deixou novamente entrar o bichinho, e aí\\nfiquei eu a noite toda a cavar o mistério, sem explicá-lo.\\n\\nAmanheceu chovendo, transferi a\\ndescida; mas no outro dia, a manhã era límpida e azul, e apesar disso deixei-me\\nficar, não menos que no terceiro dia, e no quarto, até o fim da semana. Manhãs\\nbonitas, frescas, convidativas; lá embaixo a família a chamar-me, e a noiva, e o\\nParlamento, e eu sem acudir a coisa nenhuma, enlevado ao pé da minha Vênus\\nManca. Enlevado é uma maneira de realçar o estilo; não havia enlevo, mas gosto,\\numa certa satisfação física e moral. Queria-lhe, é verdade; ao pé dessa criatura\\ntão singela, filha espúria e coxa, feita de amor e desprezo, ao pé dela\\nsentia-me bem, e ela creio que ainda se sentia melhor ao pé de mim. E isto na\\nTijuca. Uma simples égloga. D. Eusébia vigiava-nos, mas pouco; temperava a\\nnecessidade com a conveniência. A filha, nessa primeira explosão da natureza,\\nentregava-me a alma em flor.\\n\\n\\x97 O senhor desce amanhã? disse-me\\nela no sábado.\\n\\n\\x97 Pretendo.\\n\\n\\x97 Não desça.\\n\\nNão desci, e acrescentei um\\nversículo ao Evangelho: \\x97 Bem-aventurados os que não descem, porque deles é o\\nprimeiro beijo das moças. Com efeito, foi no domingo esse primeiro beijo de\\nEugênia, \\x97 o primeiro que nenhum outro varão jamais lhe tomara, e não furtado ou\\narrebatado, mas candidamente entregue, como um devedor honesto paga uma dívida.\\nPobre Eugênia! Se tu soubesses que idéias me vagavam pela mente fora naquela\\nocasião! Tu, trêmula de comoção, com os braços nos meus ombros, a contemplar em\\nmim o teu bem-vindo esposo, e eu com os olhos de 1814, na moita, no Vilaça, e a\\nsuspeitar que não podias mentir ao teu sangue, à tua origem...\\n\\nD. Eusébia entrou inesperadamente,\\nmas não tão súbita, que nos apanhasse ao pé um do outro. Eu fui até à janela;\\nEugênia sentou-se a concertar uma das tranças. Que dissimulação graciosa! que\\narte infinita e delicada! que tartufice profunda! e tudo isso natural, vivo, não\\nestudado, natural como o apetite, natural como o sono. Tanto melhor! D. Eusébia\\nnão suspeitou nada.\\n\\nCAPÍTULO XXXIV / A UMA ALMA\\nSENSÍVEL\\n\\nHá aí, entre as cinco ou dez\\npessoas que me lêem, há aí uma alma sensível, que está decerto um tanto agastada\\ncom o capítulo anterior, começa a tremer pela sorte de Eugênia, e talvez... sim,\\ntalvez, lá no fundo de si mesma, me chame cínico. Eu cínico, alma sensível? Pela\\ncoxa de Diana! esta injúria merecia ser lavada com sangue, se o sangue lavasse\\nalguma coisa nesse mundo. Não, alma sensível, eu não sou cínico, eu fui homem;\\nmeu cérebro foi um tablado em que se deram peças de todo gênero, o drama sacro,\\no austero, o piegas, a comédia louçã, a desgrenhada farsa, os autos, as\\nbufonerias, um pandemônio, alma sensível, uma barafunda de coisas e pessoas, em\\nque podias ver tudo, desde a rosa de Esmirna até a arruda do teu quintal, desde\\no magnífico leito de Cleópatra até o recanto da praia em que o mendigo tirita o\\nseu sono. Cruzavam-se nele pensamentos de vária casta e feição. Não havia ali a\\natmosfera somente da águia e do beija-flor; havia também a da lesma e do sapo.\\nRetira, pois, a expressão, alma sensível, castiga os nervos, limpa os óculos, \\x97\\nque isso às vezes é dos óculos, \\x97 e acabemos de uma vez com esta flor da moita.\\n\\nCAPÍTULO XXXV / O CAMINHO DE\\nDAMASCO\\n\\nOra aconteceu, que, oito dias\\ndepois, como eu estivesse no caminho de Damasco, ouvi uma voz misteriosa, que me\\nsussurrou as palavras da Escritura (At. IX, 7): \\x93Levanta-te, e entra na\\ncidade.\\x94 Essa voz saía de mim mesmo, e tinha duas origens: a piedade, que me\\ndesarmava ante a candura da pequena, e o terror de vir a amar deveras, e\\ndesposá-la. Uma mulher coxa! Quanto a este motivo da minha descida, não há\\nduvidar que ela o achou e mo disse. Foi na varanda, na tarde de uma\\nsegunda-feira, ao anunciar-lhe que na seguinte manhã viria para baixo. \\x97 Adeus,\\nsuspirou ela estendendo-me a mão com simplicidade; faz bem. \\x97 E como eu nada\\ndissesse, continuou: \\x97 Faz bem em fugir ao ridículo de casar comigo. Ia\\ndizer-lhe que não; ela retirou-se lentamente, engolindo as lágrimas. Alcancei-a\\na poucos passos, e jurei-lhe por todos os santos do Céu que eu era obrigado a\\ndescer, mas que não deixava de lhe querer e muito; tudo hipérboles frias, que\\nela escutou sem dizer nada.\\n\\n\\x97 Acredita-me? perguntei eu no\\nfim.\\n\\n\\x97 Não, e digo-lhe que faz bem.\\n\\nQuis retê-la, mas o olhar que me\\nlançou não foi já de súplica, senão de império. Desci da Tijuca, na manhã\\nseguinte, um pouco amargurado, outro pouco satisfeito. Vinha dizendo a mim mesmo\\nque era justo obedecer a meu pai, que era conveniente abraçar a carreira\\npolítica... que a constituição... que a minha noiva... que o meu cavalo...\\n\\nCAPÍTULO XXXVI / A PROPÓSITO DE\\nBOTAS\\n\\nMeu pai, que me não esperava,\\nabraçou-me cheio de ternura e agradecimento. \\x97 Agora é deveras? disse ele. Posso\\nenfim...?\\n\\nDeixei-o nessa reticência, e fui\\ndescalçar as botas, que estavam apertadas. Uma vez aliviado, respirei à larga, e\\ndeitei-me a fio comprido, enquanto os pés, e todo eu atrás deles, entrávamos\\nnuma relativa bem-aventurança. Então considerei que as botas apertadas são uma\\ndas maiores venturas da Terra, porque, fazendo doer os pés, dão azo ao prazer de\\nas descalçar. Mortifica os pés, desgraçado, desmortifica-os depois, e aí tens a\\nfelicidade barata, ao sabor dos sapateiros e de Epicuro. Enquanto esta idéia me\\ntrabalhava no famoso trapézio, lançava eu os olhos para a Tijuca, e via a\\naleijadinha perder-se no horizonte do pretérito, e sentia que o meu coração não\\ntardaria também a descalçar as suas botas. E descalçou-as o lascivo. Quatro ou\\ncinco dias depois, saboreava esse rápido, inefável e incoercível momento de\\ngozo, que sucede a uma dor pungente, a uma preocupação, a um incômodo... Daqui\\ninferi eu que a vida é o mais engenhoso dos fenômenos, porque só aguça a fome,\\ncom o fim de deparar a ocasião de comer, e não inventou os calos, senão porque\\neles aperfeiçoam a felicidade terrestre. Em verdade vos digo que toda a\\nsabedoria humana não vale um par de botas curtas.\\n\\nTu, minha Eugênia, é que não as\\ndescalçaste nunca; foste aí pela estrada da vida, manquejando da perna e do\\namor, triste como os enterros pobres, solitária, calada, laboriosa, até que\\nvieste também para esta outra margem... O que eu não sei é se a tua existência\\nera muito necessária ao século. Quem sabe? Talvez um comparsa de menos fizesse\\npatear a tragédia humana.\\n\\nCAPÍTULO XXXVII /\\nENFIM!\\n\\nEnfim! eis aqui Virgília. Antes de\\nir à casa do Conselheiro Dutra, perguntei a meu pai se havia algum ajuste prévio\\nde casamento.\\n\\n\\x97 Nenhum ajuste. Há tempos,\\nconversando com ele a teu respeito, confessei-lhe o desejo que tinha de te ver\\ndeputado; e de tal modo falei, que ele prometeu fazer alguma coisa, e creio que\\no fará. Quanto à noiva, é o nome que dou a uma criaturinha, que é uma jóia, uma\\nflor, uma estrela, uma coisa rara... é a filha dele; imaginei que, se casasses\\ncom ela, mais depressa serias deputado.\\n\\n\\x97 Só isto?\\n\\n\\x97 Só isto.\\n\\nFomos dali à casa do Dutra. Era\\numa pérola esse homem, risonho, jovial, patriota, um pouco irritado com os males\\npúblicos, mas não desesperando de os curar depressa. Achou que a minha\\ncandidatura era legítima; convinha, porém, esperar alguns meses. E logo me\\napresentou à mulher, \\x97 uma estimável senhora, \\x97 e à filha, que não desmentiu em\\nnada o panegírico de meu pai. Juro-vos que em nada. Relede o capítulo XXVII. Eu,\\nque levava idéias a respeito da pequena, fitei-a de certo modo; ela, que não sei\\nse as tinha, não me fitou de modo diferente; e o nosso olhar primeiro foi pura e\\nsimplesmente conjugal. No fim de um mês estávamos íntimos.\\n\\nCAPÍTULO XXXVIII / A QUARTA\\nEDIÇÃO\\n\\n\\x97 Venha cá jantar amanhã, disse-me\\no Dutra uma noite.\\n\\nAceitei o convite. No dia\\nseguinte, mandei que a sege me esperasse no Largo de São Francisco de Paula, e\\nfui dar várias voltas. Lembra-vos ainda a minha teoria das edições humanas? Pois\\nsabei que, naquele tempo, estava eu na quarta edição, revista e emendada, mas\\nainda inçada de descuidos e barbarismos; defeito que, aliás, achava alguma\\ncompensação no tipo, que era elegante, e na encadernação, que era luxuosa. Dadas\\nas voltas, ao passar pela Rua dos Ourives, consulto o relógio e cai-me o vidro\\nna calçada. Entro na primeira loja que tinha à mão; era um cubículo, \\x97 pouco\\nmais, \\x97 empoeirado e escuro.\\n\\nAo fundo, por trás do balcão,\\nestava sentada uma mulher, cujo rosto amarelo e bexiguento não se destacava\\nlogo, à primeira vista; mas logo que se destacava era um espetáculo curioso. Não\\npodia ter sido feia; ao contrário, via-se que fora bonita, e não pouco bonita;\\nmas a doença e uma velhice precoce, destruíam-lhe a flor das graças. As bexigas\\ntinham sido terríveis; os sinais, grandes e muitos, faziam saliências e\\nencarnas, declives e aclives, e davam uma sensação de lixa grossa, enormemente\\ngrossa. Eram os olhos a melhor parte do vulto, e aliás tinham uma expressão\\nsingular e repugnante, que mudou, entretanto, logo que eu comecei a falar.\\nQuanto ao cabelo, estava ruço e quase tão poento como os portais da loja. Num\\ndos dedos da mão esquerda fulgia-lhe um diamante. Crê-lo-eis, pósteros? essa\\nmulher era Marcela.\\n\\nNão a conheci logo; era difícil;\\nela porém conheceu-me apenas lhe dirigi a palavra. Os olhos chisparam e trocaram\\na expressão usual por outra, meio doce e meio triste. Vi-lhe um movimento como\\npara esconder-se ou fugir; era o instinto da vaidade, que não durou mais de um\\ninstante. Marcela acomodou-se e sorriu.\\n\\n\\x97 Quer comprar alguma coisa? disse\\nela estendendo-me a mão.\\n\\nNão respondi nada. Marcela\\ncompreendeu a causa do meu silêncio (não era difícil), e só hesitou, creio eu,\\nem decidir o que dominava mais, se o assombro do presente, se a memória do\\npassado. Deu-me uma cadeira, e, com o balcão permeio, falou-me longamente de si,\\nda vida que levara, das lágrimas que eu lhe fizera verter, das saudades, dos\\ndesastres, enfim das bexigas, que lhe escalavraram o rosto, e do tempo, que\\najudou a moléstia, adiantando-lhe a decadência. Verdade é que tinha a alma\\ndecrépita. Vendera tudo, quase tudo; um homem, que a amara outrora, e lhe morreu\\nnos braços, deixara-lhe aquela loja de ourivesaria, mas, para que a desgraça\\nfosse completa, era agora pouco buscada a loja \\x97 talvez pela singularidade de a\\ndirigir uma mulher. Em seguida pediu-me que lhe contasse a minha vida. Gastei\\npouco tempo em dizer-lha; não era longa, nem interessante.\\n\\n\\x97 Casou? disse Marcela no fim de\\nminha narração.\\n\\n\\x97 Ainda não, respondi secamente.\\n\\nMarcela lançou os olhos para a\\nrua, com a atonia de quem reflete ou relembra; eu deixei-me ir então ao passado,\\ne, no meio das recordações e saudades, perguntei a mim mesmo por que motivo\\nfizera tanto desatino. Não era esta certamente a Marcela de 1822; mas a beleza\\nde outro tempo valia uma terça parte dos meus sacrifícios? Era o que eu buscava\\nsaber, interrogando o rosto de Marcela. O rosto dizia-me que não; ao mesmo tempo\\nos olhos me contavam que, já outrora, como hoje, ardia neles a flama da cobiça.\\nOs meus é que não souberam ver-lha; eram olhos da primeira edição.\\n\\n\\x97 Mas por que entrou aqui? viu-me\\nda rua? perguntou ela, saindo daquela espécie de torpor.\\n\\n\\x97 Não, supunha entrar numa casa de\\nrelojoeiro; queria comprar um vidro para este relógio; vou a outra parte;\\ndesculpe-me; tenho pressa.\\n\\nMarcela suspirou com tristeza. A\\nverdade é que eu me sentia pungido e aborrecido, ao mesmo tempo, e ansiava por\\nme ver fora daquela casa. Marcela, entretanto, chamou um moleque, deu-lhe o\\nrelógio, e, apesar da minha oposição, mandou-o, a uma loja na vizinhança,\\ncomprar o vidro. Não havia remédio; sentei-me outra vez. Disse ela então que\\ndesejava ter a proteção dos conhecidos de outro tempo; ponderou que mais tarde\\nou mais cedo era natural que me casasse, e afiançou que me daria finas jóias por\\npreços baratos. Não disse preços baratos, mas usou uma metáfora delicada\\ne transparente. Entrei a desconfiar que não padecera nenhum desastre (salvo a\\nmoléstia), que tinha o dinheiro a bom recado, e que negociava com o único fim de\\nacudir à paixão do lucro, que era o verme roedor daquela existência; foi isso\\nmesmo que me disseram depois.\\n\\nCAPÍTULO XXXIX / O\\nVIZINHO\\n\\nEnquanto eu fazia comigo mesmo\\naquela reflexão, entrou na loja um sujeito baixo, sem chapéu, trazendo pela mão\\numa menina de quatro anos.\\n\\n\\x97 Como passou de hoje de manhã?\\ndisse ele a Marcela.\\n\\n\\x97 Assim, assim. Vem cá, Maricota.\\n\\nO sujeito levantou a criança pelos\\nbraços e passou-a para dentro do balcão.\\n\\n\\x97 Anda, disse ele; pergunta a D.\\nMarcela como passou a noite. Estava ansiosa por vir cá, mas a mãe não tinha\\npodido vesti-la.., Então, Maricota? Toma a bênção... Olha a vara de marmelo!\\nAssim... Não imagina o que ela é lá em casa; fala na senhora a todos os\\ninstantes, e aqui parece uma pamonha. Ainda ontem... Digo, Maricota?\\n\\n\\x97 Não, diga, não, papai.\\n\\n\\x97 Então foi alguma coisa feia?\\nperguntou Marcela batendo na cara da menina.\\n\\n\\x97 Eu lhe digo; a mãe ensina-lhe a\\nrezar todas as noites um padre-nosso e uma ave-maria, oferecidos a Nossa\\nSenhora; mas a pequena ontem veio pedir-me com voz muito humilde... imagine o\\nquê?... que queria oferecê-los a Santa Marcela.\\n\\n\\x97 Coitadinha! disse Marcela\\nbeijando-a.\\n\\n\\x97 É um namoro, uma paixão, como a\\nsenhora não imagina... A mãe diz que é feitiço...\\n\\nContou mais algumas coisas o\\nsujeito, todas muito agradáveis, até que saiu levando a menina, não sem\\ndeitar-me um olhar interrogativo ou suspeitoso. Perguntei a Marcela quem era\\nele.\\n\\n\\x97 É um relojoeiro da vizinhança,\\num bom homem; a mulher também; e a filha é galante, não? Parecem gostar muito de\\nmim... é boa gente.\\n\\nAo proferir estas palavras havia\\num tremor de alegria na voz de Marcela; e no rosto como que se lhe espraiou uma\\nonda de ventura...\\n\\nCAPÍTULO XL / NA\\nSEGE\\n\\nNisto entrou o moleque trazendo o\\nrelógio com o vidro novo. Era tempo; já me custava estar ali; dei uma moedinha\\nde prata ao moleque; disse a Marcela que voltaria noutra ocasião, e saí a passo\\nlargo. Para dizer tudo, devo confessar que o coração me batia um pouco; mas era\\numa espécie de dobre de finados. O espírito ia travado de impressões opostas.\\nNotem que aquele dia amanhecera alegre para mim. Meu pai, ao almoço, repetiu-me,\\npor antecipação, o primeiro discurso que eu tinha de proferir na Câmara dos\\nDeputados; rimo-nos muito, e o sol também, que estava brilhante, como nos mais\\nbelos dias do mundo; do mesmo modo que Virgília devia rir, quando eu lhe\\ncontasse as nossas fantasias do almoço. Vai senão quando, cai-me o vidro do\\nrelógio; entro na primeira loja que me fica à mão; e eis me surge o passado,\\nei-lo que me lacera e beija; ei-lo que me interroga, com um rosto cortado de\\nsaudades e bexigas...\\n\\nLá o deixei; meti-me às pressas na\\nsege, que me esperava no Largo de São Francisco de Paula, e ordenei ao boleeiro\\nque rodasse pelas ruas fora. O boleeiro atiçou as bestas, a sege entrou a\\nsacolejar-me, as molas gemiam, as rodas sulcavam rapidamente a lama que deixara\\na chuva recente, e tudo isso me parecia estar parado. Não há, às vezes, um certo\\nvento morno, não forte nem áspero, mas abafadiço, que nos não leva o chapéu da\\ncabeça, nem rodomoinha nas saias das mulheres, e todavia é ou parece ser pior do\\nque se fizesse uma e outra coisa, porque abate, afrouxa, e como que dissolve os\\nespíritos? Pois eu tinha esse vento comigo; e, certo de que ele me soprava por\\nachar-me naquela espécie de garganta entre o passado e o presente, almejava por\\nsair à planície do futuro. O pior é que a sege não andava.\\n\\n\\x97 João, bradei eu ao boleeiro.\\nEsta sege anda ou não anda?\\n\\n\\x97 Uê! nhonhô! Já estamos parados\\nna porta de sinhô conselheiro.\\n\\nCAPÍTULO XLI / A\\nALUCINAÇÃO\\n\\nEra verdade. Entrei apressado;\\nachei Virgília ansiosa, mau humor, fronte nublada. A mãe, que era surda, estava\\nna sala com ela. No fim dos cumprimentos disse-me a moça com sequidão:\\n\\n\\x97 Esperávamos que viesse mais\\ncedo.\\n\\nDefendi-me do melhor modo; falei\\ndo cavalo que empacara, e de um amigo, que me detivera. De repente morre-me a\\nvoz nos lábios, fico tolhido de assombro. Virgília... seria Virgília aquela\\nmoça? Fitei-a muito, e a sensação foi tão penosa, que recuei um passo e desviei\\na vista. Tornei a olhá-la. As bexigas tinham-lhe comido o rosto; a pele, ainda\\nna véspera tão fina, rosada e pura, aparecia-me agora amarela, estigmada pelo\\nmesmo flagelo, que devastara o rosto da espanhola. Os olhos, que eram travessos,\\nfizeram-se murchos; tinha o lábio triste e a atitude cansada. Olhei-a bem;\\npeguei-lhe na mão, e chamei-a brandamente a mim. Não me enganava; eram as\\nbexigas. Creio que fiz um gesto de repulsa.\\n\\nVirgília afastou-se, e foi\\nsentar-se no sofá. Eu fiquei algum tempo a olhar para os meus próprios pés.\\nDevia sair ou ficar? Rejeitei o primeiro alvitre, que era simplesmente absurdo,\\ne encaminhei-me para Virgília, que lá estava sentada e calada. Céus! Era outra\\nvez a fresca, a juvenil, a florida Virgília. Em vão procurei no rosto dela algum\\nvestígio da doença; nenhum havia; era a pele fina e branca do costume.\\n\\n\\x97 Nunca me viu? perguntou\\nVirgília, vendo que a encarava com insistência.\\n\\n\\x97 Tão bonita, nunca.\\n\\nSentei-me, enquanto Virgília,\\ncalada, fazia estalar as unhas. Seguiram-se alguns segundos de pausa. Falei-lhe\\nde coisas estranhas ao incidente; ela porém não me respondia nada, nem olhava\\npara mim. Menos o estalido, era a estátua do Silêncio. Uma só vez me deitou os\\nolhos, mas muito de cima, soerguendo a pontinha esquerda do lábio, contraindo as\\nsobrancelhas, ao ponto de as unir; todo esse conjunto de coisas dava-lhe ao\\nrosto uma expressão média, entre cômica e trágica.\\n\\nHavia alguma afetação naquele\\ndesdém; era um arrebique do gesto. Lá dentro, ela padecia, e não pouco, \\x97 ou\\nfosse mágoa pura, ou só despeito; e porque a dor que se dissimula dói mais, é\\nmuito provável que Virgília padecesse em dobro do que realmente devia padecer.\\nCreio que isto é metafísica.\\n\\nCAPÍTULO XLII / QUE ESCAPOU A\\nARISTÓTELES\\n\\nOutra coisa que também me parece\\nmetafísica é isto: \\x97 Dá-se movimento a uma bola, por exemplo; rola esta,\\nencontra outra bola, transmite-lhe o impulso, e eis a segunda boa a rolar como a\\nprimeira rolou. Suponhamos que a primeira bola se chama... Marcela, \\x97 é uma\\nsimples suposição; a segunda, Brás Cubas; a terceira, Virgília. Temos que\\nMarcela, recebendo um piparote do passado rolou até tocar em Brás Cubas, \\x97 o\\nqual, cedendo à força impulsiva, entrou a rolar também até esbarrar em Virgília,\\nque não tinha nada com a primeira bola; e eis aí como, pela simples transmissão\\nde uma força, se tocam os extremos sociais, e se estabelece uma coisa que\\npoderemos chamar \\x97 solidariedade do aborrecimento humano. Como é que este\\ncapítulo escapou a Aristóteles?\\n\\nCAPÍTULO XLIII / MARQUESA,\\nPORQUE EU SEREI MARQUÊS\\n\\n Positivamente, era um diabrete\\nVirgília, um diabrete angélico, se querem, mas era-o, e então...\\n\\nEntão apareceu o Lobo Neves, um\\nhomem que não era mais esbelto que eu, nem mais elegante, nem mais lido, nem\\nmais simpático, e todavia foi quem me arrebatou Virgília e a candidatura, dentro\\nde poucas semanas, com um ímpeto verdadeiramente cesariano. Não precedeu nenhum\\ndespeito; não houve a menor violência de família. Dutra veio dizer-me, um dia,\\nque esperasse outra aragem, porque a candidatura de Lobo Neves era apoiada por\\ngrandes influências. Cedi; tal foi o começo da minha derrota. Uma semana depois,\\nVirgília perguntou ao Lobo Neves, a sorrir, quando seria ele ministro.\\n\\n\\x97 Pela minha vontade, já; pelas\\ndos outros, daqui a um ano.\\n\\nVirgília replicou:\\n\\n\\x97 Promete que algum dia me fará\\nbaronesa?\\n\\n\\x97 Marquesa, porque eu serei\\nmarquês.\\n\\nDesde então fiquei perdido.\\nVirgília comparou a águia e o pavão, e elegeu a águia, deixando o pavão com o\\nseu espanto, o seu despeito, e três ou quatro beijos que lhe dera. Talvez cinco\\nbeijos; mas dez que fossem não queria dizer coisa nenhuma. O lábio do homem não\\né como a pata do cavalo de Átila, que esterilizava o solo em que batia; é\\njustamente o contrário.\\n\\nCAPÍTULO XLIV / UM\\nCUBAS!\\n\\nMeu pai ficou atônito com o\\ndesenlace, e quer-me parecer que não morreu de outra coisa. Eram tantos os\\ncastelos que engenhara, tantos e tantíssimos os sonhos, que não podia vê-los\\nassim esboroados, sem padecer um forte abalo no organismo. A princípio não quis\\ncrê-lo. Um Cubas! um galho da árvore ilustre dos Cubas! E dizia isto com tal\\nconvicção, que eu, já então informado da nossa tanoaria, esqueci um instante a\\nvolúvel dama, para só contemplar aquele fenômeno, não raro, mas curioso: uma\\nimaginação graduada em consciência.\\n\\n\\x97 Um Cubas! repetia-me ele na\\nseguinte manhã, ao almoço.\\n\\nNão foi alegre o almoço; eu\\npróprio estava a cair de sono. Tinha velado uma parte da noite. De amor? Era\\nimpossível; não se ama duas vezes a mesma mulher, e eu, que tinha de amar\\naquela, tempos depois, não lhe estava agora preso por nenhum outro vínculo, além\\nde uma fantasia passageira, alguma obediência e muita fatuidade. E isto basta a\\nexplicar a vigília; era despeito, um despeitozinho agudo como ponta de alfinete,\\no qual se desfez, com charutos, murros, leituras truncadas, até romper a aurora,\\na mais tranqüila das auroras.\\n\\nMas eu era moço, tinha o remédio\\nem mim mesmo. Meu pai é que não pôde suportar facilmente a pancada. Pensando\\nbem, pode ser que não morresse precisamente do desastre; mas que o desastre lhe\\ncomplicou as últimas dores, é positivo. Morreu daí a quatro meses, \\x97\\nacabrunhado, triste, com uma preocupação intensa e contínua, à semelhança de\\nremorso, um desencanto mortal, que lhe substituiu os reumatismos e tosses. Teve\\nainda meia hora de alegria; foi quando um dos ministros o visitou. Vi-lhe, \\x97\\nlembra-me bem, \\x97 vi-lhe o grato sorriso de outro tempo, e nos olhos uma\\nconcentração de 1uz, que era, por assim dizer, o último lampejo da alma\\nexpirante. Mas a tristeza tornou logo, a tristeza de morrer sem me ver posto em\\nalgum lugar alto, como aliás me cabia.\\n\\n\\x97 Um Cubas!\\n\\nMorreu alguns dias depois da\\nvisita do ministro, uma manhã de maio, entre os dois filhos, Sabina e eu, e mais\\no tio Ildefonso e meu cunhado. Morreu sem lhe poder valer a ciência dos médicos,\\nnem o nosso amor, nem os cuidados, que foram muitos, nem coisa nenhuma; tinha de\\nmorrer, morreu.\\n\\n\\x97 Um Cubas!\\n\\nCAPÍTULO XLV /\\nNOTAS\\n\\nSoluços, lágrimas, casa armada,\\nveludo preto nos portais, um homem que veio vestir o cadáver, outro que tomou a\\nmedida do caixão, caixão, essa, tocheiros, convites, convidados que entravam,\\nlentamente, a passo surdo, e apertavam a mão à família, alguns tristes, todos\\nsérios e calados, padre e sacristão, rezas, aspersões d\\x92água benta, o fechar do\\ncaixão, a prego e martelo, seis pessoas que o tomam da essa, e o levantam, e o\\ndescem a custo pela escada, não obstante os gritos, soluços e novas lágrimas da\\nfamília, e vão até o coche fúnebre, e o colocam em cima e traspassam e apertam\\nas correias, o rodar do coche, o rodar dos carros, um a um... Isto que parece um\\nsimples inventário, eram notas que eu havia tomado para um capítulo triste e\\nvulgar que não escrevo.\\n\\nCAPÍTULO XLVI / A\\nHERANÇA\\n\\nVeja-nos agora o leitor, oito dias\\ndepois da morte de meu pai, \\x97 minha irmã sentada num sofá, \\x97 pouco adiante,\\nCotrim, de pé, encostado a um consolo, com os braços cruzados e a morder o\\nbigode, \\x97 eu a passear de um lado para outro, com os olhos no chão. Luto pesado.\\nProfundo silêncio.\\n\\n\\x97 Mas afinal, disse Cotrim; esta\\ncasa pouco mais pode valer de trinta contos; demos que valha trinta e cinco...\\n\\n\\x97 Vale cinqüenta, ponderei; Sabina\\nsabe que custou cinqüenta e oito...\\n\\n\\x97 Podia custar até sessenta,\\ntornou Cotrim; mas não se segue que os valesse, e menos ainda que os valha hoje.\\nVocê sabe que as casas, aqui há anos, baixaram muito. Olhe, se esta vale os\\ncinqüenta contos, quantos não vale a que você deseja para si, a do Campo?\\n\\n\\x97 Não fale nisso! Uma casa velha.\\n\\n\\x97 Velha! exclamou Sabina,\\nlevantando as mãos ao teto.\\n\\n\\x97 Parece-lhe nova, aposto?\\n\\n\\x97 Ora, mano, deixe-se dessas\\ncoisas, disse Sabina, erguendo-se do sofá; podemos arranjar tudo em boa amizade,\\ne com lisura. Por exemplo, Cotrim não aceita os pretos, quer só o boleeiro de\\npapai e o Paulo...\\n\\n\\x97 O boleeiro não, acudi eu; fico\\ncom a sege e não hei de ir comprar outro.\\n\\n\\x97 Bem; fico com o Paulo e o\\nPrudêncio.\\n\\n\\x97 O Prudêncio está livre.\\n\\n\\x97 Livre?\\n\\n\\x97 Há dois anos.\\n\\n\\x97 Livre? Como seu pai arranjava\\nestas coisas cá por casa, sem dar parte a ninguém! Está direito. Quanto à\\nprata... creio que não libertou a prata?\\n\\nTínhamos falado na prata, a velha\\nprataria do tempo de D. José I, a porção mais grave da herança, já pelo lavor,\\njá pela vetustez, já pela origem da propriedade; dizia meu pai que o Conde da\\nCunha, quando vice-rei do Brasil, a dera de presente a meu bisavô Luís Cubas.\\n\\n\\x97 Quanto à prata, continuou\\nCotrim, eu não faria questão nenhuma, se não fosse o desejo que sua irmã tem de\\nficar com ela; e acho-lhe razão. Sabina é casada, e precisa de uma copa digna,\\napresentável. Você é solteiro, não recebe, não...\\n\\n\\x97 Mas posso casar.\\n\\n\\x97 Para quê? interrompeu Sabina.\\n\\nEra tão sublime esta pergunta, que\\npor alguns instantes me fez esquecer os interesses. Sorri; peguei na mão de\\nSabina, bati-lhe levemente na palma, tudo isso com tão boa sombra, que o Cotrim\\ninterpretou o gesto como de aquiescência, e agradeceu-mo.\\n\\n\\x97 Que é lá? redargüi; não cedi\\ncoisa nenhuma, nem cedo.\\n\\n\\x97 Nem cede?\\n\\nAbanei a cabeça.\\n\\n\\x97 Deixa, Cotrim, disse minha irmã\\nao marido; vê se ele quer ficar também com a nossa roupa do corpo; é só o que\\nfalta.\\n\\n\\x97 Não falta mais nada. Quer a\\nsege, quer o boleeiro, quer a prata, quer tudo. Olhe, é muito mais sumário\\ncitar-nos a juízo e provar com testemunhas que Sabina não é sua irmã, que eu não\\nsou seu cunhado e que Deus não é Deus. Faça isto, e não perde nada, nem uma\\ncolherinha. Ora, meu amigo, outro ofício!\\n\\nEstava tão agastado, e eu não\\nmenos, que entendi oferecer um meio de conciliação; dividir a prata. Riu-se e\\nperguntou-me a quem caberia o bule e a quem o açucareiro; e depois desta\\npergunta, declarou que teríamos tempo de liquidar a pretensão, quando menos em\\njuízo. Entretanto, Sabina fora até à janela que dava para a chácara, \\x97 e depois\\nde um instante, voltou, e propôs ceder o Paulo e outro preto, com a condição de\\nficar com a prata; eu ia dizer que não me convinha, mas Cotrim adiantou-se e\\ndisse a mesma coisa.\\n\\n\\x97 Isso nunca! não faço esmolas!\\ndisse ele.\\n\\nJantamos tristes. Meu tio cônego\\napareceu à sobremesa, e ainda presenciou uma pequena altercação.\\n\\n\\x97 Meus filhos, disse ele,\\nlembrem-se que meu irmão deixou um pão bem grande para ser repartido por todos.\\n\\nMas Cotrim:\\n\\n\\x97 Creio, creio. A questão, porém,\\nnão é de pão, é de manteiga. Pão seco é que eu não engulo.\\n\\nFizeram-se finalmente as\\npartilhas, mas nós estávamos brigados. E digo-lhes que, ainda assim, custou-me\\nmuito a brigar com Sabina. Éramos tão amigos! Jogos pueris, fúrias de criança,\\nrisos e tristezas da idade adulta, dividimos muita vez esse pão da alegria e da\\nmiséria, irmãmente, como bons irmãos que éramos. Mas estávamos brigados. Tal\\nqual a beleza de Marcela, que se esvaiu com as bexigas.\\n\\nCAPÍTULO XLVII / O\\nRECLUSO\\n\\nMarcela, Sabina, Virgília... aí\\nestou eu a fundir todos os contrastes, como se esses nomes e pessoas não fossem\\nmais do que modos de ser da minha afeição interior. Pena de maus costumes, ata\\numa gravata ao estilo, veste-lhe um colete menos sórdido; e depois sim, depois\\nvem comigo, entra nessa casa, estira-te nessa rede que me embalou a melhor parte\\ndos anos que decorreram desde o inventário de meu pai até 1842. Vem; se te\\ncheirar a algum aroma de toucador, não cuides que o mandei derramar para meu\\nregalo; é um vestígio da N. ou da Z. ou da U. \\x97 que todas essas letras\\nmaiúsculas embalaram aí a sua elegante abjeção. Mas, se além do aroma, quiseres\\noutra coisa, fica-te com o desejo, porque eu não guardei retratos, nem cartas,\\nnem memórias, a mesma comoção esvaiu-se, e só me ficaram as letras iniciais.\\n\\nVivi meio recluso, indo de longe\\nem longe a algum baile, ou teatro, ou palestra, mas a maior parte do tempo\\npassei-a comigo mesmo. Vivia; deixava-me ir ao curso e recurso dos sucessos e\\ndos dias, ora buliçoso, ora apático, entre a ambição e o desânimo. Escrevia\\npolítica e fazia literatura. Mandava artigos e versos para as folhas públicas, e\\ncheguei a alcançar certa reputação de polemista e de poeta. Quando me lembrava\\ndo Lobo Neves, que era já deputado, e de Virgília, futura marquesa, perguntava a\\nmim mesmo por que não seria melhor deputado e melhor marquês do que o Lobo\\nNeves, \\x97 eu, que valia mais, muito mais do que ele, \\x97 e dizia isto a olhar para\\na ponta do nariz...\\n\\nCAPÍTULO XLVIII / UM PRIMO DE\\nVIRGÍLIA\\n\\n\\x97 Sabe quem chegou ontem de São\\nPaulo? perguntou-me uma noite Luís Dutra.\\n\\nLuís Dutra era um primo de\\nVirgília, que também privava com as musas. Os versos dele agradavam e valiam\\nmais do que os meus; mas ele tinha necessidade da sanção de alguns, que lhe\\nconfirmasse o aplauso dos outros. Como fosse acanhado, não interrogava a\\nninguém; mas deleitava-se com ouvir alguma palavra de apreço; então criava novas\\nforças e arremetia juvenilmente ao trabalho.\\n\\nPobre Luís Dutra! Apenas publicava\\nalguma coisa, corria à minha casa, e entrava a girar em volta de mim, à espreita\\nde um juízo, de uma palavra, de um gesto, que lhe aprovasse a recente produção,\\ne eu falava-lhe de mil coisas diferentes, \\x97 do último baile do Catete, da\\ndiscussão das câmaras, de berlindas e cavalos, \\x97 de tudo, menos dos seus versos\\nou prosas. Ele respondia-me, a princípio com animação, depois mais frouxo,\\ntorcia a rédea da conversa para o seu assunto dele, abria um livro,\\nperguntava-me se tinha algum trabalho novo, e eu dizia-lhe que sim ou que não,\\nmas torcia a rédea para o outro lado, e lá ia ele atrás de mim, até que empacava\\nde todo e saía triste. Minha intenção era fazê-lo duvidar de si mesmo,\\ndesanimá-lo, eliminá-lo. E tudo isto a olhar para a ponta do nariz...\\n\\nCAPÍTULO XLIX / A PONTA DO\\nNARIZ\\n\\nNariz, consciência sem remorsos,\\ntu me valeste muito na vida... Já meditaste alguma vez no destino do nariz,\\namado leitor? A explicação do Doutor Pangloss é que o nariz foi criado para uso\\ndos óculos, \\x97 e tal explicação confesso que até certo tempo me pareceu\\ndefinitiva; mas veio um dia, em que, estando a ruminar esse e outros pontos\\nobscuros de filosofia, atinei com a única, verdadeira e definitiva explicação.\\n\\nCom efeito, bastou-me atentar no\\ncostume do faquir. Sabe o leitor que o faquir gasta longas horas a olhar para a\\nponta do nariz, com o fim único de ver a luz celeste. Quando ele finca os olhos\\nna ponta do nariz, perde o sentimento das coisas externas, embeleza-se no\\ninvisível, aprende o impalpável, desvincula-se da terra, dissolve-se,\\neteriza-se. Essa sublimação do ser pela ponta do nariz é o fenômeno mais excelso\\ndo espírito, e a faculdade de a obter não pertence ao faquir somente: é\\nuniversal. Cada homem tem necessidade e poder de contemplar o seu próprio nariz,\\npara o fim de ver a luz celeste, e tal contemplação, cujo efeito é a\\nsubordinação do universo a um nariz somente, constitui o equilíbrio das\\nsociedades. Se os narizes se contemplassem exclusivamente uns aos outros, o\\ngênero humano não chegaria a durar dois séculos: extinguia-se com as primeiras\\ntribos.\\n\\nOuço daqui uma objeção do leitor:\\n\\x97 Como pode ser assim, diz ele se nunca jamais ninguém não viu estarem os homens\\na contemplar o seu próprio nariz?\\n\\nLeitor obtuso, isso prova que\\nnunca entraste no cérebro de um chapeleiro. Um chapeleiro passa por uma loja de\\nchapéus; é a loja de um rival, que a abriu há dois anos; tinha então duas\\nportas, hoje tem quatro; promete ter seis a oito. Nas vidraças ostentam-se os\\nchapéus do rival; pelas portas entram os fregueses do rival; o chapeleiro\\ncompara aquela loja com a sua, que é mais antiga e tem só duas portas, e aqueles\\nchapéus com os seus, menos buscados, ainda que de igual preço. Mortifica-se\\nnaturalmente; mas vai andando, concentrado, com os olhos para baixo ou para a\\nfrente, a indagar as causas da prosperidade do outro e do seu próprio atraso,\\nquando ele chapeleiro é muito melhor chapeleiro do que o outro chapeleiro...\\nNesse instante é que os olhos se fixam na ponta do nariz.\\n\\nA conclusão, portanto, é que há\\nduas forças capitais: o amor, que multiplica a espécie, e o nariz, que a\\nsubordina ao indivíduo. Procriação, equilíbrio.\\n\\nCAPÍTULO L / VIRGÍLIA\\nCASADA\\n\\n\\x97 Quem chegou de São Paulo foi\\nminha prima Virgília, casada com o Lobo Neves, continuou Luís Dutra.\\n\\n\\x97 Ah!\\n\\n\\x97 E só hoje é que eu soube uma\\ncoisa, seu maganão...\\n\\n\\x97 Que foi?\\n\\n\\x97 Que você quis casar com ela.\\n\\n\\x97 Idéias de meu pai. Quem lhe\\ndisse isso?\\n\\n\\x97 Ela mesma. Falei-lhe muito em\\nvocê, e ela então contou-me tudo.\\n\\nNo dia seguinte, estando na Rua do\\nOuvidor, à porta da tipografia do Plancher, vi assomar, a distância, uma mulher\\nesplêndida. Era ela; só a reconheci a poucos passos, tão outra estava, a tal\\nponto a natureza e a arte lhe haviam dado o último apuro. Cortejamo-nos; ela\\nseguiu; entrou com o marido na carruagem, que os esperava um pouco acima; fiquei\\natônito.\\n\\nOito dias depois, encontrei-a num\\nbaile; creio que chegamos a trocar duas ou três palavras. Mas noutro baile, dado\\ndaí a um mês, em casa de uma senhora, que ornara os salões do primeiro reinado,\\ne não desornava então os do segundo, a aproximação foi maior e mais longa,\\nporque conversamos e valsamos. A valsa é uma deliciosa coisa. Valsamos; não nego\\nque, ao conchegar ao meu corpo aquele corpo flexível e magnífico, tive uma\\nsingular sensação, uma sensação de homem roubado.\\n\\n\\x97 Está muito calor, disse ela,\\nlogo que acabamos. Vamos ao terraço?\\n\\n\\x97 Não; pode constipar-se. Vamos a\\noutra sala.\\n\\nNa outra sala estava Lobo Neves,\\nque me fez muitos cumprimentos, acerca dos meus escritos políticos,\\nacrescentando que nada dizia dos literários por não entender deles; mas os\\npolíticos eram excelentes, bem pensados e bem escritos. Respondi-lhe com iguais\\nesmeros de cortesia, e separamo-nos contentes um do outro.\\n\\nCerca de três semanas depois\\nrecebi um convite dele para uma reunião íntima. Fui; Virgília recebeu-me com\\nesta graciosa palavra: \\x97 O senhor hoje há de valsar comigo. \\x97 Em verdade, eu\\ntinha fama e era valsista emérito; não admira que ela me preferisse. Valsamos\\numa vez, e mais outra vez. Um livro perdeu Francesca; cá foi a valsa que nos\\nperdeu. Creio que essa noite apertei-lhe a mão com muita força, e ela deixou-a\\nficar, como esquecida, e eu a abraçá-la, e todos com os olhos em nós, e nos\\noutros que também se abraçavam e giravam... Um delírio.\\n\\nCAPÍTULO LI / É\\nMINHA!\\n\\n\\x97 É minha! disse eu comigo, logo\\nque a passei a outro cavalheiro; e confesso que durante o resto da noite,\\nfoi-se-me a idéia entranhando no espírito, não à força de martelo, mas de\\nverruma, que é mais insinuativa.\\n\\n\\x97 É minha! dizia eu ao chegar à\\nporta de casa.\\n\\nMas aí, como se o destino ou o\\nacaso, ou o que quer que fosse, se lembrasse de dar algum pasto aos meus\\narroubos possessórios, luziu-me no chão uma coisa redonda e amarela. Abaixei-me;\\nera uma moeda de ouro, uma meia dobra.\\n\\n\\x97 É minha! repeti eu a rir-me, e\\nmeti-a no bolso.\\n\\nNessa noite não pensei mais na\\nmoeda; mas no dia seguinte, recordando o caso, senti uns repelões da\\nconsciência, e uma voz que me perguntava por que diabo seria minha uma moeda que\\neu não herdara nem ganhara, mas somente achara na rua. Evidentemente não era\\nminha; era de outro, daquele que a perdera, rico ou pobre, e talvez fosse pobre,\\nalgum operário que não teria com que dar de comer à mulher e aos filhos; mas se\\nfosse rico, o meu dever ficava o mesmo. Cumpria restituir a moeda, e o melhor\\nmeio, o único meio, era fazê-lo por intermédio de um anúncio ou da polícia.\\nEnviei uma carta ao chefe de polícia, remetendo-lhe o achado, e rogando-lhe que,\\npelos meios a seu alcance, fizesse devolvê-lo às mãos do verdadeiro dono.\\n\\nMandei a carta e almocei\\ntranqüilo, posso até dizer que jubiloso. Minha consciência valsara tanto na\\nvéspera, que chegou a ficar sufocada, sem respiração; mas a restituição da meia\\ndobra foi uma janela que se abriu para o outro lado da moral; entrou uma onda de\\nar puro, e a pobre dama respirou à larga. Ventilai as consciências! não vos digo\\nmais nada. Todavia, despido de quaisquer outras circunstâncias, o meu ato era\\nbonito, porque exprimia um justo escrúpulo, um sentimento de alma delicada. Era\\no que me dizia a minha dama interior, com um modo austero e meigo a um tempo; é\\no que ela me dizia, reclinada ao peitoril da janela aberta.\\n\\n\\x97 Fizeste bem, Cubas; andaste\\nperfeitamente. Este ar não é só puro, é balsâmico, é uma transpiração dos\\neternos jardins. Queres ver o que fizeste, Cubas?\\n\\nE a boa dama sacou um espelho e\\nabriu-mo diante dos olhos. Vi, claramente vista, a meia dobra da véspera,\\nredonda, brilhante, multiplicando-se por si mesma, \\x97 ser dez \\x97 depois trinta \\x97\\ndepois quinhentas, \\x97 exprimindo assim o benefício que me daria na vida e na\\nmorte o simples ato da restituição. E eu espraiava todo o meu ser na\\ncontemplação daquele ato, revia-me nele, achava-me bom, talvez grande. Uma\\nsimples moeda, hem? Vejam o que é ter valsado um poucochinho mais.\\n\\nAssim eu, Brás Cubas, descobri uma\\nlei sublime, a lei da equivalência das janelas, e estabeleci que o modo de\\ncompensar uma janela fechada é abrir outra, a fim de que a moral possa arejar\\ncontinuamente a consciência. Talvez não entendas o que aí fica; talvez queiras\\numa coisa mais concreta, um embrulho, por exemplo, um embrulho misterioso. Pois\\ntoma lá o embrulho misterioso.\\n\\nCAPÍTULO LII / O EMBRULHO\\nMISTERIOSO\\n\\nFoi o caso que, alguns dias\\ndepois, indo eu a Botafogo, tropecei num embrulho, que estava na praia. Não digo\\nbem; houve menos tropeção que pontapé. Vendo um embrulho, pão grande, mas limpo\\ne corretamente feito, atado com um barbante rijo, uma coisa que parecia alguma\\ncoisa, lembrou-me bater-lhe com o pé, assim por experiência, e bati, e o\\nembrulho resistiu. Relanceei os olhos em volta de mim; a praia estava deserta;\\nao longe uns meninos brincavam, \\x97 um pescador curava as redes ainda mais longe,\\n\\x97 ninguém que pudesse ver a minha ação; inclinei-me, apanhei o embrulho e segui.\\n\\nSegui, mas não sem receio. Podia\\nser uma pulha de rapazes. Tive idéia de devolver o achado à praia, mas apalpei-o\\ne rejeitei a idéia. Um pouco adiante, desandei o caminho e guiei para casa.\\n\\n\\x97 Vejamos, disse eu ao entrar no\\ngabinete.\\n\\nE hesitei um instante, creio que\\npor vergonha; assaltou-me outra vez o receio da pulha. É certo que não havia ali\\nnenhuma testemunha externa; mas eu tinha dentro de mim mesmo um garoto, que\\nhavia de assobiar, guinchar, grunhir, patear, apupar, cacarejar, fazer o diabo,\\nse me visse abrir o embrulho e achar dentro uma dúzia de lenços velhos ou duas\\ndúzias de goiabas podres. Era tarde; a curiosidade estava aguçada, como deve\\nestar a do leitor; desfiz o embrulho, e vi... achei... contei... recontei nada\\nmenos de cinco contos de réis. Nada menos. Talvez uns dez mil-réis mais. Cinco\\ncontos em boas notas e moedas, tudo asseadinho e arranjadinho, um achado raro.\\nEmbrulhei-as de novo. Ao jantar pareceu-me que um dos moleques falara a outro\\ncom os olhos. Ter-me-iam espreitado? Interroguei-os discretamente, e concluí que\\nnão. Sobre o jantar fui outra vez ao gabinete, examinei o dinheiro, e ri-me dos\\nmeus cuidados maternais a respeito de cinco contos, \\x97 eu, que era abastado.\\n\\nPara não pensar mais naquilo fui\\nde noite à casa do Lobo Neves, que instara muito comigo não deixasse de\\nfreqüentar as recepções da mulher. Lá encontrei o chefe de polícia; fui-lhe\\napresentado; ele lembrou-se logo da carta e da meia dobra que eu lhe remetera\\nalguns dias antes. Aventou o caso; Virgília pareceu saborear o meu procedimento,\\ne cada um dos presentes acertou de contar uma anedota análoga, que eu ouvi com\\nimpaciência de mulher histérica.\\n\\nDe noite, no dia seguinte, em toda\\naquela semana pensei o menos que pude nos cinco contos, e até confesso que os\\ndeixei muito quietinhos na gaveta da secretária. Gostava de falar de todas as\\ncoisas, menos de dinheiro, e principalmente de dinheiro achado; todavia não era\\ncrime achar dinheiro, era uma felicidade, um bom acaso, era talvez um lance da\\nProvidência. Não podia ser outra coisa. Não se perdem cinco contos, como se\\nperde um lenço de tabaco. Cinco contos levam-se com trinta mil sentidos,\\napalpam-se a miúdo, não se lhes tiram os olhos de cima, nem as mãos, nem o\\npensamento, e para se perderem assim tolamente, numa praia, é necessário que...\\nCrime é que não podia ser o achado; nem crime, nem desonra, nem nada que\\nembaciasse o caráter de um homem. Era um achado, um acerto feliz, como a sorte\\ngrande, como as apostas de cavalo, como os ganhos de um jogo honesto e até direi\\nque a minha felicidade era merecida, porque eu não me sentia mau, nem indigno\\ndos benefícios da Providência.\\n\\n\\x97 Estes cinco contos, dizia eu\\ncomigo, três semanas depois, hei de empregá-los em alguma ação boa, talvez um\\ndote a alguma menina pobre, ou outra coisa assim... hei de ver...\\n\\nNesse mesmo dia levei-os ao Banco\\ndo Brasil. Lá me receberam com muitas e delicadas alusões ao caso da meia dobra,\\ncuja notícia andava já espalhada entre as pessoas do meu conhecimento; respondi\\nenfadado que a coisa não valia a pena de tamanho estrondo; louvaram-me então a\\nmodéstia, \\x97 e porque eu me encolerizasse, replicaram-me que era simplesmente\\ngrande.\\n\\nCAPÍTULO LIII / . . . .\\n.\\n\\nVirgília é que já se não lembrava\\nda meia dobra; toda ela estava concentrada em mim, nos meus olhos, na minha\\nvida, no meu pensamento; \\x97 era o que dizia, e era verdade.\\n\\nHá umas plantas que nascem e\\ncrescem depressa; outras são tardias e pecas. O nosso amor era daquelas; brotou\\ncom tal ímpeto e tanta seiva, que, dentro em pouco, era a mais vasta, folhuda e\\nexuberante criatura dos bosques. Não lhes poderei dizer, ao certo, os dias que\\ndurou esse crescimento. Lembra-me, sim, que, em certa noite, abotoou-se a flor,\\nou o beijo, se assim lhe quiserem chamar, um beijo que ela me deu, trêmula, \\x97\\ncoitadinha, \\x97 trêmula de medo, porque era ao portão da chácara. Uniu-nos esse\\nbeijo único, \\x97 breve como a ocasião, ardente como o amor, prólogo de uma vida de\\ndelícias, de terrores, de remorsos, de prazeres que rematavam em dor, de\\naflições que desabrochavam em alegria, \\x97 uma hipocrisia paciente e sistemática,\\núnico freio de uma paixão sem freio, \\x97 vida de agitações, de cóleras, de\\ndesesperos e de ciúmes, que uma hora pagava à farta e de sobra; mas outra hora\\nvinha e engolia aquela, como tudo mais, para deixar à tona as agitações e o\\nresto, e o resto do resto, que é o fastio e a saciedade: tal foi o livro daquele\\nprólogo.\\n\\nCAPÍTULO LIV / A\\nPÊNDULA\\n\\nSaí dali a saborear o beijo. Não\\npude dormir; estirei-me na cama, é certo, mas foi o mesmo que nada. Ouvi as\\nhoras todas da noite. Usualmente, quando eu perdia o sono, o bater da pêndula\\nfazia-me muito mal; esse tique-taque soturno, vagaroso e seco parecia dizer a\\ncada golpe que eu ia ter um instante menos de vida. Imaginava então um velho\\ndiabo, sentado entre dois sacos, o da vida e o da morte, a tirar as moedas da\\nvida para dá-las à morte, e a contá-las assim:\\n\\n\\x97 Outra de menos...\\n\\n\\x97 Outra de menos...\\n\\n\\x97 Outra de menos...\\n\\n\\x97 Outra de menos...\\n\\nO mais singular é que, se o\\nrelógio parava, eu dava-lhe corda, para que ele não deixasse de bater nunca, e\\neu pudesse contar todos os meus instantes perdidos. Invenções há, que se\\ntransformam ou acabam; as mesmas instituições morrem; o relógio é definitivo e\\nperpétuo. O derradeiro homem, ao despedir-se do sol frio e gasto, há de ter um\\nrelógio na algibeira, para saber a hora exata em que morre.\\n\\nNaquela noite não padeci essa\\ntriste sensação de enfado, mas outra, e deleitosa. As fantasias tumultuavam-me\\ncá dentro, vinham umas sobre outras, à semelhança de devotas que se abalroam\\npara ver o anjo-cantor das procissões. Não ouvia os instantes perdidos, mas os\\nminutos ganhados. De certo tempo em diante não ouvi coisa nenhuma, porque o meu\\npensamento, ardiloso e traquinas, saltou pela janela fora e bateu as asas na\\ndireção da casa de Virgília. Aí achou no peitoril de uma janela o pensamento de\\nVirgília, saudaram-se e ficaram de palestra. Nós a rolarmos na cama, talvez com\\nfrio, necessitados de repouso, e os dois vadios ali postos, a repetirem o velho\\ndiálogo de Adão e Eva.\\n\\nCAPÍTULO LV / O VELHO DIÁLOGO\\nDE ADÃO E EVA\\n\\nBRÁS\\nCUBAS................................?\\n\\nVIRGÍLIA...............................\\n\\nBRÁS\\nCUBAS................................................................................................\\n\\n........................................................\\n\\nVIRGÍLIA..........................................!\\n\\nBRÁS\\nCUBAS.................................\\n\\nVIRGÍLIA..........................................................................................................................................................?\\n..................................................\\n\\n.......................................................\\n\\nBRÁS\\nCUBAS.................................\\n\\nVIRGÍLIA...............................................\\n\\nBRÁS\\nCUBAS..............................................................................................\\n\\n.............................\\n..........!..............................!...........................!\\n\\nVIRGÍLIA....................................................?\\n\\nBRÁS\\nCUBAS..............................................!\\n\\nVIRGÍLIA...................................................!\\n\\nCAPÍTULO LVI / O MOMENTO\\nOPORTUNO\\n\\nMas, com a breca! quem me\\nexplicará a razão desta diferença? Um dia vimo-nos, tratamos o casamento,\\ndesfizemo-lo e separamo-nos, a frio, sem dor, porque não houvera paixão nenhuma;\\nmordeu-me apenas algum despeito e nada mais. Correm anos, torno a vê-la, damos\\ntrês ou quatro giros de valsa, e eis-nos a amar um ao outro com delírio. A\\nbeleza de Virgília chegara, é certo, a um alto grau de apuro, mas nós éramos\\nsubstancialmente os mesmos, e eu, à minha parte, não me tornara mais bonito nem\\nmais elegante. Quem me explicará a razão dessa diferença?\\n\\nA razão não podia ser outra senão\\no momento oportuno. Não era oportuno o primeiro momento, porque, se nenhum de\\nnós estava verde para o amor, ambos o estávamos para o nosso amor:\\ndistinção fundamental. Não há amor possível sem a oportunidade dos sujeitos.\\nEsta explicação achei-a eu mesmo, dois anos depois do beijo, um dia em que\\nVirgília se me queixava de um pintalegrete que lá ia e tenazmente a galanteava.\\n\\n\\x97 Que importuno! dizia ela fazendo\\numa careta de raiva.\\n\\nEstremeci, fitei-a, vi que a\\nindignação era sincera; então ocorreu-me que talvez eu tivesse provocado alguma\\nvez aquela mesma careta, e compreendi logo toda a grandeza da minha evolução.\\nTinha vindo de importuno a oportuno.\\n\\nCAPÍTULO LVII /\\nDESTINO\\n\\nSim, senhor, amávamos. Agora, que\\ntodas as leis sociais no-lo impediam, agora é que nos amávamos deveras.\\nAchávamo-nos jungidos um ao outro, como as duas almas que o poeta encontrou no\\nPurgatório:\\n\\nDi pari, come buoi, che vanno a\\ngiogo;\\n\\ne digo mal, comparando-nos a bois,\\nporque nós éramos outra espécie de animal menos tardo, mais velhaco e lascivo.\\nEis-nos a caminhar sem saber até onde, nem por que estradas escusas; problema\\nque me assustou, durante algumas semanas, mas cuja solução entreguei ao destino.\\nPobre Destino! Onde andarás agora, grande procurador dos negócios humanos?\\nTalvez estejas a criar pele nova, outra cara, outras maneiras, outro nome, e não\\né impossível que... Já me não lembra onde estava... Ah! nas estradas escusas.\\nDisse eu comigo que já agora seria o que Deus quisesse. Era a nossa sorte\\namar-nos; se assim não fora, como explicaríamos a valsa e o resto? Virgília\\npensava a mesma coisa. Um dia, depois de me confessar que tinha momentos de\\nremorsos, como eu lhe dissesse que, se tinha remorsos, é porque me não tinha\\namor, Virgília cingiu-me com os seus magníficos braços, murmurando:\\n\\n\\x97 Amo-te, é a vontade do Céu.\\n\\nE esta palavra não vinha à toa;\\nVirgília era um pouco religiosa. Não ouvia missa aos domingos, é verdade, e\\ncreio até que só ia às igrejas em dia de festa, e quando havia lugar vago em\\nalguma tribuna. Mas rezava todas as noites, com fervor, ou, pelo menos, com\\nsono. Tinha medo às trovoadas; nessas ocasiões, tapava os ouvidos, e resmoneava\\ntodas as orações do catecismo. Na alcova dela havia um oratoriozinho de\\njacarandá, obra de talha, de três palmos de altura, com três imagens dentro; mas\\nnão falava dele às amigas; ao contrário, tachava de beatas as que eram só\\nreligiosas. Algum tempo desconfiei que havia nela certo vexame de crer, e que a\\nsua religião era uma espécie de camisa de flanela, preservativa e clandestina;\\nmas evidentemente era engano meu.\\n\\nCAPÍTULO LVIII /\\nCONFIDÊNCIA\\n\\nLobo Neves, a princípio, metia-me\\ngrandes sustos. Pura ilusão! Como adorasse a mulher, não se vexava de mo dizer\\nmuitas vezes; achava que Virgília era a perfeição mesma, um conjunto de\\nqualidades sólidas e finas, amorável, elegante, austera, um modelo. E a\\nconfiança não parava aí. De fresta que era, chegou a porta escancarada. Um dia\\nconfessou-me que trazia uma triste carcoma na existência; faltava-lhe a glória\\npública. Animei-o; disse-lhe muitas coisas bonitas, que ele ouviu com aquela\\nunção religiosa de um desejo que não quer acabar de morrer; então compreendi que\\na ambição dele andava cansada de bater as asas, sem poder abrir o vôo. Dias\\ndepois disse-me todos os seus tédios e desfalecimentos, as amarguras engolidas,\\nas raivas sopitadas; contou-me que a vida política era um tecido de invejas,\\ndespeitos, intrigas, perfídias, interesses, vaidades. Evidentemente havia aí uma\\ncrise de melancolia; tratei de combatê-la.\\n\\n\\x97 Sei o que lhe digo, replicou-me\\ncom tristeza. Não pode imaginar o que tenho passado. Entrei na política por\\ngosto, por família, por ambição, e um pouco por vaidade. Já vê que reuni em mim\\nsó todos os motivos que levam o homem à vida pública; faltou-me só o interesse\\nde outra natureza. Vira o teatro pelo lado da platéia; e, palavra, que era\\nbonito! Soberbo cenário, vida, movimento e graça na representação.\\nEscriturei-me; deram-me um papel que... Mas para que o estou a fatigar com isto?\\nDeixe-me ficar com as minhas amofinações. Creia que tenho passado horas e\\ndias... Não há constância de sentimentos, não há gratidão, não há nada...\\nnada.... nada...\\n\\nCalou-se, profundamente abatido,\\ncom os olhos no ar, parecendo não ouvir coisa nenhuma, a não ser o eco de seus\\npróprios pensamentos. Após alguns instantes, ergueu-se e estendeu-me a mão: \\x97 O\\nsenhor há de rir-se de mim, disse ele; mas desculpe aquele desabafo; tinha um\\nnegócio, que me mordia o espírito. E ria, de um jeito sombrio e triste; depois\\npediu-me que não referisse a ninguém o que se passara entre nós; ponderei-lhe\\nque a rigor não se passara nada. Entraram dois deputados e um chefe político da\\nparóquia. Lobo Neves recebeu-os com alegria, a princípio um tanto postiça, mas\\nlogo depois natural. No fim de meia hora, ninguém diria que ele não era o mais\\nafortunado dos homens; conversava, chasqueava, e ria, e riam todos.\\n\\nCAPÍTULO LIX / UM\\nENCONTRO\\n\\nDeve ser um vinho enérgico a\\npolítica, dizia eu comigo, ao sair da casa de Lobo Neves; e fui andando, fui\\nandando, até que na Rua dos Barbonos vi uma sege, e dentro um dos ministros, meu\\nantigo companheiro de colégio. Cortejamo-nos afetuosamente, a sege seguiu, e eu\\nfui andando... andando... andando...\\n\\n\\x97 Por que não serei eu\\nministro?\\n\\nEsta idéia, rútila e grande, \\x97\\ntrajada ao bizarro, como diria o Padre Bernardes, \\x97 esta idéia começou uma\\nvertigem de cabriolas e eu deixei-me estar com os olhos nela, a achar-lhe graça.\\nNão pensei mais na tristeza de Lobo Neves; sentia a atração do abismo. Recordei\\naquele companheiro de colégio, as correrias nos morros, as alegrias e\\ntravessuras, e comparei o menino com o homem, e perguntei a mim mesmo por que\\nnão seria eu como ele. Entrava então no Passeio Público, e tudo me parecia dizer\\na mesma coisa. \\x97 Por que não serás ministro, Cubas? \\x97 Cubas, por que não serás\\nministro de Estado? Ao ouvi-lo, uma deliciosa sensação me refrescava todo o\\norganismo. Entrei, fui sentar-me num banco, a remoer aquela idéia. E Virgília\\nque havia de gostar! Alguns minutos depois vejo encaminhar-se para mim uma cara,\\nque não me pareceu desconhecida. Conhecia-a, fosse donde fosse.\\n\\nImaginem um homem de trinta e oito\\na quarenta anos, alto, magro e pálido. As roupas, salvo o feitio, pareciam ter\\nescapado ao cativeiro de Babilônia; o chapéu era contemporâneo do de Gessler.\\nImaginem agora uma sobrecasaca, mais larga do que pediam as carnes, \\x97 ou,\\nliteralmente, os ossos da pessoa; a cor preta ia cedendo o passo a um amarelo\\nsem brilho; o pêlo desaparecia aos poucos; dos oito primitivos botões restavam\\ntrês. As calças, de brim pardo, tinham duas fortes joelheiras, enquanto as\\nbainhas eram roídas pelo tacão de um botim sem misericórdia nem graxa. Ao\\npescoço flutuavam as pontas de uma gravata de duas cores, ambas desmaiadas,\\napertando um colarinho de oito dias. Creio que trazia também colete, um colete\\nde seda escura, roto a espaços, e desabotoado.\\n\\n\\x97 Aposto que me não conhece, Sr.\\nDr. Cubas? disse ele.\\n\\n\\x97 Não me lembra...\\n\\n\\x97 Sou o Borba, o Quincas Borba.\\n\\nRecuei espantado... Quem me dera\\nagora o verbo solene de um Bossuet ou de Vieira, para contar tamanha desolação!\\nEra o Quincas Borba, o gracioso menino de outro tempo, o meu companheiro de\\ncolégio, tão inteligente e abastado. Quincas Borba! Não; impossível; não pode\\nser. Não podia acabar de crer que essa figura esquálida, essa barba pintada de\\nbranco, esse maltrapilho avelhentado, que toda essa ruína fosse o Quincas Borba.\\nMas era. Os olhos tinham um resto da expressão de outro tempo, e o sorriso não\\nperdera certo ar escarninho, que lhe era peculiar. Entretanto, ele suportava com\\nfirmeza o meu espanto. No fim de algum tempo arredei os olhos; se a figura\\nrepelia, a comparação acabrunhava.\\n\\n\\x97 Não é preciso contar-lhe nada,\\ndisse ele enfim; o senhor adivinha tudo. Uma vida de misérias, de atribulações e\\nde lutas. Lembra-se das nossas festas, em que eu figurava de rei? Que\\ntrambolhão! Acabo mendigo...\\n\\nE alçando a mão direita e os\\nombros, com um ar de indiferença, parecia resignado aos golpes da fortuna, e não\\nsei até se contente. Talvez contente. Com certeza, impassível. Não havia nele a\\nresignação cristã, nem a conformidade filosófica. Parece que a miséria lhe\\ncalejara a alma, a ponto de lhe tirar a sensação de lama. Arrastava os andrajos,\\ncomo outrora a púrpura: com certa graça indolente.\\n\\n\\x97 Procure-me, disse eu, poderei\\narranjar-lhe alguma coisa.\\n\\nUm sorriso magnífico lhe abriu os\\nlábios. \\x97 Não é o primeiro que me promete alguma coisa, replicou, e não sei se\\nserá o último que não me fará nada. E para quê? Eu nada peço, a não ser\\ndinheiro; dinheiro sim, porque é necessário comer, e as casas de pasto não fiam.\\nNem as quitandeiras. Uma coisa de nada, uns dois vinténs de angu, nem isso fiam\\nas malditas quitandeiras... Um inferno, meu... ia dizer meu amigo... Um inferno!\\no diabo! todos os diabos! Olhe, ainda hoje não almocei.\\n\\n\\x97 Não?\\n\\n\\x97 Não; saí muito cedo de casa.\\nSabe onde moro? No terceiro degrau das escadas de São Francisco, à esquerda de\\nquem sobe; não precisa bater na porta. Casa fresca, extremamente fresca. Pois\\nsaí cedo, e ainda não comi...\\n\\nTirei a carteira, escolhi uma nota\\nde cinco mil-réis, \\x97 a menos limpa, \\x97 e dei-lha. Ele recebeu-ma com os olhos\\ncintilantes de cobiça. Levantou a nota ao ar, e agitou-a entusiasmado.\\n\\n\\x97 In hoc signo vinces!\\nbradou.\\n\\nE depois beijou-a, com muitos\\nademanes de ternura, e tão ruidosa expansão, que me produziu um sentimento misto\\nde nojo e lástima. Ele, que era arguto, entendeu-me; ficou sério, grotescamente\\nsério, e pediu-me desculpa da alegria, dizendo que era alegria de pobre que não\\nvia, desde muitos anos, uma nota de cinco mil-réis.\\n\\n\\x97 Pois está em suas mãos ver\\noutras muitas, disse eu.\\n\\n\\x97 Sim? acudiu ele, dando um bote\\npara mim.\\n\\n\\x97 Trabalhando, concluí eu.\\n\\nFez um gesto de desdém; calou-se\\nalguns instantes; depois disse-me positivamente que não queria trabalhar. Eu\\nestava enjoado dessa abjeção tão cômica e tão triste, e preparei-me para sair.\\n\\n\\x97 Não vá sem eu lhe ensinar a\\nminha filosofia da miséria, disse ele, escarranchando-se diante de mim.\\n\\nCAPÍTULO LX / O\\nABRAÇO\\n\\nCuidei que o pobre diabo estivesse\\ndoido, e ia afastar-me, quando ele me pegou no pulso, e olhou alguns instantes\\npara o brilhante que eu trazia no dedo. Senti-lhe na mão uns estremeções de\\ncobiça, uns pruridos de posse.\\n\\n\\x97 Magnífico! disse ele.\\n\\nDepois começou a andar à roda de\\nmim e a examinar-me muito.\\n\\n\\x97 O senhor trata-se, disse ele.\\nJóias, roupa fina, elegante e.. Compare esses sapatos aos meus; que diferença!\\nPudera não! Digo-lhe que se trata. E moças? Como vão elas? Está casado?\\n\\n\\x97 Não...\\n\\n\\x97 Nem eu.\\n\\n\\x97 Moro na rua...\\n\\n\\x97 Não quero saber onde mora,\\natalhou Quincas Borba. Se alguma vez nos virmos, dê-me outra nota de cinco\\nmil-réis; mas permita-me que não a vá buscar à sua casa. É uma espécie de\\norgulho... Agora, adeus; vejo que está impaciente.\\n\\n\\x97 Adeus!\\n\\n\\x97 E obrigado. Deixa-me\\nagradecer-lhe de mais perto?\\n\\nE dizendo isto abraçou-me com tal\\nímpeto, que não pude evitá-lo. Separamo-nos finalmente, eu a passo largo, com a\\ncamisa amarrotada do abraço, enfadado e triste. Já não dominava em mim a parte\\nsimpática da sensação, mas a outra. Quisera ver-lhe a miséria digna. Contudo,\\nnão pude deixar de comparar outra vez o homem de agora com o de outrora,\\nentristecer-me e encarar o abismo que separa as esperanças de um tempo da\\nrealidade de outro tempo...\\n\\n\\x97 Ora adeus! Vamos jantar, disse\\ncomigo.\\n\\nMeto a mão no colete e não acho o\\nrelógio. Última desilusão! O Borba furtara-mo no abraço.\\n\\nCAPÍTULO LXI / UM\\nPROJETO\\n\\nJantei triste. Não era a falta do\\nrelógio que me pungia, era a imagem do autor do furto, e as reminiscências de\\ncriança, e outra vez a comparação, e a conclusão... Desde a sopa, começou a\\nabrir em mim a flor amarela e mórbida do capítulo XXV, e então jantei depressa,\\npara correr à casa de Virgília. Virgília era o presente; eu queria refugiar-me\\nnele, para escapar às opressões do passado, porque o encontro do Quincas Borba,\\ntornara-me aos olhos o passado, não qual fora deveras, mas um passado roto,\\nabjeto, mendigo e gatuno.\\n\\nSaí de casa, mas era cedo; iria\\nachá-los à mesa. Outra vez pensei no Quincas Borba, e tive então um desejo de\\ntornar ao Passeio Público, a ver se o achava; a idéia de o regenerar surgiu-me\\ncomo uma forte necessidade. Fui; mas já não o achei. Indaguei do guarda;\\ndisse-me que efetivamente \\x93esse sujeito\\x94 ia por ali às vezes.\\n\\n\\x97 A que horas?\\n\\n\\x97 Não tem hora certa.\\n\\nNão era impossível encontrá-lo\\nnoutra ocasião; prometi a mim mesmo lá voltar. A necessidade de o regenerar, de\\no trazer ao trabalho e ao respeito de sua pessoa enchia-me o coração; eu\\ncomeçava a sentir um bem-estar, uma elevação, uma admiração de mim próprio...\\nNisto caía a noite; fui ter com Virgília.\\n\\nCAPÍTULO LXII / O\\nTRAVESSEIRO\\n\\nFui ter com Virgília; depressa\\nesqueci o Quincas Borba. Virgília era o travesseiro do meu espírito, um\\ntravesseiro mole, tépido, aromático, enfronhado em cambraia e bruxelas. Era ali\\nque ele costumava repousar de todas as sensações más, simplesmente enfadonhas,\\nou até dolorosas. E, bem pesadas as coisas, não era outra a razão da existência\\nde Virgília; não podia ser. Cinco minutos bastaram para olvidar inteiramente o\\nQuincas Borba; cinco minutos de uma contemplação mútua, com as mãos presas umas\\nnas outras; cinco minutos e um beijo. E lá se foi a lembrança do Quincas\\nBorba... Escrófula da vida, andrajo do passado, que me importa que existas, que\\nmolestes os olhos dos outros, se eu tenho dois palmos de um travesseiro divino,\\npara fechar os olhos e dormir?\\n\\nCAPÍTULO LXIII /\\nFUJAMOS!\\n\\nAi! Nem sempre dormir. Três\\nsemanas depois, indo à casa de Virgília, \\x97 eram quatro horas da tarde, \\x97 achei-a\\ntriste e abatida. Não me quis dizer o que era; mas, como eu instasse muito:\\n\\n\\x97 Creio que o Damião desconfia\\nalguma coisa. Noto agora umas esquisitices nele... Não sei. Trata-me bem, não há\\ndúvida; mas o olhar parece que não é o mesmo. Durmo mal; ainda esta noite\\nacordei, aterrada; estava sonhando que ele me ia matar. Talvez seja ilusão, mas\\neu penso que ele desconfia...\\n\\nTranqüilizei-a como pude; disse\\nque podiam ser cuidados políticos. Virgília concordou que seriam, mas ficou\\nainda muito excitada e nervosa. Estávamos na sala de visitas, que dava\\njustamente para a chácara, onde trocáramos o beijo inicial. Uma janela aberta\\ndeixava entrar o vento, que sacudia frouxamente as cortinas, e eu fiquei a olhar\\npara as cortinas, sem as ver. Empunhara o binóculo da imaginação; lobrigava, ao\\nlonge, uma casa nossa, uma vida nossa, um mundo nosso, em que não havia Lobo\\nNeves, nem casamento, nem moral, nem nenhum outro liame, que nos tolhesse a\\nexpansão da vontade. Esta idéia embriagou-me; eliminados assim o mundo, a moral\\ne o marido, bastava penetrar naquela habitação dos anjos.\\n\\n\\x97 Virgília, disse eu, proponho-te\\numa coisa.\\n\\n\\x97 Que é?\\n\\n\\x97 Amas-me?\\n\\n\\x97 Oh! suspirou ela, cingindo-me os\\nbraços ao pescoço.\\n\\nVirgília amava-me com fúria;\\naquela resposta era a verdade patente. Com os braços ao meu pescoço, calada,\\nrespirando muito, deixou-se ficar a olhar para mim, com os seus grandes e belos\\nolhos, que davam uma sensação singular de luz úmida; eu deixei-me estar a\\nvê-los, a namorar-lhe a boca, fresca como a madrugada, e insaciável como a\\nmorte. A beleza de Virgília tinha agora um tom grandioso, que não possuíra antes\\nde casar. Era dessas figuras talhadas em pentélico, de um lavor nobre, rasgado e\\npuro, tranqüilamente bela, como as estátuas, mas não apática nem fria. Ao\\ncontrário, tinha o aspecto das naturezas cálidas, e podia-se dizer que, na\\nrealidade, resumia todo o amor. Resumia-o sobretudo naquela ocasião, em que\\nexprimia mudamente tudo quanto pode dizer a pupila humana. Mas o tempo urgia;\\ndeslacei-lhe as mãos, peguei-lhe nos pulsos, e, fito nela, perguntei se tinha\\ncoragem.\\n\\n\\x97 De quê?\\n\\n\\x97 De fugir. Iremos para onde nos\\nfor mais cômodo, uma casa grande ou pequena, à tua vontade, na roça ou na\\ncidade, ou na Europa, onde te parecer, onde ninguém nos aborreça, e não haja\\nperigos para ti, onde vivamos um para o outro... Sim? fujamos. Tarde ou cedo,\\nele pode descobrir alguma coisa, e estarás perdida...ouves? perdida... morta...\\ne ele também, porque eu o matarei, juro-te.\\n\\nInterrompi-me; Virgília\\nempalidecera muito, deixou cair os braços e sentou-se no canapé. Esteve assim\\nalguns instantes, sem me dizer palavra, não sei se vacilante na escolha, se\\naterrada com a idéia da descoberta e da morte. Fui-me a ela, insisti na\\nproposta, disse-lhe todas as vantagens de uma vida a sós, sem zelos, nem\\nterrores, nem aflições. Virgília ouvia-me calada; depois disse:\\n\\n\\x97 Não escaparíamos talvez; ele\\niria ter comigo e matava-me do mesmo modo.\\n\\nMostrei-lhe que não. O mundo era\\nassaz vasto, e eu tinha os meios de viver onde quer que houvesse ar puro e muito\\nsol; ele não chegaria até lá; só as grandes paixões são capazes de grandes\\nações, e ele não a amava tanto que pudesse ir buscá-la, se ela estivesse longe.\\nVirgília fez um gesto de espanto e quase indignação; murmurou que o marido\\ngostava muito dela.\\n\\n\\x97 Pode ser, respondi eu; pode ser\\nque sim...\\n\\nFui até a janela, e comecei a\\nrufar com os dedos no peitoril. Virgília chamou-me; deixei-me estar, a remoer os\\nmeus zelos, a desejar estrangular o marido, se o tivesse ali à mão...\\nJustamente, nesse instante, apareceu na chácara o Lobo Neves. Não tremas assim,\\nleitora pálida; descansa, que não hei de rubricar esta lauda com um pingo de\\nsangue. Logo que apareceu na chácara, fiz-lhe um gesto amigo, acompanhado de uma\\npalavra graciosa; Virgília retirou-se apressadamente da sala, onde ele entrou\\ndaí a três minutos.\\n\\n\\x97 Está cá há muito tempo? disse-me\\nele.\\n\\n\\x97 Não.\\n\\nEntrara sério, pesado, derramando\\nos olhos de um modo distraído, costume seu, que trocou logo por uma verdadeira\\nexpansão de jovialidade, quando viu chegar o filho, o Nhonhô, o futuro bacharel\\ndo capítulo VI; tomou-o nos braços, levantou-o ao ar, beijou-o muitas vezes. Eu,\\nque tinha ódio ao menino, afastei-me de ambos. Virgília tornou à sala.\\n\\n\\x97 Ah! respirou Lobo Neves,\\nsentando-se preguiçosamente no sofá.\\n\\n\\x97 Cansado? perguntei eu.\\n\\n\\x97 Muito; aturei duas maçadas de\\nprimeira ordem, uma na câmara e outra na rua. E ainda temos terceira,\\nacrescentou, olhando para a mulher.\\n\\n\\x97 Que é? perguntou Virgília.\\n\\n\\x97 Um... Adivinha!\\n\\nVirgília sentara-se ao lado dele,\\npegou-lhe numa das mãos, compôs-lhe a gravata, e tornou a perguntar o que era.\\n\\n\\x97 Nada menos que um camarote.\\n\\n\\x97 Para a Candiani?\\n\\n\\x97 Para a Candiani.\\n\\nVirgília bateu palmas,\\nlevantou-se, deu um beijo no filho, com um ar de alegria pueril, que destoava\\nmuito da figura; depois perguntou se o camarote era de boca ou do centro,\\nconsultou o marido, em voz baixa, acerca da toilette que faria, da ópera\\nque se cantava, e de não sei que outras coisas.\\n\\n\\x97 Você janta conosco, doutor,\\ndisse-me Lobo Neves.\\n\\n\\x97 Veio para isso mesmo, confirmou\\na mulher; diz que você possui o melhor vinho do Rio de Janeiro.\\n\\n\\x97 Nem por isso bebe muito.\\n\\nAo jantar, desmenti-o; bebi mais\\ndo que costumava; ainda assim, menos do que era preciso para perder a razão. Já\\nestava excitado, fiquei um pouco mais. Era a primeira grande cólera que eu\\nsentia contra Virgília. Não olhei uma só vez para ela durante o jantar; falei de\\npolítica, da imprensa, do ministério, creio que falaria de teologia, se a\\nsoubesse, ou se me lembrasse. Lobo Neves acompanhava-me com muita placidez e\\ndignidade, e até com certa benevolência superior; e tudo aquilo me irritava\\ntambém, e me tornava mais amargo e longo o jantar. Despedi-me apenas nos\\nlevantamos da mesa.\\n\\n\\x97 Até logo, não? perguntou Lobo\\nNeves.\\n\\n\\x97 Pode ser.\\n\\nE saí.\\n\\nCAPÍTULO LXIV / A\\nTRANSAÇÃO\\n\\nVaguei pelas ruas e recolhi-me às\\nnove horas. Não podendo dormir, atirei-me a ler e escrever. Às onze horas estava\\narrependido de não ter ido ao teatro, consultei o relógio, quis vestir-me, e\\nsair. Julguei, porém, que chegaria tarde; demais, era dar prova de fraqueza.\\nEvidentemente, Virgília começava a aborrecer-se de mim, pensava eu. E esta idéia\\nfez-me sucessivamente desesperado e frio, disposto a esquecê-la e a matá-la.\\nVia-a dali mesmo, reclinada no camarote, com os seus magníficos braços nus, \\x97 os\\nbraços que eram meus, só meus, \\x97 fascinando os olhos de todos, com o vestido\\nsoberbo que havia de ter, o colo de leite, os cabelos postos em bandos, à\\nmaneira do tempo, e os brilhantes, menos luzidios que os olhos dela... Via-a\\nassim, e doía-me que a vissem outros. Depois, começava a despi-la, a pôr de lado\\nas jóias e sedas, a despenteá-la com as minhas mãos sôfregas e lascivas, a\\ntorná-la, \\x97 não sei se mais bela, se mais natural, \\x97 a torná-la minha, somente\\nminha, unicamente minha.\\n\\nNo dia seguinte, não me pude ter;\\nfui cedo à casa de Virgília; achei-a com os olhos vermelhos de chorar.\\n\\n\\x97 Que houve? perguntei.\\n\\n\\x97 Você não me ama, foi a sua\\nresposta; nunca me teve a menor soma de amor. Tratou-me ontem como se me tivesse\\nódio. Se eu ao menos soubesse o que é que fiz! Mas não sei. Não me dirá o que\\nfoi?\\n\\n\\x97 Que foi o quê? Creio que não\\nhouve nada.\\n\\n\\x97 Nada? Tratou-me como não se\\ntrata um cachorro...\\n\\nA esta palavra, peguei-lhe nas\\nmãos, beijei-as, e duas lágrimas rebentaram-lhe dos olhos.\\n\\n\\x97 Acabou, acabou, disse eu.\\n\\nNão tive ânimo de argüir, e,\\naliás, argüi-la de quê? Não era culpa dela se o marido a amava. Disse-lhe que\\nnão me fizera coisa nenhuma, que eu tinha necessariamente ciúmes do outro, que\\nnem sempre o podia suportar de cara alegre; acrescentei que talvez houvesse nele\\nmuita dissimulação, e que o melhor meio de fechar a porta aos sustos e às\\ndissensões era aceitar a minha idéia da véspera.\\n\\n\\x97 Pensei nisso, acudiu Virgília;\\numa casinha só nossa, solitária, metida num jardim, em alguma rua escondida, não\\né? Acho a idéia boa; mas para que fugir?\\n\\nDisse isto com o tom ingênuo e\\npreguiçoso de quem não cuida em mal, e o sorriso que lhe derreava os cantos da\\nboca trazia a mesma expressão de candidez. Então, afastando-me, respondi:\\n\\n\\x97 Você é que nunca me teve amor.\\n\\n\\x97 Eu?\\n\\n\\x97 Sim, é uma egoísta! prefere\\nver-me padecer todos os dias... é uma egoísta sem nome!\\n\\nVirgília desatou a chorar, e para\\nnão atrair gente, metia o lenço na boca, recalcava os soluços; explosão que me\\ndesconcertou. Se alguém a ouvisse, perdia-se tudo. Inclinei-me para ela,\\ntravei-lhe dos pulsos, sussurrei-lhe os nomes mais doces da nossa intimidade;\\nmostrei-lhe o perigo; o terror apaziguou-a.\\n\\n\\x97 Não posso, disse ela daí a\\nalguns instantes; não deixo meu filho; se o levar, estou certa de que ele\\nme irá buscar ao fim do mundo. Não posso; mate-me você, se o quiser, ou deixe-me\\nmorrer... Ah! meu Deus! meu Deus!\\n\\n\\x97 Sossegue; olhe que podem\\nouvi-la.\\n\\n\\x97 Que ouçam! Não me importa.\\n\\nEstava ainda excitada; pedi-lhe\\nque esquecesse tudo, que me perdoasse, que eu era um doido, mas que a minha\\ninsânia provinha dela e com ela acabaria. Virgília enxugou os olhos e\\nestendeu-me a mão. Sorrimos ambos; minutos depois, tornávamos ao assunto da\\ncasinha solitária, em alguma rua escusa...\\n\\nCAPÍTULO LXV / OLHEIROS E\\nESCUTAS\\n\\nInterrompeu-nos o rumor de um\\ncarro na chácara. Veio um escravo dizer que era a baronesa X. Virgília\\nconsultou-me com os olhos.\\n\\n\\x97 Se a senhora está assim com dor\\nde cabeça, disse eu, parece que o melhor é não receber.\\n\\n\\x97 Já se apeou? perguntou Virgília\\nao escravo.\\n\\n\\x97 Já se apeou; diz que precisa\\nmuito de falar com sinhá!\\n\\n\\x97 Que entre!\\n\\nA baronesa entrou daí a pouco. Não\\nsei se contava comigo na sala; mas era impossível mostrar maior alvoroço.\\n\\n\\x97 Bons olhos o vejam! exclamou.\\nOnde se mete o senhor que não aparece em parte nenhuma? Pois olhe, ontem\\nadmirou-me não o ver no teatro. A Candiani esteve deliciosa. Que mulher! Gosta\\nda Candiani? É natural. Os senhores são todos os mesmos. O barão dizia ontem, no\\ncamarote, que uma só italiana vale por cinco brasileiras. Que desaforo! e\\ndesaforo de velho, que é pior. Mas por que é que o senhor não foi ontem ao\\nteatro?\\n\\n\\x97 Uma enxaqueca.\\n\\n\\x97 Qual! Algum namoro; não acha,\\nVirgília? Pois, meu amigo, apresse-se, porque o senhor deve estar com quarenta\\nanos... ou perto disso. .. Não tem quarenta anos?\\n\\n\\x97 Não lhe posso dizer com certeza,\\nrespondi eu; mas se me dá licença, vou consultar a certidão de batismo.\\n\\n\\x97 Vá, vá... E estendendo-me a mão:\\n\\x97 Até quando? Sábado ficamos em casa; o barão está com umas saudades suas...\\n\\nChegando à rua, arrependi-me de\\nter saído. A baronesa era uma das pessoas que mais desconfiavam de nós.\\nCinqüenta e cinco anos, que pareciam quarenta, macia, risonha, vestígios de\\nbeleza, porte elegante e maneiras finas. Não falava muito nem sempre; possuía a\\ngrande arte de escutar os outros, espiando-os; reclinava-se então na cadeira,\\ndesembainhava um olhar afiado e comprido, e deixava-se estar. Os outros, não\\nsabendo o que era, falavam, olhavam, gesticulavam, ao tempo que ela olhava só,\\nora fixa, ora móbil, levando a astúcia ao ponto de olhar às vezes para dentro de\\nsi, porque deixava cair as pálpebras; mas, como as pestanas eram rótulas, o\\nolhar continuava o seu ofício, remexendo a alma e a vida dos outros.\\n\\nA segunda pessoa era um parente de\\nVirgília, o Viegas, um cangalho de setenta invernos, chupado e amarelado, que\\npadecia de um reumatismo teimoso, de uma asma não menos teimosa e de uma lesão\\nde coração: era um hospital concentrado. Os olhos, porém luziam de muita vida e\\nsaúde. Virgília, nas primeiras semanas, lhe tinha medo nenhum; dizia-me que,\\nquando o Viegas parecia espreitar, com o olhar fixo, estava simplesmente\\ncontando dinheiro. Com efeito, era um grande avaro.\\n\\nHavia ainda o primo de Virgília, o\\nLuís Dutra, que eu agora desarmava à força de lhe falar nos versos e prosas, e\\nde o apresentar aos conhecidos. Quando estes, ligando o nome à pessoa, se\\nmostravam contentes da apresentação, não há dúvida que Luís Dutra exultava de\\nfelicidade; mas eu curava-me da felicidade com a esperança de que ele nos não\\ndenunciasse nunca. Havia, enfim, umas duas ou três senhoras, vários gamenhos, e\\nos fâmulos, que naturalmente se desforravam assim da condição servil, e tudo\\nisso constituía uma verdadeira floresta de olheiros e escutas, por entre os\\nquais tínhamos de resvalar com a tática e maciez das cobras.\\n\\nCAPÍTULO LXVI / AS\\nPERNAS\\n\\nOra, enquanto eu pensava naquela\\ngente, iam-me pernas levando, ruas abaixo, de modo que insensivelmente me achei\\nà porta do Hotel Pharoux. De costume jantava aí; mas, não tendo deliberadamente\\nandado, nenhum merecimento da ação me cabe, e sim às pernas, que a fizeram.\\nAbençoadas pernas! E há quem vos trate com desdém ou indiferença. Eu mesmo, até\\nentão, tinha-vos em má conta, zangava-me quando vos fatigáveis, quando não\\npodíeis ir além de certo ponto, e me deixáveis com o desejo a avoaçar, à\\nsemelhança de galinha atada pelos pés.\\n\\nAquele caso, porém, foi um raio de\\nluz. Sim, pernas amigas, vós deixastes à minha cabeça o trabalho de pensar em\\nVirgília, e dissestes uma à outra: \\x97 Ele precisa comer, são horas de jantar,\\nvamos levá-lo ao Pharoux; dividamos a consciência dele, uma parte fique lá com a\\ndama, tomemos nós a outra, para que ele vá direito, não abalroe as gentes e as\\ncarroças, tire o chapéu aos conhecidos, e finalmente chegue são e salvo ao\\nhotel. E cumpristes à risca o vosso propósito, amáveis pernas, o que me obriga a\\nimortalizar-vos nesta página.\\n\\nCAPÍTULO LXVII / A\\nCASINHA\\n\\nJantei e fui a casa. Lá achei uma\\ncaixa de charutos, que me mandara o Lobo Neves, embrulhada em papel de seda, e\\nornada de fitinhas cor-de-rosa. Entendi, abri-a, e tirei este bilhete:\\n\\nMeu B...\\n\\nDesconfiam de nós; tudo está\\nperdido; esqueça-me para sempre. Não nos veremos mais. Adeus; esqueça-se da\\ninfeliz\\n\\nV...a\\x94.\\n\\nFoi um golpe esta carta; não\\nobstante, apenas fechou a noite, corri à casa de Virgília. Era tempo; estava\\narrependida. Ao vão de uma janela, contou-me o que se passara com a baronesa. A\\nbaronesa disse-lhe francamente que se falara muito, no teatro, na noite\\nanterior, a propósito da minha ausência do camarote do Lobo Neves; tinham\\ncomentado as minhas relações na casa; em suma, éramos objeto da suspeita\\npública. Concluiu dizendo que não sabia que fazer.\\n\\n\\x97 O melhor é fugirmos, insinuei.\\n\\n\\x97 Nunca, respondeu ela abanando a\\ncabeça.\\n\\nVi que era impossível separar duas\\ncoisas que no espírito dela estavam inteiramente ligadas: o nosso amor e a\\nconsideração pública. Virgília era capaz de iguais e grandes sacrifícios para\\nconservar ambas as vantagens, e a fuga só lhe deixava uma. Talvez senti alguma\\ncoisa semelhante a despeito; mas as comoções daqueles dois dias eram já muitas,\\ne o despeito morreu depressa. Vá lá; arranjemos a casinha.\\n\\nCom efeito, achei-a, dias depois,\\nexpressamente feita, em um recanto da Gamboa. Um brinco! Nova, caiada de fresco,\\ncom quatro janelas na frente e duas de cada lado, \\x97 todas com venezianas cor de\\ntijolo, \\x97 trepadeira nos cantos, jardim na frente; mistério e solidão. Um\\nbrinco!\\n\\nConvencionamos que iria morar ali\\numa mulher, conhecida de Virgília, em cuja casa fora costureira e agregada.\\nVirgília exercia sobre ela verdadeira fascinação. Não se lhe diria tudo; ela\\naceitaria facilmente o resto.\\n\\nPara mim era aquilo uma situação\\nnova do nosso amor, uma aparência de posse exclusiva, de domínio absoluto,\\nalguma coisa que me faria adormecer a consciência e resguardar o decoro. Já\\nestava cansado das cortinas do outro, das cadeiras, do tapete, do canapé, de\\ntodas essas coisas, que me traziam aos olhos constantemente a nossa duplicidade.\\nAgora podia evitar os jantares freqüentes, o chá de todas as noites, enfim a\\npresença do filho deles, meu cúmplice e meu inimigo. A casa resgatava-me tudo; o\\nmundo vulgar terminaria à porta; \\x97 dali para dentro era o infinito, um mundo\\neterno, superior, excepcional, nosso, somente nosso, sem leis, sem instituições,\\nsem baronesas, sem olheiros, sem escutas, \\x97 um só mundo, um só casal, uma só\\nvida, uma só vontade, uma só afeição, \\x97 a unidade moral de todas as coisas pela\\nexclusão das que me eram contrárias.\\n\\nCAPÍTULO LXVIII / O\\nVERGALHO\\n\\nTais eram as reflexões que eu\\nvinha fazendo, por aquele Valongo fora, logo depois de ver e ajustar a casa.\\nInterrompeu-mas um ajuntamento; era um preto que vergalhava outro na praça. O\\noutro não se atrevia a fugir; gemia somente estas únicas palavras: \\x97 \\x93Não,\\nperdão, meu senhor; meu senhor, perdão!\\x94 Mas o primeiro não fazia caso, e, a\\ncada súplica, respondia com uma vergalhada nova.\\n\\n\\x97 Toma, diabo! dizia ele; toma\\nmais perdão, bêbado!\\n\\n\\x97 Meu senhor! gemia o outro.\\n\\n\\x97 Cala a boca, besta! replicava o\\nvergalho.\\n\\nParei, olhei... Justos céus! Quem\\nhavia de ser o do vergalho? Nada menos que o meu moleque Prudêncio, \\x97 o que meu\\npai libertara alguns anos antes. Cheguei-me; ele deteve-se logo e pediu-me a\\nbênção; perguntei-lhe se aquele preto era escravo dele.\\n\\n\\x97 É, sim, nhonhô.\\n\\n\\x97 Fez-te alguma coisa?\\n\\n\\x97 É um vadio e um bêbado muito\\ngrande. Ainda hoje deixei ele na quitanda, enquanto eu ia lá embaixo na cidade,\\ne ele deixou a quitanda para ir na venda beber.\\n\\n\\x97 Está bom, perdoa-lhe, disse eu.\\n\\n\\x97 Pois não, nhonhô. Nhonhô manda,\\nnão pede. Entra para casa, bêbado!\\n\\nSaí do grupo, que me olhava\\nespantado e cochichava as suas conjeturas. Segui caminho, a desfiar uma\\ninfinidade de reflexões, que sinto haver inteiramente perdido; aliás, seria\\nmatéria para um bom capítulo, e talvez alegre. Eu gosto dos capítulos alegres; é\\no meu fraco. Exteriormente, era torvo o episódio do Valongo; mas só\\nexteriormente. Logo que meti mais dentro a faca do raciocínio achei-lhe um miolo\\ngaiato, fino, e até profundo. Era um modo que o Prudêncio tinha de se desfazer\\ndas pancadas recebidas, \\x97 transmitindo-as a outro. Eu, em criança, montava-o,\\npunha-lhe um freio na boca, e desancava-o sem compaixão; ele gemia e sofria.\\nAgora, porém, que era livre, dispunha de si mesmo, dos braços, das pernas, podia\\ntrabalhar, folgar, dormir, desagrilhoado da antiga condição, agora é que ele se\\ndesbancava: comprou um escravo, e ia-lhe pagando, com alto juro, as quantias que\\nde mim recebera. Vejam as sutilezas do maroto!\\n\\nCAPÍTULO LXIX / UM GRÃO DE\\nSANDICE\\n\\nEste caso faz-me lembrar um doido\\nque conheci. Chamava-se Romualdo e dizia ser Tamerlão. Era a sua grande e única\\nmania, e tinha uma curiosa maneira de a explicar.\\n\\n\\x97 Eu sou o ilustre Tamerlão, dizia\\nele. Outrora fui Romualdo, mas adoeci, e tomei tanto tártaro, tanto tártaro,\\ntanto tártaro, que fiquei Tártaro, e até rei dos Tártaros. O tártaro tem a\\nvirtude de fazer Tártaros.\\n\\nPobre Romualdo! A gente ria da\\nresposta, mas é provável que o leitor não se ria, e com razão; eu não lhe acho\\ngraça nenhuma. Ouvida, tinha algum chiste; mas assim contada, no papel, e a\\npropósito de um vergalho recebido e transferido, força é confessar que é muito\\nmelhor voltar à casinha da Gamboa; deixemos os Romualdos e Prudêncios.\\n\\nCAPÍTULO LXX / D.\\nPLÁCIDA\\n\\nVoltemos à casinha. Não serias\\ncapaz de lá entrar hoje, curioso leitor; envelheceu, enegreceu, apodreceu, e o\\nproprietário deitou-a abaixo para substituí-la por outra, três vezes maior, mas\\njuro-te que muito menor que a primeira. O mundo era estreito para Alexandre; um\\ndesvão de telhado é o infinito para as andorinhas.\\n\\nVê agora a neutralidade deste\\nglobo, que nos leva, através dos espaços, como uma lancha de náufragos, que vai\\ndar à costa: dorme hoje um casal de virtudes no mesmo espaço de chão que sofreu\\num casal de pecados. Amanhã pode lá dormir um eclesiástico, depois um assassino,\\ndepois um ferreiro, depois um poeta, e todos abençoarão esse canto de Terra, que\\nlhes deu algumas ilusões.\\n\\nVirgília fez daquilo um brinco;\\ndesignou as alfaias mais idôneas, e dispô-las com a intuição estética da mulher\\nelegante; eu levei para lá alguns livros, e tudo ficou sob a guarda de D.\\nPlácida, suposta, e, a certos respeitos, verdadeira dona da casa.\\n\\nCustou-lhe muito a aceitar a casa;\\nfarejara a intenção e doía-lhe o ofício; mas afinal cedeu. Creio que chorava, a\\nprincípio: tinha nojo de si mesma. Ao menos, é certo que não levantou os olhos\\npara mim durante os primeiros dois meses; falava-me com eles baixos, séria,\\ncarrancuda, às vezes triste. Eu queria angariá-la, e não me dava por ofendido,\\ntratava-a com carinho e respeito; forcejava por obter-lhe a benevolência, depois\\na confiança. Quando obtive a confiança, imaginei uma história patética dos meus\\namores com Virgília, um caso anterior ao casamento, a resistência do pai, a\\ndureza do marido, e não sei que outros toques de novela. D. Plácida não rejeitou\\numa só página da novela; aceitou-as todas. Era uma necessidade da consciência.\\nAo cabo de seis meses, quem nos visse a todos três juntos diria que D. Plácida\\nera minha sogra.\\n\\nNão fui ingrato; fiz-lhe um\\npecúlio de cinco contos, \\x97 os cinco contos achados em Botafogo, \\x97 como um pão\\npara a velhice. D. Plácida agradeceu-me com lágrimas nos olhos, e nunca mais\\ndeixou de rezar por mim, todas as noites, diante de uma imagem da Virgem, que\\ntinha no quarto. Foi assim que lhe acabou o nojo.\\n\\nCAPÍTULO LXXI / O SENÃO DO\\nLIVRO\\n\\nComeço a arrepender-me deste\\nlivro. Não que ele me canse; eu não tenho que fazer; e, realmente, expedir\\nalguns magros capítulos para esse mundo sempre é tarefa que distrai um pouco da\\neternidade. Mas o livro é enfadonho, cheira a sepulcro, traz certa contração\\ncadavérica; vício grave, e aliás ínfimo, porque o maior defeito deste livro és\\ntu, leitor. Tu tens pressa de envelhecer, e o livro anda devagar; tu amas a\\nnarração direta e nutrida, o estilo regular e fluente, e este livro e o meu\\nestilo são como os ébrios, guinam à direita e à esquerda, andam e param,\\nresmungam, urram, gargalham, ameaçam o céu, escorregam e caem...\\n\\nE caem! \\x97 Folhas misérrimas do meu\\ncipreste, heis de cair, como quaisquer outras belas e vistosas; e, se eu tivesse\\nolhos, dar-vos-ia uma lágrima de saudade. Esta é a grande vantagem da morte,\\nque, se não deixa boca para rir, também não deixa olhos para chorar... Heis de\\ncair.\\n\\nCAPÍTULO LXXII / O\\nBIBLIÔMANO\\n\\nTalvez suprima o capítulo\\nanterior; entre outros motivos, há aí, nas últimas linhas, uma frase muito\\nparecida com despropósito, e eu não quero dar pasto à crítica do futuro.\\n\\nOlhai: daqui a setenta anos, um\\nsujeito magro, amarelo, grisalho, que não ama nenhuma outra coisa além dos\\nlivros, inclina-se sobre a página anterior, a ver se lhe descobre o\\ndespropósito; lê, relê, treslê, desengonça as palavras, saca uma sílaba, depois\\noutra, mais outra e as restantes, examina-as por dentro e por fora, por todos os\\nlados, contra a luz, espaneja-as, esfrega-as no joelho, lava-as, e nada; não\\nacha o despropósito.\\n\\nÉ um bibliômano. Não conhece o\\nautor; este nome de Brás Cubas não vem nos seus dicionários biográficos. Achou o\\nvolume, por acaso, no pardieiro de um alfarrabista. Comprou-o por duzentos réis.\\nIndagou, pesquisou, esgaravatou, e veio a descobrir que era um exemplar único...\\nÚnico! Vós, que não só amais os livros, senão que padeceis a mania deles, vós\\nsabeis muito bem o valor desta palavra, e adivinhais, portanto, as delícias de\\nmeu bibliômano. Ele rejeitaria a coroa das Índias, o papado, todos os museus da\\nItália e da Holanda, se os houvesse de trocar por esse único exemplar; e não\\nporque seja o das minhas Memórias; faria a mesma coisa com o\\nAlmanaque de Laemmert, uma vez que fosse único.\\n\\nO pior é o despropósito. Lá\\ncontinua o homem inclinado sobre a página, com uma lente no olho direito, todo\\nentregue à nobre e áspera função de decifrar o despropósito. Já prometeu a si\\nmesmo escrever uma breve memória, na qual relate o achado do livro e a\\ndescoberta da sublimidade, se a houver por baixo daquela frase obscura. Ao cabo,\\nnão descobre nada e contenta-se com a posse. Fecha o livro, mira-o, remira-o,\\nchega-se à janela e mostra-o ao sol. Um exemplar único! Nesse momento passa-lhe\\npor baixo da janela um César ou um Cromwell, a caminho do poder. Ele dá de\\nombros, fecha a janela, estira-se na rede e folheia o livro devagar, com amor,\\naos goles... Um exemplar único!\\n\\nCAPÍTULO LXXIII / O\\n\\x93LUNCHEON\\x94\\n\\nO despropósito fez-me perder outro\\ncapítulo. Que melhor não era dizer as coisas lisamente, sem todos estes\\nsolavancos! Já comparei o meu estilo ao andar dos ébrios. Se a idéia vos parece\\nindecorosa, direi que ele é o que eram as minhas refeições com Virgília, na\\ncasinha da Gamboa, onde às vezes fazíamos a nossa patuscada, o nosso\\nluncheon. Vinho, fruta, compotas. Comíamos, é verdade, mas era um comer\\nvirgulado de palavrinhas doces, de olhares ternos, de criancices, uma infinidade\\ndesses apartes do coração, aliás o verdadeiro, o ininterrupto discurso do amor.\\nÀs vezes vinha o arrufo temperar o nímio adocicado da situação. Ela deixava-me,\\nrefugiava-se num canto do canapé, ou ia para o interior ouvir as denguices de\\nDona Plácida. Cinco ou dez minutos depois, reatávamos a palestra, como eu reato\\na narração, para desatá-la outra vez. Note-se que, longe de termos horror ao\\nmétodo, era nosso costume convidá-lo, na pessoa de D. Plácida, a sentar-se\\nconosco à mesa; mas D. Plácida não aceitava nunca.\\n\\n\\x97 Você parece que não gosta mais\\nde mim, disse-lhe um dia Virgília.\\n\\n\\x97 Virgem Nossa Senhora! exclamou a\\nboa dama alçando as mãos para o teto. Não gosto de Iaiá! Mas então de quem é que\\neu gostaria neste mundo?\\n\\nE, pegando-lhe nas mãos, olhou-a\\nfixamente, fixamente, fixamente, até molharem-se-lhe os olhos, de tão fixo que\\nera. Virgília acariciou-a muito; eu deixei-lhe uma pratinha na algibeira do\\nvestido.\\n\\nCAPÍTULO LXXIV / HISTÓRIA DE D.\\nPLÁCIDA\\n\\nNão te arrependas de ser generoso;\\na pratinha rendeu-me uma confidência de D. Plácida, e conseguintemente este\\ncapítulo. Dias depois, como eu a achasse só em casa, travamos palestra, e ela\\ncontou-me em breves termos a sua história. Era filha natural de um sacristão da\\nSé e de uma mulher que fazia doces para fora. Perdeu o pai aos dez anos. Já\\nentão ralava coco e fazia não sei que outros trabalhos de doceira, compatíveis\\ncom a idade. Aos quinze ou dezesseis casou com um alfaiate, que morreu tísico\\nalgum tempo depois, deixando-lhe uma filha. Viúva e moça, ficaram a seu cargo a\\nfilha, com dois anos, e a mãe, cansada de trabalhar. Tinha de sustentar a três\\npessoas. Fazia doces, que era o seu ofício, mas cosia também, de dia e de noite,\\ncom afinco, para três ou quatro lojas, e ensinava algumas crianças do bairro, a\\ndez tostões por mês. Com isto iam-se passando os anos, não a beleza, porque não\\na tivera nunca. Apareceram-lhe alguns namoros, propostas, seduções, a que\\nresistia.\\n\\n\\x97 Se eu pudesse encontrar outro\\nmarido, disse-me ela, creia que me teria casado; mas ninguém queria casar\\ncomigo.\\n\\nUm dos pretendentes conseguiu\\nfazer-se aceito; não sendo, porém, mais delicado que os outros, D. Plácida\\ndespediu-o do mesmo modo, e, depois de o despedir, chorou muito. Continuou a\\ncoser para fora e a escumar os tachos. A mãe tinha a rabugem do temperamento,\\ndos anos e da necessidade; mortificava a filha para que tomasse um dos maridos\\nde empréstimo e de ocasião que lha pediam. E bradava:\\n\\n\\x97 Queres ser melhor do que eu? Não\\nsei donde te vêm essas fidúcias de pessoa rica. Minha camarada, a vida não se\\narranja à toa; não se come vento. Ora esta! Moços tão bons como o Policarpo da\\nvenda, coitado... Esperas algum fidalgo, não é?\\n\\nD. Plácida jurou-me que não\\nesperava fidalgo nenhum. Era gênio. Queria ser casada. Sabia muito bem que a mãe\\no não fora, e conhecia algumas que tinham só o seu moço delas; mas era gênio e\\nqueria ser casada. Não queria também que a filha fosse outra coisa. Trabalhava\\nmuito, queimando os dedos ao fogão, e os olhos ao candeeiro, para comer e não\\ncair. Emagreceu, adoeceu, perdeu a mãe, enterrou-a por subscrição, e continuou a\\ntrabalhar. A filha estava com quatorze anos; mas era muito fraquinha, e não\\nfazia nada, a não ser namorar os capadócios que lhe rondavam a rótula. D.\\nPlácida vivia com imensos cuidados, levando-a consigo, quando tinha de ir\\nentregar costuras. A gente das lojas arregalava e piscava os olhos, convencida\\nde que ela a levava para colher marido ou outra coisa. Alguns diziam graçolas,\\nfaziam cumprimentos; a mãe chegou a receber propostas de dinheiro...\\n\\nInterrompeu-se um instante, e\\ncontinuou logo:\\n\\n\\x97 Minha filha fugiu-me; foi com um\\nsujeito, nem quero saber... Deixou-me só, mas tão triste, tão triste, que pensei\\nmorrer. Não tinha ninguém mais no mundo e estava quase velha e doente. Foi por\\nesse tempo que conheci a família de Iaiá; boa gente, que me deu que fazer, e até\\nchegou a me dar casa. Estive lá muitos meses, um ano, mais de um ano, agregada,\\ncosturando. Saí quando Iaiá casou. Depois vivi como Deus foi servido. Olhe os\\nmeus dedos, olhe estas mãos... E mostrou-me as mãos grossas e gretadas, as\\npontas dos dedos picadas da agulha. \\x97 Não se cria isto à toa, meu senhor; Deus\\nsabe como é que isto se cria... Felizmente, Iaiá me protegeu, e o senhor doutor\\ntambém... Eu tinha um medo de acabar na rua, pedindo esmola...\\n\\nAo soltar a última frase, D.\\nPlácida teve um calafrio. Depois, como se tornasse a si, pareceu atentar na\\ninconveniência daquela confissão ao amante de uma mulher casada, e começou a\\nrir, a desdizer-se, a chamar-se tola, \\x93cheia de fidúcias\\x94, como lhe dizia a mãe;\\nenfim, cansada do meu silêncio, retirou-se da sala. Eu fiquei a olhar para a\\nponta do botim.\\n\\nCAPÍTULO LXXV /\\nCOMIGO\\n\\nPodendo acontecer que algum dos\\nmeus leitores tenha pulado o capítulo anterior, observo que é preciso lê-lo para\\nentender o que eu disse comigo, logo depois que D. Plácida saiu da sala. O que\\neu disse foi isto:\\n\\n\\x97 Assim, pois, o sacristão da Sé,\\num dia, ajudando à missa, viu entrar a dama, que devia ser sua colaboradora na\\nvida de D. Plácida. Viu-a outros dias, durante semanas inteiras, gostou,\\ndisse-lhe alguma graça, pisou-lhe o pé, ao acender os altares, nos dias de\\nfesta. Ela gostou dele, acercaram-se, amaram-se. Dessa conjunção de luxúrias\\nvadias brotou D. Plácida. É de crer que D. Plácida não falasse ainda quando\\nnasceu, mas se falasse podia dizer aos autores de seus dias: \\x97 Aqui estou. Para\\nque me chamastes? E o sacristão e a sacristã naturalmente lhe responderiam. \\x97\\nChamamos-te para queimar os dedos nos tachos, os olhos na costura, comer mal, ou\\nnão comer, andar de um lado para outro, na faina, adoecendo e sarando, com o fim\\nde tornar a adoecer e sarar outra vez, triste agora, logo desesperada, amanhã\\nresignada, mas sempre com as mãos no tacho e os olhos na costura, até acabar um\\ndia na lama ou no hospital; foi para isso que te chamamos, num momento de\\nsimpatia.\\n\\nCAPÍTULO LXXVI / O\\nESTRUME\\n\\nSúbito deu-me a consciência um\\nrepelão, acusou-me de ter feito capitular a probidade de D. Plácida, obrigando-a\\na um papel torpe, depois de uma longa vida de trabalho e privações. Medianeira\\nnão era melhor que concubina, e eu tinha-a baixado a esse ofício, à custa de\\nobséquios e dinheiros. Foi o que me disse a consciência; fiquei uns dez minutos\\nsem saber que lhe replicasse. Ela acrescentou que eu me aproveitara da\\nfascinação exercida por Virgília sobre a ex-costureira, da gratidão desta, enfim\\nda necessidade. Notou a resistência de D. Plácida, as lágrimas dos primeiros\\ndias, as caras feias, os silêncios, os olhos baixos, e a minha arte em suportar\\ntudo isso, até vencê-la. E repuxou-me outra vez de um modo irritado e nervoso.\\n\\nConcordei que assim era, mas\\naleguei que a velhice de D. Plácida estava agora ao abrigo da mendicidade: era\\numa compensação. Se não fossem os meus amores, provavelmente D. Plácida acabaria\\ncomo tantas outras criaturas humanas; donde se poderia deduzir que o vício é\\nmuitas vezes o estrume da virtude. O que não impede que a virtude seja uma flor\\ncheirosa e sã. A consciência concordou, e eu fui abrir a porta a Virgília.\\n\\nCAPÍTULO LXXVII /\\nENTREVISTA\\n\\nVirgília entrou risonha e\\nsossegada. Os tempos tinham levado os sustos e vexames. Que doce que era vê-la\\nchegar, nos primeiros dias, envergonhada e trêmula! Ia de sege, velado o rosto,\\nenvolvida numa espécie de mantéu, que lhe disfarçava as ondulações do talhe. Da\\nprimeira vez deixou-se cair no canapé, ofegante, escarlate, com os olhos no\\nchão; e, palavra! em nenhuma outra ocasião a achei tão bela, talvez porque nunca\\nme senti mais lisonjeado.\\n\\nAgora, porém, como eu dizia,\\ntinham acabado os sustos e vexames; as entrevistas entravam no período\\ncronométrico. A intensidade do amor era a mesma; a diferença é que a chama\\nperdera o tresloucado dos primeiros dias para constituir-se um simples feixe de\\nraios, tranqüilo e constante, como nos casamentos.\\n\\n\\x97 Estou muito zangada com você,\\ndisse ela sentando-se.\\n\\n\\x97 Por quê?\\n\\n\\x97 Por que não foi lá ontem, como\\nme tinha dito. O Damião perguntou muitas vezes se você não iria, ao menos, tomar\\nchá. Por que é que não foi?\\n\\nCom efeito, eu havia faltado à\\npalavra que dera, e a culpa era toda de Virgília. Questão de ciúmes. Essa mulher\\nesplêndida sabia que o era, e gostava de o ouvir dizer, fosse em voz alta ou\\nbaixa. Na antevéspera, em casa da baronesa, valsara duas vezes com o mesmo\\nperalta, depois de lhe escutar as cortesanices, ao canto de uma janela. Estava\\ntão alegre! tão derramada! tão cheia de si! Quando descobriu, entre as minhas\\nsobrancelhas, a ruga interrogativa e ameaçadora, não teve nenhum sobressalto,\\nnem ficou subitamente séria; mas deitou ao mar o peralta e as cortesanices. Veio\\ndepois a mim, tomou-me o braço, e levou-me a outra sala, menos povoada, onde se\\nme queixou de cansaço, e disse muitas outras coisas, com o ar pueril que\\ncostumava ter, em certas ocasiões, e eu ouvi-a quase sem responder nada.\\n\\nAgora mesmo, custava-me responder\\nalguma coisa, mas enfim contei-lhe o motivo da minha ausência... Não, eternas\\nestrelas, nunca vi olhos mais pasmados. A boca semi-aberta, as sobrancelhas\\narqueadas, uma estupefação visível, tangível, que se não podia negar, tal foi a\\nprimeira réplica de Virgília; abanou a cabeça com um sorriso de piedade e\\nternura, que inteiramente me confundiu.\\n\\n\\x97 Ora, você!\\n\\nE foi tirar o chapéu, lépida,\\njovial como a menina que torna do colégio; depois veio a mim, que estava\\nsentado, deu-me pancadinha na testa, com um só dedo, a repetir: \\x97 Isto, isto; \\x97\\ne eu não tive remédio senão rir também, e tudo acabou em galhofa. Era claro que\\nme enganara.\\n\\nCAPÍTULO LXXVIII / A\\nPRESIDÊNCIA\\n\\nCerto dia, meses depois, entrou\\nLobo Neves em casa, dizendo que iria talvez ocupar uma presidência de província.\\nOlhei para Virgília, que empalideceu; ele, que a viu empalidecer, perguntou-lhe:\\n\\n\\x97 A modo que não gostaste,\\nVirgília?\\n\\nVirgília abanou a cabeça.\\n\\n\\x97 Não me agrada muito, foi a sua\\nresposta.\\n\\nNão se disse mais nada; mas de\\nnoite Lobo Neves insistiu no projeto um pouco mais resolutamente do que de\\ntarde; dois dias depois declarou à mulher que a presidência era coisa\\ndefinitiva. Virgília não pôde dissimular a repugnância que isto lhe causava. O\\nmarido respondia a tudo com as necessidades políticas.\\n\\n\\x97 Não posso recusar o que me\\npedem; é até conveniência nossa, do nosso futuro, dos teus brasões, meu amor,\\nporque eu prometi que serias marquesa, e nem baronesa estás. Dirás que sou\\nambicioso? Sou-o deveras, mas é preciso que me não ponhas um peso nas asas da\\nambição.\\n\\nVirgília ficou desorientada. No\\ndia seguinte achei-a triste, na casa da Gamboa, à minha espera; tinha dito tudo\\na D. Plácida, que buscava consolá-la como podia. Não fiquei menos abatido.\\n\\n\\x97 Você há de ir conosco, disse-me\\nVirgília.\\n\\n\\x97 Está doida? Seria uma\\ninsensatez.\\n\\n\\x97 Mas então...?\\n\\n\\x97 Então, é preciso desfazer o\\nprojeto.\\n\\n\\x97 É impossível.\\n\\n\\x97 Já aceitou?\\n\\n\\x97 Parece que sim.\\n\\nLevantei-me, atirei o chapéu a uma\\ncadeira, e entrei a passear de um lado para outro, sem saber o que faria.\\nCogitei largamente, e não achei nada. Enfim, cheguei-me a Virgília, que estava\\nsentada, e travei-lhe da mão; D. Plácida foi à janela.\\n\\n\\x97 Nesta pequenina mão está toda a\\nminha existência, disse eu; você é responsável por ela; faça o que lhe parecer.\\n\\nVirgília teve um gesto aflitivo;\\neu fui encostar-me ao consolo fronteiro. Decorreram alguns instantes de\\nsilêncio; ouvíamos somente o latir de um cão, e não sei se o rumor da água, que\\nmorria na praia. Vendo que não falava, olhei para ela. Virgília tinha os olhos\\nno chão, parados, sem luz, as mãos deixadas sobre os joelhos, com os dedos\\ncruzados, na atitude da suprema desesperança. Noutra ocasião, por diferente\\nmotivo, é certo que eu me lançaria aos pés dela, e a ampararia com a minha razão\\ne a minha ternura; agora, porém, era preciso compeli-la ao esforço de si mesma,\\nao sacrifício, à responsabilidade da nossa vida comum, e conseguintemente\\ndesampará-la, deixá-la, e sair; foi o que fiz.\\n\\n\\x97 Repito, a minha felicidade está\\nnas tuas mãos, disse eu.\\n\\nVirgília quis agarrar-me, mas eu\\njá estava fora da porta. Cheguei a ouvir um prorromper de lágrimas, e digo-lhes\\nque estive a ponto de voltar, para as enxugar com um beijo; mas subjuguei-me e\\nsaí.\\n\\nCAPÍTULO LXXIX /\\nCOMPROMISSO\\n\\nNão acabaria se houvesse de contar\\npelo miúdo o que padeci nas primeiras horas. Vacilava entre um querer e um não\\nquerer, entre a piedade que me empuxava à casa de Virgília e outro sentimento, \\x97\\negoísmo, supunhamos, \\x97 que me dizia: \\x97 Fica; deixa-a a sós com o problema,\\ndeixa-a que ela o resolverá no sentido do amor. Creio que essas duas forças\\ntinham igual intensidade, investiam e resistiam ao mesmo tempo, com ardor, com\\ntenacidade, e nenhuma cedia definitivamente. Às vezes sentia um dentezinho de\\nremorso; parecia-me que abusava da fraqueza de uma mulher amante e culpada, sem\\nnada sacrificar nem arriscar de mim próprio; e, quando ia a capitular, vinha\\noutra vez o amor, e me repetia o conselho egoísta, e eu ficava irresoluto e\\ninquieto, desejoso de a ver, e receoso de que a vista me levasse a compartir a\\nresponsabilidade da solução.\\n\\nPor fim interveio um compromisso\\nentre o egoísmo e a piedade; eu iria vê-la em casa, e só em casa, em presença do\\nmarido, para lhe não dizer nada, à véspera do efeito da minha intimação. Deste\\nmodo poderia conciliar as duas forças. Agora, que isto escrevo, quer-me parecer\\nque o compromisso era uma burla, que essa piedade era ainda uma forma de\\negoísmo, e que a resolução de ir consolar Virgília não passava de uma sugestão\\nde meu próprio padecimento.\\n\\nCAPÍTULO LXXX / DE\\nSECRETÁRIO\\n\\nNa noite seguinte fui efetivamente\\nà casa do Lobo Neves; estavam ambos, Virgília muito triste, ele muito jovial.\\nJuro que ela sentiu certo alívio, quando os nossos olhos se encontraram, cheios\\nde curiosidade e ternura. Lobo Neves contou-me os planos que levava para a\\npresidência, as dificuldades locais, as esperanças, as resoluções; estava tão\\ncontente! tão esperançado! Virgília, ao pé da mesa, fingia ler um livro, mas por\\ncima da página olhava-me de quando em quando, interrogativa e ansiosa.\\n\\n\\x97 O pior, disse-me de repente o\\nLobo Neves, é que ainda não achei secretário.\\n\\n\\x97 Não?\\n\\n\\x97 Não, e tenho uma\\nidéia.\\n\\n\\x97 Ah!\\n\\n\\x97 Uma idéia... Quer você dar um\\npasseio ao Norte?\\n\\nNão sei o que lhe\\ndisse.\\n\\n\\x97 Você é rico, continuou ele, não\\nprecisa de um magro ordenado; mas se quisesse obsequiar-me, ia de secretário\\ncomigo.\\n\\nMeu espírito deu um salto para\\ntrás, como se descobrisse uma serpente diante de si. Encarei o Lobo Neves,\\nfixamente, imperiosamente a ver se lhe apanhava algum pensamento oculto... Nem\\nsombra disso; o olhar vinha direito e franco, a placidez do rosto era natural,\\nnão violenta, uma placidez salpicada de alegria. Respirei, e não tive ânimo de\\nolhar para Virgília; senti por cima da página o olhar dela, que me pedia também\\na mesma coisa, e disse que sim, que iria. Na verdade, um presidente, uma\\npresidenta, um secretário, era resolver as coisas de um modo administrativo.\\n\\nCAPÍTULO LXXXI / A\\nRECONCILIAÇÃO\\n\\nContudo, ao sair de lá, tive umas\\nsombras de dúvida; cogitei se não ia expor insanamente a reputação de Virgília,\\nse não haveria outro meio razoável de combinar o Estado e a Gamboa. Não achei\\nnada. No dia seguinte, ao levantar-me da cama, trazia o espírito feito e\\nresoluto a aceitar a nomeação. Ao meio-dia, veio o criado dizer-me que estava na\\nsala uma senhora, coberta com um véu. Corro; era minha irmã Sabina.\\n\\n\\x97 Isto não pode continuar assim,\\ndisse ela; é preciso que, de uma vez por todas, façamos as pazes. Nossa família\\nestá acabando; não havemos de ficar como dois inimigos.\\n\\n\\x97 Mas se eu não te peço outra\\ncoisa, mana! bradei estendendo-lhe os braços.\\n\\nSentei-a ao pé de mim, falei-lhe\\ndo marido, da filha, dos negócios, de tudo. Tudo ia bem; a filha estava linda\\ncomo os amores. O marido viria mostrar-ma, se eu consentisse.\\n\\n\\x97 Ora essa! irei eu mesmo vê-la.\\n\\n\\x97 Sim?\\n\\n\\x97 Palavra.\\n\\n\\x97 Tanto melhor! respirou Sabina. É\\ntempo de acabar com isto.\\n\\nAchei-a mais gorda, e talvez mais\\nmoça. Parecia ter vinte anos, e contava mais de trinta. Graciosa, afável, nenhum\\nacanhamento, nenhum ressentimento. Olhávamos um para o outro, com as mãos\\nseguras, falando de tudo e de nada, como dois namorados. Era minha infância que\\nressurgia, fresca, travessa e loura; os anos iam caindo como as fileiras de\\ncartas de jogar encurvadas, com que eu brincava em pequeno, e deixavam-me ver a\\nnossa casa, a nossa família, as nossas festas. Suportei a recordação com algum\\nesforço; mas um barbeiro da vizinhança lembrou-se de zangarrear na clássica\\nrabeca, e essa voz \\x97 porque até então a recordação era muda \\x97 essa voz do\\npassado, fanhosa e saudosa, a tal ponto me comoveu, que...\\n\\nOs olhos dela estavam secos.\\nSabina não herdara a flor amarela e mórbida. Que importa? Era minha irmã, meu\\nsangue, um pedaço de minha mãe, e eu disse-lho com ternura, com sinceridade...\\nSúbito, ouço bater à porta da sala; vou abrir; era um anjinho de cinco anos.\\n\\n\\x97 Entra, Sara, disse Sabina.\\n\\nEra minha sobrinha. Apanhei-a do\\nchão, beijei-a muitas vezes; a pequena, espantada, empurrava-me o ombro com a\\nmãozinha, quebrando o corpo para descer... Nisto, aparece-me à porta um chapéu,\\ne logo um homem, o Cotrim, nada menos que o Cotrim. Eu estava tão comovido, que\\ndeixei a filha e lancei-me aos braços do pai. Talvez essa efusão o desconcertou\\num pouco; é certo que me pareceu acanhado. Simples prólogo. Daí a pouco\\nfalávamos como bons amigos velhos. Nenhuma alusão ao passado, muitos planos de\\nfuturo, promessa de jantarmos em casa um do outro. Não deixei de dizer que essa\\ntroca de jantares podia ser que tivesse uma curta interrupção, porque eu andava\\ncom idéias de uma viagem ao Norte. Sabina olhou para o Cotrim, o Cotrim para\\nSabina; ambos concordaram que essas idéias não tinham senso comum. Que diacho\\npodia eu achar no Norte? Pois não era na corte, em plena corte, que devia\\ncontinuar a luzir, a meter num chinelo os rapazes do tempo? Que, na verdade,\\nnenhum havia que se me comparasse; ele, Cotrim, acompanhava-me de longe, e, não\\nobstante uma briga ridícula, teve sempre interesse, orgulho, vaidade nos meus\\ntriunfos. Ouvia o que se dizia a meu respeito, nas ruas e nas salas; era um\\nconcerto de louvores e admirações. E deixa-se isso para ir passar alguns meses\\nna província, sem necessidade, sem motivo sério? A menos que não fosse\\npolítica...\\n\\n\\x97 Justamente política, disse eu.\\n\\n\\x97 Nem assim, replicou ele daí a um\\ninstante. \\x97 E depois de outro silêncio: \\x97 Seja como for, venha jantar hoje\\nconosco.\\n\\n\\x97 Certamente que vou; mas, amanhã\\nou depois, hão de vir jantar comigo.\\n\\n\\x97 Não sei, não sei, objetou\\nSabina; casa de homem solteiro... Você precisa casar, mano. Também eu quero uma\\nsobrinha, ouviu?\\n\\nCotrim reprimiu-a com um gesto,\\nque não entendi bem. Não importa; a reconciliação de uma família vale bem um\\ngesto enigmático.\\n\\nCAPÍTULO LXXXII / QUESTÃO DE\\nBOTÂNICA\\n\\nDigam o que quiserem dizer os\\nhipocondríacos: a vida é uma coisa doce. Foi o que eu pensei comigo, ao ver\\nSabina, o marido e a filha descerem de tropel as escadas, dizendo muitas\\npalavras afetuosas para cima, onde eu ficava \\x97 no patamar, \\x97 a dizer-lhes outras\\ntantas para baixo. Continuei a pensar que, na verdade, era feliz. Amava-me uma\\nmulher, tinha a confiança do marido, ia por secretário de ambos, reconciliava-me\\ncom os meus. Que podia desejar mais, em vinte e quatro horas?\\n\\nNesse mesmo dia, tratando de\\naparelhar os ânimos, comecei a espalhar que talvez fosse para o Norte como\\nsecretário de província, a fim de realizar certos desígnios políticos, que me\\neram pessoais. Disse-o na Rua do Ouvidor, repeti-o no dia seguinte, no Pharoux e\\nno teatro. Alguns, ligando a minha nomeação à do Lobo Neves, que já andava em\\nboatos, sorriam maliciosamente, outros batiam-me no ombro. No teatro disse-me\\numa senhora que era levar muito longe o amor da escultura. Referia-se às belas\\nformas de Virgília.\\n\\nMas a alusão mais rasgada que me\\nfizeram foi em casa de Sabina, três dias depois. Fê-la um certo Garcez, velho\\ncirurgião, pequenino, trivial e grulha, que podia chegar aos setenta, aos\\noitenta, aos noventa anos, sem adquirir jamais aquela compostura austera, que é\\na gentileza do ancião. A velhice ridícula é, porventura, a mais triste e\\nderradeira surpresa da natureza humana.\\n\\n\\x97 Já sei, desta vez vai ler\\nCícero, disse-me ele, ao saber da viagem.\\n\\n\\x97 Cícero! exclamou Sabina.\\n\\n\\x97 Pois então? Seu mano é um grande\\nlatinista. Traduz Virgílio de relance. Olhe que é Virgílio, e não Virgília...\\nnão confunda...\\n\\nE ria, de um riso grosso, rasteiro\\ne frívolo. Sabina olhou para mim, receosa de alguma réplica; mas sorriu, quando\\nme viu sorrir, e voltou o rosto para disfarçá-lo. As outras pessoas olhavam-me\\ncom um ar de curiosidade, indulgência e simpatia; era transparente que não\\nacabavam de ouvir nenhuma novidade. O caso dos meus amores andava mais público\\ndo que eu podia supor. Entretanto sorri, um sorriso curto, fugitivo e guloso, \\x97\\npalreiro como as pegas de Sintra. Virgília era um belo erro, e é tão fácil\\nconfessar um belo erro! Costumava ficar carrancudo, a princípio, quando ouvia\\nalguma alusão aos nossos amores; mas, palavra de honra! sentia cá dentro uma\\nimpressão suave e lisonjeira. Uma vez, porém, aconteceu-me sorrir, e continuei a\\nfazê-lo das outras vezes. Não sei se há aí alguém que explique o fenômeno. Eu\\nexplico-o assim: a princípio, o contentamento, sendo interior, era por assim\\ndizer o mesmo sorriso, mas abotoado; andando o tempo, desabotoou-se em flor, e\\napareceu aos olhos do próximo. Simples questão de botânica.\\n\\nCAPÍTULO LXXXIII /\\n13\\n\\nCotrim tirou-me daquele gozo,\\nlevando-me à janela. \\x97 Você quer que lhe diga uma coisa? perguntou ele; \\x97 não\\nfaça essa viagem; é insensata, é perigosa.\\n\\n\\x97 Por quê?\\n\\n\\x97 Você bem sabe por que, tornou\\nele: é, sobretudo, perigosa, muito perigosa. Aqui na corte, um caso desses\\nperde-se na multidão da gente e dos interesses; mas na província muda de figura;\\ne tratando-se de personagens políticos, é realmente insensatez. As gazetas de\\noposição, logo que farejarem o negócio, passam a imprimi-lo com todas as letras,\\ne aí virão as chufas, os remoques, as alcunhas...\\n\\n\\x97 Mas não entendo...\\n\\n\\x97 Entende, entende. Em verdade,\\nseria bem pouco amigo nosso, se me negasse o que toda a gente sabe. Eu sei disso\\nhá longos meses. Repito, não faça semelhante viagem; suporte a ausência, que é\\nmelhor, e evite algum grande escândalo e maior desgosto...\\n\\nDisse isto, e foi para dentro. Eu\\ndeixei-me estar com os olhos no lampião da esquina, \\x97 um antigo lampião de\\nazeite, \\x97 triste, obscuro e recurvado, como um ponto de interrogação. Que me\\ncumpria fazer? Era o caso de Hamlet: ou dobrar-me à fortuna, ou lutar com ela e\\nsubjugá-la. Por outros termos: embarcar ou não embarcar. Esta era a questão. O\\nlampião não me dizia nada. As palavras do Cotrim ressoavam-me aos ouvidos da\\nmemória, de um modo muito diverso do das palavras do Garcez. Talvez Cotrim\\ntivesse razão; mas podia eu separar-me de Virgília?\\n\\nSabina veio ter comigo, e\\nperguntou-me em que estava pensando. Respondi que em coisa nenhuma, que tinha\\nsono e ia para casa. Sabina esteve um instante calada. \\x97 O que você precisa, sei\\neu; é uma noiva. Deixe, que eu ainda arranjo uma noiva para você. Saí de lá\\nopresso, desorientado. Tudo pronto para embarcar, \\x97 espírito e coração, \\x97 e eis\\naí me surge esse porteiro das conveniências, que me pede o cartão de ingresso.\\nDei ao diabo as conveniências, e com elas a constituição, o corpo legislativo, o\\nministério, tudo.\\n\\nNo dia seguinte, abro uma folha\\npolítica e leio a notícia de que, por decretos de 13, tínhamos sido nomeados\\npresidente e secretário da província de *** o Lobo Neves e eu. Escrevi\\nimediatamente a Virgília, e segui duas horas depois para a Gamboa. Coitada de D.\\nPlácida! Estava cada vez mais aflita; perguntou-me se esqueceríamos a nossa\\nvelha, se a ausência era grande e se a província ficava longe. Consolei-a; mas\\neu próprio precisava de consolações; a objeção de Cotrim afligia-me. Virgília\\nchegou daí a pouco, lépida como uma andorinha; mas, ao ver-me triste, ficou\\nmuito séria.\\n\\n\\x97 Que aconteceu?\\n\\n\\x97 Vacilo, disse eu; não sei se\\ndevo aceitar...\\n\\nVirgília deixou-se cair, no\\ncanapé, a rir. \\x97 Por quê? disse ela.\\n\\n\\x97 Não é conveniente, dá muito na\\nvista...\\n\\n\\x97 Mas nós não já vamos.\\n\\n\\x97 Como assim?\\n\\nContou-me que o marido ia recusar\\na nomeação, e por motivo que só lhe disse, a ela, pedindo-lhe o maior segredo;\\nnão podia confessá-lo a ninguém mais. \\x97 É pueril, observou ele, é ridículo; mas\\nem suma, é um motivo poderoso para mim. Referiu-lhe que o decreto trazia a data\\nde 13, e que esse número significava para ele uma recordação fúnebre. O pai\\nmorreu num dia 13, treze dias depois de um jantar em que havia treze pessoas. A\\ncasa em que morrera a mãe tinha o n.° 13. Et coetera. Era um algarismo\\nfatídico. Não podia alegar semelhante coisa ao ministro; dir-lhe-ia que tinha\\nrazões particulares para não aceitar. Eu fiquei como há de estar o leitor, \\x97 um\\npouco assombrado com esse sacrifício a um número; mas, sendo ele ambicioso, o\\nsacrifício devia ser sincero...\\n\\nCAPÍTULO LXXXIV / O\\nCONFLITO\\n\\nNúmero fatídico, lembras-te que te\\nabençoei muitas vezes? Assim também as virgens ruivas de Tebas deviam abençoar a\\négua, de ruiva crina, que as substituiu no sacrifício de Pelópidas, \\x97 uma donosa\\négua, que lá morreu, coberta de flores, sem que ninguém lhe desse nunca uma\\npalavra de saudade. Pois dou-ta eu, égua piedosa, não só pela morte havida, como\\nporque, entre as donzelas escapas, não é impossível que figurasse uma avó dos\\nCubas... Número fatídico, tu foste a nossa salvação. Não me confessou o marido a\\ncausa da recusa; disse-me também que eram negócios particulares, e o rosto\\nsério, convencido, com que eu o escutei, fez honra à dissimulação humana. Ele é\\nque mal podia encobrir a tristeza profunda que o minava; falava pouco,\\nabsorvia-se, metia-se em casa, a ler. Outras vezes recebia, e então conversava e\\nria muito, com estrépito e afetação. Oprimiam-no duas coisas, \\x97 a ambição, que\\num escrúpulo desasara, e logo depois a dúvida, e talvez o arrependimento, \\x97 mas\\num arrependimento, que viria outra vez, se repetisse a hipótese, porque o fundo\\nsupersticioso existia. Duvidava da superstição, sem chegar a rejeitá-la. Essa\\npersistência de um sentimento, que repugna ao mesmo indivíduo, era um fenômeno\\ndigno de alguma atenção. Mas eu preferia a pura ingenuidade de D. Plácida,\\nquando confessava não poder ver um sapato voltado para o ar.\\n\\n\\x97 Que tem isso? perguntava-lhe eu.\\n\\n\\x97 Faz mal, era a sua resposta.\\n\\nIsto somente, esta única resposta,\\nque valia para ela o livro dos sete selos. Faz mal. Disseram-lhe isso em\\ncriança, sem outra explicação, e ela contentava-se com a certeza do mal. Já não\\nacontecia mesma coisa quando se falava de apontar uma estrela com o dedo; aí\\nsabia perfeitamente que era caso de criar uma verruga.\\n\\nOu verruga ou outra coisa, que\\nvalia isso, para quem não perde uma presidência de província? Tolera-se uma\\nsuperstição gratuita ou barata; é insuportável a que leva uma parte da vida.\\nEste era o caso do Lobo Neves com o acréscimo da dúvida e do terror de haver\\nsido ridículo. E mais este outro acréscimo, que o ministro não acreditou nos\\nmotivos particulares; atribuiu a recusa do Lobo Neves a manejos políticos,\\nilusão complicada de algumas aparências; tratou-o mal, comunicou a desconfiança\\naos colegas; sobrevieram incidentes; enfim, com o tempo, o presidente\\nresignatário foi para a oposição.\\n\\nCAPÍTULO LXXXV / O CIMO DA\\nMONTANHA\\n\\nQuem escapa a um perigo ama a vida\\ncom outra intensidade. Entrei a amar Virgília com muito mais ardor, depois que\\nestive a pique de a perder, e a mesma coisa lhe aconteceu a ela. Assim, a\\npresidência não fez mais do que avivar a afeição primitiva; foi a droga com que\\ntornamos mais saboroso o nosso amor, e mais prezado também. Nos primeiros dias,\\ndepois daquele incidente, folgávamos de imaginar a dor da separação, se houvesse\\nseparação, a tristeza de um e de outro, à proporção que o mar, como uma toalha\\nelástica, se fosse dilatando entre nós; e, semelhantes às crianças, que se\\nachegam ao regaço das mães, para fugir a uma simples careta, fugíamos do suposto\\nperigo, apertando-nos com abraços.\\n\\n\\x97 Minha boa Virgília!\\n\\n\\x97 Meu amor!\\n\\n\\x97 Tu és minha, não?\\n\\n\\x97 Tua, tua...\\n\\nE assim reatamos o fio da aventura\\ncomo a sultana Scheherazade o dos seus contos. Esse foi, cuido eu, o ponto\\nmáximo do nosso amor, o cimo da montanha, donde por algum tempo divisamos os\\nvale de leste e de oeste, e por cima de nós o céu tranqüilo e azul. Repousado\\nesse tempo, começamos a descer a encosta, com as mãos presas ou soltas, mas a\\ndescer, a descer...\\n\\nCAPÍTULO LXXXVI / O\\nMISTÉRIO\\n\\nSerra abaixo, como eu a visse um\\npouco diferente, não sei se abatida ou outra coisa, perguntei-lhe o que tinha;\\ncalou-se, fez um gesto de enfado, de mal-estar, de fadiga; ateimei, ela disse-me\\nque... Um fluido sutil percorreu todo o meu corpo: sensação forte, rápida,\\nsingular, que eu não chegarei jamais a fixar no papel. Travei-lhe das mãos,\\npuxei-a levemente a mim, e beijei-a na testa, com uma delicadeza de zéfiro e uma\\ngravidade de Abraão. Ela estremeceu, colheu-me a cabeça entre as palmas,\\nfitou-me os olhos, depois afagou-me com um gesto maternal... Eis aí um mistério;\\ndeixemos ao leitor o tempo de decifrar este mistério.\\n\\nCAPÍTULO LXXXVII /\\nGEOLOGIA\\n\\nSucedeu por esse tempo um\\ndesastre; a morte do Viegas. O Viegas passou aí de relance, com os seus setenta\\nanos, abafados de asma, desconjuntados de reumatismo, e uma lesão de coração por\\nquebra. Foi um dos finos espreitadores da nossa aventura. Virgília nutria\\ngrandes esperanças em que esse velho parente, avaro como um sepulcro, lhe\\namparasse o futuro do filho, com algum legado; e, se o marido tinha iguais\\npensamentos, encobria-os ou estrangulava-os. Tudo se deve dizer: havia no Lobo\\nNeves certa dignidade fundamental, uma camada de rocha, que resistia ao comércio\\ndos homens. As outras, as camadas de cima, terra solta e areia, levou-lhas a\\nvida, que é um enxurro perpétuo. Se o leitor ainda se lembra do capítulo XXIII,\\nobservará que é agora a segunda vez que eu comparo a vida a um enxurro; mas\\ntambém há de reparar que desta vez acrescento-lhe um adjetivo \\x97 perpétuo. E Deus\\nsabe a força de um adjetivo, principalmente em países novos e cálidos.\\n\\nO que é novo neste livro é a\\ngeologia moral do Lobo Neves, e provavelmente a do cavalheiro, que me está\\nlendo. Sim, essas camadas de caráter, que a vida altera, conserva ou dissolve,\\nconforme a resistência delas, essas camadas mereceriam um capítulo, que eu não\\nescrevo, por não alongar a narração. Digo apenas que o homem mais probo que\\nconheci em minha vida foi um certo Jacó Medeiros ou Jacó Valadares, não me\\nrecorda bem o nome. Talvez fosse Jacó Rodrigues; em suma, Jacó. Era a probidade\\nem pessoa; podia ser rico, violentando um pequenino escrúpulo, e não quis;\\ndeixou ir pelas mãos fora nada menos de uns quatrocentos contos; tinha a\\nprobidade tão exemplar, que chegava a ser miúda e cansativa. Um dia, como nos\\nachássemos, a sós, em casa dele, em boa palestra, vieram dizer que o procurava o\\nDr. B., um sujeito enfadonho. Jacó mandou dizer que não estava em casa.\\n\\n\\x97 Não pega, bradou uma voz do\\ncorredor; cá estou de dentro.\\n\\nE, com efeito, era o Dr. B., que\\napareceu logo à porta da sala. Jacó foi recebê-lo, afirmando que cuidava ser\\noutra pessoa, e não ele, e acrescentando que tinha muito prazer com a visita, o\\nque nos rendeu hora e meia de enfado mortal, e isto mesmo, porque Jacó tirou o\\nrelógio; o Dr. B. perguntou-lhe então se ia sair.\\n\\n\\x97 Com minha mulher, disse Jacó.\\n\\nRetirou-se o Dr. B. e respiramos.\\nUma vez respirados, disse eu ao Jacó que ele acabava de mentir quatro vezes, em\\nmenos de duas horas: a primeira, negando-se, a segunda, alegrando-se com a\\npresença do importuno; a terceira, dizendo que ia sair; a quarta, acrescentando\\nque com a mulher. Jacó refletiu um instante, depois confessou a justeza da minha\\nobservação, mas desculpou-se dizendo que a veracidade absoluta era incompatível\\ncom um estado social adiantado, e que a paz das cidades só se podia obter à\\ncusta de embaçadelas recíprocas... Ah! lembra-me agora: chamava-se Jacó Tavares.\\n\\nCAPÍTULO LXXXVIII / O\\nENFERMO\\n\\nNão é preciso dizer que refutei\\ntão perniciosa doutrina, com os mais elementares argumentos; mas ele estava tão\\nvexado do meu reparo, que resistiu até o fim, mostrando certo calor fictício,\\ntalvez para atordoar a consciência.\\n\\nO caso de Virgília tinha alguma\\ngravidade mais. Ela era menos escrupulosa que o marido: manifestava claramente\\nas esperanças que trazia no legado, cumulava o parente de todas as cortesias,\\natenções e afagos que poderiam render, pelo menos, um codicilo. Propriamente,\\nadulava-o; mas eu observei que a adulação das mulheres não é a mesma coisa que a\\ndos homens. Esta orça pela servilidade; a outra confunde-se com a afeição. As\\nformas graciosamente curvas, a palavra doce, a mesma fraqueza física dão à ação\\nlisonjeira da mulher, uma cor local, um aspecto legítimo. Não importa a idade do\\nadulado; a mulher há de ter sempre para ele uns ares de mãe ou de irmã, \\x97 ou\\nainda de enfermeira, outro ofício feminil, em que o mais hábil dos homens\\ncarecerá sempre de um quid, um fluido, alguma coisa.\\n\\nEra o que eu pensava comigo,\\nquando Virgília se desfazia toda em afagos ao velho parente. Ela ia recebê-lo à\\nporta, falando e rindo, tirava-lhe o chapéu e a bengala, dava-lhe o braço e\\nlevava-o a uma cadeira, ou à cadeira, porque havia lá em casa a \\x93cadeira do\\nViegas\\x94, obra especial, conchegada, feita para gente enferma ou anciã. Ia fechar\\na janela próxima, se havia alguma brisa, ou abri-la, se estava calor, mas com\\ncuidado, combinando de modo que lhe não desse um golpe de ar.\\n\\n\\x97 Então? Hoje está mais\\nfortezinho...\\n\\n\\x97 Qual! Passei mal a noite: o\\ndiabo da asma não me deixa.\\n\\nE bufava o homem, repousando a\\npouco e pouco do cansaço da entrada e da subida, não do caminho, porque ia\\nsempre de sege. Ao lado, um pouco mais para a frente, sentava-se Virgília, numa\\nbanquinha, com as mãos nos joelhos do enfermo. Entretanto, o nhonhô chegava à\\nsala, sem os pulos do costume, mas discreto, meigo, sério. Viegas gostava muito\\ndele.\\n\\n\\x97 Vem cá, nhonhô, dizia-lhe; e a\\ncusto introduzia a mão na ampla algibeira, tirava uma caixinha de pastilhas,\\nmetia uma na boca e dava outra ao pequeno. Pastilhas antiasmáticas. O pequeno\\ndizia que eram muito boas.\\n\\nRepetia-se isto, com variantes.\\nComo o Viegas gostasse de jogar damas, Virgília cumpria-lhe o desejo, aturando-o\\npor largo tempo, a mover as pedras com a mão frouxa e tarda. Outras vezes,\\ndesciam a passear na chácara, dando-lhe ela o braço, que ele nem sempre\\naceitava, por dizer-se rijo e capaz de andar uma légua. Iam, sentavam-se\\ntornavam a ir, a falar de coisas várias, ora de um negócio de família, ora de\\numa bisbilhotice de sala, ora enfim de uma casa que ele meditava construir, para\\nresidência própria, casa de feitio moderno, porque a dele era das antigas,\\ncontemporânea de el-rei D. João VI, à maneira de algumas que ainda hoje (creio\\neu) se podem ver no bairro de São Cristóvão, com as suas grossas colunas na\\nfrente. Parecia-lhe que o casarão em que morava podia ser substituído, e já\\ntinha encomendado o risco a um pedreiro de fama. Ah! então sim, então é que\\nVirgília chegaria a ver o que era um velho de gosto.\\n\\nFalava, como se pode supor,\\nlentamente e a custo, intervalado de uma arfagem incômoda para ele e para os\\noutros. De quando em quando, vinha um acesso de tosse; curvo, gemendo, levava o\\nlenço à boca, e investigava-o; passado o acesso, tornava ao plano da casa, que\\ndevia ter tais e tais quartos, um terraço, cachoeira, um primor.\\n\\nCAPÍTULO LXXXIX / IN\\nEXTREMIS\\n\\n\\x97 Amanhã vou passar o dia em casa\\ndo Viegas, disse-me ela uma vez. Coitado! não tem ninguém...\\n\\nViegas caíra na cama,\\ndefinitivamente; a filha, casada, adoecera justamente agora, e não podia\\nfazer-lhe companhia. Virgília ia lá de quando em quando. Eu aproveitei a\\ncircunstância para passar todo aquele dia ao pé dela. Eram duas horas da tarde\\nquando cheguei. Viegas tossia com tal força que me fazia arder o peito; no\\nintervalo dos acessos debatia o preço de uma casa, com um sujeito magro. O\\nsujeito oferecia trinta contos. Viegas exigia quarenta. O comprador instava como\\nquem receia perder o trem da estrada de ferro, mas Viegas não cedia; recusou\\nprimeiramente os trinta contos, depois mais dois, depois mais três, enfim teve\\num forte acesso, que lhe tolheu a fala durante quinze minutos. O comprador\\nacarinhou-o muito, arranjou-lhe os travesseiros, ofereceu-lhe trinta e seis\\ncontos.\\n\\n\\x97 Nunca! gemeu o enfermo.\\n\\nMandou buscar um maço de papéis à\\nescrivaninha; não tendo forças para tirar a fita de borracha que prendia os\\npapéis, pediu-me que os deslaçasse: fi-lo. Eram as contas das despesas com a\\nconstrução da casa: contas de pedreiro, de carpinteiro, de pintor; contas do\\npapel da sala de visitas, da sala de jantar, das alcovas, dos gabinetes; contas\\ndas ferragens; custo do terreno. Ele abria-as, uma por uma, com a mão trêmula, e\\npedia-me que as lesse, e eu lia-as.\\n\\n\\x97 Veja; mil e duzentos, papel de\\nmil e duzentos a peça. Dobradiças francesas... Veja, é de graça, concluiu ele\\ndepois de lida a última conta.\\n\\n\\x97 Pois bem... mas...\\n\\n\\x97 Quarenta contos; não lhe dou por\\nmenos. Só os juros... faça a conta dos juros...\\n\\nVinham tossidas estas palavras, às\\ngolfadas, às sílabas, como se fossem migalhas de um pulmão desfeito. Nas órbitas\\nfundas rolavam os olhos lampejantes, que me faziam lembrar a lamparina da\\nmadrugada. Sob o lençol desenhava-se a estrutura óssea do corpo, pontudo em dois\\nlugares, nos joelhos e nos pés; a pele amarelada, bamba, rugosa, revestia apenas\\na caveira de um rosto sem expressão; uma carapuça de algodão branco cobria-lhe o\\ncrânio rapado pelo tempo.\\n\\n\\x97 Então? disse o sujeito magro.\\n\\nFiz-lhe sinal para que não\\ninsistisse, e ele calou-se por alguns instantes. O doente ficou a olhar para o\\nteto, calado, a arfar muito: Virgília empalideceu, levantou-se, foi até à\\njanela. Suspeitara a morte e tinha medo. Eu procurei falar de outras coisas. O\\nsujeito magro contou uma anedota, e tornou a tratar da casa, alteando a\\nproposta.\\n\\n\\x97 Trinta e oito contos, disse ele.\\n\\n\\x97 Ahn?... gemeu o enfermo.\\n\\nO sujeito magro aproximou-se da\\ncama, pegou-lhe na mão, e sentiu-a fria. Eu acheguei-me ao doente, perguntei-lhe\\nse sentia alguma coisa, se queria tomar um cálice de vinho.\\n\\n\\x97 Não... não... quar... quaren...\\nquar... quar...\\n\\nTeve um acesso de tosse, e foi o\\núltimo; daí a pouco expirava ele, com grande consternação do sujeito magro, que\\nme confessou depois a disposição em que estava de oferecer os quarenta contos;\\nmas era tarde.\\n\\nCAPÍTULO XC / O VELHO COLÓQUIO\\nDE ADÃO E CAIM\\n\\nNada. Nenhuma lembrança\\ntestamentária, uma pastilha que fosse, com que do todo em todo não parecesse\\ningrato ou esquecido. Nada. Virgília travou raivosa esse malogro, e disse-mo com\\ncerta cautela, não pela coisa em si, senão porque entendia com o filho, de quem\\nsabia que eu não gostava muito, nem pouco. Insinuei-lhe que não devia pensar\\nmais em semelhante negócio. O melhor de tudo era esquecer o defunto, um lorpa,\\num cainho sem nome, e tratar de coisas alegres; o nosso filho, por exemplo...\\n\\nLá me escapou a decifração do\\nmistério, esse doce mistério de algumas semanas antes, quando Virgília me\\npareceu um pouco diferente do que era. Um filho! Um ser tirado do meu ser! Esta\\nera a minha preocupação exclusiva daquele tempo. Olhos do mundo, zelos do\\nmarido, morte do Viegas, nada me interessava por então, nem conflitos políticos,\\nnem revoluções, nem terremotos, nem nada. Eu só pensava naquele embrião anônimo,\\nde obscura paternidade, e uma voz secreta me dizia: é teu filho. Meu filho! E\\nrepetia estas duas palavras, com certa voluptuosidade indefinível, e não sei que\\nassomos de orgulho. Sentia-me homem.\\n\\nO melhor é que conversávamos os\\ndois, o embrião e eu, falávamos de coisas presentes e futuras. O maroto\\namava-me, era um pelintra gracioso, dava-me pancadinhas na cara com as mãozinhas\\ngordas, ou então traçava a beca de bacharel, porque ele havia de ser bacharel e\\nfazia um discurso na Câmara dos Deputados. E o pai a ouvi-lo de uma tribuna, com\\nos olhos rasos de lágrimas. De bacharel passava outra vez à escola, pequenino,\\nlousa e livros debaixo do braço, ou então caía no berço para tornar a erguer-se\\nhomem. Em vão buscava fixar no espírito uma idade, uma atitude: esse embrião\\ntinha a meus olhos todos os tamanhos e gestos: ele mamava, ele escrevia, ele\\nvalsava, ele era o interminável nos limites de um quarto de hora, \\x97 baby\\ne deputado, colegial e pintalegrete. Às vezes, ao pé de Virgília, esquecia-me\\ndela e de tudo; Virgília sacudia-me, reprochava-me o silêncio; dizia que eu já\\nlhe não queria nada. A verdade é que estava em diálogo com o embrião; era o\\nvelho colóquio de Adão e Caim, uma conversa sem palavras entre a vida e a vida,\\no mistério e o mistério.\\n\\nCAPÍTULO XCI / UMA CARTA\\nEXTRAORDINÁRIA\\n\\nPor esse tempo recebi uma carta\\nextraordinária, acompanhada de um objeto não menos extraordinário. Eis o que a\\ncarta dizia:\\n\\n\\x93Meu caro Brás Cubas,\\n\\nHá tempos, no Passeio Público,\\ntomei-lhe de empréstimo um relógio. Tenho a satisfação de restituir-lho com esta\\ncarta. A diferença é que não é o mesmo, porém outro, não digo superior, mas\\nigual ao primeiro. Que voulez-vous,\\nmonseigneur? \\x97 como dizia Fígaro, \\x97 c'est\\nla misère. Muitas coisas se deram depois do\\nnosso encontro; irei contá-las pelo miúdo, se me não fechar a porta. Saiba que\\njá não trago aquelas botas caducas, nem envergo uma famosa sobrecasaca cujas\\nabas se perdiam na noite dos tempos. Cedi o meu degrau da escada de São\\nFrancisco; finalmente, almoço.\\n\\nDito isto, peço licença para ir um\\ndia destes expor-lhe um trabalho, fruto de longo estudo, um novo sistema de\\nfilosofia, que não só explica e descreve a origem e a consumação das coisas,\\ncomo faz dar um grande passo adiante de Zenon e Sêneca, cujo estoicismo era um\\nverdadeiro brinco de crianças ao pé da minha receita moral. É singularmente\\nespantoso esse meu sistema; retifica o espírito humano, suprime a dor, assegura\\na felicidade, e enche de imensa glória o nosso país. Chamo-lhe Humanitismo, de\\nHumanitas, princípio das coisas. Minha primeira idéia revelava uma grande\\nenfatuação: era chamar-lhe borbismo, de Borba; denominação vaidosa, além de rude\\ne molesta. E com certeza exprimia menos. Verá, meu caro Brás Cubas, verá que é\\ndeveras um monumento; e se alguma coisa há que possa fazer-me esquecer as\\namarguras da vida, é o gosto de haver enfim apanhado a verdade e a felicidade.\\nEi-las na minha mão essas duas esquivas; após tantos séculos de lutas,\\npesquisas, descobertas, sistemas e quedas, ei-las nas mãos do homem. Até breve,\\nmeu caro Brás Cubas. Saudades do\\n\\nVelho amigo\\nJOAQUIM BORBA DOS\\nSANTOS.\\x94\\n\\nLi esta carta sem entendê-la.\\nVinha com ela uma boceta contendo um bonito relógio com as minhas iniciais\\ngravadas, e esta frase: Lembrança do velho Quincas. Voltei à carta,\\nreli-a com pausa, com atenção. A restituição do relógio excluía toda a idéia de\\nburla; a lucidez, a serenidade, a convicção, \\x97 um pouco jactanciosa, é certo, \\x97\\npareciam excluir a suspeita de insensatez. Naturalmente o Quincas Borba herdara\\nde algum dos seus parentes de Minas, e a abastança devolvera-lhe a primitiva\\ndignidade. Não digo tanto; há coisas que se não podem reaver integralmente; mas\\nenfim a regeneração não era impossível. Guardei a carta e o relógio, e esperei a\\nfilosofia.\\n\\nCAPÍTULO XCII / UM HOMEM\\nEXTRAORDINÁRIO\\n\\nJá agora acabo com as coisas\\nextraordinárias. Vinha de guardar a carta e o relógio, quando me procurou um\\nhomem magro e meão, com um bilhete do Cotrim, convidando-me para jantar. O\\nportador era casado com uma irmã do Cotrim, chegara poucos dias antes do Norte,\\nchamava-se Damasceno, e fizera a revolução de 1831. Foi ele mesmo que me disse\\nisto, no espaço de cinco minutos. Saíra do Rio de Janeiro, por desacordo com o\\nRegente, que era um asno, pouco menos asno do que os ministros que serviram com\\nele. De resto, a revolução estava outra vez às portas. Neste ponto, conquanto\\ntrouxesse as idéias políticas um pouco baralhadas, consegui organizar e formular\\no governo de suas preferências: era um despotismo temperado, \\x97 não por cantigas,\\ncomo dizem alhures, \\x97 mas por penachos da guarda nacional. Só não pude alcançar\\nse ele queria o despotismo de um, de três, de trinta ou de trezentos. Opinava\\npor várias coisas, entre outras, o desenvolvimento do tráfico dos africanos e a\\nexpulsão dos ingleses. Gostava muito de teatro; logo que chegou foi ao Teatro de\\nSão Pedro, onde viu um drama soberbo, a Maria Joana, e uma comédia muito\\ninteressante, Kettly, ou a volta à Suíça. Também gostara muito da\\nDeperini, na Safo, ou na Ana Bolena, não se lembrava bem. Mas a\\nCandiani! sim, senhor, era papa-fina. Agora queria ouvir o Ernani, que a\\nfilha dele cantava em casa, ao piano: Ernani, Ernani, involami... \\x97 E\\ndizia isto levantando-se e cantarolando a meia voz. \\x97 No Norte essas coisas\\nchegavam como um eco. A filha morria por ouvir todas as óperas. Tinha uma voz\\nmuito mimosa a filha. E gosto, muito gosto. Ah! ele estava ansioso por voltar ao\\nRio de Janeiro. Já havia corrido a cidade toda, com umas saudades... Palavra! em\\nalguns lugares teve vontade de chorar. Mas não embarcaria mais. Enjoara muito a\\nbordo, como todos os outros passageiros, exceto um inglês... Que os levasse o\\ndiabo os ingleses! Isto não ficava direito sem irem todos eles barra fora. Que é\\nque a Inglaterra podia fazer-nos? Se ele encontrasse algumas pessoas de boa\\nvontade, era obra de uma noite a expulsão de tais godemes... Graças a\\nDeus, tinha patriotismo, \\x97 e batia no peito, \\x97 o que não admirava porque era de\\nfamília; descendia de um antigo capitão-mor muito patriota. Sim, não era nenhum\\npé-rapado. Viesse a ocasião, e ele havia de mostrar de que pau era a canoa...\\nMas fazia-se tarde, ia dizer que eu não faltaria ao jantar, e lá me esperava\\npara maior palestra. \\x97 Levei-o até à porta da sala; ele parou dizendo que\\nsimpatizava muito comigo. Quando casara, estava eu na Europa. Conheceu meu pai,\\num homem às direitas, com quem dançara num célebre baile da Praia Grande...\\nCoisas! coisas! Falaria depois, fazia-se tarde, tinha de ir levar a resposta ao\\nCotrim. Saiu; fechei-lhe a porta...\\n\\nCAPÍTULO XCIII / O\\nJANTAR\\n\\nQue suplício que foi o jantar!\\nFelizmente, Sabina fez-me sentar ao pé da filha do Damasceno, uma D. Eulália, ou\\nmais familiarmente Nhã-loló, moça graciosa, um tanto acanhada a princípio, mas\\nsó a princípio. Faltava-lhe elegância, mas compensava-a com os olhos, que eram\\nsoberbos e só tinham o defeito de se não arrancarem de mim, exceto quando\\ndesciam ao prato; mas Nhã-loló comia tão pouco, que quase não olhava para o\\nprato. De noite cantou; a voz era como dizia o pai, \\x93muito mimosa\\x94. Não\\nobstante, esquivei-me. Sabina veio até à porta, e perguntou-me que tal achara a\\nfilha do Damasceno.\\n\\n\\x97 Assim, assim.\\n\\n\\x97 Muito simpática, não é? acudiu\\nela; falta-lhe um pouco mais de corte. Mas que coração! é uma pérola. Bem boa\\nnoiva para você.\\n\\n\\x97 Não gosto de pérolas.\\n\\n\\x97 Casmurro! Para quando é que você\\nse guarda? para quando estiver a cair de maduro, já sei. Pois, meu rico, quer\\nvocê queira quer não, há de casar com Nhã-loló.\\n\\nE dizia isto a bater-me na face\\ncom os dedos, meiga como uma pomba, e ao mesmo tempo intimativa e resoluta.\\nSanto Deus! seria esse o motivo da reconciliação? Fiquei um pouco desconsolado\\ncom a idéia, mas uma voz misteriosa chamava-me à casa do Lobo Neves; disse adeus\\na Sabina e às suas ameaças.\\n\\nCAPÍTULO XCIV / A CAUSA\\nSECRETA\\n\\n\\x97 Como está a minha querida mamãe?\\nA esta palavra, Virgília amuou-se, como sempre. Estava ao canto de uma janela,\\nsozinha, a olhar para a lua, e recebeu-me alegremente; mas quando lhe falei no\\nnosso filho amuou-se. Não gostava de semelhante alusão, aborreciam-lhe as minhas\\nantecipadas carícias paternais. Eu, para quem ela era já uma pessoa sagrada, uma\\nâmbula divina, deixava-a estar quieta. Supus a princípio que o embrião, esse\\nperfil do incógnito, projetando-se na nossa aventura, lhe restituíra a\\nconsciência do mal. Enganava-me. Nunca Virgília me parecera mais expansiva, mais\\nsem reservas, menos preocupada dos outros e do marido. Não eram remorsos.\\nImaginei também que a concepção seria um puro invento, um modo de prender-me a\\nela, recurso sem longa eficácia, que talvez começava de oprimi-la. Não era\\nabsurda esta hipótese; a minha doce Virgília mentia às vezes, com tanta graça!\\n\\nNaquela noite descobri a causa\\nverdadeira. Era medo do parto e vexame da gravidez. Padecera muito quando lhe\\nnasceu o primeiro filho; e essa hora, feita de minutos de vida e minutos de\\nmorte, dava-lhe já imaginariamente os calafrios do patíbulo. Quanto ao vexame,\\ncomplicava-se ainda da forçada privação de certos hábitos da vida elegante. Com\\ncerteza, era isso mesmo; dei-lho a entender, repreendendo-a, um pouco em nome\\ndos meus direitos de pai. Virgília fitou-me; em seguida desviou os olhos e\\nsorriu de um jeito incrédulo.\\n\\nCAPÍTULO XCV / FLORES DE\\nANTANHO\\n\\nOnde estão elas, as flores de\\nantanho? Uma tarde, após algumas semanas de gestação, esboroou-se todo o\\nedifício das minhas quimeras paternais. Foi-se o embrião, naquele ponto em que\\nse não distingue Laplace de uma tartaruga. Tive a notícia por boca do Lobo\\nNeves, que me deixou na sala e acompanhou o médico à alcova da frustrada mãe. Eu\\nencostei-me à janela, a olhar para a chácara, onde verdejavam as laranjeiras sem\\nflores. Onde iam elas as flores de antanho?\\n\\nCAPÍTULO XCVI / A CARTA\\nANÔNIMA\\n\\nSenti tocar-me no ombro; era Lobo\\nNeves. Encaramo-nos alguns instantes, mudos, inconsoláveis. Indaguei de\\nVirgília, depois ficamos a conversar uma meia hora. No fim desse tempo, vieram\\ntrazer-lhe uma carta; ele leu-a, empalideceu muito, e fechou-a com a mão\\ntrêmula. Creio que lhe vi fazer um gesto, como se quisesse atirar-se sobre mim;\\nmas não me lembra bem. O que me lembra claramente é que durante os dias\\nseguintes recebeu-me frio e taciturno. Enfim, Virgília contou-me tudo, daí a\\ndias na Gamboa.\\n\\nO marido mostrou-lhe a carta, logo\\nque ela se restabeleceu. Era anônima e denunciava-nos. Não dizia tudo; não\\nfalava, por exemplo, das nossas entrevistas externas; limitava-se a precavê-lo\\ncontra a minha intimidade, e acrescentava que a suspeita era pública. Virgília\\nleu a carta e disse com indignação que era uma calúnia infame.\\n\\n\\x97 Calúnia? perguntou Lobo Neves.\\n\\n\\x97 Infame.\\n\\nO marido respirou; mas, tornando à\\ncarta, parece que cada palavra dela lhe fazia com o dedo um sinal negativo, cada\\nletra bradava contra a indignação da mulher. Esse homem, aliás intrépido, era\\nagora a mais frágil das criaturas. Talvez a imaginação lhe mostrou, ao longe, o\\nfamoso olho da opinião, a fitá-lo sarcasticamente, com um ar de pulha; talvez\\numa boca invisível lhe repetiu ao ouvido as chufas que ele escutara ou dissera\\noutrora. Instou com a mulher que lhe confessasse tudo, porque tudo lhe\\nperdoaria. Virgília compreendeu que estava salva; mostrou-se irritada com a\\ninsistência, jurou que da minha parte só ouvira palavras de gracejo e cortesia.\\nA carta havia de ser de algum namorado sem-ventura. E citou alguns, \\x97 um que a\\ngalanteara francamente, durante três semanas, outro que lhe escrevera uma carta,\\ne ainda outros e outros. Citava-os pelo nome, com circunstâncias, estudando os\\nolhos do marido, e concluiu dizendo que, para não dar margem à calúnia,\\ntratar-me-ia de maneira que eu não voltaria lá.\\n\\nOuvi tudo isto um pouco turbado,\\nnão pelo acréscimo de dissimulação que era preciso empregar de ora em diante,\\naté afastar-me inteiramente da casa do Lobo Neves, mas pela tranqüilidade moral\\nde Virgília, pela falta de comoção, de susto, de saudades, e até de remorsos.\\nVirgília notou a minha preocupação, levantou-me a cabeça, porque eu olhava então\\npara o soalho, e disse-me com certa amargura:\\n\\n\\x97 Você não merece os sacrifícios\\nque lhe faço.\\n\\nNão lhe disse nada; era ocioso\\nponderar-lhe que um pouco de desespero e terror daria à nossa situação o sabor\\ncáustico dos primeiros dias; mas se lho dissesse, não é impossível que ela\\nchegasse lenta e artificiosamente até esse pouco de desespero e terror. Não lhe\\ndisse nada. Ela batia nervosamente com a ponta do pé no chão; aproximei-me e\\nbeijei-a na testa. Virgília recuou, como se fosse um beijo de defunto.\\n\\nCAPÍTULO XCVII / ENTRE A BOCA E\\nA TESTA\\n\\nSinto que o leitor estremeceu, \\x97\\nou devia estremecer. Naturalmente a última palavra sugeriu-lhe três ou quatro\\nreflexões. Veja bem o quadro: numa casinha da Gamboa, duas pessoas que se amam\\nhá muito tempo, uma inclinada para a outra, a dar-lhe um beijo na testa, e a\\noutra a recuar, como se sentisse o contato de uma boca de cadáver. Há aí, no\\nbreve intervalo, entre a boca e a testa, antes do beijo e depois do beijo, há aí\\nlargo espaço para muita coisa, \\x97 a contração de um ressentimento, \\x97 a ruga da\\ndesconfiança, \\x97 ou enfim o nariz pálido e sonolento da saciedade...\\n\\nCAPÍTULO XCVIII /\\nSUPRIMIDO\\n\\nSeparamo-nos alegremente. Jantei\\nreconciliado com a situação. A carta anônima restituía à nossa aventura o sal do\\nmistério e a pimenta do perigo; e afinal foi bem bom que Virgília não perdesse\\nnaquela crise a posse de si mesma. De noite fui ao teatro de São Pedro;\\nrepresentava-se uma grande peça, em que a Estela arrancava lágrimas. Entro;\\ncorro os olhos pelos camarotes; vejo em um deles Damasceno e a família. Trajava\\na filha com outra elegância e certo apuro, coisa difícil de explicar, porque o\\npai ganhava apenas o necessário para endividar-se; e daí, talvez fosse por isso\\nmesmo.\\n\\nNo intervalo fui visitá-los.\\nDamasceno recebeu-me com muitas palavras, a mulher com muitos sorrisos. Quanto a\\nNhã-loló, não tirou mais os olhos de mim. Parecia-me agora mais bonita que no\\ndia do jantar. Achei-lhe certa suavidade etérea casada ao polido das formas\\nterrenas: \\x97 expressão vaga, e condigna de um capítulo em que tudo há de ser\\nvago. Realmente, não sei como lhes diga que não me senti mal, ao pé da moça,\\ntrajando garridamente um vestido fino, um vestido que me dava cócegas de\\nTartufo. Ao contemplá-lo, cobrindo casta e redondamente o joelho, foi que eu fiz\\numa descoberta sutil, a saber, que a natureza previu a vestidura humana,\\ncondição necessária ao desenvolvimento da nossa espécie. A nudez habitual, dada\\na multiplicação das obras e dos cuidados do indivíduo, tenderia a embotar os\\nsentidos e a retardar os sexos, ao passo que o vestuário, negaceando a natureza,\\naguça e atrai as vontades, ativa-as, reprodu-las, e conseguintemente faz andar a\\ncivilização. Abençoado uso que nos deu Otelo e os paquetes\\ntransatlânticos!\\n\\nEstou com vontade de suprimir este\\ncapítulo. O declive é perigoso. Mas enfim eu escrevo as minhas memórias e não as\\ntuas, leitor pacato. Ao pé da graciosa donzela, parecia-me tomado de uma\\nsensação dupla e indefinível. Ela exprimia inteiramente a dualidade de Pascal,\\nl'ange et la bête, com a diferença que o jansenista não admitia a\\nsimultaneidade das duas naturezas, ao passo que elas aí estavam bem juntinhas, \\x97\\nl'ange, que dizia algumas coisas do Céu, \\x97 e la bête, que... Não;\\ndecididamente suprimo este capítulo.\\n\\nCAPÍTULO XCIX / NA\\nPLATÉIA\\n\\nNa platéia achei Lobo Neves, de\\nconversa com alguns amigos, falamos por alto, a frio, constrangidos um e outro.\\nMas no intervalo seguinte, prestes a levantar o pano, encontramo-nos num dos\\ncorredores, em que não havia ninguém. Ele veio a mim, com muita afabilidade e\\nriso, puxou-me a um dos óculos do teatro, e falamos muito, principalmente ele,\\nque parecia o mais tranqüilo dos homens. Cheguei a perguntar-lhe pela mulher;\\nrespondeu que estava boa, mas torceu logo a conversação para assuntos gerais,\\nexpansivo, quase risonho. Adivinhe quem quiser a causa da diferença; eu fujo ao\\nDamasceno que me espreita ali da porta do camarote.\\n\\nNão ouvi nada do seguinte ato, nem\\nas palavras dos atores, nem as palmas do público. Reclinado na cadeira, apanhava\\nde memória os retalhos da conversação do Lobo Neves, refazia as maneiras dele, e\\nconcluía que era muito melhor a nova situação. Bastava-nos a Gamboa. A\\nfreqüência da outra casa aguçaria as invejas. Rigorosamente podíamos\\ndispensar-nos de falar todos os dias; era até melhor, metia a saudade de permeio\\nnos amores. Ao demais, eu galgara os quarenta anos, e não era nada, nem simples\\neleitor de paróquia. Urgia fazer alguma coisa, ainda por amor de Virgília, que\\nhavia de ufanar-se quando visse luzir o meu nome... Creio que nessa ocasião\\nhouve grandes aplausos, mas não juro; eu pensava em outra coisa.\\n\\nMultidão, cujo amor cobicei até à\\nmorte, era assim que eu me vingava às vezes de ti; deixava burburinhar em volta\\ndo meu corpo a gente humana, sem a ouvir, como o Prometeu de Ésquilo fazia aos\\nseus verdugos. Ah! tu cuidavas encadear-me ao rochedo da tua frivolidade, da tua\\nindiferença, ou da tua agitação? Frágeis cadeias, amiga minha; eu rompia-as de\\num gesto de Gulliver. Vulgar coisa é ir considerar no ermo. O voluptuoso, o\\nesquisito, é insular-se o homem no meio de um mar de gestos e palavras, de\\nnervos e paixões, decretar-se alheado, inacessível, ausente. O mais que podem\\ndizer, quando ele torna a si, \\x97 isto é, quando torna aos outros, \\x97 é que baixa\\ndo mundo da lua; mas o mundo da lua, esse desvão luminoso e recatado do cérebro,\\nque outra coisa é senão a afirmação desdenhosa da nossa liberdade espiritual?\\nVive Deus! eis um bom fecho de capítulo.\\n\\nCAPÍTULO C / O CASO\\nPROVÁVEL\\n\\nSe esse mundo não fosse uma região\\nde espíritos desatentos, era escusado lembrar ao leitor que eu só afirmo certas\\nleis, quando as possuo deveras; em relação a outras restrinjo-me à admissão da\\nprobabilidade. Um exemplo da segunda classe constitui o presente capítulo, cuja\\nleitura recomendo a todas as pessoas que amam o estudo dos fenômenos sociais.\\nSegundo parece, e não é improvável, existe entre os fatos da vida pública e os\\nda vida particular uma certa ação recíproca, regular, e talvez periódica, \\x97 ou\\npara usar de uma imagem, há alguma coisa semelhante às marés da Praia do\\nFlamengo e de outras igualmente marulhosas. Com efeito, quando a onda investe a\\npraia, alaga-a muitos palmos a dentro; mas essa mesma água torna ao mar, com\\nvariável força, e vai engrossar a onda que há de vir, e que terá de tornar como\\na primeira. Esta é a imagem; vejamos a aplicação.\\n\\nDeixei dito noutra página que o\\nLobo Neves, nomeado presidente de província, recusou a nomeação por motivo da\\ndata do decreto que era 13; ato grave, cuja conseqüência foi separar do\\nministério o marido de Virgília. Assim, o fato particular da ojeriza de um\\nnúmero produziu o fenômeno da dissidência política. Resta ver como, tempos\\ndepois, um ato político determinou na vida particular uma cessação de movimento.\\nNão convindo ao método deste livro descrever imediatamente esse outro fenômeno,\\nlimito-me a dizer por ora que o Lobo Neves, quatro meses depois de nosso\\nencontro no teatro, reconciliou-se com o ministério; fato que o leitor não deve\\nperder de vista, se quiser penetrar a sutileza do meu pensamento.\\n\\nCAPÍTULO CI / A REVOLUÇAO\\nDÁLMATA\\n\\nFoi Virgília quem me deu notícia\\nda viravolta política do marido, certa manhã de outubro, entre onze e meio-dia;\\nfalou-me de reuniões, de conversas, de um discurso...\\n\\n\\x97 De maneira, que desta vez fica\\nvocê baronesa, interrompi eu.\\n\\nEla derreou os cantos da boca, e\\nmoveu a cabeça a um e outro lado; mas esse gesto de indiferença era desmentido\\npor alguma coisa menos definível, menos clara, uma expressão de gosto e de\\nesperança. Não sei por que, imaginei que a carta imperial da nomeação podia\\natraí-la à virtude, não digo pela virtude em si mesma, mas por gratidão ao\\nmarido. Que ela amava cordialmente a nobreza. Um dos maiores desgostos de nossa\\nvida foi o aparecimento de certo pelintra de legação, \\x97 da legação da Dalmácia,\\nsuponhamos, \\x97 o Conde B. V., que a namorou durante três meses. Esse homem, vero\\nfidalgo de raça, transtornara um pouco a cabeça de Virgília, que, além do mais,\\npossuía a vocação diplomática. Não chego a alcançar o que seria de mim, se não\\nrebentasse na Dalmácia uma revolução, que derrocou o governo e purificou as\\nembaixadas. Foi sangrenta a revolução, dolorosa, formidável; os jornais, a cada\\nnavio que chegava da Europa, transcreviam os horrores, mediam o sangue, contavam\\nas cabeças; toda a gente fremia de indignação e piedade... Eu não; eu abençoava\\ninteriormente essa tragédia, que me tirara uma pedrinha do sapato. E depois a\\nDalmácia era tão longe!\\n\\nCAPÍTULO CII / DE\\nREPOUSO\\n\\nMas este mesmo homem, que se\\nalegrou com a partida do outro, praticou daí a tempos... Não, não hei de\\ncontá-lo nesta página; fique esse capítulo para repouso do meu vexame. Uma ação\\ngrosseira, baixa, sem explicação possível... Repito, não contarei o caso nesta\\npágina.\\n\\nCAPÍTULO CIII /\\nDISTRAÇÃO\\n\\n\\x97 Não, senhor doutor, isto não se\\nfaz. Perdoe-me, isto não se faz.\\n\\nTinha razão D. Plácida. Nenhum\\ncavalheiro chega uma hora mais tarde ao lugar em que o espera a sua dama. Entrei\\nesbaforido; Virgília tinha ido embora. D. Plácida contou-me que ela esperara\\nmuito, que se irritara, que chorara, que jurara votar-me ao desprezo, e outras\\nmais coisas que a nossa caseira dizia com lágrimas na voz, pedindo-me que não\\ndesamparasse Iaiá, que era ser muito injusto com uma moça que me sacrificara\\ntudo. Expliquei-lhe então que um equívoco... E não era; cuido que foi simples\\ndistração. Um dito, uma conversa, uma anedota, qualquer coisa; simples\\ndistração.\\n\\nCoitada de D. Plácida! Estava\\naflita deveras. Andava de um lado para outro, abanando a cabeça, suspirando com\\nestrépito, espiando pela rótula. Coitada de D. Plácida! Com que arte conchegava\\nas roupas, bafejava as faces, acalentava as manhas do nosso amor! que imaginação\\nfértil em tornar as horas mais aprazíveis e breves! Flores, doces, \\x97 os bons\\ndoces de outros dias, \\x97 e muito riso, muito afago, riso e afago que cresciam com\\no tempo, como se ela quisesse fixar a nossa aventura, ou restituir-lhe a\\nprimeira flor. Nada esquecia a nossa confidente e caseira; nada, nem a mentira,\\nporque a um e outro referia suspiros e saudades que não presenciara; nada, nem a\\ncalúnia, porque uma vez chegou a atribuir-me uma paixão nova. \\x97 Você sabe que\\nnão posso gostar de outra mulher, foi a minha resposta, quando Virgília me falou\\nem semelhante coisa. E esta só palavra, sem nenhum protesto ou admoestação,\\ndissipou o aleive de D. Plácida, que ficou triste.\\n\\n\\x97 Está bem, disse-lhe eu, depois\\nde um quarto de hora; Virgília há de reconhecer que não tive culpa nenhuma...\\nQuer você levar-lhe uma carta agora mesmo?\\n\\n\\x97 Ela há de estar bem triste,\\ncoitadinha! Olhe, eu não desejo a morte de ninguém; mas, se o senhor doutor\\nalgum dia chegar a casar com Iaiá, então sim, é que há de ver o anjo que ela é!\\n\\nLembra-me que desviei o rosto e\\nbaixei os olhos ao chão. Recomendo este gesto às pessoas que não tiverem uma\\npalavra pronta para responder, ou ainda às que recearem encarar a pupila de\\noutros olhos. Em tais casos, alguns preferem recitar uma oitava dos\\nLusíadas, outros adotam o recurso de assobiar a Norma; eu\\natenho-me ao gesto indicado; é mais simples, exige menos esforço.\\n\\nTrês dias depois, estava tudo\\nexplicado. Suponho que Virgília ficou um pouco admirada, quando lhe pedi\\ndesculpas das lágrimas que derramara naquela triste ocasião. Nem me lembra se\\ninteriormente as atribuí a D. Plácida. Com efeito, podia acontecer que D.\\nPlácida chorasse, ao vê-la desapontada, e, por um fenômeno da visão, as lágrimas\\nque tinha nos próprios olhos lhe parecessem cair dos olhos de Virgília. Fosse\\ncomo fosse, tudo estava explicado, mas não perdoado, e menos ainda esquecido.\\nVirgília dizia-me uma porção de coisas duras, ameaçava-me com a separação, enfim\\nlouvava o marido. Esse sim, era um homem digno, muito superior a mim, delicado,\\num primor de cortesia e afeição; é o que ela dizia, enquanto eu, sentado, com os\\nbraços fincados nos joelhos, olhava para o chão, onde uma mosca arrastava uma\\nformiga que lhe mordia o pé. Pobre mosca! pobre formiga!\\n\\n\\x97 Mas você não diz nada, nada?\\nperguntou Virgília, parando diante de mim.\\n\\n\\x97 Que hei de dizer? Já expliquei\\ntudo; você teima em zangar-se; que hei de dizer? Sabe que me parece? Parece-me\\nque você está enfastiada, que se aborrece, que quer acabar...\\n\\n\\x97 Justamente!\\n\\nFoi dali pôr o chapéu, com a mão\\ntrêmula, raivosa... \\x97 Adeus, D. Plácida, bradou ela para dentro. Depois foi até\\nà porta, correu o fecho, ia sair; agarrei-a pela cintura. \\x97 Está bom, está bom,\\ndisse-lhe. Virgília ainda forcejou por sair. Eu retive-a, pedi-lhe que ficasse,\\nque esquecesse; ela afastou-se da porta e foi cair no canapé. Sentei-me ao pé\\ndela, disse-lhe muitas coisas meigas, outras humildes, outras graciosas. Não\\nafirmo se os nossos lábios chegaram à distância de um fio de cambraia ou ainda\\nmenos; é matéria controversa. Lembra-me, sim, que na agitação caiu um brinco de\\nVirgília, que eu inclinei-me a apanhá-lo, e que a mosca de há pouco trepou ao\\nbrinco, levando sempre a formiga no pé. Então eu, com a delicadeza nativa de um\\nhomem do nosso século, pus na palma da mão aquele casal de mortificados;\\ncalculei toda a distância que ia da minha mão ao planeta Saturno, e perguntei a\\nmim mesmo que interesse podia haver num episódio tão mofino. Se concluis daí que\\neu era um bárbaro, enganas-te, porque eu pedi um grampo a Virgília, a fim de\\nseparar os dois insetos; mas a mosca farejou a minha intenção, abriu as asas e\\nfoi-se embora. Pobre mosca! pobre formiga! E Deus viu que isto era bom, como se\\ndiz na Escritura.\\n\\nCAPÍTULO CIV / ERA\\nELE!\\n\\nRestituí o grampo a Virgília, que\\no repregou nos cabelos, e preparou-se para sair. Era tarde; tinham dado três\\nhoras. Tudo estava esquecido e perdoado. D. Plácida, que espreitava a ocasião\\nidônea para a saída, fecha subitamente a janela e exclama:\\n\\n\\x97 Virgem Nossa Senhora! aí vem o\\nmarido de Iaiá!\\n\\nO momento de terror foi curto, mas\\ncompleto. Virgília fez-se da cor das rendas do vestido, correu até a porta da\\nalcova; D. Plácida, que fechara a rótula, queria fechar também a porta de\\ndentro; eu dispus-me a esperar o Lobo Neves. Esse curto instante passou.\\nVirgília tornou a si, empurrou-me para a alcova, disse a D. Plácida que voltasse\\nà janela; a confidente obedeceu.\\n\\nEra ele. D. Plácida abriu-lhe a\\nporta com muitas exclamações de pasmo: \\x97 O senhor por aqui! honrando a casa de\\nsua velha! Entre, faça favor. Adivinhe quem está cá... Não tem que adivinhar,\\nnão veio por outra coisa... Apareça, Iaiá.\\n\\nVirgília, que estava a um canto,\\natirou-se ao marido. Eu espreitava-os pelo buraco da fechadura. O Lobo Neves\\nentrou lentamente, pálido, frio, quieto, sem explosão, sem arrebatamento, e\\ncirculou um olhar em volta da sala.\\n\\n\\x97 Que é isto? exclamou Virgília.\\nVocê por aqui?\\n\\n\\x97 Ia passando, vi D. Plácida à\\njanela, e vim cumprimentá-la.\\n\\n\\x97 Muito obrigada, acudiu esta. E\\ndigam que as velhas não valem alguma coisa... Olhai, gentes! Iaiá parece estar\\ncom ciúmes. E acariciando-a muito: \\x97 Este anjinho é que nunca se esqueceu da\\nvelha Plácida. Coitadinha! é mesmo a cara da mãe... Sente-se, senhor doutor...\\n\\n\\x97 Não me demoro.\\n\\n\\x97 Você vai para casa? disse\\nVirgília. Vamos juntos.\\n\\n\\x97 Vou.\\n\\n\\x97 Dê cá o meu chapéu, D. Plácida.\\n\\n\\x97 Está aqui.\\n\\nD. Plácida foi buscar um espelho,\\nabriu-o diante dela. Virgília punha o chapéu, atava as fitas, arranjava os\\ncabelos, falando ao marido, que não respondia nada. A nossa boa velha tagarelava\\ndemais; era um modo de disfarçar as tremuras do corpo. Virgília, dominado o\\nprimeiro instante, tornara à posse de si mesma.\\n\\n\\x97 Pronta! disse ela. Adeus, D.\\nPlácida; não se esqueça de aparecer, ouviu? A outra prometeu que sim, e\\nabriu-lhes a porta.\\n\\nCAPÍTULO CV / EQUIVALÊNCIA DAS\\nJANELAS\\n\\nD. Plácida fechou a porta e caiu\\nnuma cadeira. Eu deixei imediatamente a alcova, e dei dois passos para sair à\\nrua, com o fim de arrancar Virgília ao marido; foi o que disse, e em bem que o\\ndisse, porque D. Plácida deteve-me por um braço. Tempo houve em que cheguei a\\nsupor que não dissera aquilo senão para que ela me detivesse; mas a simples\\nreflexão basta para mostrar que, depois dos dez minutos da alcova, o gesto mais\\ngenuíno e cordial não podia ser senão esse. E isto por aquela famosa lei da\\nequivalência das janelas, que eu tive a satisfação de descobrir e formular, no\\ncapítulo LI. Era preciso arejar a consciência. A alcova foi uma janela fechada;\\neu abri outra com o gesto de sair, e respirei.\\n\\nCAPÍTULO CVI / JOGO\\nPERIGOSO\\n\\nRespirei e sentei-me. D. Plácida\\natroava a sala com exclamações e lástimas. Eu ouvia, sem lhe dizer coisa\\nnenhuma; refletia comigo se não era melhor ter fechado Virgília na alcova e\\nficado na sala; mas adverti logo que seria pior; confirmaria a suspeita,\\nchegaria o fogo à pólvora, e uma cena de sangue... Foi muito melhor assim. Mas\\ndepois? que ia acontecer em casa de Virgília? matá-la-ia o marido?\\nespancá-la-ia? encerrá-la-ia? expulsá-la-ia? Estas interrogações percorriam\\nlentamente o meu cérebro, como os pontinhos e vírgulas escuras percorrem o campo\\nvisual dos olhos enfermos ou cansados. Iam e vinham, com o seu aspecto seco e\\ntrágico, e eu não podia agarrar um deles e dizer: és tu, tu e não outro.\\n\\nDe repente vejo um vulto negro;\\nera D. Plácida, que fora dentro, enfiara a mantinha, e vinha oferecer-se-me para\\nir à casa do Lobo Neves. Ponderei que era arriscado, porque ele desconfiaria da\\nvisita tão próxima.\\n\\n\\x97 Sossegue, interrompeu ela; eu\\nsaberei arranjar as coisas. Se ele estiver em casa não entro.\\n\\nSaiu; eu fiquei a ruminar o\\nsucesso e as conseqüências possíveis. Ao cabo, parecia-me jogar um jogo\\nperigoso, e perguntava a mim mesmo se não era tempo de levantar e espairecer.\\nSentia-me tomado de uma saudade do casamento, de um desejo de canalizar a vida.\\nPor que não? Meu coração tinha ainda que explorar; não me sentia incapaz de um\\namor casto, severo e puro. Em verdade, as aventuras são a parte torrencial e\\nvertiginosa da vida, isto é, a exceção; eu estava enfarado delas; não sei até se\\nme pungia algum remorso. Mal pensei naquilo, deixei-me ir atrás da imaginação;\\nvi-me logo casado, ao pé de uma mulher adorável, diante de um baby, que\\ndormia no regaço da ama, todos nós no fundo de uma chácara sombria e verde, a\\nespiarmos através da chácara uma nesga do céu azul, extremamente azul...\\n\\nCAPÍTULO CVII /\\nBILHETE\\n\\nNão houve nada, mas ele suspeita\\nalguma coisa; está muito sério e não fala; agora saiu. Sorriu uma vez somente,\\npara Nhonhô, depois de o fitar muito tempo, carrancudo. Não me tratou mal nem\\nbem. Não sei o que vai acontecer; Deus queira que isto passe. Muita cautela, por\\nora, muita cautela.\\n\\nCAPÍTULO CVIII / QUE SE NÃO\\nENTENDE\\n\\nEis aí o drama, eis aí a ponta da\\norelha trágica de Shakespeare. Esse retalhinho de papel, garatujado em partes,\\nmachucado das mãos, era um documento de análise, que eu não farei neste\\ncapítulo, nem no outro, nem talvez em todo o resto do livro. Poderia eu tirar ao\\nleitor o gosto de notar por si mesmo a frieza, a perspicácia e o ânimo dessas\\npoucas linhas traçadas à pressa; e por trás delas a tempestade de outro cérebro,\\na raiva dissimulada, o desespero que se constrange e medita, porque tem de\\nresolver-se na lama ou no sangue, ou nas lágrimas?\\n\\nQuanto a mim, se vos disser que li\\no bilhete três ou quatro vezes, naquele dia, acreditai-o, que é verdade; se vos\\ndisser mais que o reli no dia seguinte, antes e depois do almoço, podeis crê-lo,\\né a realidade pura. Mas se vos disser a comoção que tive, duvidai um pouco da\\nasserção, e não a aceiteis sem provas. Nem então, nem ainda agora cheguei a\\ndiscernir o que experimentei. Era medo, e não era medo; era dó e não era dó; era\\nvaidade e não era vaidade; enfim, era amor sem amor, isto é, sem delírio; e tudo\\nisso dava uma combinação assaz complexa e vaga, uma coisa que não podereis\\nentender, como eu não entendi. Suponhamos que não disse nada.\\n\\nCAPÍTULO CIX / O\\nFILÓSOFO\\n\\nSabido que reli a carta, antes e\\ndepois do almoço, sabido fica que almocei, e só resta dizer que essa refeição\\nfoi das mais parcas da minha vida: um ovo, uma fatia de pão, uma xícara de chá.\\nNão me esqueceu esta circunstância mínima; no meio de tanta coisa importante\\nobliterada escapou esse almoço. A razão principal poderia ser justamente o meu\\ndesastre; mas não foi; a principal razão foi a reflexão que me fez o Quincas\\nBorba, cuja visita recebi naquele dia. Disse-me ele que a frugalidade não era\\nnecessária para entender o Humanitismo, e menos ainda praticá-lo; que esta\\nfilosofia acomodava-se facilmente com os prazeres da vida, inclusive a mesa, o\\nespetáculo e os amores; e que, ao contrário, a frugalidade podia indicar certa\\ntendência para o ascetismo, o que era a expressão acabada de tolice humana.\\n\\n\\x97 Veja São João, continuou ele;\\nmantinha-se de gafanhotos, no deserto, em vez de engordar tranqüilamente na\\ncidade, e fazer emagrecer o farisaísmo na sinagoga.\\n\\nDeus me livre de contar a história\\ndo Quincas Borba, que aliás ouvi toda naquela triste ocasião, uma história\\nlonga, complicada, mas interessante. E se não conto a história, dispenso-me\\noutrossim de descrever-lhe a figura, aliás muito diversa da que me apareceu no\\nPasseio Público. Calo-me; digo somente que se a principal característica do\\nhomem não são as feições, mas os vestuários, ele não era o Quincas Borba; era um\\ndesembargador sem beca, um general sem farda, um negociante sem deficit.\\nNotei-lhe a perfeição da sobrecasaca, a alvura da camisa, o asseio das botas. A\\nmesma voz, roufenha outrora, parecia restituída à primitiva sonoridade. Quanto à\\ngesticulação, sem que houvesse perdido a viveza de outro tempo, não tinha já a\\ndesordem, sujeitava-se a um certo método. Mas eu não quero descrevê-lo. Se\\nfalasse, por exemplo, no botão de ouro que trazia ao peito, e na qualidade do\\ncouro das botas, iniciaria uma descrição, que omito por brevidade. Contentem-se\\nde saber que as botas eram de verniz. Saibam mais que ele herdara alguns pares\\nde contos de réis de um velho tio de Barbacena.\\n\\nMeu espírito, (permitam-me aqui\\numa comparação de criança!) meu espírito era naquela ocasião uma espécie de\\npeteca. A narração do Quincas Borba dava-lhe uma palmada, ele subia; quando ia a\\ncair, o bilhete de Virgília dava-lhe outra palmada, e ele era de novo\\narremessado aos ares, descia, e o episódio do Passeio Público recebia-o com\\noutra palmada, igualmente rija e eficaz. Cuido que não nasci para situações\\ncomplexas. Esse puxar e empuxar de coisas opostas desequilibrava-me; tinha\\nvontade de embrulhar o Quincas Borba e Lobo Neves e o bilhete de Virgília na\\nmesma filosofia, e mandá-los de presente a Aristóteles. Contudo, era instrutiva\\na narração do nosso filósofo; admirava-lhe sobretudo o talento de observação com\\nque descrevia a gestação e o crescimento do vício, as lutas interiores, as\\ncapitulações vagarosas, o uso da lama.\\n\\n\\x97 Olhe, observou ele; a primeira\\nnoite que passei, na escada de São Francisco, dormi-a inteira, como se fosse a\\nmais fina pluma. Por quê? Porque fui gradualmente da cama de esteira ao catre de\\npau do quarto próprio ao corpo da guarda do corpo da guarda à rua...\\n\\nQuis expor-me finalmente a\\nfilosofia; pedi-lhe que não. \\x97 Estou muito preocupado hoje e não poderia\\natendê-lo; venha depois; estou sempre em casa. Quincas Borba sorriu de um modo\\nmalicioso; talvez soubesse da minha aventura, mas não acrescentou nada. Só me\\ndisse estas últimas palavras à porta:\\n\\n\\x97 Venha para o Humanitismo; ele é\\no grande regaço dos espíritos, o mar eterno em que mergulhei para arrancar de lá\\na verdade. Os gregos faziam-na sair de um poço. Que concepção mesquinha! Um\\npoço! Mas é por isso mesmo que nunca atinaram com ela. Gregos, subgregos,\\nantigregos, toda a longa série dos homens tem-se debruçado sobre o poço, para\\nver sair a verdade, que não está lá. Gastaram cordas e caçambas; alguns mais\\nafoitos desceram ao fundo e trouxeram um sapo. Eu fui diretamente ao mar. Venha\\npara o Humanitismo.\\n\\nCAPÍTULO CX /\\n31\\n\\nUma semana depois, Lobo Neves foi\\nnomeado presidente de província. Agarrei-me à esperança da recusa, se o decreto\\nviesse outra vez datado de 13; trouxe, porém, a data de 31, e esta simples\\ntransposição de algarismos eliminou deles a substância diabólica. Que profundas\\nque são as molas da vida!\\n\\nCAPÍTULO CXI / O\\nMURO\\n\\nNão sendo meu costume dissimular\\nou esconder nada, contarei nesta página o caso do muro. Eles estavam prestes a\\nembarcar. Entrando em casa de D. Plácida, vi um papelinho dobrado sobre a mesa;\\nera um bilhete de Virgília; dizia que me esperava à noite, na chácara, sem\\nfalta. E concluía: \\x93O muro é baixo do lado do beco\\x94.\\n\\nFiz um gesto de desagrado. A carta\\npareceu-me descomunalmente audaciosa, mal pensada e até ridícula. Não era só\\nconvidar o escândalo, era convidá-lo de parceria com a risota. Imaginei-me a\\nsaltar o muro, embora baixo e do lado do beco; e, quando ia a galgá-lo, via-me\\nagarrado por um pedestre de polícia, que me levava ao corpo da guarda. O muro é\\nbaixo! E que tinha que fosse baixo? Naturalmente Virgília não soube o que fez;\\nera possível que já estivesse arrependida. Olhei para o papel, um pedaço de\\npapel amarrotado, mas inflexível. Tive comichões de o rasgar, em trinta mil\\npedaços, e atirá-los ao vento, como o último despojo da minha aventura; mas\\nrecuei a tempo; o amor-próprio, o vexame da fuga, a idéia do medo... Não havia\\nremédio senão ir.\\n\\n\\x97 Diga-lhe que vou.\\n\\n\\x97 Aonde? perguntou D. Plácida.\\n\\n\\x97 Onde ela disse que me espera.\\n\\n\\x97 Não me disse nada.\\n\\n\\x97 Neste papel.\\n\\nD. Plácida arregalou os olhos: \\x97\\nMas esse papel, achei-o hoje de manhã, nesta sua gaveta, e pensei que...\\n\\nTive uma sensação esquisita. Reli\\no papel, mirei-o, remirei-o; era, em verdade, um antigo bilhete de Virgília,\\nrecebido no começo dos nossos amores, uma certa entrevista na chácara, que me\\nlevou efetivamente a saltar o muro, um muro baixo e discreto. Guardei o papel\\ne... Tive uma sensação esquisita.\\n\\nCAPÍTULO CXII / A\\nOPINIÃO\\n\\nMas estava escrito que esse dia\\ndevia ser o dos lances dúbios. Poucas horas depois, encontrei Lobo Neves, na Rua\\ndo Ouvidor, falamos da presidência e da política. Ele aproveitou o primeiro\\nconhecido que nos passou à ilharga, e deixou-me, depois de muitos cumprimentos.\\nLembra-me que estava retraído, mas de um retraimento que forcejava por\\ndissimular. Pareceu-me então (e peço perdão à crítica, se este meu juízo for\\ntemerário!), pareceu-me que ele tinha medo \\x97 não medo de mim, nem de si, nem do\\ncódigo, nem da consciência; tinha medo da opinião. Supus que esse tribunal\\nanônimo e invisível, em que cada membro acusa e julga, era o limite posto à\\nvontade do Lobo Neves. Talvez já não amasse a mulher; e, assim, pode ser que o\\ncoração fosse estranho à indulgência dos seus últimos atos. Cuido (e de novo\\ninsto pela boa vontade da crítica!) cuido que ele estaria pronto a separar-se da\\nmulher, como o leitor se terá separado de muitas relações pessoais; mas a\\nopinião, essa opinião que lhe arrastaria a vida por todas as ruas, que abriria\\nminucioso inquérito acerca do caso, que coligiria uma a uma todas as\\ncircunstâncias, antecedências, induções, provas, que as relataria na palestra\\ndas chácaras desocupadas, essa terrível opinião, tão curiosa das alcovas, obstou\\nà dispersão da família. Ao mesmo tempo tornou impossível o desforço, que seria a\\ndivulgação. Ele não podia mostrar-se ressentido comigo, sem igualmente buscar a\\nseparação conjugal; teve então de simular a mesma ignorância de outrora, e, por\\ndedução, iguais sentimentos.\\n\\nQue lhe custasse creio; naqueles\\ndias, principalmente, vi-o de modo que devia custar-lhe muito. Mas o tempo (e é\\noutro ponto em que eu espero a indulgência dos homens pensadores!), o tempo\\ncaleja a sensibilidade, e oblitera a memória das coisas; era de supor que os\\nanos lhe despontassem os espinhos, que a distância dos fatos apagasse os\\nrespectivos contornos, que uma sombra de dúvida retrospectiva cobrisse a nudez\\nda realidade; enfim, que a opinião se ocupasse um pouco com outras aventuras. O\\nfilho, crescendo, buscaria satisfazer as ambições do pai; seria o herdeiro de\\ntodos os seus afetos. Isso, e a atividade externa, e o prestígio público, e a\\nvelhice depois, a doença, o declínio, a morte, um responso, uma notícia\\nbiográfica, e estava fechado o livro da vida, sem nenhuma página de sangue.\\n\\nCAPÍTULO CXIII / A\\nSOLDA\\n\\nA conclusão, se há alguma no\\ncapítulo anterior, é que a opinião é uma boa solda das instituições domésticas.\\nNão é impossível que eu desenvolva este pensamento, antes de acabar o livro; mas\\ntambém não é impossível que o deixe como está. De um ou de outro modo, é uma boa\\nsolda a opinião, e tanto na ordem doméstica, como na política. Alguns\\nmetafísicos biliosos têm chegado ao extremo de a darem como simples produto da\\ngente chocha ou medíocre; mas é evidente que, ainda quando um conceito tão\\nextremado não trouxesse em si mesmo a resposta, bastava considerar os efeitos\\nsalutares da opinião, para concluir que ela é a obra superfina da flor dos\\nhomens, a saber, do maior número.\\n\\nCAPÍTULO CXIV / FIM DE UM\\nDIÁLOGO\\n\\n\\x97 Sim, é amanhã. Você vai a bordo?\\n\\n\\x97 Está doida? É impossível.\\n\\n\\x97 Então, adeus!\\n\\n\\x97 Adeus!\\n\\n\\x97 Não se esqueça de D. Plácida. Vá\\nvê-la algumas vezes. Coitada! Foi ontem despedir-se de nós; chorou muito, disse\\nque eu não a veria mais... É uma boa criatura, não é?\\n\\n\\x97 Certamente.\\n\\n\\x97 Se tivermos de escrever, ela\\nreceberá as cartas. Agora até daqui a...\\n\\n\\x97 Talvez dois anos?\\n\\n\\x97 Qual! ele diz que é só até fazer\\nas eleições.\\n\\n\\x97 Sim? então até breve. Olhe que\\nestão olhando para nós.\\n\\n\\x97 Quem?\\n\\n\\x97 Ali no sofá. Separemo-nos.\\n\\n\\x97 Custa-me muito.\\n\\n\\x97 Mas é preciso; adeus, Virgília!\\n\\n\\x97 Até breve. Adeus!\\n\\nCAPÍTULO CXV / O\\nALMOÇO\\n\\nNão a vi partir; mas à hora\\nmarcada senti alguma coisa que não era dor nem prazer, uma coisa mista, alívio e\\nsaudade, tudo misturado, em iguais doses. Não se irrite o leitor com esta\\nconfissão. Eu bem sei que, para titilar-lhe os nervos da fantasia, devia padecer\\num grande desespero, derramar algumas lágrimas, e não almoçar. Seria romanesco;\\nmas não seria biográfico. A realidade pura é que eu almocei, como nos demais\\ndias, acudindo ao coração com as lembranças da minha aventura, e ao estômago com\\nos acepipes de M. Prudhon...\\n\\n...Velhos do meu tempo, acaso vos\\nlembrais desse mestre cozinheiro do Hotel Pharoux, um sujeito que, segundo dizia\\no dono da casa, havia servido nos famosos Véry e Véfour, de Paris, e mais nos\\npalácios do Conde Molé e do Duque de la Rochefoucauld? Era insigne. Entrou no\\nRio de Janeiro com a polca... A polca, M. Prudhon, o Tivoli, o baile dos\\nestrangeiros, o Cassino, eis algumas das melhores recordações daquele tempo; mas\\nsobretudo os acepipes do mestre eram deliciosos.\\n\\nEram, e naquela manhã parece que o\\ndiabo do homem adivinhara a nossa catástrofe. Jamais o engenho e a arte lhe\\nforam tão propícios. Que requinte de temperos! que tenrura de carnes! que\\nrebuscado de formas! Comia-se com a boca, com os olhos, com o nariz. Não guardei\\na conta desse dia; sei que foi cara. Ai dor! era-me preciso enterrar\\nmagnificamente os meus amores. Eles lá iam, mar em fora, no espaço e no tempo, e\\neu ficava-me ali numa ponta de mesa, com os meus quarenta e tantos anos, tão\\nvadios e tão vazios; ficava-me para os não ver nunca mais, porque ela poderia\\ntornar e tornou, mas o eflúvio da manhã quem é que o pediu ao crepúsculo da\\ntarde?\\n\\nCAPÍTULO CXVI / FILOSOFIA DAS\\nFOLHAS VELHAS\\n\\nFiquei tão triste com o fim do\\núltimo capítulo que estava capaz de não escrever este, descansar um pouco,\\npurgar o espírito da melancolia que o empacha, e continuar depois. Mas não, não\\nquero perder tempo.\\n\\nA partida de Virgília deu-me uma\\namostra da viuvez. Nos primeiros dias meti-me em casa, a fisgar moscas, como\\nDomiciano, se não mente o Suetônio, mas a fisgá-las de um modo particular: com\\nos olhos. Fisgava-as uma a uma, no fundo de uma sala grande, estirado na rede,\\ncom um livro aberto entre as mãos. Era tudo: saudades, ambições, um pouco de\\ntédio, e muito devaneio solto. Meu tio cônego morreu nesse intervalo; item, dois\\nprimos. Não me dei por abalado: levei-os ao cemitério, como quem leva dinheiro a\\num banco. Que digo? como quem leva cartas ao correio: selei as cartas, meti-as\\nna caixinha, e deixei ao carteiro o cuidado de as entregar em mão própria. Foi\\ntambém por esse tempo que nasceu minha sobrinha Venância, filha do Cotrim.\\nMorriam uns, nasciam outros: eu continuava às moscas.\\n\\nOutras vezes agitava-me. Ia às\\ngavetas, entornava as cartas antigas, dos amigos, dos parentes, das namoradas,\\n(até as de Marcela), e abria-as todas, lia-as uma a uma, e recompunha o\\npretérito... Leitor ignaro, se não guardas as cartas da juventude, não\\nconhecerás um dia a filosofia das folhas velhas, não gostarás o prazer de\\nver-te, ao longe, na penumbra, com um chapéu de três bicos, botas de sete léguas\\ne longas barbas assírias, a bailar ao som de uma gaita anacreôntica. Guarda as\\ntuas cartas da juventude!\\n\\nOu, se te não apraz o chapéu de\\ntrês bicos, empregarei a locução de um velho marujo, familiar da casa de Cotrim;\\ndirei que, se guardares as cartas da juventude, acharás ocasião de \\x93cantar uma\\nsaudade.\\x94 Parece que os nossos marujos dão este nome às cantigas de terra,\\nentoadas no alto mar. Como expressão poética, é o que se pode exigir mais\\ntriste.\\n\\nCAPÍTULO CXVII / O\\nHUMANITISMO\\n\\nDuas forças, porém, além de uma\\nterceira, compeliam-me a tornar à vida agitada do costume: Sabina e Quincas\\nBorba. Minha irmã encaminhou a candidatura conjugal de Nhã-loló de um modo\\nverdadeiramente impetuoso. Quando dei por mim estava com a moça quase nos\\nbraços. Quanto ao Quincas Borba, expôs-me enfim o Humanitismo, sistema de\\nfilosofia destinado a arruinar todos os demais sistemas.\\n\\n\\x97 Humanitas, dizia ele, o\\nprincípio das coisas, não é outro senão o mesmo homem repartido por todos os\\nhomens. Conta três fases Humanitas: a estática, anterior a toda a\\ncriação; a expansiva, começo das coisas; a dispersiva,\\naparecimento do homem; e contará mais uma, a contrativa, absorção do\\nhomem e das coisas. A expansão, iniciando o universo, sugeriu a Humanitas\\no desejo de o gozar, e daí a dispersão, que não é mais do que a\\nmultiplicação personificada da substância original.\\n\\nComo me não aparecesse assaz clara\\nesta exposição, Quincas Borba desenvolveu-a de um modo profundo, fazendo notar\\nas grandes linhas do sistema. Explicou-me que, por um lado, o Humanitismo\\nligava-se ao Bramanismo, a saber, na distribuição dos homens pelas diferentes\\npartes do corpo de Humanitas; mas aquilo que na religião indiana tinha apenas\\numa estreita significação teológica e política, era no Humanitismo a grande lei\\ndo valor pessoal. Assim, descender do peito ou dos rins de Humanitas, isto é,\\nser um forte, não era o mesmo que descender dos cabelos ou da ponta do\\nnariz. Daí a necessidade de cultivar e temperar o músculo. Hércules não foi\\nsenão um símbolo antecipado do Humanitismo. Neste ponto Quincas Borba ponderou\\nque o paganismo poderia ter chegado à verdade, se se não houvesse amesquinhado\\ncom a parte galante dos seus mitos. Nada disso acontecerá com o Humanitismo.\\nNesta igreja nova não há aventuras fáceis, nem quedas, nem tristezas, nem\\nalegrias pueris. O amor, por exemplo, é um sacerdócio, a reprodução um ritual.\\nComo a vida é o maior benefício do universo, e não há mendigo que não prefira a\\nmiséria à morte (o que é um delicioso influxo de Humanitas), segue-se que a\\ntransmissão da vida, longe de ser uma ocasião de galanteio, é a hora suprema da\\nmissa espiritual. Porquanto, verdadeiramente há só uma desgraça: é não nascer.\\n\\n\\x97 Imagina, por exemplo, que eu não\\ntinha nascido, continuou o Quincas Borba; é positivo que não teria agora o\\nprazer de conversar contigo, comer esta batata, ir ao teatro, e para tudo dizer\\nnuma só palavra: viver. Nota que eu não faço do homem um simples veículo de\\nHumanitas; não, ele é ao mesmo tempo veículo, cocheiro e passageiro; ele é o\\npróprio Humanitas reduzido; daí a necessidade de adorar-se a si próprio. Queres\\numa prova da superioridade do meu sistema? Contempla a inveja. Não há moralista\\ngrego ou turco, cristão ou muçulmano, que não troveje contra o sentimento da\\ninveja. O acordo é universal, desde os campos da Iduméia até o alto da Tijuca.\\nOra bem; abre mão dos velhos preconceitos, esquece as retóricas rafadas, e\\nestuda a inveja, esse sentimento tão sutil e tão nobre. Sendo cada homem uma\\nredução de Humanitas, é claro que nenhum homem é fundamentalmente oposto a outro\\nhomem, quaisquer que sejam as aparências contrárias. Assim, por exemplo, o algoz\\nque executa o condenado pode excitar o vão clamor dos poetas; mas\\nsubstancialmente é Humanitas que corrige em Humanitas uma infração da lei de\\nHumanitas. O mesmo direi do indivíduo que estripa a outro; é uma manifestação da\\nforça de Humanitas. Nada obsta (e há exemplos) que ele seja igualmente\\nestripado. Se entendeste bem, facilmente compreenderás que a inveja não é senão\\numa admiração que luta, e sendo a luta a grande função do gênero humano, todos\\nos sentimentos belicosos são os mais adequados à sua felicidade. Daí vem que a\\ninveja é uma virtude.\\n\\nPara que negá-lo? eu estava\\nestupefato. A clareza da exposição, a lógica dos princípios, o rigor das\\nconseqüências, tudo isso parecia superiormente grande, e foi-me preciso\\nsuspender a conversa por alguns minutos, enquanto digeria a filosofia nova.\\nQuincas Borba mal podia encobrir a satisfação do triunfo. Tinha uma asa de\\nfrango no prato, e trincava-a com filosófica serenidade. Eu fiz-lhe ainda\\nalgumas objeções, mas tão frouxas, que ele não gastou muito tempo em\\ndestruí-las.\\n\\n\\x97 Para entender bem o meu sistema,\\nconcluiu ele, importa não esquecer nunca o princípio universal, repartido e\\nresumido em cada homem. Olha: a guerra, que parece uma calamidade, é uma\\noperação conveniente, como se disséssemos o estalar dos dedos de Humanitas; a\\nfome (e ele chupava filosoficamente a asa do frango), a fome é uma prova a que\\nHumanitas submete a própria víscera. Mas eu não quero outro documento da\\nsublimidade do meu sistema, senão este mesmo frango. Nutriu-se de milho, que foi\\nplantado por um africano, suponhamos, importado de Angola. Nasceu esse africano,\\ncresceu, foi vendido; um navio o trouxe, um navio construído de madeira cortada\\nno mato por dez ou doze homens, levado por velas, que oito ou dez homens\\nteceram, sem contar a cordoalha e outras partes do aparelho náutico. Assim, este\\nfrango, que eu almocei agora mesmo, é o resultado de uma multidão de esforços e\\nlutas, executados com o único fim de dar mate ao meu apetite.\\n\\nEntre o queijo e o café,\\ndemonstrou-me Quincas Borba que o seu sistema era a destruição da dor. A dor,\\nsegundo o Humanitismo, é uma pura ilusão. Quando a criança é ameaçada por um\\npau, antes mesmo de ter sido espancada, fecha os olhos e treme; essa\\npredisposição, é que constitui a base da ilusão humana, herdada e\\ntransmitida. Não basta certamente a adoção do sistema para acabar logo com a\\ndor, mas é indispensável; o resto é a natural evolução das coisas. Uma vez que o\\nhomem se compenetre bem de que ele é o próprio Humanitas, não tem mais do que\\nremontar o pensamento à substância original para obstar qualquer sensação\\ndolorosa. A evolução, porém, é tão profunda, que mal se lhe podem assinar alguns\\nmilhares de anos.\\n\\nQuincas Borba leu-me daí a dias a\\nsua grande obra. Eram quatro volumes manuscritos, de cem páginas cada um, com\\nletra miúda e citações latinas. O último volume compunha-se de um tratado\\npolítico, fundado no Humanitismo; era talvez a parte mais enfadonha do sistema,\\nposto que concebida com um formidável rigor de lógica. Reorganizada a sociedade\\npelo método dele, nem por isso ficavam eliminadas a guerra, a insurreição, o\\nsimples murro, a facada anônima, a miséria, a fome, as doenças; mas sendo esses\\nsupostos flagelos verdadeiros equívocos do entendimento, porque não passariam de\\nmovimentos externos da substância interior, destinados a não influir sobre o\\nhomem, senão como simples quebra da monotonia universal, claro estava que a sua\\nexistência não impediria a felicidade humana. Mas ainda quando tais flagelos (o\\nque era radicalmente falso) correspondessem no futuro à concepção acanhada de\\nantigos tempos, nem por isso ficava destruído o sistema, e por dois motivos: 1.°\\nporque sendo Humanitas a substância criadora e absoluta, cada indivíduo deveria\\nachar a maior delícia do mundo em sacrificar-se ao princípio de que descende;\\n2.° porque, ainda assim, não diminuiria o poder espiritual do homem sobre a\\nTerra, inventada unicamente para seu recreio dele, como as estrelas, as brisas,\\nas tâmaras e o ruibarbo. Pangloss, dizia-me ele ao fechar o livro, não era tão\\ntolo como o pintou Voltaire.\\n\\nCAPÍTULO CXVIII / A TERCEIRA\\nFORÇA\\n\\nA terceira força que me chamava ao\\nbulício era o gosto de luzir, e, sobretudo, a incapacidade de viver só. A\\nmultidão atraía-me, o aplauso namorava-me. Se a idéia do emplasto me tem\\naparecido nesse tempo, quem sabe? não teria morrido logo e estaria célebre. Mas\\no emplasto não veio. Veio o desejo de agitar-me em alguma coisa, com alguma\\ncoisa e por alguma coisa.\\n\\nCAPÍTULO CXIX /\\nPARÊNTESES\\n\\nQuero deixar aqui, entre\\nparêntesis, meia dúzia de máximas das muitas que escrevi por esse tempo. São\\nbocejos de enfado; podem servir de epígrafe a discursos sem assunto:\\n\\n* * *\\n\\nSuporta-se com paciência a cólica\\ndo próximo.\\n\\n* * *\\n\\nMatamos o tempo; o tempo nos\\nenterra.\\n\\n* * *\\n\\nUm cocheiro filósofo costumava\\ndizer que o gosto da carruagem seria diminuto, se todos andassem de carruagem.\\n\\n* * *\\n\\nCrê em ti; mas nem sempre duvides\\ndos outros.\\n\\n* * *\\n\\nNão se compreende que um botocudo\\nfure o beiço para enfeitá-lo com um pedaço de pau. Esta reflexão é de um\\njoalheiro.\\n\\n* * *\\n\\nNão te irrites se te pagarem mal\\num benefício: antes cair das nuvens, que de um terceiro andar.\\n\\nCAPÍTULO CXX / \\x93COMPELLE\\nINTRARE\\x94\\n\\n\\x97 Não, senhor, agora quer você\\nqueira, quer não, há de casar, disse-me Sabina. Que belo futuro! Um solteirão\\nsem filhos.\\n\\nSem filhos! A idéia de ter filhos\\ndeu-me um sobressalto; percorreu-me outra vez o fluido misterioso. Sim, cumpria\\nser pai. A vida celibata podia ter certas vantagens próprias, mas seriam tênues,\\ne compradas a troco da solidão. Sem filhos! Não; impossível. Dispus-me a aceitar\\ntudo, ainda a aliança do Damasceno. Sem filhos! Como já então depositasse grande\\nconfiança em Quincas Borba, fui ter com ele e expus-lhe os movimentos internos\\nda minha paternidade. O filósofo ouviu-me com alvoroço; declarou-me que\\nHumanitas se agitava em meu seio; animou-me ao casamento, ponderou que eram mais\\nalguns convivas que batiam à porta, etc. Compelle intrare, como dizia\\nJesus. E não me deixou sem provar que o apólogo evangélico não era mais do que\\num prenúncio do Humanitismo, erradamente interpretado pelos padres.\\n\\nCAPÍTULO CXXI / MORRO\\nABAIXO\\n\\nNo fim de três meses, ia tudo à\\nmaravilha. O fluido, Sabina, os olhos da moça, os desejos do pai, eram outros\\ntantos impulsos que me levavam ao matrimônio. A lembrança de Virgília aparecia\\nde quando em quando, à porta, e com ela um diabo negro que me metia à cara um\\nespelho, no qual eu via ao longe Virgília desfeita em lágrimas; mas outro diabo\\nvinha, cor-de-rosa, com outro espelho, em que se refletia a figura de Nhã-loló,\\nterna, luminosa, angélica.\\n\\nNão falo dos anos. Não os sentia;\\nacrescentarei até que os deitara fora, certo domingo, em que fui à missa na\\ncapela do Livramento. Como o Damasceno morava nos Cajueiros, eu acompanhava-os\\nmuitas vezes à missa. O morro estava ainda nu de habitações, salvo o velho\\npalacete do alto, onde era a capela. Pois um domingo, ao descer com Nhã-loló\\npelo braço, não sei que fenômeno se deu que fui deixando aqui dois anos, ali\\nquatro, logo adiante cinco, de maneira que, quando cheguei abaixo, estava com\\nvinte anos apenas, tão lépidos como tinham sido.\\n\\nAgora, se querem saber em que\\ncircunstância se deu o fenômeno, basta-lhes ler este capítulo até o fim.\\nVínhamos da missa, ela, o pai e eu. No meio do morro achamos um grupo de homens.\\nDamasceno, que vinha ao pé de nós, percebeu o que era e adiantou-se alvoroçado;\\nnós fomos atrás dele. E vimos isto: homens de todas as idades, tamanhos e cores,\\nuns em mangas de camisa, outros de jaqueta, outros metidos em sobrecasacas\\nesfrangalhadas; atitudes diversas, uns de cócaras, outros com as mãos apoiadas\\nnos joelhos, estes sentados em pedras, aqueles encostados ao muro, e todos com\\nos olhos fixos no centro, e as almas debruçadas das pupilas.\\n\\n\\x97 Que é? perguntou-me Nhã-loló.\\n\\nFiz-lhe sinal que se calasse; abri\\nsutilmente caminho, e todos me foram cedendo espaço, sem que positivamente\\nninguém me visse. O centro tinha-lhes atado os olhos. Era uma briga de galos. Vi\\nos dois contendores, dois galos de esporão agudo, olho de fogo e bico afiado.\\nAmbos agitavam as cristas em sangue; o peito de um e de outro estava desplumado\\ne rubro; invadia-os o cansaço. Mas lutavam ainda assim, olhos fitos nos olhos,\\nbico abaixo, bico acima, golpe deste, golpe daquele, vibrantes e raivosos.\\nDamasceno não sabia mais nada; o espetáculo eliminou para ele todo o universo.\\nEm vão lhe disse que era tempo de descer; ele não respondia, não ouvia,\\nconcentrara-se no duelo. A briga de galos era uma de suas paixões.\\n\\nFoi nessa ocasião que Nhã-loló me\\npuxou brandamente pelo braço, dizendo que nos fôssemos embora. Aceitei o\\nconselho e vim com ela por ali abaixo. Já disse que o morro era então\\ndesabitado; disse-lhes também que vínhamos da missa, e não lhes tendo dito que\\nchovia, era claro que fazia bom tempo, um sol delicioso. E forte. Tão forte que\\neu abri logo o guarda-sol, segurei-o pelo centro do cabo, e inclinei-o por modo\\nque ajuntei uma página à filosofia do Quincas Borba: Humanitas osculou\\nHumanitas... Foi assim que os anos me vieram caindo pelo morro abaixo.\\n\\nAo sopé detivemo-nos alguns\\nminutos, à espera de Damasceno; ele veio daí a pouco rodeado dos apostadores, a\\ncomentar com eles a briga. Um destes, tesoureiro das apostas, distribuía um\\nvelho maço de notas de dez tostões, que os vencedores recebiam duplamente\\nalegres. Quanto aos galos vinham sobraçados pelo respectivo dono. Um deles\\ntrazia a crista tão comida e ensangüentada, que vi logo nele o vencido; mas era\\nengano, \\x97 o vencido era o outro, que não trazia crista nenhuma. Ambos tinham o\\nbico aberto, respirando a custo, esfalfados. Os apostadores, ao contrário,\\nvinham alegres, sem embargo das fortes comoções da luta; biografavam os\\ncontendores, relembravam as proezas de ambos. Eu fui andando, vexado; Nhã-loló\\nvexadíssima.\\n\\nCAPÍTULO CXXII / UMA INTENÇÃO\\nMUITO FINA\\n\\nO que vexava a Nhã-loló era o pai.\\nA facilidade com que ele se metera com os apostadores punha em relevo antigos\\ncostumes e afinidades sociais, e Nhã-loló chegara a temer que tal sogro me\\nparecesse indigno. Era notável a diferença que ela fazia de si mesma;\\nestudava-se e estudava-me. A vida elegante e polida atraía-a, principalmente\\nporque lhe parecia o meio mais seguro de ajustar as nossas pessoas. Nhã-loló\\nobservava, imitava, adivinhava; ao mesmo tempo dava-se ao esforço de mascarar a\\ninferioridade da família. Naquele dia, porém, a manifestação do pai foi tamanha\\nque a entristeceu grandemente. Eu busquei então diverti-la do assunto,\\ndizendo-lhe muitas chanças e motes de bom-tom; vãos esforços, que não a\\nalegravam mais. Era tão profundo o abatimento, tão expressivo o desânimo, que\\ncheguei a atribuir a Nhã-loló a intenção positiva de separar, no meu espírito, a\\nsua causa da causa do pai. Este sentimento pareceu-me de grande elevação; era\\numa afinidade mais entre nós.\\n\\n\\x97 Não há remédio, disse eu comigo,\\nvou arrancar esta flor a este pântano.\\n\\nCAPÍTULO CXXIII / O VERDADEIRO\\nCOTRIM\\n\\nNão obstante os meus quarenta e\\ntantos anos, como eu amasse a harmonia da família, entendi não tratar o\\ncasamento sem primeiro falar ao Cotrim. Ele ouviu-me e respondeu-me seriamente\\nque não tinha opinião em negócio de parentes seus. Podiam supor-lhe algum\\ninteresse, se acaso louvasse as raras prendas de Nhã-loló; por isso calava-se.\\nMais: estava certo de que a sobrinha nutria por mim verdadeira paixão, mas se\\nela o consultasse, o seu conselho seria negativo. Não era levado por nenhum\\nódio; apreciava as minhas boas qualidades, \\x97 não se fartava de as elogiar, como\\nera de justiça; e pelo que respeita a Nhã-loló, não chegaria jamais a negar que\\nera noiva excelente; mas daí a aconselhar o casamento ia um abismo.\\n\\n\\x97 Lavo inteiramente as mãos,\\nconcluiu ele.\\n\\n\\x97 Mas você achava outro dia que eu\\ndevia casar quanto antes...\\n\\n\\x97 Isso é outro negócio. Acho que é\\nindispensável casar, principalmente tendo ambições políticas. Saiba que na\\npolítica o celibato é uma remora. Agora, quanto à noiva, não posso ter voto, não\\nquero, não devo, não é de minha honra. Parece-me que Sabina foi além,\\nfazendo-lhe certas confidências, segundo me disse; mas em todo caso ela não é\\ntia carnal de Nhã-loló, como eu. Olhe... mas não... não digo...\\n\\n\\x97 Diga.\\n\\n\\x97 Não; não digo nada.\\n\\nTalvez pareça excessivo o\\nescrúpulo do Cotrim, a quem não souber que ele possuía um caráter ferozmente\\nhonrado. Eu mesmo fui injusto com ele durante os anos que se seguiram ao\\ninventário de meu pai. Reconheço que era um modelo. Argüiam-no de avareza, e\\ncuide que tinham razão; mas a avareza é apenas a exageração de uma virtude e as\\nvirtudes devem ser como os orçamentos: melhor é o saldo que o deficit.\\nComo era muito seco de maneiras tinha inimigos, que chegavam a acusá-lo de\\nbárbaro. O único fato alegado neste particular era o de mandar com freqüência\\nescravos ao calabouço, donde eles desciam a escorrer sangue; mas, além de que\\nele só mandava os perversos e os fujões, ocorre que, tendo longamente\\ncontrabandeado em escravos, habituara-se de certo modo ao trato um pouco mais\\nduro que esse gênero de negócio requeria, e não se pode honestamente atribuir à\\níndole original de um homem o que é puro efeito de relações sociais. A prova de\\nque o Cotrim tinha sentimentos pios encontrava-se no seu amor aos filhos, e na\\ndor que padeceu quando lhe morreu Sara, dali a alguns meses; prova irrefutável,\\nacho eu, e não única. Era tesoureiro de uma confraria, e irmão de várias\\nirmandades, e até irmão remido de uma destas, o que não se coaduna muito com a\\nreputação da avareza; verdade é que o benefício não caíra no chão: a irmandade\\n(de que ele fora juiz) mandara-lhe tirar o retrato a óleo. Não era perfeito,\\ndecerto; tinha, por exemplo, o sestro de mandar para os jornais a notícia de um\\nou outro benefício que praticava, \\x97 sestro repreensível ou não louvável,\\nconcordo; mas ele desculpava-se dizendo que as boas ações eram contagiosas,\\nquando públicas; razão a que se não pode negar algum peso. Creio mesmo (e nisto\\nfaço o seu maior elogio) que ele não praticava, de quando em quando, esses\\nbenefícios senão com o fim de espertar a filantropia dos outros; e se tal era o\\nintuito, força é confessar que a publicidade tornava-se uma condição sine qua\\nnon. Em suma, poderia dever algumas atenções, mas não devia um real a\\nninguém.\\n\\nCAPÍTULO CXXIV / VÁ DE\\nINTERMÉDIO\\n\\nQue há entre a vida e a morte? Uma\\ncurta ponte. Não obstante, se eu não compusesse este capítulo, padeceria o\\nleitor um forte abalo, assaz danoso ao efeito do livro. Saltar de um retrato a\\num epitáfio, pode ser real e comum; o leitor, entretanto, não se refugia no\\nlivro, senão para escapar à vida. Não digo que este pensamento seja meu; digo\\nque há nele uma dose de verdade, e que, ao menos, a forma é pinturesca. E\\nrepito: não é meu.\\n\\nCAPÍTULO CXXV /\\nEPITÁFIO\\n\\n________________________\\n\\nAQUI JAZ\\n\\nD. EULÁLIA DAMASCENA DE\\nBRITO\\n\\nMORTA\\n\\nAOS DEZENOVE ANOS DE\\nIDADE\\n\\nORAI POR\\nELA!\\n\\n________________________\\n\\nCAPÍTULO CXXVI /\\nDESCONSOLAÇÃO\\n\\nO epitáfio diz tudo. Vale mais do\\nque se lhes narrasse a moléstia de Nhã-loló, a morte, o desespero da família, o\\nenterro. Ficam sabendo que morreu; acrescentarei que foi por ocasião da primeira\\nentrada da febre amarela. Não digo mais nada, a não ser que a acompanhei até o\\núltimo jazigo, e me despedi triste, mas sem lágrimas. Concluí que talvez não a\\namasse deveras.\\n\\nVejam agora a que excessos pode\\nlevar uma inadvertência; doeu-me um pouco a cegueira da epidemia que, matando à\\ndireita e à esquerda, levou também uma jovem dama, que tinha de ser minha\\nmulher; não cheguei a entender a necessidade da epidemia, menos ainda daquela\\nmorte. Creio até que esta me pareceu ainda mais absurda que todas as outras\\nmortes. Quincas Borba, porém, explicou-me que epidemias eram úteis à espécie,\\nembora desastrosas para uma certa porção de indivíduos; fez-me notar que, por\\nmais horrendo que fosse o espetáculo, havia uma vantagem de muito peso: a\\nsobrevivência do maior número. Chegou a perguntar-me se, no meio do luto geral,\\nnão sentia eu algum secreto encanto em ter escapado às garras da peste; mas esta\\npergunta era tão insensata, que ficou sem resposta.\\n\\nSe não contei a morte, não conto\\nigualmente a missa do sétimo dia. A tristeza do Damasceno era profunda; esse\\npobre homem parecia uma ruína. Quinze dias depois estive com ele; continuava\\ninconsolável, e dizia que a dor grande com que Deus o castigara fora ainda\\naumentada com a que lhe infligiram os homens. Não me disse mais nada. Três\\nsemanas depois tornou ao assunto, e então confessou-me que, no meio do desastre\\nirreparável, quisera ter a consolação da presença dos amigos. Doze pessoas\\napenas, e três quartas partes amigos do Cotrim, acompanharam à cova o cadáver de\\nsua querida filha. E ele fizera expedir oitenta convites. Ponderei-lhe que as\\nperdas eram tão gerais que bem se podia desculpar essa desatenção aparente.\\nDamasceno abanava a cabeça de um modo incrédulo e triste.\\n\\n\\x97 Qual! gemia ele,\\ndesampararam-me.\\n\\nCotrim, que estava presente:\\n\\n\\x97 Vieram os que deveras se\\ninteressam por você e por nós. Os oitenta viriam por formalidade, falariam da\\ninércia do governo, das panacéias dos boticários, do preço das casas, ou uns dos\\noutros...\\n\\nDamasceno ouviu calado, abanou\\noutra vez a cabeça, e suspirou:\\n\\n\\x97 Mas viessem!\\n\\nCAPÍTULO CXXVII /\\nFORMALIDADE\\n\\nGrande coisa é haver recebido do\\ncéu uma partícula da sabedoria, o dom de achar as relações das coisas, a\\nfaculdade de as comparar e o talento de concluir! Eu tive essa distinção\\npsíquica; eu a agradeço ainda agora do fundo do meu sepulcro.\\n\\nDe fato, o homem vulgar que\\nouvisse a última palavra do Damasceno não se lembraria dela, quando, tempos\\ndepois, houvesse de olhar para uma gravura representando seis damas turcas. Pois\\neu lembrei-me. Eram seis damas de Constantinopla, \\x97 modernas, \\x97 em trajos de\\nrua, cara tapada, não com um espesso pano que as cobrisse deveras, mas com um\\nvéu tenuíssimo, que simulava descobrir somente os olhos, e na realidade\\ndescobria a cara inteira. E eu achei graça a essa esperteza da faceirice\\nmuçulmana, que assim esconde o rosto, \\x97 e cumpre o uso, \\x97 mas não o esconde, \\x97 e\\ndivulga a beleza. Aparentemente, nada há entre as damas turcas e o Damasceno;\\nmas se tu és um espírito profundo e penetrante (e duvido muito que me negues\\nisso), compreenderás que, tanto num como noutro caso, surge aí a orelha de uma\\nrígida e meiga companheira do homem social...\\n\\nAmável Formalidade, tu és, sim, o\\nbordão da vida, o bálsamo dos corações, a medianeira entre os homens, o vínculo\\nda Terra e do Céu; tu enxugas as lágrimas de um pai, tu captas a indulgência de\\num Profeta. Se a dor adormece, e a consciência se acomoda, a quem, senão a ti,\\ndevem esse imenso benefício? A estima que passa de chapéu na cabeça não diz nada\\nà alma; mas a indiferença que corteja deixa-lhe uma deleitosa impressão. A razão\\né que, ao contrário de uma velha fórmula absurda, não é a letra que mata; a\\nletra dá vida; o espírito é que é objeto de controvérsia, de dúvida, de\\ninterpretação e conseguintemente de luta e de morte. Vive tu, amável\\nFormalidade, para sossego do Damasceno e glória de Muamede.\\n\\nCAPÍTULO CXXVIII / NA\\nCÂMARA\\n\\nE notai bem que eu vi a gravura\\nturca, dois anos depois das palavras de Damasceno, e vi-a na Câmara dos\\nDeputados, em meio de grande burburinho, enquanto um deputado discutia um\\nparecer da comissão do orçamento, sendo eu também deputado. Para quem há lido\\neste livro é escusado encarecer a minha satisfação, e para os outros é\\nigualmente inútil. Era deputado, e vi a gravura turca, recostado na minha\\ncadeira, entre um colega, que contava uma anedota, e outro, que tirava a lápis,\\nnas costas de uma sobrecarta, o perfil de orador. O orador era o Lobo Neves. A\\nonda da vida trouxe-nos à mesma praia, como duas botelhas de náufragos, ele\\ncontendo o seu ressentimento, eu devendo conter o meu remorso; e emprego esta\\nforma suspensiva, dubitativa ou condicional, para o fim de dizer que\\nefetivamente não continha nada, a não ser a ambição de ser ministro.\\n\\nCAPÍTULO CXXIX / SEM\\nREMORSOS\\n\\nNão tinha remorsos. Se possuísse\\nos aparelhos próprios, incluía neste livro uma página de química, porque havia\\nde decompor o remorso até os mais simples elementos, com o fim de saber de um\\nmodo positivo e concludente por que razão Aquiles passeia à roda de Tróia o\\ncadáver do adversário, e lady Macbeth passeia à volta da sala a sua\\nmancha de sangue. Mas eu não tenho aparelhos químicos, como não tinha remorsos;\\ntinha vontade de ser ministro de Estado. Contudo, se hei de acabar este\\ncapítulo, direi que não quisera ser Aquiles nem lady Macbeth; e que, a\\nser alguma coisa, antes Aquiles, antes passear ovante o cadáver do que a mancha;\\nouvem-se no fim as súplicas de Príamo, e ganha-se uma bonita reputação militar e\\nliterária. Eu não ouvia as súplicas de Príamo, mas o discurso do Lobo Neves, e\\nnão tinha remorsos.\\n\\nCAPÍTULO CXXX / PARA INTERCALAR\\nNO CAP. CXXIX\\n\\nA primeira vez que pude falar a\\nVirgília, depois da presidência, foi num baile em 1855. Trazia um soberbo\\nvestido de gorgorão azul, e ostentava às luzes o mesmo par de ombros de outro\\ntempo. Não era a frescura da primeira idade; ao contrário; mas ainda estava\\nformosa, de uma formosura outoniça, realçada pela noite. Lembra-me que falamos\\nmuito, sem aludir a coisa nenhuma do passado. Subentendia-se tudo. Um dito\\nremoto, vago, ou então um olhar, e mais nada. Pouco depois retirou-se; eu fui\\nvê-la descer as escadas, e não sei por que fenômeno de ventriloquismo cerebral\\n(perdoem-me os filólogos essa frase bárbara) murmurei comigo esta palavra\\nprofundamente retrospectiva:\\n\\n\\x93Magnífica!\\x94\\n\\nConvém intercalar este capítulo\\nentre a primeira oração e a segunda do capítulo CXXIX.\\n\\nCAPÍTULO CXXXI / DE UMA\\nCALÚNIA\\n\\nComo eu acabava de dizer aquilo,\\npelo processo ventríloquo-cerebral, \\x97 o que era simples opinião e não remorso, \\x97\\nsenti que alguém me punha a mão no ombro. Voltei-me; era um antigo companheiro,\\noficial de marinha, jovial, um pouco despejado de maneiras. Ele sorriu\\nmaliciosamente, e disse-me:\\n\\n\\x97 \\x93Seu\\x94 maganão! Recordações do\\npassado, hein?\\n\\n\\x97 Viva o passado!\\n\\n\\x97 Você naturalmente foi\\nreintegrado no emprego.\\n\\n\\x97 Salta, pelintra! disse eu,\\nameaçando-o com o dedo.\\n\\nConfesso que este diálogo era uma\\nindiscrição, \\x97 principalmente a última réplica. E com tanto maior prazer o\\nconfesso, quanto que as mulheres é que têm fama de indiscretas, e não quero\\nacabar o livro sem retificar essa noção do espírito humano. Em pontos de\\naventura amorosa, achei homens que sorriam, ou negavam a custo, de um modo frio,\\nmonossilábico, etc., ao passo que as parceiras não davam por si, e jurariam aos\\nSantos Evangelhos que era tudo uma calúnia. A razão desta diferença é que a\\nmulher (salva a hipótese do capítulo CI e outras) entrega-se por amor, ou seja o\\namor-paixão de Stendhal, ou o puramente físico de algumas damas romanas, por\\nexemplo, ou polinésias, lapônias, cafres, e pode ser que outras raças\\ncivilizadas; mas o homem, \\x97 falo do homem de uma sociedade culta e elegante, \\x97 o\\nhomem conjuga a sua vaidade ao outro sentimento. Além disso (e refiro-me sempre\\naos casos defesos), a mulher, quando ama outro homem, parece-lhe que mente a um\\ndever, e portanto tem de dissimular com arte maior, tem de refinar a aleivosia;\\nao passo que o homem, sentindo-se causa da infração e vencedor de outro homem,\\nfica legitimamente orgulhoso, e logo passa a outro sentimento menos ríspido e\\nmenos secreto, \\x97 essa boa fatuidade, que é a transpiração luminosa do mérito.\\n\\nMas seja ou não verdadeira a minha\\nexplicação, basta-me deixar escrito nesta página, para uso dos séculos, que a\\nindiscrição das mulheres é uma burla inventada pelos homens; em amor, pelo\\nmenos, elas são um verdadeiro sepulcro. Perdem-se muita vez por desastradas, por\\ninquietas, por não saberem resistir aos gestos, aos olhares; e é por isso que\\numa grande dama e fino espírito, a rainha de Navarra, empregou algures esta\\nmetáfora para dizer que toda a aventura amorosa vinha descobrir-se por força,\\nmais tarde ou mais cedo: \\x93Não há cachorrinho tão adestrado, que alfim lhe não\\nouçamos o latir\\x94.\\n\\nCAPÍTULO CXXXII / QUE NÃO É\\nSÉRIO\\n\\nCitando o dito da rainha de\\nNavarra, ocorre-me que entre o nosso povo, quando uma pessoa vê outra pessoa\\narrufada, costuma perguntar-lhe: \\x93Gentes, quem matou seus cachorrinhos?\\x94 como se\\ndissesse: \\x97 \\x93quem lhe levou os amores, as aventuras secretas, etc.\\x94 Mas este\\ncapítulo não é sério.\\n\\nCAPÍTULO CXXXIII / O PRINCÍPIO\\nDE HELVETIUS\\n\\nEstávamos no ponto em que o\\noficial de marinha me arrancou a confissão dos amores de Virgília, e aqui emendo\\neu o princípio de Helvetius, \\x97 ou, por outra, explico-o. O meu interesse era\\ncalar; confirmar a suspeita de uma coisa antiga fora provocar algum ódio\\nsopitado, dar origem a um escândalo, quando menos adquirir a reputação de\\nindiscreto. Era esse o interesse; e entendendo-se o princípio de Helvetius de um\\nmodo superficial, isso é o que devia ter feito. Mas eu já dei o motivo da\\nindiscrição masculina: antes daquele interesse de segurança, havia outro,\\no do desvanecimento, que é mais íntimo, mais imediato: o primeiro era\\nreflexivo, supunha um silogismo anterior; o segundo era espontâneo, instintivo,\\nvinha das entranhas do sujeito; finalmente, o primeiro tinha o efeito remoto, o\\nsegundo próximo. Conclusão: o princípio de Helvetius é verdadeiro no meu caso; \\x97\\na diferença é que não era o interesse aparente, mas o recôndito.\\n\\nCAPÍTULO CXXXIV / CINQÜENTA\\nANOS\\n\\nNão lhes disse ainda, \\x97 mas digo-o\\nagora, \\x97 que quando Virgília descia a escada, e o oficial de marinha me tocava\\nno ombro, tinha eu cinqüenta anos. Era portanto a minha vida que descia pela\\nescada abaixo, \\x97 ou a melhor parte, ao menos, uma parte cheia de prazeres, de\\nagitações, de sustos, \\x97 capeada de dissimulação e duplicidade, \\x97 mas enfim a\\nmelhor, se devemos falar a linguagem usual. Se, porém, empregarmos outra mais\\nsublime, a melhor parte foi a restante, como eu terei a honra de lhes dizer nas\\npoucas páginas deste livro.\\n\\nCinqüenta anos! Não era preciso\\nconfessá-lo. Já se vai sentindo que o meu estilo não é tão lesto como nos\\nprimeiros dias. Naquela ocasião, cessado o diálogo com o oficial de marinha, que\\nenfiou a capa e saiu, confesso que fiquei um pouco triste. Voltei à sala,\\nlembrou-me dançar uma polca, embriagar-me das luzes, das flores, dos cristais,\\ndos olhos bonitos, e do burburinho surdo e ligeiro das conversas particulares. E\\nnão me arrependo; remocei. Mas, meia hora depois, quando me retirei do baile, às\\nquatro da manhã, o que é que fui achar no fundo do carro? Os meus cinqüenta\\nanos. Lá estavam eles os teimosos, não tolhidos de frio, nem reumáticos, \\x97 mas\\ncochilando a sua fadiga, um pouco cobiçosos de cama e de repouso. Então, \\x97 e\\nvejam até que ponto pode ir a imaginação de um homem, com sono, \\x97 então\\npareceu-me ouvir de um morcego escarapitado no tejadilho: Sr. Brás Cubas, a\\nrejuvenescência estava na sala, nos cristais, nas luzes, nas sedas, \\x97 enfim, nos\\noutros.\\n\\nCAPÍTULO CXXXV /\\n\\x93OBLIVION\\x94\\n\\nE agora sinto que, se alguma dama\\ntem seguido estas páginas, fecha o livro e não lê as restantes. Para ela\\nextinguiu-se o interesse da minha vida, que era o amor. Cinqüenta anos! Não é\\nainda a invalidez, mas já não é a frescura. Venham mais dez, e eu entenderei o\\nque um inglês dizia, entenderei que \\x93coisa é não achar já quem se lembre de meus\\npais, e de que modo me há de encarar o próprio ESQUECIMENTO\\x94.\\n\\nVai em versaletes esse nome.\\nOBLIVION! Justo é que se dêem todas as honras a um personagem tão desprezado e\\ntão digno, conviva da última hora, mas certo. Sabe-o a dama que luziu na aurora\\ndo atual reinado, e mais dolorosamente a que ostentou suas graças em flor sob o\\nministério Paraná, porque esta acha-se mais perto do triunfo, e sente já que\\noutras lhe tomaram o carro. Então, se é digna de si mesma, não teima em espertar\\na lembrança morta ou expirante; não busca no olhar de hoje a mesma saudação do\\nolhar de ontem, quando eram outros os que encetavam a marcha da vida, de alma\\nalegre e pé veloz. Tempora mutantur. Compreende que este turbilhão é\\nassim mesmo, leva as folhas do mato e os farrapos do caminho, sem exceção nem\\npiedade; e se tiver um pouco de filosofia, não inveja, mas lastima as que lhe\\ntomaram o carro, porque também elas hão de ser apeadas pelo estribeiro OBLIVION.\\nEspetáculo, cujo fim é divertir o planeta Saturno, que anda muito aborrecido.\\n\\nCAPÍTULO CXXXVI /\\nINUTlLIDADE\\n\\nMas, ou muito me engano, ou acabo\\nde escrever um capítulo inútil.\\n\\nCAPÍTULO CXXXVII / A\\nBARRETINA\\n\\nE daí, não; ele resume as\\nreflexões que fiz no dia seguinte ao Quincas Borba, acrescentando que me sentia\\nacabrunhado, e mil outras coisas tristes. Mas esse filósofo, com o elevado tino\\nde que dispunha, bradou-me que eu ia escorregando na ladeira fatal da\\nmelancolia.\\n\\n\\x97 Meu caro Brás Cubas, não te\\ndeixes vencer desses vapores. Que diacho! é preciso ser homem! ser forte! lutar!\\nvencer! brilhar! influir! dominar! Cinqüenta anos é a idade da ciência e do\\ngoverno. Ânimo, Brás Cubas; não me sejas palerma. Que tens tu com essa sucessão\\nde ruína a ruína ou de flor a flor? Trata de saborear a vida; e fica sabendo que\\na pior filosofia é a do choramigas que se deita à margem do rio para o fim de\\nlastimar o curso incessante das águas. O ofício delas é não parar nunca;\\nacomoda-te com a lei, e trata de aproveitá-la.\\n\\nVê-se nas menores coisas o que\\nvale a autoridade de um grande filósofo. As palavras do Quincas Borba tiveram o\\ncondão de sacudir o torpor moral e mental em que andava. Vamos lá; façamo-nos\\ngoverno, é tempo. Eu não havia intervindo até então nos grandes debates.\\nCortejava a pasta por meio de rapapés, chás, comissões e votos; e a pasta não\\nvinha. Urgia apoderar-me da tribuna.\\n\\nComecei devagar. Três dias depois,\\ndiscutindo-se o orçamento da justiça, aproveitei o ensejo para perguntar\\nmodestamente ao ministro se não julgava útil diminuir a barretina da guarda\\nnacional. Não tinha vasto alcance o objeto da pergunta; mas ainda assim\\ndemonstrei que não era indigno das cogitações de um homem de Estado; e citei\\nFilopémen, que ordenou a substituição dos broquéis de suas tropas, que eram\\npequenos, por outros maiores, e bem assim as lanças, que eram demasiado leves;\\nfato que a história não achou que desmentisse a gravidade de suas páginas. O\\ntamanho das nossas barretinas estava pedindo um corte profundo, não só por serem\\ndeselegantes, mas também por serem anti-higiênicas. Nas paradas, ao sol, o\\nexcesso de calor produzido por elas podia ser fatal. Sendo certo que um dos\\npreceitos de Hipócrates era trazer a cabeça fresca, parecia cruel obrigar um\\ncidadão, por simples consideração de uniforme, a arriscar a saúde e a vida, e\\nconseqüentemente o futuro da família. A Câmara e o governo deviam lembrar-se que\\na guarda nacional era o anteparo da liberdade e da independência, e que o\\ncidadão, chamado a um serviço gratuito, freqüente e penoso, tinha direito a que\\nse lhe diminuísse o ônus, decretando um uniforme leve e maneiro. Acrescia que a\\nbarretina, por seu peso, abatia a cabeça dos cidadãos, e a pátria precisava de\\ncidadãos cuja fronte pudesse levantar-se altiva e serena diante do poder; e\\nconcluí com esta idéia: O chorão, que inclina os seus galhos para a terra, é\\nárvore de cemitério; a palmeira, ereta e firme, é árvore do deserto, das praças\\ne dos jardins.\\n\\nVária foi a impressão deste\\ndiscurso. Quanto à forma, ao rapto eloqüente, à parte literária e filosófica, a\\nopinião foi só uma; disseram-me todos que era completo, e que de uma barretina\\nninguém ainda conseguira tirar tantas idéias. Mas a parte política foi\\nconsiderada por muitos deplorável; alguns achavam o meu discurso um desastre\\nparlamentar; enfim, vieram dizer-me que outros me davam já em oposição, entrando\\nnesse número os oposicionistas da Câmara, que chegaram a insinuar a conveniência\\nde uma moção de desconfiança. Repeli energicamente tal interpretação, que não\\nera só errônea, mas caluniosa, à vista da notoriedade com que eu sustentava o\\ngabinete; acrescentei que a necessidade de diminuir a barretina não era tamanha\\nque não pudesse esperar alguns anos; e que, em todo caso, eu transigiria na\\nextensão do corte, contentando-me com três quartos de polegada ou menos; enfim,\\ndado mesmo que a minha idéia não fosse adotada, bastava-me tê-la iniciado no\\nparlamento.\\n\\nQuincas Borba, porém, não fez\\nrestrição alguma. Não sou homem político, disse-me ele ao jantar; não sei se\\nandaste bem ou mal; sei que fizeste um excelente discurso. E então notou as\\npartes mais salientes, as belas imagens, os argumentos fortes, com esse\\ncomedimento de louvor que tão bem fica a um grande filósofo; depois, tomou o\\nassunto à sua conta, e impugnou a barretina com tal força, com tamanha lucidez,\\nque acabou convencendo-me efetivamente do seu perigo.\\n\\nCAPÍTULO CXXXVIII / A UM\\nCRÍTICO\\n\\nMeu caro crítico,\\n\\nAlgumas páginas atrás, dizendo eu\\nque tinha cinqüenta anos, acrescentei: \\x93Já se vai sentindo que o meu estilo não\\né tão lesto como nos primeiros dias\\x94. Talvez aches esta frase incompreensível,\\nsabendo-se o meu atual estado; mas eu chamo a tua atenção para a sutileza\\ndaquele pensamento. O que eu quero dizer não é que esteja agora mais velho do\\nque quando comecei o livro. A morte não envelhece. Quero dizer, sim, que em cada\\nfase da narração da minha vida experimento a sensação correspondente. Valha-me\\nDeus! é preciso explicar tudo.\\n\\nCAPÍTULO CXXXIX / DE COMO NÃO\\nFUI MINISTRO D\\x92ESTADO\\n\\n.....................................................................................................................................................................................................................................................................................................................................................................................................................................................................................................................................................................................................................................................................................................................................................................................................................................................................................................................\\n\\nCAPÍTULO CXL / QUE EXPLICA O\\nANTERIOR\\n\\nHá coisas que melhor se dizem\\ncalando; tal é a matéria do capítulo anterior. Podem entendê-lo os ambiciosos\\nmalogrados. Se a paixão do poder é a mais forte de todas, como alguns inculcam,\\nimaginem o desespero, a dor, o abatimento do dia em que perdi a cadeira da\\nCâmara dos Deputados. Iam-se-me as esperanças todas; terminava a carreira\\npolítica. E notem que o Quincas Borba, por induções filosóficas que fez, achou\\nque a minha ambição não era a paixão verdadeira do poder, mas um capricho, um\\ndesejo de folgar. Na opinião dele, este sentimento, não sendo mais profundo que\\no outro, amofina muito mais, porque orça pelo amor que as mulheres têm às rendas\\ne toucados. Um Cromwell ou um Bonaparte, acrescentava ele, por isso mesmo que os\\nqueima a paixão do poder, lá chegam à fina força ou pela escada da direita, ou\\npela da esquerda. Não era assim o meu sentimento; este, não tendo em si a mesma\\nforça, não tem a mesma certeza do resultado; e daí a maior aflição, o maior\\ndesencanto, a maior tristeza. O meu sentimento, segundo o Humanitismo...\\n\\n\\x97 Vai para o diabo com o teu\\nHumanitismo, interrompi-o; estou farto de filosofias que me não levam a coisa\\nnenhuma.\\n\\nA dureza da interrupção,\\ntratando-se de tamanho filósofo, equivalia a um desacato; mas ele próprio\\ndesculpou a irritação com que lhe falei. Trouxeram-nos café; era uma hora da\\ntarde, estávamos na minha sala de estudo, uma bela sala, que dava para o fundo\\nda chácara, bons livros, objetos d'arte, um Voltaire entre eles, um Voltaire de\\nbronze, que nessa ocasião parecia acentuar o risinho de sarcasmo, com que me\\nolhava, o ladrão; cadeiras excelentes; fora, o sol, um grande sol, que o Quincas\\nBorba, não sei se por chalaça ou poesia, chamou um dos ministros da natureza;\\ncorria um vento fresco, o céu estava azul. De cada janela, \\x97 eram três \\x97 pendia\\numa gaiola com pássaros, que chilreavam as suas óperas rústicas. Tudo tinha a\\naparência de uma conspiração das coisas contra o homem: e, conquanto eu\\nestivesse na minha sala, olhando para a minha chácara, sentado na\\nminha cadeira, ouvindo os meus pássaros, ao pé dos meus\\nlivros, alumiado pelo meu sol, não chegava a curar-me das saudades\\ndaquela outra cadeira, que não era minha.\\n\\nCAPÍTULO CXLI / OS\\nCÃES\\n\\n\\x97 Mas, enfim,, que pretendes fazer\\nagora? perguntou-me Quincas Borba, indo pôr a xícara vazia no parapeito de uma\\ndas janelas.\\n\\n\\x97 Não sei; vou meter-me na Tijuca;\\nfugir aos homens. Estou envergonhado, aborrecido. Tantos sonhos, meu caro Borba,\\ntantos sonhos, e não sou nada.\\n\\n\\x97 Nada! interrompeu-me Quincas\\nBorba com um gesto de indignação.\\n\\nPara distrair-me, convidou-me a\\nsair; saímos para os lados do Engenho Velho. Íamos a pé, filosofando as coisas.\\nNunca me há de esquecer o benefício desse passeio. A palavra daquele grande\\nhomem era o cordial da sabedoria. Disse-me ele que eu não podia fugir ao\\ncombate; se me fechavam a tribuna, cumpria-me abrir um jornal. Chegou a usar uma\\nexpressão menos elevada, mostrando assim que a língua filosófica podia, uma ou\\noutra vez, retemperar-se no calão do povo. Funda um jornal, disse-me ele, e\\n\\x93desmancha toda esta igrejinha\\x94.\\n\\n\\x97 Magnífica idéia! Vou fundar um\\njornal, vou escachá-los, vou...\\n\\n\\x97 Lutar. Podes escachá-los ou não;\\no essencial é que lutes. Vida é luta. Vida sem luta é um mar morto no centro do\\norganismo universal.\\n\\nDaí a pouco demos com uma briga de\\ncães; fato que aos olhos de um homem vulgar não teria valor. Quincas Borba\\nfez-me parar e observar os cães. Eram dois. Notou que ao pé deles estava um\\nosso, motivo da guerra, e não deixou de chamar a minha atenção para a\\ncircunstância de que o osso não tinha carne. Um simples osso nu. Os cães\\nmordiam-se, rosnavam, com o furor nos olhos... Quincas Borba meteu a bengala\\ndebaixo do braço, e parecia em êxtase.\\n\\n\\x97 Que belo que isto é! dizia ele\\nde quando em quando.\\n\\nQuis arrancá-lo dali, mas não\\npude; ele estava arraigado ao chão, e só continuou a andar, quando a briga\\ncessou inteiramente, e um dos cães, mordido e vencido, foi levar a sua fome a\\noutra parte. Notei que ficara sinceramente alegre, posto contivesse a alegria,\\nsegundo convinha a um grande filósofo. Fez-me observar a beleza do espetáculo,\\nrelembrou o objeto da luta, concluiu que os cães tinham fome; mas a privação do\\nalimento era nada para os efeitos gerais da filosofia. Nem deixou de recordar\\nque em algumas partes do globo o espetáculo mais é grandioso: as criaturas\\nhumanas é que disputam aos cães os ossos e outros manjares menos apetecíveis;\\nluta que se complica muito, porque entra em ação a inteligência do homem, com\\ntodo o acúmulo de sagacidade que lhe deram os séculos, etc.\\n\\nCAPÍTULO CXLII / O PEDIDO\\nSECRETO\\n\\nQuanta coisa num minuete! como\\ndizia o outro. Quanta coisa numa briga de cães! Mas eu não era um discípulo\\nservil ou medroso, que deixasse de fazer uma ou outra objeção adequada. Andando,\\ndisse-lhe que tinha uma dúvida; não estava bem certo da vantagem de disputar a\\ncomida aos cães. Ele respondeu-me com excepcional brandura:\\n\\n\\x97 Disputá-la aos outros homens é\\nmais lógico, porque a condição dos contendores é a mesma, e leva o osso o que\\nfor mais forte. Mas por que não será um espetáculo grandioso disputá-lo aos\\ncães? Voluntariamente, comem-se gafanhotos, como o Precursor, ou coisa pior,\\ncomo Ezequiel; logo, o ruim é comível; resta saber se é mais digno do homem\\ndisputá-lo, por virtude de uma necessidade natural, ou preferi-lo, para obedecer\\na uma exaltação religiosa, isto é, modificável, ao passo que a fome é eterna,\\ncomo a vida e como a morte.\\n\\nEstávamos à porta de casa;\\nderam-me uma carta, dizendo que vinha de uma senhora. Entramos, e o Quincas\\nBorba, com a discrição própria de um filósofo, foi ler a lombada dos livros de\\numa estante, enquanto eu lia a carta, que era de Virgília:\\n\\n\\x93Meu bom amigo,\\n\\nD. Plácida está muito mal.\\nPeço-lhe o favor de fazer alguma coisa por ela; mora no Beco das Escadinhas;\\nveja se alcança metê-la na Misericórdia.\\n\\nSua amiga sincera,\\n\\nNão era a letra fina e correta de\\nVirgília, mas grossa e desigual; o V da assinatura não passava de um rabisco sem\\nintenção alfabética; de maneira que, se a carta aparecesse, era muito difícil\\natribuir-lhe a autoria. Virei e revirei o papel. Pobre D. Plácida! Mas eu\\ntinha-lhe deixado os cinco contos da praia de Botafogo, e não podia compreender\\nque...\\n\\n\\x97 Vais compreender, disse Quincas\\nBorba, tirando um livro da estante.\\n\\n\\x97 O quê? perguntei espantado.\\n\\n\\x97 Vais compreender que eu só te\\ndisse a verdade. Pascal é um dos meus avôs espirituais; e, conquanto a minha\\nfilosofia valha mais que a dele, não posso negar que era um grande homem. Ora,\\nque diz ele nesta página? \\x97 E, chapéu na cabeça, bengala sobraçada, apontava o\\nlugar com o dedo. \\x97 Que diz ele? Diz que o homem tem \\x93uma grande vantagem sobre\\no resto do universo: sabe que morre, ao passo que o universo ignora-o\\nabsolutamente\\x94. Vês? Logo, o homem que disputa o osso a um cão tem sobre este a\\ngrande vantagem de saber que tem fome; e é isto que torna grandiosa a luta, como\\neu dizia. \\x93Sabe que morre\\x94 é uma expressão profunda; creio todavia que é mais\\nprofunda a minha expressão: sabe que tem fome. Porquanto o fato da morte limita,\\npor assim dizer, o entendimento humano; a consciência da extinção dura um breve\\ninstante e acaba para nunca mais, ao passo que a fome tem a vantagem de voltar,\\nde prolongar o estado consciente. Parece-me (se não vai nisso alguma imodéstia)\\nque a fórmula de Pascal é inferior à minha, sem todavia deixar de ser um grande\\npensamento, e Pascal um grande homem.\\n\\nCAPÍTULO CXLIII / NÃO\\nVOU\\n\\nEnquanto ele restituía o livro à\\nestante, relia eu o bilhete. Ao jantar, vendo que eu falava pouco, mastigava sem\\nacabar de engolir, fitava o canto da sala, a ponta da mesa, um prato, uma\\ncadeira, uma mosca invisível, disse-me ele: \\x97 Tens alguma coisa; aposto que foi\\naquela carta? \\x97 Foi. Realmente, sentia-me aborrecido, incomodado com o pedido de\\nVirgília. Tinha dado a D. Plácida cinco contos de réis; duvido muito que ninguém\\nfosse mais generoso do que eu, nem tanto. Cinco contos! E que fizera deles?\\nNaturalmente botou-os fora, comeu-os em grandes festas, e agora toca para a\\nMisericórdia, e eu que a leve! Morre-se em qualquer parte. Acresce que eu não\\nsabia ou não me lembrava do tal Beco das Escadinhas; mas, pelo nome, parecia-me\\nalgum recanto estreito e escuro da cidade. Tinha de lá ir, chamar a atenção dos\\nvizinhos, bater à porta, etc. Que maçada! Não vou.\\n\\nCAPÍTULO CXLIV / UTILIDADE\\nRELATIVA\\n\\nMas a noite, que é boa\\nconselheira, ponderou que a cortesia mandava obedecer aos desejos da minha\\nantiga dama.\\n\\n\\x97 Letras vencidas, urge pagá-las,\\ndisse eu ao levantar-me.\\n\\nDepois do almoço fui à casa de D.\\nPlácida; achei um molho de ossos, envolto em molambos, estendido sobre um catre\\nvelho e nauseabundo; dei-lhe algum dinheiro. No dia seguinte fi-la transportar\\npara a Misericórdia, onde ela morreu uma semana depois. Minto: amanheceu morta;\\nsaiu da vida às escondidas, tal qual entrara. Outra vez perguntei, a mim mesmo,\\ncomo no capítulo LXXV, se era para isto que o sacristão da Sé e a doceira\\ntrouxeram Dona Plácida à luz, num momento de simpatia específica. Mas adverti\\nlogo que, se não fosse D. Plácida, talvez os meus amores com Virgília tivessem\\nsido interrompidos, ou imediatamente quebrados, em plena efervescência; tal foi,\\nportanto, a utilidade da vida de D. Plácida. Utilidade relativa, convenho; mas\\nque diacho há absoluto nesse mundo?\\n\\nCAPÍTULO CXLV / SIMPLES\\nREPETIÇÃO\\n\\nQuanto aos cinco contos, não vale\\na pena dizer que um canteiro da vizinhança fingiu-se enamorado de D. Plácida,\\nlogrou espertar-lhe os sentidos, ou a vaidade, e casou com ela; no fim de alguns\\nmeses inventou um negócio, vendeu as apólices e fugiu com o dinheiro. Não vale a\\npena. É o caso dos cães do Quincas Borba. Simples repetição de um capítulo.\\n\\nCAPÍTULO CXLVI / O\\nPROGRAMA\\n\\nUrgia fundar o jornal. Redigi o\\nprograma, que era uma aplicação política do Humanitismo; somente, como o Quincas\\nBorba não houvesse ainda publicado o livro (que aperfeiçoava de ano em ano),\\nassentamos de lhe não fazer nenhuma referência. Quincas Borba exigiu apenas uma\\ndeclaração, autógrafa e reservada, de que alguns princípios novos aplicados à\\npolítica eram tirados do livro dele, ainda inédito.\\n\\nEra a fina flor dos programas;\\nprometia curar a sociedade, destruir os abusos, defender os sãos princípios de\\nliberdade e conservação; fazia um apelo ao comércio e à lavoura; citava Guizot e\\nLedru-Rollin, e acabava com esta ameaça, que o Quincas Borba achou mesquinha e\\nlocal: \\x93A nova doutrina que professamos há de inevitavelmente derrubar o atual\\nministério\\x94. Confesso que, nas circunstâncias políticas da ocasião, o programa\\npareceu-me uma obra-prima. A ameaça do fim, que o Quincas Borba achou mesquinha,\\ndemonstrei-lhe que era saturada do mais puro Humanitismo, e ele mesmo o\\nconfessou depois. Porquanto, o Humanitismo não excluía nada; as guerras de\\nNapoleão e uma contenda de cabras eram, segundo a nossa doutrina, a mesma\\nsublimidade, com a diferença que os soldados de Napoleão sabiam que morriam,\\ncoisa que aparentemente não acontece às cabras. Ora, eu não fazia mais do que\\naplicar às circunstâncias a nossa fórmula filosófica: Humanitas queria\\nsubstituir Humanitas para consolação de Humanitas.\\n\\n\\x97 Tu és o meu discípulo amado, o\\nmeu califa, bradou Quincas Borba, com uma nota de ternura, que até então lhe não\\nouvira. Posso dizer como o grande Muamede: nem que venham agora contra mim o sol\\ne a lua, não recuarei das minhas idéias. Crê, meu caro Brás Cubas, que esta é a\\nverdade eterna, anterior aos mundos, posterior aos séculos.\\n\\nCAPÍTULO CXLVII / O\\nDESATINO\\n\\nMandei logo para a imprensa uma\\nnotícia discreta, dizendo que provavelmente começaria a publicação de um jornal\\noposicionista, daí a algumas semanas, redigido pelo Dr. Brás Cubas. Quincas\\nBorba, a quem li a notícia, pegou da pena, e acrescentou ao meu nome, com uma\\nfraternidade verdadeiramente humanística, esta frase: \\x93um dos mais gloriosos\\nmembros da passada Câmara\\x94.\\n\\nNo dia seguinte entra-me em casa o\\nCotrim. Vinha um pouco transtornado, mas dissimulava, afetando sossego e até\\nalegria. Vira a notícia do jornal, e achou que devia, como amigo e parente,\\ndissuadir-me de semelhante idéia. Era um erro, um erro fatal. Mostrou que eu ia\\ncolocar-me numa situação difícil, e de certa maneira trancar as portas do\\nparlamento. O ministério, não só lhe parecia excelente, o que aliás podia não\\nser a minha opinião, mas com certeza viveria muito; e que podia eu ganhar com\\nindispô-lo contra mim? Sabia que alguns dos ministros me eram afeiçoados; não\\nera impossível uma vaga, e... Interrompi-o nesse ponto, para lhe dizer que\\nmeditara muito o passo que ia dar, e não podia recuar uma linha. Cheguei a\\npropor-lhe a leitura do programa, mas ele recusou energicamente, dizendo que não\\nqueria ter a mínima parte no meu desatino.\\n\\n\\x97 É um verdadeiro desatino,\\nrepetiu ele; pense ainda alguns dias, e verá que é um desatino.\\n\\nA mesma coisa disse Sabina, à\\nnoite, no teatro. Deixou a filha no camorote, com o Cotrim, e trouxe-me ao\\ncorredor.\\n\\n\\x97 Mano Brás, que é que você vai\\nfazer? perguntou-me aflita. Que idéia é essa de provocar o governo, sem\\nnecessidade, quando podia...\\n\\nExpliquei-lhe que não me convinha\\nmendigar uma cadeira no parlamento; que a minha idéia era derrubar o ministério,\\npor não me parecer adequado à situação \\x97 e a certa fórmula filosófica; afiancei\\nque empregaria sempre uma linguagem cortês, embora enérgica. A violência não era\\nespeciaria do meu paladar. Sabina bateu com o leque na ponta dos dedos, abanou a\\ncabeça, e tornou ao assunto com um ar de súplica e ameaça, alternadamente; eu\\ndisse-lhe que não, que não, e que não. Desenganada, lançou-me em rosto preferi\\nos conselhos de pessoas estranhas e invejosas aos dela e do marido. \\x97 Pois siga\\no que lhe parecer, concluiu; nós cumprimos a nossa obrigação. \\x97 Deu-me as costas\\ne voltou ao camarote.\\n\\nCAPÍTULO CXLVIII / O PROBLEMA\\nINSOLÚVEL\\n\\nPubliquei o jornal. Vinte e quatro\\nhoras depois, aparecia em outros uma declaração do Cotrim, dizendo, em\\nsubstância, que \\x93posto não militasse em nenhum dos partidos em que se dividia a\\npátria, achava conveniente deixar bem claro que não tinha influência nem parte\\ndireta ou indireta na folha de seu cunhado, o Dr. Brás Cubas, cujas idéias e\\nprocedimento político inteiramente reprovava. O atual ministério (como aliás\\nqualquer outro composto de iguais capacidades) parecia-lhe destinado a promover\\na felicidade pública\\x94.\\n\\nNão podia acabar de crer nos meus\\nolhos. Esfreguei-os uma e duas vezes, e reli a declaração inoportuna, insólita e\\nenigmática. Se ele nada tinha com os partidos, que lhe importava um incidente\\ntão vulgar como a publicação de uma folha? Nem todos os cidadãos que acham bom\\nou mau um ministério fazem declarações tais pela imprensa, nem são obrigados a\\nfazê-las. Realmente, era um mistério a intrusão do Cotrim neste negócio, não\\nmenos que a sua agressão pessoal. Nossas relações até então tinham sido lhanas e\\nbenévolas; não me lembrava nenhum dissentimento, nenhuma sombra, nada, depois da\\nreconciliação. Ao contrário, as recordações eram de verdadeiros obséquios;\\nassim, por exemplo, sendo eu deputado, pude obter-lhe uns fornecimentos para o\\narsenal de marinha, fornecimentos que ele continuava a fazer com a maior\\npontualidade, e dos quais me dizia algumas semanas antes, que no fim de mais\\ntrês anos, podiam dar-lhe uns duzentos contos. Pois a lembrança de tamanho\\nobséquio não teve força para obstar que ele viesse a público enxovalhar o\\ncunhado? Devia ser muito poderoso e motivo da declaração, que o fazia cometer ao\\nmesmo tempo um destempero e uma ingratidão; confesso que era um problema\\ninsolúvel...\\n\\nCAPÍTULO CXLIX / TEORIA DO\\nBENEFÍCIO\\n\\n... Tão insolúvel que o Quincas\\nBorba não pôde dar com ele, apesar de estudá-lo longamente e com boa vontade. \\x97\\nOra adeus! concluiu; nem todos os problemas valem cinco minutos de atenção.\\n\\nQuanto à censura de ingratidão,\\nQuincas Borba rejeitou-a inteiramente, não como improvável, mas como absurda,\\npor não obedecer às conclusões de uma boa filosofia humanística.\\n\\n\\x97 Não me podes negar um fato,\\ndisse ele; é que o prazer do beneficiador é sempre maior que o do beneficiado.\\nQue é o benefício? é um ato que faz cessar certa privação do beneficiado. Uma\\nvez produzido o efeito essencial, isto é, uma vez cessada a privação, torna o\\norganismo ao estado anterior, ao estado indiferente. Supõe que tens apertado em\\ndemasia o cós das calças; para fazer cessar o incômodo, desabotoas o cós,\\nrespiras, saboreias um instante de gozo, o organismo torna à indiferença, e não\\nte lembras dos teus dedos que praticaram o ato. Não havendo nada que perdure, é\\nnatural que a memória se esvaeça, porque ela não é uma planta aérea, precisa de\\nchão. A esperança de outros favores, é certo, conserva sempre no beneficiado a\\nlembrança do primeiro; mas este fato, aliás um dos mais sublimes que a filosofia\\npode achar em seu caminho, explica-se pela memória da privação, ou, usando de\\noutra fórmula, pela privação continuada na memória, que repercute a dor passada\\ne aconselha a precaução do remédio oportuno. Não digo que, ainda sem esta\\ncircunstância, não aconteça, algumas vezes, persistir a memória do obséquio,\\nacompanhada de certa afeição mais ou menos intensa; mas são verdadeiras\\naberrações, sem nenhum valor aos olhos de um filósofo.\\n\\n\\x97 Mas, repliquei eu, se nenhuma\\nrazão há para que perdure a memória do obséquio no obsequiado, menos há de haver\\nem relação ao obsequiador. Quisera que me explicasses este ponto.\\n\\n\\x97 Não se explica o que é de sua\\nnatureza evidente, retorquiu o Quincas Borba; mas eu direi alguma coisa mais. A\\npersistência do benefício na memória de quem o exerce explica-se pela natureza\\nmesma do benefício e seus efeitos. Primeiramente há o sentimento de uma boa\\nação, e dedutivamente a consciência de que somos capazes de boas ações; em\\nsegundo lugar, recebe-se uma convicção de superioridade sobre outra criatura,\\nsuperioridade no estado e nos meios; e esta é uma das coisas mais legitimamente\\nagradáveis, segundo as melhores opiniões, ao organismo humano. Erasmo, que no\\nseu Elogio da Sandice escreveu algumas coisas boas, chamou a atenção para\\na complacência com que dois burros se coçam um ao outro. Estou longe de rejeitar\\nessa observação de Erasmo; mas direi o que ele não disse, a saber que se um dos\\nburros coçar melhor o outro, esse há de ter nos olhos algum indício especial de\\nsatisfação. Por que é que uma mulher bonita olha muitas vezes para o espelho,\\nsenão porque se acha bonita, e porque isso lhe dá certa superioridade sobre uma\\nmultidão de outras mulheres menos bonitas ou absolutamente feias? A consciência\\né a mesma coisa; remira-se a miúdo, quando se acha bela. Nem o remorso é outra\\ncoisa mais do que o trejeito de uma consciência que se vê hedionda. Não esqueças\\nque, sendo tudo uma simples irradiação de Humanitas, o benefício e seus efeitos\\nsão fenômenos perfeitamente admiráveis.\\n\\nCAPÍTULO CL / ROTAÇÃO E\\nTRANSLAÇÃO\\n\\nHá em cada empresa, afeição ou\\nidade um ciclo inteiro da vida humana. O primeiro número do meu jornal encheu-me\\na alma de uma vasta aurora, coroou-me de verduras, restituiu-me a lepidez da\\nmocidade. Seis meses depois batia a hora da velhice, e daí a duas semanas a da\\nmorte, que foi clandestina, como a de D. Plácida. No dia em que o jornal\\namanheceu morto, respirei como um homem que vem de longo caminho. De modo que,\\nse eu disser que a vida humana nutre de si mesma outras vidas, mais ou menos\\nefêmeras, como o corpo alimenta os seus parasitas, creio não dizer uma coisa\\ninteiramente absurda. Mas, para não arriscar essa figura menos nítida e\\nadequada, prefiro uma imagem astronômica: o homem executa à roda do grande\\nmistério um movimento duplo de rotação e translação; tem os seus dias, desiguais\\ncomo os de Júpiter, e deles compõe o seu ano mais ou menos longo.\\n\\nNo momento em que eu terminava o\\nmeu movimento de rotação, concluía Lobo Neves o seu movimento de translação.\\nMorria com o pé na escada ministerial. Correu ao menos durante algumas semanas,\\nque ele ia ser ministro; e pois que o boato me encheu de muita irritação e\\ninveja, não é impossível que a notícia da morte me deixasse alguma\\ntranqüilidade, alívio, e um ou dois minutos de prazer. Prazer é muito, mas é\\nverdade; juro aos séculos que é a pura verdade.\\n\\nFui ao enterro. Na sala mortuária\\nachei Virgília, ao pé do féretro, a soluçar. Quando levantou a cabeça, vi que\\nchorava deveras. Ao sair o enterro, abraçou-se ao caixão, aflita; vieram tirá-la\\ne levá-la para dentro. Digo-vos que as lágrimas eram verdadeiras. Eu fui ao\\ncemitério; e, para dizer tudo, não tinha muita vontade de falar; levava uma\\npedra na garganta ou na consciência. No cemitério, principalmente quando deixei\\ncair a pá de cal sobre o caixão, no fundo da cova, o baque surdo da cal deu-me\\num estremecimento passageiro, é certo, mas desagradável; e depois a tarde tinha\\no peso e a cor do chumbo; o cemitério, as roupas pretas...\\n\\nCAPÍTULO CLI / FILOSOFIA DOS\\nEPITÁFIOS\\n\\nSaí, afastando-me dos grupos, e\\nfingindo ler os epitáfios. E, aliás, gosto dos epitáfios; eles são, entre a\\ngente civilizada, uma expressão daquele pio e secreto egoísmo que induz o homem\\na arrancar à morte um farrapo ao menos da sombra que passou. Daí vem, talvez, a\\ntristeza inconsolável dos que sabem os seus mortos na vala comum; parece-lhes\\nque a podridão anônima os alcança a eles mesmos.\\n\\nCAPÍTULO CLII / A MOEDA DE\\nVESPASIANO\\n\\nTinham ido todos; só o meu carro\\nesperava pelo dono. Acendi um charuto; afastei-me do cemitério. Não podia\\nsacudir dos olhos a cerimônia do enterro, nem dos ouvidos os soluços de\\nVirgília. Os soluços, principalmente, tinham o som vago e misterioso de um\\nproblema. Virgília traíra o marido, com sinceridade, e agora chorava-o com\\nsinceridade. Eis uma combinação difícil que não pude fazer em todo o trajeto; em\\ncasa, porém, apeando-me do carro, suspeitei que a combinação era possível, e até\\nfácil. Meiga Natura! A taxa da dor é como a moeda de Vespasiano; não cheira à\\norigem, e tanto se colhe do mal como do bem. A moral repreenderá, porventura, a\\nminha cúmplice; é o que te não importa, implacável amiga, uma vez que lhe\\nrecebeste pontualmente as lágrimas. Meiga, três vezes Meiga Natura!\\n\\nCAPÍTULO CLIII / O\\nALIENISTA\\n\\nComeço a ficar patético e prefiro\\ndormir. Dormi, sonhei que era nababo, e acordei com a idéia de ser nababo. Eu\\ngostava, às vezes, de imaginar esses contrastes de região, estado e credo.\\nAlguns dias antes tinha pensado na hipótese de uma revolução social, religiosa e\\npolítica, que transferisse o arcebispo de Cantuária a simples coletor de\\nPetrópolis, e fiz longos cálculos para saber se o coletor eliminaria o\\narcebispo, ou se o arcebispo rejeitaria o coletor, ou que porção de arcebispo\\npode jazer num coletor, ou que soma de coletor pode combinar com um arcebispo,\\netc. Questões insolúveis, aparentemente, mas na realidade perfeitamente\\nsolúveis, desde que se atenda que pode haver num arcebispo dois arcebispos, \\x97 o\\nda bula e o outro. Está dito, vou ser nababo.\\n\\nEra um simples gracejo; disse-o,\\ntodavia, ao Quincas Borba, que olhou para mim com certa cautela e pena, levando\\na sua bondade a comunicar-me que eu estava doido. Ri-me a princípio; mas a nobre\\nconvicção do filósofo incutiu-me certo medo. A única objeção contra a palavra do\\nQuincas Borba é que não me sentia doido, mas não tendo geralmente os doidos\\noutro conceito de si mesmos, tal objeção ficava sem valor. E vede se há algum\\nfundamento na crença popular de que os filósofos são homens alheios às coisas\\nmínimas. No dia seguinte, mandou-me o Quincas Borba um alienista. Conhecia-o,\\nfiquei aterrado. Ele, porém, houve-se com a maior delicadeza e habilidade,\\ndespedindo-se tão alegremente que me animou a perguntar-lhe se deveras me não\\nachava doido.\\n\\n\\x97 Não, disse ele sorrindo; raros\\nhomens terão tanto juízo como o senhor.\\n\\n\\x97 Então o Quincas Borba\\nenganou-se?\\n\\n\\x97 Redondamente. E depois: \\x97 Ao\\ncontrário, se é amigo dele... peço-lhe que o distraia... que...\\n\\n\\x97 Justos céus! Parece-lhe?... Um\\nhomem de tamanho espírito, um filósofo!\\n\\n\\x97 Não importa, a loucura entra em\\ntodas as casas.\\n\\nImaginem a minha aflição. O\\nalienista, vendo o efeito de suas palavras, reconheceu que eu era amigo do\\nQuincas Borba, e tratou de diminuir a gravidade da advertência. Observou que\\npodia não ser nada, e acrescentou até que um grãozinho de sandice, longe de\\nfazer mal, dava certo pico à vida. Como eu rejeitasse com horror esta opinião, o\\nalienista sorriu e disse-me uma coisa tão extraordinária, tão extraordinária,\\nque não merece menos de um capítulo.\\n\\nCAPÍTULO CLIV / OS NAVIOS DO\\nPIREU\\n\\n\\x97 Há de lembrar-se, disse-me o\\nalienista, daquele famoso maníaco ateniense, que supunha que todos os navios\\nentrados no Pireu eram de sua propriedade. Não passava de um pobretão, que\\ntalvez não tivesse, para dormir, a cuba de Diógenes; mas a posse imaginária dos\\nnavios valia por todas as dracmas da Hélade. Ora bem, há em todos nós um maníaco\\nde Atenas; e quem jurar que não possuiu alguma vez, mentalmente, dois ou três\\npatachos, pelo menos, pode crer que jura falso.\\n\\n\\x97 Também o senhor? perguntei-lhe.\\n\\n\\x97 Também eu.\\n\\n\\x97 Também eu?\\n\\n\\x97 Também o senhor; e o seu criado,\\nnão menos, se é seu criado esse homem que ali está sacudindo os tapetes à\\njanela.\\n\\nDe fato, era um dos meus criados\\nque batia os tapetes, enquanto nós falávamos no jardim, ao lado. O alienista\\nnotou então que ele escancarara as janelas todas deste longo tempo, que alçara\\nas cortinas, que devassara o mais possível a sala, ricamente alfaiada, para que\\na vissem de fora, e concluiu: \\x97 Este seu criado tem a mania do ateniense: crê\\nque os navios são dele; uma hora de ilusão que lhe dá a maior felicidade da\\nTerra.\\n\\nCAPÍTULO CLV / REFLEXÃO\\nCORDIAL\\n\\n\\x97 Se o alienista tem razão, disse\\neu comigo, não haverá muito que lastimar o Quincas Borba; é uma questão de mais\\nou de menos. Contudo, é justo cuidar dele, e evitar que lhe entrem no cérebro\\nmaníacos de outras paragens.\\n\\nCAPÍTULO CLVI / ORGULHO DA\\nSERVILIDADE\\n\\nQuincas Borba divergiu do\\nalienista em relação ao meu criado. \\x97 Pode-se, por imagem, disse ele, atribuir\\nao teu criado a mania do ateniense; mas imagens não são idéias nem observações\\ntomadas à natureza. O que o teu criado tem é um sentimento nobre e perfeitamente\\nregido pelas leis do Humanitismo: é o orgulho da servilidade. A intenção dele é\\nmostrar que não é criado de qualquer. \\x97 Depois chamou a minha atenção\\npara os cocheiros de casa grande, mais empertigados que o amo, para os criados\\nde hotel, cuja solicitude obedece às variações sociais da freguesia, etc. E\\nconcluiu que era tudo a expressão daquele sentimento delicado e nobre, \\x97 prova\\ncabal de que muitas vezes o homem, ainda a engraxar botas, é sublime.\\n\\nCAPÍTULO CLVII / FASE\\nBRILHANTE\\n\\n\\x97 Sublime és tu, bradei eu,\\nlançando-lhe os braços ao pescoço.\\n\\nCom efeito, era impossível crer\\nque um homem tão profundo chegasse à demência; foi o que lhe disse após o meu\\nabraço, denunciando-lhe a suspeita do alienista. Não posso descrever a impressão\\nque lhe fez a denúncia; lembra-me que ele estremeceu e ficou muito pálido.\\n\\nFoi por esse tempo que eu me\\nreconciliei outra vez com o Cotrim, sem chegar a saber a causa do dissentimento.\\nReconciliação oportuna, porque a solidão pesava-me, e a vida era para mim a pior\\ndas fadigas, que é a fadiga sem trabalho. Pouco depois fui convidado por ele a\\nfiliar-me numa Ordem Terceira; o que eu não fiz sem consultar o Quincas Borba:\\n\\n\\x97 Vai, se queres, disse-me este,\\nmas temporariamente. Eu trato de anexar à minha filosofia uma parte dogmática e\\nlitúrgica. O Humanitismo há de ser também uma religião, a do futuro, a única\\nverdadeira. O cristianismo é bom para as mulheres e os mendigos, e as outras\\nreligiões não valem mais do que essa: orçam todas pela mesma vulgaridade ou\\nfraqueza. O paraíso cristão é um digno êmulo do paraíso muçulmano; e quanto ao\\nnirvana de Buda não passa de uma concepção de paralíticos. Verás o que é a\\nreligião humanística. A absorção final, a fase contrativa, é a\\nreconstituição da substância, não o seu aniquilamento, etc. Vai aonde te chamam;\\nnão esqueças, porém, que és o meu califa.\\n\\nE vede agora a minha modéstia;\\nfiliei-me na Ordem Terceira de ***, exerci ali alguns cargos, foi essa a fase\\nmais brilhante da minha vida. Não obstante, calo-me, não digo nada, não conto os\\nmeus serviços, o que fiz aos pobres e aos enfermos, nem as recompensas que\\nrecebi, nada, não digo absolutamente nada.\\n\\nTalvez a economia social pudesse\\nganhar alguma coisa, se eu mostrasse como todo e qualquer prêmio estranho vale\\npouco ao lado do prêmio subjetivo e imediato; mas seria romper o silêncio que\\njurei guardar neste ponto. Demais, os fenômenos da consciência são de difícil\\nanálise; por outro lado, se contasse um, teria de contar todos os que a ele se\\nprendessem, e acabava fazendo um capítulo de psicologia. Afirmo somente que foi\\na fase mais brilhante da minha vida. Os quadros eram tristes; tinham a monotonia\\nda desgraça, que é tão aborrecida como a do gozo, e talvez pior. Mas a alegria\\nque se dá à alma dos doentes e dos pobres, é recompensa de algum valor; e não me\\ndigam que é negativa, por só recebê-la o obsequiado. Não; eu recebia-a de um\\nmodo reflexo, e ainda assim grande, tão grande que me dava excelente idéia de\\nmim mesmo.\\n\\nCAPÍTULO CLVIII / DOIS\\nENCONTROS\\n\\nNo fim de alguns anos, três ou\\nquatro, estava enfarado do ofício, e deixei-o, não sem um donativo importante,\\nque me deu direito ao retrato na sacristia. Não acabarei, porém, o capítulo sem\\ndizer que vi morrer no hospital da Ordem, adivinhem quem?... a linda Marcela; e\\nvi-a morrer no mesmo dia em que, visitando um cortiço, para distribuir esmolas,\\nachei... Agora é que não são capazes de adivinhar... achei a flor da moita,\\nEugênia, a filha de D. Eusébia e do Vilaça, tão coxa como a deixara, e ainda\\nmais triste.\\n\\nEsta, ao reconhecer-me, ficou\\npálida, e baixou os olhos; mas foi obra de um instante. Ergueu logo a cabeça, e\\nfitou-me com muita dignidade. Compreendi que não receberia esmolas da minha\\nalgibeira, e estendi-lhe a mão, como faria à esposa de um capitalista.\\nCortejou-me e fechou-se no cubículo. Nunca mais a vi; não soube nada da vida\\ndela, nem se a mãe era morta, nem que desastre a trouxera a tamanha miséria. Sei\\nque continuava coxa e triste. Foi com esta impressão profunda que cheguei ao\\nhospital, onde Marcela entrara na véspera, e onde a vi expirar meia hora depois,\\nfeia, magra, decrépita...\\n\\nCAPÍTULO CLIX /\\nSEMIDEMÊNCIA\\n\\nCompreendi que estava velho, e\\nprecisava de uma força; mas o Quincas Borba partira seis meses antes para Minas\\nGerais, e levou consigo a melhor das filosofias. Voltou quatro meses depois, e\\nentrou-me em casa, certa manhã, quase no estado em que eu o vira no Passeio\\nPúblico. A diferença é que o olhar era outro. Vinha demente. Contou-me que, para\\no fim de aperfeiçoar o Humanitismo, queimara o manuscrito todo e ia recomeçá-lo.\\nA parte dogmática ficava completa, embora não escrita; era a verdadeira religião\\ndo futuro.\\n\\n\\x97 Juras por Humanitas?\\nperguntou-me.\\n\\n\\x97 Sabes que sim.\\n\\nA voz mal podia sair-me do peito;\\ne aliás não tinha descoberto toda a cruel verdade. Quincas Borba não só estava\\nlouco, mas sabia que estava louco, e esse resto de consciência, como uma frouxa\\nlamparina no meio das trevas, complicava muito o horror da situação. Sabia-o, e\\nnão se irritava contra o mal; ao contrário, dizia-me que era ainda uma prova de\\nHumanitas, que assim brincava consigo mesmo. Recitava-me longos capítulos do\\nlivro, e antífonas, e litanias espirituais; chegou até a reproduzir uma dança\\nsacra que inventara para as cerimônias do Humanitismo. A graça lúgubre com que\\nele levantava e sacudia as pernas era singularmente fantástica. Outras vezes\\namuava-se a um canto, com os olhos fitos no ar, uns olhos em que, de longe em\\nlonge, fulgurava um raio persistente da razão, triste como uma lágrima...\\n\\nMorreu pouco tempo depois, em\\nminha casa, jurando e repetindo sempre que a dor era uma ilusão, e que Pangloss,\\no caluniado Pangloss, não era tão tolo como o supôs Voltaire.\\n\\nCAPÍTULO CLX / DAS\\nNEGATIVAS\\n\\nEntre a morte do Quincas Borba e a\\nminha, mediaram os sucessos narrados na primeira parte do livro. O principal\\ndeles foi a invenção do emplasto Brás Cubas, que morreu comigo,\\npor causa da moléstia que apanhei. Divino emplasto, tu me darias o primeiro\\nlugar entre os homens, acima da ciência e da riqueza, porque eras a genuína e\\ndireta inspiração do Céu. O caso determinou o contrário; e aí vos ficais\\neternamente hipocondríacos.\\n\\nEste último capítulo é todo de\\nnegativas. Não alcancei a celebridade do emplasto, não fui ministro, não fui\\ncalifa, não conheci o casamento. Verdade é que, ao lado dessas faltas, coube-me\\na boa fortuna de não comprar o pão com o suor do meu rosto. Mais; não padeci a\\nmorte de D. Plácida, nem a semidemência do Quincas Borba. Somadas umas coisas e\\noutras, qualquer pessoa imaginará que não houve míngua nem sobra, e\\nconseguintemente que saí quite com a vida. E imaginará mal; porque ao chegar a\\neste outro lado do mistério, achei-me com um pequeno saldo, que é a derradeira\\nnegativa deste capítulo de negativas: \\x97 Não tive filhos, não transmiti a nenhuma\\ncriatura o legado da nossa miséria.\\n\\nFIM\\n\""
            ],
            "application/vnd.google.colaboratory.intrinsic+json": {
              "type": "string"
            }
          },
          "metadata": {},
          "execution_count": 20
        }
      ]
    },
    {
      "cell_type": "code",
      "metadata": {
        "id": "Zc0BigkdOAsc",
        "colab": {
          "base_uri": "https://localhost:8080/",
          "height": 35
        },
        "outputId": "641e326e-fb23-40df-bec2-d3ac1dfac118"
      },
      "source": [
        "# Você pode selecionar uma parte específica do texto\n",
        "texto[9:40]"
      ],
      "execution_count": 21,
      "outputs": [
        {
          "output_type": "execute_result",
          "data": {
            "text/plain": [
              "'Memórias Póstumas de Brás Cubas'"
            ],
            "application/vnd.google.colaboratory.intrinsic+json": {
              "type": "string"
            }
          },
          "metadata": {},
          "execution_count": 21
        }
      ]
    },
    {
      "cell_type": "markdown",
      "metadata": {
        "id": "0O55tiq-ILnS"
      },
      "source": [
        "### **Part-of-speech Tagging (POS-Tagging)**\n",
        "<p align='justify'>Esta também pode ser considerada uma das operações básicas de PLN, que tem por objetivo definir o valor morfológico de cada palavra no texto (e.g., substantivo, adjetivo, verbo, artigo, advérbio).</p>\n",
        "\n",
        "<p align='justify'>O objetivo da morfologia é estudar a estrutura interna e a variabilidade das palavras em uma língua, como conjugações verbais, plurais, nominalização, etc.</p>\n",
        "\n",
        "<p align='justify'>Ao contrário dos processos mostrados até agora, este depende do treinamento de um algoritmo supervisionado de <i>Machine Learning</i>, treinado a partir de <b>corpus anotado com as informações morfológicas de cada palavra</b>.  \n",
        "\n",
        "> ><p align='justify'> <b>DEFINIÇÃO</b>: Um corpus anotado é uma coleção de documentos etiquetada por humanos para identificar determinado valor morfológico, sintático ou semântico do texto.</p>\n",
        "\n",
        "No caso a seguir, vamos trabalhando com um corpus anotado com informações morfológicas de palavras."
      ]
    },
    {
      "cell_type": "markdown",
      "metadata": {
        "id": "sCSAGlkeZ86i"
      },
      "source": [
        "#### Principais dificuldades\n",
        "As principais dificuldades na realização deste processo são:\n",
        "\n",
        "\n",
        "* <p align='justify'><b>Ambiguidade</b>: uma mesma palavra pode ter papéis diferentes de acordo com o contexto (e.g., \"Ele deu um parecer\" - \"O verbo parecer\")</b>\n",
        "* <p align='justify'><b>Palavras fora do vocabulário</b>: Quando o corpus não contém alguma palavra, fica difícil para o POS-Tagger \"adivinhar\" o valor morfológico da palavra. Isso é especialmente comum quando se utiliza um POS-Tagger treinado em domínio em textos de algum domínio específico, por exemplo, utilizar um POS-Tagger treinado em textos jornalísticos para marcação de um texto de prontuários de pacientes.</p>\n",
        "\n"
      ]
    },
    {
      "cell_type": "markdown",
      "metadata": {
        "id": "D_DY-3lWWgfH"
      },
      "source": [
        "#### Corpus anotado MacMorpho\n",
        "<p align='justify'>É um corpus de notícias em português, com mais de um milhão de palavras de textos jornalísticos da Folha de São Paulo. Todo o corpus foi taggeado/etiquetado com os valores morfológicos para cada palavra.</p>"
      ]
    },
    {
      "cell_type": "code",
      "metadata": {
        "id": "18wUsDLvIL3c",
        "colab": {
          "base_uri": "https://localhost:8080/"
        },
        "outputId": "fe8f72c2-80e9-4621-a1c6-ca8cfe831565"
      },
      "source": [
        "from nltk.corpus import mac_morpho\n",
        "#nltk.download('mac_morpho')\n",
        "\n",
        "# Palavras no corpus\n",
        "mac_morpho.words()"
      ],
      "execution_count": 22,
      "outputs": [
        {
          "output_type": "execute_result",
          "data": {
            "text/plain": [
              "['Jersei', 'atinge', 'média', 'de', 'Cr$', '1,4', ...]"
            ]
          },
          "metadata": {},
          "execution_count": 22
        }
      ]
    },
    {
      "cell_type": "code",
      "metadata": {
        "id": "gm_4r8q2XkB7",
        "colab": {
          "base_uri": "https://localhost:8080/"
        },
        "outputId": "9c572ec0-6866-49ea-bbea-5c9d1d79f197"
      },
      "source": [
        "# Sentenças\n",
        "mac_morpho.sents()"
      ],
      "execution_count": 23,
      "outputs": [
        {
          "output_type": "execute_result",
          "data": {
            "text/plain": [
              "[['Jersei', 'atinge', 'média', 'de', 'Cr$', '1,4', 'milhão', 'em', 'a', 'venda', 'de', 'a', 'Pinhal', 'em', 'São', 'Paulo'], ['Programe', 'sua', 'viagem', 'a', 'a', 'Exposição', 'Nacional', 'do', 'Zebu', ',', 'que', 'começa', 'dia', '25'], ...]"
            ]
          },
          "metadata": {},
          "execution_count": 23
        }
      ]
    },
    {
      "cell_type": "code",
      "metadata": {
        "id": "9TJ2zBFXXq96",
        "colab": {
          "base_uri": "https://localhost:8080/"
        },
        "outputId": "c7343cc7-eb18-416c-8ca3-7de1d034e796"
      },
      "source": [
        "# A palavras e suas tags\n",
        "mac_morpho.tagged_words()"
      ],
      "execution_count": 24,
      "outputs": [
        {
          "output_type": "execute_result",
          "data": {
            "text/plain": [
              "[('Jersei', 'N'), ('atinge', 'V'), ('média', 'N'), ...]"
            ]
          },
          "metadata": {},
          "execution_count": 24
        }
      ]
    },
    {
      "cell_type": "code",
      "metadata": {
        "id": "Wn7G-kP0XwHn",
        "colab": {
          "base_uri": "https://localhost:8080/"
        },
        "outputId": "8f813352-2832-4fb5-b63e-ce2426fdd5d2"
      },
      "source": [
        "mac_morpho.tagged_sents()"
      ],
      "execution_count": 25,
      "outputs": [
        {
          "output_type": "execute_result",
          "data": {
            "text/plain": [
              "[[('Jersei', 'N'), ('atinge', 'V'), ('média', 'N'), ('de', 'PREP'), ('Cr$', 'CUR'), ('1,4', 'NUM'), ('milhão', 'N'), ('em', 'PREP|+'), ('a', 'ART'), ('venda', 'N'), ('de', 'PREP|+'), ('a', 'ART'), ('Pinhal', 'NPROP'), ('em', 'PREP'), ('São', 'NPROP'), ('Paulo', 'NPROP')], [('Programe', 'V'), ('sua', 'PROADJ'), ('viagem', 'N'), ('a', 'PREP|+'), ('a', 'ART'), ('Exposição', 'NPROP'), ('Nacional', 'NPROP'), ('do', 'NPROP'), ('Zebu', 'NPROP'), (',', ','), ('que', 'PRO-KS-REL'), ('começa', 'V'), ('dia', 'N'), ('25', 'N|AP')], ...]"
            ]
          },
          "metadata": {},
          "execution_count": 25
        }
      ]
    },
    {
      "cell_type": "code",
      "metadata": {
        "id": "2mdHF15uZwp9",
        "colab": {
          "base_uri": "https://localhost:8080/"
        },
        "outputId": "e5ddcef1-cb7f-4977-e43f-5774a3823432"
      },
      "source": [
        "# Vamos contar a quantidade de tokens\n",
        "total_tokens = len(mac_morpho.words())\n",
        "\n",
        "# Exibindo o resultado com divisão das casas de milhar\n",
        "print(\"Quantidade de tokens:\", \"{:,}\".format(total_tokens))"
      ],
      "execution_count": 33,
      "outputs": [
        {
          "output_type": "stream",
          "name": "stdout",
          "text": [
            "Quantidade de tokens: 1,170,095\n"
          ]
        }
      ]
    },
    {
      "cell_type": "code",
      "metadata": {
        "id": "r39gtsyrZ-XQ",
        "colab": {
          "base_uri": "https://localhost:8080/"
        },
        "outputId": "6dad9397-929c-479b-c83d-2c9b80fd3143"
      },
      "source": [
        "# Palavras únicas\n",
        "total_uniques = len(nltk.FreqDist(mac_morpho.words()))\n",
        "\n",
        "# Exibindo o resultado com divisão das casas de milhar\n",
        "print(\"Quantidade de palavras únicas:\", \"{:,}\".format(total_uniques))"
      ],
      "execution_count": 34,
      "outputs": [
        {
          "output_type": "stream",
          "name": "stdout",
          "text": [
            "Quantidade de palavras únicas: 67,696\n"
          ]
        }
      ]
    },
    {
      "cell_type": "code",
      "metadata": {
        "id": "Gy1weS3SaJj4",
        "colab": {
          "base_uri": "https://localhost:8080/",
          "height": 35
        },
        "outputId": "6c1fe155-01e5-4382-fefd-b19420cbfa0e"
      },
      "source": [
        "# Palavra mais frequente\n",
        "nltk.FreqDist(mac_morpho.words()).max()"
      ],
      "execution_count": 28,
      "outputs": [
        {
          "output_type": "execute_result",
          "data": {
            "text/plain": [
              "'de'"
            ],
            "application/vnd.google.colaboratory.intrinsic+json": {
              "type": "string"
            }
          },
          "metadata": {},
          "execution_count": 28
        }
      ]
    },
    {
      "cell_type": "markdown",
      "metadata": {
        "id": "QDKnuncYbq-R"
      },
      "source": [
        "#### Treinamento do POS-Tagging do NLTK\n",
        "Podemos utilizar um corpus anotado morfologicamente para treinar o POS-Tagger do NLTK"
      ]
    },
    {
      "cell_type": "code",
      "metadata": {
        "id": "Q6WgfUo6b2K2"
      },
      "source": [
        "from nltk.corpus import mac_morpho\n",
        "\n",
        "#Obtém as sentenças taggeadas\n",
        "tagged_sents = mac_morpho.tagged_sents()\n",
        "\n",
        "# Divide em duas partes: uma maior para TREINAMENTO e outra menor para TESTE\n",
        "train_tsents = tagged_sents[100:] # Todas as sentenças após as 100 primeiras\n",
        "test_tsents = tagged_sents[:100] # Pega todas as sentenças até a centésima"
      ],
      "execution_count": 29,
      "outputs": []
    },
    {
      "cell_type": "code",
      "metadata": {
        "id": "NfzgWtFngQRn",
        "colab": {
          "base_uri": "https://localhost:8080/"
        },
        "outputId": "c82d2b95-ee23-4979-a2c1-ea66702f6529"
      },
      "source": [
        "from nltk import DefaultTagger\n",
        "\n",
        "# Define um tagger padrão, que sempre etiquetará a palavra com \"N\" = \"NOUM\" = \"SUBSTANTIVO\", visto que é a tag que mais ocorre\n",
        "tagger0 = DefaultTagger(\"N\")\n",
        "# Avalia a acurácia do POS-Tagger ao etiquetar as sentenças de TESTE\n",
        "tagger0.accuracy(test_tsents)\n",
        "\n",
        "# Função evaluate() foi substituída por accuracy() devido à mensagem de erro:\n",
        "# <ipython-input-35-d73aa04ab757>:6: DeprecationWarning:\n",
        "# Function evaluate() has been deprecated.  Use accuracy(gold) instead."
      ],
      "execution_count": 36,
      "outputs": [
        {
          "output_type": "execute_result",
          "data": {
            "text/plain": [
              "0.2327433628318584"
            ]
          },
          "metadata": {},
          "execution_count": 36
        }
      ]
    },
    {
      "cell_type": "code",
      "metadata": {
        "id": "zFy7GBJU5ifC",
        "colab": {
          "base_uri": "https://localhost:8080/"
        },
        "outputId": "de8897bc-2e43-482a-a8f6-88dc1a45a09d"
      },
      "source": [
        "from nltk import UnigramTagger\n",
        "\n",
        "# Define um tagger Unigram (falaremos mais sobre isso depois).\n",
        "# Este tagger aprende ao ver as sentenças etiquetadas na base de TREINAMENTO.\n",
        "# Além disso, utiliza o DefaultTagger, caso não saiba o que marcar.\n",
        "tagger1 = UnigramTagger(train_tsents, backoff=tagger0)\n",
        "tagger1.accuracy(test_tsents)"
      ],
      "execution_count": 37,
      "outputs": [
        {
          "output_type": "execute_result",
          "data": {
            "text/plain": [
              "0.8690265486725663"
            ]
          },
          "metadata": {},
          "execution_count": 37
        }
      ]
    },
    {
      "cell_type": "code",
      "metadata": {
        "id": "PIRgxC_I6F6R",
        "colab": {
          "base_uri": "https://localhost:8080/"
        },
        "outputId": "bcc2ae56-1f58-4a1e-d030-dbb2ede42a14"
      },
      "source": [
        "from nltk import BigramTagger\n",
        "\n",
        "# Define um tagger Bigram (falaremos mais sobre isso depois)\n",
        "tagger2 = BigramTagger(train_tsents, backoff=tagger1)\n",
        "tagger2.accuracy(test_tsents)"
      ],
      "execution_count": 39,
      "outputs": [
        {
          "output_type": "execute_result",
          "data": {
            "text/plain": [
              "0.8761061946902655"
            ]
          },
          "metadata": {},
          "execution_count": 39
        }
      ]
    },
    {
      "cell_type": "code",
      "metadata": {
        "id": "wTOQt2pf6aYm",
        "colab": {
          "base_uri": "https://localhost:8080/"
        },
        "outputId": "1989f15b-4677-4059-923a-058d62fd42be"
      },
      "source": [
        "# Existe ainda mais um POS-Tagger no NLTK, o TnT\n",
        "from nltk.tag import tnt\n",
        "tnt_pos_tagger = tnt.TnT()\n",
        "tnt_pos_tagger.train(train_tsents)\n",
        "tnt_pos_tagger.accuracy(test_tsents)"
      ],
      "execution_count": 40,
      "outputs": [
        {
          "output_type": "execute_result",
          "data": {
            "text/plain": [
              "0.945575221238938"
            ]
          },
          "metadata": {},
          "execution_count": 40
        }
      ]
    },
    {
      "cell_type": "code",
      "metadata": {
        "id": "In89ayykGOzx",
        "colab": {
          "base_uri": "https://localhost:8080/"
        },
        "outputId": "292e9128-c055-4558-b6d2-81be23941a39"
      },
      "source": [
        "# Se deseja apenas realizar o POS-Tagging e não avaliar\n",
        "tagger2.tag(tokenize.word_tokenize(texto, language='portuguese'))"
      ],
      "execution_count": 41,
      "outputs": [
        {
          "output_type": "execute_result",
          "data": {
            "text/plain": [
              "[('Romance', 'N'),\n",
              " (',', ','),\n",
              " ('Memórias', 'NPROP'),\n",
              " ('Póstumas', 'N'),\n",
              " ('de', 'PREP'),\n",
              " ('Brás', 'NPROP'),\n",
              " ('Cubas', 'NPROP'),\n",
              " (',', ','),\n",
              " ('1880', 'N'),\n",
              " ('Memórias', 'N'),\n",
              " ('Póstumas', 'N'),\n",
              " ('de', 'PREP'),\n",
              " ('Brás', 'NPROP'),\n",
              " ('Cubas', 'NPROP'),\n",
              " ('Texto-fonte', 'N'),\n",
              " (':', ':'),\n",
              " ('Obra', 'N'),\n",
              " ('Completa', 'NPROP'),\n",
              " (',', ','),\n",
              " ('Machado', 'NPROP'),\n",
              " ('de', 'NPROP'),\n",
              " ('Assis', 'NPROP'),\n",
              " (',', ','),\n",
              " ('Rio', 'NPROP'),\n",
              " ('de', 'NPROP'),\n",
              " ('Janeiro', 'NPROP'),\n",
              " (':', ':'),\n",
              " ('Editora', 'NPROP'),\n",
              " ('Nova', 'NPROP'),\n",
              " ('Aguilar', 'NPROP'),\n",
              " (',', ','),\n",
              " ('1994', 'N'),\n",
              " ('.', '.'),\n",
              " ('Publicado', 'PCP'),\n",
              " ('originalmente', 'ADV'),\n",
              " ('em', 'PREP|+'),\n",
              " ('folhetins', 'N'),\n",
              " (',', ','),\n",
              " ('a', 'ART'),\n",
              " ('partir', 'PREP|+'),\n",
              " ('de', 'PREP|+'),\n",
              " ('março', 'N'),\n",
              " ('de', 'PREP'),\n",
              " ('1880', 'N'),\n",
              " (',', ','),\n",
              " ('na', 'KS'),\n",
              " ('Revista', 'NPROP'),\n",
              " ('Brasileira', 'NPROP'),\n",
              " ('.', 'NPROP'),\n",
              " ('Ao', 'NPROP'),\n",
              " ('verme', 'N'),\n",
              " ('que', 'PRO-KS-REL'),\n",
              " ('primeiro', 'ADJ'),\n",
              " ('roeu', 'N'),\n",
              " ('as', 'ART'),\n",
              " ('frias', 'ADJ'),\n",
              " ('carnes', 'N'),\n",
              " ('do', 'KS'),\n",
              " ('meu', 'PROADJ'),\n",
              " ('cadáver', 'N'),\n",
              " ('dedico', 'V'),\n",
              " ('como', 'PREP'),\n",
              " ('saudosa', 'N'),\n",
              " ('lembrança', 'N'),\n",
              " ('estas', 'PROADJ'),\n",
              " ('Memórias', 'NPROP'),\n",
              " ('Póstumas', 'N'),\n",
              " ('Prólogo', 'NPROP'),\n",
              " ('da', 'NPROP'),\n",
              " ('terceira', 'ADJ'),\n",
              " ('edição', 'N'),\n",
              " ('A', 'ART'),\n",
              " ('primeira', 'ADJ'),\n",
              " ('edição', 'N'),\n",
              " ('destas', 'N'),\n",
              " ('Memórias', 'N'),\n",
              " ('Póstumas', 'N'),\n",
              " ('de', 'PREP'),\n",
              " ('Brás', 'NPROP'),\n",
              " ('Cubas', 'NPROP'),\n",
              " ('foi', 'V'),\n",
              " ('feita', 'PCP'),\n",
              " ('aos', 'ADV'),\n",
              " ('pedaços', 'N'),\n",
              " ('na', 'ADV'),\n",
              " ('Revista', 'NPROP'),\n",
              " ('Brasileira', 'NPROP'),\n",
              " (',', ','),\n",
              " ('pelos', 'N'),\n",
              " ('anos', 'N'),\n",
              " ('de', 'PREP'),\n",
              " ('1880', 'N'),\n",
              " ('.', '.'),\n",
              " ('Postas', 'N'),\n",
              " ('mais', 'ADV'),\n",
              " ('tarde', 'ADV'),\n",
              " ('em', 'PREP|+'),\n",
              " ('livro', 'N'),\n",
              " (',', ','),\n",
              " ('corrigi', 'N'),\n",
              " ('o', 'ART'),\n",
              " ('texto', 'N'),\n",
              " ('em', 'PREP|+'),\n",
              " ('vários', 'PROADJ'),\n",
              " ('lugares', 'N'),\n",
              " ('.', '.'),\n",
              " ('Agora', 'ADV'),\n",
              " ('que', 'KS'),\n",
              " ('tive', 'V'),\n",
              " ('de', 'PREP'),\n",
              " ('o', 'ART'),\n",
              " ('rever', 'V'),\n",
              " ('para', 'PREP'),\n",
              " ('a', 'ART'),\n",
              " ('terceira', 'ADJ'),\n",
              " ('edição', 'N'),\n",
              " (',', ','),\n",
              " ('emendei', 'N'),\n",
              " ('ainda', 'ADV'),\n",
              " ('alguma', 'PROADJ'),\n",
              " ('coisa', 'N'),\n",
              " ('e', 'KC'),\n",
              " ('suprimi', 'N'),\n",
              " ('duas', 'NUM'),\n",
              " ('ou', 'KC'),\n",
              " ('três', 'NUM'),\n",
              " ('dúzias', 'N'),\n",
              " ('de', 'PREP'),\n",
              " ('linhas', 'N'),\n",
              " ('.', '.'),\n",
              " ('Assim', 'ADV'),\n",
              " ('composta', 'PCP'),\n",
              " (',', ','),\n",
              " ('sai', 'V'),\n",
              " ('novamente', 'ADV'),\n",
              " ('à', 'ADV'),\n",
              " ('luz', 'N'),\n",
              " ('esta', 'PROADJ'),\n",
              " ('obra', 'N'),\n",
              " ('que', 'PRO-KS-REL'),\n",
              " ('alguma', 'PROADJ'),\n",
              " ('benevolência', 'N'),\n",
              " ('parece', 'VAUX'),\n",
              " ('ter', 'V'),\n",
              " ('encontrado', 'PCP'),\n",
              " ('no', 'PREP|+'),\n",
              " ('público', 'N'),\n",
              " ('.', '.'),\n",
              " ('Capistrano', 'N'),\n",
              " ('de', 'PREP'),\n",
              " ('Abreu', 'NPROP'),\n",
              " (',', ','),\n",
              " ('noticiando', 'N'),\n",
              " ('a', 'PREP|+'),\n",
              " ('publicação', 'N'),\n",
              " ('do', 'KS'),\n",
              " ('livro', 'N'),\n",
              " (',', ','),\n",
              " ('perguntava', 'V'),\n",
              " (':', ':'),\n",
              " ('\\x93As', 'N'),\n",
              " ('Memórias', 'N'),\n",
              " ('Póstumas', 'N'),\n",
              " ('de', 'PREP'),\n",
              " ('Brás', 'NPROP'),\n",
              " ('Cubas', 'NPROP'),\n",
              " ('são', 'V'),\n",
              " ('um', 'ART'),\n",
              " ('romance', 'N'),\n",
              " ('?', '?'),\n",
              " ('\\x94', 'N'),\n",
              " ('Macedo', 'NPROP'),\n",
              " ('Soares', 'NPROP'),\n",
              " (',', ','),\n",
              " ('em', 'PREP|+'),\n",
              " ('carta', 'N'),\n",
              " ('que', 'PRO-KS-REL'),\n",
              " ('me', 'PROPESS'),\n",
              " ('escreveu', 'V'),\n",
              " ('por', 'PREP'),\n",
              " ('esse', 'PROADJ'),\n",
              " ('tempo', 'N'),\n",
              " (',', ','),\n",
              " ('recordava', 'V'),\n",
              " ('amigamente', 'N'),\n",
              " ('as', 'ART'),\n",
              " ('Viagens', 'NPROP'),\n",
              " ('na', 'NPROP'),\n",
              " ('minha', 'PROADJ'),\n",
              " ('terra', 'N'),\n",
              " ('.', '.'),\n",
              " ('Ao', 'PREP'),\n",
              " ('primeiro', 'ADJ'),\n",
              " ('respondia', 'V'),\n",
              " ('já', 'ADV'),\n",
              " ('o', 'ART'),\n",
              " ('defunto', 'N'),\n",
              " ('Brás', 'NPROP'),\n",
              " ('Cubas', 'NPROP'),\n",
              " ('(', '('),\n",
              " ('como', 'PREP'),\n",
              " ('o', 'ART'),\n",
              " ('leitor', 'N'),\n",
              " ('viu', 'V'),\n",
              " ('e', 'KC'),\n",
              " ('verá', 'V'),\n",
              " ('no', 'PREP|+'),\n",
              " ('prólogo', 'N'),\n",
              " ('dele', 'N'),\n",
              " ('que', 'PRO-KS-REL'),\n",
              " ('vai', 'VAUX'),\n",
              " ('adiante', 'ADV'),\n",
              " (')', ')'),\n",
              " ('que', 'PRO-KS-REL'),\n",
              " ('sim', 'ADV'),\n",
              " ('e', 'KC'),\n",
              " ('que', 'KS'),\n",
              " ('não', 'ADV'),\n",
              " (',', ','),\n",
              " ('que', 'PRO-KS-REL'),\n",
              " ('era', 'V'),\n",
              " ('romance', 'N'),\n",
              " ('para', 'PREP'),\n",
              " ('uns', 'ART'),\n",
              " ('e', 'KC'),\n",
              " ('não', 'ADV'),\n",
              " ('o', 'ART'),\n",
              " ('era', 'N'),\n",
              " ('para', 'PREP'),\n",
              " ('outros', 'PROADJ'),\n",
              " ('.', '.'),\n",
              " ('Quanto', 'PREP|+'),\n",
              " ('ao', 'PREP'),\n",
              " ('segundo', 'ADJ'),\n",
              " (',', ','),\n",
              " ('assim', 'ADV'),\n",
              " ('se', 'PROPESS'),\n",
              " ('explicou', 'V'),\n",
              " ('o', 'ART'),\n",
              " ('finado', 'N'),\n",
              " (':', ':'),\n",
              " ('\\x93Trata-se', 'N'),\n",
              " ('de', 'PREP'),\n",
              " ('uma', 'ART'),\n",
              " ('obra', 'N'),\n",
              " ('difusa', 'ADJ'),\n",
              " (',', ','),\n",
              " ('na', 'KS'),\n",
              " ('qual', 'KS'),\n",
              " ('eu', 'PROPESS'),\n",
              " (',', ','),\n",
              " ('Brás', 'NPROP'),\n",
              " ('Cubas', 'NPROP'),\n",
              " (',', ','),\n",
              " ('se', 'KS'),\n",
              " ('adotei', 'V'),\n",
              " ('a', 'ART'),\n",
              " ('forma', 'N'),\n",
              " ('livre', 'ADJ'),\n",
              " ('de', 'PREP|+'),\n",
              " ('um', 'ART'),\n",
              " ('Sterne', 'NPROP'),\n",
              " ('ou', 'KC'),\n",
              " ('de', 'PREP|+'),\n",
              " ('um', 'ART'),\n",
              " ('Xavier', 'NPROP'),\n",
              " ('de', 'NPROP'),\n",
              " ('Maistre', 'NPROP'),\n",
              " (',', ','),\n",
              " ('não', 'ADV'),\n",
              " ('sei', 'V'),\n",
              " ('se', 'KS'),\n",
              " ('lhe', 'PROPESS'),\n",
              " ('meti', 'V'),\n",
              " ('algumas', 'PROADJ'),\n",
              " ('rabugens', 'N'),\n",
              " ('de', 'PREP'),\n",
              " ('pessimismo.\\x94', 'N'),\n",
              " ('Toda', 'PROADJ'),\n",
              " ('essa', 'PROADJ'),\n",
              " ('gente', 'N'),\n",
              " ('viajou', 'V'),\n",
              " (':', ':'),\n",
              " ('Xavier', 'NPROP'),\n",
              " ('de', 'NPROP'),\n",
              " ('Maistre', 'NPROP'),\n",
              " ('à', 'NPROP'),\n",
              " ('roda', 'N'),\n",
              " ('do', 'KS'),\n",
              " ('quarto', 'N'),\n",
              " (',', ','),\n",
              " ('Garret', 'N'),\n",
              " ('na', 'ADV'),\n",
              " ('terra', 'N'),\n",
              " ('dele', 'N'),\n",
              " (',', ','),\n",
              " ('Sterne', 'NPROP'),\n",
              " ('na', 'NPROP'),\n",
              " ('terra', 'N'),\n",
              " ('dos', 'N'),\n",
              " ('outros', 'PROADJ'),\n",
              " ('.', '.'),\n",
              " ('De', 'PREP|+'),\n",
              " ('Brás', 'NPROP'),\n",
              " ('Cubas', 'NPROP'),\n",
              " ('se', 'PROPESS'),\n",
              " ('pode', 'VAUX'),\n",
              " ('dizer', 'V'),\n",
              " ('que', 'KS'),\n",
              " ('viajou', 'V'),\n",
              " ('à', 'ADV'),\n",
              " ('roda', 'N'),\n",
              " ('da', 'N'),\n",
              " ('vida', 'N'),\n",
              " ('.', '.'),\n",
              " ('O', 'ART'),\n",
              " ('que', 'PRO-KS-REL'),\n",
              " ('faz', 'V'),\n",
              " ('do', 'KS'),\n",
              " ('meu', 'PROADJ'),\n",
              " ('Brás', 'NPROP'),\n",
              " ('Cubas', 'NPROP'),\n",
              " ('um', 'ART'),\n",
              " ('autor', 'N'),\n",
              " ('particular', 'ADJ'),\n",
              " ('é', 'V'),\n",
              " ('o', 'ART'),\n",
              " ('que', 'PRO-KS-REL'),\n",
              " ('ele', 'PROPESS'),\n",
              " ('chama', 'V'),\n",
              " ('\\x93rabugens', 'N'),\n",
              " ('de', 'PREP'),\n",
              " ('pessimismo\\x94', 'N'),\n",
              " ('.', '.'),\n",
              " ('Há', 'V'),\n",
              " ('na', 'PREP|+'),\n",
              " ('alma', 'N'),\n",
              " ('deste', 'N'),\n",
              " ('livro', 'N'),\n",
              " (',', ','),\n",
              " ('por', 'PREP'),\n",
              " ('mais', 'PREP'),\n",
              " ('risonho', 'N'),\n",
              " ('que', 'PRO-KS-REL'),\n",
              " ('pareça', 'V'),\n",
              " (',', ','),\n",
              " ('um', 'ART'),\n",
              " ('sentimento', 'N'),\n",
              " ('amargo', 'ADJ'),\n",
              " ('e', 'KC'),\n",
              " ('áspero', 'ADJ'),\n",
              " (',', ','),\n",
              " ('que', 'PRO-KS-REL'),\n",
              " ('está', 'V'),\n",
              " ('longe', 'ADV'),\n",
              " ('de', 'PREP|+'),\n",
              " ('vir', 'V'),\n",
              " ('de', 'PREP'),\n",
              " ('seus', 'PROADJ'),\n",
              " ('modelos', 'N'),\n",
              " ('.', '.'),\n",
              " ('É', 'V'),\n",
              " ('taça', 'N'),\n",
              " ('que', 'PRO-KS-REL'),\n",
              " ('pode', 'VAUX'),\n",
              " ('ter', 'V'),\n",
              " ('lavores', 'N'),\n",
              " ('de', 'PREP'),\n",
              " ('igual', 'ADJ'),\n",
              " ('escola', 'N'),\n",
              " (',', ','),\n",
              " ('mas', 'KC'),\n",
              " ('leva', 'V'),\n",
              " ('outro', 'PROADJ'),\n",
              " ('vinho', 'N'),\n",
              " ('.', '.'),\n",
              " ('Não', 'ADV'),\n",
              " ('digo', 'V'),\n",
              " ('mais', 'ADV'),\n",
              " ('para', 'PREP'),\n",
              " ('não', 'ADV'),\n",
              " ('entrar', 'V'),\n",
              " ('na', 'PREP|+'),\n",
              " ('crítica', 'N'),\n",
              " ('de', 'PREP'),\n",
              " ('um', 'ART'),\n",
              " ('defunto', 'N'),\n",
              " (',', ','),\n",
              " ('que', 'PRO-KS-REL'),\n",
              " ('se', 'PROPESS'),\n",
              " ('pintou', 'V'),\n",
              " ('a', 'ART'),\n",
              " ('si', 'PROPESS'),\n",
              " ('e', 'KC'),\n",
              " ('a', 'ART'),\n",
              " ('outros', 'PROADJ'),\n",
              " (',', ','),\n",
              " ('conforme', 'PREP'),\n",
              " ('lhe', 'PROPESS'),\n",
              " ('pareceu', 'V'),\n",
              " ('melhor', 'ADV'),\n",
              " ('e', 'KC'),\n",
              " ('mais', 'ADV'),\n",
              " ('certo', 'ADJ'),\n",
              " ('.', '.'),\n",
              " ('Machado', 'NPROP'),\n",
              " ('de', 'NPROP'),\n",
              " ('Assis', 'NPROP'),\n",
              " ('.', 'NPROP'),\n",
              " ('AO', 'N'),\n",
              " ('LEITOR', 'N'),\n",
              " ('Que', 'PROADJ'),\n",
              " ('Stendhal', 'NPROP'),\n",
              " ('confessasse', 'N'),\n",
              " ('haver', 'V'),\n",
              " ('escrito', 'PCP'),\n",
              " ('um', 'ART'),\n",
              " ('de', 'PREP|+'),\n",
              " ('seus', 'PROADJ'),\n",
              " ('livros', 'N'),\n",
              " ('para', 'PREP'),\n",
              " ('cem', 'NUM'),\n",
              " ('leitores', 'N'),\n",
              " (',', ','),\n",
              " ('coisa', 'N'),\n",
              " ('é', 'V'),\n",
              " ('que', 'KS'),\n",
              " ('admira', 'V'),\n",
              " ('e', 'KC'),\n",
              " ('consterna', 'N'),\n",
              " ('.', '.'),\n",
              " ('O', 'ART'),\n",
              " ('que', 'PRO-KS-REL'),\n",
              " ('não', 'ADV'),\n",
              " ('admira', 'V'),\n",
              " (',', ','),\n",
              " ('nem', 'KC'),\n",
              " ('provavelmente', 'ADV'),\n",
              " ('consternará', 'N'),\n",
              " ('é', 'V'),\n",
              " ('se', 'KS'),\n",
              " ('este', 'PROADJ'),\n",
              " ('outro', 'PROADJ'),\n",
              " ('livro', 'N'),\n",
              " ('não', 'ADV'),\n",
              " ('tiver', 'V'),\n",
              " ('os', 'ART'),\n",
              " ('cem', 'NUM'),\n",
              " ('leitores', 'N'),\n",
              " ('de', 'PREP'),\n",
              " ('Stendhal', 'NPROP'),\n",
              " (',', ','),\n",
              " ('nem', 'KC'),\n",
              " ('cinqüenta', 'N'),\n",
              " (',', ','),\n",
              " ('nem', 'KC'),\n",
              " ('vinte', 'NUM'),\n",
              " ('e', 'KC'),\n",
              " (',', ','),\n",
              " ('quando', 'ADV-KS-REL'),\n",
              " ('muito', 'ADV'),\n",
              " (',', ','),\n",
              " ('dez', 'NUM'),\n",
              " ('.', '.'),\n",
              " ('Dez', 'NUM'),\n",
              " ('?', '?'),\n",
              " ('Talvez', 'ADV'),\n",
              " ('cinco', 'NUM'),\n",
              " ('.', '.'),\n",
              " ('Trata-se', 'N'),\n",
              " (',', ','),\n",
              " ('na', 'KS'),\n",
              " ('verdade', 'N'),\n",
              " (',', ','),\n",
              " ('de', 'PREP'),\n",
              " ('uma', 'ART'),\n",
              " ('obra', 'N'),\n",
              " ('difusa', 'ADJ'),\n",
              " (',', ','),\n",
              " ('na', 'KS'),\n",
              " ('qual', 'KS'),\n",
              " ('eu', 'PROPESS'),\n",
              " (',', ','),\n",
              " ('Brás', 'NPROP'),\n",
              " ('Cubas', 'NPROP'),\n",
              " (',', ','),\n",
              " ('se', 'KS'),\n",
              " ('adotei', 'V'),\n",
              " ('a', 'ART'),\n",
              " ('forma', 'N'),\n",
              " ('livre', 'ADJ'),\n",
              " ('de', 'PREP|+'),\n",
              " ('um', 'ART'),\n",
              " ('Sterne', 'NPROP'),\n",
              " (',', ','),\n",
              " ('ou', 'KC'),\n",
              " ('de', 'PREP|+'),\n",
              " ('um', 'ART'),\n",
              " ('Xavier', 'NPROP'),\n",
              " ('de', 'NPROP'),\n",
              " ('Maistre', 'NPROP'),\n",
              " (',', ','),\n",
              " ('não', 'ADV'),\n",
              " ('sei', 'V'),\n",
              " ('se', 'KS'),\n",
              " ('lhe', 'PROPESS'),\n",
              " ('meti', 'V'),\n",
              " ('algumas', 'PROADJ'),\n",
              " ('rabugens', 'N'),\n",
              " ('de', 'PREP'),\n",
              " ('pessimismo', 'N'),\n",
              " ('.', '.'),\n",
              " ('Pode', 'VAUX'),\n",
              " ('ser', 'VAUX'),\n",
              " ('.', '.'),\n",
              " ('Obra', 'N'),\n",
              " ('de', 'PREP'),\n",
              " ('finado', 'N'),\n",
              " ('.', '.'),\n",
              " ('Escrevi-a', 'N'),\n",
              " ('com', 'PREP'),\n",
              " ('a', 'ART'),\n",
              " ('pena', 'N'),\n",
              " ('da', 'N'),\n",
              " ('galhofa', 'N'),\n",
              " ('e', 'KC'),\n",
              " ('a', 'ART'),\n",
              " ('tinta', 'N'),\n",
              " ('da', 'N'),\n",
              " ('melancolia', 'N'),\n",
              " (',', ','),\n",
              " ('e', 'KC'),\n",
              " ('não', 'ADV'),\n",
              " ('é', 'V'),\n",
              " ('difícil', 'ADJ'),\n",
              " ('antever', 'N'),\n",
              " ('o', 'ART'),\n",
              " ('que', 'PRO-KS-REL'),\n",
              " ('poderá', 'VAUX'),\n",
              " ('sair', 'V'),\n",
              " ('desse', 'V'),\n",
              " ('conúbio', 'N'),\n",
              " ('.', '.'),\n",
              " ('Acresce', 'V'),\n",
              " ('que', 'KS'),\n",
              " ('a', 'ART'),\n",
              " ('gente', 'N'),\n",
              " ('grave', 'ADJ'),\n",
              " ('achará', 'V'),\n",
              " ('no', 'PREP|+'),\n",
              " ('livro', 'N'),\n",
              " ('umas', 'PROSUB'),\n",
              " ('aparências', 'N'),\n",
              " ('de', 'PREP'),\n",
              " ('puro', 'ADJ'),\n",
              " ('romance', 'N'),\n",
              " (',', ','),\n",
              " ('ao', 'PREP'),\n",
              " ('passo', 'N'),\n",
              " ('que', 'PRO-KS-REL'),\n",
              " ('a', 'ART'),\n",
              " ('gente', 'N'),\n",
              " ('frívola', 'ADJ'),\n",
              " ('não', 'ADV'),\n",
              " ('achará', 'V'),\n",
              " ('nele', 'N'),\n",
              " ('o', 'ART'),\n",
              " ('seu', 'PROADJ'),\n",
              " ('romance', 'N'),\n",
              " ('usual', 'ADJ'),\n",
              " (';', ';'),\n",
              " ('ei-lo', 'N'),\n",
              " ('aí', 'ADV'),\n",
              " ('fica', 'V'),\n",
              " ('privado', 'PCP'),\n",
              " ('da', 'NPROP'),\n",
              " ('estima', 'V'),\n",
              " ('dos', 'NPROP'),\n",
              " ('graves', 'ADJ'),\n",
              " ('e', 'KC'),\n",
              " ('do', 'KS'),\n",
              " ('amor', 'N'),\n",
              " ('dos', 'N'),\n",
              " ('frívolos', 'N'),\n",
              " (',', ','),\n",
              " ('que', 'PRO-KS-REL'),\n",
              " ('são', 'V'),\n",
              " ('as', 'ART'),\n",
              " ('duas', 'NUM'),\n",
              " ('colunas', 'N'),\n",
              " ('máximas', 'ADJ'),\n",
              " ('da', 'NPROP'),\n",
              " ('opinião', 'N'),\n",
              " ('.', '.'),\n",
              " ('Mas', 'KC'),\n",
              " ('eu', 'PROPESS'),\n",
              " ('ainda', 'ADV'),\n",
              " ('espero', 'V'),\n",
              " ('angariar', 'V'),\n",
              " ('as', 'ART'),\n",
              " ('simpatias', 'N'),\n",
              " ('da', 'N'),\n",
              " ('opinião', 'N'),\n",
              " (',', ','),\n",
              " ('e', 'KC'),\n",
              " ('o', 'ART'),\n",
              " ('primeiro', 'ADJ'),\n",
              " ('remédio', 'N'),\n",
              " ('é', 'V'),\n",
              " ('fugir', 'V'),\n",
              " ('a', 'ART'),\n",
              " ('um', 'ART'),\n",
              " ('prólogo', 'N'),\n",
              " ('explícito', 'ADJ'),\n",
              " ('e', 'KC'),\n",
              " ('longo', 'ADJ'),\n",
              " ('.', '.'),\n",
              " ('O', 'ART'),\n",
              " ('melhor', 'ADJ'),\n",
              " ('prólogo', 'N'),\n",
              " ('é', 'V'),\n",
              " ('o', 'ART'),\n",
              " ('que', 'PRO-KS-REL'),\n",
              " ('contém', 'V'),\n",
              " ('menos', 'ADV'),\n",
              " ('coisas', 'N'),\n",
              " (',', ','),\n",
              " ('ou', 'KC'),\n",
              " ('o', 'ART'),\n",
              " ('que', 'PRO-KS-REL'),\n",
              " ('as', 'ART'),\n",
              " ('diz', 'V'),\n",
              " ('de', 'PREP'),\n",
              " ('um', 'ART'),\n",
              " ('jeito', 'N'),\n",
              " ('obscuro', 'ADJ'),\n",
              " ('e', 'KC'),\n",
              " ('truncado', 'PCP'),\n",
              " ('.', '.'),\n",
              " ('Conseguintemente', 'N'),\n",
              " (',', ','),\n",
              " ('evito', 'N'),\n",
              " ('contar', 'V'),\n",
              " ('o', 'ART'),\n",
              " ('processo', 'N'),\n",
              " ('extraordinário', 'ADJ'),\n",
              " ('que', 'PRO-KS-REL'),\n",
              " ('empreguei', 'N'),\n",
              " ('na', 'ADV'),\n",
              " ('composição', 'N'),\n",
              " ('destas', 'N'),\n",
              " ('Memórias', 'N'),\n",
              " (',', ','),\n",
              " ('trabalhadas', 'PCP'),\n",
              " ('cá', 'ADV'),\n",
              " ('no', 'PREP|+'),\n",
              " ('outro', 'PROADJ'),\n",
              " ('mundo', 'N'),\n",
              " ('.', '.'),\n",
              " ('Seria', 'V'),\n",
              " ('curioso', 'ADJ'),\n",
              " (',', ','),\n",
              " ('mas', 'KC'),\n",
              " ('nimiamente', 'N'),\n",
              " ('extenso', 'ADJ'),\n",
              " (',', ','),\n",
              " ('e', 'KC'),\n",
              " ('aliás', 'PDEN'),\n",
              " ('desnecessário', 'ADJ'),\n",
              " ('ao', 'PREP'),\n",
              " ('entendimento', 'N'),\n",
              " ('da', 'N'),\n",
              " ('obra', 'N'),\n",
              " ('.', '.'),\n",
              " ('A', 'ART'),\n",
              " ('obra', 'N'),\n",
              " ('em', 'PREP|+'),\n",
              " ('si', 'PROPESS'),\n",
              " ('mesma', 'PROADJ'),\n",
              " ('é', 'V'),\n",
              " ('tudo', 'PROSUB'),\n",
              " (':', ':'),\n",
              " ('se', 'KS'),\n",
              " ('te', 'PROPESS'),\n",
              " ('agradar', 'V'),\n",
              " (',', ','),\n",
              " ('fino', 'ADJ'),\n",
              " ('leitor', 'N'),\n",
              " (',', ','),\n",
              " ('pago-me', 'N'),\n",
              " ('da', 'N'),\n",
              " ('tarefa', 'N'),\n",
              " (';', ';'),\n",
              " ('se', 'KS'),\n",
              " ('te', 'PROPESS'),\n",
              " ('não', 'ADV'),\n",
              " ('agradar', 'V'),\n",
              " (',', ','),\n",
              " ('pago-te', 'N'),\n",
              " ('com', 'PREP'),\n",
              " ('um', 'ART'),\n",
              " ('piparote', 'N'),\n",
              " (',', ','),\n",
              " ('e', 'KC'),\n",
              " ('adeus', 'IN'),\n",
              " ('.', '.'),\n",
              " ('Brás', 'NPROP'),\n",
              " ('Cubas', 'NPROP'),\n",
              " ('.', 'NPROP'),\n",
              " ('CAPÍTULO', 'N'),\n",
              " ('PRIMEIRO', 'N'),\n",
              " ('/', '/'),\n",
              " ('ÓBITO', 'N'),\n",
              " ('DO', 'N'),\n",
              " ('AUTOR', 'N'),\n",
              " ('Algum', 'PROSUB'),\n",
              " ('tempo', 'N'),\n",
              " ('hesitei', 'N'),\n",
              " ('se', 'PROPESS'),\n",
              " ('devia', 'VAUX'),\n",
              " ('abrir', 'V'),\n",
              " ('estas', 'PROADJ'),\n",
              " ('memórias', 'N'),\n",
              " ('pelo', 'PDEN'),\n",
              " ('princípio', 'N'),\n",
              " ('ou', 'KC'),\n",
              " ('pelo', 'PDEN'),\n",
              " ('fim', 'PDEN'),\n",
              " (',', ','),\n",
              " ('isto', 'PDEN'),\n",
              " ('é', 'V'),\n",
              " (',', ','),\n",
              " ('se', 'KS'),\n",
              " ('poria', 'N'),\n",
              " ('em', 'PREP|+'),\n",
              " ('primeiro', 'ADJ'),\n",
              " ('lugar', 'N'),\n",
              " ('o', 'ART'),\n",
              " ('meu', 'PROADJ'),\n",
              " ('nascimento', 'N'),\n",
              " ('ou', 'KC'),\n",
              " ('a', 'ART'),\n",
              " ('minha', 'PROADJ'),\n",
              " ('morte', 'N'),\n",
              " ('.', '.'),\n",
              " ('Suposto', 'PCP'),\n",
              " ('o', 'ART'),\n",
              " ('uso', 'N'),\n",
              " ('vulgar', 'ADJ'),\n",
              " ('seja', 'V'),\n",
              " ('começar', 'V'),\n",
              " ('pelo', 'PDEN'),\n",
              " ('nascimento', 'N'),\n",
              " (',', ','),\n",
              " ('duas', 'NUM'),\n",
              " ('considerações', 'N'),\n",
              " ('me', 'PROPESS'),\n",
              " ('levaram', 'V'),\n",
              " ('a', 'ART'),\n",
              " ('adotar', 'V'),\n",
              " ('diferente', 'ADJ'),\n",
              " ('método', 'N'),\n",
              " (':', ':'),\n",
              " ('a', 'ART'),\n",
              " ('primeira', 'ADJ'),\n",
              " ('é', 'V'),\n",
              " ('que', 'KS'),\n",
              " ('eu', 'PROPESS'),\n",
              " ('não', 'ADV'),\n",
              " ('sou', 'V'),\n",
              " ('propriamente', 'ADV'),\n",
              " ('um', 'ART'),\n",
              " ('autor', 'N'),\n",
              " ('defunto', 'N'),\n",
              " (',', ','),\n",
              " ('mas', 'KC'),\n",
              " ('um', 'ART'),\n",
              " ('defunto', 'N'),\n",
              " ('autor', 'N'),\n",
              " (',', ','),\n",
              " ('para', 'PREP'),\n",
              " ('quem', 'PRO-KS'),\n",
              " ('a', 'ART'),\n",
              " ('campa', 'N'),\n",
              " ('foi', 'VAUX'),\n",
              " ('outro', 'PROADJ'),\n",
              " ('berço', 'N'),\n",
              " (';', ';'),\n",
              " ('a', 'ART'),\n",
              " ('segunda', 'ADJ'),\n",
              " ('é', 'V'),\n",
              " ('que', 'KS'),\n",
              " ('o', 'ART'),\n",
              " ('escrito', 'N'),\n",
              " ('ficaria', 'V'),\n",
              " ('assim', 'ADV'),\n",
              " ('mais', 'ADV'),\n",
              " ('galante', 'ADJ'),\n",
              " ('e', 'KC'),\n",
              " ('mais', 'ADV'),\n",
              " ('novo', 'ADV'),\n",
              " ('.', '.'),\n",
              " ('Moisés', 'NPROP'),\n",
              " (',', ','),\n",
              " ('que', 'PRO-KS-REL'),\n",
              " ('também', 'PDEN'),\n",
              " ('contou', 'V'),\n",
              " ('a', 'ART'),\n",
              " ('sua', 'PROADJ'),\n",
              " ('morte', 'N'),\n",
              " (',', ','),\n",
              " ('não', 'ADV'),\n",
              " ('a', 'ART'),\n",
              " ('pôs', 'V'),\n",
              " ('no', 'PREP|+'),\n",
              " ('intróito', 'N'),\n",
              " (',', ','),\n",
              " ('mas', 'KC'),\n",
              " ('no', 'PREP|+'),\n",
              " ('cabo', 'N'),\n",
              " (':', ':'),\n",
              " ('diferença', 'N'),\n",
              " ('radical', 'ADJ'),\n",
              " ('entre', 'PREP'),\n",
              " ('este', 'PROADJ'),\n",
              " ('livro', 'N'),\n",
              " ('e', 'KC'),\n",
              " ('o', 'ART'),\n",
              " ('Pentateuco', 'N'),\n",
              " ('.', '.'),\n",
              " ('Dito', 'N'),\n",
              " ('isto', 'PROSUB'),\n",
              " (',', ','),\n",
              " ('expirei', 'N'),\n",
              " ('às', 'ADV'),\n",
              " ('duas', 'NUM'),\n",
              " ('horas', 'N'),\n",
              " ('da', 'N'),\n",
              " ('tarde', 'ADV'),\n",
              " ('de', 'PREP|+'),\n",
              " ('uma', 'ART'),\n",
              " ('sexta-feira', 'N'),\n",
              " ('do', 'KS'),\n",
              " ('mês', 'N'),\n",
              " ('de', 'PREP'),\n",
              " ('agosto', 'N'),\n",
              " ('de', 'PREP'),\n",
              " ('1869', 'N'),\n",
              " (',', ','),\n",
              " ('na', 'KS'),\n",
              " ('minha', 'PROADJ'),\n",
              " ('bela', 'ADJ'),\n",
              " ('chácara', 'N'),\n",
              " ('de', 'PREP'),\n",
              " ('Catumbi', 'NPROP'),\n",
              " ('.', 'NPROP'),\n",
              " ('Tinha', 'V'),\n",
              " ('uns', 'ART'),\n",
              " ('sessenta', 'N'),\n",
              " ('e', 'KC'),\n",
              " ('quatro', 'NUM'),\n",
              " ('anos', 'N'),\n",
              " (',', ','),\n",
              " ('rijos', 'N'),\n",
              " ('e', 'KC'),\n",
              " ('prósperos', 'ADJ'),\n",
              " (',', ','),\n",
              " ('era', 'V'),\n",
              " ('solteiro', 'N'),\n",
              " (',', ','),\n",
              " ('possuía', 'V'),\n",
              " ('cerca', 'PREP'),\n",
              " ('de', 'PREP'),\n",
              " ('trezentos', 'N'),\n",
              " ('contos', 'N'),\n",
              " ('e', 'KC'),\n",
              " ('fui', 'VAUX'),\n",
              " ('acompanhado', 'PCP'),\n",
              " ('ao', 'PREP'),\n",
              " ('cemitério', 'N'),\n",
              " ('por', 'PREP'),\n",
              " ('onze', 'NUM'),\n",
              " ('amigos', 'N'),\n",
              " ('.', '.'),\n",
              " ('Onze', 'NUM'),\n",
              " ('amigos', 'N'),\n",
              " ('!', '!'),\n",
              " ('Verdade', 'NPROP'),\n",
              " ('é', 'V'),\n",
              " ('que', 'KS'),\n",
              " ('não', 'ADV'),\n",
              " ('houve', 'V'),\n",
              " ('cartas', 'N'),\n",
              " ('nem', 'KC'),\n",
              " ('anúncios', 'N'),\n",
              " ('.', '.'),\n",
              " ('Acresce', 'V'),\n",
              " ('que', 'KS'),\n",
              " ('chovia', 'V'),\n",
              " ('\\x97', 'N'),\n",
              " ('peneirava', 'N'),\n",
              " ('uma', 'ART'),\n",
              " ('chuvinha', 'N'),\n",
              " ('miúda', 'ADJ'),\n",
              " (',', ','),\n",
              " ('triste', 'ADJ'),\n",
              " ('e', 'KC'),\n",
              " ('constante', 'ADJ'),\n",
              " (',', ','),\n",
              " ('tão', 'ADV'),\n",
              " ('constante', 'ADJ'),\n",
              " ('e', 'KC'),\n",
              " ('tão', 'ADV'),\n",
              " ('triste', 'ADJ'),\n",
              " (',', ','),\n",
              " ('que', 'PRO-KS-REL'),\n",
              " ('levou', 'V'),\n",
              " ('um', 'ART'),\n",
              " ('daqueles', 'N'),\n",
              " ('fiéis', 'ADJ'),\n",
              " ('da', 'NPROP'),\n",
              " ('última', 'ADJ'),\n",
              " ('hora', 'N'),\n",
              " ('a', 'PREP|+'),\n",
              " ('intercalar', 'N'),\n",
              " ('esta', 'PROADJ'),\n",
              " ('engenhosa', 'N'),\n",
              " ('idéia', 'N'),\n",
              " ('no', 'PREP'),\n",
              " ('discurso', 'N'),\n",
              " ('que', 'PRO-KS-REL'),\n",
              " ('proferiu', 'N'),\n",
              " ('à', 'PREP|+'),\n",
              " ('beira', 'PREP|+'),\n",
              " ('de', 'PREP|+'),\n",
              " ('minha', 'PROADJ'),\n",
              " ('cova', 'N'),\n",
              " (':', ':'),\n",
              " ('\\x97', 'N'),\n",
              " ('\\x93Vós', 'N'),\n",
              " (',', ','),\n",
              " ('que', 'PRO-KS-REL'),\n",
              " ('o', 'ART'),\n",
              " ('conhecestes', 'N'),\n",
              " (',', ','),\n",
              " ('meus', 'PROADJ'),\n",
              " ('senhores', 'N'),\n",
              " (',', ','),\n",
              " ('vós', 'N'),\n",
              " ('podeis', 'N'),\n",
              " ('dizer', 'V'),\n",
              " ('comigo', 'N'),\n",
              " ('que', 'PRO-KS-REL'),\n",
              " ('a', 'ART'),\n",
              " ('natureza', 'N'),\n",
              " ('parece', 'VAUX'),\n",
              " ('estar', 'V'),\n",
              " ('chorando', 'V'),\n",
              " ('a', 'ART'),\n",
              " ('perda', 'N'),\n",
              " ('irreparável', 'N'),\n",
              " ('de', 'PREP'),\n",
              " ('um', 'ART'),\n",
              " ('dos', 'NPROP'),\n",
              " ('mais', 'ADV'),\n",
              " ('belos', 'ADJ'),\n",
              " ('caracteres', 'N'),\n",
              " ('que', 'PRO-KS-REL'),\n",
              " ('têm', 'V'),\n",
              " ('honrado', 'N'),\n",
              " ('a', 'PREP|+'),\n",
              " ('humanidade', 'N'),\n",
              " ('.', '.'),\n",
              " ('Este', 'PROADJ'),\n",
              " ('ar', 'N'),\n",
              " ('sombrio', 'ADJ'),\n",
              " (',', ','),\n",
              " ('estas', 'PROADJ'),\n",
              " ('gotas', 'N'),\n",
              " ('do', 'KS'),\n",
              " ('céu', 'N'),\n",
              " (',', ','),\n",
              " ('aquelas', 'PROADJ'),\n",
              " ('nuvens', 'N'),\n",
              " ('escuras', 'ADJ'),\n",
              " ('que', 'PRO-KS-REL'),\n",
              " ('cobrem', 'V'),\n",
              " ('o', 'ART'),\n",
              " ('azul', 'N'),\n",
              " ('como', 'PREP'),\n",
              " ('um', 'ART'),\n",
              " ('crepe', 'N'),\n",
              " ('funéreo', 'N'),\n",
              " (',', ','),\n",
              " ('tudo', 'PROSUB'),\n",
              " ('isso', 'PROSUB'),\n",
              " ('é', 'V'),\n",
              " ('a', 'ART'),\n",
              " ('dor', 'N'),\n",
              " ('crua', 'ADJ'),\n",
              " ...]"
            ]
          },
          "metadata": {},
          "execution_count": 41
        }
      ]
    },
    {
      "cell_type": "markdown",
      "metadata": {
        "id": "VyrCc_ccHIcP"
      },
      "source": [
        "Caso queira armazenar o modelo treinado para evitar o re-treinamento veja a seção 5.6 deste [link](https://www.nltk.org/book/ch05.html)."
      ]
    },
    {
      "cell_type": "markdown",
      "metadata": {
        "id": "mnwfcSZjJLjf"
      },
      "source": [
        "##**ATIVIDADE PRÁTICA**\n",
        "A seguir, algumas práticas relacionadas às operações básicas de PLN, NLTK e expressões regulares."
      ]
    },
    {
      "cell_type": "code",
      "metadata": {
        "id": "xh8yE_Ci_3LH"
      },
      "source": [
        "# Texto de exemplo\n",
        "texto = \"\"\"A morte supersônica\n",
        "O Concorde era um avião incrível. Inclusive no quesito segurança. Até que, um dia, aconteceu algo que ninguém poderia prever.\n",
        "\n",
        "Com asas alongadas e viradas para trás, cabine bem estreita e bico fino – que deslizava para baixo durante o pouso, para melhorar a visibilidade do piloto –, o Concorde é um dos aviões mais bonitos de todos os tempos. E um dos mais avançados também.\n",
        "\n",
        "Desenvolvido nos anos 1960 por um consórcio de empresas francesas e inglesas (que hoje se chama Airbus), ele foi um dos únicos dois aviões supersônicos a operar comercialmente (o outro foi o soviético Tupolev Tu-144). Tinha quatro motores ultrapotentes, que queimavam 25 mil litros de combustível por hora – quase o dobro de um Boeing 747 -, e viajava a 60 mil pés de altitude, 20 mil a mais que os outros aviões. Usava tecnologias revolucionárias, como um sistema que desacelerava a passagem do ar dentro das turbinas (do contrário, elas explodiriam antes que o avião atingisse sua velocidade máxima). Tudo para alcançar a glória de voar a 2.179 km/h, duas vezes a velocidade do som. É o dobro dos aviões comuns, e permitia atravessar o planeta com uma rapidez que até hoje impressiona – ir de Londres a Nova York em três horas, por exemplo.\n",
        "\n",
        "O Concorde começou a operar em 1976. Uma das primeiras linhas fazia o trajeto Paris-Rio de Janeiro, com dois voos semanais. O público ficou maravilhado com a aeronave, mas voar nela era para poucos: as passagens eram ainda mais caras que as dos voos de primeira classe, e ultrapassavam US$ 10 mil em valores de hoje. Mas manter a frota de Concordes era ainda mais caro, e a British Airways e a Air France, que operavam os aviões, tinham prejuízo com eles. É que, para que os voos dessem lucro, cada avião precisava decolar com pelo menos 90% dos assentos ocupados, o que nem sempre acontecia (a linha brasileira tinha ocupação média de 50%, e por isso foi uma das primeiras a deixarem de existir, em 1982).\n",
        "\n",
        "Mesmo assim, ele continuou operando comercialmente, com voos ligando a Europa e os EUA, até o dia 25 de julho de 2000. Nesse dia, o Concorde F-BTSC da Air France (um dos únicos 26 a serem produzidos) saiu do aeroporto Charles de Gaulle, em Paris, com destino a Nova York. Levava cem passageiros e nove tripulantes – e, descobriu-se depois, estava sobrecarregado, com 810 kg a mais do que o peso máximo permitido. Na decolagem, aconteceu uma das cenas mais impressionantes da história da aviação. Durante a aceleração inicial, com o Concorde ainda no chão, um dos tanques de combustível explodiu. Os pilotos perceberam, mas já tinham percorrido boa parte da pista – só tinham mais 2 km, espaço insuficiente para frear o avião e abortar o voo com segurança. A única saída era tentar decolar – coisa que eles fizeram, com o Concorde pegando fogo.\n",
        "\n",
        "As consequências foram dramáticas. Os motores 1 e 2 pifaram, e com isso a aeronave foi se inclinando violentamente para o lado. Para tentar compensar isso, e forçar o Concorde ferido a voar reto, os pilotos desaceleraram os motores 3 e 4, do outro lado. O avião caiu logo depois, nas redondezas do aeroporto. Todos os ocupantes morreram, e também houve quatro vítimas fatais em solo, que foram atingidas por pedaços do avião. O acidente chocou o mundo e devastou a imagem do Concorde, que nunca havia enfrentado um acidente grave e até então era considerado um dos aviões mais seguros da história.\n",
        "\n",
        "A frota foi inspecionada e voltou a operar comercialmente. Mas aí, em 2001, aconteceram os atentados de 11 de Setembro, que deixaram as pessoas com medo de voar. O Concorde não teve nada a ver com eles, mas também foi afetado pela forte queda na venda de passagens aéreas. E se tornou, de uma vez por todas, economicamente inviável. Foi aposentado – com direito, apenas, a uma curta série de voos de despedida, para os fãs do avião, realizados pela British Airways em 2003.\n",
        "\n",
        "O verdadeiro culpado\n",
        "\n",
        "Como um relatório do governo francês constatou depois, o acidente fatal não aconteceu por defeitos no Concorde (nem pelo excesso de peso). Foi por causa de outro avião: um DC-10 da Continental Airlines, que decolou cinco minutos antes. Esse avião teve manutenção malfeita, e por isso soltou um pedaço de metal na pista. Era uma faixa de titânio, com 40 cm de comprimento e 3 cm de largura, que caiu de uma das turbinas. Ninguém percebeu, a peça ficou lá – e o Concorde passou bem por cima dela. Isso rasgou um de seus pneus, que estourou. A onda de choque rompeu um dos tanques de combustível do Concorde, detonando o incêndio que derrubou o avião.\"\"\""
      ],
      "execution_count": 42,
      "outputs": []
    },
    {
      "cell_type": "markdown",
      "metadata": {
        "id": "i65Xx1sR_3CJ"
      },
      "source": [
        "### 1) Usando expressões regulares desenvolva seu próprio tokenizador. Compare o seu resultado com o tokenizador do NLTK.</p>"
      ]
    },
    {
      "cell_type": "code",
      "metadata": {
        "id": "ypLDuOBVAhqO",
        "colab": {
          "base_uri": "https://localhost:8080/"
        },
        "outputId": "efdf9d60-03e1-4f68-9be5-36a7bb9a7d33"
      },
      "source": [
        "import re\n",
        "\n",
        "# Tokenizador personalizado usando expressões regulares\n",
        "def nlp_tokenizador(texto):\n",
        "    # Expressão regular para separar palavras por espaços em branco, considerando pontuações\n",
        "    tokens = re.findall(r'\\b\\w+\\b', texto)\n",
        "    return tokens\n",
        "\n",
        "# Aplica o tokenizador personalizado\n",
        "tokens_personalizado = nlp_tokenizador(texto)\n",
        "print(\"Tokenizador personalizado:\")\n",
        "print(tokens_personalizado)\n",
        "print(\"Total de tokens:\", len(tokens_personalizado))"
      ],
      "execution_count": 44,
      "outputs": [
        {
          "output_type": "stream",
          "name": "stdout",
          "text": [
            "Tokenizador personalizado:\n",
            "['A', 'morte', 'supersônica', 'O', 'Concorde', 'era', 'um', 'avião', 'incrível', 'Inclusive', 'no', 'quesito', 'segurança', 'Até', 'que', 'um', 'dia', 'aconteceu', 'algo', 'que', 'ninguém', 'poderia', 'prever', 'Com', 'asas', 'alongadas', 'e', 'viradas', 'para', 'trás', 'cabine', 'bem', 'estreita', 'e', 'bico', 'fino', 'que', 'deslizava', 'para', 'baixo', 'durante', 'o', 'pouso', 'para', 'melhorar', 'a', 'visibilidade', 'do', 'piloto', 'o', 'Concorde', 'é', 'um', 'dos', 'aviões', 'mais', 'bonitos', 'de', 'todos', 'os', 'tempos', 'E', 'um', 'dos', 'mais', 'avançados', 'também', 'Desenvolvido', 'nos', 'anos', '1960', 'por', 'um', 'consórcio', 'de', 'empresas', 'francesas', 'e', 'inglesas', 'que', 'hoje', 'se', 'chama', 'Airbus', 'ele', 'foi', 'um', 'dos', 'únicos', 'dois', 'aviões', 'supersônicos', 'a', 'operar', 'comercialmente', 'o', 'outro', 'foi', 'o', 'soviético', 'Tupolev', 'Tu', '144', 'Tinha', 'quatro', 'motores', 'ultrapotentes', 'que', 'queimavam', '25', 'mil', 'litros', 'de', 'combustível', 'por', 'hora', 'quase', 'o', 'dobro', 'de', 'um', 'Boeing', '747', 'e', 'viajava', 'a', '60', 'mil', 'pés', 'de', 'altitude', '20', 'mil', 'a', 'mais', 'que', 'os', 'outros', 'aviões', 'Usava', 'tecnologias', 'revolucionárias', 'como', 'um', 'sistema', 'que', 'desacelerava', 'a', 'passagem', 'do', 'ar', 'dentro', 'das', 'turbinas', 'do', 'contrário', 'elas', 'explodiriam', 'antes', 'que', 'o', 'avião', 'atingisse', 'sua', 'velocidade', 'máxima', 'Tudo', 'para', 'alcançar', 'a', 'glória', 'de', 'voar', 'a', '2', '179', 'km', 'h', 'duas', 'vezes', 'a', 'velocidade', 'do', 'som', 'É', 'o', 'dobro', 'dos', 'aviões', 'comuns', 'e', 'permitia', 'atravessar', 'o', 'planeta', 'com', 'uma', 'rapidez', 'que', 'até', 'hoje', 'impressiona', 'ir', 'de', 'Londres', 'a', 'Nova', 'York', 'em', 'três', 'horas', 'por', 'exemplo', 'O', 'Concorde', 'começou', 'a', 'operar', 'em', '1976', 'Uma', 'das', 'primeiras', 'linhas', 'fazia', 'o', 'trajeto', 'Paris', 'Rio', 'de', 'Janeiro', 'com', 'dois', 'voos', 'semanais', 'O', 'público', 'ficou', 'maravilhado', 'com', 'a', 'aeronave', 'mas', 'voar', 'nela', 'era', 'para', 'poucos', 'as', 'passagens', 'eram', 'ainda', 'mais', 'caras', 'que', 'as', 'dos', 'voos', 'de', 'primeira', 'classe', 'e', 'ultrapassavam', 'US', '10', 'mil', 'em', 'valores', 'de', 'hoje', 'Mas', 'manter', 'a', 'frota', 'de', 'Concordes', 'era', 'ainda', 'mais', 'caro', 'e', 'a', 'British', 'Airways', 'e', 'a', 'Air', 'France', 'que', 'operavam', 'os', 'aviões', 'tinham', 'prejuízo', 'com', 'eles', 'É', 'que', 'para', 'que', 'os', 'voos', 'dessem', 'lucro', 'cada', 'avião', 'precisava', 'decolar', 'com', 'pelo', 'menos', '90', 'dos', 'assentos', 'ocupados', 'o', 'que', 'nem', 'sempre', 'acontecia', 'a', 'linha', 'brasileira', 'tinha', 'ocupação', 'média', 'de', '50', 'e', 'por', 'isso', 'foi', 'uma', 'das', 'primeiras', 'a', 'deixarem', 'de', 'existir', 'em', '1982', 'Mesmo', 'assim', 'ele', 'continuou', 'operando', 'comercialmente', 'com', 'voos', 'ligando', 'a', 'Europa', 'e', 'os', 'EUA', 'até', 'o', 'dia', '25', 'de', 'julho', 'de', '2000', 'Nesse', 'dia', 'o', 'Concorde', 'F', 'BTSC', 'da', 'Air', 'France', 'um', 'dos', 'únicos', '26', 'a', 'serem', 'produzidos', 'saiu', 'do', 'aeroporto', 'Charles', 'de', 'Gaulle', 'em', 'Paris', 'com', 'destino', 'a', 'Nova', 'York', 'Levava', 'cem', 'passageiros', 'e', 'nove', 'tripulantes', 'e', 'descobriu', 'se', 'depois', 'estava', 'sobrecarregado', 'com', '810', 'kg', 'a', 'mais', 'do', 'que', 'o', 'peso', 'máximo', 'permitido', 'Na', 'decolagem', 'aconteceu', 'uma', 'das', 'cenas', 'mais', 'impressionantes', 'da', 'história', 'da', 'aviação', 'Durante', 'a', 'aceleração', 'inicial', 'com', 'o', 'Concorde', 'ainda', 'no', 'chão', 'um', 'dos', 'tanques', 'de', 'combustível', 'explodiu', 'Os', 'pilotos', 'perceberam', 'mas', 'já', 'tinham', 'percorrido', 'boa', 'parte', 'da', 'pista', 'só', 'tinham', 'mais', '2', 'km', 'espaço', 'insuficiente', 'para', 'frear', 'o', 'avião', 'e', 'abortar', 'o', 'voo', 'com', 'segurança', 'A', 'única', 'saída', 'era', 'tentar', 'decolar', 'coisa', 'que', 'eles', 'fizeram', 'com', 'o', 'Concorde', 'pegando', 'fogo', 'As', 'consequências', 'foram', 'dramáticas', 'Os', 'motores', '1', 'e', '2', 'pifaram', 'e', 'com', 'isso', 'a', 'aeronave', 'foi', 'se', 'inclinando', 'violentamente', 'para', 'o', 'lado', 'Para', 'tentar', 'compensar', 'isso', 'e', 'forçar', 'o', 'Concorde', 'ferido', 'a', 'voar', 'reto', 'os', 'pilotos', 'desaceleraram', 'os', 'motores', '3', 'e', '4', 'do', 'outro', 'lado', 'O', 'avião', 'caiu', 'logo', 'depois', 'nas', 'redondezas', 'do', 'aeroporto', 'Todos', 'os', 'ocupantes', 'morreram', 'e', 'também', 'houve', 'quatro', 'vítimas', 'fatais', 'em', 'solo', 'que', 'foram', 'atingidas', 'por', 'pedaços', 'do', 'avião', 'O', 'acidente', 'chocou', 'o', 'mundo', 'e', 'devastou', 'a', 'imagem', 'do', 'Concorde', 'que', 'nunca', 'havia', 'enfrentado', 'um', 'acidente', 'grave', 'e', 'até', 'então', 'era', 'considerado', 'um', 'dos', 'aviões', 'mais', 'seguros', 'da', 'história', 'A', 'frota', 'foi', 'inspecionada', 'e', 'voltou', 'a', 'operar', 'comercialmente', 'Mas', 'aí', 'em', '2001', 'aconteceram', 'os', 'atentados', 'de', '11', 'de', 'Setembro', 'que', 'deixaram', 'as', 'pessoas', 'com', 'medo', 'de', 'voar', 'O', 'Concorde', 'não', 'teve', 'nada', 'a', 'ver', 'com', 'eles', 'mas', 'também', 'foi', 'afetado', 'pela', 'forte', 'queda', 'na', 'venda', 'de', 'passagens', 'aéreas', 'E', 'se', 'tornou', 'de', 'uma', 'vez', 'por', 'todas', 'economicamente', 'inviável', 'Foi', 'aposentado', 'com', 'direito', 'apenas', 'a', 'uma', 'curta', 'série', 'de', 'voos', 'de', 'despedida', 'para', 'os', 'fãs', 'do', 'avião', 'realizados', 'pela', 'British', 'Airways', 'em', '2003', 'O', 'verdadeiro', 'culpado', 'Como', 'um', 'relatório', 'do', 'governo', 'francês', 'constatou', 'depois', 'o', 'acidente', 'fatal', 'não', 'aconteceu', 'por', 'defeitos', 'no', 'Concorde', 'nem', 'pelo', 'excesso', 'de', 'peso', 'Foi', 'por', 'causa', 'de', 'outro', 'avião', 'um', 'DC', '10', 'da', 'Continental', 'Airlines', 'que', 'decolou', 'cinco', 'minutos', 'antes', 'Esse', 'avião', 'teve', 'manutenção', 'malfeita', 'e', 'por', 'isso', 'soltou', 'um', 'pedaço', 'de', 'metal', 'na', 'pista', 'Era', 'uma', 'faixa', 'de', 'titânio', 'com', '40', 'cm', 'de', 'comprimento', 'e', '3', 'cm', 'de', 'largura', 'que', 'caiu', 'de', 'uma', 'das', 'turbinas', 'Ninguém', 'percebeu', 'a', 'peça', 'ficou', 'lá', 'e', 'o', 'Concorde', 'passou', 'bem', 'por', 'cima', 'dela', 'Isso', 'rasgou', 'um', 'de', 'seus', 'pneus', 'que', 'estourou', 'A', 'onda', 'de', 'choque', 'rompeu', 'um', 'dos', 'tanques', 'de', 'combustível', 'do', 'Concorde', 'detonando', 'o', 'incêndio', 'que', 'derrubou', 'o', 'avião']\n",
            "Total de tokens: 791\n"
          ]
        }
      ]
    },
    {
      "cell_type": "code",
      "source": [
        "# Usa o tokenizador do NLTK para comparação\n",
        "nltk.download('punkt')\n",
        "from nltk.tokenize import word_tokenize\n",
        "\n",
        "tokens_nltk = word_tokenize(texto)\n",
        "print(\"\\nTokenizador NLTK:\")\n",
        "print(tokens_nltk)\n",
        "print(\"Total de tokens:\", len(tokens_nltk))"
      ],
      "metadata": {
        "colab": {
          "base_uri": "https://localhost:8080/"
        },
        "id": "2AQsYiIuHKVl",
        "outputId": "0c9a7a4a-6787-48f9-d6ca-53e63b4930a9"
      },
      "execution_count": 45,
      "outputs": [
        {
          "output_type": "stream",
          "name": "stdout",
          "text": [
            "\n",
            "Tokenizador NLTK:\n",
            "['A', 'morte', 'supersônica', 'O', 'Concorde', 'era', 'um', 'avião', 'incrível', '.', 'Inclusive', 'no', 'quesito', 'segurança', '.', 'Até', 'que', ',', 'um', 'dia', ',', 'aconteceu', 'algo', 'que', 'ninguém', 'poderia', 'prever', '.', 'Com', 'asas', 'alongadas', 'e', 'viradas', 'para', 'trás', ',', 'cabine', 'bem', 'estreita', 'e', 'bico', 'fino', '–', 'que', 'deslizava', 'para', 'baixo', 'durante', 'o', 'pouso', ',', 'para', 'melhorar', 'a', 'visibilidade', 'do', 'piloto', '–', ',', 'o', 'Concorde', 'é', 'um', 'dos', 'aviões', 'mais', 'bonitos', 'de', 'todos', 'os', 'tempos', '.', 'E', 'um', 'dos', 'mais', 'avançados', 'também', '.', 'Desenvolvido', 'nos', 'anos', '1960', 'por', 'um', 'consórcio', 'de', 'empresas', 'francesas', 'e', 'inglesas', '(', 'que', 'hoje', 'se', 'chama', 'Airbus', ')', ',', 'ele', 'foi', 'um', 'dos', 'únicos', 'dois', 'aviões', 'supersônicos', 'a', 'operar', 'comercialmente', '(', 'o', 'outro', 'foi', 'o', 'soviético', 'Tupolev', 'Tu-144', ')', '.', 'Tinha', 'quatro', 'motores', 'ultrapotentes', ',', 'que', 'queimavam', '25', 'mil', 'litros', 'de', 'combustível', 'por', 'hora', '–', 'quase', 'o', 'dobro', 'de', 'um', 'Boeing', '747', '-', ',', 'e', 'viajava', 'a', '60', 'mil', 'pés', 'de', 'altitude', ',', '20', 'mil', 'a', 'mais', 'que', 'os', 'outros', 'aviões', '.', 'Usava', 'tecnologias', 'revolucionárias', ',', 'como', 'um', 'sistema', 'que', 'desacelerava', 'a', 'passagem', 'do', 'ar', 'dentro', 'das', 'turbinas', '(', 'do', 'contrário', ',', 'elas', 'explodiriam', 'antes', 'que', 'o', 'avião', 'atingisse', 'sua', 'velocidade', 'máxima', ')', '.', 'Tudo', 'para', 'alcançar', 'a', 'glória', 'de', 'voar', 'a', '2.179', 'km/h', ',', 'duas', 'vezes', 'a', 'velocidade', 'do', 'som', '.', 'É', 'o', 'dobro', 'dos', 'aviões', 'comuns', ',', 'e', 'permitia', 'atravessar', 'o', 'planeta', 'com', 'uma', 'rapidez', 'que', 'até', 'hoje', 'impressiona', '–', 'ir', 'de', 'Londres', 'a', 'Nova', 'York', 'em', 'três', 'horas', ',', 'por', 'exemplo', '.', 'O', 'Concorde', 'começou', 'a', 'operar', 'em', '1976', '.', 'Uma', 'das', 'primeiras', 'linhas', 'fazia', 'o', 'trajeto', 'Paris-Rio', 'de', 'Janeiro', ',', 'com', 'dois', 'voos', 'semanais', '.', 'O', 'público', 'ficou', 'maravilhado', 'com', 'a', 'aeronave', ',', 'mas', 'voar', 'nela', 'era', 'para', 'poucos', ':', 'as', 'passagens', 'eram', 'ainda', 'mais', 'caras', 'que', 'as', 'dos', 'voos', 'de', 'primeira', 'classe', ',', 'e', 'ultrapassavam', 'US', '$', '10', 'mil', 'em', 'valores', 'de', 'hoje', '.', 'Mas', 'manter', 'a', 'frota', 'de', 'Concordes', 'era', 'ainda', 'mais', 'caro', ',', 'e', 'a', 'British', 'Airways', 'e', 'a', 'Air', 'France', ',', 'que', 'operavam', 'os', 'aviões', ',', 'tinham', 'prejuízo', 'com', 'eles', '.', 'É', 'que', ',', 'para', 'que', 'os', 'voos', 'dessem', 'lucro', ',', 'cada', 'avião', 'precisava', 'decolar', 'com', 'pelo', 'menos', '90', '%', 'dos', 'assentos', 'ocupados', ',', 'o', 'que', 'nem', 'sempre', 'acontecia', '(', 'a', 'linha', 'brasileira', 'tinha', 'ocupação', 'média', 'de', '50', '%', ',', 'e', 'por', 'isso', 'foi', 'uma', 'das', 'primeiras', 'a', 'deixarem', 'de', 'existir', ',', 'em', '1982', ')', '.', 'Mesmo', 'assim', ',', 'ele', 'continuou', 'operando', 'comercialmente', ',', 'com', 'voos', 'ligando', 'a', 'Europa', 'e', 'os', 'EUA', ',', 'até', 'o', 'dia', '25', 'de', 'julho', 'de', '2000', '.', 'Nesse', 'dia', ',', 'o', 'Concorde', 'F-BTSC', 'da', 'Air', 'France', '(', 'um', 'dos', 'únicos', '26', 'a', 'serem', 'produzidos', ')', 'saiu', 'do', 'aeroporto', 'Charles', 'de', 'Gaulle', ',', 'em', 'Paris', ',', 'com', 'destino', 'a', 'Nova', 'York', '.', 'Levava', 'cem', 'passageiros', 'e', 'nove', 'tripulantes', '–', 'e', ',', 'descobriu-se', 'depois', ',', 'estava', 'sobrecarregado', ',', 'com', '810', 'kg', 'a', 'mais', 'do', 'que', 'o', 'peso', 'máximo', 'permitido', '.', 'Na', 'decolagem', ',', 'aconteceu', 'uma', 'das', 'cenas', 'mais', 'impressionantes', 'da', 'história', 'da', 'aviação', '.', 'Durante', 'a', 'aceleração', 'inicial', ',', 'com', 'o', 'Concorde', 'ainda', 'no', 'chão', ',', 'um', 'dos', 'tanques', 'de', 'combustível', 'explodiu', '.', 'Os', 'pilotos', 'perceberam', ',', 'mas', 'já', 'tinham', 'percorrido', 'boa', 'parte', 'da', 'pista', '–', 'só', 'tinham', 'mais', '2', 'km', ',', 'espaço', 'insuficiente', 'para', 'frear', 'o', 'avião', 'e', 'abortar', 'o', 'voo', 'com', 'segurança', '.', 'A', 'única', 'saída', 'era', 'tentar', 'decolar', '–', 'coisa', 'que', 'eles', 'fizeram', ',', 'com', 'o', 'Concorde', 'pegando', 'fogo', '.', 'As', 'consequências', 'foram', 'dramáticas', '.', 'Os', 'motores', '1', 'e', '2', 'pifaram', ',', 'e', 'com', 'isso', 'a', 'aeronave', 'foi', 'se', 'inclinando', 'violentamente', 'para', 'o', 'lado', '.', 'Para', 'tentar', 'compensar', 'isso', ',', 'e', 'forçar', 'o', 'Concorde', 'ferido', 'a', 'voar', 'reto', ',', 'os', 'pilotos', 'desaceleraram', 'os', 'motores', '3', 'e', '4', ',', 'do', 'outro', 'lado', '.', 'O', 'avião', 'caiu', 'logo', 'depois', ',', 'nas', 'redondezas', 'do', 'aeroporto', '.', 'Todos', 'os', 'ocupantes', 'morreram', ',', 'e', 'também', 'houve', 'quatro', 'vítimas', 'fatais', 'em', 'solo', ',', 'que', 'foram', 'atingidas', 'por', 'pedaços', 'do', 'avião', '.', 'O', 'acidente', 'chocou', 'o', 'mundo', 'e', 'devastou', 'a', 'imagem', 'do', 'Concorde', ',', 'que', 'nunca', 'havia', 'enfrentado', 'um', 'acidente', 'grave', 'e', 'até', 'então', 'era', 'considerado', 'um', 'dos', 'aviões', 'mais', 'seguros', 'da', 'história', '.', 'A', 'frota', 'foi', 'inspecionada', 'e', 'voltou', 'a', 'operar', 'comercialmente', '.', 'Mas', 'aí', ',', 'em', '2001', ',', 'aconteceram', 'os', 'atentados', 'de', '11', 'de', 'Setembro', ',', 'que', 'deixaram', 'as', 'pessoas', 'com', 'medo', 'de', 'voar', '.', 'O', 'Concorde', 'não', 'teve', 'nada', 'a', 'ver', 'com', 'eles', ',', 'mas', 'também', 'foi', 'afetado', 'pela', 'forte', 'queda', 'na', 'venda', 'de', 'passagens', 'aéreas', '.', 'E', 'se', 'tornou', ',', 'de', 'uma', 'vez', 'por', 'todas', ',', 'economicamente', 'inviável', '.', 'Foi', 'aposentado', '–', 'com', 'direito', ',', 'apenas', ',', 'a', 'uma', 'curta', 'série', 'de', 'voos', 'de', 'despedida', ',', 'para', 'os', 'fãs', 'do', 'avião', ',', 'realizados', 'pela', 'British', 'Airways', 'em', '2003', '.', 'O', 'verdadeiro', 'culpado', 'Como', 'um', 'relatório', 'do', 'governo', 'francês', 'constatou', 'depois', ',', 'o', 'acidente', 'fatal', 'não', 'aconteceu', 'por', 'defeitos', 'no', 'Concorde', '(', 'nem', 'pelo', 'excesso', 'de', 'peso', ')', '.', 'Foi', 'por', 'causa', 'de', 'outro', 'avião', ':', 'um', 'DC-10', 'da', 'Continental', 'Airlines', ',', 'que', 'decolou', 'cinco', 'minutos', 'antes', '.', 'Esse', 'avião', 'teve', 'manutenção', 'malfeita', ',', 'e', 'por', 'isso', 'soltou', 'um', 'pedaço', 'de', 'metal', 'na', 'pista', '.', 'Era', 'uma', 'faixa', 'de', 'titânio', ',', 'com', '40', 'cm', 'de', 'comprimento', 'e', '3', 'cm', 'de', 'largura', ',', 'que', 'caiu', 'de', 'uma', 'das', 'turbinas', '.', 'Ninguém', 'percebeu', ',', 'a', 'peça', 'ficou', 'lá', '–', 'e', 'o', 'Concorde', 'passou', 'bem', 'por', 'cima', 'dela', '.', 'Isso', 'rasgou', 'um', 'de', 'seus', 'pneus', ',', 'que', 'estourou', '.', 'A', 'onda', 'de', 'choque', 'rompeu', 'um', 'dos', 'tanques', 'de', 'combustível', 'do', 'Concorde', ',', 'detonando', 'o', 'incêndio', 'que', 'derrubou', 'o', 'avião', '.']\n",
            "Total de tokens: 917\n"
          ]
        },
        {
          "output_type": "stream",
          "name": "stderr",
          "text": [
            "[nltk_data] Downloading package punkt to /root/nltk_data...\n",
            "[nltk_data]   Package punkt is already up-to-date!\n"
          ]
        }
      ]
    },
    {
      "cell_type": "markdown",
      "metadata": {
        "id": "VQogCd85Ah39"
      },
      "source": [
        "### 2) Mostre o tamanho do texto (em caracteres)"
      ]
    },
    {
      "cell_type": "code",
      "metadata": {
        "id": "K72Dvz0IA3Gc",
        "colab": {
          "base_uri": "https://localhost:8080/"
        },
        "outputId": "cc824235-7121-46a0-c518-0324681e4c06"
      },
      "source": [
        "# Tamanho do texto em caracteres\n",
        "tamanho_texto = len(texto)\n",
        "print(\"Tamanho do texto em caracteres:\", tamanho_texto)"
      ],
      "execution_count": 46,
      "outputs": [
        {
          "output_type": "stream",
          "name": "stdout",
          "text": [
            "Tamanho do texto em caracteres: 4539\n"
          ]
        }
      ]
    },
    {
      "cell_type": "markdown",
      "metadata": {
        "id": "SLmwREZPA3R-"
      },
      "source": [
        "### 3) Mostre o tamanho do texto (em tokens)"
      ]
    },
    {
      "cell_type": "code",
      "metadata": {
        "id": "9ILY_bCyA6OJ",
        "colab": {
          "base_uri": "https://localhost:8080/"
        },
        "outputId": "42e0c73c-1b38-4f72-ee4e-5be5993ce348"
      },
      "source": [
        "# Tamanho do texto em tokens usando o tokenizador personalizado\n",
        "tamanho_tokens_personalizado = len(tokens_personalizado)\n",
        "print(\"Tamanho do texto em tokens (personalizado):\", tamanho_tokens_personalizado)\n",
        "\n",
        "# Tamanho do texto em tokens usando o tokenizador do NLTK\n",
        "tamanho_tokens_nltk = len(tokens_nltk)\n",
        "print(\"Tamanho do texto em tokens (NLTK):\", tamanho_tokens_nltk)"
      ],
      "execution_count": 47,
      "outputs": [
        {
          "output_type": "stream",
          "name": "stdout",
          "text": [
            "Tamanho do texto em tokens (personalizado): 791\n",
            "Tamanho do texto em tokens (NLTK): 917\n"
          ]
        }
      ]
    },
    {
      "cell_type": "markdown",
      "metadata": {
        "id": "SKWH7Sy_A6wo"
      },
      "source": [
        "### 4) Mostre a quantidade de tokens únicos do texto"
      ]
    },
    {
      "cell_type": "code",
      "metadata": {
        "id": "sEqEqHk7BE8a",
        "colab": {
          "base_uri": "https://localhost:8080/"
        },
        "outputId": "c38e1aeb-2f81-4ac4-9fb6-f728b400cf15"
      },
      "source": [
        "# Quantidade de tokens únicos usando o tokenizador personalizado\n",
        "qtde_tokens_personalizado_unicos = len(set(tokens_personalizado))\n",
        "print(\"Quantidade de tokens únicos (personalizado):\", qtde_tokens_personalizado_unicos)\n",
        "\n",
        "# Quantidade de tokens únicos usando o tokenizador do NLTK\n",
        "qtde_tokens_nltk_unicos = len(set(tokens_nltk))\n",
        "print(\"Quantidade de tokens únicos (NLTK):\", qtde_tokens_nltk_unicos)"
      ],
      "execution_count": 48,
      "outputs": [
        {
          "output_type": "stream",
          "name": "stdout",
          "text": [
            "Quantidade de tokens únicos (personalizado): 409\n",
            "Quantidade de tokens únicos (NLTK): 416\n"
          ]
        }
      ]
    },
    {
      "cell_type": "markdown",
      "metadata": {
        "id": "wY3G2QpYBFVB"
      },
      "source": [
        "### 5) Realize o Stemming no texto, e mostre novamente a quantidade de tokens únicos"
      ]
    },
    {
      "cell_type": "code",
      "metadata": {
        "id": "GBilc8-bBQw8",
        "colab": {
          "base_uri": "https://localhost:8080/"
        },
        "outputId": "7faf49fd-5aa8-4245-bdfd-1a1b65a46e38"
      },
      "source": [
        "from nltk.stem import SnowballStemmer\n",
        "\n",
        "# Inicialização do stemmer\n",
        "stemmer = SnowballStemmer('portuguese')\n",
        "\n",
        "# Aplicação do stemming em cada token do texto\n",
        "tokens_stemmed = [stemmer.stem(token) for token in tokens_nltk]\n",
        "\n",
        "# Quantidade de tokens únicos após o stemming\n",
        "qtde_tokens_stemmed_unicos = len(set(tokens_stemmed))\n",
        "print(\"Quantidade de tokens únicos após stemming:\", qtde_tokens_stemmed_unicos)"
      ],
      "execution_count": 50,
      "outputs": [
        {
          "output_type": "stream",
          "name": "stdout",
          "text": [
            "Quantidade de tokens únicos após stemming: 363\n"
          ]
        }
      ]
    },
    {
      "cell_type": "markdown",
      "metadata": {
        "id": "9D319SRcBRm-"
      },
      "source": [
        "### 6) Realize a normalização para lowercase e mostre novamente a quantidade de tokens únicos"
      ]
    },
    {
      "cell_type": "code",
      "metadata": {
        "id": "izOVY9hlBd9f",
        "colab": {
          "base_uri": "https://localhost:8080/"
        },
        "outputId": "495f1ea4-05a2-44d4-b993-89db52b1684f"
      },
      "source": [
        "# Converte o texto para minúsculas\n",
        "texto_lower = texto.lower()\n",
        "\n",
        "# Usa o tokenizador do NLTK para tokenizar o texto em minúsculas\n",
        "tokens_lower = word_tokenize(texto_lower)\n",
        "\n",
        "# Quantidade de tokens únicos após a normalização para minúsculas\n",
        "qtde_tokens_lower_unicos = len(set(tokens_lower))\n",
        "print(\"Quantidade de tokens únicos após a normalização para minúsculas:\", qtde_tokens_lower_unicos)"
      ],
      "execution_count": 51,
      "outputs": [
        {
          "output_type": "stream",
          "name": "stdout",
          "text": [
            "Quantidade de tokens únicos após a normalização para minúsculas: 396\n"
          ]
        }
      ]
    },
    {
      "cell_type": "markdown",
      "metadata": {
        "id": "t4aYjLH9BeVb"
      },
      "source": [
        "### 7) Realize a retirada de stop words (utilizando o conjunto do NLTK) e mostre a quantidade de tokens no texto"
      ]
    },
    {
      "cell_type": "code",
      "metadata": {
        "id": "ZUG9-6QiBq1f",
        "colab": {
          "base_uri": "https://localhost:8080/"
        },
        "outputId": "f9f665ad-b62e-4b63-d273-b8c30dad899d"
      },
      "source": [
        "from nltk.corpus import stopwords\n",
        "\n",
        "# Carrega as stop words para o idioma português\n",
        "stop_words = set(stopwords.words('portuguese'))\n",
        "\n",
        "# Remove as stop words do texto\n",
        "tokens_sem_stopwords = [token for token in tokens_nltk if token.lower() not in stop_words]\n",
        "\n",
        "# Quantidade de tokens no texto após a remoção das stop words\n",
        "qtde_tokens_sem_stopwords = len(tokens_sem_stopwords)\n",
        "print(\"Quantidade de tokens no texto após a remoção de stop words:\", qtde_tokens_sem_stopwords)"
      ],
      "execution_count": 52,
      "outputs": [
        {
          "output_type": "stream",
          "name": "stdout",
          "text": [
            "Quantidade de tokens no texto após a remoção de stop words: 559\n"
          ]
        }
      ]
    },
    {
      "cell_type": "markdown",
      "metadata": {
        "id": "xiQ10Ne-CYPR"
      },
      "source": [
        "### 8) Remova todas pontuações do texto (exceto quando estiver sendo usado como separador decimal)"
      ]
    },
    {
      "cell_type": "code",
      "metadata": {
        "id": "pF2hMR0sCssu",
        "colab": {
          "base_uri": "https://localhost:8080/"
        },
        "outputId": "52c38f5b-ae4e-4be5-f831-9d9add74a149"
      },
      "source": [
        "# Define expressão regular para remover as pontuações, exceto quando usadas como separador decimal em números\n",
        "texto_sem_pontuacoes = re.sub(r'(?<!\\d)[^\\w\\s.]+(?!\\.)', ' ', texto)\n",
        "\n",
        "# Exibe o texto sem pontuações\n",
        "print(\"Texto sem pontuações (exceto separadores decimais):\")\n",
        "print(texto_sem_pontuacoes)"
      ],
      "execution_count": 54,
      "outputs": [
        {
          "output_type": "stream",
          "name": "stdout",
          "text": [
            "Texto sem pontuações (exceto separadores decimais):\n",
            "A morte supersônica\n",
            "O Concorde era um avião incrível. Inclusive no quesito segurança. Até que  um dia  aconteceu algo que ninguém poderia prever.\n",
            "\n",
            "Com asas alongadas e viradas para trás  cabine bem estreita e bico fino   que deslizava para baixo durante o pouso  para melhorar a visibilidade do piloto   o Concorde é um dos aviões mais bonitos de todos os tempos. E um dos mais avançados também.\n",
            "\n",
            "Desenvolvido nos anos 1960 por um consórcio de empresas francesas e inglesas  que hoje se chama Airbus  ele foi um dos únicos dois aviões supersônicos a operar comercialmente  o outro foi o soviético Tupolev Tu 144). Tinha quatro motores ultrapotentes  que queimavam 25 mil litros de combustível por hora   quase o dobro de um Boeing 747   e viajava a 60 mil pés de altitude  20 mil a mais que os outros aviões. Usava tecnologias revolucionárias  como um sistema que desacelerava a passagem do ar dentro das turbinas  do contrário  elas explodiriam antes que o avião atingisse sua velocidade máxima). Tudo para alcançar a glória de voar a 2.179 km h  duas vezes a velocidade do som. É o dobro dos aviões comuns  e permitia atravessar o planeta com uma rapidez que até hoje impressiona   ir de Londres a Nova York em três horas  por exemplo.\n",
            "\n",
            "O Concorde começou a operar em 1976. Uma das primeiras linhas fazia o trajeto Paris Rio de Janeiro  com dois voos semanais. O público ficou maravilhado com a aeronave  mas voar nela era para poucos  as passagens eram ainda mais caras que as dos voos de primeira classe  e ultrapassavam US  10 mil em valores de hoje. Mas manter a frota de Concordes era ainda mais caro  e a British Airways e a Air France  que operavam os aviões  tinham prejuízo com eles. É que  para que os voos dessem lucro  cada avião precisava decolar com pelo menos 90% dos assentos ocupados  o que nem sempre acontecia  a linha brasileira tinha ocupação média de 50%  e por isso foi uma das primeiras a deixarem de existir  em 1982).\n",
            "\n",
            "Mesmo assim  ele continuou operando comercialmente  com voos ligando a Europa e os EUA  até o dia 25 de julho de 2000. Nesse dia  o Concorde F BTSC da Air France  um dos únicos 26 a serem produzidos  saiu do aeroporto Charles de Gaulle  em Paris  com destino a Nova York. Levava cem passageiros e nove tripulantes   e  descobriu se depois  estava sobrecarregado  com 810 kg a mais do que o peso máximo permitido. Na decolagem  aconteceu uma das cenas mais impressionantes da história da aviação. Durante a aceleração inicial  com o Concorde ainda no chão  um dos tanques de combustível explodiu. Os pilotos perceberam  mas já tinham percorrido boa parte da pista   só tinham mais 2 km  espaço insuficiente para frear o avião e abortar o voo com segurança. A única saída era tentar decolar   coisa que eles fizeram  com o Concorde pegando fogo.\n",
            "\n",
            "As consequências foram dramáticas. Os motores 1 e 2 pifaram  e com isso a aeronave foi se inclinando violentamente para o lado. Para tentar compensar isso  e forçar o Concorde ferido a voar reto  os pilotos desaceleraram os motores 3 e 4, do outro lado. O avião caiu logo depois  nas redondezas do aeroporto. Todos os ocupantes morreram  e também houve quatro vítimas fatais em solo  que foram atingidas por pedaços do avião. O acidente chocou o mundo e devastou a imagem do Concorde  que nunca havia enfrentado um acidente grave e até então era considerado um dos aviões mais seguros da história.\n",
            "\n",
            "A frota foi inspecionada e voltou a operar comercialmente. Mas aí  em 2001, aconteceram os atentados de 11 de Setembro  que deixaram as pessoas com medo de voar. O Concorde não teve nada a ver com eles  mas também foi afetado pela forte queda na venda de passagens aéreas. E se tornou  de uma vez por todas  economicamente inviável. Foi aposentado   com direito  apenas  a uma curta série de voos de despedida  para os fãs do avião  realizados pela British Airways em 2003.\n",
            "\n",
            "O verdadeiro culpado\n",
            "\n",
            "Como um relatório do governo francês constatou depois  o acidente fatal não aconteceu por defeitos no Concorde  nem pelo excesso de peso). Foi por causa de outro avião  um DC 10 da Continental Airlines  que decolou cinco minutos antes. Esse avião teve manutenção malfeita  e por isso soltou um pedaço de metal na pista. Era uma faixa de titânio  com 40 cm de comprimento e 3 cm de largura  que caiu de uma das turbinas. Ninguém percebeu  a peça ficou lá   e o Concorde passou bem por cima dela. Isso rasgou um de seus pneus  que estourou. A onda de choque rompeu um dos tanques de combustível do Concorde  detonando o incêndio que derrubou o avião.\n"
          ]
        }
      ]
    },
    {
      "cell_type": "markdown",
      "metadata": {
        "id": "zX0EkcqUC8VJ"
      },
      "source": [
        "### 9) Encontre todos os valores associados a unidades de medida no texto (e.g., cm, kg)"
      ]
    },
    {
      "cell_type": "code",
      "metadata": {
        "id": "ARakNa4uC8eU",
        "colab": {
          "base_uri": "https://localhost:8080/"
        },
        "outputId": "e940aa5e-a981-400e-c907-acd74b732844"
      },
      "source": [
        "# Define expressão regular para encontrar valores associados a unidades de medida\n",
        "padrao_unidades = r'\\d+(?:\\.\\d+)?\\s*(cm|mm|m|km|g|kg|mg|ml|l|Hz|kHz|MHz|GHz)'\n",
        "\n",
        "# Encontra todos os valores associados a unidades de medida no texto\n",
        "valores_unidades = re.findall(padrao_unidades, texto)\n",
        "\n",
        "# Exibe os valores associados a unidades de medida encontrados\n",
        "print(\"Valores associados a unidades de medida no texto:\")\n",
        "print(valores_unidades)"
      ],
      "execution_count": 55,
      "outputs": [
        {
          "output_type": "stream",
          "name": "stdout",
          "text": [
            "Valores associados a unidades de medida no texto:\n",
            "['m', 'm', 'm', 'km', 'm', 'kg', 'km', 'cm', 'cm']\n"
          ]
        }
      ]
    },
    {
      "cell_type": "markdown",
      "metadata": {
        "id": "N7wxuI7fF7e-"
      },
      "source": [
        "### 10) Realize o treinamento do BigramTagger e do TnT tagger usando o corpus Floresta disponível no NLTK. Após o treinamento realize o tageamento do texto."
      ]
    },
    {
      "cell_type": "code",
      "metadata": {
        "id": "UMM_a2lqGMLa",
        "colab": {
          "base_uri": "https://localhost:8080/"
        },
        "outputId": "86a663c7-6c90-424f-ba63-ee2ee3d6adea"
      },
      "source": [
        "from nltk.corpus import floresta\n",
        "\n",
        "# Carregar o corpus Floresta\n",
        "corpus_floresta = floresta.tagged_sents()\n",
        "corpus_floresta"
      ],
      "execution_count": 56,
      "outputs": [
        {
          "output_type": "execute_result",
          "data": {
            "text/plain": [
              "[[('Um', '>N+art'), ('revivalismo', 'H+n'), ('refrescante', 'N<+adj')], [('O', '>N+art'), ('7_e_Meio', 'H+prop'), ('é', 'P+v-fin'), ('um', '>N+art'), ('ex-libris', 'H+n'), ('de', 'H+prp'), ('a', '>N+art'), ('noite', 'H+n'), ('algarvia', 'N<+adj'), ('.', '.')], ...]"
            ]
          },
          "metadata": {},
          "execution_count": 56
        }
      ]
    },
    {
      "cell_type": "code",
      "source": [
        "# Obtém as sentenças taggeadas do corpus Floresta\n",
        "tagged_sents_floresta = floresta.tagged_sents()\n",
        "\n",
        "# Divide em duas partes: uma maior para TREINAMENTO e outra menor para TESTE\n",
        "train_floresta = tagged_sents_floresta[100:]  # Todas as sentenças após as 100 primeiras\n",
        "test_floresta = tagged_sents_floresta[:100]  # Pega todas as sentenças até a centésima\n",
        "\n",
        "# Mostra as sentenças taggeadas do corpus Floresta\n",
        "tagged_sents_floresta"
      ],
      "metadata": {
        "colab": {
          "base_uri": "https://localhost:8080/"
        },
        "id": "UEQ7m3BgLl12",
        "outputId": "f436c046-ef0d-4a83-81c6-92b156044e01"
      },
      "execution_count": 70,
      "outputs": [
        {
          "output_type": "execute_result",
          "data": {
            "text/plain": [
              "[[('Um', '>N+art'), ('revivalismo', 'H+n'), ('refrescante', 'N<+adj')], [('O', '>N+art'), ('7_e_Meio', 'H+prop'), ('é', 'P+v-fin'), ('um', '>N+art'), ('ex-libris', 'H+n'), ('de', 'H+prp'), ('a', '>N+art'), ('noite', 'H+n'), ('algarvia', 'N<+adj'), ('.', '.')], ...]"
            ]
          },
          "metadata": {},
          "execution_count": 70
        }
      ]
    },
    {
      "cell_type": "code",
      "source": [
        "# Treinamento do BigramTagger\n",
        "bigram_tagger_floresta = BigramTagger(train_floresta)\n",
        "\n",
        "# Avaliação do desempenho do BigramTagger no conjunto de teste\n",
        "print(\"Desempenho do BigramTagger no conjunto de teste:\", bigram_tagger_floresta.accuracy(test_floresta))"
      ],
      "metadata": {
        "colab": {
          "base_uri": "https://localhost:8080/"
        },
        "id": "VPa0eDzqLFgN",
        "outputId": "91f0c003-9d02-4637-eba2-112dfeca7aa8"
      },
      "execution_count": 71,
      "outputs": [
        {
          "output_type": "stream",
          "name": "stdout",
          "text": [
            "Desempenho do BigramTagger no conjunto de teste: 0.09132906894100924\n"
          ]
        }
      ]
    },
    {
      "cell_type": "code",
      "source": [
        "# Treinamento do TnT tagger\n",
        "tnt_tagger_floresta = tnt.TnT()\n",
        "tnt_tagger_floresta.train(train_floresta)\n",
        "\n",
        "# Avaliação do desempenho do TnT tagger no conjunto de teste\n",
        "print(\"Desempenho do TnT tagger no conjunto de teste:\", tnt_tagger_floresta.accuracy(test_floresta))"
      ],
      "metadata": {
        "colab": {
          "base_uri": "https://localhost:8080/"
        },
        "id": "7LhrY5tgQdpe",
        "outputId": "066d5e6c-b781-4877-bdfa-920e09592184"
      },
      "execution_count": 72,
      "outputs": [
        {
          "output_type": "stream",
          "name": "stdout",
          "text": [
            "Desempenho do TnT tagger no conjunto de teste: 0.8333333333333334\n"
          ]
        }
      ]
    },
    {
      "cell_type": "code",
      "source": [
        "# Texto para realizar o tagging\n",
        "texto = \"Esta é uma frase de exemplo para fazer o etiquetar.\"\n",
        "\n",
        "# Tokenização do texto\n",
        "tokens_texto = word_tokenize(texto)\n",
        "tokens_texto"
      ],
      "metadata": {
        "colab": {
          "base_uri": "https://localhost:8080/"
        },
        "id": "T47MkYGCLFdW",
        "outputId": "ca8f6d47-d0dc-4131-ad44-f8695d164288"
      },
      "execution_count": 96,
      "outputs": [
        {
          "output_type": "execute_result",
          "data": {
            "text/plain": [
              "['Esta',\n",
              " 'é',\n",
              " 'uma',\n",
              " 'frase',\n",
              " 'de',\n",
              " 'exemplo',\n",
              " 'para',\n",
              " 'fazer',\n",
              " 'o',\n",
              " 'etiquetar',\n",
              " '.']"
            ]
          },
          "metadata": {},
          "execution_count": 96
        }
      ]
    },
    {
      "cell_type": "code",
      "source": [
        "# Realizar o tagging do texto com o BigramTagger\n",
        "tags_bigram = bigram_tagger_floresta.tag(tokens_texto)\n",
        "\n",
        "# Imprime as palavras e suas etiquetas de forma mais legível\n",
        "print(\"Tagging do texto com o BigramTagger:\")\n",
        "for word, tag in tags_bigram:\n",
        "    print(f\"{word} - {tag}\")"
      ],
      "metadata": {
        "colab": {
          "base_uri": "https://localhost:8080/"
        },
        "id": "3NcYKWRhh5mv",
        "outputId": "75615a81-e080-488e-c261-54ed1944f9b1"
      },
      "execution_count": 97,
      "outputs": [
        {
          "output_type": "stream",
          "name": "stdout",
          "text": [
            "Tagging do texto com o BigramTagger:\n",
            "Esta - >N+pron-det\n",
            "é - None\n",
            "uma - None\n",
            "frase - None\n",
            "de - None\n",
            "exemplo - None\n",
            "para - None\n",
            "fazer - None\n",
            "o - None\n",
            "etiquetar - None\n",
            ". - None\n"
          ]
        }
      ]
    },
    {
      "cell_type": "code",
      "source": [
        "# Realizar o tagging do texto com o TnT tagger\n",
        "tags_tnt = tnt_tagger_floresta.tag(tokens_texto)\n",
        "\n",
        "# Imprime as palavras e suas etiquetas de forma mais legível\n",
        "print(\"Tagging do texto com o BigramTagger:\")\n",
        "for word, tag in tags_tnt:\n",
        "    print(f\"{word} - {tag}\")"
      ],
      "metadata": {
        "colab": {
          "base_uri": "https://localhost:8080/"
        },
        "id": "F84qcTawi2Ru",
        "outputId": "0130e6f2-82bf-4212-d43d-4397d2a8d2ee"
      },
      "execution_count": 98,
      "outputs": [
        {
          "output_type": "stream",
          "name": "stdout",
          "text": [
            "Tagging do texto com o BigramTagger:\n",
            "Esta - SUBJ+pron-det\n",
            "é - P+v-fin\n",
            "uma - >N+art\n",
            "frase - H+n\n",
            "de - H+prp\n",
            "exemplo - H+n\n",
            "para - H+prp\n",
            "fazer - P+v-inf\n",
            "o - >N+art\n",
            "etiquetar - Unk\n",
            ". - .\n"
          ]
        }
      ]
    },
    {
      "cell_type": "markdown",
      "metadata": {
        "id": "nEsHdjZYIEiH"
      },
      "source": [
        "### 11) Crie uma expressão regular para obter no nome de todas pontifícias univerdades católicas do texto a seguir."
      ]
    },
    {
      "cell_type": "code",
      "metadata": {
        "id": "ZYfa8OrDIbCC"
      },
      "source": [
        "textoUniv = \"\"\"A seguir uma lista de todas pontifícias universidades católicas no Brasil.\n",
        "- Pontifícia Universidade Católica do Rio de Janeiro\n",
        "- Pontifícia Universidade Católica de São Paulo\n",
        "- Pontifícia Universidade Católica de Campinas\n",
        "- Pontifícia Universidade Católica de Minas Gerais\n",
        "- Pontifícia Universidade Católica do Rio Grande do Sul\n",
        "- Pontifícia Universidade Católica do Paraná\n",
        "- Pontifícia Universidade Católica de Goiás\n",
        "\n",
        "Todas estas universidades são mantidas pela Igreja Católica.\"\"\""
      ],
      "execution_count": 100,
      "outputs": []
    },
    {
      "cell_type": "code",
      "source": [
        "# Expressão regular para encontrar os nomes das universidades\n",
        "padrao = r\"Pontifícia Universidade Católica [^\\n]+\"\n",
        "\n",
        "# Encontrar todas as correspondências\n",
        "nomes_universidades = re.findall(padrao, textoUniv)\n",
        "\n",
        "# Imprimir os nomes das universidades\n",
        "for nome in nomes_universidades:\n",
        "    print(nome)"
      ],
      "metadata": {
        "colab": {
          "base_uri": "https://localhost:8080/"
        },
        "id": "z5pPm9Lsj-zj",
        "outputId": "2ae15e38-086b-4002-f290-63aa41ac45f7"
      },
      "execution_count": 101,
      "outputs": [
        {
          "output_type": "stream",
          "name": "stdout",
          "text": [
            "Pontifícia Universidade Católica do Rio de Janeiro\n",
            "Pontifícia Universidade Católica de São Paulo\n",
            "Pontifícia Universidade Católica de Campinas\n",
            "Pontifícia Universidade Católica de Minas Gerais\n",
            "Pontifícia Universidade Católica do Rio Grande do Sul\n",
            "Pontifícia Universidade Católica do Paraná\n",
            "Pontifícia Universidade Católica de Goiás\n"
          ]
        }
      ]
    },
    {
      "cell_type": "markdown",
      "metadata": {
        "id": "jeNlNQW3J2WS"
      },
      "source": [
        "### 12) Monte no PANDAS uma tabela de frequencia dos TOP 10 tokens"
      ]
    },
    {
      "cell_type": "code",
      "metadata": {
        "id": "P7OF2IQuJ_xD",
        "colab": {
          "base_uri": "https://localhost:8080/"
        },
        "outputId": "c6c6600e-fd3e-4ee6-96f4-e560ac5679d1"
      },
      "source": [
        "import pandas as pd\n",
        "\n",
        "# Tokenização e remoção de stopwords\n",
        "tokens = word_tokenize(textoUniv.lower(), language='portuguese')\n",
        "filtered_tokens = [word for word in tokens if word.isalpha() and word not in stopwords.words('portuguese')]\n",
        "\n",
        "# Contagem de frequência das palavras\n",
        "word_freq = Counter(filtered_tokens)\n",
        "\n",
        "# Criação do DataFrame\n",
        "df = pd.DataFrame(word_freq.most_common(10), columns=['Token', 'Frequência'])\n",
        "\n",
        "# Imprime a tabela de frequência dos TOP 10 tokens\n",
        "print(df)"
      ],
      "execution_count": 103,
      "outputs": [
        {
          "output_type": "stream",
          "name": "stdout",
          "text": [
            "           Token  Frequência\n",
            "0       católica           8\n",
            "1     pontifícia           7\n",
            "2   universidade           7\n",
            "3          todas           2\n",
            "4  universidades           2\n",
            "5            rio           2\n",
            "6         seguir           1\n",
            "7          lista           1\n",
            "8    pontifícias           1\n",
            "9      católicas           1\n"
          ]
        }
      ]
    },
    {
      "cell_type": "markdown",
      "metadata": {
        "id": "vjofL9EbKBjx"
      },
      "source": [
        "### 13) Apresente um gráfico baseado na tabelas acima"
      ]
    },
    {
      "cell_type": "code",
      "metadata": {
        "id": "xDlyBaMFKAwI",
        "colab": {
          "base_uri": "https://localhost:8080/",
          "height": 607
        },
        "outputId": "935717ad-2158-41ee-b1f0-f85c34a09de5"
      },
      "source": [
        "import matplotlib.pyplot as plt\n",
        "\n",
        "# Dados da tabela de frequência (exemplo)\n",
        "tokens = ['universidade', 'católica', 'pontifícia', 'são', 'paulo', 'rio', 'janeiro', 'campinas', 'minas', 'gerais']\n",
        "frequencia = [7, 7, 7, 2, 1, 1, 1, 1, 1, 1]\n",
        "\n",
        "# Criar o gráfico de barras\n",
        "plt.figure(figsize=(10, 6))\n",
        "plt.bar(tokens, frequencia, color='skyblue')\n",
        "plt.xlabel('Tokens')\n",
        "plt.ylabel('Frequência')\n",
        "plt.title('Top 10 Tokens Mais Frequentes')\n",
        "plt.xticks(rotation=45, ha='right')\n",
        "\n",
        "# Exibir o gráfico\n",
        "plt.tight_layout()\n",
        "plt.show()"
      ],
      "execution_count": 104,
      "outputs": [
        {
          "output_type": "display_data",
          "data": {
            "text/plain": [
              "<Figure size 1000x600 with 1 Axes>"
            ],
            "image/png": "[encoded data removed]"
          },
          "metadata": {}
        }
      ]
    },
    {
      "cell_type": "markdown",
      "metadata": {
        "id": "mUx9tY455Dkw"
      },
      "source": [
        "## Referências e Material complementar\n",
        "\n",
        "*   [Natural Language Processing with Python – Analyzing Text with the Natural Language Toolkit](https://www.nltk.org/book/)\n",
        "*   [Stanford - Information Retrieval Book - Chapter 2](https://nlp.stanford.edu/IR-book/)\n",
        "*   [Técnicas de pré-processamento de Texto - Prof. Fernando Vieira da Silva](https://www.kaggle.com/fernandojvdasilva/aplica-es-em-nlp-aula-02)\n",
        "*   [101 NLP Exercises (using modern libraries)](https://www.machinelearningplus.com/nlp/nlp-exercises/)\n"
      ]
    },
    {
      "cell_type": "markdown",
      "metadata": {
        "id": "sp_cyslKrPuU"
      },
      "source": [
        "Este notebook foi produzido por Prof. [Lucas Oliveira](http://lattes.cnpq.br/3611246009892500) e revisado por Carla Edila Silveira."
      ]
    }
  ]
}