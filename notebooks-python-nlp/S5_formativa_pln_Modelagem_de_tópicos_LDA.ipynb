{
  "nbformat": 4,
  "nbformat_minor": 0,
  "metadata": {
    "colab": {
      "provenance": []
    },
    "kernelspec": {
      "name": "python3",
      "display_name": "Python 3"
    }
  },
  "cells": [
    {
      "cell_type": "markdown",
      "metadata": {
        "id": "jd0xl83ec2Qq"
      },
      "source": [
        "# Modelagem de tópicos – *Latent Dirichlet Allocation (LDA)*\n",
        "## Processamento de Linguagem Natural\n",
        "Nesta aula trabalharemos com uma tarefa de PLN muito popular, a Modelagem de Tópicos. O objetivo é que ao final desta aula você:\n",
        "1. Entenda o que é a Modelagem de tópicos\n",
        "2. O que a diferencia de outras técnicas?\n",
        "3. Compreenda e aplique o algoritmo *Latent Dirichlet Allocation (**LDA**)*"
      ]
    },
    {
      "cell_type": "markdown",
      "metadata": {
        "id": "YsjLryLKfG_O"
      },
      "source": [
        "### **O que é Modelagem de tópicos?**\n",
        "\n",
        "É um modelo estatístico para descobrir \"tópicos\" que ocorrem em uma coleção de documentos.\n",
        "\n",
        "Uma ferramenta de modelagem de tópicos tenta \"injetar\" significado semântico ao **procurar padrões de uso de palavras em meio ao texto**. Para o computador, um tópico é uma lista de palavras que ocorrem em jeitos estatísticamente significativos.\n",
        "\n",
        "Estes algoritmos não entendem o significado das palavras, eles apenas assumem que qualquer pedaço de texto é composto ao selecionarmos palavras de cestos de palavras, onde **cada cesto corresponde a um tópico**. Neste caso então, é possível decompor o texto em prováveis cestos de onde as palarvas vieram.\n",
        "\n",
        "\n",
        "![LDA - Topic Modeling - Probabilistic\n",
        "Topic Models - Blei, 2012](https://docs.google.com/uc?export=download&id=1wpyDoKwzJ8ynMmB_eM3ryG4mfjeNy0-X)"
      ]
    },
    {
      "cell_type": "markdown",
      "metadata": {
        "id": "R7osyBY8fKhx"
      },
      "source": [
        "#### O TF-IDF também consegue identificar *keywords*, então qual a diferença entre as duas técnicas?\n",
        "\n",
        "Apesar das duas técnicas conseguirem isolar e rankear termos importantes em um documento, as duas são muito diferentes entre si.\n",
        "\n",
        "O **TF-IDF** por exemplo, é mais apropriado quando você quer uma visão ampla do seu corpus ainda na fase de **análise exploratória dos dados**, pois o algoritmo é transparente em suas pontuações e pode ser facilmente replicável.\n",
        "\n",
        "É importante lembrar, que **os tópicos gerados na modelagem de tópicos nem sempre serão coerentes**. Mesmo assim, a modelagem de tópicos também pode ser útil para explorar os dados, pois conseguem sugerir categorias amplas ou clusters de textos dentro da coleção.\n",
        "\n",
        "Os modelos de tópicos são especialmente atraentes porque os documentos recebem pontuações de como eles se encaixam em cada tópico e porque os tópicos são representados como listas de termos co-ocorrentes, o que **fornece um forte senso de como os termos se relacionam com os agrupamentos**. No entanto, o modelo probabilístico por trás dos modelos de tópicos é sofisticado e é fácil distorcer seus resultados se você não entender o que está fazendo. Já a matemática por trás do tf-idf é simples o suficiente para ser representada em uma planilha.\n",
        "\n",
        "\n",
        "\n"
      ]
    },
    {
      "cell_type": "markdown",
      "metadata": {
        "id": "XLybFFfFVPZF"
      },
      "source": [
        "#### Mas quando usar Modelagem de tópicos então?\n",
        "\n",
        "Antes de utilizar, você deve entender a real utilidade desta técnica. Por exemplo, se você terá acesso a uma pequena coleção de documentos, ou até mesmo um único documento, basta utilizar algo que conte a frequência das palavras (BoW, TF-IDF) que será o suficiente.\n",
        "\n",
        "Já se você tem acesso a **centenas de documentos**, e deseja **compreender** melhor do que se tratam tais dados sem ter de realizar a leitura destes documentos, então a **Modelagem de tópicos provavelmente seja uma boa abordagem**."
      ]
    },
    {
      "cell_type": "markdown",
      "metadata": {
        "id": "0xZkBAVKWQms"
      },
      "source": [
        "##### Exemplo\n",
        "\n",
        "Um exemplo seria a análise de discursos de um político, onde o algoritmo poderia retornar uma lista de tópicos e palavras-chave que compõe estes tópicos.\n",
        "\n",
        "- *emprego empregos perda desemprego*\n",
        "- *economia mercado banco moeda*\n",
        "- *covid pandemia gripe quarentena*\n",
        "- *pt lula dilma esquerda*\n",
        "\n",
        "Ao verificar estas palavras-chave conseguimos verificar que o político em questão está preocupado com empregos, economia, a pandemia e com a esquerda."
      ]
    },
    {
      "cell_type": "markdown",
      "metadata": {
        "id": "evmz97QofQ_f"
      },
      "source": [
        "### **Latent Dirichlet Allocation (LDA)**"
      ]
    },
    {
      "cell_type": "markdown",
      "metadata": {
        "id": "JOX8sKkzl5eX"
      },
      "source": [
        "Latent Dirichlet Allocation (LDA) é o método mais popular para\n",
        "modelagem de tópicos. Baseia-se na distribuição probabilística do matemático Dirichlet. O LDA segue as seguintes intuiçoes:\n",
        "- Documentos com tópicos similares usam grupos similares de palavras\n",
        "- Tópicos podem então ser achados ao buscarmos grupos de palavras que acontecem juntas frequentemente em documentos do corpus"
      ]
    },
    {
      "cell_type": "markdown",
      "metadata": {
        "id": "Pm6WttgJUVVk"
      },
      "source": [
        "#### Dados\n",
        "Nós usaremos os dados de notícias disponíveis na própria biblioteca sklearn. As notícias são em inglês, mas o código funciona exatamante da mesma maneira caso usemos em pt-br."
      ]
    },
    {
      "cell_type": "code",
      "metadata": {
        "id": "i1zu2ccKShJE",
        "colab": {
          "base_uri": "https://localhost:8080/"
        },
        "outputId": "597000c1-e7a0-4482-a2c9-14ddaaadc80b"
      },
      "source": [
        "from sklearn.datasets import fetch_20newsgroups\n",
        "\n",
        "dataset = fetch_20newsgroups(shuffle=True, random_state=1, remove=('headers', 'footers', 'quotes'))\n",
        "documents = dataset.data\n",
        "# Imprime o tamanho do dataset\n",
        "len(documents)"
      ],
      "execution_count": null,
      "outputs": [
        {
          "output_type": "execute_result",
          "data": {
            "text/plain": [
              "11314"
            ]
          },
          "metadata": {},
          "execution_count": 1
        }
      ]
    },
    {
      "cell_type": "code",
      "metadata": {
        "id": "OvzA54GsUyu1",
        "colab": {
          "base_uri": "https://localhost:8080/"
        },
        "outputId": "e7b17a5a-4d81-4a02-ce7b-1d512933d9a6"
      },
      "source": [
        "# Imprime os grupos de notícias\n",
        "dataset.target_names"
      ],
      "execution_count": null,
      "outputs": [
        {
          "output_type": "execute_result",
          "data": {
            "text/plain": [
              "['alt.atheism',\n",
              " 'comp.graphics',\n",
              " 'comp.os.ms-windows.misc',\n",
              " 'comp.sys.ibm.pc.hardware',\n",
              " 'comp.sys.mac.hardware',\n",
              " 'comp.windows.x',\n",
              " 'misc.forsale',\n",
              " 'rec.autos',\n",
              " 'rec.motorcycles',\n",
              " 'rec.sport.baseball',\n",
              " 'rec.sport.hockey',\n",
              " 'sci.crypt',\n",
              " 'sci.electronics',\n",
              " 'sci.med',\n",
              " 'sci.space',\n",
              " 'soc.religion.christian',\n",
              " 'talk.politics.guns',\n",
              " 'talk.politics.mideast',\n",
              " 'talk.politics.misc',\n",
              " 'talk.religion.misc']"
            ]
          },
          "metadata": {},
          "execution_count": 2
        }
      ]
    },
    {
      "cell_type": "markdown",
      "metadata": {
        "id": "wZHPVacDVH6T"
      },
      "source": [
        "#### Pré-processamento"
      ]
    },
    {
      "cell_type": "code",
      "metadata": {
        "id": "IfiQOpIRVIB3"
      },
      "source": [
        "import pandas as pd\n",
        "\n",
        "noticiasDf = pd.DataFrame({'documento':documents})\n",
        "\n",
        "# Remove tudo que não seja letra\n",
        "noticiasDf['documento_limpo'] = noticiasDf['documento'].str.replace(\"[^a-zA-Z#]\", \" \")\n",
        "\n",
        "# Remove palavras curtas\n",
        "noticiasDf['documento_limpo'] = noticiasDf['documento_limpo'].apply(lambda x: ' '.join([w for w in x.split() if len(w)>3]))\n",
        "\n",
        "# Transforma tudo em minúsculas\n",
        "noticiasDf['documento_limpo'] = noticiasDf['documento_limpo'].apply(lambda x: x.lower())"
      ],
      "execution_count": null,
      "outputs": []
    },
    {
      "cell_type": "markdown",
      "metadata": {
        "id": "iRI5tUCpWKpa"
      },
      "source": [
        "\n",
        "\n",
        "> **PERGUNTA**: Por que você acha que estas ações podem ser úteis?\n",
        "Ajuda na redução da dimensionalidade, diminiu o tamanho doi vocabulário, pode ser ruim por retirar informações relevantes, como a marca HP em texto do domínio de TI.\n",
        "\n"
      ]
    },
    {
      "cell_type": "code",
      "metadata": {
        "id": "a4AIV2r2VnEj",
        "colab": {
          "base_uri": "https://localhost:8080/",
          "height": 423
        },
        "outputId": "7eba7c43-6eca-414a-f48f-606932c7751c"
      },
      "source": [
        "noticiasDf\n",
        "# Saida de texto comum e texto limpo"
      ],
      "execution_count": null,
      "outputs": [
        {
          "output_type": "execute_result",
          "data": {
            "text/plain": [
              "                                               documento  \\\n",
              "0      Well i'm not sure about the story nad it did s...   \n",
              "1      \\n\\n\\n\\n\\n\\n\\nYeah, do you expect people to re...   \n",
              "2      Although I realize that principle is not one o...   \n",
              "3      Notwithstanding all the legitimate fuss about ...   \n",
              "4      Well, I will have to change the scoring on my ...   \n",
              "...                                                  ...   \n",
              "11309  Danny Rubenstein, an Israeli journalist, will ...   \n",
              "11310                                                 \\n   \n",
              "11311  \\nI agree.  Home runs off Clemens are always m...   \n",
              "11312  I used HP DeskJet with Orange Micros Grappler ...   \n",
              "11313                                        ^^^^^^\\n...   \n",
              "\n",
              "                                         documento_limpo  \n",
              "0      well sure about story seem biased. what disagr...  \n",
              "1      yeah, expect people read faq, etc. actually ac...  \n",
              "2      although realize that principle your strongest...  \n",
              "3      notwithstanding legitimate fuss about this pro...  \n",
              "4      well, will have change scoring playoff pool. u...  \n",
              "...                                                  ...  \n",
              "11309  danny rubenstein, israeli journalist, will spe...  \n",
              "11310                                                     \n",
              "11311  agree. home runs clemens always memorable. kin...  \n",
              "11312  used deskjet with orange micros grappler syste...  \n",
              "11313  ^^^^^^ argument with murphy. scared hell when ...  \n",
              "\n",
              "[11314 rows x 2 columns]"
            ],
            "text/html": [
              "\n",
              "  <div id=\"df-84d78836-e640-4820-a9ef-bbd183c2f20b\" class=\"colab-df-container\">\n",
              "    <div>\n",
              "<style scoped>\n",
              "    .dataframe tbody tr th:only-of-type {\n",
              "        vertical-align: middle;\n",
              "    }\n",
              "\n",
              "    .dataframe tbody tr th {\n",
              "        vertical-align: top;\n",
              "    }\n",
              "\n",
              "    .dataframe thead th {\n",
              "        text-align: right;\n",
              "    }\n",
              "</style>\n",
              "<table border=\"1\" class=\"dataframe\">\n",
              "  <thead>\n",
              "    <tr style=\"text-align: right;\">\n",
              "      <th></th>\n",
              "      <th>documento</th>\n",
              "      <th>documento_limpo</th>\n",
              "    </tr>\n",
              "  </thead>\n",
              "  <tbody>\n",
              "    <tr>\n",
              "      <th>0</th>\n",
              "      <td>Well i'm not sure about the story nad it did s...</td>\n",
              "      <td>well sure about story seem biased. what disagr...</td>\n",
              "    </tr>\n",
              "    <tr>\n",
              "      <th>1</th>\n",
              "      <td>\\n\\n\\n\\n\\n\\n\\nYeah, do you expect people to re...</td>\n",
              "      <td>yeah, expect people read faq, etc. actually ac...</td>\n",
              "    </tr>\n",
              "    <tr>\n",
              "      <th>2</th>\n",
              "      <td>Although I realize that principle is not one o...</td>\n",
              "      <td>although realize that principle your strongest...</td>\n",
              "    </tr>\n",
              "    <tr>\n",
              "      <th>3</th>\n",
              "      <td>Notwithstanding all the legitimate fuss about ...</td>\n",
              "      <td>notwithstanding legitimate fuss about this pro...</td>\n",
              "    </tr>\n",
              "    <tr>\n",
              "      <th>4</th>\n",
              "      <td>Well, I will have to change the scoring on my ...</td>\n",
              "      <td>well, will have change scoring playoff pool. u...</td>\n",
              "    </tr>\n",
              "    <tr>\n",
              "      <th>...</th>\n",
              "      <td>...</td>\n",
              "      <td>...</td>\n",
              "    </tr>\n",
              "    <tr>\n",
              "      <th>11309</th>\n",
              "      <td>Danny Rubenstein, an Israeli journalist, will ...</td>\n",
              "      <td>danny rubenstein, israeli journalist, will spe...</td>\n",
              "    </tr>\n",
              "    <tr>\n",
              "      <th>11310</th>\n",
              "      <td>\\n</td>\n",
              "      <td></td>\n",
              "    </tr>\n",
              "    <tr>\n",
              "      <th>11311</th>\n",
              "      <td>\\nI agree.  Home runs off Clemens are always m...</td>\n",
              "      <td>agree. home runs clemens always memorable. kin...</td>\n",
              "    </tr>\n",
              "    <tr>\n",
              "      <th>11312</th>\n",
              "      <td>I used HP DeskJet with Orange Micros Grappler ...</td>\n",
              "      <td>used deskjet with orange micros grappler syste...</td>\n",
              "    </tr>\n",
              "    <tr>\n",
              "      <th>11313</th>\n",
              "      <td>^^^^^^\\n...</td>\n",
              "      <td>^^^^^^ argument with murphy. scared hell when ...</td>\n",
              "    </tr>\n",
              "  </tbody>\n",
              "</table>\n",
              "<p>11314 rows × 2 columns</p>\n",
              "</div>\n",
              "    <div class=\"colab-df-buttons\">\n",
              "\n",
              "  <div class=\"colab-df-container\">\n",
              "    <button class=\"colab-df-convert\" onclick=\"convertToInteractive('df-84d78836-e640-4820-a9ef-bbd183c2f20b')\"\n",
              "            title=\"Convert this dataframe to an interactive table.\"\n",
              "            style=\"display:none;\">\n",
              "\n",
              "  <svg xmlns=\"http://www.w3.org/2000/svg\" height=\"24px\" viewBox=\"0 -960 960 960\">\n",
              "    <path d=\"M120-120v-720h720v720H120Zm60-500h600v-160H180v160Zm220 220h160v-160H400v160Zm0 220h160v-160H400v160ZM180-400h160v-160H180v160Zm440 0h160v-160H620v160ZM180-180h160v-160H180v160Zm440 0h160v-160H620v160Z\"/>\n",
              "  </svg>\n",
              "    </button>\n",
              "\n",
              "  <style>\n",
              "    .colab-df-container {\n",
              "      display:flex;\n",
              "      gap: 12px;\n",
              "    }\n",
              "\n",
              "    .colab-df-convert {\n",
              "      background-color: #E8F0FE;\n",
              "      border: none;\n",
              "      border-radius: 50%;\n",
              "      cursor: pointer;\n",
              "      display: none;\n",
              "      fill: #1967D2;\n",
              "      height: 32px;\n",
              "      padding: 0 0 0 0;\n",
              "      width: 32px;\n",
              "    }\n",
              "\n",
              "    .colab-df-convert:hover {\n",
              "      background-color: #E2EBFA;\n",
              "      box-shadow: 0px 1px 2px rgba(60, 64, 67, 0.3), 0px 1px 3px 1px rgba(60, 64, 67, 0.15);\n",
              "      fill: #174EA6;\n",
              "    }\n",
              "\n",
              "    .colab-df-buttons div {\n",
              "      margin-bottom: 4px;\n",
              "    }\n",
              "\n",
              "    [theme=dark] .colab-df-convert {\n",
              "      background-color: #3B4455;\n",
              "      fill: #D2E3FC;\n",
              "    }\n",
              "\n",
              "    [theme=dark] .colab-df-convert:hover {\n",
              "      background-color: #434B5C;\n",
              "      box-shadow: 0px 1px 3px 1px rgba(0, 0, 0, 0.15);\n",
              "      filter: drop-shadow(0px 1px 2px rgba(0, 0, 0, 0.3));\n",
              "      fill: #FFFFFF;\n",
              "    }\n",
              "  </style>\n",
              "\n",
              "    <script>\n",
              "      const buttonEl =\n",
              "        document.querySelector('#df-84d78836-e640-4820-a9ef-bbd183c2f20b button.colab-df-convert');\n",
              "      buttonEl.style.display =\n",
              "        google.colab.kernel.accessAllowed ? 'block' : 'none';\n",
              "\n",
              "      async function convertToInteractive(key) {\n",
              "        const element = document.querySelector('#df-84d78836-e640-4820-a9ef-bbd183c2f20b');\n",
              "        const dataTable =\n",
              "          await google.colab.kernel.invokeFunction('convertToInteractive',\n",
              "                                                    [key], {});\n",
              "        if (!dataTable) return;\n",
              "\n",
              "        const docLinkHtml = 'Like what you see? Visit the ' +\n",
              "          '<a target=\"_blank\" href=https://colab.research.google.com/notebooks/data_table.ipynb>data table notebook</a>'\n",
              "          + ' to learn more about interactive tables.';\n",
              "        element.innerHTML = '';\n",
              "        dataTable['output_type'] = 'display_data';\n",
              "        await google.colab.output.renderOutput(dataTable, element);\n",
              "        const docLink = document.createElement('div');\n",
              "        docLink.innerHTML = docLinkHtml;\n",
              "        element.appendChild(docLink);\n",
              "      }\n",
              "    </script>\n",
              "  </div>\n",
              "\n",
              "\n",
              "<div id=\"df-de603036-4cc1-491e-8694-186211df2fed\">\n",
              "  <button class=\"colab-df-quickchart\" onclick=\"quickchart('df-de603036-4cc1-491e-8694-186211df2fed')\"\n",
              "            title=\"Suggest charts\"\n",
              "            style=\"display:none;\">\n",
              "\n",
              "<svg xmlns=\"http://www.w3.org/2000/svg\" height=\"24px\"viewBox=\"0 0 24 24\"\n",
              "     width=\"24px\">\n",
              "    <g>\n",
              "        <path d=\"M19 3H5c-1.1 0-2 .9-2 2v14c0 1.1.9 2 2 2h14c1.1 0 2-.9 2-2V5c0-1.1-.9-2-2-2zM9 17H7v-7h2v7zm4 0h-2V7h2v10zm4 0h-2v-4h2v4z\"/>\n",
              "    </g>\n",
              "</svg>\n",
              "  </button>\n",
              "\n",
              "<style>\n",
              "  .colab-df-quickchart {\n",
              "      --bg-color: #E8F0FE;\n",
              "      --fill-color: #1967D2;\n",
              "      --hover-bg-color: #E2EBFA;\n",
              "      --hover-fill-color: #174EA6;\n",
              "      --disabled-fill-color: #AAA;\n",
              "      --disabled-bg-color: #DDD;\n",
              "  }\n",
              "\n",
              "  [theme=dark] .colab-df-quickchart {\n",
              "      --bg-color: #3B4455;\n",
              "      --fill-color: #D2E3FC;\n",
              "      --hover-bg-color: #434B5C;\n",
              "      --hover-fill-color: #FFFFFF;\n",
              "      --disabled-bg-color: #3B4455;\n",
              "      --disabled-fill-color: #666;\n",
              "  }\n",
              "\n",
              "  .colab-df-quickchart {\n",
              "    background-color: var(--bg-color);\n",
              "    border: none;\n",
              "    border-radius: 50%;\n",
              "    cursor: pointer;\n",
              "    display: none;\n",
              "    fill: var(--fill-color);\n",
              "    height: 32px;\n",
              "    padding: 0;\n",
              "    width: 32px;\n",
              "  }\n",
              "\n",
              "  .colab-df-quickchart:hover {\n",
              "    background-color: var(--hover-bg-color);\n",
              "    box-shadow: 0 1px 2px rgba(60, 64, 67, 0.3), 0 1px 3px 1px rgba(60, 64, 67, 0.15);\n",
              "    fill: var(--button-hover-fill-color);\n",
              "  }\n",
              "\n",
              "  .colab-df-quickchart-complete:disabled,\n",
              "  .colab-df-quickchart-complete:disabled:hover {\n",
              "    background-color: var(--disabled-bg-color);\n",
              "    fill: var(--disabled-fill-color);\n",
              "    box-shadow: none;\n",
              "  }\n",
              "\n",
              "  .colab-df-spinner {\n",
              "    border: 2px solid var(--fill-color);\n",
              "    border-color: transparent;\n",
              "    border-bottom-color: var(--fill-color);\n",
              "    animation:\n",
              "      spin 1s steps(1) infinite;\n",
              "  }\n",
              "\n",
              "  @keyframes spin {\n",
              "    0% {\n",
              "      border-color: transparent;\n",
              "      border-bottom-color: var(--fill-color);\n",
              "      border-left-color: var(--fill-color);\n",
              "    }\n",
              "    20% {\n",
              "      border-color: transparent;\n",
              "      border-left-color: var(--fill-color);\n",
              "      border-top-color: var(--fill-color);\n",
              "    }\n",
              "    30% {\n",
              "      border-color: transparent;\n",
              "      border-left-color: var(--fill-color);\n",
              "      border-top-color: var(--fill-color);\n",
              "      border-right-color: var(--fill-color);\n",
              "    }\n",
              "    40% {\n",
              "      border-color: transparent;\n",
              "      border-right-color: var(--fill-color);\n",
              "      border-top-color: var(--fill-color);\n",
              "    }\n",
              "    60% {\n",
              "      border-color: transparent;\n",
              "      border-right-color: var(--fill-color);\n",
              "    }\n",
              "    80% {\n",
              "      border-color: transparent;\n",
              "      border-right-color: var(--fill-color);\n",
              "      border-bottom-color: var(--fill-color);\n",
              "    }\n",
              "    90% {\n",
              "      border-color: transparent;\n",
              "      border-bottom-color: var(--fill-color);\n",
              "    }\n",
              "  }\n",
              "</style>\n",
              "\n",
              "  <script>\n",
              "    async function quickchart(key) {\n",
              "      const quickchartButtonEl =\n",
              "        document.querySelector('#' + key + ' button');\n",
              "      quickchartButtonEl.disabled = true;  // To prevent multiple clicks.\n",
              "      quickchartButtonEl.classList.add('colab-df-spinner');\n",
              "      try {\n",
              "        const charts = await google.colab.kernel.invokeFunction(\n",
              "            'suggestCharts', [key], {});\n",
              "      } catch (error) {\n",
              "        console.error('Error during call to suggestCharts:', error);\n",
              "      }\n",
              "      quickchartButtonEl.classList.remove('colab-df-spinner');\n",
              "      quickchartButtonEl.classList.add('colab-df-quickchart-complete');\n",
              "    }\n",
              "    (() => {\n",
              "      let quickchartButtonEl =\n",
              "        document.querySelector('#df-de603036-4cc1-491e-8694-186211df2fed button');\n",
              "      quickchartButtonEl.style.display =\n",
              "        google.colab.kernel.accessAllowed ? 'block' : 'none';\n",
              "    })();\n",
              "  </script>\n",
              "</div>\n",
              "    </div>\n",
              "  </div>\n"
            ],
            "application/vnd.google.colaboratory.intrinsic+json": {
              "type": "dataframe",
              "variable_name": "noticiasDf",
              "summary": "{\n  \"name\": \"noticiasDf\",\n  \"rows\": 11314,\n  \"fields\": [\n    {\n      \"column\": \"documento\",\n      \"properties\": {\n        \"dtype\": \"string\",\n        \"num_unique_values\": 10994,\n        \"samples\": [\n          \"\\nWell, if you want to pick on Morgan, why not attack its ash (wood)\\nframe or its hand-bent metal skin (just try and get a replacement :-)).  \\nI thought the kingpost suspension was one of the Mog's better features.\",\n          \"I am writing a custom widget to support the display of graphics\\nand imagery.  The user of the widget will be able to specify,\\nwhen creating it, whether it is to operate in X or GL mode.\\n\\nI have set up translations and actions to handle mouse button\\npresses.  They work fine when the widget is in X mode.  In GL \\nmode they only work when the widget (my GL/X widget) is a child\\nof a manager.  Put another way, the translations do not work \\nwhen the widget is configured in GL mode and is a child of a \\nshell.  Does anyone know why this is happening?\",\n          \"long\\ndisk\\n\\n\\nI don't know how many times I've posted this the net.  No one EVER\\nlistens.  \\n\\nOnce and for all:  Floptical Media is only $1.40 a megabyte if you don't\\nknow where to buy it.  I am bying my flopticals at $30 per 2 disks.  I\\nsee that as $.75 a meagabyte, NOT $1.40.  No, I'm not buying in bulk, I'm\\nnot getting a special deal.  $.75 a meg is good in my book, Approching\\nfloppy price.\\n\\nAny questions on my source can be sent to ctr@po.cwru.edu.\\n\"\n        ],\n        \"semantic_type\": \"\",\n        \"description\": \"\"\n      }\n    },\n    {\n      \"column\": \"documento_limpo\",\n      \"properties\": {\n        \"dtype\": \"string\",\n        \"num_unique_values\": 10958,\n        \"samples\": [\n          \"have normal procomm plus dos, i've been considering buying windows version....it really great reviews computer shopper. have friend connects mainframe unix machines here using screen seems have problem keeping with modem....he 14,400 modem machine. can't having trouble keeping pcplus works great, what after high speed modem arrives. edition this article applies only windows 3.1, os/2 apps running under windows. unadvertised limitations most current windows that their rs-232c (serial, com) performance seriously deficient. almost everyone purchases high-speed modem (v.32bis, v.32, hst) discovers problem first time they download file accept incoming 9600+) after upgrading modem. overrun retry errors abound, even when only active application datacomm program. transfer completes all, take even longer than with 2400bps modem. there three reasons problem: universal asynchronous receiver/transmitters (uarts) used most primitive ns8250 devices with single-byte fifo buffers. operating system/driver cannot read flush each character high interrupt rates, next incoming character overwrites fifo previous lost. dos, being fairly single-minded environment during datacomm, usually keep windows can't. windows more operating system overhead than plain dos, interrupts often take longer service. overruns much more likely than under dos. soon report your pc/modem vendor that losing data, advised that \\\"you need upgrade 16550\\\". more likely, since there seems conspiracy ignorance about this issue, you'll useful advice all. most store-front mail-order sources spoke with attempting solve problem never heard term \\\"16550\\\" many didn't even know what uart was. even your ns16550a uarts (and ps/2's do), upgrade your mother/com board board, still experience errors overruns because standard microsoft windows drivers don't take full advantage 16550. windows improved this regard over 3.0, still recommend driver upgrade. applications like procomm+/win (which what use) cannot around this problem themselves. have modem card, have problem, modem part card designed aware state uart, avoid overrunning however, wouldn't want that card designers were that clever, will insist 16550 uart ever modem card. some modem cards don't even have conventional uarts, they work with standard windows drivers, they need simulate one. msd.exe (below) what modem card pretending hardware situation. uarts most ports based national semiconductor ns8250 ns16450 chips megacells inside vlsi chips where can't replace them). uart type your system running microsoft diagnostic program \\\\windows\\\\msd.exe. sure *before* bringing windows. windows serial prevent from accurately identifying 16550 from windows prompt. ns16550 uart separate 16-byte transmit receive fifos with configurable trigger levels, reliably clock rates 460,800 bps, although with current modem technology, there's point pushing your luck going over 115,200 bps. 16550 shorted access cycle times than 16450 8250. 16550 also capability, clear that drivers ever this. more technical info, national semiconductor application note an-491. what uart component have? locate uart your mother board, multi-function card, board isa/mca modem card. can't find socketed component with numbers \\\"8250\\\" \\\"16450\\\", your ports probably buried vlsi, won't able perform chip replacement. disable your vlsi ports chose do), least aftermarket board. have more socketed 8250 16450 chips, plug-in ns16550afn pc16c550cn (low power cmos version) from several suppliers typically each. chip normal 40-pin dual-in-line package. other styles available, avoid ns16550 chips without (the 16c550c presumably ok). early chips have bugs, although national will reportedly exchange those their manufacture free. clone chips available from various makers other than national. manual turbocom drivers states support following (apparently equivalent) chips: national semiconductor: 16550a, 16551, 16552 chips&technology: 82c607 texas instruments: t16c550a silicon systems: 73m550 vlsi 16c550 turbocom warns about pre-\\\"a\\\" ns16550 western digital 16c550, says that problems have been reported with early ps/2 55sx systems (ibm reportedly will upgrade them). don't have socketed 8250/16450 chips, you'll need after- market multi-function board. this modem card situation, hosed. multi-function card, you'll need either disable com1/2 port(s) replacing, re-assign them com3/4 (although watch conflicts without turbocom). although cheaper cards available, interest getting problem solved quickly elected modular circuit technology mct-aio+ card from: microdevices 2233 samaritan drive jose 95124 (800) 538-5000 voice (408) 559-1200 voice other (800) 538-5005 mct-aio+ (and important) sells $89.95. 8-bit card providing: port type connector address comments db9m 1,2,3 2,3,4,5 ns16550afn socket ribbon 2,3,4 2,3,4,5 ns16550afn socket parallel db25f lpt1,2,3 game ribbon includes ribbon cable db25f connector secondary port, ribbon cable/connector game port, bulkhead plates ribbon-based connectors 9f-to-25f adaptor cable. each port individually disabled, ports have rts, cts, dtr, dcd, jumpers. also sells super-i/o card that also ide. have heard from several people about less expensive cards with 16550s: systems (407) 331-9130 $19.95 card, plus $9.95 16550. greenfield trading distributors (518) 271-2473 (voice), (518) 271-7811(fax). their card w/one 16550, w/2, they sell 16550afns $13. data systems, inc. east highway longwood, 32750 phone: (407) 331-1424 fax: (407) 331-8606 2com/lpt/game card 16550s have personal experience with firms except jdr. meanwhile, back card from jdr... only needed serial ports, running irqs disabled built-in vlsi-based 8250 ports. however, with turbocom driver (below), could have internals com3 using sharing. software situation simply upgrading 16550 uarts will completely solve common overrun problems. standard serial drivers don't take full advantage 16550. windows drivers even less capable, windows drivers have following limitations: they enable only receive fifo, only rates above 2400 bps. they never enable transmit fifo, which results interrupt rate during uploads. they trigger level bytes (too high it's easy more bytes arrive before driver read fifo). ports menu control panel only allows speeds 19200. with v.32bis modem, sparse data text easily compress more, suggesting that host connect rate 57,600 would effective. won't accept rates above \\\"cbr_128000\\\". won't programs know there 16550 there, even did, programs that aren't 16550-aware little benefit from 16550 port with standard drivers. they don't allow sharing com3,4. bios doesn't initialize com3,4 properly many systems. windows provides workaround apps that don't provide port speed options above 19200 bps. these problems reportedly solved windows 6.0, addressed windows releases after (but before 4.0). rumors suggest they \\\"may\\\" solved windows \\\"4.0\\\". replacement drivers that solve those problems buying copy \\\"turbocom\\\", current version 1.2, from: bio-engineering research pacific commware division beacon hill lane ashland 97520-9701 (503) 482-2744 voice (503) 482-2627 (503) 482-2633 mcimail: 344-5374 compuserve: 71521,760 price around recall. bio-eng accept credit cards, send check. egghead 1-800-software list turbocom know, they don't stock software company they apparently needed reliable hi-speed serial connections in-house instrument application, wrote their driver, discovered market revised general purpose driver suite. they recently upgraded windows 3.1. run-time licensed. have host (dte) connect rate 57,600 most datacomm apps, having zero problems with downloads. routinely transfer rates that exceed 2,000 bps. also using 115,200 when linking hp95lx with lossless bi-directional i/o. uploads various remote systems another matter, because many hosts still using antique uarts drivers. note that 19200 still highest rate that windows port menu control panel will allow configuring port. turbocom gets around this allowing specify, each port, factor that will real uart rate multiple rate passed through windows apis dialog boxes. also have cts/rts hardware flow control enabled, suggest that same. even only ever transfer 7-bit ascii data, xon/xoff sufficiently reliable method flow control. informal (dec) standard xon/xoff hysteresis that sender transmit another (yes, sixteen) bytes after receipt xoff from receiving system device. byte fifo 16550 clearly enough rely exclusively xon/xoff. well-respected datacomm engineer informed that 16550's can't really cts/rts itself dos/windows environment, using data rates above 115,200 still risky. even with hardware flow control, 16550 with turbocom still experience overruns very busy systems, with lots apps running serious swapping progress. this your situation, need co-processed board, this will cost more than 16550/turbocom upgrade. review such boards, review turbocom, found feb'93 issue \\\"windows sources\\\" magazine. suggest trying 16550/turbocom upgrade first, experiment with process priorities time slices \\\"power user\\\" whose thrashing system still runs into comm problems. closing soapbox comments state rs-232c serial datacomm support embarrassment across computer industry. because oldest standard interface, designing hardware writing software often seems assigned least senior lowest ranked engineers computer companies. design average serial port least years behind state art. last job, with major workstation vendor, lobbied improved serial ports when they were doing initial designs system. that family machines subsequently introduced with 16550 ports. however, this exception. computer companies seem have champions decent i/o. well learn what about serial i/o, because this situation shows sign improving soon. when v.fast arrives, expect cries outrage from windows users world-wide whose 8250 \\\"sort work today with v.32, will fail miserably with v.fast. without hardware-buffered uart (like 16550) without software drivers that that uart best advantage, v.fast modem will waste money. regards, 1001-a east harmony road niland suite internet: rjn@csn.org fort collins 80525 compuserve: 71044,2124 (303) 223-5209 copyright 1993 robert niland rights reserved permission granted automatic redistribution this article, electronic, magnetic optical media, unedited form, through usenet newsgroup where article posted author. permission granted each compuserve usenet reader subscriber each person received this article from compuserve, site authorized author electronic mail from author, retain electronic copy make hardcopy reproductions this edition this article personal non-commercial use, provided that material changes made article this copyright statement. other copying, storage, reproduction redistribution this article, form, prohibited without express written consent author, robert niland.\",\n          \"what find wrong with flat subaru's, flat that matter?\",\n          \"those interested ultra cards: posted some questions regarding ultra cards asked confirmation some opinions. this message summary responses. thanks that replied. higher memory limits apply cards only, know. eisa version should have problems. pretty sure from experience that version doesn't work systems with over ram. there supposed switching \\\"memory aperture\\\" feature prevent this, apparently doesn't work. posted some \\\"help messages people indicated that eisa card didn't have this problem. false card, which have, allows memory aperture over using their configuration software. messing with jumpers necessary. problem probably valid only cards. again, memory aperture need only disabled have more than 124m (eisa vlb) (isa). should problem you. dunno. depends bus. isa, eisa localbus nope. 640x480 72hz, 24-bit 800x600 70hz, 24-bit, non-interlaced. according magazine, they've tested local version that does 1024x768 24-bit which interlaced. pro. sometimes plus. some modes only interlaced certain monitors. this nothing with bits only with screen size. note that color windows must have megs, memory size calculations notwithstanding. they aren't perfect, much improved. don't recall last time which leave mach mode (ati mode) switch 8514 mode software incompatibility. true. many people recommended going back build they appear excellent, have bugs. example, certain graphs with dashed lines mathcad print correctly, though they display screen. they about fancy cards other accelerated cards also have bugs. overall, like card, even driver performance somewhat less than satisfactory. running 1024*768 color mode that driver october version seems allow. will this that color performance quite nice diamond stealth vram, have been able options driver. it's quite fast, whether fastest open debate. i'll admit very very fast 16-bit mode, which what wanted for. crashed many different ways) every minutes so... depends many many things. like well magazine seems think yes, this appears true greatest thing since sliced bread, doubt better cards coming out. knows, maybe will come with something faster yet. several reviews read rated pycon winjet card superior performer cheaper price except availability drivers, which pycon developing that time. magazine, about months back) overall, card potential, have able ----------------------------------------------------------------------------- that questions. these were most discussed items this group thought they needed confirmation. those familiar with card have included summary here (from since don't have graphics ultra yet.) graphics ultra plus: accelerated 1024x768 colours true colour(16.7m) 800x600 multimedia video acceleration (for indeo video,rle video compressed) stretch full motion video windows full size fast includes button mouse (isa versions only) anti-aliased fonts (ed. avail colour mode only,i think) real-time zoom across large virtual windows desktop around length card size priced from $400 u.s. graphics ultra pro: everything graphics ultra plus faster performance with vrams accelerated 1280x1024 colours 74hz non-interlaced available isa, eisa microchannel priced from $600 u.s. technologies (416) 756-0718 hope this summary you. p.s. associated with technologies other than having used their previous ultra card years (which generally liked).\"\n        ],\n        \"semantic_type\": \"\",\n        \"description\": \"\"\n      }\n    }\n  ]\n}"
            }
          },
          "metadata": {},
          "execution_count": 4
        }
      ]
    },
    {
      "cell_type": "markdown",
      "metadata": {
        "id": "vRvjGMEEWDSQ"
      },
      "source": [
        "Vamos agora utilizar o **CountVectorizer** para construir nossa **matriz termo-documento**. Já aproveitaremos alguns recursos da biblioteca para realizar mais etapas de pré-processamento."
      ]
    },
    {
      "cell_type": "code",
      "metadata": {
        "id": "mw-fuhhGWDdD"
      },
      "source": [
        "from sklearn.feature_extraction.text import CountVectorizer\n",
        "\n",
        "cv = CountVectorizer(max_df=0.95, min_df=2, stop_words='english')\n",
        "\n",
        "mtd = cv.fit_transform(noticiasDf['documento_limpo'])"
      ],
      "execution_count": null,
      "outputs": []
    },
    {
      "cell_type": "code",
      "metadata": {
        "id": "INzvwZh_W1oI",
        "colab": {
          "base_uri": "https://localhost:8080/"
        },
        "outputId": "6adf3c02-75f6-4e64-dc14-ac224bbb81c2"
      },
      "source": [
        "# docs x words\n",
        "mtd\n",
        "# Tamanho da matriz com nro de documentos e palavras diferentes"
      ],
      "execution_count": null,
      "outputs": [
        {
          "output_type": "execute_result",
          "data": {
            "text/plain": [
              "<11314x38414 sparse matrix of type '<class 'numpy.int64'>'\n",
              "\twith 646919 stored elements in Compressed Sparse Row format>"
            ]
          },
          "metadata": {},
          "execution_count": 6
        }
      ]
    },
    {
      "cell_type": "markdown",
      "metadata": {
        "id": "ZJJga63YW8dG"
      },
      "source": [
        "\n",
        "\n",
        "> **PERGUNTA**: Para que servem os parâmetros passados para a função CountVectorizer? Servem para pré-processar e reduzir o tamanho da matriz.\n",
        "\n",
        "Verifique a documentação e re-execute o código sem passar os parâmetros.\n",
        "\n"
      ]
    },
    {
      "cell_type": "markdown",
      "metadata": {
        "id": "Q2n0TLdAXXKl"
      },
      "source": [
        "#### **LDA**\n",
        "O LDA já é implementado pelo sklearn"
      ]
    },
    {
      "cell_type": "code",
      "metadata": {
        "id": "Jfn7ow-2XgOd",
        "colab": {
          "base_uri": "https://localhost:8080/",
          "height": 74
        },
        "outputId": "a0d3fbb5-9ee2-4251-ce0e-80cbf8f68811"
      },
      "source": [
        "from sklearn.decomposition import LatentDirichletAllocation\n",
        "# Define quantidade de tópicos/clusters, escolheu-se 20 pra verificar se algoritmo consegue encontrar mesmas categorias pré-estabelecidas no dataset\n",
        "# Definir o random_state faz com que a aleatoriedade na seleção das palavras seja a mesma, toda vez que este código for executado\n",
        "LDA = LatentDirichletAllocation(n_components=20,random_state=42) # quantos topicos a encontrar = 20 temáticas diferentes\n",
        "# Pode demorar se há muitos dados\n",
        "LDA.fit(mtd)"
      ],
      "execution_count": null,
      "outputs": [
        {
          "output_type": "execute_result",
          "data": {
            "text/plain": [
              "LatentDirichletAllocation(n_components=20, random_state=42)"
            ],
            "text/html": [
              "<style>#sk-container-id-1 {color: black;background-color: white;}#sk-container-id-1 pre{padding: 0;}#sk-container-id-1 div.sk-toggleable {background-color: white;}#sk-container-id-1 label.sk-toggleable__label {cursor: pointer;display: block;width: 100%;margin-bottom: 0;padding: 0.3em;box-sizing: border-box;text-align: center;}#sk-container-id-1 label.sk-toggleable__label-arrow:before {content: \"▸\";float: left;margin-right: 0.25em;color: #696969;}#sk-container-id-1 label.sk-toggleable__label-arrow:hover:before {color: black;}#sk-container-id-1 div.sk-estimator:hover label.sk-toggleable__label-arrow:before {color: black;}#sk-container-id-1 div.sk-toggleable__content {max-height: 0;max-width: 0;overflow: hidden;text-align: left;background-color: #f0f8ff;}#sk-container-id-1 div.sk-toggleable__content pre {margin: 0.2em;color: black;border-radius: 0.25em;background-color: #f0f8ff;}#sk-container-id-1 input.sk-toggleable__control:checked~div.sk-toggleable__content {max-height: 200px;max-width: 100%;overflow: auto;}#sk-container-id-1 input.sk-toggleable__control:checked~label.sk-toggleable__label-arrow:before {content: \"▾\";}#sk-container-id-1 div.sk-estimator input.sk-toggleable__control:checked~label.sk-toggleable__label {background-color: #d4ebff;}#sk-container-id-1 div.sk-label input.sk-toggleable__control:checked~label.sk-toggleable__label {background-color: #d4ebff;}#sk-container-id-1 input.sk-hidden--visually {border: 0;clip: rect(1px 1px 1px 1px);clip: rect(1px, 1px, 1px, 1px);height: 1px;margin: -1px;overflow: hidden;padding: 0;position: absolute;width: 1px;}#sk-container-id-1 div.sk-estimator {font-family: monospace;background-color: #f0f8ff;border: 1px dotted black;border-radius: 0.25em;box-sizing: border-box;margin-bottom: 0.5em;}#sk-container-id-1 div.sk-estimator:hover {background-color: #d4ebff;}#sk-container-id-1 div.sk-parallel-item::after {content: \"\";width: 100%;border-bottom: 1px solid gray;flex-grow: 1;}#sk-container-id-1 div.sk-label:hover label.sk-toggleable__label {background-color: #d4ebff;}#sk-container-id-1 div.sk-serial::before {content: \"\";position: absolute;border-left: 1px solid gray;box-sizing: border-box;top: 0;bottom: 0;left: 50%;z-index: 0;}#sk-container-id-1 div.sk-serial {display: flex;flex-direction: column;align-items: center;background-color: white;padding-right: 0.2em;padding-left: 0.2em;position: relative;}#sk-container-id-1 div.sk-item {position: relative;z-index: 1;}#sk-container-id-1 div.sk-parallel {display: flex;align-items: stretch;justify-content: center;background-color: white;position: relative;}#sk-container-id-1 div.sk-item::before, #sk-container-id-1 div.sk-parallel-item::before {content: \"\";position: absolute;border-left: 1px solid gray;box-sizing: border-box;top: 0;bottom: 0;left: 50%;z-index: -1;}#sk-container-id-1 div.sk-parallel-item {display: flex;flex-direction: column;z-index: 1;position: relative;background-color: white;}#sk-container-id-1 div.sk-parallel-item:first-child::after {align-self: flex-end;width: 50%;}#sk-container-id-1 div.sk-parallel-item:last-child::after {align-self: flex-start;width: 50%;}#sk-container-id-1 div.sk-parallel-item:only-child::after {width: 0;}#sk-container-id-1 div.sk-dashed-wrapped {border: 1px dashed gray;margin: 0 0.4em 0.5em 0.4em;box-sizing: border-box;padding-bottom: 0.4em;background-color: white;}#sk-container-id-1 div.sk-label label {font-family: monospace;font-weight: bold;display: inline-block;line-height: 1.2em;}#sk-container-id-1 div.sk-label-container {text-align: center;}#sk-container-id-1 div.sk-container {/* jupyter's `normalize.less` sets `[hidden] { display: none; }` but bootstrap.min.css set `[hidden] { display: none !important; }` so we also need the `!important` here to be able to override the default hidden behavior on the sphinx rendered scikit-learn.org. See: https://github.com/scikit-learn/scikit-learn/issues/21755 */display: inline-block !important;position: relative;}#sk-container-id-1 div.sk-text-repr-fallback {display: none;}</style><div id=\"sk-container-id-1\" class=\"sk-top-container\"><div class=\"sk-text-repr-fallback\"><pre>LatentDirichletAllocation(n_components=20, random_state=42)</pre><b>In a Jupyter environment, please rerun this cell to show the HTML representation or trust the notebook. <br />On GitHub, the HTML representation is unable to render, please try loading this page with nbviewer.org.</b></div><div class=\"sk-container\" hidden><div class=\"sk-item\"><div class=\"sk-estimator sk-toggleable\"><input class=\"sk-toggleable__control sk-hidden--visually\" id=\"sk-estimator-id-1\" type=\"checkbox\" checked><label for=\"sk-estimator-id-1\" class=\"sk-toggleable__label sk-toggleable__label-arrow\">LatentDirichletAllocation</label><div class=\"sk-toggleable__content\"><pre>LatentDirichletAllocation(n_components=20, random_state=42)</pre></div></div></div></div></div>"
            ]
          },
          "metadata": {},
          "execution_count": 7
        }
      ]
    },
    {
      "cell_type": "markdown",
      "metadata": {
        "id": "C5U0bI9-ZgSc"
      },
      "source": [
        "Como obter o **vocabulário**?"
      ]
    },
    {
      "cell_type": "code",
      "metadata": {
        "id": "fLua4jilZbks",
        "colab": {
          "base_uri": "https://localhost:8080/"
        },
        "outputId": "af2b0beb-4663-4010-828e-121acecf4757"
      },
      "source": [
        "cv.get_feature_names_out()"
      ],
      "execution_count": null,
      "outputs": [
        {
          "output_type": "execute_result",
          "data": {
            "text/plain": [
              "array(['00', '000', '0000', ..., 'zyra', 'zyxel', 'zz'], dtype=object)"
            ]
          },
          "metadata": {},
          "execution_count": 9
        }
      ]
    },
    {
      "cell_type": "code",
      "metadata": {
        "id": "645UrmDOaRr0",
        "colab": {
          "base_uri": "https://localhost:8080/"
        },
        "outputId": "f350cce6-7895-41ec-f7e5-7788f7618c9c"
      },
      "source": [
        "len(cv.get_feature_names_out())"
      ],
      "execution_count": null,
      "outputs": [
        {
          "output_type": "execute_result",
          "data": {
            "text/plain": [
              "38414"
            ]
          },
          "metadata": {},
          "execution_count": 10
        }
      ]
    },
    {
      "cell_type": "code",
      "metadata": {
        "id": "doobcNGbZ-2-",
        "colab": {
          "base_uri": "https://localhost:8080/",
          "height": 35
        },
        "outputId": "bf9cb702-1cc6-49f6-b98d-4418767b582c"
      },
      "source": [
        "# Você pode obter qualquer palavra do vocabulário\n",
        "cv.get_feature_names_out()[20078] #acessa pela posição do indice"
      ],
      "execution_count": null,
      "outputs": [
        {
          "output_type": "execute_result",
          "data": {
            "text/plain": [
              "'kilogram'"
            ],
            "application/vnd.google.colaboratory.intrinsic+json": {
              "type": "string"
            }
          },
          "metadata": {},
          "execution_count": 12
        }
      ]
    },
    {
      "cell_type": "markdown",
      "metadata": {
        "id": "fY7FhTVAXfQF"
      },
      "source": [
        "Como obter os **tópicos**?"
      ]
    },
    {
      "cell_type": "code",
      "metadata": {
        "id": "6Ui9QhKYZnjM",
        "colab": {
          "base_uri": "https://localhost:8080/"
        },
        "outputId": "b04485d1-d1d0-45ff-b90d-c05dcb8f047b"
      },
      "source": [
        "# Quantidade de tópicos\n",
        "len(LDA.components_)"
      ],
      "execution_count": null,
      "outputs": [
        {
          "output_type": "execute_result",
          "data": {
            "text/plain": [
              "20"
            ]
          },
          "metadata": {},
          "execution_count": 13
        }
      ]
    },
    {
      "cell_type": "code",
      "metadata": {
        "id": "nRme_In6awwn",
        "colab": {
          "base_uri": "https://localhost:8080/"
        },
        "outputId": "5d574312-681f-4869-bc47-9ac6bc41a499"
      },
      "source": [
        "# Cada tópico é um array com as probabilidades de cada palavra\n",
        "LDA.components_"
      ],
      "execution_count": null,
      "outputs": [
        {
          "output_type": "execute_result",
          "data": {
            "text/plain": [
              "array([[2.00576726e+00, 1.15905250e+02, 5.00000004e-02, ...,\n",
              "        5.00000000e-02, 5.00000000e-02, 5.00000000e-02],\n",
              "       [3.30116002e-01, 5.00000011e-02, 5.00000000e-02, ...,\n",
              "        5.00000000e-02, 5.00000005e-02, 5.00000000e-02],\n",
              "       [1.48514808e+00, 3.45391676e+01, 1.08061761e+00, ...,\n",
              "        5.00000000e-02, 5.00000000e-02, 5.00000000e-02],\n",
              "       ...,\n",
              "       [5.85356289e+02, 1.91499153e+02, 5.00000003e-02, ...,\n",
              "        5.00000000e-02, 5.00000010e-02, 5.00000000e-02],\n",
              "       [1.46676399e+01, 6.20821833e+01, 5.00000001e-02, ...,\n",
              "        5.00000000e-02, 5.00000005e-02, 5.00000000e-02],\n",
              "       [9.21494893e+00, 2.68553028e+01, 3.94692315e+00, ...,\n",
              "        5.00000000e-02, 5.00000135e-02, 5.00000000e-02]])"
            ]
          },
          "metadata": {},
          "execution_count": 14
        }
      ]
    },
    {
      "cell_type": "code",
      "metadata": {
        "id": "GdhLXFadbBac",
        "colab": {
          "base_uri": "https://localhost:8080/"
        },
        "outputId": "14a44d12-37cc-42d0-f510-38ebbf346382"
      },
      "source": [
        "# tópicos x palavras\n",
        "LDA.components_.shape"
      ],
      "execution_count": null,
      "outputs": [
        {
          "output_type": "execute_result",
          "data": {
            "text/plain": [
              "(20, 38414)"
            ]
          },
          "metadata": {},
          "execution_count": 15
        }
      ]
    },
    {
      "cell_type": "markdown",
      "metadata": {
        "id": "ANOm2CAYZn2I"
      },
      "source": [
        "Como obter as **palavras com maior probabilidade** para cada tópico?"
      ]
    },
    {
      "cell_type": "code",
      "metadata": {
        "id": "pydA9oGUZr9z"
      },
      "source": [
        "# Obtém primeiro tópico - ainda não sabemos do que se trata\n",
        "primeiro_topico = LDA.components_[0]"
      ],
      "execution_count": null,
      "outputs": []
    },
    {
      "cell_type": "code",
      "metadata": {
        "id": "8ABu1w0gbPiN",
        "colab": {
          "base_uri": "https://localhost:8080/"
        },
        "outputId": "c2fdf6ac-3869-4456-b9cd-a2aefeeac4b4"
      },
      "source": [
        "# Obtemos os índices ordenados do menor pro maior\n",
        "primeiro_topico.argsort()"
      ],
      "execution_count": null,
      "outputs": [
        {
          "output_type": "execute_result",
          "data": {
            "text/plain": [
              "array([19206, 20830, 20820, ..., 33778, 13379, 31983])"
            ]
          },
          "metadata": {},
          "execution_count": 17
        }
      ]
    },
    {
      "cell_type": "markdown",
      "metadata": {
        "id": "CwJzD-_Db0v5"
      },
      "source": [
        "\n",
        "\n",
        "> **ENTENDA MELHOR**: Veja no exemplo a seguir o que o comando argsort() faz\n",
        "\n"
      ]
    },
    {
      "cell_type": "code",
      "metadata": {
        "id": "DIIJCeMBb79J",
        "colab": {
          "base_uri": "https://localhost:8080/"
        },
        "outputId": "c7684127-3d5b-4bb8-e06a-51dcebc36508"
      },
      "source": [
        "import numpy as np\n",
        "arr = np.array([5, 50, 1, 10, 15])\n",
        "# Ordena a posição dos elementos do array\n",
        "arr.argsort()"
      ],
      "execution_count": null,
      "outputs": [
        {
          "output_type": "execute_result",
          "data": {
            "text/plain": [
              "array([2, 0, 3, 4, 1])"
            ]
          },
          "metadata": {},
          "execution_count": 18
        }
      ]
    },
    {
      "cell_type": "markdown",
      "metadata": {
        "id": "8O6NZvnocPGK"
      },
      "source": [
        "Voltando para nossos textos...\n",
        "Agora sabemos a localização palavras com maior valor de probabilidade!"
      ]
    },
    {
      "cell_type": "code",
      "metadata": {
        "id": "svGahyAfbPw_"
      },
      "source": [
        "# Obtém os últimos dez valores - que como ordenamos, serão os que tem maior valor de probabilidade\n",
        "top_10 = primeiro_topico.argsort()[-10:]"
      ],
      "execution_count": null,
      "outputs": []
    },
    {
      "cell_type": "code",
      "metadata": {
        "id": "yElnXG70bPte",
        "colab": {
          "base_uri": "https://localhost:8080/"
        },
        "outputId": "294307ac-f222-4acf-ba32-1ffe43b1265a"
      },
      "source": [
        "top_10"
      ],
      "execution_count": null,
      "outputs": [
        {
          "output_type": "execute_result",
          "data": {
            "text/plain": [
              "array([23892, 13741, 10964, 16246, 20579,  8678,  9030, 33778, 13379,\n",
              "       31983])"
            ]
          },
          "metadata": {},
          "execution_count": 20
        }
      ]
    },
    {
      "cell_type": "markdown",
      "metadata": {
        "id": "11dWKkfdd9yy"
      },
      "source": [
        "Agora que temos os índices, basta imprimir os valores"
      ]
    },
    {
      "cell_type": "code",
      "metadata": {
        "id": "7yYNw1b-bPrz",
        "colab": {
          "base_uri": "https://localhost:8080/"
        },
        "outputId": "3c2c192d-5e94-42c3-90b8-26a6aff1cb08"
      },
      "source": [
        "for i in top_10:\n",
        "  print(cv.get_feature_names_out()[i])"
      ],
      "execution_count": null,
      "outputs": [
        {
          "output_type": "stream",
          "name": "stdout",
          "text": [
            "national\n",
            "escrow\n",
            "data\n",
            "government\n",
            "launch\n",
            "chip\n",
            "clipper\n",
            "technology\n",
            "encryption\n",
            "space\n"
          ]
        }
      ]
    },
    {
      "cell_type": "markdown",
      "metadata": {
        "id": "6rcvHdsJeObZ"
      },
      "source": [
        "> **PERGUNTAS**: As palavras fazem sentido juntas? A qual tipo de tópico você acha que os documentos deste cluster pertencem?\n",
        "\n",
        "As vezes os tópicos podem ter uma grande intersecção, ou pouco representativos. Não há um número mágico, você deve avaliar!\n",
        "\n",
        "\n"
      ]
    },
    {
      "cell_type": "code",
      "metadata": {
        "id": "7dC5J-SzbPqG",
        "colab": {
          "base_uri": "https://localhost:8080/"
        },
        "outputId": "f389ef83-ce48-4551-c8a5-1462af864d89"
      },
      "source": [
        "# Imprime todos as top palavras de cada tópico\n",
        "for i, topic in enumerate(LDA.components_):\n",
        "  print(\"\\n\\n=== TOP 15 palavras - Tópico \", i)\n",
        "  print([cv.get_feature_names_out()[i] for i in topic.argsort()[-15:]])"
      ],
      "execution_count": null,
      "outputs": [
        {
          "output_type": "stream",
          "name": "stdout",
          "text": [
            "\n",
            "\n",
            "=== TOP 15 palavras - Tópico  0\n",
            "['security', 'keys', 'enforcement', 'information', 'satellite', 'national', 'escrow', 'data', 'government', 'launch', 'chip', 'clipper', 'technology', 'encryption', 'space']\n",
            "\n",
            "\n",
            "=== TOP 15 palavras - Tópico  1\n",
            "['lib', 'work', 'value', 'engine', 'time', 'power', 'application', 'just', 've', 'problem', 'using', 'like', 'used', 'widget', 'window']\n",
            "\n",
            "\n",
            "=== TOP 15 palavras - Tópico  2\n",
            "['years', 'came', 'told', 'going', 've', 'went', 'think', 'didn', 'time', 'just', 'like', 'know', 'don', 'said', 'people']\n",
            "\n",
            "\n",
            "=== TOP 15 palavras - Tópico  3\n",
            "['muslim', 'russian', 'history', 'world', 'armenia', 'genocide', 'turks', 'greek', 'turkey', 'government', 'jews', 'people', 'armenians', 'turkish', 'armenian']\n",
            "\n",
            "\n",
            "=== TOP 15 palavras - Tópico  4\n",
            "['work', 'bit', 'need', 'thanks', 'don', 'problem', 'hard', 'does', 'just', 'know', 'disk', 'like', 'scsi', 'card', 'drive']\n",
            "\n",
            "\n",
            "=== TOP 15 palavras - Tópico  5\n",
            "['18', 'play', 'power', '13', '17', '14', '16', '20', '12', '11', '50', '15', 'period', '10', '00']\n",
            "\n",
            "\n",
            "=== TOP 15 palavras - Tópico  6\n",
            "['just', 'post', 'does', 'send', 'list', 'don', 'address', 'anonymous', 'know', 'posting', 'email', 'like', 'thanks', 'mail', 'edu']\n",
            "\n",
            "\n",
            "=== TOP 15 palavras - Tópico  7\n",
            "['used', 'problem', 'public', 'message', 'does', 'server', 'key', 'mail', 'program', 'information', 'using', 'window', 'files', 'file', 'windows']\n",
            "\n",
            "\n",
            "=== TOP 15 palavras - Tópico  8\n",
            "['mp', 'm5', 'b8', '7u', 'cs', '0t', '0d', 'air', 'mk', 'b8f', '34u', '2di', 'bh', 'ah', '145']\n",
            "\n",
            "\n",
            "=== TOP 15 palavras - Tópico  9\n",
            "['hell', 'really', 've', 'll', 'doesn', 'better', 'believe', 'like', 'year', 'just', 'does', 'think', 'don', 'know', 'good']\n",
            "\n",
            "\n",
            "=== TOP 15 palavras - Tópico  10\n",
            "['sure', 'government', 'know', 'power', 'ground', 'better', 'make', 'years', 'good', 'people', 'think', 'just', 'don', 'time', 'like']\n",
            "\n",
            "\n",
            "=== TOP 15 palavras - Tópico  11\n",
            "['evidence', 'life', 'good', 'question', 'right', 'true', 'know', 'make', 'believe', 'like', 'does', 'think', 'don', 'just', 'people']\n",
            "\n",
            "\n",
            "=== TOP 15 palavras - Tópico  12\n",
            "['char', 'build', 'info', 'section', 'oname', 'university', 'rules', 'printf', 'entries', 'program', 'output', 'entry', 'file', 'com', 'edu']\n",
            "\n",
            "\n",
            "=== TOP 15 palavras - Tópico  13\n",
            "['2tm', '145', '75u', '0t', '3t', 'bhj', 'giz', '1t', '1d9', 'pl', 'a86', 'b8f', 'g9v', 'max', 'ax']\n",
            "\n",
            "\n",
            "=== TOP 15 palavras - Tópico  14\n",
            "['human', 'palestinian', 'peace', 'land', 'right', 'people', 'arabs', 'state', 'anti', 'rights', 'jewish', 'jews', 'arab', 'israeli', 'israel']\n",
            "\n",
            "\n",
            "=== TOP 15 palavras - Tópico  15\n",
            "['fact', 'faith', 'firearms', 'word', 'law', 'crime', 'file', 'does', 'christian', 'bible', 'christ', 'church', 'god', 'people', 'jesus']\n",
            "\n",
            "\n",
            "=== TOP 15 palavras - Tópico  16\n",
            "['a7', 'k8', 'mv', 'w1', 'hz', '17', 'lk', 'chz', 'ck', 't7', 'uw', 'c_', 'w7', '55', 'cx']\n",
            "\n",
            "\n",
            "=== TOP 15 palavras - Tópico  17\n",
            "['player', 'edu', 'best', 'teams', 'league', 'sale', 'players', 'play', 'season', 'hockey', 'year', 'games', '00', 'team', 'game']\n",
            "\n",
            "\n",
            "=== TOP 15 palavras - Tópico  18\n",
            "['time', 'like', 'said', 'make', 'government', 'stephanopoulos', 'just', 'money', 'good', 'people', 'going', 'don', 'know', 'president', 'think']\n",
            "\n",
            "\n",
            "=== TOP 15 palavras - Tópico  19\n",
            "['images', 'com', 'nasa', 'file', 'pub', 'version', 'software', 'information', 'program', 'data', 'graphics', 'space', 'image', 'available', 'edu']\n"
          ]
        }
      ]
    },
    {
      "cell_type": "markdown",
      "metadata": {
        "id": "Hb0YtCgHhsdE"
      },
      "source": [
        "Como definir a **probabilidade de um DOCUMENTO pertencer a um tópico**?\n",
        "\n",
        "Ou seja, como atribuir os tópicos descobertos para os documentos do corpus?"
      ]
    },
    {
      "cell_type": "code",
      "metadata": {
        "id": "xe3eYpsohyz0",
        "colab": {
          "base_uri": "https://localhost:8080/"
        },
        "outputId": "90331b11-4dd2-407d-cb56-ef3260cca809"
      },
      "source": [
        "# Primeiro, lembre-se que temos nossa matriz termo-documento\n",
        "mtd"
      ],
      "execution_count": null,
      "outputs": [
        {
          "output_type": "execute_result",
          "data": {
            "text/plain": [
              "<11314x38414 sparse matrix of type '<class 'numpy.int64'>'\n",
              "\twith 646919 stored elements in Compressed Sparse Row format>"
            ]
          },
          "metadata": {},
          "execution_count": 24
        }
      ]
    },
    {
      "cell_type": "code",
      "metadata": {
        "id": "bTyFNnF2hzHm",
        "colab": {
          "base_uri": "https://localhost:8080/",
          "height": 423
        },
        "outputId": "906d5c76-b38e-4138-aa3b-cf55e17200c9"
      },
      "source": [
        "# Também temos o DataFrame com os textos originais\n",
        "noticiasDf"
      ],
      "execution_count": null,
      "outputs": [
        {
          "output_type": "execute_result",
          "data": {
            "text/plain": [
              "                                               documento  \\\n",
              "0      Well i'm not sure about the story nad it did s...   \n",
              "1      \\n\\n\\n\\n\\n\\n\\nYeah, do you expect people to re...   \n",
              "2      Although I realize that principle is not one o...   \n",
              "3      Notwithstanding all the legitimate fuss about ...   \n",
              "4      Well, I will have to change the scoring on my ...   \n",
              "...                                                  ...   \n",
              "11309  Danny Rubenstein, an Israeli journalist, will ...   \n",
              "11310                                                 \\n   \n",
              "11311  \\nI agree.  Home runs off Clemens are always m...   \n",
              "11312  I used HP DeskJet with Orange Micros Grappler ...   \n",
              "11313                                        ^^^^^^\\n...   \n",
              "\n",
              "                                         documento_limpo  \n",
              "0      well sure about story seem biased. what disagr...  \n",
              "1      yeah, expect people read faq, etc. actually ac...  \n",
              "2      although realize that principle your strongest...  \n",
              "3      notwithstanding legitimate fuss about this pro...  \n",
              "4      well, will have change scoring playoff pool. u...  \n",
              "...                                                  ...  \n",
              "11309  danny rubenstein, israeli journalist, will spe...  \n",
              "11310                                                     \n",
              "11311  agree. home runs clemens always memorable. kin...  \n",
              "11312  used deskjet with orange micros grappler syste...  \n",
              "11313  ^^^^^^ argument with murphy. scared hell when ...  \n",
              "\n",
              "[11314 rows x 2 columns]"
            ],
            "text/html": [
              "\n",
              "  <div id=\"df-0d368227-fe49-46db-9374-3809788f5016\" class=\"colab-df-container\">\n",
              "    <div>\n",
              "<style scoped>\n",
              "    .dataframe tbody tr th:only-of-type {\n",
              "        vertical-align: middle;\n",
              "    }\n",
              "\n",
              "    .dataframe tbody tr th {\n",
              "        vertical-align: top;\n",
              "    }\n",
              "\n",
              "    .dataframe thead th {\n",
              "        text-align: right;\n",
              "    }\n",
              "</style>\n",
              "<table border=\"1\" class=\"dataframe\">\n",
              "  <thead>\n",
              "    <tr style=\"text-align: right;\">\n",
              "      <th></th>\n",
              "      <th>documento</th>\n",
              "      <th>documento_limpo</th>\n",
              "    </tr>\n",
              "  </thead>\n",
              "  <tbody>\n",
              "    <tr>\n",
              "      <th>0</th>\n",
              "      <td>Well i'm not sure about the story nad it did s...</td>\n",
              "      <td>well sure about story seem biased. what disagr...</td>\n",
              "    </tr>\n",
              "    <tr>\n",
              "      <th>1</th>\n",
              "      <td>\\n\\n\\n\\n\\n\\n\\nYeah, do you expect people to re...</td>\n",
              "      <td>yeah, expect people read faq, etc. actually ac...</td>\n",
              "    </tr>\n",
              "    <tr>\n",
              "      <th>2</th>\n",
              "      <td>Although I realize that principle is not one o...</td>\n",
              "      <td>although realize that principle your strongest...</td>\n",
              "    </tr>\n",
              "    <tr>\n",
              "      <th>3</th>\n",
              "      <td>Notwithstanding all the legitimate fuss about ...</td>\n",
              "      <td>notwithstanding legitimate fuss about this pro...</td>\n",
              "    </tr>\n",
              "    <tr>\n",
              "      <th>4</th>\n",
              "      <td>Well, I will have to change the scoring on my ...</td>\n",
              "      <td>well, will have change scoring playoff pool. u...</td>\n",
              "    </tr>\n",
              "    <tr>\n",
              "      <th>...</th>\n",
              "      <td>...</td>\n",
              "      <td>...</td>\n",
              "    </tr>\n",
              "    <tr>\n",
              "      <th>11309</th>\n",
              "      <td>Danny Rubenstein, an Israeli journalist, will ...</td>\n",
              "      <td>danny rubenstein, israeli journalist, will spe...</td>\n",
              "    </tr>\n",
              "    <tr>\n",
              "      <th>11310</th>\n",
              "      <td>\\n</td>\n",
              "      <td></td>\n",
              "    </tr>\n",
              "    <tr>\n",
              "      <th>11311</th>\n",
              "      <td>\\nI agree.  Home runs off Clemens are always m...</td>\n",
              "      <td>agree. home runs clemens always memorable. kin...</td>\n",
              "    </tr>\n",
              "    <tr>\n",
              "      <th>11312</th>\n",
              "      <td>I used HP DeskJet with Orange Micros Grappler ...</td>\n",
              "      <td>used deskjet with orange micros grappler syste...</td>\n",
              "    </tr>\n",
              "    <tr>\n",
              "      <th>11313</th>\n",
              "      <td>^^^^^^\\n...</td>\n",
              "      <td>^^^^^^ argument with murphy. scared hell when ...</td>\n",
              "    </tr>\n",
              "  </tbody>\n",
              "</table>\n",
              "<p>11314 rows × 2 columns</p>\n",
              "</div>\n",
              "    <div class=\"colab-df-buttons\">\n",
              "\n",
              "  <div class=\"colab-df-container\">\n",
              "    <button class=\"colab-df-convert\" onclick=\"convertToInteractive('df-0d368227-fe49-46db-9374-3809788f5016')\"\n",
              "            title=\"Convert this dataframe to an interactive table.\"\n",
              "            style=\"display:none;\">\n",
              "\n",
              "  <svg xmlns=\"http://www.w3.org/2000/svg\" height=\"24px\" viewBox=\"0 -960 960 960\">\n",
              "    <path d=\"M120-120v-720h720v720H120Zm60-500h600v-160H180v160Zm220 220h160v-160H400v160Zm0 220h160v-160H400v160ZM180-400h160v-160H180v160Zm440 0h160v-160H620v160ZM180-180h160v-160H180v160Zm440 0h160v-160H620v160Z\"/>\n",
              "  </svg>\n",
              "    </button>\n",
              "\n",
              "  <style>\n",
              "    .colab-df-container {\n",
              "      display:flex;\n",
              "      gap: 12px;\n",
              "    }\n",
              "\n",
              "    .colab-df-convert {\n",
              "      background-color: #E8F0FE;\n",
              "      border: none;\n",
              "      border-radius: 50%;\n",
              "      cursor: pointer;\n",
              "      display: none;\n",
              "      fill: #1967D2;\n",
              "      height: 32px;\n",
              "      padding: 0 0 0 0;\n",
              "      width: 32px;\n",
              "    }\n",
              "\n",
              "    .colab-df-convert:hover {\n",
              "      background-color: #E2EBFA;\n",
              "      box-shadow: 0px 1px 2px rgba(60, 64, 67, 0.3), 0px 1px 3px 1px rgba(60, 64, 67, 0.15);\n",
              "      fill: #174EA6;\n",
              "    }\n",
              "\n",
              "    .colab-df-buttons div {\n",
              "      margin-bottom: 4px;\n",
              "    }\n",
              "\n",
              "    [theme=dark] .colab-df-convert {\n",
              "      background-color: #3B4455;\n",
              "      fill: #D2E3FC;\n",
              "    }\n",
              "\n",
              "    [theme=dark] .colab-df-convert:hover {\n",
              "      background-color: #434B5C;\n",
              "      box-shadow: 0px 1px 3px 1px rgba(0, 0, 0, 0.15);\n",
              "      filter: drop-shadow(0px 1px 2px rgba(0, 0, 0, 0.3));\n",
              "      fill: #FFFFFF;\n",
              "    }\n",
              "  </style>\n",
              "\n",
              "    <script>\n",
              "      const buttonEl =\n",
              "        document.querySelector('#df-0d368227-fe49-46db-9374-3809788f5016 button.colab-df-convert');\n",
              "      buttonEl.style.display =\n",
              "        google.colab.kernel.accessAllowed ? 'block' : 'none';\n",
              "\n",
              "      async function convertToInteractive(key) {\n",
              "        const element = document.querySelector('#df-0d368227-fe49-46db-9374-3809788f5016');\n",
              "        const dataTable =\n",
              "          await google.colab.kernel.invokeFunction('convertToInteractive',\n",
              "                                                    [key], {});\n",
              "        if (!dataTable) return;\n",
              "\n",
              "        const docLinkHtml = 'Like what you see? Visit the ' +\n",
              "          '<a target=\"_blank\" href=https://colab.research.google.com/notebooks/data_table.ipynb>data table notebook</a>'\n",
              "          + ' to learn more about interactive tables.';\n",
              "        element.innerHTML = '';\n",
              "        dataTable['output_type'] = 'display_data';\n",
              "        await google.colab.output.renderOutput(dataTable, element);\n",
              "        const docLink = document.createElement('div');\n",
              "        docLink.innerHTML = docLinkHtml;\n",
              "        element.appendChild(docLink);\n",
              "      }\n",
              "    </script>\n",
              "  </div>\n",
              "\n",
              "\n",
              "<div id=\"df-d225033b-6188-405e-9596-72626ce97152\">\n",
              "  <button class=\"colab-df-quickchart\" onclick=\"quickchart('df-d225033b-6188-405e-9596-72626ce97152')\"\n",
              "            title=\"Suggest charts\"\n",
              "            style=\"display:none;\">\n",
              "\n",
              "<svg xmlns=\"http://www.w3.org/2000/svg\" height=\"24px\"viewBox=\"0 0 24 24\"\n",
              "     width=\"24px\">\n",
              "    <g>\n",
              "        <path d=\"M19 3H5c-1.1 0-2 .9-2 2v14c0 1.1.9 2 2 2h14c1.1 0 2-.9 2-2V5c0-1.1-.9-2-2-2zM9 17H7v-7h2v7zm4 0h-2V7h2v10zm4 0h-2v-4h2v4z\"/>\n",
              "    </g>\n",
              "</svg>\n",
              "  </button>\n",
              "\n",
              "<style>\n",
              "  .colab-df-quickchart {\n",
              "      --bg-color: #E8F0FE;\n",
              "      --fill-color: #1967D2;\n",
              "      --hover-bg-color: #E2EBFA;\n",
              "      --hover-fill-color: #174EA6;\n",
              "      --disabled-fill-color: #AAA;\n",
              "      --disabled-bg-color: #DDD;\n",
              "  }\n",
              "\n",
              "  [theme=dark] .colab-df-quickchart {\n",
              "      --bg-color: #3B4455;\n",
              "      --fill-color: #D2E3FC;\n",
              "      --hover-bg-color: #434B5C;\n",
              "      --hover-fill-color: #FFFFFF;\n",
              "      --disabled-bg-color: #3B4455;\n",
              "      --disabled-fill-color: #666;\n",
              "  }\n",
              "\n",
              "  .colab-df-quickchart {\n",
              "    background-color: var(--bg-color);\n",
              "    border: none;\n",
              "    border-radius: 50%;\n",
              "    cursor: pointer;\n",
              "    display: none;\n",
              "    fill: var(--fill-color);\n",
              "    height: 32px;\n",
              "    padding: 0;\n",
              "    width: 32px;\n",
              "  }\n",
              "\n",
              "  .colab-df-quickchart:hover {\n",
              "    background-color: var(--hover-bg-color);\n",
              "    box-shadow: 0 1px 2px rgba(60, 64, 67, 0.3), 0 1px 3px 1px rgba(60, 64, 67, 0.15);\n",
              "    fill: var(--button-hover-fill-color);\n",
              "  }\n",
              "\n",
              "  .colab-df-quickchart-complete:disabled,\n",
              "  .colab-df-quickchart-complete:disabled:hover {\n",
              "    background-color: var(--disabled-bg-color);\n",
              "    fill: var(--disabled-fill-color);\n",
              "    box-shadow: none;\n",
              "  }\n",
              "\n",
              "  .colab-df-spinner {\n",
              "    border: 2px solid var(--fill-color);\n",
              "    border-color: transparent;\n",
              "    border-bottom-color: var(--fill-color);\n",
              "    animation:\n",
              "      spin 1s steps(1) infinite;\n",
              "  }\n",
              "\n",
              "  @keyframes spin {\n",
              "    0% {\n",
              "      border-color: transparent;\n",
              "      border-bottom-color: var(--fill-color);\n",
              "      border-left-color: var(--fill-color);\n",
              "    }\n",
              "    20% {\n",
              "      border-color: transparent;\n",
              "      border-left-color: var(--fill-color);\n",
              "      border-top-color: var(--fill-color);\n",
              "    }\n",
              "    30% {\n",
              "      border-color: transparent;\n",
              "      border-left-color: var(--fill-color);\n",
              "      border-top-color: var(--fill-color);\n",
              "      border-right-color: var(--fill-color);\n",
              "    }\n",
              "    40% {\n",
              "      border-color: transparent;\n",
              "      border-right-color: var(--fill-color);\n",
              "      border-top-color: var(--fill-color);\n",
              "    }\n",
              "    60% {\n",
              "      border-color: transparent;\n",
              "      border-right-color: var(--fill-color);\n",
              "    }\n",
              "    80% {\n",
              "      border-color: transparent;\n",
              "      border-right-color: var(--fill-color);\n",
              "      border-bottom-color: var(--fill-color);\n",
              "    }\n",
              "    90% {\n",
              "      border-color: transparent;\n",
              "      border-bottom-color: var(--fill-color);\n",
              "    }\n",
              "  }\n",
              "</style>\n",
              "\n",
              "  <script>\n",
              "    async function quickchart(key) {\n",
              "      const quickchartButtonEl =\n",
              "        document.querySelector('#' + key + ' button');\n",
              "      quickchartButtonEl.disabled = true;  // To prevent multiple clicks.\n",
              "      quickchartButtonEl.classList.add('colab-df-spinner');\n",
              "      try {\n",
              "        const charts = await google.colab.kernel.invokeFunction(\n",
              "            'suggestCharts', [key], {});\n",
              "      } catch (error) {\n",
              "        console.error('Error during call to suggestCharts:', error);\n",
              "      }\n",
              "      quickchartButtonEl.classList.remove('colab-df-spinner');\n",
              "      quickchartButtonEl.classList.add('colab-df-quickchart-complete');\n",
              "    }\n",
              "    (() => {\n",
              "      let quickchartButtonEl =\n",
              "        document.querySelector('#df-d225033b-6188-405e-9596-72626ce97152 button');\n",
              "      quickchartButtonEl.style.display =\n",
              "        google.colab.kernel.accessAllowed ? 'block' : 'none';\n",
              "    })();\n",
              "  </script>\n",
              "</div>\n",
              "    </div>\n",
              "  </div>\n"
            ],
            "application/vnd.google.colaboratory.intrinsic+json": {
              "type": "dataframe",
              "variable_name": "noticiasDf",
              "summary": "{\n  \"name\": \"noticiasDf\",\n  \"rows\": 11314,\n  \"fields\": [\n    {\n      \"column\": \"documento\",\n      \"properties\": {\n        \"dtype\": \"string\",\n        \"num_unique_values\": 10994,\n        \"samples\": [\n          \"\\nWell, if you want to pick on Morgan, why not attack its ash (wood)\\nframe or its hand-bent metal skin (just try and get a replacement :-)).  \\nI thought the kingpost suspension was one of the Mog's better features.\",\n          \"I am writing a custom widget to support the display of graphics\\nand imagery.  The user of the widget will be able to specify,\\nwhen creating it, whether it is to operate in X or GL mode.\\n\\nI have set up translations and actions to handle mouse button\\npresses.  They work fine when the widget is in X mode.  In GL \\nmode they only work when the widget (my GL/X widget) is a child\\nof a manager.  Put another way, the translations do not work \\nwhen the widget is configured in GL mode and is a child of a \\nshell.  Does anyone know why this is happening?\",\n          \"long\\ndisk\\n\\n\\nI don't know how many times I've posted this the net.  No one EVER\\nlistens.  \\n\\nOnce and for all:  Floptical Media is only $1.40 a megabyte if you don't\\nknow where to buy it.  I am bying my flopticals at $30 per 2 disks.  I\\nsee that as $.75 a meagabyte, NOT $1.40.  No, I'm not buying in bulk, I'm\\nnot getting a special deal.  $.75 a meg is good in my book, Approching\\nfloppy price.\\n\\nAny questions on my source can be sent to ctr@po.cwru.edu.\\n\"\n        ],\n        \"semantic_type\": \"\",\n        \"description\": \"\"\n      }\n    },\n    {\n      \"column\": \"documento_limpo\",\n      \"properties\": {\n        \"dtype\": \"string\",\n        \"num_unique_values\": 10958,\n        \"samples\": [\n          \"have normal procomm plus dos, i've been considering buying windows version....it really great reviews computer shopper. have friend connects mainframe unix machines here using screen seems have problem keeping with modem....he 14,400 modem machine. can't having trouble keeping pcplus works great, what after high speed modem arrives. edition this article applies only windows 3.1, os/2 apps running under windows. unadvertised limitations most current windows that their rs-232c (serial, com) performance seriously deficient. almost everyone purchases high-speed modem (v.32bis, v.32, hst) discovers problem first time they download file accept incoming 9600+) after upgrading modem. overrun retry errors abound, even when only active application datacomm program. transfer completes all, take even longer than with 2400bps modem. there three reasons problem: universal asynchronous receiver/transmitters (uarts) used most primitive ns8250 devices with single-byte fifo buffers. operating system/driver cannot read flush each character high interrupt rates, next incoming character overwrites fifo previous lost. dos, being fairly single-minded environment during datacomm, usually keep windows can't. windows more operating system overhead than plain dos, interrupts often take longer service. overruns much more likely than under dos. soon report your pc/modem vendor that losing data, advised that \\\"you need upgrade 16550\\\". more likely, since there seems conspiracy ignorance about this issue, you'll useful advice all. most store-front mail-order sources spoke with attempting solve problem never heard term \\\"16550\\\" many didn't even know what uart was. even your ns16550a uarts (and ps/2's do), upgrade your mother/com board board, still experience errors overruns because standard microsoft windows drivers don't take full advantage 16550. windows improved this regard over 3.0, still recommend driver upgrade. applications like procomm+/win (which what use) cannot around this problem themselves. have modem card, have problem, modem part card designed aware state uart, avoid overrunning however, wouldn't want that card designers were that clever, will insist 16550 uart ever modem card. some modem cards don't even have conventional uarts, they work with standard windows drivers, they need simulate one. msd.exe (below) what modem card pretending hardware situation. uarts most ports based national semiconductor ns8250 ns16450 chips megacells inside vlsi chips where can't replace them). uart type your system running microsoft diagnostic program \\\\windows\\\\msd.exe. sure *before* bringing windows. windows serial prevent from accurately identifying 16550 from windows prompt. ns16550 uart separate 16-byte transmit receive fifos with configurable trigger levels, reliably clock rates 460,800 bps, although with current modem technology, there's point pushing your luck going over 115,200 bps. 16550 shorted access cycle times than 16450 8250. 16550 also capability, clear that drivers ever this. more technical info, national semiconductor application note an-491. what uart component have? locate uart your mother board, multi-function card, board isa/mca modem card. can't find socketed component with numbers \\\"8250\\\" \\\"16450\\\", your ports probably buried vlsi, won't able perform chip replacement. disable your vlsi ports chose do), least aftermarket board. have more socketed 8250 16450 chips, plug-in ns16550afn pc16c550cn (low power cmos version) from several suppliers typically each. chip normal 40-pin dual-in-line package. other styles available, avoid ns16550 chips without (the 16c550c presumably ok). early chips have bugs, although national will reportedly exchange those their manufacture free. clone chips available from various makers other than national. manual turbocom drivers states support following (apparently equivalent) chips: national semiconductor: 16550a, 16551, 16552 chips&technology: 82c607 texas instruments: t16c550a silicon systems: 73m550 vlsi 16c550 turbocom warns about pre-\\\"a\\\" ns16550 western digital 16c550, says that problems have been reported with early ps/2 55sx systems (ibm reportedly will upgrade them). don't have socketed 8250/16450 chips, you'll need after- market multi-function board. this modem card situation, hosed. multi-function card, you'll need either disable com1/2 port(s) replacing, re-assign them com3/4 (although watch conflicts without turbocom). although cheaper cards available, interest getting problem solved quickly elected modular circuit technology mct-aio+ card from: microdevices 2233 samaritan drive jose 95124 (800) 538-5000 voice (408) 559-1200 voice other (800) 538-5005 mct-aio+ (and important) sells $89.95. 8-bit card providing: port type connector address comments db9m 1,2,3 2,3,4,5 ns16550afn socket ribbon 2,3,4 2,3,4,5 ns16550afn socket parallel db25f lpt1,2,3 game ribbon includes ribbon cable db25f connector secondary port, ribbon cable/connector game port, bulkhead plates ribbon-based connectors 9f-to-25f adaptor cable. each port individually disabled, ports have rts, cts, dtr, dcd, jumpers. also sells super-i/o card that also ide. have heard from several people about less expensive cards with 16550s: systems (407) 331-9130 $19.95 card, plus $9.95 16550. greenfield trading distributors (518) 271-2473 (voice), (518) 271-7811(fax). their card w/one 16550, w/2, they sell 16550afns $13. data systems, inc. east highway longwood, 32750 phone: (407) 331-1424 fax: (407) 331-8606 2com/lpt/game card 16550s have personal experience with firms except jdr. meanwhile, back card from jdr... only needed serial ports, running irqs disabled built-in vlsi-based 8250 ports. however, with turbocom driver (below), could have internals com3 using sharing. software situation simply upgrading 16550 uarts will completely solve common overrun problems. standard serial drivers don't take full advantage 16550. windows drivers even less capable, windows drivers have following limitations: they enable only receive fifo, only rates above 2400 bps. they never enable transmit fifo, which results interrupt rate during uploads. they trigger level bytes (too high it's easy more bytes arrive before driver read fifo). ports menu control panel only allows speeds 19200. with v.32bis modem, sparse data text easily compress more, suggesting that host connect rate 57,600 would effective. won't accept rates above \\\"cbr_128000\\\". won't programs know there 16550 there, even did, programs that aren't 16550-aware little benefit from 16550 port with standard drivers. they don't allow sharing com3,4. bios doesn't initialize com3,4 properly many systems. windows provides workaround apps that don't provide port speed options above 19200 bps. these problems reportedly solved windows 6.0, addressed windows releases after (but before 4.0). rumors suggest they \\\"may\\\" solved windows \\\"4.0\\\". replacement drivers that solve those problems buying copy \\\"turbocom\\\", current version 1.2, from: bio-engineering research pacific commware division beacon hill lane ashland 97520-9701 (503) 482-2744 voice (503) 482-2627 (503) 482-2633 mcimail: 344-5374 compuserve: 71521,760 price around recall. bio-eng accept credit cards, send check. egghead 1-800-software list turbocom know, they don't stock software company they apparently needed reliable hi-speed serial connections in-house instrument application, wrote their driver, discovered market revised general purpose driver suite. they recently upgraded windows 3.1. run-time licensed. have host (dte) connect rate 57,600 most datacomm apps, having zero problems with downloads. routinely transfer rates that exceed 2,000 bps. also using 115,200 when linking hp95lx with lossless bi-directional i/o. uploads various remote systems another matter, because many hosts still using antique uarts drivers. note that 19200 still highest rate that windows port menu control panel will allow configuring port. turbocom gets around this allowing specify, each port, factor that will real uart rate multiple rate passed through windows apis dialog boxes. also have cts/rts hardware flow control enabled, suggest that same. even only ever transfer 7-bit ascii data, xon/xoff sufficiently reliable method flow control. informal (dec) standard xon/xoff hysteresis that sender transmit another (yes, sixteen) bytes after receipt xoff from receiving system device. byte fifo 16550 clearly enough rely exclusively xon/xoff. well-respected datacomm engineer informed that 16550's can't really cts/rts itself dos/windows environment, using data rates above 115,200 still risky. even with hardware flow control, 16550 with turbocom still experience overruns very busy systems, with lots apps running serious swapping progress. this your situation, need co-processed board, this will cost more than 16550/turbocom upgrade. review such boards, review turbocom, found feb'93 issue \\\"windows sources\\\" magazine. suggest trying 16550/turbocom upgrade first, experiment with process priorities time slices \\\"power user\\\" whose thrashing system still runs into comm problems. closing soapbox comments state rs-232c serial datacomm support embarrassment across computer industry. because oldest standard interface, designing hardware writing software often seems assigned least senior lowest ranked engineers computer companies. design average serial port least years behind state art. last job, with major workstation vendor, lobbied improved serial ports when they were doing initial designs system. that family machines subsequently introduced with 16550 ports. however, this exception. computer companies seem have champions decent i/o. well learn what about serial i/o, because this situation shows sign improving soon. when v.fast arrives, expect cries outrage from windows users world-wide whose 8250 \\\"sort work today with v.32, will fail miserably with v.fast. without hardware-buffered uart (like 16550) without software drivers that that uart best advantage, v.fast modem will waste money. regards, 1001-a east harmony road niland suite internet: rjn@csn.org fort collins 80525 compuserve: 71044,2124 (303) 223-5209 copyright 1993 robert niland rights reserved permission granted automatic redistribution this article, electronic, magnetic optical media, unedited form, through usenet newsgroup where article posted author. permission granted each compuserve usenet reader subscriber each person received this article from compuserve, site authorized author electronic mail from author, retain electronic copy make hardcopy reproductions this edition this article personal non-commercial use, provided that material changes made article this copyright statement. other copying, storage, reproduction redistribution this article, form, prohibited without express written consent author, robert niland.\",\n          \"what find wrong with flat subaru's, flat that matter?\",\n          \"those interested ultra cards: posted some questions regarding ultra cards asked confirmation some opinions. this message summary responses. thanks that replied. higher memory limits apply cards only, know. eisa version should have problems. pretty sure from experience that version doesn't work systems with over ram. there supposed switching \\\"memory aperture\\\" feature prevent this, apparently doesn't work. posted some \\\"help messages people indicated that eisa card didn't have this problem. false card, which have, allows memory aperture over using their configuration software. messing with jumpers necessary. problem probably valid only cards. again, memory aperture need only disabled have more than 124m (eisa vlb) (isa). should problem you. dunno. depends bus. isa, eisa localbus nope. 640x480 72hz, 24-bit 800x600 70hz, 24-bit, non-interlaced. according magazine, they've tested local version that does 1024x768 24-bit which interlaced. pro. sometimes plus. some modes only interlaced certain monitors. this nothing with bits only with screen size. note that color windows must have megs, memory size calculations notwithstanding. they aren't perfect, much improved. don't recall last time which leave mach mode (ati mode) switch 8514 mode software incompatibility. true. many people recommended going back build they appear excellent, have bugs. example, certain graphs with dashed lines mathcad print correctly, though they display screen. they about fancy cards other accelerated cards also have bugs. overall, like card, even driver performance somewhat less than satisfactory. running 1024*768 color mode that driver october version seems allow. will this that color performance quite nice diamond stealth vram, have been able options driver. it's quite fast, whether fastest open debate. i'll admit very very fast 16-bit mode, which what wanted for. crashed many different ways) every minutes so... depends many many things. like well magazine seems think yes, this appears true greatest thing since sliced bread, doubt better cards coming out. knows, maybe will come with something faster yet. several reviews read rated pycon winjet card superior performer cheaper price except availability drivers, which pycon developing that time. magazine, about months back) overall, card potential, have able ----------------------------------------------------------------------------- that questions. these were most discussed items this group thought they needed confirmation. those familiar with card have included summary here (from since don't have graphics ultra yet.) graphics ultra plus: accelerated 1024x768 colours true colour(16.7m) 800x600 multimedia video acceleration (for indeo video,rle video compressed) stretch full motion video windows full size fast includes button mouse (isa versions only) anti-aliased fonts (ed. avail colour mode only,i think) real-time zoom across large virtual windows desktop around length card size priced from $400 u.s. graphics ultra pro: everything graphics ultra plus faster performance with vrams accelerated 1280x1024 colours 74hz non-interlaced available isa, eisa microchannel priced from $600 u.s. technologies (416) 756-0718 hope this summary you. p.s. associated with technologies other than having used their previous ultra card years (which generally liked).\"\n        ],\n        \"semantic_type\": \"\",\n        \"description\": \"\"\n      }\n    }\n  ]\n}"
            }
          },
          "metadata": {},
          "execution_count": 25
        }
      ]
    },
    {
      "cell_type": "markdown",
      "metadata": {
        "id": "ez5REFPKjWQP"
      },
      "source": [
        "Vamos criar uma nova coluna neste DataFrame com o número do tópico correspondente"
      ]
    },
    {
      "cell_type": "code",
      "metadata": {
        "id": "sWC2MiKZjbSM"
      },
      "source": [
        "# Obtém as probabilidades de cada tópico por texto\n",
        "topicos_prob = LDA.transform(mtd)"
      ],
      "execution_count": null,
      "outputs": []
    },
    {
      "cell_type": "code",
      "metadata": {
        "id": "qo0F5TEmj0-A",
        "colab": {
          "base_uri": "https://localhost:8080/"
        },
        "outputId": "e55375a8-76a2-4c56-db2f-d7e1d3ab01f6"
      },
      "source": [
        "# Textos x Tópicos\n",
        "topicos_prob.shape"
      ],
      "execution_count": null,
      "outputs": [
        {
          "output_type": "execute_result",
          "data": {
            "text/plain": [
              "(11314, 20)"
            ]
          },
          "metadata": {},
          "execution_count": 27
        }
      ]
    },
    {
      "cell_type": "code",
      "metadata": {
        "id": "t2AVwLSLj7_5",
        "colab": {
          "base_uri": "https://localhost:8080/"
        },
        "outputId": "b50a2cd8-5590-481e-b46e-c10390bce324"
      },
      "source": [
        "# Probabilidades de cada tópico para o PRIMEIRO DOCUMENTO do corpus\n",
        "topicos_prob[0]"
      ],
      "execution_count": null,
      "outputs": [
        {
          "output_type": "execute_result",
          "data": {
            "text/plain": [
              "array([0.00086207, 0.00086207, 0.07407759, 0.3981824 , 0.00086207,\n",
              "       0.00086207, 0.00086207, 0.00086207, 0.00086207, 0.00086207,\n",
              "       0.00086207, 0.16871744, 0.00086207, 0.00086207, 0.34522946,\n",
              "       0.00086207, 0.00086207, 0.00086207, 0.00086207, 0.00086207])"
            ]
          },
          "metadata": {},
          "execution_count": 28
        }
      ]
    },
    {
      "cell_type": "markdown",
      "metadata": {
        "id": "J5kd5maAkLCI"
      },
      "source": [
        "Abra o documento em questão e verifique se o texto tem realmente relação com as palavras associadas ao tópico. Faça isso para vários documentos."
      ]
    },
    {
      "cell_type": "code",
      "metadata": {
        "id": "DdtdmThokXwU",
        "colab": {
          "base_uri": "https://localhost:8080/",
          "height": 122
        },
        "outputId": "7555d920-5492-4eb1-c2ea-984584f3e488"
      },
      "source": [
        "noticiasDf['documento'][0]"
      ],
      "execution_count": null,
      "outputs": [
        {
          "output_type": "execute_result",
          "data": {
            "text/plain": [
              "\"Well i'm not sure about the story nad it did seem biased. What\\nI disagree with is your statement that the U.S. Media is out to\\nruin Israels reputation. That is rediculous. The U.S. media is\\nthe most pro-israeli media in the world. Having lived in Europe\\nI realize that incidences such as the one described in the\\nletter have occured. The U.S. media as a whole seem to try to\\nignore them. The U.S. is subsidizing Israels existance and the\\nEuropeans are not (at least not to the same degree). So I think\\nthat might be a reason they report more clearly on the\\natrocities.\\n\\tWhat is a shame is that in Austria, daily reports of\\nthe inhuman acts commited by Israeli soldiers and the blessing\\nreceived from the Government makes some of the Holocaust guilt\\ngo away. After all, look how the Jews are treating other races\\nwhen they got power. It is unfortunate.\\n\""
            ],
            "application/vnd.google.colaboratory.intrinsic+json": {
              "type": "string"
            }
          },
          "metadata": {},
          "execution_count": 29
        }
      ]
    },
    {
      "cell_type": "code",
      "metadata": {
        "id": "yUtkVqQ7kucs",
        "colab": {
          "base_uri": "https://localhost:8080/",
          "height": 423
        },
        "outputId": "4b03ce9c-edd2-4ac8-dd68-0ce8d56f6135"
      },
      "source": [
        "# Obtém a posição da maior probabilidade para cada documento e coloca na nova coluna\n",
        "noticiasDf['topico'] = topicos_prob.argmax(axis=1)\n",
        "noticiasDf"
      ],
      "execution_count": null,
      "outputs": [
        {
          "output_type": "execute_result",
          "data": {
            "text/plain": [
              "                                               documento  \\\n",
              "0      Well i'm not sure about the story nad it did s...   \n",
              "1      \\n\\n\\n\\n\\n\\n\\nYeah, do you expect people to re...   \n",
              "2      Although I realize that principle is not one o...   \n",
              "3      Notwithstanding all the legitimate fuss about ...   \n",
              "4      Well, I will have to change the scoring on my ...   \n",
              "...                                                  ...   \n",
              "11309  Danny Rubenstein, an Israeli journalist, will ...   \n",
              "11310                                                 \\n   \n",
              "11311  \\nI agree.  Home runs off Clemens are always m...   \n",
              "11312  I used HP DeskJet with Orange Micros Grappler ...   \n",
              "11313                                        ^^^^^^\\n...   \n",
              "\n",
              "                                         documento_limpo  topico  \n",
              "0      well sure about story seem biased. what disagr...       3  \n",
              "1      yeah, expect people read faq, etc. actually ac...      11  \n",
              "2      although realize that principle your strongest...      14  \n",
              "3      notwithstanding legitimate fuss about this pro...      10  \n",
              "4      well, will have change scoring playoff pool. u...      17  \n",
              "...                                                  ...     ...  \n",
              "11309  danny rubenstein, israeli journalist, will spe...      17  \n",
              "11310                                                          0  \n",
              "11311  agree. home runs clemens always memorable. kin...       9  \n",
              "11312  used deskjet with orange micros grappler syste...       6  \n",
              "11313  ^^^^^^ argument with murphy. scared hell when ...       9  \n",
              "\n",
              "[11314 rows x 3 columns]"
            ],
            "text/html": [
              "\n",
              "  <div id=\"df-ccfbe430-eb7d-4aa2-a267-4ed6fdd9a319\" class=\"colab-df-container\">\n",
              "    <div>\n",
              "<style scoped>\n",
              "    .dataframe tbody tr th:only-of-type {\n",
              "        vertical-align: middle;\n",
              "    }\n",
              "\n",
              "    .dataframe tbody tr th {\n",
              "        vertical-align: top;\n",
              "    }\n",
              "\n",
              "    .dataframe thead th {\n",
              "        text-align: right;\n",
              "    }\n",
              "</style>\n",
              "<table border=\"1\" class=\"dataframe\">\n",
              "  <thead>\n",
              "    <tr style=\"text-align: right;\">\n",
              "      <th></th>\n",
              "      <th>documento</th>\n",
              "      <th>documento_limpo</th>\n",
              "      <th>topico</th>\n",
              "    </tr>\n",
              "  </thead>\n",
              "  <tbody>\n",
              "    <tr>\n",
              "      <th>0</th>\n",
              "      <td>Well i'm not sure about the story nad it did s...</td>\n",
              "      <td>well sure about story seem biased. what disagr...</td>\n",
              "      <td>3</td>\n",
              "    </tr>\n",
              "    <tr>\n",
              "      <th>1</th>\n",
              "      <td>\\n\\n\\n\\n\\n\\n\\nYeah, do you expect people to re...</td>\n",
              "      <td>yeah, expect people read faq, etc. actually ac...</td>\n",
              "      <td>11</td>\n",
              "    </tr>\n",
              "    <tr>\n",
              "      <th>2</th>\n",
              "      <td>Although I realize that principle is not one o...</td>\n",
              "      <td>although realize that principle your strongest...</td>\n",
              "      <td>14</td>\n",
              "    </tr>\n",
              "    <tr>\n",
              "      <th>3</th>\n",
              "      <td>Notwithstanding all the legitimate fuss about ...</td>\n",
              "      <td>notwithstanding legitimate fuss about this pro...</td>\n",
              "      <td>10</td>\n",
              "    </tr>\n",
              "    <tr>\n",
              "      <th>4</th>\n",
              "      <td>Well, I will have to change the scoring on my ...</td>\n",
              "      <td>well, will have change scoring playoff pool. u...</td>\n",
              "      <td>17</td>\n",
              "    </tr>\n",
              "    <tr>\n",
              "      <th>...</th>\n",
              "      <td>...</td>\n",
              "      <td>...</td>\n",
              "      <td>...</td>\n",
              "    </tr>\n",
              "    <tr>\n",
              "      <th>11309</th>\n",
              "      <td>Danny Rubenstein, an Israeli journalist, will ...</td>\n",
              "      <td>danny rubenstein, israeli journalist, will spe...</td>\n",
              "      <td>17</td>\n",
              "    </tr>\n",
              "    <tr>\n",
              "      <th>11310</th>\n",
              "      <td>\\n</td>\n",
              "      <td></td>\n",
              "      <td>0</td>\n",
              "    </tr>\n",
              "    <tr>\n",
              "      <th>11311</th>\n",
              "      <td>\\nI agree.  Home runs off Clemens are always m...</td>\n",
              "      <td>agree. home runs clemens always memorable. kin...</td>\n",
              "      <td>9</td>\n",
              "    </tr>\n",
              "    <tr>\n",
              "      <th>11312</th>\n",
              "      <td>I used HP DeskJet with Orange Micros Grappler ...</td>\n",
              "      <td>used deskjet with orange micros grappler syste...</td>\n",
              "      <td>6</td>\n",
              "    </tr>\n",
              "    <tr>\n",
              "      <th>11313</th>\n",
              "      <td>^^^^^^\\n...</td>\n",
              "      <td>^^^^^^ argument with murphy. scared hell when ...</td>\n",
              "      <td>9</td>\n",
              "    </tr>\n",
              "  </tbody>\n",
              "</table>\n",
              "<p>11314 rows × 3 columns</p>\n",
              "</div>\n",
              "    <div class=\"colab-df-buttons\">\n",
              "\n",
              "  <div class=\"colab-df-container\">\n",
              "    <button class=\"colab-df-convert\" onclick=\"convertToInteractive('df-ccfbe430-eb7d-4aa2-a267-4ed6fdd9a319')\"\n",
              "            title=\"Convert this dataframe to an interactive table.\"\n",
              "            style=\"display:none;\">\n",
              "\n",
              "  <svg xmlns=\"http://www.w3.org/2000/svg\" height=\"24px\" viewBox=\"0 -960 960 960\">\n",
              "    <path d=\"M120-120v-720h720v720H120Zm60-500h600v-160H180v160Zm220 220h160v-160H400v160Zm0 220h160v-160H400v160ZM180-400h160v-160H180v160Zm440 0h160v-160H620v160ZM180-180h160v-160H180v160Zm440 0h160v-160H620v160Z\"/>\n",
              "  </svg>\n",
              "    </button>\n",
              "\n",
              "  <style>\n",
              "    .colab-df-container {\n",
              "      display:flex;\n",
              "      gap: 12px;\n",
              "    }\n",
              "\n",
              "    .colab-df-convert {\n",
              "      background-color: #E8F0FE;\n",
              "      border: none;\n",
              "      border-radius: 50%;\n",
              "      cursor: pointer;\n",
              "      display: none;\n",
              "      fill: #1967D2;\n",
              "      height: 32px;\n",
              "      padding: 0 0 0 0;\n",
              "      width: 32px;\n",
              "    }\n",
              "\n",
              "    .colab-df-convert:hover {\n",
              "      background-color: #E2EBFA;\n",
              "      box-shadow: 0px 1px 2px rgba(60, 64, 67, 0.3), 0px 1px 3px 1px rgba(60, 64, 67, 0.15);\n",
              "      fill: #174EA6;\n",
              "    }\n",
              "\n",
              "    .colab-df-buttons div {\n",
              "      margin-bottom: 4px;\n",
              "    }\n",
              "\n",
              "    [theme=dark] .colab-df-convert {\n",
              "      background-color: #3B4455;\n",
              "      fill: #D2E3FC;\n",
              "    }\n",
              "\n",
              "    [theme=dark] .colab-df-convert:hover {\n",
              "      background-color: #434B5C;\n",
              "      box-shadow: 0px 1px 3px 1px rgba(0, 0, 0, 0.15);\n",
              "      filter: drop-shadow(0px 1px 2px rgba(0, 0, 0, 0.3));\n",
              "      fill: #FFFFFF;\n",
              "    }\n",
              "  </style>\n",
              "\n",
              "    <script>\n",
              "      const buttonEl =\n",
              "        document.querySelector('#df-ccfbe430-eb7d-4aa2-a267-4ed6fdd9a319 button.colab-df-convert');\n",
              "      buttonEl.style.display =\n",
              "        google.colab.kernel.accessAllowed ? 'block' : 'none';\n",
              "\n",
              "      async function convertToInteractive(key) {\n",
              "        const element = document.querySelector('#df-ccfbe430-eb7d-4aa2-a267-4ed6fdd9a319');\n",
              "        const dataTable =\n",
              "          await google.colab.kernel.invokeFunction('convertToInteractive',\n",
              "                                                    [key], {});\n",
              "        if (!dataTable) return;\n",
              "\n",
              "        const docLinkHtml = 'Like what you see? Visit the ' +\n",
              "          '<a target=\"_blank\" href=https://colab.research.google.com/notebooks/data_table.ipynb>data table notebook</a>'\n",
              "          + ' to learn more about interactive tables.';\n",
              "        element.innerHTML = '';\n",
              "        dataTable['output_type'] = 'display_data';\n",
              "        await google.colab.output.renderOutput(dataTable, element);\n",
              "        const docLink = document.createElement('div');\n",
              "        docLink.innerHTML = docLinkHtml;\n",
              "        element.appendChild(docLink);\n",
              "      }\n",
              "    </script>\n",
              "  </div>\n",
              "\n",
              "\n",
              "<div id=\"df-304cf844-35dd-42e1-879d-15e760c3b5d7\">\n",
              "  <button class=\"colab-df-quickchart\" onclick=\"quickchart('df-304cf844-35dd-42e1-879d-15e760c3b5d7')\"\n",
              "            title=\"Suggest charts\"\n",
              "            style=\"display:none;\">\n",
              "\n",
              "<svg xmlns=\"http://www.w3.org/2000/svg\" height=\"24px\"viewBox=\"0 0 24 24\"\n",
              "     width=\"24px\">\n",
              "    <g>\n",
              "        <path d=\"M19 3H5c-1.1 0-2 .9-2 2v14c0 1.1.9 2 2 2h14c1.1 0 2-.9 2-2V5c0-1.1-.9-2-2-2zM9 17H7v-7h2v7zm4 0h-2V7h2v10zm4 0h-2v-4h2v4z\"/>\n",
              "    </g>\n",
              "</svg>\n",
              "  </button>\n",
              "\n",
              "<style>\n",
              "  .colab-df-quickchart {\n",
              "      --bg-color: #E8F0FE;\n",
              "      --fill-color: #1967D2;\n",
              "      --hover-bg-color: #E2EBFA;\n",
              "      --hover-fill-color: #174EA6;\n",
              "      --disabled-fill-color: #AAA;\n",
              "      --disabled-bg-color: #DDD;\n",
              "  }\n",
              "\n",
              "  [theme=dark] .colab-df-quickchart {\n",
              "      --bg-color: #3B4455;\n",
              "      --fill-color: #D2E3FC;\n",
              "      --hover-bg-color: #434B5C;\n",
              "      --hover-fill-color: #FFFFFF;\n",
              "      --disabled-bg-color: #3B4455;\n",
              "      --disabled-fill-color: #666;\n",
              "  }\n",
              "\n",
              "  .colab-df-quickchart {\n",
              "    background-color: var(--bg-color);\n",
              "    border: none;\n",
              "    border-radius: 50%;\n",
              "    cursor: pointer;\n",
              "    display: none;\n",
              "    fill: var(--fill-color);\n",
              "    height: 32px;\n",
              "    padding: 0;\n",
              "    width: 32px;\n",
              "  }\n",
              "\n",
              "  .colab-df-quickchart:hover {\n",
              "    background-color: var(--hover-bg-color);\n",
              "    box-shadow: 0 1px 2px rgba(60, 64, 67, 0.3), 0 1px 3px 1px rgba(60, 64, 67, 0.15);\n",
              "    fill: var(--button-hover-fill-color);\n",
              "  }\n",
              "\n",
              "  .colab-df-quickchart-complete:disabled,\n",
              "  .colab-df-quickchart-complete:disabled:hover {\n",
              "    background-color: var(--disabled-bg-color);\n",
              "    fill: var(--disabled-fill-color);\n",
              "    box-shadow: none;\n",
              "  }\n",
              "\n",
              "  .colab-df-spinner {\n",
              "    border: 2px solid var(--fill-color);\n",
              "    border-color: transparent;\n",
              "    border-bottom-color: var(--fill-color);\n",
              "    animation:\n",
              "      spin 1s steps(1) infinite;\n",
              "  }\n",
              "\n",
              "  @keyframes spin {\n",
              "    0% {\n",
              "      border-color: transparent;\n",
              "      border-bottom-color: var(--fill-color);\n",
              "      border-left-color: var(--fill-color);\n",
              "    }\n",
              "    20% {\n",
              "      border-color: transparent;\n",
              "      border-left-color: var(--fill-color);\n",
              "      border-top-color: var(--fill-color);\n",
              "    }\n",
              "    30% {\n",
              "      border-color: transparent;\n",
              "      border-left-color: var(--fill-color);\n",
              "      border-top-color: var(--fill-color);\n",
              "      border-right-color: var(--fill-color);\n",
              "    }\n",
              "    40% {\n",
              "      border-color: transparent;\n",
              "      border-right-color: var(--fill-color);\n",
              "      border-top-color: var(--fill-color);\n",
              "    }\n",
              "    60% {\n",
              "      border-color: transparent;\n",
              "      border-right-color: var(--fill-color);\n",
              "    }\n",
              "    80% {\n",
              "      border-color: transparent;\n",
              "      border-right-color: var(--fill-color);\n",
              "      border-bottom-color: var(--fill-color);\n",
              "    }\n",
              "    90% {\n",
              "      border-color: transparent;\n",
              "      border-bottom-color: var(--fill-color);\n",
              "    }\n",
              "  }\n",
              "</style>\n",
              "\n",
              "  <script>\n",
              "    async function quickchart(key) {\n",
              "      const quickchartButtonEl =\n",
              "        document.querySelector('#' + key + ' button');\n",
              "      quickchartButtonEl.disabled = true;  // To prevent multiple clicks.\n",
              "      quickchartButtonEl.classList.add('colab-df-spinner');\n",
              "      try {\n",
              "        const charts = await google.colab.kernel.invokeFunction(\n",
              "            'suggestCharts', [key], {});\n",
              "      } catch (error) {\n",
              "        console.error('Error during call to suggestCharts:', error);\n",
              "      }\n",
              "      quickchartButtonEl.classList.remove('colab-df-spinner');\n",
              "      quickchartButtonEl.classList.add('colab-df-quickchart-complete');\n",
              "    }\n",
              "    (() => {\n",
              "      let quickchartButtonEl =\n",
              "        document.querySelector('#df-304cf844-35dd-42e1-879d-15e760c3b5d7 button');\n",
              "      quickchartButtonEl.style.display =\n",
              "        google.colab.kernel.accessAllowed ? 'block' : 'none';\n",
              "    })();\n",
              "  </script>\n",
              "</div>\n",
              "    </div>\n",
              "  </div>\n"
            ],
            "application/vnd.google.colaboratory.intrinsic+json": {
              "type": "dataframe",
              "variable_name": "noticiasDf",
              "summary": "{\n  \"name\": \"noticiasDf\",\n  \"rows\": 11314,\n  \"fields\": [\n    {\n      \"column\": \"documento\",\n      \"properties\": {\n        \"dtype\": \"string\",\n        \"num_unique_values\": 10994,\n        \"samples\": [\n          \"\\nWell, if you want to pick on Morgan, why not attack its ash (wood)\\nframe or its hand-bent metal skin (just try and get a replacement :-)).  \\nI thought the kingpost suspension was one of the Mog's better features.\",\n          \"I am writing a custom widget to support the display of graphics\\nand imagery.  The user of the widget will be able to specify,\\nwhen creating it, whether it is to operate in X or GL mode.\\n\\nI have set up translations and actions to handle mouse button\\npresses.  They work fine when the widget is in X mode.  In GL \\nmode they only work when the widget (my GL/X widget) is a child\\nof a manager.  Put another way, the translations do not work \\nwhen the widget is configured in GL mode and is a child of a \\nshell.  Does anyone know why this is happening?\",\n          \"long\\ndisk\\n\\n\\nI don't know how many times I've posted this the net.  No one EVER\\nlistens.  \\n\\nOnce and for all:  Floptical Media is only $1.40 a megabyte if you don't\\nknow where to buy it.  I am bying my flopticals at $30 per 2 disks.  I\\nsee that as $.75 a meagabyte, NOT $1.40.  No, I'm not buying in bulk, I'm\\nnot getting a special deal.  $.75 a meg is good in my book, Approching\\nfloppy price.\\n\\nAny questions on my source can be sent to ctr@po.cwru.edu.\\n\"\n        ],\n        \"semantic_type\": \"\",\n        \"description\": \"\"\n      }\n    },\n    {\n      \"column\": \"documento_limpo\",\n      \"properties\": {\n        \"dtype\": \"string\",\n        \"num_unique_values\": 10958,\n        \"samples\": [\n          \"have normal procomm plus dos, i've been considering buying windows version....it really great reviews computer shopper. have friend connects mainframe unix machines here using screen seems have problem keeping with modem....he 14,400 modem machine. can't having trouble keeping pcplus works great, what after high speed modem arrives. edition this article applies only windows 3.1, os/2 apps running under windows. unadvertised limitations most current windows that their rs-232c (serial, com) performance seriously deficient. almost everyone purchases high-speed modem (v.32bis, v.32, hst) discovers problem first time they download file accept incoming 9600+) after upgrading modem. overrun retry errors abound, even when only active application datacomm program. transfer completes all, take even longer than with 2400bps modem. there three reasons problem: universal asynchronous receiver/transmitters (uarts) used most primitive ns8250 devices with single-byte fifo buffers. operating system/driver cannot read flush each character high interrupt rates, next incoming character overwrites fifo previous lost. dos, being fairly single-minded environment during datacomm, usually keep windows can't. windows more operating system overhead than plain dos, interrupts often take longer service. overruns much more likely than under dos. soon report your pc/modem vendor that losing data, advised that \\\"you need upgrade 16550\\\". more likely, since there seems conspiracy ignorance about this issue, you'll useful advice all. most store-front mail-order sources spoke with attempting solve problem never heard term \\\"16550\\\" many didn't even know what uart was. even your ns16550a uarts (and ps/2's do), upgrade your mother/com board board, still experience errors overruns because standard microsoft windows drivers don't take full advantage 16550. windows improved this regard over 3.0, still recommend driver upgrade. applications like procomm+/win (which what use) cannot around this problem themselves. have modem card, have problem, modem part card designed aware state uart, avoid overrunning however, wouldn't want that card designers were that clever, will insist 16550 uart ever modem card. some modem cards don't even have conventional uarts, they work with standard windows drivers, they need simulate one. msd.exe (below) what modem card pretending hardware situation. uarts most ports based national semiconductor ns8250 ns16450 chips megacells inside vlsi chips where can't replace them). uart type your system running microsoft diagnostic program \\\\windows\\\\msd.exe. sure *before* bringing windows. windows serial prevent from accurately identifying 16550 from windows prompt. ns16550 uart separate 16-byte transmit receive fifos with configurable trigger levels, reliably clock rates 460,800 bps, although with current modem technology, there's point pushing your luck going over 115,200 bps. 16550 shorted access cycle times than 16450 8250. 16550 also capability, clear that drivers ever this. more technical info, national semiconductor application note an-491. what uart component have? locate uart your mother board, multi-function card, board isa/mca modem card. can't find socketed component with numbers \\\"8250\\\" \\\"16450\\\", your ports probably buried vlsi, won't able perform chip replacement. disable your vlsi ports chose do), least aftermarket board. have more socketed 8250 16450 chips, plug-in ns16550afn pc16c550cn (low power cmos version) from several suppliers typically each. chip normal 40-pin dual-in-line package. other styles available, avoid ns16550 chips without (the 16c550c presumably ok). early chips have bugs, although national will reportedly exchange those their manufacture free. clone chips available from various makers other than national. manual turbocom drivers states support following (apparently equivalent) chips: national semiconductor: 16550a, 16551, 16552 chips&technology: 82c607 texas instruments: t16c550a silicon systems: 73m550 vlsi 16c550 turbocom warns about pre-\\\"a\\\" ns16550 western digital 16c550, says that problems have been reported with early ps/2 55sx systems (ibm reportedly will upgrade them). don't have socketed 8250/16450 chips, you'll need after- market multi-function board. this modem card situation, hosed. multi-function card, you'll need either disable com1/2 port(s) replacing, re-assign them com3/4 (although watch conflicts without turbocom). although cheaper cards available, interest getting problem solved quickly elected modular circuit technology mct-aio+ card from: microdevices 2233 samaritan drive jose 95124 (800) 538-5000 voice (408) 559-1200 voice other (800) 538-5005 mct-aio+ (and important) sells $89.95. 8-bit card providing: port type connector address comments db9m 1,2,3 2,3,4,5 ns16550afn socket ribbon 2,3,4 2,3,4,5 ns16550afn socket parallel db25f lpt1,2,3 game ribbon includes ribbon cable db25f connector secondary port, ribbon cable/connector game port, bulkhead plates ribbon-based connectors 9f-to-25f adaptor cable. each port individually disabled, ports have rts, cts, dtr, dcd, jumpers. also sells super-i/o card that also ide. have heard from several people about less expensive cards with 16550s: systems (407) 331-9130 $19.95 card, plus $9.95 16550. greenfield trading distributors (518) 271-2473 (voice), (518) 271-7811(fax). their card w/one 16550, w/2, they sell 16550afns $13. data systems, inc. east highway longwood, 32750 phone: (407) 331-1424 fax: (407) 331-8606 2com/lpt/game card 16550s have personal experience with firms except jdr. meanwhile, back card from jdr... only needed serial ports, running irqs disabled built-in vlsi-based 8250 ports. however, with turbocom driver (below), could have internals com3 using sharing. software situation simply upgrading 16550 uarts will completely solve common overrun problems. standard serial drivers don't take full advantage 16550. windows drivers even less capable, windows drivers have following limitations: they enable only receive fifo, only rates above 2400 bps. they never enable transmit fifo, which results interrupt rate during uploads. they trigger level bytes (too high it's easy more bytes arrive before driver read fifo). ports menu control panel only allows speeds 19200. with v.32bis modem, sparse data text easily compress more, suggesting that host connect rate 57,600 would effective. won't accept rates above \\\"cbr_128000\\\". won't programs know there 16550 there, even did, programs that aren't 16550-aware little benefit from 16550 port with standard drivers. they don't allow sharing com3,4. bios doesn't initialize com3,4 properly many systems. windows provides workaround apps that don't provide port speed options above 19200 bps. these problems reportedly solved windows 6.0, addressed windows releases after (but before 4.0). rumors suggest they \\\"may\\\" solved windows \\\"4.0\\\". replacement drivers that solve those problems buying copy \\\"turbocom\\\", current version 1.2, from: bio-engineering research pacific commware division beacon hill lane ashland 97520-9701 (503) 482-2744 voice (503) 482-2627 (503) 482-2633 mcimail: 344-5374 compuserve: 71521,760 price around recall. bio-eng accept credit cards, send check. egghead 1-800-software list turbocom know, they don't stock software company they apparently needed reliable hi-speed serial connections in-house instrument application, wrote their driver, discovered market revised general purpose driver suite. they recently upgraded windows 3.1. run-time licensed. have host (dte) connect rate 57,600 most datacomm apps, having zero problems with downloads. routinely transfer rates that exceed 2,000 bps. also using 115,200 when linking hp95lx with lossless bi-directional i/o. uploads various remote systems another matter, because many hosts still using antique uarts drivers. note that 19200 still highest rate that windows port menu control panel will allow configuring port. turbocom gets around this allowing specify, each port, factor that will real uart rate multiple rate passed through windows apis dialog boxes. also have cts/rts hardware flow control enabled, suggest that same. even only ever transfer 7-bit ascii data, xon/xoff sufficiently reliable method flow control. informal (dec) standard xon/xoff hysteresis that sender transmit another (yes, sixteen) bytes after receipt xoff from receiving system device. byte fifo 16550 clearly enough rely exclusively xon/xoff. well-respected datacomm engineer informed that 16550's can't really cts/rts itself dos/windows environment, using data rates above 115,200 still risky. even with hardware flow control, 16550 with turbocom still experience overruns very busy systems, with lots apps running serious swapping progress. this your situation, need co-processed board, this will cost more than 16550/turbocom upgrade. review such boards, review turbocom, found feb'93 issue \\\"windows sources\\\" magazine. suggest trying 16550/turbocom upgrade first, experiment with process priorities time slices \\\"power user\\\" whose thrashing system still runs into comm problems. closing soapbox comments state rs-232c serial datacomm support embarrassment across computer industry. because oldest standard interface, designing hardware writing software often seems assigned least senior lowest ranked engineers computer companies. design average serial port least years behind state art. last job, with major workstation vendor, lobbied improved serial ports when they were doing initial designs system. that family machines subsequently introduced with 16550 ports. however, this exception. computer companies seem have champions decent i/o. well learn what about serial i/o, because this situation shows sign improving soon. when v.fast arrives, expect cries outrage from windows users world-wide whose 8250 \\\"sort work today with v.32, will fail miserably with v.fast. without hardware-buffered uart (like 16550) without software drivers that that uart best advantage, v.fast modem will waste money. regards, 1001-a east harmony road niland suite internet: rjn@csn.org fort collins 80525 compuserve: 71044,2124 (303) 223-5209 copyright 1993 robert niland rights reserved permission granted automatic redistribution this article, electronic, magnetic optical media, unedited form, through usenet newsgroup where article posted author. permission granted each compuserve usenet reader subscriber each person received this article from compuserve, site authorized author electronic mail from author, retain electronic copy make hardcopy reproductions this edition this article personal non-commercial use, provided that material changes made article this copyright statement. other copying, storage, reproduction redistribution this article, form, prohibited without express written consent author, robert niland.\",\n          \"what find wrong with flat subaru's, flat that matter?\",\n          \"those interested ultra cards: posted some questions regarding ultra cards asked confirmation some opinions. this message summary responses. thanks that replied. higher memory limits apply cards only, know. eisa version should have problems. pretty sure from experience that version doesn't work systems with over ram. there supposed switching \\\"memory aperture\\\" feature prevent this, apparently doesn't work. posted some \\\"help messages people indicated that eisa card didn't have this problem. false card, which have, allows memory aperture over using their configuration software. messing with jumpers necessary. problem probably valid only cards. again, memory aperture need only disabled have more than 124m (eisa vlb) (isa). should problem you. dunno. depends bus. isa, eisa localbus nope. 640x480 72hz, 24-bit 800x600 70hz, 24-bit, non-interlaced. according magazine, they've tested local version that does 1024x768 24-bit which interlaced. pro. sometimes plus. some modes only interlaced certain monitors. this nothing with bits only with screen size. note that color windows must have megs, memory size calculations notwithstanding. they aren't perfect, much improved. don't recall last time which leave mach mode (ati mode) switch 8514 mode software incompatibility. true. many people recommended going back build they appear excellent, have bugs. example, certain graphs with dashed lines mathcad print correctly, though they display screen. they about fancy cards other accelerated cards also have bugs. overall, like card, even driver performance somewhat less than satisfactory. running 1024*768 color mode that driver october version seems allow. will this that color performance quite nice diamond stealth vram, have been able options driver. it's quite fast, whether fastest open debate. i'll admit very very fast 16-bit mode, which what wanted for. crashed many different ways) every minutes so... depends many many things. like well magazine seems think yes, this appears true greatest thing since sliced bread, doubt better cards coming out. knows, maybe will come with something faster yet. several reviews read rated pycon winjet card superior performer cheaper price except availability drivers, which pycon developing that time. magazine, about months back) overall, card potential, have able ----------------------------------------------------------------------------- that questions. these were most discussed items this group thought they needed confirmation. those familiar with card have included summary here (from since don't have graphics ultra yet.) graphics ultra plus: accelerated 1024x768 colours true colour(16.7m) 800x600 multimedia video acceleration (for indeo video,rle video compressed) stretch full motion video windows full size fast includes button mouse (isa versions only) anti-aliased fonts (ed. avail colour mode only,i think) real-time zoom across large virtual windows desktop around length card size priced from $400 u.s. graphics ultra pro: everything graphics ultra plus faster performance with vrams accelerated 1280x1024 colours 74hz non-interlaced available isa, eisa microchannel priced from $600 u.s. technologies (416) 756-0718 hope this summary you. p.s. associated with technologies other than having used their previous ultra card years (which generally liked).\"\n        ],\n        \"semantic_type\": \"\",\n        \"description\": \"\"\n      }\n    },\n    {\n      \"column\": \"topico\",\n      \"properties\": {\n        \"dtype\": \"number\",\n        \"std\": 5,\n        \"min\": 0,\n        \"max\": 19,\n        \"num_unique_values\": 20,\n        \"samples\": [\n          3,\n          0,\n          12\n        ],\n        \"semantic_type\": \"\",\n        \"description\": \"\"\n      }\n    }\n  ]\n}"
            }
          },
          "metadata": {},
          "execution_count": 30
        }
      ]
    },
    {
      "cell_type": "markdown",
      "metadata": {
        "id": "5TwOMcGvenSh"
      },
      "source": [
        "### ATIVIDADE PRÁTICA\n",
        "Agora é com você, faça algumas alterações nas chamadas para analisar os resultados.\n",
        "\n",
        "*   Tente reduzir o número de componentes e encontrar uma quantidade que faça mais sentido para você\n"
      ]
    },
    {
      "cell_type": "code",
      "metadata": {
        "id": "B0jj9KG5bPmQ",
        "colab": {
          "base_uri": "https://localhost:8080/",
          "height": 74
        },
        "outputId": "a53dd5c2-2324-49c9-f704-4e877409a936"
      },
      "source": [
        "# Define quantidade de tópicos/clusters, escolheu-se 20 pra verificar se algoritmo consegue encontrar mesmas categorias pré-estabelecidas no dataset\n",
        "# Definir o random_state faz com que a aleatoriedade na seleção das palavras seja a mesma, toda vez que este código for executado\n",
        "LDA = LatentDirichletAllocation(n_components=12,random_state=42) # quantos topicos a encontrar = 20 temáticas diferentes\n",
        "# Pode demorar se há muitos dados\n",
        "LDA.fit(mtd)"
      ],
      "execution_count": null,
      "outputs": [
        {
          "output_type": "execute_result",
          "data": {
            "text/plain": [
              "LatentDirichletAllocation(n_components=12, random_state=42)"
            ],
            "text/html": [
              "<style>#sk-container-id-2 {color: black;background-color: white;}#sk-container-id-2 pre{padding: 0;}#sk-container-id-2 div.sk-toggleable {background-color: white;}#sk-container-id-2 label.sk-toggleable__label {cursor: pointer;display: block;width: 100%;margin-bottom: 0;padding: 0.3em;box-sizing: border-box;text-align: center;}#sk-container-id-2 label.sk-toggleable__label-arrow:before {content: \"▸\";float: left;margin-right: 0.25em;color: #696969;}#sk-container-id-2 label.sk-toggleable__label-arrow:hover:before {color: black;}#sk-container-id-2 div.sk-estimator:hover label.sk-toggleable__label-arrow:before {color: black;}#sk-container-id-2 div.sk-toggleable__content {max-height: 0;max-width: 0;overflow: hidden;text-align: left;background-color: #f0f8ff;}#sk-container-id-2 div.sk-toggleable__content pre {margin: 0.2em;color: black;border-radius: 0.25em;background-color: #f0f8ff;}#sk-container-id-2 input.sk-toggleable__control:checked~div.sk-toggleable__content {max-height: 200px;max-width: 100%;overflow: auto;}#sk-container-id-2 input.sk-toggleable__control:checked~label.sk-toggleable__label-arrow:before {content: \"▾\";}#sk-container-id-2 div.sk-estimator input.sk-toggleable__control:checked~label.sk-toggleable__label {background-color: #d4ebff;}#sk-container-id-2 div.sk-label input.sk-toggleable__control:checked~label.sk-toggleable__label {background-color: #d4ebff;}#sk-container-id-2 input.sk-hidden--visually {border: 0;clip: rect(1px 1px 1px 1px);clip: rect(1px, 1px, 1px, 1px);height: 1px;margin: -1px;overflow: hidden;padding: 0;position: absolute;width: 1px;}#sk-container-id-2 div.sk-estimator {font-family: monospace;background-color: #f0f8ff;border: 1px dotted black;border-radius: 0.25em;box-sizing: border-box;margin-bottom: 0.5em;}#sk-container-id-2 div.sk-estimator:hover {background-color: #d4ebff;}#sk-container-id-2 div.sk-parallel-item::after {content: \"\";width: 100%;border-bottom: 1px solid gray;flex-grow: 1;}#sk-container-id-2 div.sk-label:hover label.sk-toggleable__label {background-color: #d4ebff;}#sk-container-id-2 div.sk-serial::before {content: \"\";position: absolute;border-left: 1px solid gray;box-sizing: border-box;top: 0;bottom: 0;left: 50%;z-index: 0;}#sk-container-id-2 div.sk-serial {display: flex;flex-direction: column;align-items: center;background-color: white;padding-right: 0.2em;padding-left: 0.2em;position: relative;}#sk-container-id-2 div.sk-item {position: relative;z-index: 1;}#sk-container-id-2 div.sk-parallel {display: flex;align-items: stretch;justify-content: center;background-color: white;position: relative;}#sk-container-id-2 div.sk-item::before, #sk-container-id-2 div.sk-parallel-item::before {content: \"\";position: absolute;border-left: 1px solid gray;box-sizing: border-box;top: 0;bottom: 0;left: 50%;z-index: -1;}#sk-container-id-2 div.sk-parallel-item {display: flex;flex-direction: column;z-index: 1;position: relative;background-color: white;}#sk-container-id-2 div.sk-parallel-item:first-child::after {align-self: flex-end;width: 50%;}#sk-container-id-2 div.sk-parallel-item:last-child::after {align-self: flex-start;width: 50%;}#sk-container-id-2 div.sk-parallel-item:only-child::after {width: 0;}#sk-container-id-2 div.sk-dashed-wrapped {border: 1px dashed gray;margin: 0 0.4em 0.5em 0.4em;box-sizing: border-box;padding-bottom: 0.4em;background-color: white;}#sk-container-id-2 div.sk-label label {font-family: monospace;font-weight: bold;display: inline-block;line-height: 1.2em;}#sk-container-id-2 div.sk-label-container {text-align: center;}#sk-container-id-2 div.sk-container {/* jupyter's `normalize.less` sets `[hidden] { display: none; }` but bootstrap.min.css set `[hidden] { display: none !important; }` so we also need the `!important` here to be able to override the default hidden behavior on the sphinx rendered scikit-learn.org. See: https://github.com/scikit-learn/scikit-learn/issues/21755 */display: inline-block !important;position: relative;}#sk-container-id-2 div.sk-text-repr-fallback {display: none;}</style><div id=\"sk-container-id-2\" class=\"sk-top-container\"><div class=\"sk-text-repr-fallback\"><pre>LatentDirichletAllocation(n_components=12, random_state=42)</pre><b>In a Jupyter environment, please rerun this cell to show the HTML representation or trust the notebook. <br />On GitHub, the HTML representation is unable to render, please try loading this page with nbviewer.org.</b></div><div class=\"sk-container\" hidden><div class=\"sk-item\"><div class=\"sk-estimator sk-toggleable\"><input class=\"sk-toggleable__control sk-hidden--visually\" id=\"sk-estimator-id-2\" type=\"checkbox\" checked><label for=\"sk-estimator-id-2\" class=\"sk-toggleable__label sk-toggleable__label-arrow\">LatentDirichletAllocation</label><div class=\"sk-toggleable__content\"><pre>LatentDirichletAllocation(n_components=12, random_state=42)</pre></div></div></div></div></div>"
            ]
          },
          "metadata": {},
          "execution_count": 32
        }
      ]
    },
    {
      "cell_type": "code",
      "metadata": {
        "id": "1c4wz45-g-H_",
        "colab": {
          "base_uri": "https://localhost:8080/"
        },
        "outputId": "39dd6dcd-0574-40bd-ecc0-14ee504e1a24"
      },
      "source": [
        "# Quantidade de tópicos\n",
        "len(LDA.components_)"
      ],
      "execution_count": null,
      "outputs": [
        {
          "output_type": "execute_result",
          "data": {
            "text/plain": [
              "12"
            ]
          },
          "metadata": {},
          "execution_count": 33
        }
      ]
    },
    {
      "cell_type": "code",
      "source": [
        "# Cada tópico é um array com as probabilidades de cada palavra\n",
        "LDA.components_"
      ],
      "metadata": {
        "colab": {
          "base_uri": "https://localhost:8080/"
        },
        "id": "3mBN98zRqmbD",
        "outputId": "0706ede9-1c5d-40ed-b87f-3bdb4247ef2a"
      },
      "execution_count": null,
      "outputs": [
        {
          "output_type": "execute_result",
          "data": {
            "text/plain": [
              "array([[4.29081424e+01, 1.44976155e+02, 8.33350347e-02, ...,\n",
              "        8.33333333e-02, 8.33333333e-02, 8.33333333e-02],\n",
              "       [8.33364964e-02, 1.72843760e+01, 8.33340228e-02, ...,\n",
              "        8.33333333e-02, 8.33333333e-02, 8.33333333e-02],\n",
              "       [1.79134740e+00, 5.97662688e+01, 1.09996164e+00, ...,\n",
              "        8.33333333e-02, 8.33364399e-02, 8.33333333e-02],\n",
              "       ...,\n",
              "       [5.44743691e+00, 3.85388257e+00, 8.33333333e-02, ...,\n",
              "        8.33333333e-02, 8.33333333e-02, 8.33333333e-02],\n",
              "       [4.79913228e+00, 2.49995856e+02, 8.33348574e-02, ...,\n",
              "        8.33333333e-02, 8.33333333e-02, 8.33333333e-02],\n",
              "       [2.86556807e+00, 1.34298054e+01, 8.33346845e-02, ...,\n",
              "        8.33333333e-02, 2.08331769e+00, 8.33333333e-02]])"
            ]
          },
          "metadata": {},
          "execution_count": 34
        }
      ]
    },
    {
      "cell_type": "code",
      "source": [
        "# tópicos x palavras\n",
        "LDA.components_.shape"
      ],
      "metadata": {
        "colab": {
          "base_uri": "https://localhost:8080/"
        },
        "id": "PAz_gPOnquEj",
        "outputId": "011d386d-2c0b-4f1a-b84a-74485edfab25"
      },
      "execution_count": null,
      "outputs": [
        {
          "output_type": "execute_result",
          "data": {
            "text/plain": [
              "(12, 38414)"
            ]
          },
          "metadata": {},
          "execution_count": 35
        }
      ]
    },
    {
      "cell_type": "code",
      "source": [
        "# Obtém primeiro tópico - ainda não sabemos do que se trata\n",
        "primeiro_topico = LDA.components_[0]"
      ],
      "metadata": {
        "id": "hhP5MyTUrHN3"
      },
      "execution_count": null,
      "outputs": []
    },
    {
      "cell_type": "code",
      "source": [
        "# Obtemos os índices ordenados do menor pro maior\n",
        "primeiro_topico.argsort()"
      ],
      "metadata": {
        "colab": {
          "base_uri": "https://localhost:8080/"
        },
        "id": "hosIf5TzrHKu",
        "outputId": "2c140ce7-cb3e-45e5-82c0-4722782be681"
      },
      "execution_count": null,
      "outputs": [
        {
          "output_type": "execute_result",
          "data": {
            "text/plain": [
              "array([30388, 37540, 37544, ..., 31983, 33778, 13379])"
            ]
          },
          "metadata": {},
          "execution_count": 37
        }
      ]
    },
    {
      "cell_type": "code",
      "source": [
        "# Obtém os últimos dez valores - que como ordenamos, serão os que tem maior valor de probabilidade\n",
        "top_10 = primeiro_topico.argsort()[-10:]"
      ],
      "metadata": {
        "id": "O98WtEjwrHIK"
      },
      "execution_count": null,
      "outputs": []
    },
    {
      "cell_type": "code",
      "source": [
        "top_10"
      ],
      "metadata": {
        "colab": {
          "base_uri": "https://localhost:8080/"
        },
        "id": "QgSXtldHrHFb",
        "outputId": "2b3e7b4c-d809-4729-f4fc-6148626fb5ac"
      },
      "execution_count": null,
      "outputs": [
        {
          "output_type": "execute_result",
          "data": {
            "text/plain": [
              "array([ 9030, 16246, 23892, 10964, 30224, 18533, 27282, 31983, 33778,\n",
              "       13379])"
            ]
          },
          "metadata": {},
          "execution_count": 39
        }
      ]
    },
    {
      "cell_type": "code",
      "source": [
        "# Imprime os valores do top 10\n",
        "for i in top_10:\n",
        "  print(cv.get_feature_names_out()[i])"
      ],
      "metadata": {
        "colab": {
          "base_uri": "https://localhost:8080/"
        },
        "id": "3Qc83acwrHCL",
        "outputId": "d782612a-bb8c-41cc-929a-89af0fea1bda"
      },
      "execution_count": null,
      "outputs": [
        {
          "output_type": "stream",
          "name": "stdout",
          "text": [
            "clipper\n",
            "government\n",
            "national\n",
            "data\n",
            "sale\n",
            "information\n",
            "privacy\n",
            "space\n",
            "technology\n",
            "encryption\n"
          ]
        }
      ]
    },
    {
      "cell_type": "code",
      "source": [
        "# Imprime todos as top palavras de cada tópico\n",
        "for i, topic in enumerate(LDA.components_):\n",
        "  print(\"\\n\\n=== TOP 15 palavras - Tópico \", i)\n",
        "  print([cv.get_feature_names_out()[i] for i in topic.argsort()[-15:]])"
      ],
      "metadata": {
        "colab": {
          "base_uri": "https://localhost:8080/"
        },
        "id": "1pU4Smh0rG7r",
        "outputId": "b1745556-377d-49c1-8285-f06ed500eff1"
      },
      "execution_count": null,
      "outputs": [
        {
          "output_type": "stream",
          "name": "stdout",
          "text": [
            "\n",
            "\n",
            "=== TOP 15 palavras - Tópico  0\n",
            "['administration', 'computer', 'university', 'research', 'security', 'clipper', 'government', 'national', 'data', 'sale', 'information', 'privacy', 'space', 'technology', 'encryption']\n",
            "\n",
            "\n",
            "=== TOP 15 palavras - Tópico  1\n",
            "['application', 'orbit', 'problem', 'high', 'just', 'earth', 'engine', 'using', 'used', 'power', 'like', 'window', 'time', 'nasa', 'space']\n",
            "\n",
            "\n",
            "=== TOP 15 palavras - Tópico  2\n",
            "['told', 'came', 'want', 'years', 've', 'went', 'didn', 'think', 'time', 'just', 'know', 'like', 'don', 'said', 'people']\n",
            "\n",
            "\n",
            "=== TOP 15 palavras - Tópico  3\n",
            "['genocide', 'mv', 'chz', 'ck', 'uw', 't7', 'c_', 'turks', 'turkey', 'armenians', 'w7', '55', 'cx', 'armenian', 'turkish']\n",
            "\n",
            "\n",
            "=== TOP 15 palavras - Tópico  4\n",
            "['need', 'thanks', 'work', 'chip', 'disk', 'problem', 'windows', 'scsi', 'don', 'does', 'just', 'know', 'card', 'like', 'drive']\n",
            "\n",
            "\n",
            "=== TOP 15 palavras - Tópico  5\n",
            "['50', '12', '30', '11', 'season', '15', '20', 'period', 'games', 'play', 'hockey', '10', 'game', 'team', '00']\n",
            "\n",
            "\n",
            "=== TOP 15 palavras - Tópico  6\n",
            "['send', 'thanks', 'files', 'pub', 'graphics', 'software', 'information', 'version', 'image', 'server', 'file', 'mail', 'available', 'com', 'edu']\n",
            "\n",
            "\n",
            "=== TOP 15 palavras - Tópico  7\n",
            "['keyboard', 'message', 'info', 'line', 'keys', 'section', 'information', 'windows', 'number', 'files', 'key', 'output', 'entry', 'program', 'file']\n",
            "\n",
            "\n",
            "=== TOP 15 palavras - Tópico  8\n",
            "['giz', 'bhj', '75u', '3t', '34u', '1t', '0t', '1d9', '145', 'pl', 'a86', 'b8f', 'g9v', 'max', 'ax']\n",
            "\n",
            "\n",
            "=== TOP 15 palavras - Tópico  9\n",
            "['faith', 'game', 'like', 'year', 'just', 'christ', 'don', 'believe', 'know', 'bible', 'think', 'does', 'god', 'good', 'jesus']\n",
            "\n",
            "\n",
            "=== TOP 15 palavras - Tópico  10\n",
            "['make', 'right', 'states', 'going', 'israel', 'years', 'like', 'time', 'state', 'know', 'president', 'don', 'think', 'government', 'people']\n",
            "\n",
            "\n",
            "=== TOP 15 palavras - Tópico  11\n",
            "['bike', 'time', 'really', 'believe', 'question', 'good', 'make', 'know', 'right', 'does', 'think', 'like', 'don', 'people', 'just']\n"
          ]
        }
      ]
    },
    {
      "cell_type": "code",
      "source": [
        "# Obtém as probabilidades de cada tópico por texto\n",
        "topicos_prob = LDA.transform(mtd)"
      ],
      "metadata": {
        "id": "UsMo6jb2rGxz"
      },
      "execution_count": null,
      "outputs": []
    },
    {
      "cell_type": "code",
      "source": [
        "# Textos x Tópicos\n",
        "topicos_prob.shape"
      ],
      "metadata": {
        "colab": {
          "base_uri": "https://localhost:8080/"
        },
        "id": "DTBUI8f4r7Qb",
        "outputId": "25da8482-9c02-4358-a692-b0fa847752a3"
      },
      "execution_count": null,
      "outputs": [
        {
          "output_type": "execute_result",
          "data": {
            "text/plain": [
              "(11314, 12)"
            ]
          },
          "metadata": {},
          "execution_count": 43
        }
      ]
    },
    {
      "cell_type": "code",
      "source": [
        "# Probabilidades de cada tópico para o PRIMEIRO DOCUMENTO do corpus\n",
        "topicos_prob[0]"
      ],
      "metadata": {
        "colab": {
          "base_uri": "https://localhost:8080/"
        },
        "id": "-ICWeSGOsAw0",
        "outputId": "83bfa6a8-5c57-4ca1-aba9-40e5e649b415"
      },
      "execution_count": null,
      "outputs": [
        {
          "output_type": "execute_result",
          "data": {
            "text/plain": [
              "array([0.0014368 , 0.0014368 , 0.3304163 , 0.0014368 , 0.0014368 ,\n",
              "       0.00143679, 0.00143679, 0.0014368 , 0.00143678, 0.00143683,\n",
              "       0.47078543, 0.18586706])"
            ]
          },
          "metadata": {},
          "execution_count": 44
        }
      ]
    },
    {
      "cell_type": "code",
      "source": [
        "# Abre o documento\n",
        "noticiasDf['documento'][0]"
      ],
      "metadata": {
        "colab": {
          "base_uri": "https://localhost:8080/",
          "height": 122
        },
        "id": "GRRWDNyisL3j",
        "outputId": "b76d7c2f-f5ce-4a10-ceb7-547830c75323"
      },
      "execution_count": null,
      "outputs": [
        {
          "output_type": "execute_result",
          "data": {
            "text/plain": [
              "\"Well i'm not sure about the story nad it did seem biased. What\\nI disagree with is your statement that the U.S. Media is out to\\nruin Israels reputation. That is rediculous. The U.S. media is\\nthe most pro-israeli media in the world. Having lived in Europe\\nI realize that incidences such as the one described in the\\nletter have occured. The U.S. media as a whole seem to try to\\nignore them. The U.S. is subsidizing Israels existance and the\\nEuropeans are not (at least not to the same degree). So I think\\nthat might be a reason they report more clearly on the\\natrocities.\\n\\tWhat is a shame is that in Austria, daily reports of\\nthe inhuman acts commited by Israeli soldiers and the blessing\\nreceived from the Government makes some of the Holocaust guilt\\ngo away. After all, look how the Jews are treating other races\\nwhen they got power. It is unfortunate.\\n\""
            ],
            "application/vnd.google.colaboratory.intrinsic+json": {
              "type": "string"
            }
          },
          "metadata": {},
          "execution_count": 46
        }
      ]
    },
    {
      "cell_type": "code",
      "source": [
        "# Probabilidades de cada tópico para o PRIMEIRO DOCUMENTO do corpus\n",
        "topicos_prob[8]"
      ],
      "metadata": {
        "colab": {
          "base_uri": "https://localhost:8080/"
        },
        "id": "ibtRexelsDpM",
        "outputId": "9d3bcd3c-be09-460f-d992-bda759bf434f"
      },
      "execution_count": null,
      "outputs": [
        {
          "output_type": "execute_result",
          "data": {
            "text/plain": [
              "array([0.00208341, 0.00208342, 0.65469234, 0.00208334, 0.00208343,\n",
              "       0.00208335, 0.27776925, 0.00208345, 0.00208333, 0.0020834 ,\n",
              "       0.04878784, 0.00208344])"
            ]
          },
          "metadata": {},
          "execution_count": 45
        }
      ]
    },
    {
      "cell_type": "code",
      "source": [
        "# Abre o documento\n",
        "noticiasDf['documento'][8]"
      ],
      "metadata": {
        "colab": {
          "base_uri": "https://localhost:8080/",
          "height": 87
        },
        "id": "9eCuCKzrsROS",
        "outputId": "83342070-546c-42c2-c6d3-88663c2fa8d1"
      },
      "execution_count": null,
      "outputs": [
        {
          "output_type": "execute_result",
          "data": {
            "text/plain": [
              "\" Nobody is saying that you shouldn't be allowed to use msg.  Just\\ndon't force it on others. If you have food that you want to \\nenhance with msg just put the MSG on the table like salt.  It is\\nthen the option of the eater to use it.  If you make a commerical\\nproduct, just leave it out. You can include a packet (like some\\nsalt packets) if you desire.\\n\\nSalt, pepper, mustard, ketchup, pickles ..... are table options.\\nTreat MSG the same way.  I wouldn't shove my condiments down your\\nthroat, don't shove yours down mine.\\n\\nWFL\\n\""
            ],
            "application/vnd.google.colaboratory.intrinsic+json": {
              "type": "string"
            }
          },
          "metadata": {},
          "execution_count": 47
        }
      ]
    },
    {
      "cell_type": "code",
      "source": [
        "# Obtém a posição da maior probabilidade para cada documento e coloca na nova coluna\n",
        "noticiasDf['topico'] = topicos_prob.argmax(axis=1)\n",
        "noticiasDf"
      ],
      "metadata": {
        "colab": {
          "base_uri": "https://localhost:8080/",
          "height": 423
        },
        "id": "MBseMD_BsavS",
        "outputId": "dff095f7-c27e-4c37-9055-813a21ae8f47"
      },
      "execution_count": null,
      "outputs": [
        {
          "output_type": "execute_result",
          "data": {
            "text/plain": [
              "                                               documento  \\\n",
              "0      Well i'm not sure about the story nad it did s...   \n",
              "1      \\n\\n\\n\\n\\n\\n\\nYeah, do you expect people to re...   \n",
              "2      Although I realize that principle is not one o...   \n",
              "3      Notwithstanding all the legitimate fuss about ...   \n",
              "4      Well, I will have to change the scoring on my ...   \n",
              "...                                                  ...   \n",
              "11309  Danny Rubenstein, an Israeli journalist, will ...   \n",
              "11310                                                 \\n   \n",
              "11311  \\nI agree.  Home runs off Clemens are always m...   \n",
              "11312  I used HP DeskJet with Orange Micros Grappler ...   \n",
              "11313                                        ^^^^^^\\n...   \n",
              "\n",
              "                                         documento_limpo  topico  \n",
              "0      well sure about story seem biased. what disagr...      10  \n",
              "1      yeah, expect people read faq, etc. actually ac...      11  \n",
              "2      although realize that principle your strongest...      10  \n",
              "3      notwithstanding legitimate fuss about this pro...       0  \n",
              "4      well, will have change scoring playoff pool. u...       9  \n",
              "...                                                  ...     ...  \n",
              "11309  danny rubenstein, israeli journalist, will spe...       5  \n",
              "11310                                                          0  \n",
              "11311  agree. home runs clemens always memorable. kin...       9  \n",
              "11312  used deskjet with orange micros grappler syste...       6  \n",
              "11313  ^^^^^^ argument with murphy. scared hell when ...       9  \n",
              "\n",
              "[11314 rows x 3 columns]"
            ],
            "text/html": [
              "\n",
              "  <div id=\"df-7bafea68-4dfa-42c7-a659-1ee1ff0a0cd6\" class=\"colab-df-container\">\n",
              "    <div>\n",
              "<style scoped>\n",
              "    .dataframe tbody tr th:only-of-type {\n",
              "        vertical-align: middle;\n",
              "    }\n",
              "\n",
              "    .dataframe tbody tr th {\n",
              "        vertical-align: top;\n",
              "    }\n",
              "\n",
              "    .dataframe thead th {\n",
              "        text-align: right;\n",
              "    }\n",
              "</style>\n",
              "<table border=\"1\" class=\"dataframe\">\n",
              "  <thead>\n",
              "    <tr style=\"text-align: right;\">\n",
              "      <th></th>\n",
              "      <th>documento</th>\n",
              "      <th>documento_limpo</th>\n",
              "      <th>topico</th>\n",
              "    </tr>\n",
              "  </thead>\n",
              "  <tbody>\n",
              "    <tr>\n",
              "      <th>0</th>\n",
              "      <td>Well i'm not sure about the story nad it did s...</td>\n",
              "      <td>well sure about story seem biased. what disagr...</td>\n",
              "      <td>10</td>\n",
              "    </tr>\n",
              "    <tr>\n",
              "      <th>1</th>\n",
              "      <td>\\n\\n\\n\\n\\n\\n\\nYeah, do you expect people to re...</td>\n",
              "      <td>yeah, expect people read faq, etc. actually ac...</td>\n",
              "      <td>11</td>\n",
              "    </tr>\n",
              "    <tr>\n",
              "      <th>2</th>\n",
              "      <td>Although I realize that principle is not one o...</td>\n",
              "      <td>although realize that principle your strongest...</td>\n",
              "      <td>10</td>\n",
              "    </tr>\n",
              "    <tr>\n",
              "      <th>3</th>\n",
              "      <td>Notwithstanding all the legitimate fuss about ...</td>\n",
              "      <td>notwithstanding legitimate fuss about this pro...</td>\n",
              "      <td>0</td>\n",
              "    </tr>\n",
              "    <tr>\n",
              "      <th>4</th>\n",
              "      <td>Well, I will have to change the scoring on my ...</td>\n",
              "      <td>well, will have change scoring playoff pool. u...</td>\n",
              "      <td>9</td>\n",
              "    </tr>\n",
              "    <tr>\n",
              "      <th>...</th>\n",
              "      <td>...</td>\n",
              "      <td>...</td>\n",
              "      <td>...</td>\n",
              "    </tr>\n",
              "    <tr>\n",
              "      <th>11309</th>\n",
              "      <td>Danny Rubenstein, an Israeli journalist, will ...</td>\n",
              "      <td>danny rubenstein, israeli journalist, will spe...</td>\n",
              "      <td>5</td>\n",
              "    </tr>\n",
              "    <tr>\n",
              "      <th>11310</th>\n",
              "      <td>\\n</td>\n",
              "      <td></td>\n",
              "      <td>0</td>\n",
              "    </tr>\n",
              "    <tr>\n",
              "      <th>11311</th>\n",
              "      <td>\\nI agree.  Home runs off Clemens are always m...</td>\n",
              "      <td>agree. home runs clemens always memorable. kin...</td>\n",
              "      <td>9</td>\n",
              "    </tr>\n",
              "    <tr>\n",
              "      <th>11312</th>\n",
              "      <td>I used HP DeskJet with Orange Micros Grappler ...</td>\n",
              "      <td>used deskjet with orange micros grappler syste...</td>\n",
              "      <td>6</td>\n",
              "    </tr>\n",
              "    <tr>\n",
              "      <th>11313</th>\n",
              "      <td>^^^^^^\\n...</td>\n",
              "      <td>^^^^^^ argument with murphy. scared hell when ...</td>\n",
              "      <td>9</td>\n",
              "    </tr>\n",
              "  </tbody>\n",
              "</table>\n",
              "<p>11314 rows × 3 columns</p>\n",
              "</div>\n",
              "    <div class=\"colab-df-buttons\">\n",
              "\n",
              "  <div class=\"colab-df-container\">\n",
              "    <button class=\"colab-df-convert\" onclick=\"convertToInteractive('df-7bafea68-4dfa-42c7-a659-1ee1ff0a0cd6')\"\n",
              "            title=\"Convert this dataframe to an interactive table.\"\n",
              "            style=\"display:none;\">\n",
              "\n",
              "  <svg xmlns=\"http://www.w3.org/2000/svg\" height=\"24px\" viewBox=\"0 -960 960 960\">\n",
              "    <path d=\"M120-120v-720h720v720H120Zm60-500h600v-160H180v160Zm220 220h160v-160H400v160Zm0 220h160v-160H400v160ZM180-400h160v-160H180v160Zm440 0h160v-160H620v160ZM180-180h160v-160H180v160Zm440 0h160v-160H620v160Z\"/>\n",
              "  </svg>\n",
              "    </button>\n",
              "\n",
              "  <style>\n",
              "    .colab-df-container {\n",
              "      display:flex;\n",
              "      gap: 12px;\n",
              "    }\n",
              "\n",
              "    .colab-df-convert {\n",
              "      background-color: #E8F0FE;\n",
              "      border: none;\n",
              "      border-radius: 50%;\n",
              "      cursor: pointer;\n",
              "      display: none;\n",
              "      fill: #1967D2;\n",
              "      height: 32px;\n",
              "      padding: 0 0 0 0;\n",
              "      width: 32px;\n",
              "    }\n",
              "\n",
              "    .colab-df-convert:hover {\n",
              "      background-color: #E2EBFA;\n",
              "      box-shadow: 0px 1px 2px rgba(60, 64, 67, 0.3), 0px 1px 3px 1px rgba(60, 64, 67, 0.15);\n",
              "      fill: #174EA6;\n",
              "    }\n",
              "\n",
              "    .colab-df-buttons div {\n",
              "      margin-bottom: 4px;\n",
              "    }\n",
              "\n",
              "    [theme=dark] .colab-df-convert {\n",
              "      background-color: #3B4455;\n",
              "      fill: #D2E3FC;\n",
              "    }\n",
              "\n",
              "    [theme=dark] .colab-df-convert:hover {\n",
              "      background-color: #434B5C;\n",
              "      box-shadow: 0px 1px 3px 1px rgba(0, 0, 0, 0.15);\n",
              "      filter: drop-shadow(0px 1px 2px rgba(0, 0, 0, 0.3));\n",
              "      fill: #FFFFFF;\n",
              "    }\n",
              "  </style>\n",
              "\n",
              "    <script>\n",
              "      const buttonEl =\n",
              "        document.querySelector('#df-7bafea68-4dfa-42c7-a659-1ee1ff0a0cd6 button.colab-df-convert');\n",
              "      buttonEl.style.display =\n",
              "        google.colab.kernel.accessAllowed ? 'block' : 'none';\n",
              "\n",
              "      async function convertToInteractive(key) {\n",
              "        const element = document.querySelector('#df-7bafea68-4dfa-42c7-a659-1ee1ff0a0cd6');\n",
              "        const dataTable =\n",
              "          await google.colab.kernel.invokeFunction('convertToInteractive',\n",
              "                                                    [key], {});\n",
              "        if (!dataTable) return;\n",
              "\n",
              "        const docLinkHtml = 'Like what you see? Visit the ' +\n",
              "          '<a target=\"_blank\" href=https://colab.research.google.com/notebooks/data_table.ipynb>data table notebook</a>'\n",
              "          + ' to learn more about interactive tables.';\n",
              "        element.innerHTML = '';\n",
              "        dataTable['output_type'] = 'display_data';\n",
              "        await google.colab.output.renderOutput(dataTable, element);\n",
              "        const docLink = document.createElement('div');\n",
              "        docLink.innerHTML = docLinkHtml;\n",
              "        element.appendChild(docLink);\n",
              "      }\n",
              "    </script>\n",
              "  </div>\n",
              "\n",
              "\n",
              "<div id=\"df-989dc5bb-c0a8-4039-bf2d-4b6cb9447b2f\">\n",
              "  <button class=\"colab-df-quickchart\" onclick=\"quickchart('df-989dc5bb-c0a8-4039-bf2d-4b6cb9447b2f')\"\n",
              "            title=\"Suggest charts\"\n",
              "            style=\"display:none;\">\n",
              "\n",
              "<svg xmlns=\"http://www.w3.org/2000/svg\" height=\"24px\"viewBox=\"0 0 24 24\"\n",
              "     width=\"24px\">\n",
              "    <g>\n",
              "        <path d=\"M19 3H5c-1.1 0-2 .9-2 2v14c0 1.1.9 2 2 2h14c1.1 0 2-.9 2-2V5c0-1.1-.9-2-2-2zM9 17H7v-7h2v7zm4 0h-2V7h2v10zm4 0h-2v-4h2v4z\"/>\n",
              "    </g>\n",
              "</svg>\n",
              "  </button>\n",
              "\n",
              "<style>\n",
              "  .colab-df-quickchart {\n",
              "      --bg-color: #E8F0FE;\n",
              "      --fill-color: #1967D2;\n",
              "      --hover-bg-color: #E2EBFA;\n",
              "      --hover-fill-color: #174EA6;\n",
              "      --disabled-fill-color: #AAA;\n",
              "      --disabled-bg-color: #DDD;\n",
              "  }\n",
              "\n",
              "  [theme=dark] .colab-df-quickchart {\n",
              "      --bg-color: #3B4455;\n",
              "      --fill-color: #D2E3FC;\n",
              "      --hover-bg-color: #434B5C;\n",
              "      --hover-fill-color: #FFFFFF;\n",
              "      --disabled-bg-color: #3B4455;\n",
              "      --disabled-fill-color: #666;\n",
              "  }\n",
              "\n",
              "  .colab-df-quickchart {\n",
              "    background-color: var(--bg-color);\n",
              "    border: none;\n",
              "    border-radius: 50%;\n",
              "    cursor: pointer;\n",
              "    display: none;\n",
              "    fill: var(--fill-color);\n",
              "    height: 32px;\n",
              "    padding: 0;\n",
              "    width: 32px;\n",
              "  }\n",
              "\n",
              "  .colab-df-quickchart:hover {\n",
              "    background-color: var(--hover-bg-color);\n",
              "    box-shadow: 0 1px 2px rgba(60, 64, 67, 0.3), 0 1px 3px 1px rgba(60, 64, 67, 0.15);\n",
              "    fill: var(--button-hover-fill-color);\n",
              "  }\n",
              "\n",
              "  .colab-df-quickchart-complete:disabled,\n",
              "  .colab-df-quickchart-complete:disabled:hover {\n",
              "    background-color: var(--disabled-bg-color);\n",
              "    fill: var(--disabled-fill-color);\n",
              "    box-shadow: none;\n",
              "  }\n",
              "\n",
              "  .colab-df-spinner {\n",
              "    border: 2px solid var(--fill-color);\n",
              "    border-color: transparent;\n",
              "    border-bottom-color: var(--fill-color);\n",
              "    animation:\n",
              "      spin 1s steps(1) infinite;\n",
              "  }\n",
              "\n",
              "  @keyframes spin {\n",
              "    0% {\n",
              "      border-color: transparent;\n",
              "      border-bottom-color: var(--fill-color);\n",
              "      border-left-color: var(--fill-color);\n",
              "    }\n",
              "    20% {\n",
              "      border-color: transparent;\n",
              "      border-left-color: var(--fill-color);\n",
              "      border-top-color: var(--fill-color);\n",
              "    }\n",
              "    30% {\n",
              "      border-color: transparent;\n",
              "      border-left-color: var(--fill-color);\n",
              "      border-top-color: var(--fill-color);\n",
              "      border-right-color: var(--fill-color);\n",
              "    }\n",
              "    40% {\n",
              "      border-color: transparent;\n",
              "      border-right-color: var(--fill-color);\n",
              "      border-top-color: var(--fill-color);\n",
              "    }\n",
              "    60% {\n",
              "      border-color: transparent;\n",
              "      border-right-color: var(--fill-color);\n",
              "    }\n",
              "    80% {\n",
              "      border-color: transparent;\n",
              "      border-right-color: var(--fill-color);\n",
              "      border-bottom-color: var(--fill-color);\n",
              "    }\n",
              "    90% {\n",
              "      border-color: transparent;\n",
              "      border-bottom-color: var(--fill-color);\n",
              "    }\n",
              "  }\n",
              "</style>\n",
              "\n",
              "  <script>\n",
              "    async function quickchart(key) {\n",
              "      const quickchartButtonEl =\n",
              "        document.querySelector('#' + key + ' button');\n",
              "      quickchartButtonEl.disabled = true;  // To prevent multiple clicks.\n",
              "      quickchartButtonEl.classList.add('colab-df-spinner');\n",
              "      try {\n",
              "        const charts = await google.colab.kernel.invokeFunction(\n",
              "            'suggestCharts', [key], {});\n",
              "      } catch (error) {\n",
              "        console.error('Error during call to suggestCharts:', error);\n",
              "      }\n",
              "      quickchartButtonEl.classList.remove('colab-df-spinner');\n",
              "      quickchartButtonEl.classList.add('colab-df-quickchart-complete');\n",
              "    }\n",
              "    (() => {\n",
              "      let quickchartButtonEl =\n",
              "        document.querySelector('#df-989dc5bb-c0a8-4039-bf2d-4b6cb9447b2f button');\n",
              "      quickchartButtonEl.style.display =\n",
              "        google.colab.kernel.accessAllowed ? 'block' : 'none';\n",
              "    })();\n",
              "  </script>\n",
              "</div>\n",
              "    </div>\n",
              "  </div>\n"
            ],
            "application/vnd.google.colaboratory.intrinsic+json": {
              "type": "dataframe",
              "variable_name": "noticiasDf",
              "summary": "{\n  \"name\": \"noticiasDf\",\n  \"rows\": 11314,\n  \"fields\": [\n    {\n      \"column\": \"documento\",\n      \"properties\": {\n        \"dtype\": \"string\",\n        \"num_unique_values\": 10994,\n        \"samples\": [\n          \"\\nWell, if you want to pick on Morgan, why not attack its ash (wood)\\nframe or its hand-bent metal skin (just try and get a replacement :-)).  \\nI thought the kingpost suspension was one of the Mog's better features.\",\n          \"I am writing a custom widget to support the display of graphics\\nand imagery.  The user of the widget will be able to specify,\\nwhen creating it, whether it is to operate in X or GL mode.\\n\\nI have set up translations and actions to handle mouse button\\npresses.  They work fine when the widget is in X mode.  In GL \\nmode they only work when the widget (my GL/X widget) is a child\\nof a manager.  Put another way, the translations do not work \\nwhen the widget is configured in GL mode and is a child of a \\nshell.  Does anyone know why this is happening?\",\n          \"long\\ndisk\\n\\n\\nI don't know how many times I've posted this the net.  No one EVER\\nlistens.  \\n\\nOnce and for all:  Floptical Media is only $1.40 a megabyte if you don't\\nknow where to buy it.  I am bying my flopticals at $30 per 2 disks.  I\\nsee that as $.75 a meagabyte, NOT $1.40.  No, I'm not buying in bulk, I'm\\nnot getting a special deal.  $.75 a meg is good in my book, Approching\\nfloppy price.\\n\\nAny questions on my source can be sent to ctr@po.cwru.edu.\\n\"\n        ],\n        \"semantic_type\": \"\",\n        \"description\": \"\"\n      }\n    },\n    {\n      \"column\": \"documento_limpo\",\n      \"properties\": {\n        \"dtype\": \"string\",\n        \"num_unique_values\": 10958,\n        \"samples\": [\n          \"have normal procomm plus dos, i've been considering buying windows version....it really great reviews computer shopper. have friend connects mainframe unix machines here using screen seems have problem keeping with modem....he 14,400 modem machine. can't having trouble keeping pcplus works great, what after high speed modem arrives. edition this article applies only windows 3.1, os/2 apps running under windows. unadvertised limitations most current windows that their rs-232c (serial, com) performance seriously deficient. almost everyone purchases high-speed modem (v.32bis, v.32, hst) discovers problem first time they download file accept incoming 9600+) after upgrading modem. overrun retry errors abound, even when only active application datacomm program. transfer completes all, take even longer than with 2400bps modem. there three reasons problem: universal asynchronous receiver/transmitters (uarts) used most primitive ns8250 devices with single-byte fifo buffers. operating system/driver cannot read flush each character high interrupt rates, next incoming character overwrites fifo previous lost. dos, being fairly single-minded environment during datacomm, usually keep windows can't. windows more operating system overhead than plain dos, interrupts often take longer service. overruns much more likely than under dos. soon report your pc/modem vendor that losing data, advised that \\\"you need upgrade 16550\\\". more likely, since there seems conspiracy ignorance about this issue, you'll useful advice all. most store-front mail-order sources spoke with attempting solve problem never heard term \\\"16550\\\" many didn't even know what uart was. even your ns16550a uarts (and ps/2's do), upgrade your mother/com board board, still experience errors overruns because standard microsoft windows drivers don't take full advantage 16550. windows improved this regard over 3.0, still recommend driver upgrade. applications like procomm+/win (which what use) cannot around this problem themselves. have modem card, have problem, modem part card designed aware state uart, avoid overrunning however, wouldn't want that card designers were that clever, will insist 16550 uart ever modem card. some modem cards don't even have conventional uarts, they work with standard windows drivers, they need simulate one. msd.exe (below) what modem card pretending hardware situation. uarts most ports based national semiconductor ns8250 ns16450 chips megacells inside vlsi chips where can't replace them). uart type your system running microsoft diagnostic program \\\\windows\\\\msd.exe. sure *before* bringing windows. windows serial prevent from accurately identifying 16550 from windows prompt. ns16550 uart separate 16-byte transmit receive fifos with configurable trigger levels, reliably clock rates 460,800 bps, although with current modem technology, there's point pushing your luck going over 115,200 bps. 16550 shorted access cycle times than 16450 8250. 16550 also capability, clear that drivers ever this. more technical info, national semiconductor application note an-491. what uart component have? locate uart your mother board, multi-function card, board isa/mca modem card. can't find socketed component with numbers \\\"8250\\\" \\\"16450\\\", your ports probably buried vlsi, won't able perform chip replacement. disable your vlsi ports chose do), least aftermarket board. have more socketed 8250 16450 chips, plug-in ns16550afn pc16c550cn (low power cmos version) from several suppliers typically each. chip normal 40-pin dual-in-line package. other styles available, avoid ns16550 chips without (the 16c550c presumably ok). early chips have bugs, although national will reportedly exchange those their manufacture free. clone chips available from various makers other than national. manual turbocom drivers states support following (apparently equivalent) chips: national semiconductor: 16550a, 16551, 16552 chips&technology: 82c607 texas instruments: t16c550a silicon systems: 73m550 vlsi 16c550 turbocom warns about pre-\\\"a\\\" ns16550 western digital 16c550, says that problems have been reported with early ps/2 55sx systems (ibm reportedly will upgrade them). don't have socketed 8250/16450 chips, you'll need after- market multi-function board. this modem card situation, hosed. multi-function card, you'll need either disable com1/2 port(s) replacing, re-assign them com3/4 (although watch conflicts without turbocom). although cheaper cards available, interest getting problem solved quickly elected modular circuit technology mct-aio+ card from: microdevices 2233 samaritan drive jose 95124 (800) 538-5000 voice (408) 559-1200 voice other (800) 538-5005 mct-aio+ (and important) sells $89.95. 8-bit card providing: port type connector address comments db9m 1,2,3 2,3,4,5 ns16550afn socket ribbon 2,3,4 2,3,4,5 ns16550afn socket parallel db25f lpt1,2,3 game ribbon includes ribbon cable db25f connector secondary port, ribbon cable/connector game port, bulkhead plates ribbon-based connectors 9f-to-25f adaptor cable. each port individually disabled, ports have rts, cts, dtr, dcd, jumpers. also sells super-i/o card that also ide. have heard from several people about less expensive cards with 16550s: systems (407) 331-9130 $19.95 card, plus $9.95 16550. greenfield trading distributors (518) 271-2473 (voice), (518) 271-7811(fax). their card w/one 16550, w/2, they sell 16550afns $13. data systems, inc. east highway longwood, 32750 phone: (407) 331-1424 fax: (407) 331-8606 2com/lpt/game card 16550s have personal experience with firms except jdr. meanwhile, back card from jdr... only needed serial ports, running irqs disabled built-in vlsi-based 8250 ports. however, with turbocom driver (below), could have internals com3 using sharing. software situation simply upgrading 16550 uarts will completely solve common overrun problems. standard serial drivers don't take full advantage 16550. windows drivers even less capable, windows drivers have following limitations: they enable only receive fifo, only rates above 2400 bps. they never enable transmit fifo, which results interrupt rate during uploads. they trigger level bytes (too high it's easy more bytes arrive before driver read fifo). ports menu control panel only allows speeds 19200. with v.32bis modem, sparse data text easily compress more, suggesting that host connect rate 57,600 would effective. won't accept rates above \\\"cbr_128000\\\". won't programs know there 16550 there, even did, programs that aren't 16550-aware little benefit from 16550 port with standard drivers. they don't allow sharing com3,4. bios doesn't initialize com3,4 properly many systems. windows provides workaround apps that don't provide port speed options above 19200 bps. these problems reportedly solved windows 6.0, addressed windows releases after (but before 4.0). rumors suggest they \\\"may\\\" solved windows \\\"4.0\\\". replacement drivers that solve those problems buying copy \\\"turbocom\\\", current version 1.2, from: bio-engineering research pacific commware division beacon hill lane ashland 97520-9701 (503) 482-2744 voice (503) 482-2627 (503) 482-2633 mcimail: 344-5374 compuserve: 71521,760 price around recall. bio-eng accept credit cards, send check. egghead 1-800-software list turbocom know, they don't stock software company they apparently needed reliable hi-speed serial connections in-house instrument application, wrote their driver, discovered market revised general purpose driver suite. they recently upgraded windows 3.1. run-time licensed. have host (dte) connect rate 57,600 most datacomm apps, having zero problems with downloads. routinely transfer rates that exceed 2,000 bps. also using 115,200 when linking hp95lx with lossless bi-directional i/o. uploads various remote systems another matter, because many hosts still using antique uarts drivers. note that 19200 still highest rate that windows port menu control panel will allow configuring port. turbocom gets around this allowing specify, each port, factor that will real uart rate multiple rate passed through windows apis dialog boxes. also have cts/rts hardware flow control enabled, suggest that same. even only ever transfer 7-bit ascii data, xon/xoff sufficiently reliable method flow control. informal (dec) standard xon/xoff hysteresis that sender transmit another (yes, sixteen) bytes after receipt xoff from receiving system device. byte fifo 16550 clearly enough rely exclusively xon/xoff. well-respected datacomm engineer informed that 16550's can't really cts/rts itself dos/windows environment, using data rates above 115,200 still risky. even with hardware flow control, 16550 with turbocom still experience overruns very busy systems, with lots apps running serious swapping progress. this your situation, need co-processed board, this will cost more than 16550/turbocom upgrade. review such boards, review turbocom, found feb'93 issue \\\"windows sources\\\" magazine. suggest trying 16550/turbocom upgrade first, experiment with process priorities time slices \\\"power user\\\" whose thrashing system still runs into comm problems. closing soapbox comments state rs-232c serial datacomm support embarrassment across computer industry. because oldest standard interface, designing hardware writing software often seems assigned least senior lowest ranked engineers computer companies. design average serial port least years behind state art. last job, with major workstation vendor, lobbied improved serial ports when they were doing initial designs system. that family machines subsequently introduced with 16550 ports. however, this exception. computer companies seem have champions decent i/o. well learn what about serial i/o, because this situation shows sign improving soon. when v.fast arrives, expect cries outrage from windows users world-wide whose 8250 \\\"sort work today with v.32, will fail miserably with v.fast. without hardware-buffered uart (like 16550) without software drivers that that uart best advantage, v.fast modem will waste money. regards, 1001-a east harmony road niland suite internet: rjn@csn.org fort collins 80525 compuserve: 71044,2124 (303) 223-5209 copyright 1993 robert niland rights reserved permission granted automatic redistribution this article, electronic, magnetic optical media, unedited form, through usenet newsgroup where article posted author. permission granted each compuserve usenet reader subscriber each person received this article from compuserve, site authorized author electronic mail from author, retain electronic copy make hardcopy reproductions this edition this article personal non-commercial use, provided that material changes made article this copyright statement. other copying, storage, reproduction redistribution this article, form, prohibited without express written consent author, robert niland.\",\n          \"what find wrong with flat subaru's, flat that matter?\",\n          \"those interested ultra cards: posted some questions regarding ultra cards asked confirmation some opinions. this message summary responses. thanks that replied. higher memory limits apply cards only, know. eisa version should have problems. pretty sure from experience that version doesn't work systems with over ram. there supposed switching \\\"memory aperture\\\" feature prevent this, apparently doesn't work. posted some \\\"help messages people indicated that eisa card didn't have this problem. false card, which have, allows memory aperture over using their configuration software. messing with jumpers necessary. problem probably valid only cards. again, memory aperture need only disabled have more than 124m (eisa vlb) (isa). should problem you. dunno. depends bus. isa, eisa localbus nope. 640x480 72hz, 24-bit 800x600 70hz, 24-bit, non-interlaced. according magazine, they've tested local version that does 1024x768 24-bit which interlaced. pro. sometimes plus. some modes only interlaced certain monitors. this nothing with bits only with screen size. note that color windows must have megs, memory size calculations notwithstanding. they aren't perfect, much improved. don't recall last time which leave mach mode (ati mode) switch 8514 mode software incompatibility. true. many people recommended going back build they appear excellent, have bugs. example, certain graphs with dashed lines mathcad print correctly, though they display screen. they about fancy cards other accelerated cards also have bugs. overall, like card, even driver performance somewhat less than satisfactory. running 1024*768 color mode that driver october version seems allow. will this that color performance quite nice diamond stealth vram, have been able options driver. it's quite fast, whether fastest open debate. i'll admit very very fast 16-bit mode, which what wanted for. crashed many different ways) every minutes so... depends many many things. like well magazine seems think yes, this appears true greatest thing since sliced bread, doubt better cards coming out. knows, maybe will come with something faster yet. several reviews read rated pycon winjet card superior performer cheaper price except availability drivers, which pycon developing that time. magazine, about months back) overall, card potential, have able ----------------------------------------------------------------------------- that questions. these were most discussed items this group thought they needed confirmation. those familiar with card have included summary here (from since don't have graphics ultra yet.) graphics ultra plus: accelerated 1024x768 colours true colour(16.7m) 800x600 multimedia video acceleration (for indeo video,rle video compressed) stretch full motion video windows full size fast includes button mouse (isa versions only) anti-aliased fonts (ed. avail colour mode only,i think) real-time zoom across large virtual windows desktop around length card size priced from $400 u.s. graphics ultra pro: everything graphics ultra plus faster performance with vrams accelerated 1280x1024 colours 74hz non-interlaced available isa, eisa microchannel priced from $600 u.s. technologies (416) 756-0718 hope this summary you. p.s. associated with technologies other than having used their previous ultra card years (which generally liked).\"\n        ],\n        \"semantic_type\": \"\",\n        \"description\": \"\"\n      }\n    },\n    {\n      \"column\": \"topico\",\n      \"properties\": {\n        \"dtype\": \"number\",\n        \"std\": 3,\n        \"min\": 0,\n        \"max\": 11,\n        \"num_unique_values\": 12,\n        \"samples\": [\n          7,\n          5,\n          10\n        ],\n        \"semantic_type\": \"\",\n        \"description\": \"\"\n      }\n    }\n  ]\n}"
            }
          },
          "metadata": {},
          "execution_count": 48
        }
      ]
    },
    {
      "cell_type": "markdown",
      "metadata": {
        "id": "LybQY2r1fngp"
      },
      "source": [
        "## Referências e Material complementar\n",
        "\n",
        "* [LDA - Artigo original](http://www.jmlr.org/papers/volume3/blei03a/blei03a.pdf)  \n",
        "* [Modelagem de tópicos - Prof. Walmes Zeviani](http://www.leg.ufpr.br/~walmes/ensino/mintex/slides/08-topicos.pdf)\n",
        "* [Tutorial de LSA - Latent Semantic Analysis](https://pessoalex.wordpress.com/2019/04/01/uma-introducao-a-modelagem-de-topicos-utilizando-analise-semantica-latente-em-python/)\n",
        "* [LDA in Python – How to grid search best topic models?](https://www.machinelearningplus.com/nlp/topic-modeling-python-sklearn-examples/)\n",
        "* [Topic modeling visualization – How to present the results of LDA models?](https://www.machinelearningplus.com/nlp/topic-modeling-visualization-how-to-present-results-lda-models/)"
      ]
    },
    {
      "cell_type": "markdown",
      "metadata": {
        "id": "Z09nD_2ZkRDr"
      },
      "source": [
        "Este notebook foi produzido por Prof. [Lucas Oliveira](http://lattes.cnpq.br/3611246009892500)."
      ]
    }
  ]
}