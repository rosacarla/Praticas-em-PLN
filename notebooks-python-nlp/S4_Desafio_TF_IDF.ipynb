{
  "nbformat": 4,
  "nbformat_minor": 0,
  "metadata": {
    "colab": {
      "provenance": []
    },
    "kernelspec": {
      "name": "python3",
      "display_name": "Python 3"
    },
    "language_info": {
      "name": "python"
    }
  },
  "cells": [
    {
      "cell_type": "markdown",
      "source": [
        "># <b>Desafio: análise de comentários negativos dos consumidores com TF-IDF</b>  \n",
        "> Instituição: PUCPR  \n",
        "> Curso: Tecnologia em Inteligência Artifical Aplicada  \n",
        "> Disciplina: Processamento de Linguagem Natural  \n",
        "> Professor: Lucas Oliveira  \n",
        "> Estudante: Carla Edila Silveira  \n",
        "> Data: 20/04/2024  \n",
        "\n",
        "<img src='https://i.postimg.cc/gk88VJqL/avaliacao-cliente.png' width=880>"
      ],
      "metadata": {
        "id": "BjDsRZdp8n9v"
      }
    },
    {
      "cell_type": "markdown",
      "source": [
        "<p align='justify'>CONTEXTO: Extrair conhecimento de um texto envolve várias etapas. Diversas empresas e organizações têm apostado em aplicar técnicas de inteligência artificial para otimizar seus processos.</p>\n",
        "\n",
        "<p align='justify'>Nesse contexto, identificar o comportamento do consumidor é fundamental para definir estratégias de mercado. Existem diversas plataformas nas quais os clientes deixam suas reclamações em relação às empresas. As avaliações nessas plataformas servem muitas vezes de referência aos consumidores e aos gestores que planejam estratégias para melhorar a visão da empresa.</p>\n",
        "\n",
        "><p align='justify'>DESAFIO: Imagine que você foi contratado por uma empresa para analisar os comentários negativos que seus consumidores deixaram em uma plataforma de reclamações. Observe, no arquivo a seguir (<i>comments.txt</i>), os comentários negativos dos consumidores. Como profissional responsável por analisar os dados e considerando o arquivo com as reclamações dos consumidores, seu desafio é aplicar o método TF-IDF utilizando a linguagem Python 3 para extrair características do texto e montar uma matriz com os valores TF-IDF. </p>"
      ],
      "metadata": {
        "id": "TWqpAkdJ_JxN"
      }
    },
    {
      "cell_type": "code",
      "source": [
        "# Importa bibliotecas necessárias\n",
        "\n",
        "import pandas as pd\n",
        "from google.colab import drive\n",
        "from sklearn.feature_extraction.text import TfidfVectorizer"
      ],
      "metadata": {
        "id": "QV6p18UfCiqf"
      },
      "execution_count": null,
      "outputs": []
    },
    {
      "cell_type": "code",
      "execution_count": null,
      "metadata": {
        "colab": {
          "base_uri": "https://localhost:8080/"
        },
        "id": "PnPviIRi8Hpb",
        "outputId": "5768d548-6042-4a55-cd2e-058af0ae9e32"
      },
      "outputs": [
        {
          "output_type": "stream",
          "name": "stdout",
          "text": [
            "Mounted at /content/drive\n"
          ]
        }
      ],
      "source": [
        "# Monta drive para carregar arquivo com comentários negativos\n",
        "drive.mount('/content/drive')"
      ]
    },
    {
      "cell_type": "code",
      "source": [
        "# Caminho para o arquivo .txt\n",
        "caminho = '/content/drive/MyDrive/Colab Notebooks/Data/comments.txt'\n",
        "\n",
        "# Leitura do arquivo .txt\n",
        "with open(caminho, 'r') as file:\n",
        "    comments = file.readlines()\n",
        "\n",
        "print(comments)"
      ],
      "metadata": {
        "colab": {
          "base_uri": "https://localhost:8080/"
        },
        "id": "5B1NCBcNCp6b",
        "outputId": "8a21fbb5-7dd2-42c4-ac39-1d1cf6333656"
      },
      "execution_count": null,
      "outputs": [
        {
          "output_type": "stream",
          "name": "stdout",
          "text": [
            "[\"'No dia 16/02 recebo um e-mail da Loja alegando divergência de dados e acusando pagamento não autorizado! Sem nenhum detalhe adicional! Simplesmente negam a compra, a fatura permanece, e não explicam nada!Liguei para o atendimento e tive a mesma informação. Fui bem atendido. Como trabalho muito com notebook, realizei novamente a compra e fui informado que o pagamento é estornado em até 48h. Quando entrei no Reclame Aqui, que arrependimento tive! Reclamações de pessoas que há mais de uma semana não recebem o estorno, e de problemas similares ao meu! Espero sinceramente que o valor seja estornado logo e que a segunda compra seja bem procedida, e o produto entregue em tempo. Não tenho nenhum apreço por ter que recorrer a medidas legais! Espero profissionalismo e transparência da empresa, como obrigação com o consumidor!',\\n\", \"'Boa tarde, fiz um pedido de dois pneus dia 16/01/2020, quase na mesma hora recebi um e-mail de confirmação do pagamento, que a mercadoria já estava com a transportadora e que a previsão de retirada seria em até 7 dias úteis, achei ótimo, muito rápido, já que seria para colocar no carro para viajar no começo do mês, então fiquei muito satisfeito, ia dar tudo certo! Mais não foi isso q aconteceu, não recebi o e-mail de confirmação até a presente data, ai começou a dor de cabeça, mandei e-mail reclamando da demora do dito cujo e-mail de aprovação para retirada do produto no dia 31-01-2020 sendo q o prazo já tinha passado, a resposta foi a seguinte...Identificamos um problema operacional que atrasou a entrega do seu pedido 281425025, mas já estamos em contato com a transportadora para resolvermos o mais rápido possível.Não se preocupe, acionamos nossa equipe de suporte pelo protocolo 6803089. Já estamos acompanhando todo o processo e retornaremos o contato em 05 (cinco) dias úteis.Pedimos desculpas pelo transtorno e estamos à sua disposição.Protocolo: 6779662 Atenciosamente,Atendimento.com. Pois é a o prazo passou e ninguém entrou em contato, foi aí que mandei outro e-mail, e a resposta já foi outra de três dias.. Já acionamos a área responsável. Não se preocupe, em 03 (três) dias corridos o setor responsável entrará em contato.Pois bem ninguém entrou em contato, mas eu entrei em contato por telefone e quem me atendeu, falou em mais 5 dias para o contato comigo! Pow tá de brincadeira né , até quando isso?! Pior de tudo, é que eles tem o produto na loja, antes de comprar no site, passei na loja, mas estava bem mais caro, então optei por comprar no site e retirar na loja! Porém só libera a retirada do produto, com o e-mail de confirmação do site. Estou indignado com isso, pois já estou pagando o pneu no cartão, sendo que não tenho o produto em mãos.',\\n\", \"'Realizei a compra de 4 pneus no dia 21 de janeiro, e escolhi a opção de retirar na loja física, o prazo era de 7 dias. Até hoje não recebi a mercadoria, já liguei incontáveis vezes para o numero do atendimento e não obtenho nenhum tipo de retorno, no começo me falavam que eu tinha que aguardar o e-mail de confirmação para retirada da mercadoria na loja, e agora, quase um mês depois, a única coisa que me falam é que irão verificar e me retornar, mas não me retornam. No dia 05 de fevereiro recebi do atendimento@atendimento.com.br um e-mail (ANEXO) falando que iriam analisar o que aconteceu com o meu pedido e entrariam em contato dentro de 5 dias úteis, pois bem, estou até hoje aguardando e nada. Ontem fui na loja física e me informaram que não podem fazer nada, e que estão aguardando a transportadora. Saindo de lá liguei novamente no telefone do atendimento e fui informada pela atendente que a mercadoria havia voltado para o centro de distribuição pois não havia sido retirada. Em momento algum eu recebi e-mail que a mercadoria estava disponível para retirada, muito pelo contrário, todas as vezes que liguei me falaram que eu tinha que aguardar o e-mail. Inclusive quando fui na loja física a atendente não me informou que a mercadoria já tinha ido pra loja e retornado para o centro de distribuição, ela me disse que estava aguardando a transportadora e que não podia fazer absolutamente nada. É UM TOTAL DESCASO E FALTA DE RESPEITO COM O CONSUMIDOR, FICAMOS SEM RETORNO E AINDA RECEBEMOS INFORMAÇÕES DESENCONTRADAS, NINGUÉM RESOLVE O PROBLEMA, FALAM QUE IRÃO VERIFICAR E RETORNAR MAS NÃO RETORNAM. É A PRIMEIRA E SERÁ A ÚLTIMA VEZ QUE COMPRO NO SITE da Loja, VOCÊS SÃO PÉSSIMOS. ATENDIMENTO HORRÍVEL. COMPREI COM VOCÊS POR CONTA DO PRAZO QUE ESTAVA NO SITE DE VOCÊS POIS TINHA VIAGEM MARCADA, E OLHA SÓ, NÃO CONSEGUI VIAJAR POIS OS PNEUS NÃO CHEGARAM A TEMPO. COMPRAR COM VOCÊS É SÓ PREJUÍZO, NÃO RECOMENDO PARA NINGUÉM.',\\n\", \"'No dia 11/02/2020 realizei um pedido de compras on-line no site da Loja. Na tela principal aparece uma promoção do creme dental siga sorrindo, no banner está escrito: compre 3 produtos do creme dental e concorra a R$1000,00* + FRETE GRÁTIS NAS COMPRAS ACIMA DE 39,90. Clicando no banner não existe nenhum regulamento nem mais informações, desta forma inclui na minha compra 3 produtos do creme dental no carrinho e no mesmo momento o valor do frete passou para 0 reais. Conclui a compra no valor de R$391,78 e quando foi cobrado no cartão haviam incluído o frete de R$14,90. As compras chegaram certas e resolvi fazer outro pedido (n 308435373). Ainda constava o mesmo banner de promoção então inclui os 3 produtos do creme dental. Novamente ocorreu o mesmo erro e o frete foi cobrado. Liguei no SAC (protocolo 6918522) e o atendente  me falou que na verdade ao comprar os 3 produtos do creme dental estaria concorrendo aos R$1000,00 da promoção e também concorrendo a um frete grátis. Argumentei que isso era uma propaganda enganosa, pois não estava claro a nenhum momento e não teria lógica participar de um sorteio para ganhar frete grátis!?!Recebi estas segundas compras certas, porém não obedeceram o horário escolhido no site e entregaram 1h antes do combinado, por sorte tinha alguém para receber naquele momento.Entrando no site da promoção do creme dental, existe sim a inclusão dos 3 produtos para concorrer aos R$1000,00 porém não existe nada sobre frete grátis muito menos vinculado aoà Loja. Desta forma solicito a devolução do valor dos fretes.', 'fiz uma compra dia 17/01/2020 e solicitei o máximo de parcelas no caso 15x, ai fui conferir e vi que foi parcelado apenas em 8x, liguei logo depois de 2h pra verificar e solicitar que fosse alterado para 15x assim como eu tinha solicitada, me comunicaram que eu teria que cancelar e fazer novamente a compra, até ai tudo bem eu solicitei o cancelamento com eles para comprar novamente, porém já se passaram 27 dias apás a solicitação do estorno do cartão de crédito, já efetuei várias ligações com dois protocolos em mãos e nada de ser feito o estorno, tive que pagar a primeira parcela que foi lançada na fatura e nada deles estornarem meu cartão, a segunda parcela já esta por vir e nada de estornarem a compra ou liberarem o limite do meu cartão.'\\n\"]\n"
          ]
        }
      ]
    },
    {
      "cell_type": "code",
      "source": [
        "# Aplica o método TF-IDF\n",
        "tfidf_vectorizer = TfidfVectorizer(max_features=1000)  # Defina o número máximo de features\n",
        "tfidf_matrix = tfidf_vectorizer.fit_transform(comments)"
      ],
      "metadata": {
        "id": "Ag7UVU9jEA1P"
      },
      "execution_count": null,
      "outputs": []
    },
    {
      "cell_type": "code",
      "source": [
        "# Cria dataframe para visualização dos resultados\n",
        "feature_names = tfidf_vectorizer.get_feature_names_out()\n",
        "tfidf_df = pd.DataFrame(tfidf_matrix.toarray(), columns=feature_names)"
      ],
      "metadata": {
        "id": "WxLo8Nj_EBz5"
      },
      "execution_count": null,
      "outputs": []
    },
    {
      "cell_type": "code",
      "source": [
        "# Visualiza a matriz TF-IDF\n",
        "print(tfidf_df)"
      ],
      "metadata": {
        "colab": {
          "base_uri": "https://localhost:8080/"
        },
        "id": "kautAWVHElYE",
        "outputId": "22a65d57-6d34-4ffd-854b-e7bef6d9e715"
      },
      "execution_count": null,
      "outputs": [
        {
          "output_type": "stream",
          "name": "stdout",
          "text": [
            "         00        01        02        03        05      1000        11  \\\n",
            "0  0.000000  0.000000  0.076674  0.000000  0.000000  0.000000  0.000000   \n",
            "1  0.000000  0.073230  0.000000  0.046442  0.036615  0.000000  0.000000   \n",
            "2  0.000000  0.000000  0.000000  0.000000  0.034433  0.000000  0.000000   \n",
            "3  0.113193  0.029748  0.029748  0.000000  0.000000  0.113193  0.037731   \n",
            "\n",
            "         14       15x        16  ...  vinculado       vir     vocês   voltado  \\\n",
            "0  0.000000  0.000000  0.076674  ...   0.000000  0.000000  0.000000  0.000000   \n",
            "1  0.000000  0.000000  0.036615  ...   0.000000  0.000000  0.000000  0.000000   \n",
            "2  0.000000  0.000000  0.000000  ...   0.000000  0.000000  0.174694  0.043673   \n",
            "3  0.037731  0.075462  0.000000  ...   0.037731  0.037731  0.000000  0.000000   \n",
            "\n",
            "     várias      área     ótimo    última     única     úteis  \n",
            "0  0.000000  0.000000  0.000000  0.000000  0.000000  0.000000  \n",
            "1  0.000000  0.046442  0.046442  0.000000  0.000000  0.073230  \n",
            "2  0.000000  0.000000  0.000000  0.043673  0.043673  0.034433  \n",
            "3  0.037731  0.000000  0.000000  0.000000  0.000000  0.000000  \n",
            "\n",
            "[4 rows x 451 columns]\n"
          ]
        }
      ]
    },
    {
      "cell_type": "markdown",
      "source": [
        "> Gabarito do desafio disponível [aqui]()."
      ],
      "metadata": {
        "id": "OVJvRRy6FvNG"
      }
    }
  ]
}