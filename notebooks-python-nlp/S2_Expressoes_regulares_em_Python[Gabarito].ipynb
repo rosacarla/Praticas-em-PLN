{
  "nbformat": 4,
  "nbformat_minor": 0,
  "metadata": {
    "colab": {
      "provenance": []
    },
    "kernelspec": {
      "name": "python3",
      "display_name": "Python 3"
    }
  },
  "cells": [
    {
      "cell_type": "markdown",
      "metadata": {
        "id": "W6rIQ54xy2Wc"
      },
      "source": [
        "#GABARITO\n",
        "#Expressões Regulares em Python\n"
      ]
    },
    {
      "cell_type": "markdown",
      "metadata": {
        "id": "mnwfcSZjJLjf"
      },
      "source": [
        "##**ATIVIDADE PRÁTICA**\n",
        "Atividades de fixação no uso de Expressões Regulares"
      ]
    },
    {
      "cell_type": "markdown",
      "metadata": {
        "id": "_92QgvUnf2VB"
      },
      "source": [
        "### 1) Obtenha todas palavras do texto"
      ]
    },
    {
      "cell_type": "code",
      "metadata": {
        "id": "kV1Klajof2dw",
        "colab": {
          "base_uri": "https://localhost:8080/",
          "height": 34
        },
        "outputId": "855f4840-ab10-42f1-ecfd-8fa3a5108127"
      },
      "source": [
        "texto = \"Um texto qualquer sem qualquer valor semântico.\"\n",
        "re.findall(r\"\\w+\", texto)"
      ],
      "execution_count": null,
      "outputs": [
        {
          "output_type": "execute_result",
          "data": {
            "text/plain": [
              "['Um', 'texto', 'qualquer', 'sem', 'qualquer', 'valor', 'semântico']"
            ]
          },
          "metadata": {
            "tags": []
          },
          "execution_count": 43
        }
      ]
    },
    {
      "cell_type": "markdown",
      "metadata": {
        "id": "wvww9clJd-QO"
      },
      "source": [
        "### 2) Obtenha a primeira palavra do texto"
      ]
    },
    {
      "cell_type": "code",
      "metadata": {
        "id": "C7CLrIw6d-a9",
        "colab": {
          "base_uri": "https://localhost:8080/",
          "height": 34
        },
        "outputId": "10c67196-3e77-420b-8d0d-38be57cbf985"
      },
      "source": [
        "texto = \"Um texto qualquer sem qualquer valor semântico.\"\n",
        "re.findall(r\"^[a-zA-Z]+\", texto) #ou usar search()"
      ],
      "execution_count": null,
      "outputs": [
        {
          "output_type": "execute_result",
          "data": {
            "text/plain": [
              "['Um']"
            ]
          },
          "metadata": {
            "tags": []
          },
          "execution_count": 44
        }
      ]
    },
    {
      "cell_type": "markdown",
      "metadata": {
        "id": "rfeYO3h7Jf7_"
      },
      "source": [
        "### 3) Obtenha a posição de início do primeiro espaço (white-space) encontrado no texto a seguir"
      ]
    },
    {
      "cell_type": "code",
      "metadata": {
        "id": "ku7y_bfJJgGW",
        "colab": {
          "base_uri": "https://localhost:8080/",
          "height": 34
        },
        "outputId": "6e42154c-bb3e-43b1-c361-d64f5f4e12a9"
      },
      "source": [
        "texto = \"Um texto qualquer sem qualquer valor semântico.\"\n",
        "match = re.search(r\"\\s\", texto)\n",
        "match.start()"
      ],
      "execution_count": null,
      "outputs": [
        {
          "output_type": "execute_result",
          "data": {
            "text/plain": [
              "2"
            ]
          },
          "metadata": {
            "tags": []
          },
          "execution_count": 45
        }
      ]
    },
    {
      "cell_type": "markdown",
      "metadata": {
        "id": "YE14-xVqgLd0"
      },
      "source": [
        "### 4) Obtenha os dois primeiros caracteres de cada palavra\n",
        "Dica: Pesquise sobre o caracter de word boundary `\\b`, que encontra as delimitações de cada palavra"
      ]
    },
    {
      "cell_type": "code",
      "metadata": {
        "id": "qUt5T65kgLxB",
        "colab": {
          "base_uri": "https://localhost:8080/",
          "height": 34
        },
        "outputId": "c05673e3-53cf-4cec-83e3-2e0b7cbfca3e"
      },
      "source": [
        "texto = \"Um texto qualquer sem qualquer valor semântico.\"\n",
        "re.findall(r\"\\b\\w{2}\", texto)"
      ],
      "execution_count": null,
      "outputs": [
        {
          "output_type": "execute_result",
          "data": {
            "text/plain": [
              "['Um', 'te', 'qu', 'se', 'qu', 'va', 'se']"
            ]
          },
          "metadata": {
            "tags": []
          },
          "execution_count": 46
        }
      ]
    },
    {
      "cell_type": "markdown",
      "metadata": {
        "id": "QjOe3SddhK7k"
      },
      "source": [
        "### 5) Obtenha datas no formato brasileiro (dd/mm/aaaa) e americano (aaaa-mm-dd)"
      ]
    },
    {
      "cell_type": "code",
      "metadata": {
        "id": "mrjaQ06HhLIP",
        "colab": {
          "base_uri": "https://localhost:8080/",
          "height": 34
        },
        "outputId": "46736279-cc17-4fb6-f71a-fdccd137d3ae"
      },
      "source": [
        "texto = \"Data: 27/02/1987. Date: 1987-02-27.\"\n",
        "re.findall(r\"([0-9]{2}/[0-9]{2}/[0-9]{4})|([0-9]{4}-[0-9]{2}-[0-9]{2})\", texto)"
      ],
      "execution_count": null,
      "outputs": [
        {
          "output_type": "execute_result",
          "data": {
            "text/plain": [
              "[('27/02/1987', ''), ('', '1987-02-27')]"
            ]
          },
          "metadata": {
            "tags": []
          },
          "execution_count": 47
        }
      ]
    },
    {
      "cell_type": "markdown",
      "metadata": {
        "id": "-wn8AED7mfP1"
      },
      "source": [
        "### 6) Obtenha todas palavras que terminem com vogal"
      ]
    },
    {
      "cell_type": "code",
      "metadata": {
        "id": "UY8hVsNemlup",
        "colab": {
          "base_uri": "https://localhost:8080/",
          "height": 34
        },
        "outputId": "6b3c45a2-858a-4c24-86cc-d87c4c6139cd"
      },
      "source": [
        "texto = \"Um texto qualquer sem qualquer valor semântico.\"\n",
        "re.findall(r\"\\w+[aeiou]{1}\\b\", texto)"
      ],
      "execution_count": null,
      "outputs": [
        {
          "output_type": "execute_result",
          "data": {
            "text/plain": [
              "['texto', 'semântico']"
            ]
          },
          "metadata": {
            "tags": []
          },
          "execution_count": 48
        }
      ]
    },
    {
      "cell_type": "markdown",
      "metadata": {
        "id": "AVf7H86WoKbi"
      },
      "source": [
        "### 7) Substitua toda ocorrência da palavra \"Avenida\" por \"Av.\"\n"
      ]
    },
    {
      "cell_type": "code",
      "metadata": {
        "id": "Ok4VE3rpmfis"
      },
      "source": [
        "texto = \"Endereço: Avenida Getúlio Vargas, 1811\\nEndereço: avenida visconde de guarapuava, 1533\""
      ],
      "execution_count": null,
      "outputs": []
    },
    {
      "cell_type": "markdown",
      "metadata": {
        "id": "BzDEjywwo3Zk"
      },
      "source": [
        "###8) Obtenha os endereços sem a numeração"
      ]
    },
    {
      "cell_type": "code",
      "metadata": {
        "id": "NhDq6ES0o3rK"
      },
      "source": [
        "texto = \"Endereço: Avenida Getúlio Vargas, 1811\\nEndereço: avenida visconde de guarapuava, 1533\""
      ],
      "execution_count": null,
      "outputs": []
    },
    {
      "cell_type": "markdown",
      "metadata": {
        "id": "bCyrLdDWpaIf"
      },
      "source": [
        "### 9) Substitua todas ocorrências de espaços, vírgulas e pontos pelo underline"
      ]
    },
    {
      "cell_type": "code",
      "metadata": {
        "id": "FzFgtNXupaWc",
        "colab": {
          "base_uri": "https://localhost:8080/",
          "height": 34
        },
        "outputId": "ed04ccd2-a466-469a-c8e6-28a88925aa8f"
      },
      "source": [
        "text = 'Python Exercises, PHP exercises.'\n",
        "print(re.sub(\"[ ,.]\", \"_\", text))"
      ],
      "execution_count": null,
      "outputs": [
        {
          "output_type": "stream",
          "text": [
            "Python_Exercises__PHP_exercises_\n"
          ],
          "name": "stdout"
        }
      ]
    },
    {
      "cell_type": "markdown",
      "metadata": {
        "id": "mUx9tY455Dkw"
      },
      "source": [
        "## Referências e Material complementar\n",
        "\n",
        "\n",
        "*   [RegEx Cheat Sheet](https://www.rexegg.com/regex-quickstart.html)\n",
        "*   [Tutorial sobre expressões regulares para iniciantes em Python](https://www.vooo.pro/insights/tutorial-sobre-expressoes-regulares-para-iniciantes-em-python/)\n",
        "*   [Python Regular Expressions by Google](https://developers.google.com/edu/python/regular-expressions)\n",
        "*   [Python ReGex Exercises](https://www.w3resource.com/python-exercises/re/)\n",
        "\n"
      ]
    },
    {
      "cell_type": "markdown",
      "metadata": {
        "id": "UaMRtOArrJgL"
      },
      "source": [
        "Este notebook foi produzido por Prof. [Lucas Oliveira](http://lattes.cnpq.br/3611246009892500)."
      ]
    }
  ]
}