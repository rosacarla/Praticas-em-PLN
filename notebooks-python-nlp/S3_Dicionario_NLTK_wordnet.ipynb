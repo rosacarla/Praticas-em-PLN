{
  "nbformat": 4,
  "nbformat_minor": 0,
  "metadata": {
    "colab": {
      "provenance": []
    },
    "kernelspec": {
      "name": "python3",
      "display_name": "Python 3"
    },
    "language_info": {
      "name": "python"
    }
  },
  "cells": [
    {
      "cell_type": "markdown",
      "source": [
        "># <b>DICIONÁRIO SIMPLES COM NLTK</b>"
      ],
      "metadata": {
        "id": "x1X9QQvw6tbA"
      }
    },
    {
      "cell_type": "markdown",
      "source": [
        "> Instituição: PUCPR  \n",
        "> Curso: Tecnologia em Inteligência Artificial Aplicada  \n",
        "> Disciplina: Processamento de Linguagem Natural  \n",
        "> Professor: Lucas Emanuel Silva e Olveira  \n",
        "> Estudante: Carla Edila Silveira  "
      ],
      "metadata": {
        "id": "Orh7-y8d9GHQ"
      }
    },
    {
      "cell_type": "code",
      "execution_count": null,
      "metadata": {
        "colab": {
          "base_uri": "https://localhost:8080/"
        },
        "id": "2Ul-NkyI6saW",
        "outputId": "571f22ba-9cb3-4357-f924-4a185c7b23cf"
      },
      "outputs": [
        {
          "output_type": "stream",
          "name": "stderr",
          "text": [
            "[nltk_data] Downloading package wordnet to /root/nltk_data...\n",
            "[nltk_data]   Package wordnet is already up-to-date!\n"
          ]
        }
      ],
      "source": [
        "# Importa bibliotecas NLTK\n",
        "import nltk\n",
        "nltk.download('wordnet')\n",
        "from nltk.corpus import wordnet_ic\n",
        "from nltk.corpus import wordnet as wn"
      ]
    },
    {
      "cell_type": "code",
      "source": [
        "# Carregando o corpus do WordNet em português\n",
        "nltk.download('omw-1.4')"
      ],
      "metadata": {
        "colab": {
          "base_uri": "https://localhost:8080/"
        },
        "id": "xHm7SmY27Drk",
        "outputId": "59b99e25-9662-4f5b-8707-574fcf6565ef"
      },
      "execution_count": null,
      "outputs": [
        {
          "output_type": "stream",
          "name": "stderr",
          "text": [
            "[nltk_data] Downloading package omw-1.4 to /root/nltk_data...\n"
          ]
        },
        {
          "output_type": "execute_result",
          "data": {
            "text/plain": [
              "True"
            ]
          },
          "metadata": {},
          "execution_count": 3
        }
      ]
    },
    {
      "cell_type": "code",
      "source": [
        "# Função para obter definição e frase de exemplo de uma palavra usando WordNet em português\n",
        "def obter_definicao_e_frase(palavra):\n",
        "    try:\n",
        "        synsets = wn.synsets(palavra, lang='por')\n",
        "        if synsets:\n",
        "            definicao = synsets[0].definition()\n",
        "            exemplos = synsets[0].examples()\n",
        "            frase_exemplo = exemplos[0] if exemplos else \"\"\n",
        "            return definicao, frase_exemplo\n",
        "        else:\n",
        "            return \"Palavra não encontrada no WordNet em português.\", \"\"\n",
        "    except Exception as e:\n",
        "        return \"Ocorreu um erro ao processar a palavra.\", str(e)"
      ],
      "metadata": {
        "id": "_efE7NeE7VsE"
      },
      "execution_count": null,
      "outputs": []
    },
    {
      "cell_type": "code",
      "source": [
        "# Exemplo de uso\n",
        "palavra_desejada = input(\"Digite a palavra que você gostaria de pesquisar: \").lower()\n",
        "definicao, frase_exemplo = obter_definicao_e_frase(palavra_desejada)\n",
        "\n",
        "print(\"\\nDefinição:\", definicao)\n",
        "print(\"Frase de exemplo:\", frase_exemplo)"
      ],
      "metadata": {
        "colab": {
          "base_uri": "https://localhost:8080/"
        },
        "id": "4Wp-znB27aUj",
        "outputId": "f33c6f15-1538-42f2-a898-57a8347e6c8a"
      },
      "execution_count": null,
      "outputs": [
        {
          "output_type": "stream",
          "name": "stdout",
          "text": [
            "Digite a palavra que você gostaria de pesquisar: olho\n",
            "\n",
            "Definição: a small hole or loop (as in a needle)\n",
            "Frase de exemplo: the thread wouldn't go through the eye\n"
          ]
        }
      ]
    },
    {
      "cell_type": "code",
      "source": [
        "# Busca de sinônimos\n",
        "print(wn.synsets('room'))"
      ],
      "metadata": {
        "colab": {
          "base_uri": "https://localhost:8080/"
        },
        "id": "YN70v7OuDF9I",
        "outputId": "78c9975d-cb65-488f-a870-977b0dd355d3"
      },
      "execution_count": null,
      "outputs": [
        {
          "output_type": "stream",
          "name": "stdout",
          "text": [
            "[Synset('room.n.01'), Synset('room.n.02'), Synset('room.n.03'), Synset('room.n.04'), Synset('board.v.02')]\n"
          ]
        }
      ]
    },
    {
      "cell_type": "code",
      "source": [
        "# Busca de definição\n",
        "syn_arr = wn.synsets('house')\n",
        "print(syn_arr[0].definition())\n",
        "\n",
        "# Saída de uma definição em inglês: 'a dwelling that serves as living quarters for one or more families'\n",
        "# Traduzida como: 'uma habitação que serve de moradia para uma ou mais famílias'"
      ],
      "metadata": {
        "colab": {
          "base_uri": "https://localhost:8080/"
        },
        "id": "tA0-35fwEB_k",
        "outputId": "57e00f07-10f3-43e0-f492-3a5b563a27e9"
      },
      "execution_count": null,
      "outputs": [
        {
          "output_type": "stream",
          "name": "stdout",
          "text": [
            "a dwelling that serves as living quarters for one or more families\n"
          ]
        }
      ]
    },
    {
      "cell_type": "code",
      "source": [
        "# Busca de sinônimos para 'feliz\n",
        "synset = wn.synsets('happy')\n",
        "print('O primeiro sinônimo de HAPPY é: ' + synset[0].lemmas()[0].name())\n",
        "print('O primeiro sinônimo de HAPPY é: ' + synset[1].lemmas()[0].name())\n",
        "print('O primeiro sinônimo de HAPPY é: ' + synset[2].lemmas()[0].name())"
      ],
      "metadata": {
        "colab": {
          "base_uri": "https://localhost:8080/"
        },
        "id": "6EBQ2FPVE0CU",
        "outputId": "cf4ad168-11f0-4a18-f36e-9a65728c7f4b"
      },
      "execution_count": null,
      "outputs": [
        {
          "output_type": "stream",
          "name": "stdout",
          "text": [
            "O primeiro sinônimo de HAPPY é: happy\n",
            "O primeiro sinônimo de HAPPY é: felicitous\n",
            "O primeiro sinônimo de HAPPY é: glad\n"
          ]
        }
      ]
    },
    {
      "cell_type": "code",
      "source": [
        "# Uso do OpenWN-PT, uma wordnet de língua portuguesa\n",
        "gato_lemmas = wn.lemmas(\"gato\", lang=\"por\")\n",
        "print (gato_lemmas)"
      ],
      "metadata": {
        "colab": {
          "base_uri": "https://localhost:8080/"
        },
        "id": "I1eNyR0uGKwL",
        "outputId": "18132b1e-1a6a-4105-d826-7e15a29caef8"
      },
      "execution_count": null,
      "outputs": [
        {
          "output_type": "stream",
          "name": "stdout",
          "text": [
            "[Lemma('cat.n.01.gato'), Lemma('kitty.n.04.gato'), Lemma('tom.n.02.gato'), Lemma('tabby.n.02.gato'), Lemma('big_cat.n.01.gato')]\n"
          ]
        }
      ]
    },
    {
      "cell_type": "code",
      "source": [
        "# Busca sinônimos para \"celular\" e \"computador\"\n",
        "celular_synset = wn.synsets('celular', lang='por')\n",
        "computador_synset = wn.synsets('computador', lang='por')\n",
        "\n",
        "print(celular_synset)\n",
        "print(computador_synset)"
      ],
      "metadata": {
        "colab": {
          "base_uri": "https://localhost:8080/"
        },
        "id": "-PKgZwWiG7uj",
        "outputId": "3caf8100-8907-4680-8256-625919da31d7"
      },
      "execution_count": null,
      "outputs": [
        {
          "output_type": "stream",
          "name": "stdout",
          "text": [
            "[Synset('cellular.a.02'), Synset('cellular_telephone.n.01')]\n",
            "[Synset('calculator.n.02'), Synset('computer.n.01'), Synset('calculator.n.01')]\n"
          ]
        }
      ]
    },
    {
      "cell_type": "code",
      "source": [
        "# Busca de definições para \"cellular\" e \"computer\"\n",
        "syn_arr = wn.synsets('cellular') + wn.synsets('computer')\n",
        "\n",
        "if syn_arr:\n",
        "    for syn in syn_arr:\n",
        "        print(syn.definition())\n",
        "else:\n",
        "    print(\"Nenhuma definição encontrada.\")"
      ],
      "metadata": {
        "colab": {
          "base_uri": "https://localhost:8080/"
        },
        "id": "bmm8FdbhH7cI",
        "outputId": "b16b4bc2-3d37-4aef-9237-e3f5277c7e93"
      },
      "execution_count": null,
      "outputs": [
        {
          "output_type": "stream",
          "name": "stdout",
          "text": [
            "relating to cells\n",
            "characterized by or divided into or containing cells or compartments (the smallest organizational or structural unit of an organism or organization)\n",
            "a machine for performing calculations automatically\n",
            "an expert at calculation (or at operating calculating machines)\n"
          ]
        }
      ]
    }
  ]
}